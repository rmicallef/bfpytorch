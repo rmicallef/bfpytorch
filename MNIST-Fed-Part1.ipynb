{
 "cells": [
  {
   "cell_type": "markdown",
   "metadata": {},
   "source": [
    "# Federated Machine Learning in PyTorch\n",
    "\n",
    "This notebook is a demonstration of _federated learning_, an approach to training a machine learning model by combining the results of training local models on multiple devices.\n",
    "\n",
    "This notebook is part of a series intended to start from the basics to demonstrate federated learning in `pytorch`, then move on to test some of the bounds of what federated learning can (and can't) do.\n",
    "\n",
    "## The Task: Digit Recognition\n",
    "\n",
    "For this demonstration, our task is a classic one: the MNIST digit recognition task. Specifically, we need to determine which number is written in an image of a handwritten digit like this one: \n",
    "\n",
    "![Handwritten digit \"6\"](images/example-6.png)\n",
    "\n",
    "To carry out this task we need a machine learning model to \"look\" at an image and classify it into a number. We also need and image data to train the model. We're going to use a simple convolutional neural network model. For the training images, we're using the well-known MNIST digits dataset.\n",
    "\n",
    "## The Approach to Demonstrate: Federation\n",
    "\n",
    "The federated approach uses several _worker_ devices to train their own local models with independent data. That is, the workers each train their own local model with a subset of the full dataset.\n",
    "\n",
    "Each worker trains its local model for a bit, then sends its incrementally trained local model back to a _manager_. The manager combines the local models from all of the workers into a master model, then sends the new master model back to the workers. This unit of processing is called a _round_. \n",
    "\n",
    "Then another round begins: the workers each train their local copy of the master model (creating another set of individualized local models), send those updated local models back to the manager. Once again the manager combines these individualized local models into a new master model, and pushes the new master model down to the workers. This cycle of rounds repeats as long as is necessary and useful."
   ]
  },
  {
   "cell_type": "markdown",
   "metadata": {},
   "source": [
    "## The Baseline: Standard One-Worker Training\n",
    "\n",
    "Let's first set a baseline so we have a point of reference for our federated approach. To keep the comparisons useful, we'll use the same overall dataset and neural network in the baseline case and federated cases."
   ]
  },
  {
   "cell_type": "markdown",
   "metadata": {},
   "source": [
    "## The Data - Standard MNIST Datasets\n",
    "Here we get plain vanilla MNIST data, a training set and a test set, from the `pytorch` package, again using the same transforms as their example.\n",
    "\n",
    "If you don't already have the MNIST data on your machine, the setting `download=True` in the call to `torchvision.datasets.MNIST()` will fetch it for you."
   ]
  },
  {
   "cell_type": "code",
   "execution_count": 1,
   "metadata": {},
   "outputs": [],
   "source": [
    "import torchvision\n",
    "#import torchvision.datasets as dsets\n",
    "#import torchvision.transforms as transforms\n",
    "\n",
    "data_path = './MNIST-data/raw'\n",
    "\n",
    "trans = torchvision.transforms.Compose([torchvision.transforms.ToTensor(), \n",
    "                                        torchvision.transforms.Normalize((0.1307,), (0.3081,))])\n",
    "\n",
    "train_dset = torchvision.datasets.MNIST(root=data_path, download=True, train=True, transform=trans)\n",
    "test_dset = torchvision.datasets.MNIST(root=data_path, download=True, train=False, transform=trans)"
   ]
  },
  {
   "cell_type": "markdown",
   "metadata": {},
   "source": [
    "Now we have our standard MNIST `Dataset`s: `train_dset` contains 60,000 examples, and `test_dset` contains 10,000 samples."
   ]
  },
  {
   "cell_type": "code",
   "execution_count": 2,
   "metadata": {},
   "outputs": [
    {
     "name": "stdout",
     "output_type": "stream",
     "text": [
      "Train dataset size:  60000\n",
      "Test dataset size :  10000\n"
     ]
    }
   ],
   "source": [
    "print(\"Train dataset size: \", len(train_dset))\n",
    "print(\"Test dataset size : \", len(test_dset))"
   ]
  },
  {
   "cell_type": "markdown",
   "metadata": {},
   "source": [
    "Pytorch uses `DataLoader`s for training. A `DataLoader` contains a `Dataset` and training parameters like `batch_size`. We'll make `DataLoader`s with the parameters used in the [`pytorch` sample code](https://github.com/pytorch/examples/blob/master/mnist/main.py)."
   ]
  },
  {
   "cell_type": "code",
   "execution_count": 3,
   "metadata": {},
   "outputs": [],
   "source": [
    "import torch\n",
    "#from torch.utils.data import DataLoader\n",
    "\n",
    "train_batch_size = 64\n",
    "test_batch_size = 1000\n",
    "\n",
    "# create standard dataloaders using all of the MNIST data\n",
    "train_dl = torch.utils.data.DataLoader(train_dset, batch_size=train_batch_size, shuffle=True)\n",
    "test_dl = torch.utils.data.DataLoader(test_dset, batch_size=test_batch_size, shuffle=True)"
   ]
  },
  {
   "cell_type": "markdown",
   "metadata": {},
   "source": [
    "Let's check out the default data. The out-of-the-box MNIST dataset has roughly equal numbers of samples for each digit, i.e., about as many samples of `4`s as `6`s (though the set is a *little* heavy on `1`s and a *little* light on `5`s)."
   ]
  },
  {
   "cell_type": "code",
   "execution_count": 4,
   "metadata": {},
   "outputs": [
    {
     "data": {
      "application/vnd.jupyter.widget-view+json": {
       "model_id": "94bee7e3e47c4839b8e5bbac19a195c0",
       "version_major": 2,
       "version_minor": 0
      },
      "text/plain": [
       "HBox(children=(IntProgress(value=0, description='Tabulating datasets', max=2, style=ProgressStyle(description_…"
      ]
     },
     "metadata": {},
     "output_type": "display_data"
    },
    {
     "name": "stdout",
     "output_type": "stream",
     "text": [
      "\n"
     ]
    },
    {
     "data": {
      "image/png": "[encoded data removed]",
      "text/plain": [
       "<Figure size 432x288 with 1 Axes>"
      ]
     },
     "metadata": {
      "needs_background": "light"
     },
     "output_type": "display_data"
    }
   ],
   "source": [
    "%matplotlib inline\n",
    "import matplotlib\n",
    "import matplotlib.pyplot as plt\n",
    "from tqdm.notebook import tqdm\n",
    "from tqdm.notebook import trange\n",
    "from collections import Counter\n",
    "import numpy as np\n",
    "\n",
    "def plot_digit_histogram(dls, title=''):\n",
    "    \"\"\"\n",
    "    Takes a list of DataLoaders and creates a histogram of the\n",
    "    occurence of samples in each DataLoader.\n",
    "    \"\"\"\n",
    "    fig, ax = plt.subplots()\n",
    "    ax.set_title(title)\n",
    "    ax.xaxis.set_major_locator(plt.MultipleLocator(1))\n",
    "    ax.set_ylabel('Digit Samples')\n",
    "    ax.set_xlabel('Digit')\n",
    "    \n",
    "    ys = []\n",
    "    for dset in tqdm([dl.dataset for dl in dls], desc='Tabulating datasets'):\n",
    "        _, y = consume_dataset(dset)\n",
    "        ys.append(sorted(Counter(y)))\n",
    "        \n",
    "    H = ax.hist(ys, bins=range(11), histtype='bar', align='left', rwidth=0.8)\n",
    "\n",
    "def consume_dataset(dataset):\n",
    "    \"\"\"\n",
    "    Split a torch Dataset into its component examples and labels.\n",
    "    \"\"\"\n",
    "    data = list(zip(*dataset))\n",
    "    X = torch.stack(data[0])\n",
    "    y = torch.tensor(data[1])\n",
    "    return X, y\n",
    "\n",
    "plot_digit_histogram([train_dl, test_dl], 'MNIST Complete Datasets')"
   ]
  },
  {
   "cell_type": "markdown",
   "metadata": {},
   "source": [
    "The MNIST training data is reasonably well distributed, and the plots above confirm it. The test set counts are smaller by a factor of six, which reflects the relative sizes of the train and test datasets."
   ]
  },
  {
   "cell_type": "markdown",
   "metadata": {},
   "source": [
    "## The Model\n",
    "\n",
    "Now we define the model. We're using the [`pytorch` sample model](https://github.com/pytorch/examples/blob/master/mnist/main.py)."
   ]
  },
  {
   "cell_type": "code",
   "execution_count": 5,
   "metadata": {},
   "outputs": [
    {
     "data": {
      "text/plain": [
       "'\\n\\n# Quick and gets the job done well enough for testing\\nclass Net(nn.Module):\\n    def __init__(self):\\n        super(Net, self).__init__()\\n        self.fc1 = nn.Linear(28*28, 500)\\n        self.fc2 = nn.Linear(500, 256)\\n        self.fc3 = nn.Linear(256, 10)\\n    def forward(self, x):\\n        x = x.view(-1, 28*28)\\n        x = nn.functional.relu(self.fc1(x))\\n        x = nn.functional.relu(self.fc2(x))\\n        x = self.fc3(x)\\n        return x\\n#'"
      ]
     },
     "execution_count": 5,
     "metadata": {},
     "output_type": "execute_result"
    }
   ],
   "source": [
    "import torch.nn as nn\n",
    "import torch.nn.functional as F\n",
    "\n",
    "\n",
    "# THIS IS THE OFFICIAL PYTORCH EXAMPLE, BUT IT'S SLOWER THAN THE OTHER MODEL, SO FOR NOW, IT'S FAST BEFORE TIDY\n",
    "\n",
    "class Net(nn.Module):\n",
    "    def __init__(self):\n",
    "        super(Net, self).__init__()\n",
    "        self.conv1 = nn.Conv2d(1, 32, 3, 1)\n",
    "        self.conv2 = nn.Conv2d(32, 64, 3, 1)\n",
    "        self.dropout1 = nn.Dropout2d(0.25)\n",
    "        self.dropout2 = nn.Dropout2d(0.5)\n",
    "        self.fc1 = nn.Linear(9216, 128)\n",
    "        self.fc2 = nn.Linear(128, 10)\n",
    "\n",
    "    def forward(self, x):\n",
    "        x = self.conv1(x)\n",
    "        x = F.relu(x)\n",
    "        x = self.conv2(x)\n",
    "        x = F.max_pool2d(x, 2)\n",
    "        x = self.dropout1(x)\n",
    "        x = torch.flatten(x, 1)\n",
    "        x = self.fc1(x)\n",
    "        x = F.relu(x)\n",
    "        x = self.dropout2(x)\n",
    "        x = self.fc2(x)\n",
    "        output = F.log_softmax(x, dim=1)\n",
    "        return output\n",
    "'''\n",
    "\n",
    "# Quick and gets the job done well enough for testing\n",
    "class Net(nn.Module):\n",
    "    def __init__(self):\n",
    "        super(Net, self).__init__()\n",
    "        self.fc1 = nn.Linear(28*28, 500)\n",
    "        self.fc2 = nn.Linear(500, 256)\n",
    "        self.fc3 = nn.Linear(256, 10)\n",
    "    def forward(self, x):\n",
    "        x = x.view(-1, 28*28)\n",
    "        x = nn.functional.relu(self.fc1(x))\n",
    "        x = nn.functional.relu(self.fc2(x))\n",
    "        x = self.fc3(x)\n",
    "        return x\n",
    "#'''"
   ]
  },
  {
   "cell_type": "markdown",
   "metadata": {},
   "source": [
    "## Baseline: The Non-Federated Approach\n",
    "\n",
    "To show baselines of non-federated learning, we'll train a model the traditional way, i.e., using just one worker. (Technically we'll using our federated code, but with one worker that's equivalent to non-federated learning.)\n",
    "\n",
    "Let's get some basic housekeeping out of the way. These functions are convenient wrappers to simpulate systems to a certain endpoint (target accuracy or number of rounds) and show their output. (For every example in this post we use the full 10,000 sample MNIST test set to evaluate our models.)"
   ]
  },
  {
   "cell_type": "markdown",
   "metadata": {},
   "source": [
    "### The Perfect World: All the Data in One Place\n",
    "\n",
    "Now we can simulate an ideal non-federated situation where all of our data is in one place to train a master model. To do this we'll train a model using all of the data in the MNIST training set, 60,000 examples."
   ]
  },
  {
   "cell_type": "code",
   "execution_count": 6,
   "metadata": {},
   "outputs": [
    {
     "name": "stdout",
     "output_type": "stream",
     "text": [
      "Dataset size:  60000\n"
     ]
    }
   ],
   "source": [
    "print(\"Dataset size: \", len(train_dl.dataset))"
   ]
  },
  {
   "cell_type": "markdown",
   "metadata": {},
   "source": [
    "Remember, we're simulating *non-federated* learning by using a \"federated\" system with only one worker. These are functionally equivalent, but we'll use the federated code to make the outputs easy to compare."
   ]
  },
  {
   "cell_type": "code",
   "execution_count": 7,
   "metadata": {},
   "outputs": [],
   "source": [
    "#import torch.optim\n",
    "\n",
    "class FederatedWorker:\n",
    "\n",
    "    def __init__(\n",
    "        self, name, manager, dataloader, loss_fn, n_epochs=1, lr=1e-2,\n",
    "        momentum=0.5, participant=True, verbose=False\n",
    "    ):\n",
    "        self.name = name\n",
    "        self.manager = manager\n",
    "        self.dataloader = dataloader\n",
    "        self.n_epochs = n_epochs\n",
    "        self.loss_fn = loss_fn\n",
    "        self.participant = participant\n",
    "        self.model = manager.copy_model()\n",
    "        self.n_samples = len(self.dataloader.dataset)\n",
    "        self.history = {\"train_loss\": [], \"test_loss\": [], \"test_acc\": []}\n",
    "        self.lr = lr\n",
    "        self.momentum = momentum\n",
    "        self.verbose = verbose\n",
    "\n",
    "    def train(self):\n",
    "        \"\"\"\n",
    "        Train for n_epochs, then return the state dictionary of the model and\n",
    "        the amount of training data used.\n",
    "        \"\"\"\n",
    "        optimizer = torch.optim.SGD(self.model.parameters(), lr=self.lr, \n",
    "                                    momentum=self.momentum)\n",
    "        self.model.train(True)\n",
    "        for epoch in range(self.n_epochs):\n",
    "            for i, (x, y) in enumerate(self.dataloader):\n",
    "                optimizer.zero_grad()\n",
    "                ypred = self.model(x)\n",
    "                train_loss = self.loss_fn(ypred, y)\n",
    "                train_loss.backward()\n",
    "                optimizer.step()\n",
    "                self.history[\"train_loss\"].append(train_loss.item())\n",
    "\n",
    "        loss_accuracy = self.manager.evaluate_model(self.model)\n",
    "        self.history[\"test_loss\"].append(loss_accuracy[0])\n",
    "        self.history[\"test_acc\"].append(loss_accuracy[1])\n",
    "        \n",
    "        if(self.verbose):\n",
    "            print('\\twrkr {}\\t\\tloss: {:.4f}\\tacc: {:.2%}'.format(\n",
    "                self.name, self.history[\"test_loss\"][-1], self.history[\"test_acc\"][-1] / 100,))\n",
    "\n",
    "        return {\n",
    "            \"state_dict\": self.model.state_dict(),\n",
    "            \"n_samples\": self.n_samples\n",
    "        }"
   ]
  },
  {
   "cell_type": "code",
   "execution_count": 8,
   "metadata": {},
   "outputs": [],
   "source": [
    "class FederatedManager:\n",
    "\n",
    "    def __init__(self, \n",
    "                 name,\n",
    "                 dataloaders, \n",
    "                 test,\n",
    "                 make_model,\n",
    "                 loss_fn=nn.CrossEntropyLoss(), \n",
    "                 n_epochs=1, \n",
    "                 lr=1e-2, \n",
    "                 verbose=False, \n",
    "                 *args, **kwargs):\n",
    "        \n",
    "        self.dataloaders = dataloaders\n",
    "        self.n_workers = len(dataloaders)\n",
    "        self.n_epochs = n_epochs\n",
    "        self.lr = lr\n",
    "        self.verbose = verbose\n",
    "        self.name = name\n",
    "        self.history = {\"test_loss\": [], \"test_acc\": []}\n",
    "        self.make_model = make_model\n",
    "        self.model = self.make_model()\n",
    "        self.model.train(False)\n",
    "        self.loss_fn = loss_fn\n",
    "        self.Xtest, self.ytest = consume_dataset(test)\n",
    "        self.workers = []\n",
    "        for i, dl in enumerate(dataloaders):\n",
    "            self.workers.append(FederatedWorker(i, \n",
    "                                                self, \n",
    "                                                dl, \n",
    "                                                loss_fn,\n",
    "                                                n_epochs=n_epochs, \n",
    "                                                lr=lr, \n",
    "                                                verbose=verbose,\n",
    "                                                *args,\n",
    "                                                **kwargs))\n",
    "        self.worker_loss_histories = [[] for _ in self.workers]\n",
    "\n",
    "    def round(self):\n",
    "        \"\"\"\n",
    "        Do a round of federated learning:\n",
    "         - instruct each worker to train and return its model\n",
    "         - replace the server model the weighted average of the worker models\n",
    "         - replace the worker models with the server model\n",
    "        Workers with `participant=False` train but are not included in the\n",
    "        weighted average and do not receive a copy of the server model.\n",
    "        \"\"\"\n",
    "        updates = [w.train() for w in self.workers]\n",
    "        self.fedavg(\n",
    "            [u for u, w in zip(updates, self.workers) if w.participant]\n",
    "        )\n",
    "        self.push_model(w for w in self.workers if w.participant)\n",
    "        self.record_loss()\n",
    "\n",
    "    def fedavg(self, updates):\n",
    "        \"\"\"\n",
    "        Replace the manager model with the weighted average of the node models.\n",
    "        \"\"\"\n",
    "        N = sum(u[\"n_samples\"] for u in updates)\n",
    "        for key, value in self.model.state_dict().items():\n",
    "            weight_sum = (\n",
    "                u[\"state_dict\"][key] * u[\"n_samples\"] for u in updates\n",
    "            )\n",
    "            value[:] = sum(weight_sum) / N\n",
    "\n",
    "    def push_model(self, workers):\n",
    "        \"\"\"\n",
    "        Push manager model to a list of workers.\n",
    "        \"\"\"\n",
    "        for worker in workers:\n",
    "            worker.model = self.copy_model()\n",
    "\n",
    "    def copy_model(self):\n",
    "        \"\"\"\n",
    "        Return a copy of the current manager model.\n",
    "        \"\"\"\n",
    "        model_copy = self.make_model()\n",
    "        model_copy.load_state_dict(self.model.state_dict())\n",
    "        return model_copy\n",
    "\n",
    "    def evaluate_model(self, model=None):\n",
    "        \"\"\"\n",
    "        Compute the loss and accuracy of model on test set.\n",
    "        \"\"\"\n",
    "        model = model or self.model\n",
    "        was_training = model.training\n",
    "        model.train(False)\n",
    "        with torch.no_grad():\n",
    "            output = model(self.Xtest)\n",
    "            loss = self.loss_fn(output, self.ytest).item()\n",
    "            pred = output.argmax(dim=1, keepdim=True)\n",
    "            correct = pred.eq(self.ytest.view_as(pred)).sum().item()\n",
    "        model.train(was_training)\n",
    "        return loss, 100. * correct / len(self.ytest)\n",
    "\n",
    "    def record_loss(self):\n",
    "        \"\"\"\n",
    "        Record loss of manager model and all worker models on test set.\n",
    "        \"\"\"\n",
    "        loss_accuracy = self.evaluate_model()\n",
    "        self.history[\"test_loss\"].append(loss_accuracy[0])\n",
    "        self.history[\"test_acc\"].append(loss_accuracy[1])"
   ]
  },
  {
   "cell_type": "code",
   "execution_count": 9,
   "metadata": {},
   "outputs": [],
   "source": [
    "def run_mgr(mgr, n_rounds, target_acc=None):\n",
    "    \n",
    "    target_met = False;\n",
    "    \n",
    "    if (target_acc):\n",
    "        print('{} manager training with {} worker(s) for up to {} rounds or {:.2%} accuracy.'.format(\n",
    "                mgr.name, mgr.n_workers, n_rounds, target_acc / 100,))\n",
    "    else:\n",
    "        print('{} manager training with {} worker(s) for {} rounds.'.format(\n",
    "                mgr.name, mgr.n_workers, n_rounds,))\n",
    "\n",
    "    for i in trange(n_rounds, desc='Rounds'):\n",
    "        if(mgr.verbose):\n",
    "            print('Round', i)\n",
    "        mgr.round()\n",
    "        if(mgr.verbose):\n",
    "            print('\\tcombined\\tloss: {:.4f}\\tacc: {:.2%}\\n'.format(\n",
    "                mgr.history['test_loss'][-1], mgr.history['test_acc'][-1] / 100,))\n",
    "            \n",
    "        if(target_acc and (mgr.history['test_acc'][-1] >= target_acc)):\n",
    "            target_met = True\n",
    "            break;\n",
    "\n",
    "    if(target_met):\n",
    "        print('{} manager stopped: met accuracy target of {:.2%} after {} rounds. (Test accuracy {:.2%} and loss {:.4f}.)'.format(\n",
    "                mgr.name, target_acc / 100, len(mgr.history['test_acc']), mgr.history['test_acc'][-1] / 100, mgr.history['test_loss'][-1],))\n",
    "    else:\n",
    "        print('{} manager trained {} rounds. (Test accuracy {:.2%} and loss {:.4f}.)'.format(\n",
    "                mgr.name, len(mgr.history['test_acc']), mgr.history['test_acc'][-1] / 100, mgr.history['test_loss'][-1],))\n",
    "\n",
    "def plot_mgr(mgrs, plot_workers=False):\n",
    "    \n",
    "    if not isinstance(mgrs, list):\n",
    "        mgrs = [mgrs]\n",
    "    \n",
    "    fig, ax = plt.subplots()\n",
    "    for m in mgrs:\n",
    "        ax.plot(m.history['test_loss'], label=m.name)\n",
    "        if(plot_workers):\n",
    "            for w in m.workers:\n",
    "                ax.plot(w.history['test_loss'], label=(m.name, 'Worker ' + str(w.name)))\n",
    "    ax.set_xlabel(\"Round\")\n",
    "    ax.set_ylabel(\"Loss\")\n",
    "    ax.legend();\n",
    "    \n",
    "    fig, ax = plt.subplots()\n",
    "    for m in mgrs:\n",
    "        ax.plot(m.history['test_acc'], label=m.name)\n",
    "        if(plot_workers):\n",
    "            for w in m.workers:\n",
    "                ax.plot(w.history['test_acc'], label=(m.name, 'worker ' + str(w.name)))\n",
    "    ax.set_xlabel(\"Round\")\n",
    "    ax.set_ylabel(\"Accuracy\")\n",
    "    ax.legend();"
   ]
  },
  {
   "cell_type": "code",
   "execution_count": 10,
   "metadata": {},
   "outputs": [
    {
     "name": "stdout",
     "output_type": "stream",
     "text": [
      "Non-Federated Full Dataset manager training with 1 worker(s) for up to 50 rounds or 98.00% accuracy.\n"
     ]
    },
    {
     "data": {
      "application/vnd.jupyter.widget-view+json": {
       "model_id": "66f3a4610ab949219ef2925254310e83",
       "version_major": 2,
       "version_minor": 0
      },
      "text/plain": [
       "HBox(children=(IntProgress(value=0, description='Rounds', max=50, style=ProgressStyle(description_width='initi…"
      ]
     },
     "metadata": {},
     "output_type": "display_data"
    },
    {
     "name": "stdout",
     "output_type": "stream",
     "text": [
      "Non-Federated Full Dataset manager stopped: met accuracy target of 98.00% after 3 rounds. (Test accuracy 98.15% and loss 0.0563.)\n"
     ]
    },
    {
     "data": {
      "image/png": "[encoded data removed]",
      "text/plain": [
       "<Figure size 432x288 with 1 Axes>"
      ]
     },
     "metadata": {
      "needs_background": "light"
     },
     "output_type": "display_data"
    },
    {
     "data": {
      "image/png": "[encoded data removed]",
      "text/plain": [
       "<Figure size 432x288 with 1 Axes>"
      ]
     },
     "metadata": {
      "needs_background": "light"
     },
     "output_type": "display_data"
    }
   ],
   "source": [
    "# default training targets\n",
    "default_n_rounds = 50\n",
    "default_target_acc = 98.0\n",
    "\n",
    "# make a \"federated\" manager with one worker - effectively a non-federated model - and the whole MNIST training set.\n",
    "nonfed_alldata_mgr = FederatedManager('Non-Federated Full Dataset', [train_dl], test_dset, Net)\n",
    "\n",
    "run_mgr(nonfed_alldata_mgr, default_n_rounds, target_acc=default_target_acc)\n",
    "\n",
    "plot_mgr(nonfed_alldata_mgr)"
   ]
  },
  {
   "cell_type": "markdown",
   "metadata": {},
   "source": [
    "So there's our baseline ideal-world situation, a non-federated model trained with all 60,000 data points in front of it."
   ]
  },
  {
   "cell_type": "markdown",
   "metadata": {},
   "source": [
    "# The Federated Approach\n",
    "\n",
    "Now that we have a baseline using the traditional, i.e., non-federated, approach, let's see what federation gets us (and doesn't). We'll do the same MNIST task using federation."
   ]
  },
  {
   "cell_type": "markdown",
   "metadata": {},
   "source": [
    "## Our Federation Code\n",
    "\n",
    "The federation code we're using here is a *simulation* of a federated network. It's not *true* federated learning because it uses one machine to simulate several indepedent machines. As a result of being on one machine, it does not have to deal with network communication or the timing problems inherent to real parallelism. But in our toy example the \"local\" models are independent in that they do not share data nor local models (except to the extent their models are combined) and that is sufficient to demonstrate the principles underlying federated learning.\n",
    "\n",
    "Our library includes a `FederatedManager` class and a `FederatedWorker` class. A `FederatedManager` contains a master prediction model and creates several independent `FederatedWorker` instances. Each `FederatedWorker` has its own local model and a distinct subset of the MNIST data."
   ]
  },
  {
   "cell_type": "markdown",
   "metadata": {},
   "source": [
    "In each `round` of federated learning, each `FederatedWorker` trains its local model using only the data that that worker recieves, and then sends its trained local model to the `FederatedManager`. The `FederatedManager` combines the models into an updated master model and pushes that new master model down to each `FederatedWorker`. There are a number of algorithms available for combining local models. Our library uses [federated averaging](https://arxiv.org/abs/1602.05629), a very simple element-by-element average of the model's weights.\n",
    "\n",
    "```\n",
    "N = sum(u[\"n_samples\"] for u in updates)\n",
    "        for key, value in self.model.state_dict().items():\n",
    "            weight_sum = (\n",
    "                u[\"state_dict\"][key] * u[\"n_samples\"] for u in updates\n",
    "            )\n",
    "            value[:] = sum(weight_sum) / N\n",
    "```\n",
    "\n",
    "Thats the whole combination function, an item-wise average of the model weights."
   ]
  },
  {
   "cell_type": "markdown",
   "metadata": {},
   "source": [
    "## Splitting the Deck Into Piles\n",
    "\n",
    "To illustrate federated learning we use several workers, each representing a remote device. We'll use ten workers here, and for now, we'll assume each of our ten workers has roughly equal types and quantities of data to the other nine (to do this we use `p=0` to reflect roughly even distribution of digit samples for any one worker)."
   ]
  },
  {
   "cell_type": "code",
   "execution_count": 11,
   "metadata": {},
   "outputs": [],
   "source": [
    "#from torch.utils.data import Subset\n",
    "\n",
    "def make_fed_dloaders(dset, p=None, batch_size=64, shuffle=True):\n",
    "    \n",
    "    return [torch.utils.data.DataLoader(dset, batch_size, shuffle) for dset in make_fed_dsets(dset, p=p)]\n",
    "    \n",
    "def make_fed_dsets(dset, p=None):\n",
    "    _, y = consume_dataset(dset)\n",
    "    classes = set(y.numpy())\n",
    "    n_classes = len(classes)\n",
    "    idx_dset = index_to_dataset(y, p=p)\n",
    "    dset_idx = [np.where(idx_dset == di)[0] for di in range(n_classes)]\n",
    "    return [torch.utils.data.Subset(dset, di) for di in dset_idx]\n",
    "\n",
    "def index_to_dataset(y, p=None):\n",
    "    classes = set(y.numpy())\n",
    "    n_classes = len(classes)\n",
    "    p = p or 1/n_classes\n",
    "    pnot = (1-p)/(n_classes-1)\n",
    "    ps = np.full((n_classes, n_classes), pnot)\n",
    "    np.fill_diagonal(ps, p)\n",
    "    return np.array([np.random.choice(10, p=ps[yi]) for yi in y])\n",
    "\n",
    "def check_dsets(dsets):\n",
    "    for dset in dsets:\n",
    "        _, y = consume_dataset(dset)\n",
    "        print(Counter(y.numpy()))\n",
    "\n",
    "def eval_new_mgr(name, train_dset, test_dset, p=0.0, n_rounds=50, target_acc=None, net=Net):\n",
    "    dls = make_fed_dloaders(train_dset, p=p)\n",
    "    mgr = FederatedManager(name, dls, test_dset, net)\n",
    "    run_mgr(mgr, n_rounds, target_acc)\n",
    "    plot_mgr(mgr)\n",
    "    return mgr"
   ]
  },
  {
   "cell_type": "code",
   "execution_count": 12,
   "metadata": {},
   "outputs": [
    {
     "name": "stdout",
     "output_type": "stream",
     "text": [
      "Counter({1: 699, 7: 663, 9: 605, 6: 594, 2: 593, 0: 588, 4: 584, 8: 582, 3: 574, 5: 501})\n",
      "Counter({1: 656, 7: 655, 8: 621, 9: 619, 0: 611, 4: 597, 6: 597, 3: 593, 2: 587, 5: 510})\n",
      "Counter({1: 679, 7: 640, 2: 625, 8: 604, 9: 600, 6: 583, 3: 575, 0: 560, 4: 556, 5: 524})\n",
      "Counter({1: 669, 7: 619, 2: 617, 6: 616, 3: 611, 0: 569, 9: 568, 8: 559, 5: 554, 4: 551})\n",
      "Counter({1: 685, 3: 657, 0: 618, 9: 614, 8: 613, 2: 610, 7: 597, 6: 592, 4: 580, 5: 532})\n",
      "Counter({1: 696, 2: 631, 3: 627, 4: 595, 9: 591, 7: 591, 6: 589, 8: 572, 0: 556, 5: 543})\n",
      "Counter({1: 655, 3: 637, 7: 628, 4: 620, 0: 601, 6: 588, 9: 576, 5: 561, 2: 551, 8: 537})\n",
      "Counter({1: 656, 7: 644, 2: 642, 4: 619, 0: 618, 9: 602, 3: 599, 6: 588, 8: 579, 5: 566})\n",
      "Counter({1: 669, 7: 635, 3: 617, 6: 606, 0: 590, 4: 572, 8: 571, 9: 564, 5: 548, 2: 523})\n",
      "Counter({1: 678, 3: 641, 8: 613, 0: 612, 9: 610, 7: 593, 5: 582, 2: 579, 4: 568, 6: 565})\n"
     ]
    }
   ],
   "source": [
    "# split the whole 60,000 sample MNIST training set into ten torch Datasets in ten torch DataLoaders\n",
    "fed_equal_dls = make_fed_dloaders(train_dset)\n",
    "\n",
    "# show the sample counts for each of the ten DataLoaders\n",
    "check_dsets([dl.dataset for dl in fed_equal_dls])"
   ]
  },
  {
   "cell_type": "code",
   "execution_count": 13,
   "metadata": {},
   "outputs": [
    {
     "data": {
      "application/vnd.jupyter.widget-view+json": {
       "model_id": "8d58be47008d4f348cc763b2a7266b9e",
       "version_major": 2,
       "version_minor": 0
      },
      "text/plain": [
       "HBox(children=(IntProgress(value=0, description='Tabulating datasets', max=10, style=ProgressStyle(description…"
      ]
     },
     "metadata": {},
     "output_type": "display_data"
    },
    {
     "name": "stdout",
     "output_type": "stream",
     "text": [
      "\n"
     ]
    },
    {
     "data": {
      "image/png": "[encoded data removed]",
      "text/plain": [
       "<Figure size 432x288 with 1 Axes>"
      ]
     },
     "metadata": {
      "needs_background": "light"
     },
     "output_type": "display_data"
    }
   ],
   "source": [
    "plot_digit_histogram(fed_equal_dls, 'Digit Counts per DataLoader')"
   ]
  },
  {
   "cell_type": "markdown",
   "metadata": {},
   "source": [
    "So we can see that each of our ten workers has about the same number of each digit, i.e., the digit `5` is spread pretty evenly across the workers, and is probably lower in number for any given worker than the digit `1`, `1` being the most frequent digit in the MNIST set.\n",
    "\n",
    "Let's train the federated system and compare it to our baseline case."
   ]
  },
  {
   "cell_type": "code",
   "execution_count": 14,
   "metadata": {},
   "outputs": [
    {
     "name": "stdout",
     "output_type": "stream",
     "text": [
      "Federated Unbiased manager training with 10 worker(s) for up to 50 rounds or 98.00% accuracy.\n"
     ]
    },
    {
     "data": {
      "application/vnd.jupyter.widget-view+json": {
       "model_id": "f4f50d4aa1f74ccf8a5faeae8b906f17",
       "version_major": 2,
       "version_minor": 0
      },
      "text/plain": [
       "HBox(children=(IntProgress(value=0, description='Rounds', max=50, style=ProgressStyle(description_width='initi…"
      ]
     },
     "metadata": {},
     "output_type": "display_data"
    },
    {
     "name": "stdout",
     "output_type": "stream",
     "text": [
      "Federated Unbiased manager stopped: met accuracy target of 98.00% after 30 rounds. (Test accuracy 98.00% and loss 0.0639.)\n"
     ]
    }
   ],
   "source": [
    "fed_equal_mgr = FederatedManager('Federated Unbiased', fed_equal_dls, test_dset, Net)\n",
    "\n",
    "run_mgr(fed_equal_mgr, default_n_rounds, default_target_acc)"
   ]
  },
  {
   "cell_type": "code",
   "execution_count": 15,
   "metadata": {},
   "outputs": [
    {
     "data": {
      "image/png": "[encoded data removed]",
      "text/plain": [
       "<Figure size 432x288 with 1 Axes>"
      ]
     },
     "metadata": {
      "needs_background": "light"
     },
     "output_type": "display_data"
    },
    {
     "data": {
      "image/png": "[encoded data removed]",
      "text/plain": [
       "<Figure size 432x288 with 1 Axes>"
      ]
     },
     "metadata": {
      "needs_background": "light"
     },
     "output_type": "display_data"
    }
   ],
   "source": [
    "plot_mgr([nonfed_alldata_mgr, fed_equal_mgr])"
   ]
  },
  {
   "cell_type": "markdown",
   "metadata": {},
   "source": [
    "The federated model converges, though a little slower than the non-federated version. But in the federated model, we don't have to move any data to a central system.\n",
    "\n",
    "So we know that there's a performance cost (slower convergence and possibly lower accuracy) to using federation compared to moving all of the data to a central model. But this comparison isn't quite apples to apples. If moving all of the data isn't possible or desirable, the options are federation or just using the local data for each model. So let's compare those."
   ]
  },
  {
   "cell_type": "code",
   "execution_count": 16,
   "metadata": {},
   "outputs": [
    {
     "name": "stdout",
     "output_type": "stream",
     "text": [
      "Non-Federated Limited Unbiased manager training with 1 worker(s) for up to 50 rounds or 98.00% accuracy.\n"
     ]
    },
    {
     "data": {
      "application/vnd.jupyter.widget-view+json": {
       "model_id": "62ac4120cdd14fbdb3e27cb89f765999",
       "version_major": 2,
       "version_minor": 0
      },
      "text/plain": [
       "HBox(children=(IntProgress(value=0, description='Rounds', max=50, style=ProgressStyle(description_width='initi…"
      ]
     },
     "metadata": {},
     "output_type": "display_data"
    },
    {
     "name": "stdout",
     "output_type": "stream",
     "text": [
      "\n",
      "Non-Federated Limited Unbiased manager trained 50 rounds. (Test accuracy 97.39% and loss 0.0990.)\n"
     ]
    }
   ],
   "source": [
    "nonfed_subset_mgr = FederatedManager('Non-Federated Limited Unbiased', [make_fed_dloaders(train_dset, p=0.0)[7]], test_dset, Net)\n",
    "run_mgr(nonfed_subset_mgr, default_n_rounds, default_target_acc)"
   ]
  },
  {
   "cell_type": "code",
   "execution_count": 17,
   "metadata": {},
   "outputs": [
    {
     "data": {
      "image/png": "[encoded data removed]",
      "text/plain": [
       "<Figure size 432x288 with 1 Axes>"
      ]
     },
     "metadata": {
      "needs_background": "light"
     },
     "output_type": "display_data"
    },
    {
     "data": {
      "image/png": "[encoded data removed]",
      "text/plain": [
       "<Figure size 432x288 with 1 Axes>"
      ]
     },
     "metadata": {
      "needs_background": "light"
     },
     "output_type": "display_data"
    }
   ],
   "source": [
    "plot_mgr([fed_equal_mgr, nonfed_subset_mgr])"
   ]
  },
  {
   "cell_type": "markdown",
   "metadata": {},
   "source": [
    "The federated manager, which uses all the data, but doesn't have all the data in one place, matches or outperforms the non-federated model. In other words, performance improves with the additional signal made available by federation, and without the cost and risk of data transfer from the worker devices.\n",
    "\n",
    "Of course, this isn't a guarantee in every case, but it shows the mechanics and potential of federation."
   ]
  },
  {
   "cell_type": "markdown",
   "metadata": {},
   "source": [
    "### Non-Federated Learning With Limited Data\n",
    "\n",
    "In the real world, independent devices won't have all the data in front of them, and there will be bias in the data they see. E.g., a smartphone won't have access to other user's data to train a predictive text model. So let's see what happens when we simulate just one device with less data and some skew in that limited data.\n",
    "\n",
    "The code below slices up the standard MNIST dataset and samples it without replacement to make ten subsets, then makes a dataloader for each of the ten subsets. The parameter `p` reflects the amount of skew in the dataset. There's also a dataset inspection function and an eval function for doing a whole simulation on one line."
   ]
  },
  {
   "cell_type": "markdown",
   "metadata": {},
   "source": [
    "We'll make a sample dataset with about 6,000 training samples, one tenth of the total MNIST training set. We'll arbitrarily choose the digit `4` for our overweighted digit, and a relatively mild skew value of `p=0.25`. "
   ]
  },
  {
   "cell_type": "code",
   "execution_count": 18,
   "metadata": {},
   "outputs": [
    {
     "data": {
      "application/vnd.jupyter.widget-view+json": {
       "model_id": "cc00aad91b8c44eb87d7b3f7c704f883",
       "version_major": 2,
       "version_minor": 0
      },
      "text/plain": [
       "HBox(children=(IntProgress(value=0, description='Tabulating datasets', max=1, style=ProgressStyle(description_…"
      ]
     },
     "metadata": {},
     "output_type": "display_data"
    },
    {
     "name": "stdout",
     "output_type": "stream",
     "text": [
      "\n",
      "Dataset size:  5900\n"
     ]
    },
    {
     "data": {
      "image/png": "[encoded data removed]",
      "text/plain": [
       "<Figure size 432x288 with 1 Axes>"
      ]
     },
     "metadata": {
      "needs_background": "light"
     },
     "output_type": "display_data"
    }
   ],
   "source": [
    "# Make a set of DataLoaders and use the one that is skewed toward 4s\n",
    "\n",
    "nonfed_four_dl = make_fed_dloaders(train_dset, p=0.25)[4]\n",
    "\n",
    "plot_digit_histogram([nonfed_four_dl], 'MNIST Four-Heavy Dataset')\n",
    "\n",
    "print(\"Dataset size: \", len(nonfed_four_dl.dataset))"
   ]
  },
  {
   "cell_type": "markdown",
   "metadata": {},
   "source": [
    "Here's what our dataset looks like. About a tenth of the samples and heavy on the 4s.\n",
    "\n",
    "Now let's see what happens when we train with this subset. As before, we won't use any federation here, just less data and a little bias in the data we do have."
   ]
  },
  {
   "cell_type": "code",
   "execution_count": 19,
   "metadata": {},
   "outputs": [
    {
     "name": "stdout",
     "output_type": "stream",
     "text": [
      "Non-Federated Fours Biased 0.25 manager training with 1 worker(s) for up to 50 rounds or 98.00% accuracy.\n"
     ]
    },
    {
     "data": {
      "application/vnd.jupyter.widget-view+json": {
       "model_id": "f9f4a4cb861b4f5eb9851960b3f3537f",
       "version_major": 2,
       "version_minor": 0
      },
      "text/plain": [
       "HBox(children=(IntProgress(value=0, description='Rounds', max=50, style=ProgressStyle(description_width='initi…"
      ]
     },
     "metadata": {},
     "output_type": "display_data"
    },
    {
     "name": "stdout",
     "output_type": "stream",
     "text": [
      "\n",
      "Non-Federated Fours Biased 0.25 manager trained 50 rounds. (Test accuracy 97.15% and loss 0.1078.)\n"
     ]
    },
    {
     "data": {
      "image/png": "[encoded data removed]",
      "text/plain": [
       "<Figure size 432x288 with 1 Axes>"
      ]
     },
     "metadata": {
      "needs_background": "light"
     },
     "output_type": "display_data"
    },
    {
     "data": {
      "image/png": "[encoded data removed]",
      "text/plain": [
       "<Figure size 432x288 with 1 Axes>"
      ]
     },
     "metadata": {
      "needs_background": "light"
     },
     "output_type": "display_data"
    }
   ],
   "source": [
    "nonfed_four_mgr = FederatedManager('Non-Federated Fours Biased 0.25', [nonfed_four_dl], test_dset, Net)\n",
    "run_mgr(nonfed_four_mgr, default_n_rounds, default_target_acc)\n",
    "plot_mgr([nonfed_alldata_mgr, nonfed_four_mgr])"
   ]
  },
  {
   "cell_type": "markdown",
   "metadata": {},
   "source": [
    "We should see that the limited-data model converges more slowly than the full data model. (I say \"should\" because these are randomly sampled datasets we're building - there's always a very small chance we'll get an unlucky draw.)"
   ]
  },
  {
   "cell_type": "markdown",
   "metadata": {},
   "source": [
    "# Federation with Varying Example Distributions Per Worker\n",
    "\n",
    "Now we've seen federation work with a dataset scattered across a number of workers. And we saw that its performance isn't substantially worse than the non-federated approach, while decentralizing the work of training and limiting the amount of data transfered between the main manager and the workers.\n",
    "\n",
    "But what if our workers don't have access to equal amounts of data? Let's explore that.\n",
    "\n",
    "## Spliting the Decks into Uneven Piles\n",
    "\n",
    "To test this, we need workers to have access to varying numbers of examples across training classes. So let's make a set of dataloaders that will give each worker more examples of a given digit than the other workers.\n",
    "\n",
    "The parameter `p` sets the degree of bias toward the overweighted digit in each dataloader. Specifically, `p` is the odds of an example from a specific class being selected for a worker from the base dataset. We'll use `0.15` for `p` for now.\n",
    "\n",
    "This results in a set of stacked dataloaders. The number of dataloaders is equal to the number of classes. Each dataloader is overweighted to exactly one digit class."
   ]
  },
  {
   "cell_type": "code",
   "execution_count": 20,
   "metadata": {},
   "outputs": [
    {
     "name": "stdout",
     "output_type": "stream",
     "text": [
      "[5892, 6228, 6007, 6056, 5953, 5786, 5903, 6119, 5964, 6092]\n",
      "60000\n"
     ]
    }
   ],
   "source": [
    "fed_weighted_dls = make_fed_dloaders(train_dset, p=0.4)\n",
    "worker_example_counts = [len(dl.dataset) for dl in fed_weighted_dls]\n",
    "\n",
    "print(worker_example_counts)\n",
    "print(sum(worker_example_counts))"
   ]
  },
  {
   "cell_type": "markdown",
   "metadata": {},
   "source": [
    "Note that the dataloaders still give each worker roughly the same *total number* of examples. It's the number of examples *per class* that varies. And each of the 60,000 examples in the MNIST training dataset is allocated (without replacement) to a worker, so the total number of examples across workers is 60,000.\n",
    "\n",
    "Let's look at how the digit examples are allocated within each worker."
   ]
  },
  {
   "cell_type": "code",
   "execution_count": 21,
   "metadata": {},
   "outputs": [
    {
     "data": {
      "application/vnd.jupyter.widget-view+json": {
       "model_id": "ef872375009d478f862bbb8e54a53d09",
       "version_major": 2,
       "version_minor": 0
      },
      "text/plain": [
       "HBox(children=(IntProgress(value=0, description='Tabulating datasets', max=10, style=ProgressStyle(description…"
      ]
     },
     "metadata": {},
     "output_type": "display_data"
    },
    {
     "name": "stdout",
     "output_type": "stream",
     "text": [
      "\n"
     ]
    },
    {
     "data": {
      "image/png": "[encoded data removed]",
      "text/plain": [
       "<Figure size 432x288 with 1 Axes>"
      ]
     },
     "metadata": {
      "needs_background": "light"
     },
     "output_type": "display_data"
    }
   ],
   "source": [
    "plot_digit_histogram(fed_weighted_dls)"
   ]
  },
  {
   "cell_type": "markdown",
   "metadata": {},
   "source": [
    "We see here that worker 4, shown in purple, has more examples of the digit `4` than other workers. Likewise, worker 6, shown in pink, has more examples of the digit `6` than other workers.\n",
    "\n",
    "Here are the actual counts from the dataloaders for workers 4 and 6. You can see that the most frequent examples in those dataloaders are `4` and `6`, respectively."
   ]
  },
  {
   "cell_type": "code",
   "execution_count": 22,
   "metadata": {
    "scrolled": true
   },
   "outputs": [
    {
     "name": "stdout",
     "output_type": "stream",
     "text": [
      "Counter({4: 2351, 1: 460, 3: 426, 7: 420, 2: 410, 5: 384, 8: 382, 6: 382, 0: 375, 9: 363})\n",
      "Counter({6: 2340, 1: 439, 7: 413, 3: 412, 0: 406, 9: 397, 2: 387, 4: 377, 8: 376, 5: 356})\n"
     ]
    }
   ],
   "source": [
    "check_dsets([fed_weighted_dls[4].dataset])\n",
    "\n",
    "check_dsets([fed_weighted_dls[6].dataset])"
   ]
  },
  {
   "cell_type": "markdown",
   "metadata": {},
   "source": [
    "And if you're curious, here are all of the worker counts."
   ]
  },
  {
   "cell_type": "code",
   "execution_count": 23,
   "metadata": {},
   "outputs": [
    {
     "name": "stdout",
     "output_type": "stream",
     "text": [
      "Counter({0: 2339, 1: 488, 7: 459, 3: 398, 6: 381, 2: 379, 9: 377, 4: 373, 5: 350, 8: 348})\n",
      "Counter({1: 2613, 0: 424, 3: 422, 7: 417, 9: 405, 4: 397, 6: 396, 8: 394, 2: 394, 5: 366})\n",
      "Counter({2: 2433, 1: 475, 3: 419, 4: 409, 7: 407, 6: 401, 9: 396, 0: 373, 8: 369, 5: 325})\n",
      "Counter({3: 2405, 1: 452, 7: 424, 9: 422, 4: 411, 0: 403, 2: 400, 6: 388, 8: 383, 5: 368})\n",
      "Counter({4: 2351, 1: 460, 3: 426, 7: 420, 2: 410, 5: 384, 8: 382, 6: 382, 0: 375, 9: 363})\n",
      "Counter({5: 2170, 1: 447, 7: 438, 4: 416, 9: 411, 8: 395, 0: 390, 6: 388, 2: 376, 3: 355})\n",
      "Counter({6: 2340, 1: 439, 7: 413, 3: 412, 0: 406, 9: 397, 2: 387, 4: 377, 8: 376, 5: 356})\n",
      "Counter({7: 2501, 1: 463, 3: 452, 2: 416, 6: 413, 0: 400, 8: 392, 5: 366, 9: 359, 4: 357})\n",
      "Counter({8: 2394, 3: 438, 1: 433, 6: 404, 0: 398, 9: 392, 5: 385, 2: 382, 4: 374, 7: 364})\n",
      "Counter({9: 2427, 1: 472, 6: 425, 7: 422, 8: 418, 0: 415, 3: 404, 2: 381, 4: 377, 5: 351})\n"
     ]
    }
   ],
   "source": [
    "check_dsets([dl.dataset for dl in fed_weighted_dls])"
   ]
  },
  {
   "cell_type": "markdown",
   "metadata": {},
   "source": [
    "Now let's see how the federated approach performs with variation in the worker datasets."
   ]
  },
  {
   "cell_type": "code",
   "execution_count": null,
   "metadata": {},
   "outputs": [
    {
     "name": "stdout",
     "output_type": "stream",
     "text": [
      "Fed Bias manager training with 10 worker(s) for up to 50 rounds or 98.00% accuracy.\n"
     ]
    },
    {
     "data": {
      "application/vnd.jupyter.widget-view+json": {
       "model_id": "3b97f3b3f04249fbaa313d680ce96181",
       "version_major": 2,
       "version_minor": 0
      },
      "text/plain": [
       "HBox(children=(IntProgress(value=0, description='Rounds', max=50, style=ProgressStyle(description_width='initi…"
      ]
     },
     "metadata": {},
     "output_type": "display_data"
    },
    {
     "name": "stdout",
     "output_type": "stream",
     "text": [
      "Fed Bias manager stopped: met accuracy target of 98.00% after 33 rounds. (Test accuracy 98.05% and loss 0.0618.)\n"
     ]
    },
    {
     "data": {
      "image/png": "[encoded data removed]",
      "text/plain": [
       "<Figure size 432x288 with 1 Axes>"
      ]
     },
     "metadata": {
      "needs_background": "light"
     },
     "output_type": "display_data"
    },
    {
     "data": {
      "image/png": "[encoded data removed]",
      "text/plain": [
       "<Figure size 432x288 with 1 Axes>"
      ]
     },
     "metadata": {
      "needs_background": "light"
     },
     "output_type": "display_data"
    }
   ],
   "source": [
    "fed_weighted_mgr = FederatedManager('Fed Bias', fed_weighted_dls, test_dset, Net)\n",
    "run_mgr(fed_weighted_mgr, default_n_rounds, default_target_acc)\n",
    "plot_mgr(fed_weighted_mgr)"
   ]
  },
  {
   "cell_type": "markdown",
   "metadata": {},
   "source": [
    "The biased federated model converges just fine."
   ]
  },
  {
   "cell_type": "code",
   "execution_count": null,
   "metadata": {},
   "outputs": [
    {
     "data": {
      "image/png": "[encoded data removed]",
      "text/plain": [
       "<Figure size 432x288 with 1 Axes>"
      ]
     },
     "metadata": {
      "needs_background": "light"
     },
     "output_type": "display_data"
    },
    {
     "data": {
      "image/png": "[encoded data removed]",
      "text/plain": [
       "<Figure size 432x288 with 1 Axes>"
      ]
     },
     "metadata": {
      "needs_background": "light"
     },
     "output_type": "display_data"
    }
   ],
   "source": [
    "plot_mgr([nonfed_alldata_mgr, fed_equal_mgr, fed_weighted_mgr])"
   ]
  },
  {
   "cell_type": "markdown",
   "metadata": {},
   "source": [
    "Though it converges a little slower than the unbiased federated model.\n",
    "\n",
    "Let's take a closer look at how performance changes with increasingly biased data."
   ]
  },
  {
   "cell_type": "code",
   "execution_count": null,
   "metadata": {},
   "outputs": [
    {
     "data": {
      "application/vnd.jupyter.widget-view+json": {
       "model_id": "92e0ea012fe84efb9d5e08d00239626f",
       "version_major": 2,
       "version_minor": 0
      },
      "text/plain": [
       "HBox(children=(IntProgress(value=0, max=8), HTML(value='')))"
      ]
     },
     "metadata": {},
     "output_type": "display_data"
    },
    {
     "name": "stdout",
     "output_type": "stream",
     "text": [
      "Fed Bias 0.0 manager training with 10 worker(s) for up to 50 rounds or 98.00% accuracy.\n"
     ]
    },
    {
     "data": {
      "application/vnd.jupyter.widget-view+json": {
       "model_id": "2300073470964a18b50778b7b9e9ecdb",
       "version_major": 2,
       "version_minor": 0
      },
      "text/plain": [
       "HBox(children=(IntProgress(value=0, description='Rounds', max=50, style=ProgressStyle(description_width='initi…"
      ]
     },
     "metadata": {},
     "output_type": "display_data"
    },
    {
     "name": "stdout",
     "output_type": "stream",
     "text": [
      "Fed Bias 0.0 manager stopped: met accuracy target of 98.00% after 31 rounds. (Test accuracy 98.00% and loss 0.0627.)\n",
      "Fed Bias 0.4 manager training with 10 worker(s) for up to 50 rounds or 98.00% accuracy.\n"
     ]
    },
    {
     "data": {
      "application/vnd.jupyter.widget-view+json": {
       "model_id": "3eba24b3d48d4b16ad566a8a1e16e942",
       "version_major": 2,
       "version_minor": 0
      },
      "text/plain": [
       "HBox(children=(IntProgress(value=0, description='Rounds', max=50, style=ProgressStyle(description_width='initi…"
      ]
     },
     "metadata": {},
     "output_type": "display_data"
    },
    {
     "name": "stdout",
     "output_type": "stream",
     "text": [
      "Fed Bias 0.4 manager stopped: met accuracy target of 98.00% after 27 rounds. (Test accuracy 98.10% and loss 0.0622.)\n",
      "Fed Bias 0.8 manager training with 10 worker(s) for up to 50 rounds or 98.00% accuracy.\n"
     ]
    },
    {
     "data": {
      "application/vnd.jupyter.widget-view+json": {
       "model_id": "6a5427db9747408ba4b3646007d9f8de",
       "version_major": 2,
       "version_minor": 0
      },
      "text/plain": [
       "HBox(children=(IntProgress(value=0, description='Rounds', max=50, style=ProgressStyle(description_width='initi…"
      ]
     },
     "metadata": {},
     "output_type": "display_data"
    },
    {
     "name": "stdout",
     "output_type": "stream",
     "text": [
      "\n",
      "Fed Bias 0.8 manager trained 50 rounds. (Test accuracy 97.72% and loss 0.0739.)\n",
      "Fed Bias 0.9 manager training with 10 worker(s) for up to 50 rounds or 98.00% accuracy.\n"
     ]
    },
    {
     "data": {
      "application/vnd.jupyter.widget-view+json": {
       "model_id": "5a133ff5b7264fc286d3fac268a77902",
       "version_major": 2,
       "version_minor": 0
      },
      "text/plain": [
       "HBox(children=(IntProgress(value=0, description='Rounds', max=50, style=ProgressStyle(description_width='initi…"
      ]
     },
     "metadata": {},
     "output_type": "display_data"
    },
    {
     "name": "stdout",
     "output_type": "stream",
     "text": [
      "\n",
      "Fed Bias 0.9 manager trained 50 rounds. (Test accuracy 96.84% and loss 0.1081.)\n",
      "Fed Bias 0.95 manager training with 10 worker(s) for up to 50 rounds or 98.00% accuracy.\n"
     ]
    },
    {
     "data": {
      "application/vnd.jupyter.widget-view+json": {
       "model_id": "93bb54f6f1174d65ae32f060302329da",
       "version_major": 2,
       "version_minor": 0
      },
      "text/plain": [
       "HBox(children=(IntProgress(value=0, description='Rounds', max=50, style=ProgressStyle(description_width='initi…"
      ]
     },
     "metadata": {},
     "output_type": "display_data"
    },
    {
     "name": "stdout",
     "output_type": "stream",
     "text": [
      "\n",
      "Fed Bias 0.95 manager trained 50 rounds. (Test accuracy 95.28% and loss 0.1557.)\n",
      "Fed Bias 0.98 manager training with 10 worker(s) for up to 50 rounds or 98.00% accuracy.\n"
     ]
    },
    {
     "data": {
      "application/vnd.jupyter.widget-view+json": {
       "model_id": "6a00fc3198104ec2843ddccd2fb0a491",
       "version_major": 2,
       "version_minor": 0
      },
      "text/plain": [
       "HBox(children=(IntProgress(value=0, description='Rounds', max=50, style=ProgressStyle(description_width='initi…"
      ]
     },
     "metadata": {},
     "output_type": "display_data"
    }
   ],
   "source": [
    "mgrs = [eval_new_mgr(\n",
    "            'Fed Bias '+ str(bias), \n",
    "             train_dset, \n",
    "             test_dset, \n",
    "             p=bias, \n",
    "             n_rounds=default_n_rounds, \n",
    "             target_acc=default_target_acc\n",
    "        ) for bias in tqdm([0.0, 0.4, 0.8, 0.9, 0.95, 0.98, 0.99, 1.0])]"
   ]
  },
  {
   "cell_type": "code",
   "execution_count": null,
   "metadata": {},
   "outputs": [],
   "source": [
    "plot_mgr(mgrs)"
   ]
  },
  {
   "cell_type": "markdown",
   "metadata": {},
   "source": [
    "The federated models converge even with very heavily biased datasets per worker. Unsurprisingly, it takes longer to hit a given target accuracy. But even when the datasets are completely biased, that is, each worker sees examples from *exactly one class*, a federated set of workers can still at least converge.\n",
    "\n",
    "We know intuitively that a sole non-federated learner can't do this. A sole learner with access to samples of only one class will of course perform poorly on a ten-class task."
   ]
  },
  {
   "cell_type": "code",
   "execution_count": null,
   "metadata": {},
   "outputs": [],
   "source": [
    "nonfed_allfours_dl = make_fed_dloaders(train_dset, p=1.0)[4]\n",
    "\n",
    "nonfed_allfours_mgr = FederatedManager('Non-Federated Fours Biased 1.0', [nonfed_allfours_dl], test_dset, Net)\n",
    "\n",
    "run_mgr(nonfed_allfours_mgr, default_n_rounds, default_target_acc)\n",
    "\n",
    "plot_mgr(nonfed_allfours_mgr)\n",
    "\n",
    "#nonfed_allfours_mgr = eval_new_mgr('Non-Federated Fours Biased 1.0', train_dset, test_dset, p=1.0, n_rounds=default_n_rounds, target_acc=default_target_acc)"
   ]
  },
  {
   "cell_type": "markdown",
   "metadata": {},
   "source": [
    "Unsurprisingly, a classifier model that only ever sees samples from one class performs terribly on a ten-class problem."
   ]
  },
  {
   "cell_type": "code",
   "execution_count": null,
   "metadata": {},
   "outputs": [],
   "source": [
    "mgrs.append(nonfed_allfours_mgr)\n",
    "\n",
    "plot_mgr(mgrs)"
   ]
  },
  {
   "cell_type": "markdown",
   "metadata": {},
   "source": [
    "In cases of heavily skewed datasets, federation enables the master model to incorporate signal from sources that operate only as sensors for outlier data."
   ]
  },
  {
   "cell_type": "markdown",
   "metadata": {},
   "source": [
    "# Conclusion\n",
    "TODO: WRAP UP THE BLOG POST HERE. EVERYTHING BELOW IS PART TWO OR THREE"
   ]
  }
 ],
 "metadata": {
  "kernelspec": {
   "display_name": "Python 3",
   "language": "python",
   "name": "python3"
  },
  "language_info": {
   "codemirror_mode": {
    "name": "ipython",
    "version": 3
   },
   "file_extension": ".py",
   "mimetype": "text/x-python",
   "name": "python",
   "nbconvert_exporter": "python",
   "pygments_lexer": "ipython3",
   "version": "3.6.7"
  }
 },
 "nbformat": 4,
 "nbformat_minor": 2
}
