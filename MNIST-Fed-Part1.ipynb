{
 "cells": [
  {
   "cell_type": "code",
   "execution_count": 1,
   "metadata": {},
   "outputs": [],
   "source": [
    "# This block is for Colab compatibility\n",
    "#\n",
    "# Make sure your Colab runtime is Python 3, preferably with a GPU.\n",
    "# To do this, click Runtime->Change runtime type in Colab\n",
    "# \n",
    "# Uncomment these lines if using on Colab to get the files in place\n",
    "#! git clone https://www.github.com/rmicallef/bfpytorch\n",
    "#! cp bfpytorch/*.py .\n",
    "#! pip install -r bfpytorch/requirements.txt"
   ]
  },
  {
   "cell_type": "markdown",
   "metadata": {},
   "source": [
    "# Federated Machine Learning\n",
    "\n",
    "This notebook is a demonstration of _federated learning_, an approach to training a machine learning model by combining the results of training local models on multiple devices. This notebook is part of a series intended to demonstrate federated learning, then move on to test some of the bounds of what federated learning can (and can't) do. We'll be using `pytorch` as our machine learning tool.\n",
    "\n",
    "## The Task: Digit Recognition\n",
    "\n",
    "For this demonstration, our task is a classic one: the MNIST digit recognition task. Specifically, we need to determine which number is written in an image of a handwritten digit like this one: \n",
    "\n",
    "![Handwritten digit \"6\"](images/example-6.png)\n",
    "\n",
    "To carry out this task we need a machine learning model to \"look\" at an image and classify it into a number. We also need and image data to train the model. We're going to use a simple convolutional neural network model from the [`pytorch` example code](https://github.com/pytorch/examples/blob/master/mnist/main.py) (to keep it simple and to keep the focus on federation, we'll be using whatever we can from the standard `pytorch` examples).\n",
    "\n",
    "## The Approach to Demonstrate: Federation\n",
    "\n",
    "The federated approach uses several _worker_ devices to train their own local models with independent data. That is, the workers each train their own local model with a subset of the full dataset.\n",
    "\n",
    "Each worker trains its local model for a bit, then sends its incrementally trained local model back to a _manager_. The manager combines the local models from all of the workers into a common model, then sends the new common model back to the workers. This unit of processing is called a _round_. \n",
    "\n",
    "Then another round begins: the workers each train their local copy of the common model (creating another set of individualized local models), send those updated local models back to the manager. Once again the manager combines these individualized local models into a new common model, and pushes the new common model down to the workers. This cycle of rounds repeats as long as is necessary and useful."
   ]
  },
  {
   "cell_type": "markdown",
   "metadata": {},
   "source": [
    "# Common Elements\n",
    "\n",
    "Let's first set a baseline so we have a point of reference for our federated approach. To keep the comparisons useful, we'll use the same overall dataset and neural network in the baseline case as we do in the federated cases. Let's set those up here."
   ]
  },
  {
   "cell_type": "markdown",
   "metadata": {},
   "source": [
    "## The Data - Standard MNIST Datasets\n",
    "Here we get the MNIST data, a training set and a test set, from the `pytorch` package, again using the same transforms and normalization parameters as the ['pytorch' example code](https://github.com/pytorch/examples/blob/master/mnist/main.py). The standard MNIST training and test datasets, contain 60,000 and 10,000 examples, respectively.\n",
    "\n",
    "Pytorch uses `DataLoader`s for training. We'll be working with a lot of them here. A `DataLoader` contains a `Dataset` and training parameters like `batch_size`. We'll make a couple of standard `DataLoader`s with the parameters used in the [`pytorch` example code](https://github.com/pytorch/examples/blob/master/mnist/main.py). These contain the 60,000-example training `Dataset` and the 10,000-example test `Dataset`."
   ]
  },
  {
   "cell_type": "code",
   "execution_count": 2,
   "metadata": {},
   "outputs": [
    {
     "name": "stdout",
     "output_type": "stream",
     "text": [
      "Training dataset size: 60000\n",
      "Testing dataset size: 10000\n"
     ]
    }
   ],
   "source": [
    "from mnist_utils import get_MNIST_dataloaders\n",
    "\n",
    "default_training_dataloader, default_testing_dataloader = get_MNIST_dataloaders()\n",
    "\n",
    "default_training_dataset = default_training_dataloader.dataset\n",
    "default_testing_dataset = default_testing_dataloader.dataset\n",
    "\n",
    "print('Training dataset size:', len(default_training_dataset))\n",
    "print('Testing dataset size:', len(default_testing_dataset))"
   ]
  },
  {
   "cell_type": "markdown",
   "metadata": {},
   "source": [
    "I'm being super explicit about the digit counts and distributions here, because we're going to be doing some fancy footwork with them later on. So we need to know what we're starting with. So let's check out the default MNIST data."
   ]
  },
  {
   "cell_type": "code",
   "execution_count": 3,
   "metadata": {},
   "outputs": [
    {
     "data": {
      "application/vnd.jupyter.widget-view+json": {
       "model_id": "4c2b555a06884076937b6f98dbe171ff",
       "version_major": 2,
       "version_minor": 0
      },
      "text/plain": [
       "HBox(children=(IntProgress(value=0, description='Tabulating datasets', max=2, style=ProgressStyle(description_…"
      ]
     },
     "metadata": {},
     "output_type": "display_data"
    },
    {
     "name": "stdout",
     "output_type": "stream",
     "text": [
      "\n"
     ]
    },
    {
     "data": {
      "image/png": "[encoded data removed]",
      "text/plain": [
       "<Figure size 432x288 with 1 Axes>"
      ]
     },
     "metadata": {
      "needs_background": "light"
     },
     "output_type": "display_data"
    }
   ],
   "source": [
    "from mnist_utils import plot_digit_histogram\n",
    "\n",
    "plot_digit_histogram([default_training_dataloader, default_testing_dataloader], title='MNIST Complete Datasets')"
   ]
  },
  {
   "cell_type": "markdown",
   "metadata": {},
   "source": [
    "The out-of-the-box MNIST dataset has roughly equal numbers of samples for each digit, i.e., about as many samples of `4`s as `6`s (though the set is a *little* heavy on `1`s and a *little* light on `5`s). The test set (orange) counts are smaller than the training set (blue) counts by a factor of six, which reflects the relative sizes of the datasets."
   ]
  },
  {
   "cell_type": "markdown",
   "metadata": {},
   "source": [
    "## Baseline: The Non-Federated Approach\n",
    "To show baselines of non-federated learning, we'll train a model the traditional way."
   ]
  },
  {
   "cell_type": "markdown",
   "metadata": {},
   "source": [
    "### The Perfect World: All the Data in One Place\n",
    "\n",
    "We're testing an ideal non-federated situation: all of our data is in one place to train a single model. To do this we'll train that single model with all of the data in the MNIST training set, 60,000 examples. We'll set a default number of \"rounds\" to train. In the non-federated case, a round is equivalent to an epoch. And we do some other pre-training housekeeping.\n",
    "\n",
    "Our model and optimizer in all of these examples are simpler and faster than the convolutional neural network used in the [`pytorch` sample code](https://github.com/pytorch/examples/blob/master/mnist/main.py). This is just more expedient for demonstration. If you want to tinker with a heavier model, the original sample network is included in a comment in `mnist_utils.py` and the original optimizers are left inline."
   ]
  },
  {
   "cell_type": "code",
   "execution_count": 8,
   "metadata": {},
   "outputs": [
    {
     "name": "stdout",
     "output_type": "stream",
     "text": [
      "Device: cpu\n",
      "Model: DefaultNet(\n",
      "  (fc1): Linear(in_features=784, out_features=500, bias=True)\n",
      "  (fc2): Linear(in_features=500, out_features=256, bias=True)\n",
      "  (fc3): Linear(in_features=256, out_features=10, bias=True)\n",
      ")\n",
      "Optimizer: SGD (\n",
      "Parameter Group 0\n",
      "    dampening: 0\n",
      "    lr: 0.01\n",
      "    momentum: 0.5\n",
      "    nesterov: False\n",
      "    weight_decay: 0\n",
      ")\n",
      "Loss function: CrossEntropyLoss()\n",
      "Training dataset size: 60000\n",
      "Testing dataset size: 10000\n"
     ]
    }
   ],
   "source": [
    "import torch\n",
    "from mnist_utils import DefaultNet\n",
    "from mnist_utils import split_dataset\n",
    "\n",
    "# default training rounds\n",
    "default_n_rounds = 10\n",
    "\n",
    "# target for quitting early (helps to compare approaches more quickly)\n",
    "default_target_accuracy = None\n",
    "\n",
    "# Get model and test data\n",
    "model = DefaultNet()\n",
    "test_samples, test_labels = split_dataset(default_testing_dataset)\n",
    "\n",
    "# Load model and test data to the GPU if possible\n",
    "device = torch.device('cuda' if torch.cuda.is_available() else 'cpu') # smoke 'em if you got 'em\n",
    "model = model.to(device)\n",
    "test_samples = test_samples.to(device)\n",
    "test_labels = test_labels.to(device)\n",
    "\n",
    "optimizer = torch.optim.SGD(model.parameters(), lr=0.01, momentum=0.5)\n",
    "#optimizer = torch.optim.Adadelta(model.parameters(), lr=1.) # original sample optimizer\n",
    "loss_function = torch.nn.CrossEntropyLoss()\n",
    "\n",
    "print('Device:', device)\n",
    "print('Model:', model)\n",
    "print('Optimizer:', optimizer)\n",
    "print('Loss function:', loss_function)\n",
    "print(\"Training dataset size:\", len(default_training_dataloader.dataset))\n",
    "print(\"Testing dataset size:\", len(default_testing_dataset))"
   ]
  },
  {
   "cell_type": "markdown",
   "metadata": {},
   "source": [
    "Now we train a model without federation. Standard stuff."
   ]
  },
  {
   "cell_type": "code",
   "execution_count": 9,
   "metadata": {
    "scrolled": true
   },
   "outputs": [
    {
     "data": {
      "application/vnd.jupyter.widget-view+json": {
       "model_id": "9a20f13a70214e4786ad90d9d95cb48c",
       "version_major": 2,
       "version_minor": 0
      },
      "text/plain": [
       "HBox(children=(IntProgress(value=0, max=10), HTML(value='')))"
      ]
     },
     "metadata": {},
     "output_type": "display_data"
    },
    {
     "name": "stdout",
     "output_type": "stream",
     "text": [
      "Round   0\tloss: 0.2531 (+0.0000)\tacc: 92.76% ( +0.00%)\tmodel: 55864\n",
      "Round   1\tloss: 0.1805 (-0.0726)\tacc: 94.71% ( +1.95%)\tmodel: 55864\n",
      "Round   2\tloss: 0.1427 (-0.0378)\tacc: 95.71% ( +1.00%)\tmodel: 55864\n",
      "Round   3\tloss: 0.1222 (-0.0205)\tacc: 96.40% ( +0.69%)\tmodel: 55864\n",
      "Round   4\tloss: 0.1065 (-0.0157)\tacc: 96.66% ( +0.26%)\tmodel: 55864\n",
      "Round   5\tloss: 0.0956 (-0.0109)\tacc: 97.06% ( +0.40%)\tmodel: 55864\n",
      "Round   6\tloss: 0.0870 (-0.0086)\tacc: 97.41% ( +0.35%)\tmodel: 55864\n",
      "Round   7\tloss: 0.0802 (-0.0068)\tacc: 97.53% ( +0.12%)\tmodel: 55864\n",
      "Round   8\tloss: 0.0759 (-0.0043)\tacc: 97.75% ( +0.22%)\tmodel: 55864\n",
      "Round   9\tloss: 0.0707 (-0.0052)\tacc: 97.89% ( +0.14%)\tmodel: 55864\n",
      "\n"
     ]
    }
   ],
   "source": [
    "from mnist_utils import print_training_update\n",
    "from tqdm.notebook import tqdm\n",
    "from tqdm.notebook import trange\n",
    "\n",
    "nonfederated_history = {'test_loss': [], 'test_accuracy': []}\n",
    "\n",
    "for epoch in trange(default_n_rounds):\n",
    "    \n",
    "    # train the model\n",
    "    model.train(True)\n",
    "    for i, (training_samples, training_labels) in enumerate(default_training_dataloader):\n",
    "        training_samples = training_samples.to(device)\n",
    "        training_labels = training_labels.to(device)\n",
    "        \n",
    "        optimizer.zero_grad()\n",
    "        training_predictions = model(training_samples)\n",
    "        training_loss = loss_function(training_predictions, training_labels)\n",
    "        training_loss.backward()\n",
    "        optimizer.step()\n",
    "\n",
    "    # test the model\n",
    "    model.train(False)\n",
    "    with torch.no_grad():\n",
    "        output = model(test_samples)\n",
    "        output = output.to(device)\n",
    "        \n",
    "        test_loss = loss_function(output, test_labels).item()\n",
    "        test_predicted_classes = output.argmax(dim=1, keepdim=True)\n",
    "        n_correct = test_predicted_classes.eq(test_labels.view_as(test_predicted_classes)).sum().item()\n",
    "    accuracy = (n_correct / len(test_labels)) * 100.\n",
    "\n",
    "    #record loss and accuracy\n",
    "    nonfederated_history['test_loss'].append(test_loss)\n",
    "    nonfederated_history['test_accuracy'].append(accuracy)\n",
    "    print_training_update('Round {:3}'.format(epoch), nonfederated_history, id(model))\n",
    "    "
   ]
  },
  {
   "cell_type": "code",
   "execution_count": 10,
   "metadata": {},
   "outputs": [
    {
     "data": {
      "image/png": "[encoded data removed]",
      "text/plain": [
       "<Figure size 432x288 with 1 Axes>"
      ]
     },
     "metadata": {
      "needs_background": "light"
     },
     "output_type": "display_data"
    },
    {
     "data": {
      "image/png": "[encoded data removed]",
      "text/plain": [
       "<Figure size 432x288 with 1 Axes>"
      ]
     },
     "metadata": {
      "needs_background": "light"
     },
     "output_type": "display_data"
    }
   ],
   "source": [
    "import matplotlib\n",
    "import matplotlib.pyplot as plt\n",
    "\n",
    "fig, ax = plt.subplots()\n",
    "ax.plot(nonfederated_history['test_loss'], label='Non-Federated')\n",
    "ax.set_xlabel(\"Round\")\n",
    "ax.set_ylabel(\"Loss\")\n",
    "ax.legend();\n",
    "\n",
    "fig, ax = plt.subplots()\n",
    "ax.plot(nonfederated_history['test_accuracy'], label='Non-Federated')\n",
    "ax.set_xlabel(\"Round\")\n",
    "ax.set_ylabel(\"Accuracy\")\n",
    "ax.legend();"
   ]
  },
  {
   "cell_type": "markdown",
   "metadata": {},
   "source": [
    "So there's our baseline ideal-world situation, a non-federated model trained with all 60,000 data points in front of it."
   ]
  },
  {
   "cell_type": "markdown",
   "metadata": {},
   "source": [
    "# The Federated Approach\n",
    "\n",
    "Now that we have a baseline using the traditional, i.e., non-federated, approach, let's see what federation gets us (and doesn't). We'll do the same MNIST task using federation."
   ]
  },
  {
   "cell_type": "markdown",
   "metadata": {},
   "source": [
    "## Our Federation Code\n",
    "\n",
    "The federation code we're using here is a *simulation* of a federated network. It's not *true* federated learning because it uses one machine to simulate several indepedent machines. As a result of being on one machine, it does not have to deal with network communication or the timing problems inherent to real parallelism. But in our toy example the \"local\" models are independent in that they do not share data nor local models (except to the extent their models are combined) and that is sufficient to demonstrate the principles underlying federated learning.\n",
    "\n",
    "Our library includes a `FederatedManager` class and a `FederatedWorker` class. A `FederatedManager` contains a common prediction model and creates several independent `FederatedWorker` instances. Each `FederatedWorker` has its own local model and a distinct subset of the MNIST data."
   ]
  },
  {
   "cell_type": "markdown",
   "metadata": {},
   "source": [
    "### Comment\n",
    "This is fine but There's some text I used to explain why this \"not true federated learning\" thing doesn't mean what you're reading is useless. I like \"algorthmically faithful\". It's also a bit tricky to explain what this simulation approach _doesn't_ do (network traffic, race conditions, etc.) until you've explained the algorithm. So I think this section needs a bit of work.\n",
    "\n",
    "Also the heading is not a good indication of its purpose. This is in some ways the most important bit of the article for a reader who is new to FL! It's the bit where we explain what FL is!\n",
    "\n",
    "Can we use some figures from the report to make it easier to follow?\n",
    "\n",
    "Also, backing up a bit: I'm not sure you explain _why_ you want to do FL in the first place at any point in this article (privacy, bandwidth, power, etc.) That needs to be somewhere early, probably right at the top, and then repeated immediately after you explain the algorithm: i.e. the algorithm takes care of the concerns I mentioned at the top.\n",
    "\n",
    "\"Our library\": unless you move it into a py file it's not really a library."
   ]
  },
  {
   "cell_type": "markdown",
   "metadata": {},
   "source": [
    "In each `round` of federated learning, each `FederatedWorker` trains its local model using only the data that that worker recieves, and then sends its trained local model to the `FederatedManager`. The `FederatedManager` combines the models into an updated common model and pushes that new common model down to each `FederatedWorker`. There are a number of algorithms available for combining local models. Our library uses [federated averaging](https://arxiv.org/abs/1602.05629), a very simple element-by-element average of the model's weights.\n",
    "\n",
    "```\n",
    "N = sum(u[\"n_samples\"] for u in updates)\n",
    "        for key, value in self.model.state_dict().items():\n",
    "            weight_sum = (\n",
    "                u[\"state_dict\"][key] * u[\"n_samples\"] for u in updates\n",
    "            )\n",
    "            value[:] = sum(weight_sum) / N\n",
    "```\n",
    "\n",
    "Thats the whole combination function, an item-wise average of the model weights."
   ]
  },
  {
   "cell_type": "markdown",
   "metadata": {},
   "source": [
    "## Splitting the Deck Into Piles for Federation\n",
    "\n",
    "To illustrate federated learning we use several workers, each representing a remote device. We'll use ten workers here, and for now, we'll assume each of our ten workers has roughly equal types and quantities of data to the other nine (to do this we use `p=0` to reflect roughly even distribution of digit samples for any one worker)."
   ]
  },
  {
   "cell_type": "markdown",
   "metadata": {},
   "source": [
    "We're going to have ten workers. So we allocate each example in the 60,000 sample MNIST training set to one worker. We do this by making ten torch DataLoaders, one for each worker."
   ]
  },
  {
   "cell_type": "code",
   "execution_count": 11,
   "metadata": {},
   "outputs": [
    {
     "data": {
      "application/vnd.jupyter.widget-view+json": {
       "model_id": "49ab44df02294091849b3d801fcd220d",
       "version_major": 2,
       "version_minor": 0
      },
      "text/plain": [
       "HBox(children=(IntProgress(value=0, description='Tabulating datasets', max=10, style=ProgressStyle(description…"
      ]
     },
     "metadata": {},
     "output_type": "display_data"
    },
    {
     "name": "stdout",
     "output_type": "stream",
     "text": [
      "\n"
     ]
    },
    {
     "data": {
      "image/png": "[encoded data removed]",
      "text/plain": [
       "<Figure size 432x288 with 1 Axes>"
      ]
     },
     "metadata": {
      "needs_background": "light"
     },
     "output_type": "display_data"
    }
   ],
   "source": [
    "from mnist_utils import make_federated_dataloaders\n",
    "\n",
    "federated_equal_dataloaders = make_federated_dataloaders(default_training_dataset, p=0.0)\n",
    "\n",
    "plot_digit_histogram(federated_equal_dataloaders, 'Digit Counts per DataLoader')"
   ]
  },
  {
   "cell_type": "markdown",
   "metadata": {},
   "source": [
    "Looking at the allocations, we see that each of our ten workers has about the same number of each digit. For example, each worker has about 550 examples of the digit `5`, and about 650 examples of a `1`. These mirror the digit frequencies in the MNIST set."
   ]
  },
  {
   "cell_type": "markdown",
   "metadata": {},
   "source": [
    "## Federated Training\n",
    "Now let's train the federated system."
   ]
  },
  {
   "cell_type": "code",
   "execution_count": 12,
   "metadata": {},
   "outputs": [
    {
     "name": "stdout",
     "output_type": "stream",
     "text": [
      "Federated Unbiased manager training with 10 worker(s) for 10 rounds.\n"
     ]
    },
    {
     "data": {
      "application/vnd.jupyter.widget-view+json": {
       "model_id": "39db05cd5d924defbc4d2a313541b1b2",
       "version_major": 2,
       "version_minor": 0
      },
      "text/plain": [
       "HBox(children=(IntProgress(value=0, description='Rounds', max=10, style=ProgressStyle(description_width='initi…"
      ]
     },
     "metadata": {},
     "output_type": "display_data"
    },
    {
     "name": "stdout",
     "output_type": "stream",
     "text": [
      "\n",
      "Round 0   workers:\n",
      "\tworker  0:\tloss: 1.0623 (+0.0000)\tacc: 77.08% ( +0.00%)\tmodel: 29080\n",
      "\tworker  1:\tloss: 1.0632 (+0.0000)\tacc: 78.65% ( +0.00%)\tmodel: 52704\n",
      "\tworker  2:\tloss: 1.0712 (+0.0000)\tacc: 77.02% ( +0.00%)\tmodel: 93648\n",
      "\tworker  3:\tloss: 1.0552 (+0.0000)\tacc: 78.57% ( +0.00%)\tmodel: 93424\n",
      "\tworker  4:\tloss: 1.0596 (+0.0000)\tacc: 78.30% ( +0.00%)\tmodel: 94880\n",
      "\tworker  5:\tloss: 1.0994 (+0.0000)\tacc: 77.97% ( +0.00%)\tmodel: 93480\n",
      "\tworker  6:\tloss: 1.0785 (+0.0000)\tacc: 78.67% ( +0.00%)\tmodel: 94768\n",
      "\tworker  7:\tloss: 1.0967 (+0.0000)\tacc: 73.11% ( +0.00%)\tmodel: 95248\n",
      "\tworker  8:\tloss: 1.0098 (+0.0000)\tacc: 79.45% ( +0.00%)\tmodel: 91776\n",
      "\tworker  9:\tloss: 1.0680 (+0.0000)\tacc: 75.67% ( +0.00%)\tmodel: 95720\n",
      "\n",
      "Round 0   combined:\tloss: 1.0597 (+0.0000)\tacc: 78.50% ( +0.00%)\tmodel: 33168\n",
      "\n",
      "Round 1   workers:\n",
      "\tworker  0:\tloss: 0.5413 (-0.5209)\tacc: 85.20% ( +8.12%)\tmodel: 08472\n",
      "\tworker  1:\tloss: 0.5287 (-0.5345)\tacc: 86.37% ( +7.72%)\tmodel: 55000\n",
      "\tworker  2:\tloss: 0.5383 (-0.5329)\tacc: 86.39% ( +9.37%)\tmodel: 52704\n",
      "\tworker  3:\tloss: 0.5326 (-0.5226)\tacc: 87.05% ( +8.48%)\tmodel: 93648\n",
      "\tworker  4:\tloss: 0.5338 (-0.5258)\tacc: 86.04% ( +7.74%)\tmodel: 93424\n",
      "\tworker  5:\tloss: 0.5513 (-0.5481)\tacc: 86.19% ( +8.22%)\tmodel: 08192\n",
      "\tworker  6:\tloss: 0.5541 (-0.5244)\tacc: 84.19% ( +5.52%)\tmodel: 08584\n",
      "\tworker  7:\tloss: 0.8749 (-0.2218)\tacc: 69.65% ( -3.46%)\tmodel: 94768\n",
      "\tworker  8:\tloss: 0.5372 (-0.4726)\tacc: 85.43% ( +5.98%)\tmodel: 95248\n",
      "\tworker  9:\tloss: 0.5437 (-0.5243)\tacc: 86.01% (+10.34%)\tmodel: 91776\n",
      "\n",
      "Round 1   combined:\tloss: 0.5317 (-0.5281)\tacc: 86.22% ( +7.72%)\tmodel: 33168\n",
      "\n",
      "Round 2   workers:\n",
      "\tworker  0:\tloss: 0.4187 (-0.1226)\tacc: 88.59% ( +3.39%)\tmodel: 92952\n",
      "\tworker  1:\tloss: 0.4148 (-0.1139)\tacc: 88.39% ( +2.02%)\tmodel: 08472\n",
      "\tworker  2:\tloss: 0.4267 (-0.1116)\tacc: 87.73% ( +1.34%)\tmodel: 29864\n",
      "\tworker  3:\tloss: 0.4202 (-0.1124)\tacc: 88.12% ( +1.07%)\tmodel: 52704\n",
      "\tworker  4:\tloss: 0.4114 (-0.1224)\tacc: 88.49% ( +2.45%)\tmodel: 93648\n",
      "\tworker  5:\tloss: 0.4224 (-0.1289)\tacc: 88.11% ( +1.92%)\tmodel: 93424\n",
      "\tworker  6:\tloss: 0.4134 (-0.1407)\tacc: 88.73% ( +4.54%)\tmodel: 08192\n",
      "\tworker  7:\tloss: 0.5326 (-0.3423)\tacc: 81.62% (+11.97%)\tmodel: 93480\n",
      "\tworker  8:\tloss: 0.4214 (-0.1157)\tacc: 88.59% ( +3.16%)\tmodel: 94768\n",
      "\tworker  9:\tloss: 0.4110 (-0.1327)\tacc: 89.14% ( +3.13%)\tmodel: 95248\n",
      "\n",
      "Round 2   combined:\tloss: 0.4054 (-0.1263)\tacc: 89.10% ( +2.88%)\tmodel: 33168\n",
      "\n",
      "Round 3   workers:\n",
      "\tworker  0:\tloss: 0.3639 (-0.0548)\tacc: 89.65% ( +1.06%)\tmodel: 96168\n",
      "\tworker  1:\tloss: 0.3688 (-0.0460)\tacc: 89.44% ( +1.05%)\tmodel: 92952\n",
      "\tworker  2:\tloss: 0.3601 (-0.0666)\tacc: 89.91% ( +2.18%)\tmodel: 08472\n",
      "\tworker  3:\tloss: 0.3617 (-0.0585)\tacc: 89.57% ( +1.45%)\tmodel: 53320\n",
      "\tworker  4:\tloss: 0.3593 (-0.0521)\tacc: 89.80% ( +1.31%)\tmodel: 52704\n",
      "\tworker  5:\tloss: 0.3618 (-0.0606)\tacc: 89.88% ( +1.77%)\tmodel: 93648\n",
      "\tworker  6:\tloss: 0.3691 (-0.0443)\tacc: 89.43% ( +0.70%)\tmodel: 93424\n",
      "\tworker  7:\tloss: 0.5509 (+0.0183)\tacc: 82.13% ( +0.51%)\tmodel: 08192\n",
      "\tworker  8:\tloss: 0.3712 (-0.0502)\tacc: 89.38% ( +0.79%)\tmodel: 93480\n",
      "\tworker  9:\tloss: 0.3635 (-0.0476)\tacc: 89.53% ( +0.39%)\tmodel: 94768\n",
      "\n",
      "Round 3   combined:\tloss: 0.3547 (-0.0506)\tacc: 90.01% ( +0.91%)\tmodel: 33168\n",
      "\n",
      "Round 4   workers:\n",
      "\tworker  0:\tloss: 0.3380 (-0.0259)\tacc: 90.26% ( +0.61%)\tmodel: 07064\n",
      "\tworker  1:\tloss: 0.3300 (-0.0388)\tacc: 90.61% ( +1.17%)\tmodel: 05496\n",
      "\tworker  2:\tloss: 0.3439 (-0.0162)\tacc: 90.20% ( +0.29%)\tmodel: 92952\n",
      "\tworker  3:\tloss: 0.3368 (-0.0249)\tacc: 90.32% ( +0.75%)\tmodel: 07736\n",
      "\tworker  4:\tloss: 0.3323 (-0.0270)\tacc: 90.28% ( +0.48%)\tmodel: 29080\n",
      "\tworker  5:\tloss: 0.3291 (-0.0327)\tacc: 90.71% ( +0.83%)\tmodel: 52704\n",
      "\tworker  6:\tloss: 0.3362 (-0.0329)\tacc: 90.53% ( +1.10%)\tmodel: 04824\n",
      "\tworker  7:\tloss: 0.3693 (-0.1816)\tacc: 88.93% ( +6.80%)\tmodel: 93424\n",
      "\tworker  8:\tloss: 0.3397 (-0.0315)\tacc: 90.02% ( +0.64%)\tmodel: 92920\n",
      "\tworker  9:\tloss: 0.3283 (-0.0352)\tacc: 90.39% ( +0.86%)\tmodel: 93480\n",
      "\n",
      "Round 4   combined:\tloss: 0.3240 (-0.0308)\tacc: 90.64% ( +0.63%)\tmodel: 33168\n",
      "\n",
      "Round 5   workers:\n",
      "\tworker  0:\tloss: 0.3159 (-0.0221)\tacc: 90.70% ( +0.44%)\tmodel: 07624\n",
      "\tworker  1:\tloss: 0.3139 (-0.0161)\tacc: 90.96% ( +0.35%)\tmodel: 07064\n",
      "\tworker  2:\tloss: 0.3105 (-0.0333)\tacc: 91.21% ( +1.01%)\tmodel: 05496\n",
      "\tworker  3:\tloss: 0.3073 (-0.0295)\tacc: 91.07% ( +0.75%)\tmodel: 92952\n",
      "\tworker  4:\tloss: 0.3091 (-0.0232)\tacc: 90.94% ( +0.66%)\tmodel: 07736\n",
      "\tworker  5:\tloss: 0.3085 (-0.0206)\tacc: 91.09% ( +0.38%)\tmodel: 55000\n",
      "\tworker  6:\tloss: 0.3197 (-0.0164)\tacc: 90.65% ( +0.12%)\tmodel: 52704\n",
      "\tworker  7:\tloss: 0.3095 (-0.0598)\tacc: 91.13% ( +2.20%)\tmodel: 04824\n",
      "\tworker  8:\tloss: 0.3148 (-0.0250)\tacc: 90.90% ( +0.88%)\tmodel: 93424\n",
      "\tworker  9:\tloss: 0.3062 (-0.0220)\tacc: 91.19% ( +0.80%)\tmodel: 92920\n",
      "\n",
      "Round 5   combined:\tloss: 0.3011 (-0.0228)\tacc: 91.23% ( +0.59%)\tmodel: 33168\n",
      "\n",
      "Round 6   workers:\n",
      "\tworker  0:\tloss: 0.2946 (-0.0213)\tacc: 91.39% ( +0.69%)\tmodel: 05832\n",
      "\tworker  1:\tloss: 0.2976 (-0.0163)\tacc: 91.33% ( +0.37%)\tmodel: 07624\n",
      "\tworker  2:\tloss: 0.3025 (-0.0081)\tacc: 91.25% ( +0.04%)\tmodel: 07064\n",
      "\tworker  3:\tloss: 0.2887 (-0.0185)\tacc: 91.61% ( +0.54%)\tmodel: 05496\n",
      "\tworker  4:\tloss: 0.2940 (-0.0151)\tacc: 91.25% ( +0.31%)\tmodel: 92952\n",
      "\tworker  5:\tloss: 0.2966 (-0.0119)\tacc: 91.38% ( +0.29%)\tmodel: 07736\n",
      "\tworker  6:\tloss: 0.3030 (-0.0167)\tacc: 91.31% ( +0.66%)\tmodel: 29864\n",
      "\tworker  7:\tloss: 0.3994 (+0.0899)\tacc: 86.62% ( -4.51%)\tmodel: 52704\n",
      "\tworker  8:\tloss: 0.2979 (-0.0168)\tacc: 91.50% ( +0.60%)\tmodel: 08416\n",
      "\tworker  9:\tloss: 0.2980 (-0.0083)\tacc: 91.39% ( +0.20%)\tmodel: 06512\n",
      "\n",
      "Round 6   combined:\tloss: 0.2853 (-0.0159)\tacc: 91.73% ( +0.50%)\tmodel: 33168\n",
      "\n",
      "Round 7   workers:\n",
      "\tworker  0:\tloss: 0.2777 (-0.0170)\tacc: 92.00% ( +0.61%)\tmodel: 95248\n",
      "\tworker  1:\tloss: 0.2784 (-0.0191)\tacc: 91.74% ( +0.41%)\tmodel: 08584\n",
      "\tworker  2:\tloss: 0.2807 (-0.0218)\tacc: 91.82% ( +0.57%)\tmodel: 93288\n",
      "\tworker  3:\tloss: 0.2765 (-0.0123)\tacc: 92.01% ( +0.40%)\tmodel: 95384\n",
      "\tworker  4:\tloss: 0.2772 (-0.0168)\tacc: 91.93% ( +0.68%)\tmodel: 95832\n",
      "\tworker  5:\tloss: 0.2809 (-0.0157)\tacc: 91.63% ( +0.25%)\tmodel: 92952\n",
      "\tworker  6:\tloss: 0.2877 (-0.0154)\tacc: 91.55% ( +0.24%)\tmodel: 07736\n",
      "\tworker  7:\tloss: 0.3008 (-0.0986)\tacc: 91.07% ( +4.45%)\tmodel: 53320\n",
      "\tworker  8:\tloss: 0.3064 (+0.0085)\tacc: 90.53% ( -0.97%)\tmodel: 52704\n",
      "\tworker  9:\tloss: 0.2816 (-0.0163)\tacc: 91.97% ( +0.58%)\tmodel: 08416\n",
      "\n",
      "Round 7   combined:\tloss: 0.2717 (-0.0136)\tacc: 92.09% ( +0.36%)\tmodel: 33168\n",
      "\n",
      "Round 8   workers:\n",
      "\tworker  0:\tloss: 0.2696 (-0.0081)\tacc: 92.18% ( +0.18%)\tmodel: 50792\n",
      "\tworker  1:\tloss: 0.2671 (-0.0114)\tacc: 91.97% ( +0.23%)\tmodel: 95248\n",
      "\tworker  2:\tloss: 0.2764 (-0.0043)\tacc: 91.68% ( -0.14%)\tmodel: 08584\n",
      "\tworker  3:\tloss: 0.2643 (-0.0122)\tacc: 92.28% ( +0.27%)\tmodel: 93288\n",
      "\tworker  4:\tloss: 0.2634 (-0.0138)\tacc: 92.25% ( +0.32%)\tmodel: 95384\n",
      "\tworker  5:\tloss: 0.2656 (-0.0153)\tacc: 92.38% ( +0.75%)\tmodel: 95832\n",
      "\tworker  6:\tloss: 0.2661 (-0.0216)\tacc: 92.03% ( +0.48%)\tmodel: 92952\n",
      "\tworker  7:\tloss: 0.3443 (+0.0436)\tacc: 88.79% ( -2.28%)\tmodel: 07736\n",
      "\tworker  8:\tloss: 0.2700 (-0.0365)\tacc: 92.03% ( +1.50%)\tmodel: 29080\n",
      "\tworker  9:\tloss: 0.2644 (-0.0173)\tacc: 92.29% ( +0.32%)\tmodel: 52704\n",
      "\n",
      "Round 8   combined:\tloss: 0.2605 (-0.0112)\tacc: 92.32% ( +0.23%)\tmodel: 33168\n",
      "\n",
      "Round 9   workers:\n",
      "\tworker  0:\tloss: 0.2663 (-0.0033)\tacc: 92.07% ( -0.11%)\tmodel: 06000\n",
      "\tworker  1:\tloss: 0.2602 (-0.0068)\tacc: 92.36% ( +0.39%)\tmodel: 50792\n",
      "\tworker  2:\tloss: 0.2649 (-0.0115)\tacc: 92.12% ( +0.44%)\tmodel: 95248\n",
      "\tworker  3:\tloss: 0.2555 (-0.0088)\tacc: 92.70% ( +0.42%)\tmodel: 94632\n",
      "\tworker  4:\tloss: 0.2561 (-0.0073)\tacc: 92.52% ( +0.27%)\tmodel: 93288\n",
      "\tworker  5:\tloss: 0.2552 (-0.0104)\tacc: 92.47% ( +0.09%)\tmodel: 05832\n",
      "\tworker  6:\tloss: 0.2629 (-0.0032)\tacc: 92.20% ( +0.17%)\tmodel: 05496\n",
      "\tworker  7:\tloss: 0.2601 (-0.0843)\tacc: 92.25% ( +3.46%)\tmodel: 92952\n",
      "\tworker  8:\tloss: 0.2582 (-0.0117)\tacc: 92.38% ( +0.35%)\tmodel: 07736\n",
      "\tworker  9:\tloss: 0.2528 (-0.0116)\tacc: 92.70% ( +0.41%)\tmodel: 55000\n",
      "\n",
      "Round 9   combined:\tloss: 0.2499 (-0.0107)\tacc: 92.61% ( +0.29%)\tmodel: 33168\n",
      "\n",
      "Federated Unbiased manager trained 10 rounds. (Test accuracy 92.61% and loss 0.2499.)\n"
     ]
    },
    {
     "data": {
      "image/png": "[encoded data removed]",
      "text/plain": [
       "<Figure size 432x288 with 1 Axes>"
      ]
     },
     "metadata": {
      "needs_background": "light"
     },
     "output_type": "display_data"
    },
    {
     "data": {
      "image/png": "[encoded data removed]",
      "text/plain": [
       "<Figure size 432x288 with 1 Axes>"
      ]
     },
     "metadata": {
      "needs_background": "light"
     },
     "output_type": "display_data"
    }
   ],
   "source": [
    "from federated import FederatedManager\n",
    "from federated import FederatedWorker\n",
    "from federated import plot_managers\n",
    "\n",
    "federated_equal_manager = FederatedManager('Federated Unbiased', federated_equal_dataloaders, default_testing_dataset, DefaultNet, verbose=True)\n",
    "federated_equal_manager.learn(default_n_rounds, default_target_accuracy)\n",
    "\n",
    "# a proxy to compare the nonfederated model to federated managers\n",
    "nonfederated_manager = FederatedManager('Non-Federated', [default_training_dataloader], default_testing_dataset, DefaultNet)\n",
    "nonfederated_manager.history = nonfederated_history\n",
    "\n",
    "plot_managers([nonfederated_manager, federated_equal_manager])"
   ]
  },
  {
   "cell_type": "markdown",
   "metadata": {},
   "source": [
    "The federated model converges, though a little slower than the non-federated version. But in the federated model, we don't have to move any data to a central system."
   ]
  },
  {
   "cell_type": "markdown",
   "metadata": {},
   "source": [
    "# Federation with Varying Example Distributions Per Worker\n",
    "\n",
    "Now we've seen federation work with a dataset scattered across a number of workers. And we saw that its performance isn't substantially worse than the non-federated approach, while decentralizing the work of training and limiting the amount of data transfered between the main manager and the workers.\n",
    "\n",
    "But what if our workers don't have access to equal amounts of data? Let's explore that.\n",
    "\n",
    "## Spliting the Decks into Uneven Piles\n",
    "\n",
    "To test this, we need workers to have access to varying numbers of examples across training classes. So let's make a set of dataloaders that will give each worker more examples of a given digit than the other workers.\n",
    "\n",
    "The parameter `p` sets the degree of bias toward the overweighted digit in each dataloader. Specifically, `p` is the odds of an example from a specific class being selected for a worker from the base dataset. We'll use `0.15` for `p` for now.\n",
    "\n",
    "This results in a set of stacked dataloaders. The number of dataloaders is equal to the number of classes. Each dataloader is overweighted to exactly one digit class."
   ]
  },
  {
   "cell_type": "code",
   "execution_count": 13,
   "metadata": {},
   "outputs": [
    {
     "name": "stdout",
     "output_type": "stream",
     "text": [
      "[5928, 6126, 5902, 5991, 6070, 6120, 6032, 6070, 5831, 5930]\n",
      "60000\n"
     ]
    }
   ],
   "source": [
    "federated_biased_dataloaders = make_federated_dataloaders(default_training_dataset, p=0.15)\n",
    "worker_example_counts = [len(dataloader.dataset) for dataloader in federated_biased_dataloaders]\n",
    "\n",
    "print(worker_example_counts)\n",
    "print(sum(worker_example_counts))"
   ]
  },
  {
   "cell_type": "markdown",
   "metadata": {},
   "source": [
    "Note that the dataloaders still give each worker roughly the same *total number* of examples. It's the number of examples *per class* that varies. And each of the 60,000 examples in the MNIST training dataset is allocated (without replacement) to a worker, so the total number of examples across workers is 60,000.\n",
    "\n",
    "Let's look at how the digit examples are allocated within each worker."
   ]
  },
  {
   "cell_type": "code",
   "execution_count": 14,
   "metadata": {},
   "outputs": [
    {
     "data": {
      "application/vnd.jupyter.widget-view+json": {
       "model_id": "8eef0042221047a69fdf3b67515a70f8",
       "version_major": 2,
       "version_minor": 0
      },
      "text/plain": [
       "HBox(children=(IntProgress(value=0, description='Tabulating datasets', max=10, style=ProgressStyle(description…"
      ]
     },
     "metadata": {},
     "output_type": "display_data"
    },
    {
     "name": "stdout",
     "output_type": "stream",
     "text": [
      "\n"
     ]
    },
    {
     "data": {
      "image/png": "[encoded data removed]",
      "text/plain": [
       "<Figure size 432x288 with 1 Axes>"
      ]
     },
     "metadata": {
      "needs_background": "light"
     },
     "output_type": "display_data"
    }
   ],
   "source": [
    "plot_digit_histogram(federated_biased_dataloaders)"
   ]
  },
  {
   "cell_type": "markdown",
   "metadata": {},
   "source": [
    "We see here that worker 4, shown in purple, has more examples of the digit `4` than other workers. Likewise, worker 6, shown in pink, has more examples of the digit `6` than other workers.\n",
    "\n",
    "Here are the actual counts from the dataloaders for workers 4 and 6. You can see that the most frequent examples in those dataloaders are `4` and `6`, respectively."
   ]
  },
  {
   "cell_type": "code",
   "execution_count": 15,
   "metadata": {
    "scrolled": true
   },
   "outputs": [
    {
     "name": "stdout",
     "output_type": "stream",
     "text": [
      "Counter({4: 910, 1: 613, 7: 595, 3: 582, 0: 580, 2: 572, 9: 567, 5: 555, 8: 549, 6: 547})\n",
      "Counter({6: 921, 1: 631, 7: 620, 3: 601, 0: 570, 9: 554, 4: 552, 2: 551, 8: 519, 5: 513})\n"
     ]
    }
   ],
   "source": [
    "from mnist_utils import print_dataset_counters\n",
    "\n",
    "print_dataset_counters(federated_biased_dataloaders[4].dataset)\n",
    "print_dataset_counters(federated_biased_dataloaders[6].dataset)"
   ]
  },
  {
   "cell_type": "markdown",
   "metadata": {},
   "source": [
    "And if you're curious, here are all of the worker counts."
   ]
  },
  {
   "cell_type": "code",
   "execution_count": 16,
   "metadata": {},
   "outputs": [
    {
     "name": "stdout",
     "output_type": "stream",
     "text": [
      "Counter({0: 931, 1: 639, 7: 592, 4: 562, 3: 561, 9: 558, 8: 553, 6: 538, 2: 534, 5: 460})\n",
      "Counter({1: 1033, 7: 604, 8: 592, 6: 590, 2: 580, 9: 571, 0: 553, 3: 552, 4: 527, 5: 524})\n",
      "Counter({2: 880, 1: 622, 7: 604, 3: 581, 6: 568, 8: 560, 0: 538, 9: 524, 4: 514, 5: 511})\n",
      "Counter({3: 949, 1: 659, 9: 578, 6: 572, 0: 565, 4: 549, 7: 548, 8: 536, 2: 533, 5: 502})\n",
      "Counter({4: 910, 1: 613, 7: 595, 3: 582, 0: 580, 2: 572, 9: 567, 5: 555, 8: 549, 6: 547})\n",
      "Counter({5: 841, 1: 642, 3: 598, 7: 598, 2: 592, 9: 590, 8: 586, 6: 573, 4: 568, 0: 532})\n",
      "Counter({6: 921, 1: 631, 7: 620, 3: 601, 0: 570, 9: 554, 4: 552, 2: 551, 8: 519, 5: 513})\n",
      "Counter({7: 966, 1: 668, 3: 594, 4: 572, 2: 570, 6: 564, 9: 559, 0: 557, 8: 520, 5: 500})\n",
      "Counter({8: 849, 1: 633, 2: 579, 7: 574, 0: 562, 6: 546, 9: 543, 4: 536, 3: 529, 5: 480})\n",
      "Counter({9: 905, 1: 602, 8: 587, 3: 584, 2: 567, 7: 564, 4: 552, 5: 535, 0: 535, 6: 499})\n"
     ]
    }
   ],
   "source": [
    "print_dataset_counters([dataloader.dataset for dataloader in federated_biased_dataloaders])"
   ]
  },
  {
   "cell_type": "markdown",
   "metadata": {},
   "source": [
    "Now let's see how the federated approach performs with variation in the worker datasets."
   ]
  },
  {
   "cell_type": "code",
   "execution_count": null,
   "metadata": {},
   "outputs": [],
   "source": [
    "federated_biased_manager = FederatedManager('Fed Biased 0.15', federated_biased_dataloaders, default_testing_dataset, DefaultNet)\n",
    "federated_biased_manager.learn(default_n_rounds, default_target_accuracy)\n",
    "plot_managers(federated_biased_manager)"
   ]
  },
  {
   "cell_type": "markdown",
   "metadata": {},
   "source": [
    "The biased federated model converges just fine, but a little slower than the unbiased federated model."
   ]
  },
  {
   "cell_type": "code",
   "execution_count": 17,
   "metadata": {},
   "outputs": [
    {
     "ename": "NameError",
     "evalue": "name 'federated_biased_manager' is not defined",
     "output_type": "error",
     "traceback": [
      "\u001b[0;31m---------------------------------------------------------------------------\u001b[0m",
      "\u001b[0;31mNameError\u001b[0m                                 Traceback (most recent call last)",
      "\u001b[0;32m<ipython-input-17-6c4af2bedf64>\u001b[0m in \u001b[0;36m<module>\u001b[0;34m\u001b[0m\n\u001b[0;32m----> 1\u001b[0;31m \u001b[0mplot_managers\u001b[0m\u001b[0;34m(\u001b[0m\u001b[0;34m[\u001b[0m\u001b[0mnonfederated_manager\u001b[0m\u001b[0;34m,\u001b[0m \u001b[0mfederated_equal_manager\u001b[0m\u001b[0;34m,\u001b[0m \u001b[0mfederated_biased_manager\u001b[0m\u001b[0;34m]\u001b[0m\u001b[0;34m)\u001b[0m\u001b[0;34m\u001b[0m\u001b[0;34m\u001b[0m\u001b[0m\n\u001b[0m",
      "\u001b[0;31mNameError\u001b[0m: name 'federated_biased_manager' is not defined"
     ]
    }
   ],
   "source": [
    "plot_managers([nonfederated_manager, federated_equal_manager, federated_biased_manager])"
   ]
  },
  {
   "cell_type": "markdown",
   "metadata": {},
   "source": [
    "Let's take a closer look at how performance changes with increasingly biased data."
   ]
  },
  {
   "cell_type": "code",
   "execution_count": 18,
   "metadata": {
    "scrolled": true
   },
   "outputs": [
    {
     "data": {
      "application/vnd.jupyter.widget-view+json": {
       "model_id": "56e427528ef34f429716f0a77eee4801",
       "version_major": 2,
       "version_minor": 0
      },
      "text/plain": [
       "HBox(children=(IntProgress(value=0, description='Managers', max=8, style=ProgressStyle(description_width='init…"
      ]
     },
     "metadata": {},
     "output_type": "display_data"
    },
    {
     "name": "stdout",
     "output_type": "stream",
     "text": [
      "Fed Bias 0.0 manager training with 10 worker(s) for 10 rounds.\n"
     ]
    },
    {
     "data": {
      "application/vnd.jupyter.widget-view+json": {
       "model_id": "59e2512f645e4dcc94bf8e54e7842d92",
       "version_major": 2,
       "version_minor": 0
      },
      "text/plain": [
       "HBox(children=(IntProgress(value=0, description='Rounds', max=10, style=ProgressStyle(description_width='initi…"
      ]
     },
     "metadata": {},
     "output_type": "display_data"
    },
    {
     "ename": "KeyboardInterrupt",
     "evalue": "",
     "output_type": "error",
     "traceback": [
      "\u001b[0;31m---------------------------------------------------------------------------\u001b[0m",
      "\u001b[0;31mKeyboardInterrupt\u001b[0m                         Traceback (most recent call last)",
      "\u001b[0;32m<ipython-input-18-5bd9516e3e55>\u001b[0m in \u001b[0;36m<module>\u001b[0;34m\u001b[0m\n\u001b[1;32m      1\u001b[0m \u001b[0;32mfrom\u001b[0m \u001b[0mfederated\u001b[0m \u001b[0;32mimport\u001b[0m \u001b[0mevaluate_new_manager\u001b[0m\u001b[0;34m\u001b[0m\u001b[0;34m\u001b[0m\u001b[0m\n\u001b[1;32m      2\u001b[0m \u001b[0;34m\u001b[0m\u001b[0m\n\u001b[0;32m----> 3\u001b[0;31m \u001b[0mbias_comparison_managers\u001b[0m \u001b[0;34m=\u001b[0m \u001b[0;34m[\u001b[0m\u001b[0mevaluate_new_manager\u001b[0m\u001b[0;34m(\u001b[0m\u001b[0;34m'Fed Bias '\u001b[0m\u001b[0;34m+\u001b[0m \u001b[0mstr\u001b[0m\u001b[0;34m(\u001b[0m\u001b[0mbias\u001b[0m\u001b[0;34m)\u001b[0m\u001b[0;34m,\u001b[0m \u001b[0mdefault_training_dataset\u001b[0m\u001b[0;34m,\u001b[0m \u001b[0mdefault_testing_dataset\u001b[0m\u001b[0;34m,\u001b[0m \u001b[0mp\u001b[0m\u001b[0;34m=\u001b[0m\u001b[0mbias\u001b[0m\u001b[0;34m,\u001b[0m \u001b[0mn_rounds\u001b[0m\u001b[0;34m=\u001b[0m\u001b[0mdefault_n_rounds\u001b[0m\u001b[0;34m,\u001b[0m \u001b[0mtarget_accuracy\u001b[0m\u001b[0;34m=\u001b[0m\u001b[0mdefault_target_accuracy\u001b[0m\u001b[0;34m,\u001b[0m \u001b[0mmodel\u001b[0m\u001b[0;34m=\u001b[0m\u001b[0mDefaultNet\u001b[0m\u001b[0;34m)\u001b[0m \u001b[0;32mfor\u001b[0m \u001b[0mbias\u001b[0m \u001b[0;32min\u001b[0m \u001b[0mtqdm\u001b[0m\u001b[0;34m(\u001b[0m\u001b[0;34m[\u001b[0m\u001b[0;36m0.0\u001b[0m\u001b[0;34m,\u001b[0m \u001b[0;36m0.4\u001b[0m\u001b[0;34m,\u001b[0m \u001b[0;36m0.8\u001b[0m\u001b[0;34m,\u001b[0m \u001b[0;36m0.9\u001b[0m\u001b[0;34m,\u001b[0m \u001b[0;36m0.95\u001b[0m\u001b[0;34m,\u001b[0m \u001b[0;36m0.98\u001b[0m\u001b[0;34m,\u001b[0m \u001b[0;36m0.99\u001b[0m\u001b[0;34m,\u001b[0m \u001b[0;36m1.0\u001b[0m\u001b[0;34m]\u001b[0m\u001b[0;34m,\u001b[0m \u001b[0mdesc\u001b[0m\u001b[0;34m=\u001b[0m\u001b[0;34m'Managers'\u001b[0m\u001b[0;34m)\u001b[0m\u001b[0;34m]\u001b[0m\u001b[0;34m\u001b[0m\u001b[0;34m\u001b[0m\u001b[0m\n\u001b[0m",
      "\u001b[0;32m<ipython-input-18-5bd9516e3e55>\u001b[0m in \u001b[0;36m<listcomp>\u001b[0;34m(.0)\u001b[0m\n\u001b[1;32m      1\u001b[0m \u001b[0;32mfrom\u001b[0m \u001b[0mfederated\u001b[0m \u001b[0;32mimport\u001b[0m \u001b[0mevaluate_new_manager\u001b[0m\u001b[0;34m\u001b[0m\u001b[0;34m\u001b[0m\u001b[0m\n\u001b[1;32m      2\u001b[0m \u001b[0;34m\u001b[0m\u001b[0m\n\u001b[0;32m----> 3\u001b[0;31m \u001b[0mbias_comparison_managers\u001b[0m \u001b[0;34m=\u001b[0m \u001b[0;34m[\u001b[0m\u001b[0mevaluate_new_manager\u001b[0m\u001b[0;34m(\u001b[0m\u001b[0;34m'Fed Bias '\u001b[0m\u001b[0;34m+\u001b[0m \u001b[0mstr\u001b[0m\u001b[0;34m(\u001b[0m\u001b[0mbias\u001b[0m\u001b[0;34m)\u001b[0m\u001b[0;34m,\u001b[0m \u001b[0mdefault_training_dataset\u001b[0m\u001b[0;34m,\u001b[0m \u001b[0mdefault_testing_dataset\u001b[0m\u001b[0;34m,\u001b[0m \u001b[0mp\u001b[0m\u001b[0;34m=\u001b[0m\u001b[0mbias\u001b[0m\u001b[0;34m,\u001b[0m \u001b[0mn_rounds\u001b[0m\u001b[0;34m=\u001b[0m\u001b[0mdefault_n_rounds\u001b[0m\u001b[0;34m,\u001b[0m \u001b[0mtarget_accuracy\u001b[0m\u001b[0;34m=\u001b[0m\u001b[0mdefault_target_accuracy\u001b[0m\u001b[0;34m,\u001b[0m \u001b[0mmodel\u001b[0m\u001b[0;34m=\u001b[0m\u001b[0mDefaultNet\u001b[0m\u001b[0;34m)\u001b[0m \u001b[0;32mfor\u001b[0m \u001b[0mbias\u001b[0m \u001b[0;32min\u001b[0m \u001b[0mtqdm\u001b[0m\u001b[0;34m(\u001b[0m\u001b[0;34m[\u001b[0m\u001b[0;36m0.0\u001b[0m\u001b[0;34m,\u001b[0m \u001b[0;36m0.4\u001b[0m\u001b[0;34m,\u001b[0m \u001b[0;36m0.8\u001b[0m\u001b[0;34m,\u001b[0m \u001b[0;36m0.9\u001b[0m\u001b[0;34m,\u001b[0m \u001b[0;36m0.95\u001b[0m\u001b[0;34m,\u001b[0m \u001b[0;36m0.98\u001b[0m\u001b[0;34m,\u001b[0m \u001b[0;36m0.99\u001b[0m\u001b[0;34m,\u001b[0m \u001b[0;36m1.0\u001b[0m\u001b[0;34m]\u001b[0m\u001b[0;34m,\u001b[0m \u001b[0mdesc\u001b[0m\u001b[0;34m=\u001b[0m\u001b[0;34m'Managers'\u001b[0m\u001b[0;34m)\u001b[0m\u001b[0;34m]\u001b[0m\u001b[0;34m\u001b[0m\u001b[0;34m\u001b[0m\u001b[0m\n\u001b[0m",
      "\u001b[0;32m~/work/bfpytorch/federated.py\u001b[0m in \u001b[0;36mevaluate_new_manager\u001b[0;34m(name, training_dataset, testing_dataset, p, n_rounds, target_accuracy, model, verbose)\u001b[0m\n\u001b[1;32m    258\u001b[0m     \u001b[0mdataloaders\u001b[0m \u001b[0;34m=\u001b[0m \u001b[0mmake_federated_dataloaders\u001b[0m\u001b[0;34m(\u001b[0m\u001b[0mtraining_dataset\u001b[0m\u001b[0;34m,\u001b[0m \u001b[0mp\u001b[0m\u001b[0;34m=\u001b[0m\u001b[0mp\u001b[0m\u001b[0;34m)\u001b[0m\u001b[0;34m\u001b[0m\u001b[0;34m\u001b[0m\u001b[0m\n\u001b[1;32m    259\u001b[0m     \u001b[0mmanager\u001b[0m \u001b[0;34m=\u001b[0m \u001b[0mFederatedManager\u001b[0m\u001b[0;34m(\u001b[0m\u001b[0mname\u001b[0m\u001b[0;34m,\u001b[0m \u001b[0mdataloaders\u001b[0m\u001b[0;34m,\u001b[0m \u001b[0mtesting_dataset\u001b[0m\u001b[0;34m,\u001b[0m \u001b[0mmodel\u001b[0m\u001b[0;34m,\u001b[0m \u001b[0mverbose\u001b[0m\u001b[0;34m=\u001b[0m\u001b[0mverbose\u001b[0m\u001b[0;34m)\u001b[0m\u001b[0;34m\u001b[0m\u001b[0;34m\u001b[0m\u001b[0m\n\u001b[0;32m--> 260\u001b[0;31m     \u001b[0mmanager\u001b[0m\u001b[0;34m.\u001b[0m\u001b[0mlearn\u001b[0m\u001b[0;34m(\u001b[0m\u001b[0mn_rounds\u001b[0m\u001b[0;34m,\u001b[0m \u001b[0mtarget_accuracy\u001b[0m\u001b[0;34m)\u001b[0m\u001b[0;34m\u001b[0m\u001b[0;34m\u001b[0m\u001b[0m\n\u001b[0m\u001b[1;32m    261\u001b[0m     \u001b[0mplot_managers\u001b[0m\u001b[0;34m(\u001b[0m\u001b[0mmanager\u001b[0m\u001b[0;34m)\u001b[0m\u001b[0;34m\u001b[0m\u001b[0;34m\u001b[0m\u001b[0m\n\u001b[1;32m    262\u001b[0m     \u001b[0;32mreturn\u001b[0m \u001b[0mmanager\u001b[0m\u001b[0;34m\u001b[0m\u001b[0;34m\u001b[0m\u001b[0m\n",
      "\u001b[0;32m~/work/bfpytorch/federated.py\u001b[0m in \u001b[0;36mlearn\u001b[0;34m(self, n_rounds, target_accuracy)\u001b[0m\n\u001b[1;32m    145\u001b[0m             \u001b[0;32mif\u001b[0m\u001b[0;34m(\u001b[0m\u001b[0mself\u001b[0m\u001b[0;34m.\u001b[0m\u001b[0mverbose\u001b[0m\u001b[0;34m)\u001b[0m\u001b[0;34m:\u001b[0m\u001b[0;34m\u001b[0m\u001b[0;34m\u001b[0m\u001b[0m\n\u001b[1;32m    146\u001b[0m                 \u001b[0mprint\u001b[0m\u001b[0;34m(\u001b[0m\u001b[0;34m'\\nRound {:<3} workers:'\u001b[0m\u001b[0;34m.\u001b[0m\u001b[0mformat\u001b[0m\u001b[0;34m(\u001b[0m\u001b[0mi\u001b[0m\u001b[0;34m)\u001b[0m\u001b[0;34m)\u001b[0m\u001b[0;34m\u001b[0m\u001b[0;34m\u001b[0m\u001b[0m\n\u001b[0;32m--> 147\u001b[0;31m             \u001b[0mself\u001b[0m\u001b[0;34m.\u001b[0m\u001b[0mround\u001b[0m\u001b[0;34m(\u001b[0m\u001b[0;34m)\u001b[0m\u001b[0;34m\u001b[0m\u001b[0;34m\u001b[0m\u001b[0m\n\u001b[0m\u001b[1;32m    148\u001b[0m             \u001b[0;32mif\u001b[0m\u001b[0;34m(\u001b[0m\u001b[0mself\u001b[0m\u001b[0;34m.\u001b[0m\u001b[0mverbose\u001b[0m\u001b[0;34m)\u001b[0m\u001b[0;34m:\u001b[0m\u001b[0;34m\u001b[0m\u001b[0;34m\u001b[0m\u001b[0m\n\u001b[1;32m    149\u001b[0m                 \u001b[0mprint_training_update\u001b[0m\u001b[0;34m(\u001b[0m\u001b[0;34m'\\nRound {:<3} combined:'\u001b[0m\u001b[0;34m.\u001b[0m\u001b[0mformat\u001b[0m\u001b[0;34m(\u001b[0m\u001b[0mi\u001b[0m\u001b[0;34m)\u001b[0m\u001b[0;34m,\u001b[0m \u001b[0mself\u001b[0m\u001b[0;34m.\u001b[0m\u001b[0mhistory\u001b[0m\u001b[0;34m,\u001b[0m \u001b[0mid\u001b[0m\u001b[0;34m(\u001b[0m\u001b[0mself\u001b[0m\u001b[0;34m.\u001b[0m\u001b[0mmodel\u001b[0m\u001b[0;34m)\u001b[0m\u001b[0;34m)\u001b[0m\u001b[0;34m\u001b[0m\u001b[0;34m\u001b[0m\u001b[0m\n",
      "\u001b[0;32m~/work/bfpytorch/federated.py\u001b[0m in \u001b[0;36mround\u001b[0;34m(self)\u001b[0m\n\u001b[1;32m     60\u001b[0m         \u001b[0mweighted\u001b[0m \u001b[0maverage\u001b[0m \u001b[0;32mand\u001b[0m \u001b[0mdo\u001b[0m \u001b[0;32mnot\u001b[0m \u001b[0mreceive\u001b[0m \u001b[0ma\u001b[0m \u001b[0mcopy\u001b[0m \u001b[0mof\u001b[0m \u001b[0mthe\u001b[0m \u001b[0mserver\u001b[0m \u001b[0mmodel\u001b[0m\u001b[0;34m.\u001b[0m\u001b[0;34m\u001b[0m\u001b[0;34m\u001b[0m\u001b[0m\n\u001b[1;32m     61\u001b[0m         \"\"\"\n\u001b[0;32m---> 62\u001b[0;31m         \u001b[0mupdates\u001b[0m \u001b[0;34m=\u001b[0m \u001b[0;34m[\u001b[0m\u001b[0mw\u001b[0m\u001b[0;34m.\u001b[0m\u001b[0mtrain\u001b[0m\u001b[0;34m(\u001b[0m\u001b[0;34m)\u001b[0m \u001b[0;32mfor\u001b[0m \u001b[0mw\u001b[0m \u001b[0;32min\u001b[0m \u001b[0mself\u001b[0m\u001b[0;34m.\u001b[0m\u001b[0mworkers\u001b[0m\u001b[0;34m]\u001b[0m\u001b[0;34m\u001b[0m\u001b[0;34m\u001b[0m\u001b[0m\n\u001b[0m\u001b[1;32m     63\u001b[0m         self.fedavg(\n\u001b[1;32m     64\u001b[0m             \u001b[0;34m[\u001b[0m\u001b[0mu\u001b[0m \u001b[0;32mfor\u001b[0m \u001b[0mu\u001b[0m\u001b[0;34m,\u001b[0m \u001b[0mw\u001b[0m \u001b[0;32min\u001b[0m \u001b[0mzip\u001b[0m\u001b[0;34m(\u001b[0m\u001b[0mupdates\u001b[0m\u001b[0;34m,\u001b[0m \u001b[0mself\u001b[0m\u001b[0;34m.\u001b[0m\u001b[0mworkers\u001b[0m\u001b[0;34m)\u001b[0m \u001b[0;32mif\u001b[0m \u001b[0mw\u001b[0m\u001b[0;34m.\u001b[0m\u001b[0mparticipant\u001b[0m\u001b[0;34m]\u001b[0m\u001b[0;34m\u001b[0m\u001b[0;34m\u001b[0m\u001b[0m\n",
      "\u001b[0;32m~/work/bfpytorch/federated.py\u001b[0m in \u001b[0;36m<listcomp>\u001b[0;34m(.0)\u001b[0m\n\u001b[1;32m     60\u001b[0m         \u001b[0mweighted\u001b[0m \u001b[0maverage\u001b[0m \u001b[0;32mand\u001b[0m \u001b[0mdo\u001b[0m \u001b[0;32mnot\u001b[0m \u001b[0mreceive\u001b[0m \u001b[0ma\u001b[0m \u001b[0mcopy\u001b[0m \u001b[0mof\u001b[0m \u001b[0mthe\u001b[0m \u001b[0mserver\u001b[0m \u001b[0mmodel\u001b[0m\u001b[0;34m.\u001b[0m\u001b[0;34m\u001b[0m\u001b[0;34m\u001b[0m\u001b[0m\n\u001b[1;32m     61\u001b[0m         \"\"\"\n\u001b[0;32m---> 62\u001b[0;31m         \u001b[0mupdates\u001b[0m \u001b[0;34m=\u001b[0m \u001b[0;34m[\u001b[0m\u001b[0mw\u001b[0m\u001b[0;34m.\u001b[0m\u001b[0mtrain\u001b[0m\u001b[0;34m(\u001b[0m\u001b[0;34m)\u001b[0m \u001b[0;32mfor\u001b[0m \u001b[0mw\u001b[0m \u001b[0;32min\u001b[0m \u001b[0mself\u001b[0m\u001b[0;34m.\u001b[0m\u001b[0mworkers\u001b[0m\u001b[0;34m]\u001b[0m\u001b[0;34m\u001b[0m\u001b[0;34m\u001b[0m\u001b[0m\n\u001b[0m\u001b[1;32m     63\u001b[0m         self.fedavg(\n\u001b[1;32m     64\u001b[0m             \u001b[0;34m[\u001b[0m\u001b[0mu\u001b[0m \u001b[0;32mfor\u001b[0m \u001b[0mu\u001b[0m\u001b[0;34m,\u001b[0m \u001b[0mw\u001b[0m \u001b[0;32min\u001b[0m \u001b[0mzip\u001b[0m\u001b[0;34m(\u001b[0m\u001b[0mupdates\u001b[0m\u001b[0;34m,\u001b[0m \u001b[0mself\u001b[0m\u001b[0;34m.\u001b[0m\u001b[0mworkers\u001b[0m\u001b[0;34m)\u001b[0m \u001b[0;32mif\u001b[0m \u001b[0mw\u001b[0m\u001b[0;34m.\u001b[0m\u001b[0mparticipant\u001b[0m\u001b[0;34m]\u001b[0m\u001b[0;34m\u001b[0m\u001b[0;34m\u001b[0m\u001b[0m\n",
      "\u001b[0;32m~/work/bfpytorch/federated.py\u001b[0m in \u001b[0;36mtrain\u001b[0;34m(self)\u001b[0m\n\u001b[1;32m    211\u001b[0m                 \u001b[0mypred\u001b[0m \u001b[0;34m=\u001b[0m \u001b[0mself\u001b[0m\u001b[0;34m.\u001b[0m\u001b[0mmodel\u001b[0m\u001b[0;34m(\u001b[0m\u001b[0mx\u001b[0m\u001b[0;34m)\u001b[0m\u001b[0;34m\u001b[0m\u001b[0;34m\u001b[0m\u001b[0m\n\u001b[1;32m    212\u001b[0m                 \u001b[0mtrain_loss\u001b[0m \u001b[0;34m=\u001b[0m \u001b[0mself\u001b[0m\u001b[0;34m.\u001b[0m\u001b[0mloss_fn\u001b[0m\u001b[0;34m(\u001b[0m\u001b[0mypred\u001b[0m\u001b[0;34m,\u001b[0m \u001b[0my\u001b[0m\u001b[0;34m)\u001b[0m\u001b[0;34m\u001b[0m\u001b[0;34m\u001b[0m\u001b[0m\n\u001b[0;32m--> 213\u001b[0;31m                 \u001b[0mtrain_loss\u001b[0m\u001b[0;34m.\u001b[0m\u001b[0mbackward\u001b[0m\u001b[0;34m(\u001b[0m\u001b[0;34m)\u001b[0m\u001b[0;34m\u001b[0m\u001b[0;34m\u001b[0m\u001b[0m\n\u001b[0m\u001b[1;32m    214\u001b[0m                 \u001b[0moptimizer\u001b[0m\u001b[0;34m.\u001b[0m\u001b[0mstep\u001b[0m\u001b[0;34m(\u001b[0m\u001b[0;34m)\u001b[0m\u001b[0;34m\u001b[0m\u001b[0;34m\u001b[0m\u001b[0m\n\u001b[1;32m    215\u001b[0m                 \u001b[0mself\u001b[0m\u001b[0;34m.\u001b[0m\u001b[0mhistory\u001b[0m\u001b[0;34m[\u001b[0m\u001b[0;34m\"train_loss\"\u001b[0m\u001b[0;34m]\u001b[0m\u001b[0;34m.\u001b[0m\u001b[0mappend\u001b[0m\u001b[0;34m(\u001b[0m\u001b[0mtrain_loss\u001b[0m\u001b[0;34m.\u001b[0m\u001b[0mitem\u001b[0m\u001b[0;34m(\u001b[0m\u001b[0;34m)\u001b[0m\u001b[0;34m)\u001b[0m\u001b[0;34m\u001b[0m\u001b[0;34m\u001b[0m\u001b[0m\n",
      "\u001b[0;32m~/work/bfpytorch/venv/lib/python3.6/site-packages/torch/tensor.py\u001b[0m in \u001b[0;36mbackward\u001b[0;34m(self, gradient, retain_graph, create_graph)\u001b[0m\n\u001b[1;32m    100\u001b[0m                 \u001b[0mproducts\u001b[0m\u001b[0;34m.\u001b[0m \u001b[0mDefaults\u001b[0m \u001b[0mto\u001b[0m\u001b[0;31m \u001b[0m\u001b[0;31m`\u001b[0m\u001b[0;31m`\u001b[0m\u001b[0;32mFalse\u001b[0m\u001b[0;31m`\u001b[0m\u001b[0;31m`\u001b[0m\u001b[0;34m.\u001b[0m\u001b[0;34m\u001b[0m\u001b[0;34m\u001b[0m\u001b[0m\n\u001b[1;32m    101\u001b[0m         \"\"\"\n\u001b[0;32m--> 102\u001b[0;31m         \u001b[0mtorch\u001b[0m\u001b[0;34m.\u001b[0m\u001b[0mautograd\u001b[0m\u001b[0;34m.\u001b[0m\u001b[0mbackward\u001b[0m\u001b[0;34m(\u001b[0m\u001b[0mself\u001b[0m\u001b[0;34m,\u001b[0m \u001b[0mgradient\u001b[0m\u001b[0;34m,\u001b[0m \u001b[0mretain_graph\u001b[0m\u001b[0;34m,\u001b[0m \u001b[0mcreate_graph\u001b[0m\u001b[0;34m)\u001b[0m\u001b[0;34m\u001b[0m\u001b[0;34m\u001b[0m\u001b[0m\n\u001b[0m\u001b[1;32m    103\u001b[0m \u001b[0;34m\u001b[0m\u001b[0m\n\u001b[1;32m    104\u001b[0m     \u001b[0;32mdef\u001b[0m \u001b[0mregister_hook\u001b[0m\u001b[0;34m(\u001b[0m\u001b[0mself\u001b[0m\u001b[0;34m,\u001b[0m \u001b[0mhook\u001b[0m\u001b[0;34m)\u001b[0m\u001b[0;34m:\u001b[0m\u001b[0;34m\u001b[0m\u001b[0;34m\u001b[0m\u001b[0m\n",
      "\u001b[0;32m~/work/bfpytorch/venv/lib/python3.6/site-packages/torch/autograd/__init__.py\u001b[0m in \u001b[0;36mbackward\u001b[0;34m(tensors, grad_tensors, retain_graph, create_graph, grad_variables)\u001b[0m\n\u001b[1;32m     88\u001b[0m     Variable._execution_engine.run_backward(\n\u001b[1;32m     89\u001b[0m         \u001b[0mtensors\u001b[0m\u001b[0;34m,\u001b[0m \u001b[0mgrad_tensors\u001b[0m\u001b[0;34m,\u001b[0m \u001b[0mretain_graph\u001b[0m\u001b[0;34m,\u001b[0m \u001b[0mcreate_graph\u001b[0m\u001b[0;34m,\u001b[0m\u001b[0;34m\u001b[0m\u001b[0;34m\u001b[0m\u001b[0m\n\u001b[0;32m---> 90\u001b[0;31m         allow_unreachable=True)  # allow_unreachable flag\n\u001b[0m\u001b[1;32m     91\u001b[0m \u001b[0;34m\u001b[0m\u001b[0m\n\u001b[1;32m     92\u001b[0m \u001b[0;34m\u001b[0m\u001b[0m\n",
      "\u001b[0;31mKeyboardInterrupt\u001b[0m: "
     ]
    }
   ],
   "source": [
    "from federated import evaluate_new_manager\n",
    "\n",
    "bias_comparison_managers = [evaluate_new_manager('Fed Bias '+ str(bias), default_training_dataset, default_testing_dataset, p=bias, n_rounds=default_n_rounds, target_accuracy=default_target_accuracy, model=DefaultNet) for bias in tqdm([0.0, 0.4, 0.8, 0.9, 0.95, 0.98, 0.99, 1.0], desc='Managers')]\n",
    "\n",
    "plot_managers(bias_comparison_managers)"
   ]
  },
  {
   "cell_type": "markdown",
   "metadata": {},
   "source": [
    "The federated models converge even with very heavily biased datasets per worker. Unsurprisingly, it takes longer to hit a given target accuracy. But even when the datasets are completely biased, that is, each worker sees examples from *exactly one class*, a federated set of workers can still at least converge."
   ]
  },
  {
   "cell_type": "markdown",
   "metadata": {},
   "source": [
    "# Conclusion\n",
    "We've taken a look at the basics of federated learning using a toy dataset, and explored some of the peculiar effects of data skew on the performance of federation. In the process of writing up this post, we've stumbled onto a number of behaviors of federated learning that we expect to write up in future posts. "
   ]
  }
 ],
 "metadata": {
  "kernelspec": {
   "display_name": "Python 2",
   "language": "python",
   "name": "python2"
  },
  "language_info": {
   "codemirror_mode": {
    "name": "ipython",
    "version": 3
   },
   "file_extension": ".py",
   "mimetype": "text/x-python",
   "name": "python",
   "nbconvert_exporter": "python",
   "pygments_lexer": "ipython3",
   "version": "3.6.7"
  }
 },
 "nbformat": 4,
 "nbformat_minor": 2
}
