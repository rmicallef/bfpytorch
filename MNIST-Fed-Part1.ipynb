{
 "cells": [
  {
   "cell_type": "markdown",
   "metadata": {},
   "source": [
    "# Federated Machine Learning in PyTorch\n",
    "\n",
    "This notebook is a demonstration of _federated learning_, an approach to training a machine learning model by combining the results of training local models on multiple devices.\n",
    "\n",
    "This notebook is part of a series intended to start from the basics to demonstrate federated learning in `pytorch`, then move on to test some of the bounds of what federated learning can (and can't) do.\n",
    "\n",
    "## The Task: Digit Recognition\n",
    "\n",
    "For this demonstration, our task is a classic one: the MNIST digit recognition task. Specifically, we need to determine which number is written in an image of a handwritten digit like this one: \n",
    "\n",
    "![Handwritten digit \"6\"](images/example-6.png)\n",
    "\n",
    "To carry out this task we need a machine learning model to \"look\" at an image and classify it into a number. We also need and image data to train the model. We're going to use a simple convolutional neural network model. For the training images, we're using the well-known MNIST digits dataset.\n",
    "\n",
    "## The Approach: Federation\n",
    "\n",
    "The federated approach uses several _worker_ devices to train their own local models with independent data. That is, the workers each train their own local model with a subset of the full dataset.\n",
    "\n",
    "Each worker trains its local model for a bit, then sends its incrementally trained local model back to a _manager_. The manager combines the local models from all of the workers into a master model, then sends the master model back to the workers. This process is called a _round_. \n",
    "\n",
    "Then another round begins: the workers each train their local copy of the master model (creating another set of individualized local models), send those local models back to the manager. Once again the manager combines these individualized local models into a new master model, and pushes the new master model down to the workers. This cycle of rounds repeats as long as is necessary and useful.\n",
    "\n",
    "## Our Federation Library\n",
    "\n",
    "The `federated` library we're using here is a *simulation* of a federated network. It's not *true* federated learning because it uses one machine to simulate several indepedent machines. This means it does not have to deal with network communication or the timing problems inherent to parallelism. But the \"local\" models are independent and that is sufficient to demonstrate the principles underlying federated learning.\n",
    "\n",
    "Our library includes a `FederatedManager` class and a `FederatedWorker` class. A `FederatedManager` contains a master prediction model and creates several independent `FederatedWorker` instances. Each `FederatedWorker` has its own local model and a distinct subset of the MNIST data.\n",
    "\n",
    "In each `round` of federated learning, each `FederatedWorker` trains its local model using only the data that that worker recieves, and then sends its trained local model to the `FederatedManager`. The `FederatedManager` combines the models into an updated master model and pushes that new master model down to each `FederatedWorker`. There are a number of algorithms available for combining local models. Our library uses [federated averaging](https://arxiv.org/abs/1602.05629), a very simple element-by-element average of the model's weights.\n",
    "\n",
    "We're going to see how federation works and test out some corner cases here. Let's get started with the code."
   ]
  },
  {
   "cell_type": "markdown",
   "metadata": {},
   "source": [
    "## The Model\n",
    "\n",
    "Now we define the model. We're using the [sample model from the `pytorch` package](https://github.com/pytorch/examples/blob/master/mnist/main.py)."
   ]
  },
  {
   "cell_type": "code",
   "execution_count": 1,
   "metadata": {},
   "outputs": [],
   "source": [
    "# Define the model\n",
    "\n",
    "import torch.nn as nn\n",
    "import torch.nn.functional as F\n",
    "\n",
    "'''   \n",
    "\n",
    "# THIS IS THE OFFICIAL PYTORCH EXAMPLE, BUT IT'S SLOWER THAN THE OTHER MODEL, SO FOR NOW, IT'S FAST BEFORE TIDY\n",
    "\n",
    "class Net(nn.Module):\n",
    "    def __init__(self):\n",
    "        super(Net, self).__init__()\n",
    "        self.conv1 = nn.Conv2d(1, 32, 3, 1)\n",
    "        self.conv2 = nn.Conv2d(32, 64, 3, 1)\n",
    "        self.dropout1 = nn.Dropout2d(0.25)\n",
    "        self.dropout2 = nn.Dropout2d(0.5)\n",
    "        self.fc1 = nn.Linear(9216, 128)\n",
    "        self.fc2 = nn.Linear(128, 10)\n",
    "\n",
    "    def forward(self, x):\n",
    "        x = self.conv1(x)\n",
    "        x = F.relu(x)\n",
    "        x = self.conv2(x)\n",
    "        x = F.max_pool2d(x, 2)\n",
    "        x = self.dropout1(x)\n",
    "        x = torch.flatten(x, 1)\n",
    "        x = self.fc1(x)\n",
    "        x = F.relu(x)\n",
    "        x = self.dropout2(x)\n",
    "        x = self.fc2(x)\n",
    "        output = F.log_softmax(x, dim=1)\n",
    "        return output\n",
    "'''\n",
    "\n",
    "# Quick and gets the job done well enough for testing\n",
    "class Net(nn.Module):\n",
    "    def __init__(self):\n",
    "        super(Net, self).__init__()\n",
    "        self.fc1 = nn.Linear(28*28, 500)\n",
    "        self.fc2 = nn.Linear(500, 256)\n",
    "        self.fc3 = nn.Linear(256, 10)\n",
    "    def forward(self, x):\n",
    "        x = x.view(-1, 28*28)\n",
    "        x = nn.functional.relu(self.fc1(x))\n",
    "        x = nn.functional.relu(self.fc2(x))\n",
    "        x = self.fc3(x)\n",
    "        return x"
   ]
  },
  {
   "cell_type": "markdown",
   "metadata": {},
   "source": [
    "## The Data - Standard MNIST Datasets\n",
    "Here we get plain vanilla MNIST data, a training set and a test set, from the `pytorch` package, again using the same transforms as their example.\n",
    "\n",
    "If you don't already have the MNIST data on your machine, the setting `download=True` in the call to `torchvision.datasets.MNIST()` will fetch it for you."
   ]
  },
  {
   "cell_type": "code",
   "execution_count": 2,
   "metadata": {},
   "outputs": [
    {
     "name": "stdout",
     "output_type": "stream",
     "text": [
      "Train dataset size:  60000\n",
      "Test dataset size :  10000\n"
     ]
    }
   ],
   "source": [
    "# acquire the data and create standard MNIST datasets\n",
    "\n",
    "import torch\n",
    "import torchvision.datasets as dsets\n",
    "import torchvision.transforms as transforms\n",
    "\n",
    "# create standard datasets using all of the MNIST data\n",
    "data_path = './MNIST-data/raw'\n",
    "\n",
    "trans = transforms.Compose([transforms.ToTensor(), transforms.Normalize((0.1307,), (0.3081,))])\n",
    "\n",
    "train_dset = dsets.MNIST(root=data_path, download=True, train=True, transform=trans)\n",
    "test_dset = dsets.MNIST(root=data_path, download=True, train=False, transform=trans)\n",
    "\n",
    "print(\"Train dataset size: \", len(train_dset))\n",
    "print(\"Test dataset size : \", len(test_dset))"
   ]
  },
  {
   "cell_type": "markdown",
   "metadata": {},
   "source": [
    "Now we have our standard MNIST datasets: `train_dset` contains 60,000 examples, and `test_dset` contains 10,000 samples."
   ]
  },
  {
   "cell_type": "code",
   "execution_count": 3,
   "metadata": {},
   "outputs": [],
   "source": [
    "# create dataloaders\n",
    "\n",
    "from torch.utils.data import DataLoader\n",
    "\n",
    "train_batch_size = 64\n",
    "test_batch_size = 1000\n",
    "\n",
    "# create standard dataloaders using all of the MNIST data\n",
    "train_dloader = DataLoader(train_dset, batch_size=train_batch_size, shuffle=True)\n",
    "test_dloader = DataLoader(test_dset, batch_size=test_batch_size, shuffle=True)"
   ]
  },
  {
   "cell_type": "markdown",
   "metadata": {},
   "source": [
    "Let's check out the default data. The out-of-the-box MNIST dataset has roughly equal numbers of samples for each digit, i.e., about as many `4`s as `6`s."
   ]
  },
  {
   "cell_type": "code",
   "execution_count": 4,
   "metadata": {},
   "outputs": [
    {
     "data": {
      "image/png": "[encoded data removed]",
      "text/plain": [
       "<Figure size 720x360 with 1 Axes>"
      ]
     },
     "metadata": {
      "needs_background": "light"
     },
     "output_type": "display_data"
    }
   ],
   "source": [
    "%matplotlib inline\n",
    "import matplotlib\n",
    "import matplotlib.pyplot as plt\n",
    "\n",
    "fig, ax = plt.subplots(figsize=(10, 5))\n",
    "ax.set_title('Standard MNIST Digit Counts')\n",
    "ax.set_xlabel('Digit')\n",
    "ax.set_ylabel('Digit Samples')\n",
    "ax.xaxis.set_major_locator(plt.MultipleLocator(1))\n",
    "ax.hist([train_dloader.dataset.targets.tolist(), test_dloader.dataset.targets.tolist()*6], \n",
    "        label=['Train', 'Test (scaled)'],\n",
    "        bins=list(range(11)), \n",
    "        histtype='bar',\n",
    "        align='left',\n",
    "        rwidth=0.8,\n",
    "       )\n",
    "ax.legend();"
   ]
  },
  {
   "cell_type": "markdown",
   "metadata": {},
   "source": [
    "The training data is reasonably well distributed, and the plots above confirm it. We scaled up the test set counts by a factor of six to make them comparable to the training set, which has exactly six times as many examples as the test set."
   ]
  },
  {
   "cell_type": "markdown",
   "metadata": {},
   "source": [
    "## Baseline: The Non-Federated Approach\n",
    "\n",
    "To show a baseline of non-federated learning, we train a model using just one worker (we're technically using the federated library, but with one worker, it's equivalent to non-federated learning). This one worker will train on the full standard MNIST dataset of 60,000 examples.\n",
    "\n",
    "TODO: AND THEN DO WE WANT TO SHOW A MODEL TRAINED ONLY ON ONE SKEWED DATASET?\n",
    "\n",
    "TODO: Explain (and apologize?) the hack to measure the length of a dataset? Or find another way?"
   ]
  },
  {
   "cell_type": "code",
   "execution_count": 5,
   "metadata": {},
   "outputs": [
    {
     "name": "stdout",
     "output_type": "stream",
     "text": [
      "Dataset size:  60000\n"
     ]
    }
   ],
   "source": [
    "import federated\n",
    "\n",
    "learning_rate = 5e-2\n",
    "num_epochs = 1\n",
    "num_rounds = 20\n",
    "\n",
    "default_manager = federated.FederatedManager(\n",
    "    [train_dloader],\n",
    "    Net,\n",
    "    nn.CrossEntropyLoss(),\n",
    "    test_dset,\n",
    "    num_epochs,\n",
    "    learning_rate\n",
    ")\n",
    "\n",
    "print(\"Dataset size: \", len(train_dloader.dataset))"
   ]
  },
  {
   "cell_type": "code",
   "execution_count": 6,
   "metadata": {},
   "outputs": [
    {
     "name": "stdout",
     "output_type": "stream",
     "text": [
      "Training 20 round(s) with 1 worker(s) doing 1 epoch(s) per round.\n",
      "\n"
     ]
    },
    {
     "data": {
      "application/vnd.jupyter.widget-view+json": {
       "model_id": "58a95f2a18b5437cbf6faeea6ed2734d",
       "version_major": 2,
       "version_minor": 0
      },
      "text/plain": [
       "HBox(children=(IntProgress(value=0, description='Rounds', max=20, style=ProgressStyle(description_width='initi…"
      ]
     },
     "metadata": {},
     "output_type": "display_data"
    },
    {
     "name": "stdout",
     "output_type": "stream",
     "text": [
      "Beginning round 1\n",
      "0 0.11971 96.42\n",
      "Finished round 1 with global loss: 0.11971 and accuracy: 96.42 \n",
      "\n",
      "Beginning round 2\n",
      "0 0.09930 96.78\n",
      "Finished round 2 with global loss: 0.09930 and accuracy: 96.78 \n",
      "\n",
      "Beginning round 3\n",
      "0 0.07169 97.64\n",
      "Finished round 3 with global loss: 0.07169 and accuracy: 97.64 \n",
      "\n",
      "Beginning round 4\n",
      "0 0.06405 97.90\n",
      "Finished round 4 with global loss: 0.06405 and accuracy: 97.90 \n",
      "\n",
      "Beginning round 5\n",
      "0 0.05631 98.23\n",
      "Finished round 5 with global loss: 0.05631 and accuracy: 98.23 \n",
      "\n",
      "Beginning round 6\n",
      "0 0.06118 98.11\n",
      "Finished round 6 with global loss: 0.06118 and accuracy: 98.11 \n",
      "\n",
      "Beginning round 7\n",
      "0 0.06396 98.18\n",
      "Finished round 7 with global loss: 0.06396 and accuracy: 98.18 \n",
      "\n",
      "Beginning round 8\n",
      "0 0.05647 98.35\n",
      "Finished round 8 with global loss: 0.05647 and accuracy: 98.35 \n",
      "\n",
      "Beginning round 9\n",
      "0 0.05916 98.16\n",
      "Finished round 9 with global loss: 0.05916 and accuracy: 98.16 \n",
      "\n",
      "Beginning round 10\n",
      "0 0.06589 98.15\n",
      "Finished round 10 with global loss: 0.06589 and accuracy: 98.15 \n",
      "\n",
      "Beginning round 11\n",
      "0 0.06018 98.35\n",
      "Finished round 11 with global loss: 0.06018 and accuracy: 98.35 \n",
      "\n",
      "Beginning round 12\n",
      "0 0.05997 98.43\n",
      "Finished round 12 with global loss: 0.05997 and accuracy: 98.43 \n",
      "\n",
      "Beginning round 13\n",
      "0 0.06140 98.35\n",
      "Finished round 13 with global loss: 0.06140 and accuracy: 98.35 \n",
      "\n",
      "Beginning round 14\n",
      "0 0.06160 98.42\n",
      "Finished round 14 with global loss: 0.06160 and accuracy: 98.42 \n",
      "\n",
      "Beginning round 15\n",
      "0 0.06307 98.41\n",
      "Finished round 15 with global loss: 0.06307 and accuracy: 98.41 \n",
      "\n",
      "Beginning round 16\n",
      "0 0.06304 98.41\n",
      "Finished round 16 with global loss: 0.06304 and accuracy: 98.41 \n",
      "\n",
      "Beginning round 17\n",
      "0 0.06337 98.41\n",
      "Finished round 17 with global loss: 0.06337 and accuracy: 98.41 \n",
      "\n",
      "Beginning round 18\n",
      "0 0.06414 98.45\n",
      "Finished round 18 with global loss: 0.06414 and accuracy: 98.45 \n",
      "\n",
      "Beginning round 19\n",
      "0 0.06487 98.42\n",
      "Finished round 19 with global loss: 0.06487 and accuracy: 98.42 \n",
      "\n",
      "Beginning round 20\n",
      "0 0.06450 98.45\n",
      "Finished round 20 with global loss: 0.06450 and accuracy: 98.45 \n",
      "\n",
      "\n"
     ]
    }
   ],
   "source": [
    "from tqdm.notebook import trange\n",
    "\n",
    "def run_manager(manager, num_rounds):\n",
    "    \n",
    "    print(\"Training\", num_rounds, \"round(s) with\", manager.n_workers, \"worker(s) doing\", manager.n_epochs, \"epoch(s) per round.\\n\" )\n",
    "\n",
    "    for i in trange(num_rounds, desc='Rounds'):\n",
    "        print(\"Beginning round\", i+1)\n",
    "        manager.round()\n",
    "        print(\"Finished round\", i+1, \"with global loss: %.5f and accuracy: %.2f\" % (\n",
    "            manager.history['test_loss'][-1], \n",
    "            manager.history['test_acc'][-1]\n",
    "        ), \"\\n\")\n",
    "        \n",
    "run_manager(default_manager, num_rounds)"
   ]
  },
  {
   "cell_type": "code",
   "execution_count": 7,
   "metadata": {},
   "outputs": [
    {
     "data": {
      "image/png": "[encoded data removed]",
      "text/plain": [
       "<Figure size 432x288 with 1 Axes>"
      ]
     },
     "metadata": {
      "needs_background": "light"
     },
     "output_type": "display_data"
    }
   ],
   "source": [
    "%matplotlib inline\n",
    "import matplotlib.pyplot as plt\n",
    "\n",
    "fig_default, ax_default = plt.subplots()\n",
    "\n",
    "ax_default.plot(default_manager.history['test_loss'], label=\"Non-federated Test Loss\")\n",
    "\n",
    "ax_default.set_xlabel(\"Round\")\n",
    "ax_default.set_ylabel(\"Loss\")\n",
    "ax_default.legend();"
   ]
  },
  {
   "cell_type": "markdown",
   "metadata": {},
   "source": [
    "# The Federated Approach\n",
    "\n",
    "Now that we have a baseline using the traditional approach. we perform the same task using the federated learning approach."
   ]
  },
  {
   "cell_type": "markdown",
   "metadata": {},
   "source": [
    "## Splitting the Deck Into Piles\n",
    "\n",
    "To illustrate federated learning we use several workers, each representing a device in the field. For now, we'll assume our workers are exposed to similar types and amounts of data, say, a thermostat reporting temperature and humidity every ten minutes. The analog here in MNIST is a subset of training examples for each worker. Here, we'll use ten workers. Our `pytorch` implementation will create a training `DataLoader` for each worker (and we we'll leave the test `DataLoader` as it is in the raw MNIST `Dataset`."
   ]
  },
  {
   "cell_type": "code",
   "execution_count": 8,
   "metadata": {},
   "outputs": [
    {
     "data": {
      "application/vnd.jupyter.widget-view+json": {
       "model_id": "9d306abc31d64cb2b58d26d51ef47898",
       "version_major": 2,
       "version_minor": 0
      },
      "text/plain": [
       "HBox(children=(IntProgress(value=0, max=10), HTML(value='')))"
      ]
     },
     "metadata": {},
     "output_type": "display_data"
    },
    {
     "name": "stdout",
     "output_type": "stream",
     "text": [
      "\n"
     ]
    }
   ],
   "source": [
    "#from torch.utils.data import WeightedRandomSampler\n",
    "#whitmans_sampler = WeightedRandomSampler([0.2, 0.14, 0.19], 24, replacement=False)\n",
    "\n",
    "from torch.utils.data import RandomSampler\n",
    "\n",
    "num_workers = 10\n",
    "samples_per_worker = 6000\n",
    "fed_constant_n_dloaders = []\n",
    "\n",
    "fed_constant_n_sampler = RandomSampler(\n",
    "    data_source=train_dset,\n",
    "    replacement= True,\n",
    "    num_samples=samples_per_worker,\n",
    "    )\n",
    "\n",
    "for i in trange(num_workers):\n",
    "    fed_constant_n_dloaders.append(DataLoader(\n",
    "        train_dset, \n",
    "        batch_size=train_batch_size, \n",
    "        sampler=fed_constant_n_sampler,\n",
    "    ))"
   ]
  },
  {
   "cell_type": "code",
   "execution_count": 9,
   "metadata": {},
   "outputs": [
    {
     "data": {
      "application/vnd.jupyter.widget-view+json": {
       "model_id": "dce5f49681bf48da9ba58d4b6c0acc54",
       "version_major": 2,
       "version_minor": 0
      },
      "text/plain": [
       "HBox(children=(IntProgress(value=0, description='Checking Dataloader Sizes: ', max=10, style=ProgressStyle(des…"
      ]
     },
     "metadata": {},
     "output_type": "display_data"
    },
    {
     "name": "stdout",
     "output_type": "stream",
     "text": [
      "Dataloader 0 sample count: 6000\n",
      "Dataloader 1 sample count: 6000\n",
      "Dataloader 2 sample count: 6000\n",
      "Dataloader 3 sample count: 6000\n",
      "Dataloader 4 sample count: 6000\n",
      "Dataloader 5 sample count: 6000\n",
      "Dataloader 6 sample count: 6000\n",
      "Dataloader 7 sample count: 6000\n",
      "Dataloader 8 sample count: 6000\n",
      "Dataloader 9 sample count: 6000\n",
      "\n"
     ]
    }
   ],
   "source": [
    "for i in trange(len(fed_constant_n_dloaders), desc='Checking Dataloader Sizes: '):\n",
    "    _, ybatches = list(zip(*fed_constant_n_dloaders[7]))\n",
    "    print('Dataloader', i, 'sample count:', len(torch.cat(ybatches)))"
   ]
  },
  {
   "cell_type": "code",
   "execution_count": 10,
   "metadata": {},
   "outputs": [
    {
     "data": {
      "application/vnd.jupyter.widget-view+json": {
       "model_id": "38a6993f0ec14ea684916f169e6e4062",
       "version_major": 2,
       "version_minor": 0
      },
      "text/plain": [
       "HBox(children=(IntProgress(value=0, description='Getting Digit Counts:', max=10, style=ProgressStyle(descripti…"
      ]
     },
     "metadata": {},
     "output_type": "display_data"
    },
    {
     "name": "stdout",
     "output_type": "stream",
     "text": [
      "\n"
     ]
    }
   ],
   "source": [
    "from collections import Counter\n",
    "import numpy as np\n",
    "from tqdm.notebook import tqdm\n",
    "\n",
    "hist_counts = []\n",
    "digit_counts = []\n",
    "for loader in tqdm(fed_constant_n_dloaders, desc='Getting Digit Counts:'):\n",
    "    _, ybatches = list(zip(*loader))\n",
    "    ys = torch.cat(ybatches)\n",
    "    ys = [int(y) for y in ys]\n",
    "    hist_counts.append(ys)\n",
    "    \n",
    "    digits = sorted(Counter(ys).most_common())\n",
    "    _, digits = list(zip(*digits))\n",
    "    digit_counts.append(list(digits))\n",
    "\n",
    "digit_counts = [list(i) for i in zip(*digit_counts)]"
   ]
  },
  {
   "cell_type": "code",
   "execution_count": 11,
   "metadata": {},
   "outputs": [
    {
     "name": "stdout",
     "output_type": "stream",
     "text": [
      "[   [627, 596, 566, 591, 590, 587, 643, 576, 589, 596],\n",
      "    [682, 655, 686, 664, 648, 661, 644, 647, 672, 650],\n",
      "    [594, 651, 586, 591, 590, 587, 566, 616, 563, 598],\n",
      "    [587, 565, 630, 640, 605, 625, 651, 628, 663, 633],\n",
      "    [602, 608, 564, 588, 590, 569, 523, 566, 572, 586],\n",
      "    [494, 599, 541, 531, 573, 541, 530, 514, 559, 549],\n",
      "    [597, 597, 589, 598, 618, 579, 609, 625, 571, 600],\n",
      "    [629, 584, 645, 622, 643, 654, 657, 638, 623, 619],\n",
      "    [571, 529, 575, 553, 576, 551, 582, 608, 597, 583],\n",
      "    [617, 616, 618, 622, 567, 646, 595, 582, 591, 586]]\n",
      "<bound method MNIST.__len__ of Dataset MNIST\n",
      "    Number of datapoints: 60000\n",
      "    Split: train\n",
      "    Root Location: ./MNIST-data/raw\n",
      "    Transforms (if any): Compose(\n",
      "                             ToTensor()\n",
      "                             Normalize(mean=(0.1307,), std=(0.3081,))\n",
      "                         )\n",
      "    Target Transforms (if any): None>\n",
      "5961\n",
      "6609\n",
      "5942\n",
      "6227\n",
      "5768\n",
      "5431\n",
      "5983\n",
      "6314\n",
      "5725\n",
      "6040\n"
     ]
    }
   ],
   "source": [
    "import pprint\n",
    "pp = pprint.PrettyPrinter(indent=4)\n",
    "pp.pprint(digit_counts)\n",
    "\n",
    "print(fed_constant_n_dloaders[0].dataset.__len__)\n",
    "\n",
    "for i in range(len(fed_constant_n_dloaders)):\n",
    "    \n",
    "    print(sum(digit_counts[i]))\n",
    "    "
   ]
  },
  {
   "cell_type": "code",
   "execution_count": 12,
   "metadata": {},
   "outputs": [
    {
     "data": {
      "image/png": "[encoded data removed]",
      "text/plain": [
       "<Figure size 432x288 with 1 Axes>"
      ]
     },
     "metadata": {
      "needs_background": "light"
     },
     "output_type": "display_data"
    }
   ],
   "source": [
    "fig, ax = plt.subplots()\n",
    "ax.set_title('MNIST Subset Digit Counts')\n",
    "ax.xaxis.set_major_locator(plt.MultipleLocator(1))\n",
    "ax.set_ylabel('Digit Samples')\n",
    "ax.set_xlabel('Digits Grouped by Worker')\n",
    "H = ax.hist(hist_counts, bins=range(11), histtype='bar', align='left', rwidth=0.8)\n",
    "\n",
    "\n",
    "##TODO CONFIRM WHAT IM SEEING HERE"
   ]
  },
  {
   "cell_type": "markdown",
   "metadata": {},
   "source": [
    "So we can see that each of our ten workers has about the same number of each digit, i.e., the digit `5` is spread pretty evenly across the workers, and is probably lower in number for any given worker than the digit `1`, `1` being the most frequent digit in the MNIST set."
   ]
  },
  {
   "cell_type": "code",
   "execution_count": 13,
   "metadata": {},
   "outputs": [
    {
     "name": "stdout",
     "output_type": "stream",
     "text": [
      "Training 20 round(s) with 10 worker(s) doing 1 epoch(s) per round.\n",
      "\n"
     ]
    },
    {
     "data": {
      "application/vnd.jupyter.widget-view+json": {
       "model_id": "e8d4c0e09ab943ed9dc1b6c4b9d336c2",
       "version_major": 2,
       "version_minor": 0
      },
      "text/plain": [
       "HBox(children=(IntProgress(value=0, description='Rounds', max=20, style=ProgressStyle(description_width='initi…"
      ]
     },
     "metadata": {},
     "output_type": "display_data"
    },
    {
     "name": "stdout",
     "output_type": "stream",
     "text": [
      "Beginning round 1\n",
      "0 0.35250 89.70\n",
      "1 0.37223 89.09\n",
      "2 0.34810 90.16\n",
      "3 0.36148 89.37\n",
      "4 0.36313 89.49\n",
      "5 0.38600 88.24\n",
      "6 0.36560 89.57\n",
      "7 0.38525 88.69\n",
      "8 0.37932 88.50\n",
      "9 0.37583 88.66\n",
      "Finished round 1 with global loss: 0.32671 and accuracy: 90.75 \n",
      "\n",
      "Beginning round 2\n",
      "0 0.28913 91.57\n",
      "1 0.31646 90.60\n",
      "2 0.31703 90.60\n",
      "3 0.27469 91.73\n",
      "4 0.28574 91.77\n",
      "5 0.28216 91.69\n",
      "6 0.27894 91.64\n",
      "7 0.28766 91.00\n",
      "8 0.28546 91.78\n",
      "9 0.27490 91.51\n",
      "Finished round 2 with global loss: 0.25208 and accuracy: 92.62 \n",
      "\n",
      "Beginning round 3\n",
      "0 0.24608 92.56\n",
      "1 0.26507 92.19\n",
      "2 0.23708 93.09\n",
      "3 0.23778 92.82\n",
      "4 0.23495 92.66\n",
      "5 0.26113 92.27\n",
      "6 0.23836 92.74\n",
      "7 0.27458 91.95\n",
      "8 0.24494 92.58\n",
      "9 0.24396 92.48\n",
      "Finished round 3 with global loss: 0.21074 and accuracy: 93.78 \n",
      "\n",
      "Beginning round 4\n",
      "0 0.20893 93.48\n",
      "1 0.20961 93.47\n",
      "2 0.20253 93.76\n",
      "3 0.20956 93.73\n",
      "4 0.19912 94.06\n",
      "5 0.19477 94.00\n",
      "6 0.21162 93.38\n",
      "7 0.19875 93.87\n",
      "8 0.20411 94.19\n",
      "9 0.20142 93.91\n",
      "Finished round 4 with global loss: 0.17919 and accuracy: 94.69 \n",
      "\n",
      "Beginning round 5\n",
      "0 0.19187 94.33\n",
      "1 0.17968 94.56\n",
      "2 0.18589 94.60\n",
      "3 0.18450 94.26\n",
      "4 0.18360 94.44\n",
      "5 0.17160 95.01\n",
      "6 0.18484 94.35\n",
      "7 0.18032 94.61\n",
      "8 0.17515 94.75\n",
      "9 0.18415 94.32\n",
      "Finished round 5 with global loss: 0.15750 and accuracy: 95.16 \n",
      "\n",
      "Beginning round 6\n",
      "0 0.16939 94.82\n",
      "1 0.17714 94.34\n",
      "2 0.15548 95.36\n",
      "3 0.15675 95.18\n",
      "4 0.16178 95.00\n",
      "5 0.16063 95.11\n",
      "6 0.15325 95.35\n",
      "7 0.16053 95.19\n",
      "8 0.16901 94.87\n",
      "9 0.16581 94.87\n",
      "Finished round 6 with global loss: 0.14129 and accuracy: 95.77 \n",
      "\n",
      "Beginning round 7\n",
      "0 0.14759 95.45\n",
      "1 0.15046 95.28\n",
      "2 0.14450 95.49\n",
      "3 0.15123 95.44\n",
      "4 0.15445 95.39\n",
      "5 0.14244 95.60\n",
      "6 0.15964 95.07\n",
      "7 0.14506 95.74\n",
      "8 0.15746 95.00\n",
      "9 0.15878 95.15\n",
      "Finished round 7 with global loss: 0.12702 and accuracy: 96.10 \n",
      "\n",
      "Beginning round 8\n",
      "0 0.14479 95.60\n",
      "1 0.14549 95.67\n",
      "2 0.15014 95.26\n",
      "3 0.13488 95.89\n",
      "4 0.13752 95.70\n",
      "5 0.15275 95.17\n",
      "6 0.14200 95.56\n",
      "7 0.14335 95.65\n",
      "8 0.13512 95.85\n",
      "9 0.13896 95.78\n",
      "Finished round 8 with global loss: 0.11834 and accuracy: 96.31 \n",
      "\n",
      "Beginning round 9\n",
      "0 0.16120 95.04\n",
      "1 0.12929 96.11\n",
      "2 0.12851 96.13\n",
      "3 0.13817 95.62\n",
      "4 0.12928 96.06\n",
      "5 0.13535 95.81\n",
      "6 0.14699 95.32\n",
      "7 0.13458 95.86\n",
      "8 0.13264 95.88\n",
      "9 0.12592 96.27\n",
      "Finished round 9 with global loss: 0.11151 and accuracy: 96.55 \n",
      "\n",
      "Beginning round 10\n",
      "0 0.12353 96.01\n",
      "1 0.12278 96.17\n",
      "2 0.11538 96.43\n",
      "3 0.12238 96.19\n",
      "4 0.12577 96.18\n",
      "5 0.12863 95.98\n",
      "6 0.12712 96.03\n",
      "7 0.12559 96.22\n",
      "8 0.12532 96.06\n",
      "9 0.13445 95.86\n",
      "Finished round 10 with global loss: 0.10564 and accuracy: 96.75 \n",
      "\n",
      "Beginning round 11\n",
      "0 0.13128 95.83\n",
      "1 0.11698 96.31\n",
      "2 0.12387 96.33\n",
      "3 0.12027 96.27\n",
      "4 0.11535 96.51\n",
      "5 0.11796 96.19\n",
      "6 0.11461 96.44\n",
      "7 0.11722 96.11\n",
      "8 0.11621 96.39\n",
      "9 0.11332 96.38\n",
      "Finished round 11 with global loss: 0.09898 and accuracy: 96.91 \n",
      "\n",
      "Beginning round 12\n",
      "0 0.11687 96.37\n",
      "1 0.11426 96.39\n",
      "2 0.11178 96.51\n",
      "3 0.10980 96.54\n",
      "4 0.13159 95.67\n",
      "5 0.10666 96.71\n",
      "6 0.10657 96.69\n",
      "7 0.10358 96.80\n",
      "8 0.10619 96.70\n",
      "9 0.11467 96.40\n",
      "Finished round 12 with global loss: 0.09347 and accuracy: 97.09 \n",
      "\n",
      "Beginning round 13\n",
      "0 0.11135 96.49\n",
      "1 0.10815 96.60\n",
      "2 0.10834 96.60\n",
      "3 0.09946 96.78\n",
      "4 0.10666 96.67\n",
      "5 0.10269 96.71\n",
      "6 0.10941 96.60\n",
      "7 0.10951 96.64\n",
      "8 0.10154 96.85\n",
      "9 0.12157 96.23\n",
      "Finished round 13 with global loss: 0.08916 and accuracy: 97.25 \n",
      "\n",
      "Beginning round 14\n",
      "0 0.09691 96.89\n",
      "1 0.11036 96.71\n",
      "2 0.11162 96.55\n",
      "3 0.10785 96.66\n",
      "4 0.09964 96.65\n",
      "5 0.11516 96.28\n",
      "6 0.10294 96.70\n",
      "7 0.10003 96.89\n",
      "8 0.10030 96.83\n",
      "9 0.10108 96.73\n",
      "Finished round 14 with global loss: 0.08601 and accuracy: 97.33 \n",
      "\n",
      "Beginning round 15\n",
      "0 0.11257 96.39\n",
      "1 0.09820 96.96\n",
      "2 0.10458 96.70\n",
      "3 0.09896 97.02\n",
      "4 0.09503 97.02\n",
      "5 0.09903 96.93\n",
      "6 0.10457 96.71\n",
      "7 0.12207 96.27\n",
      "8 0.10234 96.66\n",
      "9 0.09838 97.05\n",
      "Finished round 15 with global loss: 0.08302 and accuracy: 97.55 \n",
      "\n",
      "Beginning round 16\n",
      "0 0.09876 96.87\n",
      "1 0.09214 97.02\n",
      "2 0.09420 96.86\n",
      "3 0.09076 97.18\n",
      "4 0.10157 96.92\n",
      "5 0.09732 97.04\n",
      "6 0.09756 96.88\n",
      "7 0.09414 97.03\n",
      "8 0.09488 96.96\n",
      "9 0.09578 96.95\n",
      "Finished round 16 with global loss: 0.08006 and accuracy: 97.47 \n",
      "\n",
      "Beginning round 17\n",
      "0 0.09296 97.00\n",
      "1 0.08879 97.16\n",
      "2 0.09541 97.02\n",
      "3 0.09308 97.01\n",
      "4 0.09116 97.30\n",
      "5 0.09165 97.09\n",
      "6 0.10359 96.64\n",
      "7 0.09178 97.23\n",
      "8 0.09570 96.65\n",
      "9 0.08609 97.31\n",
      "Finished round 17 with global loss: 0.07614 and accuracy: 97.59 \n",
      "\n",
      "Beginning round 18\n",
      "0 0.08990 97.29\n",
      "1 0.09350 97.06\n",
      "2 0.09162 97.15\n",
      "3 0.08665 97.34\n",
      "4 0.10548 96.74\n",
      "5 0.08901 97.22\n",
      "6 0.08771 97.15\n",
      "7 0.09476 97.01\n",
      "8 0.08922 97.28\n",
      "9 0.09771 96.87\n",
      "Finished round 18 with global loss: 0.07558 and accuracy: 97.61 \n",
      "\n",
      "Beginning round 19\n",
      "0 0.08391 97.33\n",
      "1 0.10126 96.69\n",
      "2 0.09175 97.08\n",
      "3 0.08726 97.32\n",
      "4 0.09114 97.11\n",
      "5 0.08953 97.07\n",
      "6 0.08950 97.07\n",
      "7 0.09056 97.21\n",
      "8 0.08666 97.32\n",
      "9 0.08856 97.19\n",
      "Finished round 19 with global loss: 0.07461 and accuracy: 97.55 \n",
      "\n",
      "Beginning round 20\n",
      "0 0.08840 97.16\n",
      "1 0.08417 97.29\n",
      "2 0.08954 97.11\n",
      "3 0.08046 97.44\n",
      "4 0.09233 97.18\n",
      "5 0.08404 97.53\n",
      "6 0.09325 97.17\n",
      "7 0.08634 97.18\n",
      "8 0.10042 96.80\n",
      "9 0.09321 97.15\n",
      "Finished round 20 with global loss: 0.07151 and accuracy: 97.69 \n",
      "\n",
      "\n"
     ]
    }
   ],
   "source": [
    "import federated\n",
    "\n",
    "fed_constant_n_manager = federated.FederatedManager(\n",
    "    fed_constant_n_dloaders,\n",
    "    Net,\n",
    "    nn.CrossEntropyLoss(),\n",
    "    test_dset,\n",
    "    num_epochs,\n",
    "    learning_rate\n",
    ")\n",
    "\n",
    "run_manager(fed_constant_n_manager, num_rounds)"
   ]
  },
  {
   "cell_type": "code",
   "execution_count": 14,
   "metadata": {},
   "outputs": [
    {
     "data": {
      "image/png": "[encoded data removed]",
      "text/plain": [
       "<Figure size 432x288 with 1 Axes>"
      ]
     },
     "metadata": {
      "needs_background": "light"
     },
     "output_type": "display_data"
    }
   ],
   "source": [
    "%matplotlib inline\n",
    "import matplotlib.pyplot as plt\n",
    "\n",
    "fig_default, ax_default = plt.subplots()\n",
    "\n",
    "ax_default.plot(default_manager.history['test_loss'], label=\"Non-federated Test Loss\")\n",
    "\n",
    "ax_default.plot(fed_constant_n_manager.history['test_loss'], label=\"Federated Test Loss\")\n",
    "\n",
    "ax_default.set_xlabel(\"Round\")\n",
    "ax_default.set_ylabel(\"Loss\")\n",
    "ax_default.legend();"
   ]
  },
  {
   "cell_type": "code",
   "execution_count": 15,
   "metadata": {},
   "outputs": [
    {
     "data": {
      "image/png": "[encoded data removed]",
      "text/plain": [
       "<Figure size 432x288 with 1 Axes>"
      ]
     },
     "metadata": {
      "needs_background": "light"
     },
     "output_type": "display_data"
    }
   ],
   "source": [
    "fig, ax = plt.subplots()\n",
    "\n",
    "ax.plot(default_manager.history['test_loss'], label=\"Non-federated Test Loss\")\n",
    "\n",
    "ax.plot(fed_constant_n_manager.history['test_loss'], label=\"Federated Test Loss\")\n",
    "\n",
    "for w in fed_constant_n_manager.workers:\n",
    "    ax.plot(w.history['test_loss'], label=('Worker ' + str(w.name) + ' Test Loss'))\n",
    "\n",
    "ax.set_xlabel(\"Round\")\n",
    "ax.set_ylabel(\"Loss\")\n",
    "ax.legend();"
   ]
  },
  {
   "cell_type": "code",
   "execution_count": null,
   "metadata": {},
   "outputs": [],
   "source": []
  },
  {
   "cell_type": "code",
   "execution_count": null,
   "metadata": {},
   "outputs": [],
   "source": []
  },
  {
   "cell_type": "code",
   "execution_count": null,
   "metadata": {},
   "outputs": [],
   "source": []
  },
  {
   "cell_type": "markdown",
   "metadata": {},
   "source": [
    "# Federation with Varying Example Counts\n",
    "\n",
    "Now we've seen federation work with a dataset scattered across a number of workers. And we saw that its performance isn't substantially different from the non-federated approach, while decentralizing the work of training and limiting the amount of data transfered between the main manager and the workers.\n",
    "\n",
    "But what if our workers don't have access to equal amounts of data? Let's explore that.\n",
    "\n",
    "## Spliting the Deck into Uneven Piles\n",
    "\n",
    "To test this, we need workers to have access to different numbers of training examples. So let's make a set of decks that gives each of our workers more or less training data than the others."
   ]
  },
  {
   "cell_type": "code",
   "execution_count": null,
   "metadata": {},
   "outputs": [],
   "source": []
  },
  {
   "cell_type": "code",
   "execution_count": null,
   "metadata": {},
   "outputs": [],
   "source": []
  },
  {
   "cell_type": "code",
   "execution_count": null,
   "metadata": {},
   "outputs": [],
   "source": []
  },
  {
   "cell_type": "code",
   "execution_count": null,
   "metadata": {},
   "outputs": [],
   "source": []
  },
  {
   "cell_type": "code",
   "execution_count": null,
   "metadata": {},
   "outputs": [],
   "source": []
  },
  {
   "cell_type": "markdown",
   "metadata": {},
   "source": [
    "# Conclusion\n",
    "TODO: WRAP UP THE BLOG POST HERE. EVERYTHING BELOW IS PART TWO OR THREE"
   ]
  },
  {
   "cell_type": "code",
   "execution_count": null,
   "metadata": {},
   "outputs": [],
   "source": []
  },
  {
   "cell_type": "code",
   "execution_count": null,
   "metadata": {},
   "outputs": [],
   "source": []
  },
  {
   "cell_type": "code",
   "execution_count": null,
   "metadata": {},
   "outputs": [],
   "source": []
  }
 ],
 "metadata": {
  "kernelspec": {
   "display_name": "Python 3",
   "language": "python",
   "name": "python3"
  },
  "language_info": {
   "codemirror_mode": {
    "name": "ipython",
    "version": 3
   },
   "file_extension": ".py",
   "mimetype": "text/x-python",
   "name": "python",
   "nbconvert_exporter": "python",
   "pygments_lexer": "ipython3",
   "version": "3.6.7"
  }
 },
 "nbformat": 4,
 "nbformat_minor": 2
}
