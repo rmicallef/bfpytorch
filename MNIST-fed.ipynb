{
 "cells": [
  {
   "cell_type": "markdown",
   "metadata": {},
   "source": [
    "# Federated Learning Test\n",
    "\n",
    "This notebook is a test of federated learning using the MNIST dataset. It distributes partial subsets of the MNIST data to each worker and tests the results of federation of the workers. It also skews the subsets to investigate the value of federation in cases where workers have substantially different samples."
   ]
  },
  {
   "cell_type": "markdown",
   "metadata": {},
   "source": [
    "## The Baseline\n",
    "\n",
    "First, we load up the common elements to be used in the traditional and federated approaches. We start with the model."
   ]
  },
  {
   "cell_type": "code",
   "execution_count": 1,
   "metadata": {},
   "outputs": [],
   "source": [
    "# Define the model\n",
    "\n",
    "import torch.nn as nn\n",
    "\n",
    "class MLPNet(nn.Module):\n",
    "    def __init__(self):\n",
    "        super(MLPNet, self).__init__()\n",
    "        self.fc1 = nn.Linear(28*28, 500)\n",
    "        self.fc2 = nn.Linear(500, 256)\n",
    "        self.fc3 = nn.Linear(256, 10)\n",
    "    def forward(self, x):\n",
    "        x = x.view(-1, 28*28)\n",
    "        x = nn.functional.relu(self.fc1(x))\n",
    "        x = nn.functional.relu(self.fc2(x))\n",
    "        x = self.fc3(x)\n",
    "        return x\n",
    "    \n",
    "    def name(self):\n",
    "        return \"MLP\"\n",
    "\n",
    "# # Optional model for fun\n",
    "\n",
    "# import torch.nn.functional as F\n",
    "\n",
    "# class LeNet(nn.Module):\n",
    "#     def __init__(self):\n",
    "#         super(LeNet, self).__init__()\n",
    "#         self.conv1 = nn.Conv2d(1, 10, kernel_size=5)\n",
    "#         self.conv2 = nn.Conv2d(10, 20, kernel_size=5)\n",
    "#         self.conv2_drop = nn.Dropout2d()\n",
    "#         self.fc1 = nn.Linear(320, 50)\n",
    "#         self.fc2 = nn.Linear(50, 10)\n",
    "\n",
    "#     def forward(self, x):\n",
    "#         x = F.relu(F.max_pool2d(self.conv1(x), 2))\n",
    "#         x = F.relu(F.max_pool2d(self.conv2_drop(self.conv2(x)), 2))\n",
    "#         x = x.view(-1, 320)\n",
    "#         x = F.relu(self.fc1(x))\n",
    "#         x = F.dropout(x, training=self.training)\n",
    "#         x = self.fc2(x)\n",
    "#         return F.log_softmax(x, dim=0) # value 0 was chosen arbitrarily to quiet a warning. Penny'll start a fire.\n",
    "\n",
    "#     def name(self):\n",
    "#         return 'LeNet'"
   ]
  },
  {
   "cell_type": "code",
   "execution_count": 2,
   "metadata": {},
   "outputs": [],
   "source": [
    "# load the data\n",
    "\n",
    "import torch\n",
    "import torchvision.datasets as dsets\n",
    "import torchvision.transforms as transforms\n",
    "\n",
    "# create standard datasets using all of the MNIST data\n",
    "\n",
    "data_path = './MNIST-data/raw'\n",
    "trans = transforms.Compose([transforms.ToTensor(), transforms.Normalize((0.5,), (1.0,))])\n",
    "\n",
    "train_dset = dsets.MNIST(root=data_path, download=True, train=True, transform=trans)\n",
    "test_dset = dsets.MNIST(root=data_path, download=True, train=False, transform=trans)"
   ]
  },
  {
   "cell_type": "markdown",
   "metadata": {},
   "source": [
    "### Stacking a Deck\n",
    "\n",
    "We need a way to \"stack the deck\" of examples that each worker sees. This method creates a dataset that is randomly sampled from a given dataset with the random sampling biased according to a dictionary of weights for each label."
   ]
  },
  {
   "cell_type": "code",
   "execution_count": 3,
   "metadata": {},
   "outputs": [],
   "source": [
    "from torch.utils.data import WeightedRandomSampler\n",
    "\n",
    "def stacked_dset(dset, label_weights, N):\n",
    "    \"\"\"\n",
    "    dset: dataset\n",
    "    label_weights = {dog: 0.5, cat: 0.3, ...}\n",
    "    N: size of stacked dset\n",
    "    return: stacked WeightedRandomSampler\n",
    "    \"\"\"\n",
    "    weights = []\n",
    "    for data, label in dset:\n",
    "        weights.append(label_weights[label])\n",
    "\n",
    "#     for label in test_dset.targets:\n",
    "#         weights.append(label_weights[int(label)])\n",
    "# TODO / MLW : how to speed this up - currently takes about a minute to train ten stacked training sets\n",
    "    \n",
    "    return WeightedRandomSampler(weights, N, replacement=False)"
   ]
  },
  {
   "cell_type": "markdown",
   "metadata": {},
   "source": [
    "And this is where we get the dictionary of weights. For simplicity's sake, we just take a list of labels to be sampled \"normally\" and the rest are biased against. So, preserving 3s and skewing everything else by a factor of 0.9 shoud get a set of weights that results in a dataset that is slightly heavy on 3s compared to everything else. In an an extreme example, preserving only 3s, with a skew of 0, will produce weights that will yield a dataset of only 3s."
   ]
  },
  {
   "cell_type": "code",
   "execution_count": 5,
   "metadata": {},
   "outputs": [],
   "source": [
    "def skewed_weights(num_labels, labels_to_preserve, skew_bias):\n",
    "    \"\"\"\n",
    "        num_labels: number of labels to return (use 10 for MNIST)\n",
    "        labels_to_preserve: list of labels to preserve wih no skew \n",
    "        skew_bias: a float, 0 < bias < 1, to which non-selected labels will be biased down\n",
    "        return: dictionary of each label and its bias\n",
    "    \"\"\"\n",
    "    weights = {}\n",
    "    for label in range(num_labels):\n",
    "        if label in labels_to_preserve:\n",
    "            weights[label] = 1\n",
    "        else:\n",
    "            weights[label] = skew_bias\n",
    "    \n",
    "    return weights"
   ]
  },
  {
   "cell_type": "code",
   "execution_count": 6,
   "metadata": {},
   "outputs": [],
   "source": [
    "from torch.utils.data import DataLoader\n",
    "\n",
    "batch_size = 64\n",
    "\n",
    "# # create standard dataloaders using all of the MNIST data - this is for baseline purposes\n",
    "train_dloader = DataLoader(train_dset, batch_size=batch_size, shuffle=True)\n",
    "test_dloader = DataLoader(test_dset, batch_size=batch_size, shuffle=False)"
   ]
  },
  {
   "cell_type": "code",
   "execution_count": 7,
   "metadata": {},
   "outputs": [
    {
     "name": "stdout",
     "output_type": "stream",
     "text": [
      "Test:  [(1, 1135), (2, 1032), (7, 1028), (3, 1010), (9, 1009), (4, 982), (0, 980), (8, 974), (6, 958), (5, 892)]\n",
      "Train: [(1, 6742), (7, 6265), (3, 6131), (2, 5958), (9, 5949), (0, 5923), (6, 5918), (8, 5851), (4, 5842), (5, 5421)]\n"
     ]
    }
   ],
   "source": [
    "from collections import Counter\n",
    "\n",
    "_, ys = list(zip(*test_dloader))\n",
    "print(\"Test: \", Counter(int(y) for y in torch.cat(ys)).most_common())\n",
    "\n",
    "_, ys = list(zip(*train_dloader))\n",
    "print(\"Train:\", Counter(int(y) for y in torch.cat(ys)).most_common())"
   ]
  },
  {
   "cell_type": "markdown",
   "metadata": {},
   "source": [
    "These plots show quickly that the sets are distributed fairly similarly."
   ]
  },
  {
   "cell_type": "code",
   "execution_count": 8,
   "metadata": {},
   "outputs": [
    {
     "data": {
      "image/png": "[encoded data removed]",
      "text/plain": [
       "<Figure size 720x360 with 1 Axes>"
      ]
     },
     "metadata": {
      "needs_background": "light"
     },
     "output_type": "display_data"
    },
    {
     "data": {
      "image/png": "[encoded data removed]",
      "text/plain": [
       "<Figure size 720x360 with 1 Axes>"
      ]
     },
     "metadata": {
      "needs_background": "light"
     },
     "output_type": "display_data"
    }
   ],
   "source": [
    "%matplotlib inline\n",
    "import matplotlib.pyplot as plt\n",
    "\n",
    "fig, ax = plt.subplots(figsize=(10, 5))\n",
    "fig.suptitle('Testing examples')\n",
    "ax.xaxis.set_major_locator(plt.MultipleLocator(1))\n",
    "H = ax.hist(test_dloader.dataset.targets, bins=range(11), histtype='bar', align='left', rwidth=0.8)\n",
    "\n",
    "fig, ax = plt.subplots(figsize=(10, 5))\n",
    "fig.suptitle('Training examples')\n",
    "ax.xaxis.set_major_locator(plt.MultipleLocator(1))\n",
    "H = ax.hist(train_dloader.dataset.targets, bins=range(11), histtype='bar', align='left', rwidth=0.8)"
   ]
  },
  {
   "cell_type": "markdown",
   "metadata": {},
   "source": [
    "Here we do the sampling to create our skewed datasets."
   ]
  },
  {
   "cell_type": "code",
   "execution_count": 9,
   "metadata": {
    "scrolled": true
   },
   "outputs": [
    {
     "name": "stderr",
     "output_type": "stream",
     "text": [
      "100%|██████████| 10/10 [01:52<00:00, 12.36s/it]\n"
     ]
    }
   ],
   "source": [
    "from tqdm import tqdm\n",
    "\n",
    "# create stacked loaders for the workers\n",
    "\n",
    "skew_bias = 0.5\n",
    "loader_size = 8192\n",
    "num_workers = 10\n",
    "\n",
    "stacked_data_loaders = []\n",
    "\n",
    "for label in tqdm(range(num_workers)):\n",
    "    stacked_sampler = stacked_dset(train_dset, skewed_weights(10, [label], skew_bias), loader_size)\n",
    "    stacked_data_loaders.append(DataLoader(train_dset, batch_size=batch_size, shuffle=False, sampler=stacked_sampler))"
   ]
  },
  {
   "cell_type": "markdown",
   "metadata": {},
   "source": [
    "We should see the effect of the skew in a histogram of a skewed dataset."
   ]
  },
  {
   "cell_type": "code",
   "execution_count": 10,
   "metadata": {},
   "outputs": [
    {
     "name": "stdout",
     "output_type": "stream",
     "text": [
      "[(1, 1532), (2, 776), (3, 773), (7, 768), (0, 761), (6, 746), (4, 734), (8, 734), (9, 712), (5, 656)]\n"
     ]
    }
   ],
   "source": [
    "_, ybatches = list(zip(*stacked_data_loaders[1]))\n",
    "ys = torch.cat(ybatches)\n",
    "ys = [int(y) for y in ys]\n",
    "print(Counter(ys).most_common())"
   ]
  },
  {
   "cell_type": "code",
   "execution_count": 11,
   "metadata": {},
   "outputs": [
    {
     "data": {
      "image/png": "[encoded data removed]",
      "text/plain": [
       "<Figure size 720x360 with 1 Axes>"
      ]
     },
     "metadata": {
      "needs_background": "light"
     },
     "output_type": "display_data"
    }
   ],
   "source": [
    "fig, ax = plt.subplots(figsize=(10, 5))\n",
    "fig.suptitle('Skew examples')\n",
    "ax.xaxis.set_major_locator(plt.MultipleLocator(1))\n",
    "H = ax.hist(ys, bins=range(11), histtype='bar', align='left', rwidth=0.8)"
   ]
  },
  {
   "cell_type": "code",
   "execution_count": 12,
   "metadata": {},
   "outputs": [],
   "source": [
    "import federated\n",
    "\n",
    "learning_rate = 5e-3\n",
    "num_epochs = 1\n",
    "num_rounds = 8\n",
    "\n",
    "skewed_train_dsets = stacked_data_loaders\n",
    "\n",
    "manager = federated.FederatedManager(\n",
    "    skewed_train_dsets,\n",
    "    MLPNet,\n",
    "    nn.CrossEntropyLoss(),\n",
    "    learning_rate,\n",
    "    test_dset,\n",
    "    num_epochs\n",
    ")"
   ]
  },
  {
   "cell_type": "code",
   "execution_count": 13,
   "metadata": {},
   "outputs": [
    {
     "name": "stderr",
     "output_type": "stream",
     "text": [
      "\r",
      "  0%|          | 0/8 [00:00<?, ?it/s]"
     ]
    },
    {
     "name": "stdout",
     "output_type": "stream",
     "text": [
      "Training 8 round(s) with 10 worker(s) doing 1 epoch(s) per round.\n",
      "\n",
      "Beginning round 1\n",
      "\tWorker: 6464 \tepoch: 1 \tbatch: 0 \tlocal loss: 2.3014\n",
      "\tWorker: 6464 \tepoch: 1 \tbatch: 32 \tlocal loss: 2.2944\n",
      "\tWorker: 6464 \tepoch: 1 \tbatch: 64 \tlocal loss: 2.2808\n",
      "\tWorker: 6464 \tepoch: 1 \tbatch: 96 \tlocal loss: 2.2488\n",
      "\tWorker: 6464 \tepoch: 1 \tbatch: 128 \tlocal loss: 2.2744 \n",
      "\n",
      "\tWorker: 3320 \tepoch: 1 \tbatch: 0 \tlocal loss: 2.2989\n",
      "\tWorker: 3320 \tepoch: 1 \tbatch: 32 \tlocal loss: 2.2854\n",
      "\tWorker: 3320 \tepoch: 1 \tbatch: 64 \tlocal loss: 2.2433\n",
      "\tWorker: 3320 \tepoch: 1 \tbatch: 96 \tlocal loss: 2.2759\n",
      "\tWorker: 3320 \tepoch: 1 \tbatch: 128 \tlocal loss: 2.2153 \n",
      "\n",
      "\tWorker: 0424 \tepoch: 1 \tbatch: 0 \tlocal loss: 2.2908\n",
      "\tWorker: 0424 \tepoch: 1 \tbatch: 32 \tlocal loss: 2.2789\n",
      "\tWorker: 0424 \tepoch: 1 \tbatch: 64 \tlocal loss: 2.2762\n",
      "\tWorker: 0424 \tepoch: 1 \tbatch: 96 \tlocal loss: 2.2763\n",
      "\tWorker: 0424 \tepoch: 1 \tbatch: 128 \tlocal loss: 2.2333 \n",
      "\n",
      "\tWorker: 8816 \tepoch: 1 \tbatch: 0 \tlocal loss: 2.3068\n",
      "\tWorker: 8816 \tepoch: 1 \tbatch: 32 \tlocal loss: 2.2873\n",
      "\tWorker: 8816 \tepoch: 1 \tbatch: 64 \tlocal loss: 2.2602\n",
      "\tWorker: 8816 \tepoch: 1 \tbatch: 96 \tlocal loss: 2.2263\n",
      "\tWorker: 8816 \tepoch: 1 \tbatch: 128 \tlocal loss: 2.2604 \n",
      "\n",
      "\tWorker: 0504 \tepoch: 1 \tbatch: 0 \tlocal loss: 2.3030\n",
      "\tWorker: 0504 \tepoch: 1 \tbatch: 32 \tlocal loss: 2.2883\n",
      "\tWorker: 0504 \tepoch: 1 \tbatch: 64 \tlocal loss: 2.2717\n",
      "\tWorker: 0504 \tepoch: 1 \tbatch: 96 \tlocal loss: 2.2524\n",
      "\tWorker: 0504 \tepoch: 1 \tbatch: 128 \tlocal loss: 2.2352 \n",
      "\n",
      "\tWorker: 7872 \tepoch: 1 \tbatch: 0 \tlocal loss: 2.3016\n",
      "\tWorker: 7872 \tepoch: 1 \tbatch: 32 \tlocal loss: 2.2942\n",
      "\tWorker: 7872 \tepoch: 1 \tbatch: 64 \tlocal loss: 2.2749\n",
      "\tWorker: 7872 \tepoch: 1 \tbatch: 96 \tlocal loss: 2.2544\n",
      "\tWorker: 7872 \tepoch: 1 \tbatch: 128 \tlocal loss: 2.2370 \n",
      "\n",
      "\tWorker: 8600 \tepoch: 1 \tbatch: 0 \tlocal loss: 2.2948\n",
      "\tWorker: 8600 \tepoch: 1 \tbatch: 32 \tlocal loss: 2.2655\n",
      "\tWorker: 8600 \tepoch: 1 \tbatch: 64 \tlocal loss: 2.2895\n",
      "\tWorker: 8600 \tepoch: 1 \tbatch: 96 \tlocal loss: 2.2410\n",
      "\tWorker: 8600 \tepoch: 1 \tbatch: 128 \tlocal loss: 2.1935 \n",
      "\n",
      "\tWorker: 9104 \tepoch: 1 \tbatch: 0 \tlocal loss: 2.2984\n",
      "\tWorker: 9104 \tepoch: 1 \tbatch: 32 \tlocal loss: 2.2952\n",
      "\tWorker: 9104 \tepoch: 1 \tbatch: 64 \tlocal loss: 2.2774\n",
      "\tWorker: 9104 \tepoch: 1 \tbatch: 96 \tlocal loss: 2.2635\n",
      "\tWorker: 9104 \tepoch: 1 \tbatch: 128 \tlocal loss: 2.2571 \n",
      "\n",
      "\tWorker: 9608 \tepoch: 1 \tbatch: 0 \tlocal loss: 2.3038\n",
      "\tWorker: 9608 \tepoch: 1 \tbatch: 32 \tlocal loss: 2.2788\n",
      "\tWorker: 9608 \tepoch: 1 \tbatch: 64 \tlocal loss: 2.2766\n",
      "\tWorker: 9608 \tepoch: 1 \tbatch: 96 \tlocal loss: 2.2634\n",
      "\tWorker: 9608 \tepoch: 1 \tbatch: 128 \tlocal loss: 2.2533 \n",
      "\n",
      "\tWorker: 9768 \tepoch: 1 \tbatch: 0 \tlocal loss: 2.2986\n",
      "\tWorker: 9768 \tepoch: 1 \tbatch: 32 \tlocal loss: 2.2743\n",
      "\tWorker: 9768 \tepoch: 1 \tbatch: 64 \tlocal loss: 2.2619\n",
      "\tWorker: 9768 \tepoch: 1 \tbatch: 96 \tlocal loss: 2.2657\n",
      "\tWorker: 9768 \tepoch: 1 \tbatch: 128 \tlocal loss: 2.2553 \n",
      "\n"
     ]
    },
    {
     "name": "stderr",
     "output_type": "stream",
     "text": [
      "\r",
      " 12%|█▎        | 1/8 [02:53<20:13, 173.30s/it]"
     ]
    },
    {
     "name": "stdout",
     "output_type": "stream",
     "text": [
      "Finished round 1 with global loss: 2.25508 \n",
      "\n",
      "Beginning round 2\n",
      "\tWorker: 6464 \tepoch: 1 \tbatch: 0 \tlocal loss: 2.2455\n",
      "\tWorker: 6464 \tepoch: 1 \tbatch: 32 \tlocal loss: 2.2469\n",
      "\tWorker: 6464 \tepoch: 1 \tbatch: 64 \tlocal loss: 2.2226\n",
      "\tWorker: 6464 \tepoch: 1 \tbatch: 96 \tlocal loss: 2.2325\n",
      "\tWorker: 6464 \tepoch: 1 \tbatch: 128 \tlocal loss: 2.1387 \n",
      "\n",
      "\tWorker: 3320 \tepoch: 1 \tbatch: 0 \tlocal loss: 2.2528\n",
      "\tWorker: 3320 \tepoch: 1 \tbatch: 32 \tlocal loss: 2.2035\n",
      "\tWorker: 3320 \tepoch: 1 \tbatch: 64 \tlocal loss: 2.1694\n",
      "\tWorker: 3320 \tepoch: 1 \tbatch: 96 \tlocal loss: 2.1464\n",
      "\tWorker: 3320 \tepoch: 1 \tbatch: 128 \tlocal loss: 2.0914 \n",
      "\n",
      "\tWorker: 0424 \tepoch: 1 \tbatch: 0 \tlocal loss: 2.2660\n",
      "\tWorker: 0424 \tepoch: 1 \tbatch: 32 \tlocal loss: 2.2403\n",
      "\tWorker: 0424 \tepoch: 1 \tbatch: 64 \tlocal loss: 2.2510\n",
      "\tWorker: 0424 \tepoch: 1 \tbatch: 96 \tlocal loss: 2.2052\n",
      "\tWorker: 0424 \tepoch: 1 \tbatch: 128 \tlocal loss: 2.2072 \n",
      "\n",
      "\tWorker: 8816 \tepoch: 1 \tbatch: 0 \tlocal loss: 2.2413\n",
      "\tWorker: 8816 \tepoch: 1 \tbatch: 32 \tlocal loss: 2.2537\n",
      "\tWorker: 8816 \tepoch: 1 \tbatch: 64 \tlocal loss: 2.2446\n",
      "\tWorker: 8816 \tepoch: 1 \tbatch: 96 \tlocal loss: 2.2100\n",
      "\tWorker: 8816 \tepoch: 1 \tbatch: 128 \tlocal loss: 2.1910 \n",
      "\n",
      "\tWorker: 0504 \tepoch: 1 \tbatch: 0 \tlocal loss: 2.2745\n",
      "\tWorker: 0504 \tepoch: 1 \tbatch: 32 \tlocal loss: 2.2312\n",
      "\tWorker: 0504 \tepoch: 1 \tbatch: 64 \tlocal loss: 2.2296\n",
      "\tWorker: 0504 \tepoch: 1 \tbatch: 96 \tlocal loss: 2.1872\n",
      "\tWorker: 0504 \tepoch: 1 \tbatch: 128 \tlocal loss: 2.2066 \n",
      "\n",
      "\tWorker: 7872 \tepoch: 1 \tbatch: 0 \tlocal loss: 2.2589\n",
      "\tWorker: 7872 \tepoch: 1 \tbatch: 32 \tlocal loss: 2.2312\n",
      "\tWorker: 7872 \tepoch: 1 \tbatch: 64 \tlocal loss: 2.2278\n",
      "\tWorker: 7872 \tepoch: 1 \tbatch: 96 \tlocal loss: 2.2035\n",
      "\tWorker: 7872 \tepoch: 1 \tbatch: 128 \tlocal loss: 2.1765 \n",
      "\n",
      "\tWorker: 8600 \tepoch: 1 \tbatch: 0 \tlocal loss: 2.2599\n",
      "\tWorker: 8600 \tepoch: 1 \tbatch: 32 \tlocal loss: 2.2345\n",
      "\tWorker: 8600 \tepoch: 1 \tbatch: 64 \tlocal loss: 2.2056\n",
      "\tWorker: 8600 \tepoch: 1 \tbatch: 96 \tlocal loss: 2.1730\n",
      "\tWorker: 8600 \tepoch: 1 \tbatch: 128 \tlocal loss: 2.1522 \n",
      "\n",
      "\tWorker: 9104 \tepoch: 1 \tbatch: 0 \tlocal loss: 2.2681\n",
      "\tWorker: 9104 \tepoch: 1 \tbatch: 32 \tlocal loss: 2.2281\n",
      "\tWorker: 9104 \tepoch: 1 \tbatch: 64 \tlocal loss: 2.1867\n",
      "\tWorker: 9104 \tepoch: 1 \tbatch: 96 \tlocal loss: 2.2248\n",
      "\tWorker: 9104 \tepoch: 1 \tbatch: 128 \tlocal loss: 2.1722 \n",
      "\n",
      "\tWorker: 9608 \tepoch: 1 \tbatch: 0 \tlocal loss: 2.2556\n",
      "\tWorker: 9608 \tepoch: 1 \tbatch: 32 \tlocal loss: 2.2477\n",
      "\tWorker: 9608 \tepoch: 1 \tbatch: 64 \tlocal loss: 2.2311\n",
      "\tWorker: 9608 \tepoch: 1 \tbatch: 96 \tlocal loss: 2.2227\n",
      "\tWorker: 9608 \tepoch: 1 \tbatch: 128 \tlocal loss: 2.1932 \n",
      "\n",
      "\tWorker: 9768 \tepoch: 1 \tbatch: 0 \tlocal loss: 2.2563\n",
      "\tWorker: 9768 \tepoch: 1 \tbatch: 32 \tlocal loss: 2.2417\n",
      "\tWorker: 9768 \tepoch: 1 \tbatch: 64 \tlocal loss: 2.2567\n",
      "\tWorker: 9768 \tepoch: 1 \tbatch: 96 \tlocal loss: 2.2043\n",
      "\tWorker: 9768 \tepoch: 1 \tbatch: 128 \tlocal loss: 2.2150 \n",
      "\n"
     ]
    },
    {
     "name": "stderr",
     "output_type": "stream",
     "text": [
      "\r",
      " 25%|██▌       | 2/8 [06:06<17:55, 179.21s/it]"
     ]
    },
    {
     "name": "stdout",
     "output_type": "stream",
     "text": [
      "Finished round 2 with global loss: 2.19709 \n",
      "\n",
      "Beginning round 3\n",
      "\tWorker: 6464 \tepoch: 1 \tbatch: 0 \tlocal loss: 2.2101\n",
      "\tWorker: 6464 \tepoch: 1 \tbatch: 32 \tlocal loss: 2.1925\n",
      "\tWorker: 6464 \tepoch: 1 \tbatch: 64 \tlocal loss: 2.1478\n",
      "\tWorker: 6464 \tepoch: 1 \tbatch: 96 \tlocal loss: 2.1415\n",
      "\tWorker: 6464 \tepoch: 1 \tbatch: 128 \tlocal loss: 2.0798 \n",
      "\n",
      "\tWorker: 3320 \tepoch: 1 \tbatch: 0 \tlocal loss: 2.1533\n",
      "\tWorker: 3320 \tepoch: 1 \tbatch: 32 \tlocal loss: 2.1061\n",
      "\tWorker: 3320 \tepoch: 1 \tbatch: 64 \tlocal loss: 2.1268\n",
      "\tWorker: 3320 \tepoch: 1 \tbatch: 96 \tlocal loss: 2.0514\n",
      "\tWorker: 3320 \tepoch: 1 \tbatch: 128 \tlocal loss: 2.0274 \n",
      "\n",
      "\tWorker: 0424 \tepoch: 1 \tbatch: 0 \tlocal loss: 2.2034\n",
      "\tWorker: 0424 \tepoch: 1 \tbatch: 32 \tlocal loss: 2.1626\n",
      "\tWorker: 0424 \tepoch: 1 \tbatch: 64 \tlocal loss: 2.1413\n",
      "\tWorker: 0424 \tepoch: 1 \tbatch: 96 \tlocal loss: 2.1484\n",
      "\tWorker: 0424 \tepoch: 1 \tbatch: 128 \tlocal loss: 2.0892 \n",
      "\n",
      "\tWorker: 8816 \tepoch: 1 \tbatch: 0 \tlocal loss: 2.1789\n",
      "\tWorker: 8816 \tepoch: 1 \tbatch: 32 \tlocal loss: 2.1863\n",
      "\tWorker: 8816 \tepoch: 1 \tbatch: 64 \tlocal loss: 2.1650\n",
      "\tWorker: 8816 \tepoch: 1 \tbatch: 96 \tlocal loss: 2.1295\n",
      "\tWorker: 8816 \tepoch: 1 \tbatch: 128 \tlocal loss: 2.1012 \n",
      "\n",
      "\tWorker: 0504 \tepoch: 1 \tbatch: 0 \tlocal loss: 2.2036\n",
      "\tWorker: 0504 \tepoch: 1 \tbatch: 32 \tlocal loss: 2.1604\n",
      "\tWorker: 0504 \tepoch: 1 \tbatch: 64 \tlocal loss: 2.1654\n",
      "\tWorker: 0504 \tepoch: 1 \tbatch: 96 \tlocal loss: 2.1188\n",
      "\tWorker: 0504 \tepoch: 1 \tbatch: 128 \tlocal loss: 2.0957 \n",
      "\n",
      "\tWorker: 7872 \tepoch: 1 \tbatch: 0 \tlocal loss: 2.2054\n",
      "\tWorker: 7872 \tepoch: 1 \tbatch: 32 \tlocal loss: 2.1877\n",
      "\tWorker: 7872 \tepoch: 1 \tbatch: 64 \tlocal loss: 2.1502\n",
      "\tWorker: 7872 \tepoch: 1 \tbatch: 96 \tlocal loss: 2.1254\n",
      "\tWorker: 7872 \tepoch: 1 \tbatch: 128 \tlocal loss: 2.0781 \n",
      "\n",
      "\tWorker: 8600 \tepoch: 1 \tbatch: 0 \tlocal loss: 2.1803\n",
      "\tWorker: 8600 \tepoch: 1 \tbatch: 32 \tlocal loss: 2.1826\n",
      "\tWorker: 8600 \tepoch: 1 \tbatch: 64 \tlocal loss: 2.1159\n",
      "\tWorker: 8600 \tepoch: 1 \tbatch: 96 \tlocal loss: 2.1354\n",
      "\tWorker: 8600 \tepoch: 1 \tbatch: 128 \tlocal loss: 2.0740 \n",
      "\n",
      "\tWorker: 9104 \tepoch: 1 \tbatch: 0 \tlocal loss: 2.2151\n",
      "\tWorker: 9104 \tepoch: 1 \tbatch: 32 \tlocal loss: 2.1766\n",
      "\tWorker: 9104 \tepoch: 1 \tbatch: 64 \tlocal loss: 2.1473\n",
      "\tWorker: 9104 \tepoch: 1 \tbatch: 96 \tlocal loss: 2.1280\n",
      "\tWorker: 9104 \tepoch: 1 \tbatch: 128 \tlocal loss: 2.1145 \n",
      "\n",
      "\tWorker: 9608 \tepoch: 1 \tbatch: 0 \tlocal loss: 2.2120\n",
      "\tWorker: 9608 \tepoch: 1 \tbatch: 32 \tlocal loss: 2.1944\n",
      "\tWorker: 9608 \tepoch: 1 \tbatch: 64 \tlocal loss: 2.1556\n",
      "\tWorker: 9608 \tepoch: 1 \tbatch: 96 \tlocal loss: 2.1276\n",
      "\tWorker: 9608 \tepoch: 1 \tbatch: 128 \tlocal loss: 2.1234 \n",
      "\n",
      "\tWorker: 9768 \tepoch: 1 \tbatch: 0 \tlocal loss: 2.2081\n",
      "\tWorker: 9768 \tepoch: 1 \tbatch: 32 \tlocal loss: 2.1911\n",
      "\tWorker: 9768 \tepoch: 1 \tbatch: 64 \tlocal loss: 2.1820\n",
      "\tWorker: 9768 \tepoch: 1 \tbatch: 96 \tlocal loss: 2.1350\n",
      "\tWorker: 9768 \tepoch: 1 \tbatch: 128 \tlocal loss: 2.1338 \n",
      "\n"
     ]
    },
    {
     "name": "stderr",
     "output_type": "stream",
     "text": [
      "\r",
      " 38%|███▊      | 3/8 [09:12<15:06, 181.32s/it]"
     ]
    },
    {
     "name": "stdout",
     "output_type": "stream",
     "text": [
      "Finished round 3 with global loss: 2.11571 \n",
      "\n",
      "Beginning round 4\n",
      "\tWorker: 6464 \tepoch: 1 \tbatch: 0 \tlocal loss: 2.1388\n",
      "\tWorker: 6464 \tepoch: 1 \tbatch: 32 \tlocal loss: 2.0780\n",
      "\tWorker: 6464 \tepoch: 1 \tbatch: 64 \tlocal loss: 2.0227\n",
      "\tWorker: 6464 \tepoch: 1 \tbatch: 96 \tlocal loss: 1.9971\n",
      "\tWorker: 6464 \tepoch: 1 \tbatch: 128 \tlocal loss: 2.0481 \n",
      "\n",
      "\tWorker: 3320 \tepoch: 1 \tbatch: 0 \tlocal loss: 2.0767\n",
      "\tWorker: 3320 \tepoch: 1 \tbatch: 32 \tlocal loss: 2.0866\n",
      "\tWorker: 3320 \tepoch: 1 \tbatch: 64 \tlocal loss: 2.0286\n",
      "\tWorker: 3320 \tepoch: 1 \tbatch: 96 \tlocal loss: 2.0120\n",
      "\tWorker: 3320 \tepoch: 1 \tbatch: 128 \tlocal loss: 1.8452 \n",
      "\n",
      "\tWorker: 0424 \tepoch: 1 \tbatch: 0 \tlocal loss: 2.1107\n",
      "\tWorker: 0424 \tepoch: 1 \tbatch: 32 \tlocal loss: 2.0879\n",
      "\tWorker: 0424 \tepoch: 1 \tbatch: 64 \tlocal loss: 2.0175\n",
      "\tWorker: 0424 \tepoch: 1 \tbatch: 96 \tlocal loss: 1.9773\n",
      "\tWorker: 0424 \tepoch: 1 \tbatch: 128 \tlocal loss: 1.9963 \n",
      "\n",
      "\tWorker: 8816 \tepoch: 1 \tbatch: 0 \tlocal loss: 2.1325\n",
      "\tWorker: 8816 \tepoch: 1 \tbatch: 32 \tlocal loss: 2.0367\n",
      "\tWorker: 8816 \tepoch: 1 \tbatch: 64 \tlocal loss: 1.9945\n",
      "\tWorker: 8816 \tepoch: 1 \tbatch: 96 \tlocal loss: 1.9746\n",
      "\tWorker: 8816 \tepoch: 1 \tbatch: 128 \tlocal loss: 2.0287 \n",
      "\n",
      "\tWorker: 0504 \tepoch: 1 \tbatch: 0 \tlocal loss: 2.1332\n",
      "\tWorker: 0504 \tepoch: 1 \tbatch: 32 \tlocal loss: 2.0525\n",
      "\tWorker: 0504 \tepoch: 1 \tbatch: 64 \tlocal loss: 2.0451\n",
      "\tWorker: 0504 \tepoch: 1 \tbatch: 96 \tlocal loss: 2.0725\n",
      "\tWorker: 0504 \tepoch: 1 \tbatch: 128 \tlocal loss: 2.0343 \n",
      "\n",
      "\tWorker: 7872 \tepoch: 1 \tbatch: 0 \tlocal loss: 2.1689\n",
      "\tWorker: 7872 \tepoch: 1 \tbatch: 32 \tlocal loss: 2.1170\n",
      "\tWorker: 7872 \tepoch: 1 \tbatch: 64 \tlocal loss: 2.0491\n",
      "\tWorker: 7872 \tepoch: 1 \tbatch: 96 \tlocal loss: 2.0688\n",
      "\tWorker: 7872 \tepoch: 1 \tbatch: 128 \tlocal loss: 2.0303 \n",
      "\n",
      "\tWorker: 8600 \tepoch: 1 \tbatch: 0 \tlocal loss: 2.1448\n",
      "\tWorker: 8600 \tepoch: 1 \tbatch: 32 \tlocal loss: 2.0560\n",
      "\tWorker: 8600 \tepoch: 1 \tbatch: 64 \tlocal loss: 2.0866\n",
      "\tWorker: 8600 \tepoch: 1 \tbatch: 96 \tlocal loss: 2.0331\n",
      "\tWorker: 8600 \tepoch: 1 \tbatch: 128 \tlocal loss: 2.0065 \n",
      "\n",
      "\tWorker: 9104 \tepoch: 1 \tbatch: 0 \tlocal loss: 2.1279\n",
      "\tWorker: 9104 \tepoch: 1 \tbatch: 32 \tlocal loss: 2.0758\n",
      "\tWorker: 9104 \tepoch: 1 \tbatch: 64 \tlocal loss: 2.0370\n",
      "\tWorker: 9104 \tepoch: 1 \tbatch: 96 \tlocal loss: 1.9961\n",
      "\tWorker: 9104 \tepoch: 1 \tbatch: 128 \tlocal loss: 2.0286 \n",
      "\n",
      "\tWorker: 9608 \tepoch: 1 \tbatch: 0 \tlocal loss: 2.1650\n",
      "\tWorker: 9608 \tepoch: 1 \tbatch: 32 \tlocal loss: 2.1019\n",
      "\tWorker: 9608 \tepoch: 1 \tbatch: 64 \tlocal loss: 2.0579\n",
      "\tWorker: 9608 \tepoch: 1 \tbatch: 96 \tlocal loss: 2.0464\n",
      "\tWorker: 9608 \tepoch: 1 \tbatch: 128 \tlocal loss: 1.9701 \n",
      "\n",
      "\tWorker: 9768 \tepoch: 1 \tbatch: 0 \tlocal loss: 2.1226\n",
      "\tWorker: 9768 \tepoch: 1 \tbatch: 32 \tlocal loss: 2.0325\n",
      "\tWorker: 9768 \tepoch: 1 \tbatch: 64 \tlocal loss: 2.0930\n",
      "\tWorker: 9768 \tepoch: 1 \tbatch: 96 \tlocal loss: 2.0380\n",
      "\tWorker: 9768 \tepoch: 1 \tbatch: 128 \tlocal loss: 1.9530 \n",
      "\n"
     ]
    },
    {
     "name": "stderr",
     "output_type": "stream",
     "text": [
      "\r",
      " 50%|█████     | 4/8 [12:41<12:38, 189.63s/it]"
     ]
    },
    {
     "name": "stdout",
     "output_type": "stream",
     "text": [
      "Finished round 4 with global loss: 1.99744 \n",
      "\n",
      "Beginning round 5\n",
      "\tWorker: 6464 \tepoch: 1 \tbatch: 0 \tlocal loss: 2.0217\n",
      "\tWorker: 6464 \tepoch: 1 \tbatch: 32 \tlocal loss: 1.9243\n",
      "\tWorker: 6464 \tepoch: 1 \tbatch: 64 \tlocal loss: 1.9697\n",
      "\tWorker: 6464 \tepoch: 1 \tbatch: 96 \tlocal loss: 1.9560\n",
      "\tWorker: 6464 \tepoch: 1 \tbatch: 128 \tlocal loss: 1.8361 \n",
      "\n",
      "\tWorker: 3320 \tepoch: 1 \tbatch: 0 \tlocal loss: 2.0076\n",
      "\tWorker: 3320 \tepoch: 1 \tbatch: 32 \tlocal loss: 2.0006\n",
      "\tWorker: 3320 \tepoch: 1 \tbatch: 64 \tlocal loss: 1.8938\n",
      "\tWorker: 3320 \tepoch: 1 \tbatch: 96 \tlocal loss: 1.8321\n",
      "\tWorker: 3320 \tepoch: 1 \tbatch: 128 \tlocal loss: 1.8773 \n",
      "\n",
      "\tWorker: 0424 \tepoch: 1 \tbatch: 0 \tlocal loss: 2.0164\n",
      "\tWorker: 0424 \tepoch: 1 \tbatch: 32 \tlocal loss: 1.9745\n",
      "\tWorker: 0424 \tepoch: 1 \tbatch: 64 \tlocal loss: 1.9423\n",
      "\tWorker: 0424 \tepoch: 1 \tbatch: 96 \tlocal loss: 1.8289\n",
      "\tWorker: 0424 \tepoch: 1 \tbatch: 128 \tlocal loss: 1.8667 \n",
      "\n",
      "\tWorker: 8816 \tepoch: 1 \tbatch: 0 \tlocal loss: 1.9864\n",
      "\tWorker: 8816 \tepoch: 1 \tbatch: 32 \tlocal loss: 1.9938\n",
      "\tWorker: 8816 \tepoch: 1 \tbatch: 64 \tlocal loss: 1.9575\n",
      "\tWorker: 8816 \tepoch: 1 \tbatch: 96 \tlocal loss: 1.8172\n",
      "\tWorker: 8816 \tepoch: 1 \tbatch: 128 \tlocal loss: 1.8046 \n",
      "\n",
      "\tWorker: 0504 \tepoch: 1 \tbatch: 0 \tlocal loss: 2.0197\n",
      "\tWorker: 0504 \tepoch: 1 \tbatch: 32 \tlocal loss: 1.8986\n",
      "\tWorker: 0504 \tepoch: 1 \tbatch: 64 \tlocal loss: 1.8720\n",
      "\tWorker: 0504 \tepoch: 1 \tbatch: 96 \tlocal loss: 1.8885\n",
      "\tWorker: 0504 \tepoch: 1 \tbatch: 128 \tlocal loss: 1.8158 \n",
      "\n",
      "\tWorker: 7872 \tepoch: 1 \tbatch: 0 \tlocal loss: 2.0671\n",
      "\tWorker: 7872 \tepoch: 1 \tbatch: 32 \tlocal loss: 1.9997\n",
      "\tWorker: 7872 \tepoch: 1 \tbatch: 64 \tlocal loss: 1.9066\n",
      "\tWorker: 7872 \tepoch: 1 \tbatch: 96 \tlocal loss: 1.8652\n",
      "\tWorker: 7872 \tepoch: 1 \tbatch: 128 \tlocal loss: 1.8719 \n",
      "\n",
      "\tWorker: 8600 \tepoch: 1 \tbatch: 0 \tlocal loss: 2.0430\n",
      "\tWorker: 8600 \tepoch: 1 \tbatch: 32 \tlocal loss: 1.9461\n",
      "\tWorker: 8600 \tepoch: 1 \tbatch: 64 \tlocal loss: 1.8790\n",
      "\tWorker: 8600 \tepoch: 1 \tbatch: 96 \tlocal loss: 1.8878\n",
      "\tWorker: 8600 \tepoch: 1 \tbatch: 128 \tlocal loss: 1.8184 \n",
      "\n",
      "\tWorker: 9104 \tepoch: 1 \tbatch: 0 \tlocal loss: 2.0336\n",
      "\tWorker: 9104 \tepoch: 1 \tbatch: 32 \tlocal loss: 1.9301\n",
      "\tWorker: 9104 \tepoch: 1 \tbatch: 64 \tlocal loss: 1.9086\n",
      "\tWorker: 9104 \tepoch: 1 \tbatch: 96 \tlocal loss: 1.8949\n",
      "\tWorker: 9104 \tepoch: 1 \tbatch: 128 \tlocal loss: 1.8576 \n",
      "\n",
      "\tWorker: 9608 \tepoch: 1 \tbatch: 0 \tlocal loss: 2.0206\n",
      "\tWorker: 9608 \tepoch: 1 \tbatch: 32 \tlocal loss: 1.9755\n",
      "\tWorker: 9608 \tepoch: 1 \tbatch: 64 \tlocal loss: 1.9114\n",
      "\tWorker: 9608 \tepoch: 1 \tbatch: 96 \tlocal loss: 1.9186\n",
      "\tWorker: 9608 \tepoch: 1 \tbatch: 128 \tlocal loss: 1.9022 \n",
      "\n",
      "\tWorker: 9768 \tepoch: 1 \tbatch: 0 \tlocal loss: 1.9699\n",
      "\tWorker: 9768 \tepoch: 1 \tbatch: 32 \tlocal loss: 1.9434\n",
      "\tWorker: 9768 \tepoch: 1 \tbatch: 64 \tlocal loss: 1.9187\n",
      "\tWorker: 9768 \tepoch: 1 \tbatch: 96 \tlocal loss: 1.8551\n",
      "\tWorker: 9768 \tepoch: 1 \tbatch: 128 \tlocal loss: 1.8470 \n",
      "\n"
     ]
    },
    {
     "name": "stderr",
     "output_type": "stream",
     "text": [
      "\r",
      " 62%|██████▎   | 5/8 [15:27<09:07, 182.57s/it]"
     ]
    },
    {
     "name": "stdout",
     "output_type": "stream",
     "text": [
      "Finished round 5 with global loss: 1.82994 \n",
      "\n",
      "Beginning round 6\n",
      "\tWorker: 6464 \tepoch: 1 \tbatch: 0 \tlocal loss: 1.7563\n",
      "\tWorker: 6464 \tepoch: 1 \tbatch: 32 \tlocal loss: 1.7120\n",
      "\tWorker: 6464 \tepoch: 1 \tbatch: 64 \tlocal loss: 1.5714\n",
      "\tWorker: 6464 \tepoch: 1 \tbatch: 96 \tlocal loss: 1.6187\n",
      "\tWorker: 6464 \tepoch: 1 \tbatch: 128 \tlocal loss: 1.7099 \n",
      "\n",
      "\tWorker: 3320 \tepoch: 1 \tbatch: 0 \tlocal loss: 1.7697\n",
      "\tWorker: 3320 \tepoch: 1 \tbatch: 32 \tlocal loss: 1.6869\n",
      "\tWorker: 3320 \tepoch: 1 \tbatch: 64 \tlocal loss: 1.7187\n",
      "\tWorker: 3320 \tepoch: 1 \tbatch: 96 \tlocal loss: 1.5563\n",
      "\tWorker: 3320 \tepoch: 1 \tbatch: 128 \tlocal loss: 1.5771 \n",
      "\n",
      "\tWorker: 0424 \tepoch: 1 \tbatch: 0 \tlocal loss: 1.7894\n",
      "\tWorker: 0424 \tepoch: 1 \tbatch: 32 \tlocal loss: 1.7856\n",
      "\tWorker: 0424 \tepoch: 1 \tbatch: 64 \tlocal loss: 1.7641\n",
      "\tWorker: 0424 \tepoch: 1 \tbatch: 96 \tlocal loss: 1.6520\n",
      "\tWorker: 0424 \tepoch: 1 \tbatch: 128 \tlocal loss: 1.6680 \n",
      "\n",
      "\tWorker: 8816 \tepoch: 1 \tbatch: 0 \tlocal loss: 1.8394\n",
      "\tWorker: 8816 \tepoch: 1 \tbatch: 32 \tlocal loss: 1.7517\n",
      "\tWorker: 8816 \tepoch: 1 \tbatch: 64 \tlocal loss: 1.7487\n",
      "\tWorker: 8816 \tepoch: 1 \tbatch: 96 \tlocal loss: 1.6148\n",
      "\tWorker: 8816 \tepoch: 1 \tbatch: 128 \tlocal loss: 1.6442 \n",
      "\n",
      "\tWorker: 0504 \tepoch: 1 \tbatch: 0 \tlocal loss: 1.8822\n",
      "\tWorker: 0504 \tepoch: 1 \tbatch: 32 \tlocal loss: 1.8010\n",
      "\tWorker: 0504 \tepoch: 1 \tbatch: 64 \tlocal loss: 1.7877\n",
      "\tWorker: 0504 \tepoch: 1 \tbatch: 96 \tlocal loss: 1.7148\n",
      "\tWorker: 0504 \tepoch: 1 \tbatch: 128 \tlocal loss: 1.6725 \n",
      "\n",
      "\tWorker: 7872 \tepoch: 1 \tbatch: 0 \tlocal loss: 1.8767\n",
      "\tWorker: 7872 \tepoch: 1 \tbatch: 32 \tlocal loss: 1.7867\n",
      "\tWorker: 7872 \tepoch: 1 \tbatch: 64 \tlocal loss: 1.7510\n",
      "\tWorker: 7872 \tepoch: 1 \tbatch: 96 \tlocal loss: 1.7749\n",
      "\tWorker: 7872 \tepoch: 1 \tbatch: 128 \tlocal loss: 1.6917 \n",
      "\n",
      "\tWorker: 8600 \tepoch: 1 \tbatch: 0 \tlocal loss: 1.8229\n",
      "\tWorker: 8600 \tepoch: 1 \tbatch: 32 \tlocal loss: 1.8509\n",
      "\tWorker: 8600 \tepoch: 1 \tbatch: 64 \tlocal loss: 1.7314\n",
      "\tWorker: 8600 \tepoch: 1 \tbatch: 96 \tlocal loss: 1.6080\n",
      "\tWorker: 8600 \tepoch: 1 \tbatch: 128 \tlocal loss: 1.6605 \n",
      "\n",
      "\tWorker: 9104 \tepoch: 1 \tbatch: 0 \tlocal loss: 1.7633\n",
      "\tWorker: 9104 \tepoch: 1 \tbatch: 32 \tlocal loss: 1.8173\n",
      "\tWorker: 9104 \tepoch: 1 \tbatch: 64 \tlocal loss: 1.7231\n",
      "\tWorker: 9104 \tepoch: 1 \tbatch: 96 \tlocal loss: 1.6272\n",
      "\tWorker: 9104 \tepoch: 1 \tbatch: 128 \tlocal loss: 1.5945 \n",
      "\n",
      "\tWorker: 9608 \tepoch: 1 \tbatch: 0 \tlocal loss: 1.8512\n",
      "\tWorker: 9608 \tepoch: 1 \tbatch: 32 \tlocal loss: 1.7695\n",
      "\tWorker: 9608 \tepoch: 1 \tbatch: 64 \tlocal loss: 1.6921\n",
      "\tWorker: 9608 \tepoch: 1 \tbatch: 96 \tlocal loss: 1.6825\n",
      "\tWorker: 9608 \tepoch: 1 \tbatch: 128 \tlocal loss: 1.6589 \n",
      "\n",
      "\tWorker: 9768 \tepoch: 1 \tbatch: 0 \tlocal loss: 1.8382\n",
      "\tWorker: 9768 \tepoch: 1 \tbatch: 32 \tlocal loss: 1.8133\n",
      "\tWorker: 9768 \tepoch: 1 \tbatch: 64 \tlocal loss: 1.7825\n",
      "\tWorker: 9768 \tepoch: 1 \tbatch: 96 \tlocal loss: 1.6965\n",
      "\tWorker: 9768 \tepoch: 1 \tbatch: 128 \tlocal loss: 1.6086 \n",
      "\n"
     ]
    },
    {
     "name": "stderr",
     "output_type": "stream",
     "text": [
      "\r",
      " 75%|███████▌  | 6/8 [17:48<05:39, 169.94s/it]"
     ]
    },
    {
     "name": "stdout",
     "output_type": "stream",
     "text": [
      "Finished round 6 with global loss: 1.61949 \n",
      "\n",
      "Beginning round 7\n",
      "\tWorker: 6464 \tepoch: 1 \tbatch: 0 \tlocal loss: 1.6170\n",
      "\tWorker: 6464 \tepoch: 1 \tbatch: 32 \tlocal loss: 1.6254\n",
      "\tWorker: 6464 \tepoch: 1 \tbatch: 64 \tlocal loss: 1.5677\n",
      "\tWorker: 6464 \tepoch: 1 \tbatch: 96 \tlocal loss: 1.4462\n",
      "\tWorker: 6464 \tepoch: 1 \tbatch: 128 \tlocal loss: 1.4153 \n",
      "\n",
      "\tWorker: 3320 \tepoch: 1 \tbatch: 0 \tlocal loss: 1.6032\n",
      "\tWorker: 3320 \tepoch: 1 \tbatch: 32 \tlocal loss: 1.4712\n",
      "\tWorker: 3320 \tepoch: 1 \tbatch: 64 \tlocal loss: 1.4698\n",
      "\tWorker: 3320 \tepoch: 1 \tbatch: 96 \tlocal loss: 1.3960\n",
      "\tWorker: 3320 \tepoch: 1 \tbatch: 128 \tlocal loss: 1.3492 \n",
      "\n",
      "\tWorker: 0424 \tepoch: 1 \tbatch: 0 \tlocal loss: 1.6896\n",
      "\tWorker: 0424 \tepoch: 1 \tbatch: 32 \tlocal loss: 1.5483\n",
      "\tWorker: 0424 \tepoch: 1 \tbatch: 64 \tlocal loss: 1.4105\n",
      "\tWorker: 0424 \tepoch: 1 \tbatch: 96 \tlocal loss: 1.4344\n",
      "\tWorker: 0424 \tepoch: 1 \tbatch: 128 \tlocal loss: 1.4402 \n",
      "\n",
      "\tWorker: 8816 \tepoch: 1 \tbatch: 0 \tlocal loss: 1.7237\n",
      "\tWorker: 8816 \tepoch: 1 \tbatch: 32 \tlocal loss: 1.5761\n",
      "\tWorker: 8816 \tepoch: 1 \tbatch: 64 \tlocal loss: 1.4032\n",
      "\tWorker: 8816 \tepoch: 1 \tbatch: 96 \tlocal loss: 1.4027\n",
      "\tWorker: 8816 \tepoch: 1 \tbatch: 128 \tlocal loss: 1.4093 \n",
      "\n",
      "\tWorker: 0504 \tepoch: 1 \tbatch: 0 \tlocal loss: 1.6458\n",
      "\tWorker: 0504 \tepoch: 1 \tbatch: 32 \tlocal loss: 1.6732\n",
      "\tWorker: 0504 \tepoch: 1 \tbatch: 64 \tlocal loss: 1.5575\n",
      "\tWorker: 0504 \tepoch: 1 \tbatch: 96 \tlocal loss: 1.4437\n",
      "\tWorker: 0504 \tepoch: 1 \tbatch: 128 \tlocal loss: 1.4111 \n",
      "\n",
      "\tWorker: 7872 \tepoch: 1 \tbatch: 0 \tlocal loss: 1.7104\n",
      "\tWorker: 7872 \tepoch: 1 \tbatch: 32 \tlocal loss: 1.5920\n",
      "\tWorker: 7872 \tepoch: 1 \tbatch: 64 \tlocal loss: 1.5471\n",
      "\tWorker: 7872 \tepoch: 1 \tbatch: 96 \tlocal loss: 1.5297\n",
      "\tWorker: 7872 \tepoch: 1 \tbatch: 128 \tlocal loss: 1.4386 \n",
      "\n",
      "\tWorker: 8600 \tepoch: 1 \tbatch: 0 \tlocal loss: 1.5710\n",
      "\tWorker: 8600 \tepoch: 1 \tbatch: 32 \tlocal loss: 1.6259\n",
      "\tWorker: 8600 \tepoch: 1 \tbatch: 64 \tlocal loss: 1.6041\n",
      "\tWorker: 8600 \tepoch: 1 \tbatch: 96 \tlocal loss: 1.3267\n",
      "\tWorker: 8600 \tepoch: 1 \tbatch: 128 \tlocal loss: 1.4700 \n",
      "\n",
      "\tWorker: 9104 \tepoch: 1 \tbatch: 0 \tlocal loss: 1.6349\n",
      "\tWorker: 9104 \tepoch: 1 \tbatch: 32 \tlocal loss: 1.6232\n",
      "\tWorker: 9104 \tepoch: 1 \tbatch: 64 \tlocal loss: 1.4903\n",
      "\tWorker: 9104 \tepoch: 1 \tbatch: 96 \tlocal loss: 1.4354\n",
      "\tWorker: 9104 \tepoch: 1 \tbatch: 128 \tlocal loss: 1.4312 \n",
      "\n",
      "\tWorker: 9608 \tepoch: 1 \tbatch: 0 \tlocal loss: 1.7265\n",
      "\tWorker: 9608 \tepoch: 1 \tbatch: 32 \tlocal loss: 1.5720\n",
      "\tWorker: 9608 \tepoch: 1 \tbatch: 64 \tlocal loss: 1.5941\n",
      "\tWorker: 9608 \tepoch: 1 \tbatch: 96 \tlocal loss: 1.5055\n",
      "\tWorker: 9608 \tepoch: 1 \tbatch: 128 \tlocal loss: 1.3332 \n",
      "\n",
      "\tWorker: 9768 \tepoch: 1 \tbatch: 0 \tlocal loss: 1.6093\n",
      "\tWorker: 9768 \tepoch: 1 \tbatch: 32 \tlocal loss: 1.5463\n",
      "\tWorker: 9768 \tepoch: 1 \tbatch: 64 \tlocal loss: 1.5155\n",
      "\tWorker: 9768 \tepoch: 1 \tbatch: 96 \tlocal loss: 1.4228\n",
      "\tWorker: 9768 \tepoch: 1 \tbatch: 128 \tlocal loss: 1.4329 \n",
      "\n"
     ]
    },
    {
     "name": "stderr",
     "output_type": "stream",
     "text": [
      "\r",
      " 88%|████████▊ | 7/8 [20:20<02:44, 164.55s/it]"
     ]
    },
    {
     "name": "stdout",
     "output_type": "stream",
     "text": [
      "Finished round 7 with global loss: 1.39970 \n",
      "\n",
      "Beginning round 8\n",
      "\tWorker: 6464 \tepoch: 1 \tbatch: 0 \tlocal loss: 1.4187\n",
      "\tWorker: 6464 \tepoch: 1 \tbatch: 32 \tlocal loss: 1.2878\n",
      "\tWorker: 6464 \tepoch: 1 \tbatch: 64 \tlocal loss: 1.1871\n",
      "\tWorker: 6464 \tepoch: 1 \tbatch: 96 \tlocal loss: 1.1463\n",
      "\tWorker: 6464 \tepoch: 1 \tbatch: 128 \tlocal loss: 1.2396 \n",
      "\n",
      "\tWorker: 3320 \tepoch: 1 \tbatch: 0 \tlocal loss: 1.2897\n",
      "\tWorker: 3320 \tepoch: 1 \tbatch: 32 \tlocal loss: 1.2455\n",
      "\tWorker: 3320 \tepoch: 1 \tbatch: 64 \tlocal loss: 1.0637\n",
      "\tWorker: 3320 \tepoch: 1 \tbatch: 96 \tlocal loss: 1.1847\n",
      "\tWorker: 3320 \tepoch: 1 \tbatch: 128 \tlocal loss: 1.1801 \n",
      "\n",
      "\tWorker: 0424 \tepoch: 1 \tbatch: 0 \tlocal loss: 1.4542\n",
      "\tWorker: 0424 \tepoch: 1 \tbatch: 32 \tlocal loss: 1.3855\n",
      "\tWorker: 0424 \tepoch: 1 \tbatch: 64 \tlocal loss: 1.2780\n",
      "\tWorker: 0424 \tepoch: 1 \tbatch: 96 \tlocal loss: 1.2780\n",
      "\tWorker: 0424 \tepoch: 1 \tbatch: 128 \tlocal loss: 1.1417 \n",
      "\n",
      "\tWorker: 8816 \tepoch: 1 \tbatch: 0 \tlocal loss: 1.3988\n",
      "\tWorker: 8816 \tepoch: 1 \tbatch: 32 \tlocal loss: 1.2909\n",
      "\tWorker: 8816 \tepoch: 1 \tbatch: 64 \tlocal loss: 1.1825\n",
      "\tWorker: 8816 \tepoch: 1 \tbatch: 96 \tlocal loss: 1.1993\n",
      "\tWorker: 8816 \tepoch: 1 \tbatch: 128 \tlocal loss: 1.1144 \n",
      "\n",
      "\tWorker: 0504 \tepoch: 1 \tbatch: 0 \tlocal loss: 1.5048\n",
      "\tWorker: 0504 \tepoch: 1 \tbatch: 32 \tlocal loss: 1.3673\n",
      "\tWorker: 0504 \tepoch: 1 \tbatch: 64 \tlocal loss: 1.2567\n",
      "\tWorker: 0504 \tepoch: 1 \tbatch: 96 \tlocal loss: 1.0947\n",
      "\tWorker: 0504 \tepoch: 1 \tbatch: 128 \tlocal loss: 1.2049 \n",
      "\n",
      "\tWorker: 7872 \tepoch: 1 \tbatch: 0 \tlocal loss: 1.3940\n",
      "\tWorker: 7872 \tepoch: 1 \tbatch: 32 \tlocal loss: 1.4570\n",
      "\tWorker: 7872 \tepoch: 1 \tbatch: 64 \tlocal loss: 1.3736\n",
      "\tWorker: 7872 \tepoch: 1 \tbatch: 96 \tlocal loss: 1.3164\n",
      "\tWorker: 7872 \tepoch: 1 \tbatch: 128 \tlocal loss: 1.2117 \n",
      "\n",
      "\tWorker: 8600 \tepoch: 1 \tbatch: 0 \tlocal loss: 1.4900\n",
      "\tWorker: 8600 \tepoch: 1 \tbatch: 32 \tlocal loss: 1.4459\n",
      "\tWorker: 8600 \tepoch: 1 \tbatch: 64 \tlocal loss: 1.2049\n",
      "\tWorker: 8600 \tepoch: 1 \tbatch: 96 \tlocal loss: 1.3646\n",
      "\tWorker: 8600 \tepoch: 1 \tbatch: 128 \tlocal loss: 1.0715 \n",
      "\n",
      "\tWorker: 9104 \tepoch: 1 \tbatch: 0 \tlocal loss: 1.4821\n",
      "\tWorker: 9104 \tepoch: 1 \tbatch: 32 \tlocal loss: 1.3579\n",
      "\tWorker: 9104 \tepoch: 1 \tbatch: 64 \tlocal loss: 1.1996\n",
      "\tWorker: 9104 \tepoch: 1 \tbatch: 96 \tlocal loss: 1.2217\n",
      "\tWorker: 9104 \tepoch: 1 \tbatch: 128 \tlocal loss: 1.3146 \n",
      "\n",
      "\tWorker: 9608 \tepoch: 1 \tbatch: 0 \tlocal loss: 1.5226\n",
      "\tWorker: 9608 \tepoch: 1 \tbatch: 32 \tlocal loss: 1.4364\n",
      "\tWorker: 9608 \tepoch: 1 \tbatch: 64 \tlocal loss: 1.3500\n",
      "\tWorker: 9608 \tepoch: 1 \tbatch: 96 \tlocal loss: 1.2091\n",
      "\tWorker: 9608 \tepoch: 1 \tbatch: 128 \tlocal loss: 1.2406 \n",
      "\n",
      "\tWorker: 9768 \tepoch: 1 \tbatch: 0 \tlocal loss: 1.4927\n",
      "\tWorker: 9768 \tepoch: 1 \tbatch: 32 \tlocal loss: 1.3232\n",
      "\tWorker: 9768 \tepoch: 1 \tbatch: 64 \tlocal loss: 1.3018\n",
      "\tWorker: 9768 \tepoch: 1 \tbatch: 96 \tlocal loss: 1.3159\n",
      "\tWorker: 9768 \tepoch: 1 \tbatch: 128 \tlocal loss: 1.2077 \n",
      "\n"
     ]
    },
    {
     "name": "stderr",
     "output_type": "stream",
     "text": [
      "\r",
      "100%|██████████| 8/8 [22:42<00:00, 157.91s/it]"
     ]
    },
    {
     "name": "stdout",
     "output_type": "stream",
     "text": [
      "Finished round 8 with global loss: 1.20478 \n",
      "\n"
     ]
    },
    {
     "name": "stderr",
     "output_type": "stream",
     "text": [
      "\n"
     ]
    }
   ],
   "source": [
    "print(\"Training\", num_rounds, \"round(s) with\", manager.n_workers, \"worker(s) doing\", num_epochs, \"epoch(s) per round.\\n\" )\n",
    "\n",
    "for i in tqdm(range(num_rounds)):\n",
    "    print(\"Beginning round\", i+1)\n",
    "    manager.round()\n",
    "    print(\"Finished round\", i+1, \"with global loss: %.5f\" % manager.manager_loss_history[-1], \"\\n\")"
   ]
  },
  {
   "cell_type": "code",
   "execution_count": 14,
   "metadata": {},
   "outputs": [
    {
     "data": {
      "image/png": "[encoded data removed]",
      "text/plain": [
       "<Figure size 432x288 with 1 Axes>"
      ]
     },
     "metadata": {
      "needs_background": "light"
     },
     "output_type": "display_data"
    }
   ],
   "source": [
    "%matplotlib inline\n",
    "import matplotlib.pyplot as plt\n",
    "\n",
    "fig, ax = plt.subplots()\n",
    "# loss of global model on test set gets recorded twice per round\n",
    "# [1::2] skips the record that takes place before that round's training has happened\n",
    "ax.plot(manager.manager_loss_history[1::2], label=\"Global Loss\")\n",
    "ax.set_xlabel(\"Round\");\n",
    "ax.legend();"
   ]
  },
  {
   "cell_type": "code",
   "execution_count": 15,
   "metadata": {},
   "outputs": [
    {
     "data": {
      "image/png": "[encoded data removed]",
      "text/plain": [
       "<Figure size 432x288 with 1 Axes>"
      ]
     },
     "metadata": {
      "needs_background": "light"
     },
     "output_type": "display_data"
    }
   ],
   "source": [
    "fig, ax = plt.subplots()\n",
    "\n",
    "for i in range(len(manager.worker_loss_histories)):\n",
    "    lbl = \"Worker \" + str(i)\n",
    "    ax.plot(manager.worker_loss_histories[i], label=lbl)\n",
    "    ax.legend();"
   ]
  },
  {
   "cell_type": "markdown",
   "metadata": {},
   "source": [
    "Outline:\n",
    "- Set up a model and data\n",
    "- train the model N epochs without federation note baseline performance (and size of the data that would have to have been transferedd?) \n",
    "    - is this model trained on the full dataset? Or do we sample randomly across it to have the same number of examples?\n",
    "- Federate without skew or mild skew, compare performance with baseline (and size of model compared to data)\n",
    "- Federate with only a few numbers skewed (like, lacking only 7s or something) \n",
    "- Federate with heavy skew\n",
    "- Federate with complete skew\n",
    "\n",
    "Ideas:\n",
    "- plot performance on a given numeral for the main model next to that of a worker skewed against that numeral. Let both run without federation or run a few epochs before federation. Show this as a baseline\n",
    "- histogram of numerals? More for curiosity, but shows spread of data that we might want to reflect in the baseline training.\n",
    "- post 1: what's the accuracy loss for federation compared to baseline direct training?\n",
    "- post 2: weird side stats\n",
    "    - skew vs. accuracy\n",
    "        - plot - x-axis = skew, y-axis = accuracy\n",
    "    - run all to convergence, compare how long to reach comparable accuracy?\n",
    "        - time or epochs necessary to reach comparable accuracy between federated and standard approach\n",
    "        - time or epochs necessary to reach comparable accuracy by skew\n",
    "    - \n",
    "\n",
    "Questions:\n",
    "- Why does the time spent by a worker on any given epoch all happen _before_ the batches start rolling in? What's happening there? Am I just spinning my wheels on something?\n",
    "    - TODO: try this from a regular python file. The notebook may be buffering up those print statements in the batches\n",
    "- Why does random selection of the skewed datasets take so long? Is it because they're without replacement?\n",
    "- Why do all the workers and epochs always happen in order? Wouldn't my laptop parallelize them across cores? Is that too much to ask from an interpreter? Is the interpreter smarter than I am and actually is parallelizing them and the smartest way in to do them in order?\n",
    "- why use ten workers? Why not fewer?"
   ]
  },
  {
   "cell_type": "code",
   "execution_count": null,
   "metadata": {},
   "outputs": [],
   "source": []
  },
  {
   "cell_type": "code",
   "execution_count": null,
   "metadata": {},
   "outputs": [],
   "source": []
  },
  {
   "cell_type": "code",
   "execution_count": null,
   "metadata": {},
   "outputs": [],
   "source": []
  }
 ],
 "metadata": {
  "kernelspec": {
   "display_name": "Python 3",
   "language": "python",
   "name": "python3"
  },
  "language_info": {
   "codemirror_mode": {
    "name": "ipython",
    "version": 3
   },
   "file_extension": ".py",
   "mimetype": "text/x-python",
   "name": "python",
   "nbconvert_exporter": "python",
   "pygments_lexer": "ipython3",
   "version": "3.6.7"
  }
 },
 "nbformat": 4,
 "nbformat_minor": 2
}
