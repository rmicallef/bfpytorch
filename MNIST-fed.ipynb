{
 "cells": [
  {
   "cell_type": "markdown",
   "metadata": {},
   "source": [
    "# Federated Learning Test\n",
    "\n",
    "This notebook is a test of federated learning using the MNIST dataset. It distributes partial subsets of the MNIST data to each worker and tests the results of federation of the workers. It also skews the subsets to investigate the value of federation in cases where workers have substantially different samples."
   ]
  },
  {
   "cell_type": "markdown",
   "metadata": {},
   "source": [
    "## The Baseline\n",
    "\n",
    "First, we load up the common elements to be used in the traditional and federated approaches. We start with the model."
   ]
  },
  {
   "cell_type": "code",
   "execution_count": 1,
   "metadata": {},
   "outputs": [],
   "source": [
    "# Define the model\n",
    "\n",
    "import torch.nn as nn\n",
    "\n",
    "class MLPNet(nn.Module):\n",
    "    def __init__(self):\n",
    "        super(MLPNet, self).__init__()\n",
    "        self.fc1 = nn.Linear(28*28, 500)\n",
    "        self.fc2 = nn.Linear(500, 256)\n",
    "        self.fc3 = nn.Linear(256, 10)\n",
    "    def forward(self, x):\n",
    "        x = x.view(-1, 28*28)\n",
    "        x = nn.functional.relu(self.fc1(x))\n",
    "        x = nn.functional.relu(self.fc2(x))\n",
    "        x = self.fc3(x)\n",
    "        return x\n",
    "    \n",
    "    def name(self):\n",
    "        return \"MLP\"\n",
    "\n",
    "# # Optional model for fun\n",
    "\n",
    "# import torch.nn.functional as F\n",
    "\n",
    "# class LeNet(nn.Module):\n",
    "#     def __init__(self):\n",
    "#         super(LeNet, self).__init__()\n",
    "#         self.conv1 = nn.Conv2d(1, 10, kernel_size=5)\n",
    "#         self.conv2 = nn.Conv2d(10, 20, kernel_size=5)\n",
    "#         self.conv2_drop = nn.Dropout2d()\n",
    "#         self.fc1 = nn.Linear(320, 50)\n",
    "#         self.fc2 = nn.Linear(50, 10)\n",
    "\n",
    "#     def forward(self, x):\n",
    "#         x = F.relu(F.max_pool2d(self.conv1(x), 2))\n",
    "#         x = F.relu(F.max_pool2d(self.conv2_drop(self.conv2(x)), 2))\n",
    "#         x = x.view(-1, 320)\n",
    "#         x = F.relu(self.fc1(x))\n",
    "#         x = F.dropout(x, training=self.training)\n",
    "#         x = self.fc2(x)\n",
    "#         return F.log_softmax(x, dim=0) # value 0 was chosen arbitrarily to quiet a warning. Penny'll start a fire.\n",
    "\n",
    "#     def name(self):\n",
    "#         return 'LeNet'"
   ]
  },
  {
   "cell_type": "code",
   "execution_count": 2,
   "metadata": {},
   "outputs": [],
   "source": [
    "# load the data\n",
    "\n",
    "import torch\n",
    "import torchvision.datasets as dsets\n",
    "import torchvision.transforms as transforms\n",
    "\n",
    "# create standard datasets using all of the MNIST data\n",
    "\n",
    "data_path = './MNIST-data/raw'\n",
    "trans = transforms.Compose([transforms.ToTensor(), transforms.Normalize((0.5,), (1.0,))])\n",
    "\n",
    "train_dset = dsets.MNIST(root=data_path, download=True, train=True, transform=trans)\n",
    "test_dset = dsets.MNIST(root=data_path, download=True, train=False, transform=trans)"
   ]
  },
  {
   "cell_type": "markdown",
   "metadata": {},
   "source": [
    "### Stacking a Deck\n",
    "\n",
    "We need a way to \"stack the deck\" of examples that each worker sees. This method creates a dataset that is randomly sampled from a given dataset with the random sampling biased according to a dictionary of weights for each label."
   ]
  },
  {
   "cell_type": "code",
   "execution_count": 3,
   "metadata": {},
   "outputs": [],
   "source": [
    "from torch.utils.data import WeightedRandomSampler\n",
    "\n",
    "def stacked_dset(dset, label_weights, N):\n",
    "    \"\"\"\n",
    "    dset: dataset\n",
    "    label_weights = {dog: 0.5, cat: 0.3, ...}\n",
    "    N: size of stacked dset\n",
    "    return: stacked WeightedRandomSampler\n",
    "    \"\"\"\n",
    "    weights = []\n",
    "    for data, label in dset:\n",
    "        weights.append(label_weights[label])\n",
    "    return WeightedRandomSampler(weights, N, replacement=False)"
   ]
  },
  {
   "cell_type": "markdown",
   "metadata": {},
   "source": [
    "And this is where we get the dictionary of weights. For simplicity's sake, we just take a list of labels to be sampled \"normally\" and the rest are biased against. So, preserving 3s and skewing everything else by a factor of 0.9 shoud get a set of weights that results in a dataset that is slightly heavy on 3s compared to everything else. In an an extreme example, preserving only 3s, with a skew of 0, will produce weights that will yield a dataset of only 3s."
   ]
  },
  {
   "cell_type": "code",
   "execution_count": 4,
   "metadata": {},
   "outputs": [],
   "source": [
    "def skewed_weights(num_labels, labels_to_preserve, skew_bias):\n",
    "    \"\"\"\n",
    "        num_labels: number of labels to return (use 10 for MNIST)\n",
    "        labels_to_preserve: list of labels to preserve wih no skew \n",
    "        skew_bias: a float, 0 < bias < 1, to which non-selected labels will be biased down\n",
    "        return: dictionary of each label and its bias\n",
    "    \"\"\"\n",
    "    weights = {}\n",
    "    for label in range(num_labels):\n",
    "        if label in labels_to_preserve:\n",
    "            weights[label] = 1\n",
    "        else:\n",
    "            weights[label] = skew_bias\n",
    "    \n",
    "    return weights"
   ]
  },
  {
   "cell_type": "code",
   "execution_count": 5,
   "metadata": {},
   "outputs": [],
   "source": [
    "from torch.utils.data import DataLoader\n",
    "\n",
    "batch_size = 64\n",
    "\n",
    "# # create standard dataloaders using all of the MNIST data - this is for baseline purposes\n",
    "train_dloader = DataLoader(train_dset, batch_size=batch_size, shuffle=True)\n",
    "test_dloader = DataLoader(test_dset, batch_size=batch_size, shuffle=False)"
   ]
  },
  {
   "cell_type": "code",
   "execution_count": 6,
   "metadata": {},
   "outputs": [
    {
     "name": "stdout",
     "output_type": "stream",
     "text": [
      "Test:  [(1, 1135), (2, 1032), (7, 1028), (3, 1010), (9, 1009), (4, 982), (0, 980), (8, 974), (6, 958), (5, 892)]\n",
      "Train: [(1, 6742), (7, 6265), (3, 6131), (2, 5958), (9, 5949), (0, 5923), (6, 5918), (8, 5851), (4, 5842), (5, 5421)]\n"
     ]
    }
   ],
   "source": [
    "from collections import Counter\n",
    "\n",
    "_, ys = list(zip(*test_dloader))\n",
    "print(\"Test: \", Counter(int(y) for y in torch.cat(ys)).most_common())\n",
    "\n",
    "_, ys = list(zip(*train_dloader))\n",
    "print(\"Train:\", Counter(int(y) for y in torch.cat(ys)).most_common())"
   ]
  },
  {
   "cell_type": "markdown",
   "metadata": {},
   "source": [
    "These plots show quickly that the sets are distributed fairly similarly."
   ]
  },
  {
   "cell_type": "code",
   "execution_count": 12,
   "metadata": {},
   "outputs": [
    {
     "data": {
      "image/png": "[encoded data removed]",
      "text/plain": [
       "<Figure size 720x360 with 1 Axes>"
      ]
     },
     "metadata": {
      "needs_background": "light"
     },
     "output_type": "display_data"
    },
    {
     "data": {
      "image/png": "[encoded data removed]",
      "text/plain": [
       "<Figure size 720x360 with 1 Axes>"
      ]
     },
     "metadata": {
      "needs_background": "light"
     },
     "output_type": "display_data"
    }
   ],
   "source": [
    "%matplotlib inline\n",
    "import matplotlib.pyplot as plt\n",
    "\n",
    "fig, ax = plt.subplots(figsize=(10, 5))\n",
    "fig.suptitle('Testing examples')\n",
    "ax.xaxis.set_major_locator(plt.MultipleLocator(1))\n",
    "H = ax.hist(test_dloader.dataset.targets, bins=range(11), histtype='bar', align='left', rwidth=0.8)\n",
    "plt.show();\n",
    "\n",
    "fig, ax = plt.subplots(figsize=(10, 5))\n",
    "fig.suptitle('Training examples')\n",
    "ax.xaxis.set_major_locator(plt.MultipleLocator(1))\n",
    "H = ax.hist(train_dloader.dataset.targets, bins=range(11), histtype='bar', align='left', rwidth=0.8)\n",
    "plt.show();"
   ]
  },
  {
   "cell_type": "markdown",
   "metadata": {},
   "source": [
    "Here we do the sampling to create our skewed datasets."
   ]
  },
  {
   "cell_type": "code",
   "execution_count": 8,
   "metadata": {},
   "outputs": [
    {
     "name": "stderr",
     "output_type": "stream",
     "text": [
      "100%|██████████| 10/10 [01:26<00:00,  8.57s/it]\n"
     ]
    }
   ],
   "source": [
    "from tqdm import tqdm\n",
    "\n",
    "# create stacked loaders for the workers\n",
    "\n",
    "skew_bias = 0.5\n",
    "loader_size = 2048\n",
    "num_workers = 2\n",
    "\n",
    "stacked_data_loaders = []\n",
    "\n",
    "for label in tqdm(range(num_workers)):\n",
    "    stacked_sampler = stacked_dset(train_dset, skewed_weights(10, [label], skew_bias), loader_size)\n",
    "    stacked_data_loaders.append(DataLoader(train_dset, batch_size=batch_size, shuffle=False, sampler=stacked_sampler))"
   ]
  },
  {
   "cell_type": "markdown",
   "metadata": {},
   "source": [
    "We should see the effect of the skew in a histogram of a skewed dataset."
   ]
  },
  {
   "cell_type": "code",
   "execution_count": 9,
   "metadata": {},
   "outputs": [
    {
     "name": "stdout",
     "output_type": "stream",
     "text": [
      "Test:  [(1, 425), (7, 209), (2, 190), (6, 184), (9, 184), (3, 183), (8, 174), (5, 172), (4, 167), (0, 160)]\n"
     ]
    }
   ],
   "source": [
    "_, ys = list(zip(*stacked_data_loaders[1]))\n",
    "print(\"Test: \", Counter(int(y) for y in torch.cat(ys)).most_common())"
   ]
  },
  {
   "cell_type": "code",
   "execution_count": 10,
   "metadata": {},
   "outputs": [
    {
     "data": {
      "image/png": "[encoded data removed]",
      "text/plain": [
       "<Figure size 720x360 with 1 Axes>"
      ]
     },
     "metadata": {
      "needs_background": "light"
     },
     "output_type": "display_data"
    }
   ],
   "source": [
    "%matplotlib inline\n",
    "import matplotlib.pyplot as plt\n",
    "\n",
    "fig, ax = plt.subplots(figsize=(10, 5))\n",
    "fig.suptitle('Skew examples')\n",
    "ax.xaxis.set_major_locator(plt.MultipleLocator(1))\n",
    "H = ax.hist(stacked_data_loaders[1].dataset.targets, bins=range(11), histtype='bar', align='left', rwidth=0.8)\n",
    "plt.show();"
   ]
  },
  {
   "cell_type": "code",
   "execution_count": 10,
   "metadata": {},
   "outputs": [],
   "source": [
    "import federated\n",
    "\n",
    "learning_rate = 5e-3\n",
    "num_epochs = 1\n",
    "num_rounds = 5\n",
    "\n",
    "skewed_train_dsets = stacked_data_loaders\n",
    "\n",
    "manager = federated.FederatedManager(\n",
    "    skewed_train_dsets,\n",
    "    MLPNet,\n",
    "    nn.CrossEntropyLoss(),\n",
    "    learning_rate,\n",
    "    test_dset,\n",
    "    num_epochs\n",
    ")"
   ]
  },
  {
   "cell_type": "code",
   "execution_count": 11,
   "metadata": {},
   "outputs": [
    {
     "name": "stderr",
     "output_type": "stream",
     "text": [
      "\r",
      "  0%|          | 0/5 [00:00<?, ?it/s]"
     ]
    },
    {
     "name": "stdout",
     "output_type": "stream",
     "text": [
      "Training 5 round(s) with 10 worker(s) doing 1 epoch(s) each\n",
      "\n",
      "Beginning round 1\n",
      "\tWorker: 5904 \tepoch: 1 \tbatch: 0 \tlocal loss: 2.2971\n",
      "\tWorker: 5904 \tepoch: 1 \tbatch: 8 \tlocal loss: 2.3001\n",
      "\tWorker: 5904 \tepoch: 1 \tbatch: 16 \tlocal loss: 2.2853\n",
      "\tWorker: 5904 \tepoch: 1 \tbatch: 24 \tlocal loss: 2.2821\n",
      "\tWorker: 5904 \tepoch: 1 \tbatch: 32 \tlocal loss: 2.2649 \n",
      "\n",
      "\tWorker: 7768 \tepoch: 1 \tbatch: 0 \tlocal loss: 2.3065\n",
      "\tWorker: 7768 \tepoch: 1 \tbatch: 8 \tlocal loss: 2.2967\n",
      "\tWorker: 7768 \tepoch: 1 \tbatch: 16 \tlocal loss: 2.2934\n",
      "\tWorker: 7768 \tepoch: 1 \tbatch: 24 \tlocal loss: 2.2960\n",
      "\tWorker: 7768 \tepoch: 1 \tbatch: 32 \tlocal loss: 2.2950 \n",
      "\n",
      "\tWorker: 3368 \tepoch: 1 \tbatch: 0 \tlocal loss: 2.3282\n",
      "\tWorker: 3368 \tepoch: 1 \tbatch: 8 \tlocal loss: 2.3048\n",
      "\tWorker: 3368 \tepoch: 1 \tbatch: 16 \tlocal loss: 2.3048\n",
      "\tWorker: 3368 \tepoch: 1 \tbatch: 24 \tlocal loss: 2.3191\n",
      "\tWorker: 3368 \tepoch: 1 \tbatch: 32 \tlocal loss: 2.3094 \n",
      "\n",
      "\tWorker: 1856 \tepoch: 1 \tbatch: 0 \tlocal loss: 2.3004\n",
      "\tWorker: 1856 \tepoch: 1 \tbatch: 8 \tlocal loss: 2.2906\n",
      "\tWorker: 1856 \tepoch: 1 \tbatch: 16 \tlocal loss: 2.2977\n",
      "\tWorker: 1856 \tepoch: 1 \tbatch: 24 \tlocal loss: 2.2797\n",
      "\tWorker: 1856 \tepoch: 1 \tbatch: 32 \tlocal loss: 2.2870 \n",
      "\n",
      "\tWorker: 5984 \tepoch: 1 \tbatch: 0 \tlocal loss: 2.3065\n",
      "\tWorker: 5984 \tepoch: 1 \tbatch: 8 \tlocal loss: 2.3056\n",
      "\tWorker: 5984 \tepoch: 1 \tbatch: 16 \tlocal loss: 2.2803\n",
      "\tWorker: 5984 \tepoch: 1 \tbatch: 24 \tlocal loss: 2.2903\n",
      "\tWorker: 5984 \tepoch: 1 \tbatch: 32 \tlocal loss: 2.2982 \n",
      "\n",
      "\tWorker: 6752 \tepoch: 1 \tbatch: 0 \tlocal loss: 2.3137\n",
      "\tWorker: 6752 \tepoch: 1 \tbatch: 8 \tlocal loss: 2.3054\n",
      "\tWorker: 6752 \tepoch: 1 \tbatch: 16 \tlocal loss: 2.3027\n",
      "\tWorker: 6752 \tepoch: 1 \tbatch: 24 \tlocal loss: 2.2976\n",
      "\tWorker: 6752 \tepoch: 1 \tbatch: 32 \tlocal loss: 2.3060 \n",
      "\n",
      "\tWorker: 6360 \tepoch: 1 \tbatch: 0 \tlocal loss: 2.2989\n",
      "\tWorker: 6360 \tepoch: 1 \tbatch: 8 \tlocal loss: 2.3116\n",
      "\tWorker: 6360 \tepoch: 1 \tbatch: 16 \tlocal loss: 2.2913\n",
      "\tWorker: 6360 \tepoch: 1 \tbatch: 24 \tlocal loss: 2.2996\n",
      "\tWorker: 6360 \tepoch: 1 \tbatch: 32 \tlocal loss: 2.2871 \n",
      "\n",
      "\tWorker: 7584 \tepoch: 1 \tbatch: 0 \tlocal loss: 2.2994\n",
      "\tWorker: 7584 \tepoch: 1 \tbatch: 8 \tlocal loss: 2.2853\n",
      "\tWorker: 7584 \tepoch: 1 \tbatch: 16 \tlocal loss: 2.2842\n",
      "\tWorker: 7584 \tepoch: 1 \tbatch: 24 \tlocal loss: 2.2765\n",
      "\tWorker: 7584 \tepoch: 1 \tbatch: 32 \tlocal loss: 2.2873 \n",
      "\n",
      "\tWorker: 4296 \tepoch: 1 \tbatch: 0 \tlocal loss: 2.3123\n",
      "\tWorker: 4296 \tepoch: 1 \tbatch: 8 \tlocal loss: 2.3133\n",
      "\tWorker: 4296 \tepoch: 1 \tbatch: 16 \tlocal loss: 2.2926\n",
      "\tWorker: 4296 \tepoch: 1 \tbatch: 24 \tlocal loss: 2.2831\n",
      "\tWorker: 4296 \tepoch: 1 \tbatch: 32 \tlocal loss: 2.2901 \n",
      "\n",
      "\tWorker: 4352 \tepoch: 1 \tbatch: 0 \tlocal loss: 2.3008\n",
      "\tWorker: 4352 \tepoch: 1 \tbatch: 8 \tlocal loss: 2.3014\n",
      "\tWorker: 4352 \tepoch: 1 \tbatch: 16 \tlocal loss: 2.3020\n",
      "\tWorker: 4352 \tepoch: 1 \tbatch: 24 \tlocal loss: 2.3042\n",
      "\tWorker: 4352 \tepoch: 1 \tbatch: 32 \tlocal loss: 2.3008 \n",
      "\n"
     ]
    },
    {
     "name": "stderr",
     "output_type": "stream",
     "text": [
      "\r",
      " 20%|██        | 1/5 [00:38<02:33, 38.26s/it]"
     ]
    },
    {
     "name": "stdout",
     "output_type": "stream",
     "text": [
      "Finished round 1 with global loss: 2.29564 \n",
      "\n",
      "Beginning round 2\n",
      "\tWorker: 5904 \tepoch: 1 \tbatch: 0 \tlocal loss: 2.3064\n",
      "\tWorker: 5904 \tepoch: 1 \tbatch: 8 \tlocal loss: 2.2888\n",
      "\tWorker: 5904 \tepoch: 1 \tbatch: 16 \tlocal loss: 2.2759\n",
      "\tWorker: 5904 \tepoch: 1 \tbatch: 24 \tlocal loss: 2.2592\n",
      "\tWorker: 5904 \tepoch: 1 \tbatch: 32 \tlocal loss: 2.2626 \n",
      "\n",
      "\tWorker: 7768 \tepoch: 1 \tbatch: 0 \tlocal loss: 2.3090\n",
      "\tWorker: 7768 \tepoch: 1 \tbatch: 8 \tlocal loss: 2.2947\n",
      "\tWorker: 7768 \tepoch: 1 \tbatch: 16 \tlocal loss: 2.2924\n",
      "\tWorker: 7768 \tepoch: 1 \tbatch: 24 \tlocal loss: 2.2649\n",
      "\tWorker: 7768 \tepoch: 1 \tbatch: 32 \tlocal loss: 2.2772 \n",
      "\n",
      "\tWorker: 3368 \tepoch: 1 \tbatch: 0 \tlocal loss: 2.3036\n",
      "\tWorker: 3368 \tepoch: 1 \tbatch: 8 \tlocal loss: 2.3049\n",
      "\tWorker: 3368 \tepoch: 1 \tbatch: 16 \tlocal loss: 2.2953\n",
      "\tWorker: 3368 \tepoch: 1 \tbatch: 24 \tlocal loss: 2.2856\n",
      "\tWorker: 3368 \tepoch: 1 \tbatch: 32 \tlocal loss: 2.2879 \n",
      "\n",
      "\tWorker: 1856 \tepoch: 1 \tbatch: 0 \tlocal loss: 2.2979\n",
      "\tWorker: 1856 \tepoch: 1 \tbatch: 8 \tlocal loss: 2.2756\n",
      "\tWorker: 1856 \tepoch: 1 \tbatch: 16 \tlocal loss: 2.2814\n",
      "\tWorker: 1856 \tepoch: 1 \tbatch: 24 \tlocal loss: 2.2598\n",
      "\tWorker: 1856 \tepoch: 1 \tbatch: 32 \tlocal loss: 2.2719 \n",
      "\n",
      "\tWorker: 5984 \tepoch: 1 \tbatch: 0 \tlocal loss: 2.2793\n",
      "\tWorker: 5984 \tepoch: 1 \tbatch: 8 \tlocal loss: 2.2818\n",
      "\tWorker: 5984 \tepoch: 1 \tbatch: 16 \tlocal loss: 2.2848\n",
      "\tWorker: 5984 \tepoch: 1 \tbatch: 24 \tlocal loss: 2.2804\n",
      "\tWorker: 5984 \tepoch: 1 \tbatch: 32 \tlocal loss: 2.2871 \n",
      "\n",
      "\tWorker: 6752 \tepoch: 1 \tbatch: 0 \tlocal loss: 2.3032\n",
      "\tWorker: 6752 \tepoch: 1 \tbatch: 8 \tlocal loss: 2.2844\n",
      "\tWorker: 6752 \tepoch: 1 \tbatch: 16 \tlocal loss: 2.2842\n",
      "\tWorker: 6752 \tepoch: 1 \tbatch: 24 \tlocal loss: 2.2784\n",
      "\tWorker: 6752 \tepoch: 1 \tbatch: 32 \tlocal loss: 2.2877 \n",
      "\n",
      "\tWorker: 6360 \tepoch: 1 \tbatch: 0 \tlocal loss: 2.2966\n",
      "\tWorker: 6360 \tepoch: 1 \tbatch: 8 \tlocal loss: 2.2679\n",
      "\tWorker: 6360 \tepoch: 1 \tbatch: 16 \tlocal loss: 2.2879\n",
      "\tWorker: 6360 \tepoch: 1 \tbatch: 24 \tlocal loss: 2.2746\n",
      "\tWorker: 6360 \tepoch: 1 \tbatch: 32 \tlocal loss: 2.2750 \n",
      "\n",
      "\tWorker: 7584 \tepoch: 1 \tbatch: 0 \tlocal loss: 2.2953\n",
      "\tWorker: 7584 \tepoch: 1 \tbatch: 8 \tlocal loss: 2.2602\n",
      "\tWorker: 7584 \tepoch: 1 \tbatch: 16 \tlocal loss: 2.2759\n",
      "\tWorker: 7584 \tepoch: 1 \tbatch: 24 \tlocal loss: 2.2714\n",
      "\tWorker: 7584 \tepoch: 1 \tbatch: 32 \tlocal loss: 2.2942 \n",
      "\n",
      "\tWorker: 4296 \tepoch: 1 \tbatch: 0 \tlocal loss: 2.2976\n",
      "\tWorker: 4296 \tepoch: 1 \tbatch: 8 \tlocal loss: 2.2827\n",
      "\tWorker: 4296 \tepoch: 1 \tbatch: 16 \tlocal loss: 2.2897\n",
      "\tWorker: 4296 \tepoch: 1 \tbatch: 24 \tlocal loss: 2.2712\n",
      "\tWorker: 4296 \tepoch: 1 \tbatch: 32 \tlocal loss: 2.2669 \n",
      "\n",
      "\tWorker: 4352 \tepoch: 1 \tbatch: 0 \tlocal loss: 2.3182\n",
      "\tWorker: 4352 \tepoch: 1 \tbatch: 8 \tlocal loss: 2.3145\n",
      "\tWorker: 4352 \tepoch: 1 \tbatch: 16 \tlocal loss: 2.2838\n",
      "\tWorker: 4352 \tepoch: 1 \tbatch: 24 \tlocal loss: 2.2888\n",
      "\tWorker: 4352 \tepoch: 1 \tbatch: 32 \tlocal loss: 2.2759 \n",
      "\n"
     ]
    },
    {
     "name": "stderr",
     "output_type": "stream",
     "text": [
      "\r",
      " 40%|████      | 2/5 [01:13<01:52, 37.38s/it]"
     ]
    },
    {
     "name": "stdout",
     "output_type": "stream",
     "text": [
      "Finished round 2 with global loss: 2.28360 \n",
      "\n",
      "Beginning round 3\n",
      "\tWorker: 5904 \tepoch: 1 \tbatch: 0 \tlocal loss: 2.2721\n",
      "\tWorker: 5904 \tepoch: 1 \tbatch: 8 \tlocal loss: 2.2740\n",
      "\tWorker: 5904 \tepoch: 1 \tbatch: 16 \tlocal loss: 2.2796\n",
      "\tWorker: 5904 \tepoch: 1 \tbatch: 24 \tlocal loss: 2.2585\n",
      "\tWorker: 5904 \tepoch: 1 \tbatch: 32 \tlocal loss: 2.2651 \n",
      "\n",
      "\tWorker: 7768 \tepoch: 1 \tbatch: 0 \tlocal loss: 2.2807\n",
      "\tWorker: 7768 \tepoch: 1 \tbatch: 8 \tlocal loss: 2.2738\n",
      "\tWorker: 7768 \tepoch: 1 \tbatch: 16 \tlocal loss: 2.2648\n",
      "\tWorker: 7768 \tepoch: 1 \tbatch: 24 \tlocal loss: 2.2423\n",
      "\tWorker: 7768 \tepoch: 1 \tbatch: 32 \tlocal loss: 2.2591 \n",
      "\n",
      "\tWorker: 3368 \tepoch: 1 \tbatch: 0 \tlocal loss: 2.2894\n",
      "\tWorker: 3368 \tepoch: 1 \tbatch: 8 \tlocal loss: 2.2948\n",
      "\tWorker: 3368 \tepoch: 1 \tbatch: 16 \tlocal loss: 2.2886\n",
      "\tWorker: 3368 \tepoch: 1 \tbatch: 24 \tlocal loss: 2.2847\n",
      "\tWorker: 3368 \tepoch: 1 \tbatch: 32 \tlocal loss: 2.2782 \n",
      "\n",
      "\tWorker: 1856 \tepoch: 1 \tbatch: 0 \tlocal loss: 2.2657\n",
      "\tWorker: 1856 \tepoch: 1 \tbatch: 8 \tlocal loss: 2.2685\n",
      "\tWorker: 1856 \tepoch: 1 \tbatch: 16 \tlocal loss: 2.2686\n",
      "\tWorker: 1856 \tepoch: 1 \tbatch: 24 \tlocal loss: 2.2616\n",
      "\tWorker: 1856 \tepoch: 1 \tbatch: 32 \tlocal loss: 2.2513 \n",
      "\n",
      "\tWorker: 5984 \tepoch: 1 \tbatch: 0 \tlocal loss: 2.2780\n",
      "\tWorker: 5984 \tepoch: 1 \tbatch: 8 \tlocal loss: 2.2662\n",
      "\tWorker: 5984 \tepoch: 1 \tbatch: 16 \tlocal loss: 2.2664\n",
      "\tWorker: 5984 \tepoch: 1 \tbatch: 24 \tlocal loss: 2.2666\n",
      "\tWorker: 5984 \tepoch: 1 \tbatch: 32 \tlocal loss: 2.2525 \n",
      "\n",
      "\tWorker: 6752 \tepoch: 1 \tbatch: 0 \tlocal loss: 2.2806\n",
      "\tWorker: 6752 \tepoch: 1 \tbatch: 8 \tlocal loss: 2.2816\n",
      "\tWorker: 6752 \tepoch: 1 \tbatch: 16 \tlocal loss: 2.2929\n",
      "\tWorker: 6752 \tepoch: 1 \tbatch: 24 \tlocal loss: 2.2706\n",
      "\tWorker: 6752 \tepoch: 1 \tbatch: 32 \tlocal loss: 2.2842 \n",
      "\n",
      "\tWorker: 6360 \tepoch: 1 \tbatch: 0 \tlocal loss: 2.2750\n",
      "\tWorker: 6360 \tepoch: 1 \tbatch: 8 \tlocal loss: 2.2617\n",
      "\tWorker: 6360 \tepoch: 1 \tbatch: 16 \tlocal loss: 2.2697\n",
      "\tWorker: 6360 \tepoch: 1 \tbatch: 24 \tlocal loss: 2.2620\n",
      "\tWorker: 6360 \tepoch: 1 \tbatch: 32 \tlocal loss: 2.2517 \n",
      "\n",
      "\tWorker: 7584 \tepoch: 1 \tbatch: 0 \tlocal loss: 2.2830\n",
      "\tWorker: 7584 \tepoch: 1 \tbatch: 8 \tlocal loss: 2.2696\n",
      "\tWorker: 7584 \tepoch: 1 \tbatch: 16 \tlocal loss: 2.2582\n",
      "\tWorker: 7584 \tepoch: 1 \tbatch: 24 \tlocal loss: 2.2632\n",
      "\tWorker: 7584 \tepoch: 1 \tbatch: 32 \tlocal loss: 2.2806 \n",
      "\n",
      "\tWorker: 4296 \tepoch: 1 \tbatch: 0 \tlocal loss: 2.2687\n",
      "\tWorker: 4296 \tepoch: 1 \tbatch: 8 \tlocal loss: 2.2851\n",
      "\tWorker: 4296 \tepoch: 1 \tbatch: 16 \tlocal loss: 2.2717\n",
      "\tWorker: 4296 \tepoch: 1 \tbatch: 24 \tlocal loss: 2.2808\n",
      "\tWorker: 4296 \tepoch: 1 \tbatch: 32 \tlocal loss: 2.2697 \n",
      "\n",
      "\tWorker: 4352 \tepoch: 1 \tbatch: 0 \tlocal loss: 2.2890\n",
      "\tWorker: 4352 \tepoch: 1 \tbatch: 8 \tlocal loss: 2.2851\n",
      "\tWorker: 4352 \tepoch: 1 \tbatch: 16 \tlocal loss: 2.2789\n",
      "\tWorker: 4352 \tepoch: 1 \tbatch: 24 \tlocal loss: 2.2713\n",
      "\tWorker: 4352 \tepoch: 1 \tbatch: 32 \tlocal loss: 2.2679 \n",
      "\n"
     ]
    },
    {
     "name": "stderr",
     "output_type": "stream",
     "text": [
      "\r",
      " 60%|██████    | 3/5 [01:52<01:15, 37.83s/it]"
     ]
    },
    {
     "name": "stdout",
     "output_type": "stream",
     "text": [
      "Finished round 3 with global loss: 2.27214 \n",
      "\n",
      "Beginning round 4\n",
      "\tWorker: 5904 \tepoch: 1 \tbatch: 0 \tlocal loss: 2.2668\n",
      "\tWorker: 5904 \tepoch: 1 \tbatch: 8 \tlocal loss: 2.2834\n",
      "\tWorker: 5904 \tepoch: 1 \tbatch: 16 \tlocal loss: 2.2761\n",
      "\tWorker: 5904 \tepoch: 1 \tbatch: 24 \tlocal loss: 2.2659\n",
      "\tWorker: 5904 \tepoch: 1 \tbatch: 32 \tlocal loss: 2.2676 \n",
      "\n",
      "\tWorker: 7768 \tepoch: 1 \tbatch: 0 \tlocal loss: 2.2748\n",
      "\tWorker: 7768 \tepoch: 1 \tbatch: 8 \tlocal loss: 2.2474\n",
      "\tWorker: 7768 \tepoch: 1 \tbatch: 16 \tlocal loss: 2.2671\n",
      "\tWorker: 7768 \tepoch: 1 \tbatch: 24 \tlocal loss: 2.2620\n",
      "\tWorker: 7768 \tepoch: 1 \tbatch: 32 \tlocal loss: 2.2308 \n",
      "\n",
      "\tWorker: 3368 \tepoch: 1 \tbatch: 0 \tlocal loss: 2.2801\n",
      "\tWorker: 3368 \tepoch: 1 \tbatch: 8 \tlocal loss: 2.2709\n",
      "\tWorker: 3368 \tepoch: 1 \tbatch: 16 \tlocal loss: 2.2663\n",
      "\tWorker: 3368 \tepoch: 1 \tbatch: 24 \tlocal loss: 2.2667\n",
      "\tWorker: 3368 \tepoch: 1 \tbatch: 32 \tlocal loss: 2.2564 \n",
      "\n",
      "\tWorker: 1856 \tepoch: 1 \tbatch: 0 \tlocal loss: 2.2549\n",
      "\tWorker: 1856 \tepoch: 1 \tbatch: 8 \tlocal loss: 2.2532\n",
      "\tWorker: 1856 \tepoch: 1 \tbatch: 16 \tlocal loss: 2.2516\n",
      "\tWorker: 1856 \tepoch: 1 \tbatch: 24 \tlocal loss: 2.2609\n",
      "\tWorker: 1856 \tepoch: 1 \tbatch: 32 \tlocal loss: 2.2406 \n",
      "\n",
      "\tWorker: 5984 \tepoch: 1 \tbatch: 0 \tlocal loss: 2.2641\n",
      "\tWorker: 5984 \tepoch: 1 \tbatch: 8 \tlocal loss: 2.2739\n",
      "\tWorker: 5984 \tepoch: 1 \tbatch: 16 \tlocal loss: 2.2583\n"
     ]
    },
    {
     "ename": "KeyboardInterrupt",
     "evalue": "",
     "output_type": "error",
     "traceback": [
      "\u001b[0;31m---------------------------------------------------------------------------\u001b[0m",
      "\u001b[0;31mKeyboardInterrupt\u001b[0m                         Traceback (most recent call last)",
      "\u001b[0;32m<ipython-input-11-a36cd70f84a0>\u001b[0m in \u001b[0;36m<module>\u001b[0;34m\u001b[0m\n\u001b[1;32m      3\u001b[0m \u001b[0;32mfor\u001b[0m \u001b[0mi\u001b[0m \u001b[0;32min\u001b[0m \u001b[0mtqdm\u001b[0m\u001b[0;34m(\u001b[0m\u001b[0mrange\u001b[0m\u001b[0;34m(\u001b[0m\u001b[0mnum_rounds\u001b[0m\u001b[0;34m)\u001b[0m\u001b[0;34m)\u001b[0m\u001b[0;34m:\u001b[0m\u001b[0;34m\u001b[0m\u001b[0;34m\u001b[0m\u001b[0m\n\u001b[1;32m      4\u001b[0m     \u001b[0mprint\u001b[0m\u001b[0;34m(\u001b[0m\u001b[0;34m\"Beginning round\"\u001b[0m\u001b[0;34m,\u001b[0m \u001b[0mi\u001b[0m\u001b[0;34m+\u001b[0m\u001b[0;36m1\u001b[0m\u001b[0;34m)\u001b[0m\u001b[0;34m\u001b[0m\u001b[0;34m\u001b[0m\u001b[0m\n\u001b[0;32m----> 5\u001b[0;31m     \u001b[0mmanager\u001b[0m\u001b[0;34m.\u001b[0m\u001b[0mround\u001b[0m\u001b[0;34m(\u001b[0m\u001b[0;34m)\u001b[0m\u001b[0;34m\u001b[0m\u001b[0;34m\u001b[0m\u001b[0m\n\u001b[0m\u001b[1;32m      6\u001b[0m     \u001b[0mprint\u001b[0m\u001b[0;34m(\u001b[0m\u001b[0;34m\"Finished round\"\u001b[0m\u001b[0;34m,\u001b[0m \u001b[0mi\u001b[0m\u001b[0;34m+\u001b[0m\u001b[0;36m1\u001b[0m\u001b[0;34m,\u001b[0m \u001b[0;34m\"with global loss: %.5f\"\u001b[0m \u001b[0;34m%\u001b[0m \u001b[0mmanager\u001b[0m\u001b[0;34m.\u001b[0m\u001b[0mmanager_loss_history\u001b[0m\u001b[0;34m[\u001b[0m\u001b[0;34m-\u001b[0m\u001b[0;36m1\u001b[0m\u001b[0;34m]\u001b[0m\u001b[0;34m,\u001b[0m \u001b[0;34m\"\\n\"\u001b[0m\u001b[0;34m)\u001b[0m\u001b[0;34m\u001b[0m\u001b[0;34m\u001b[0m\u001b[0m\n",
      "\u001b[0;32m~/work/bfpytorch/federated.py\u001b[0m in \u001b[0;36mround\u001b[0;34m(self)\u001b[0m\n\u001b[1;32m     43\u001b[0m         \u001b[0mweighted\u001b[0m \u001b[0maverage\u001b[0m \u001b[0;32mand\u001b[0m \u001b[0mdo\u001b[0m \u001b[0;32mnot\u001b[0m \u001b[0mreceive\u001b[0m \u001b[0ma\u001b[0m \u001b[0mcopy\u001b[0m \u001b[0mof\u001b[0m \u001b[0mthe\u001b[0m \u001b[0mserver\u001b[0m \u001b[0mmodel\u001b[0m\u001b[0;34m.\u001b[0m\u001b[0;34m\u001b[0m\u001b[0;34m\u001b[0m\u001b[0m\n\u001b[1;32m     44\u001b[0m         \"\"\"\n\u001b[0;32m---> 45\u001b[0;31m         \u001b[0mupdates\u001b[0m \u001b[0;34m=\u001b[0m \u001b[0;34m[\u001b[0m\u001b[0mw\u001b[0m\u001b[0;34m.\u001b[0m\u001b[0mtrain\u001b[0m\u001b[0;34m(\u001b[0m\u001b[0;34m)\u001b[0m \u001b[0;32mfor\u001b[0m \u001b[0mw\u001b[0m \u001b[0;32min\u001b[0m \u001b[0mself\u001b[0m\u001b[0;34m.\u001b[0m\u001b[0mworkers\u001b[0m\u001b[0;34m]\u001b[0m\u001b[0;34m\u001b[0m\u001b[0;34m\u001b[0m\u001b[0m\n\u001b[0m\u001b[1;32m     46\u001b[0m         \u001b[0mself\u001b[0m\u001b[0;34m.\u001b[0m\u001b[0mrecord_loss\u001b[0m\u001b[0;34m(\u001b[0m\u001b[0;34m)\u001b[0m\u001b[0;34m\u001b[0m\u001b[0;34m\u001b[0m\u001b[0m\n\u001b[1;32m     47\u001b[0m         \u001b[0mself\u001b[0m\u001b[0;34m.\u001b[0m\u001b[0mfedavg\u001b[0m\u001b[0;34m(\u001b[0m\u001b[0;34m[\u001b[0m\u001b[0mu\u001b[0m \u001b[0;32mfor\u001b[0m \u001b[0mu\u001b[0m\u001b[0;34m,\u001b[0m \u001b[0mw\u001b[0m \u001b[0;32min\u001b[0m \u001b[0mzip\u001b[0m\u001b[0;34m(\u001b[0m\u001b[0mupdates\u001b[0m\u001b[0;34m,\u001b[0m \u001b[0mself\u001b[0m\u001b[0;34m.\u001b[0m\u001b[0mworkers\u001b[0m\u001b[0;34m)\u001b[0m \u001b[0;32mif\u001b[0m \u001b[0mw\u001b[0m\u001b[0;34m.\u001b[0m\u001b[0mparticipant\u001b[0m\u001b[0;34m]\u001b[0m\u001b[0;34m)\u001b[0m\u001b[0;34m\u001b[0m\u001b[0;34m\u001b[0m\u001b[0m\n",
      "\u001b[0;32m~/work/bfpytorch/federated.py\u001b[0m in \u001b[0;36m<listcomp>\u001b[0;34m(.0)\u001b[0m\n\u001b[1;32m     43\u001b[0m         \u001b[0mweighted\u001b[0m \u001b[0maverage\u001b[0m \u001b[0;32mand\u001b[0m \u001b[0mdo\u001b[0m \u001b[0;32mnot\u001b[0m \u001b[0mreceive\u001b[0m \u001b[0ma\u001b[0m \u001b[0mcopy\u001b[0m \u001b[0mof\u001b[0m \u001b[0mthe\u001b[0m \u001b[0mserver\u001b[0m \u001b[0mmodel\u001b[0m\u001b[0;34m.\u001b[0m\u001b[0;34m\u001b[0m\u001b[0;34m\u001b[0m\u001b[0m\n\u001b[1;32m     44\u001b[0m         \"\"\"\n\u001b[0;32m---> 45\u001b[0;31m         \u001b[0mupdates\u001b[0m \u001b[0;34m=\u001b[0m \u001b[0;34m[\u001b[0m\u001b[0mw\u001b[0m\u001b[0;34m.\u001b[0m\u001b[0mtrain\u001b[0m\u001b[0;34m(\u001b[0m\u001b[0;34m)\u001b[0m \u001b[0;32mfor\u001b[0m \u001b[0mw\u001b[0m \u001b[0;32min\u001b[0m \u001b[0mself\u001b[0m\u001b[0;34m.\u001b[0m\u001b[0mworkers\u001b[0m\u001b[0;34m]\u001b[0m\u001b[0;34m\u001b[0m\u001b[0;34m\u001b[0m\u001b[0m\n\u001b[0m\u001b[1;32m     46\u001b[0m         \u001b[0mself\u001b[0m\u001b[0;34m.\u001b[0m\u001b[0mrecord_loss\u001b[0m\u001b[0;34m(\u001b[0m\u001b[0;34m)\u001b[0m\u001b[0;34m\u001b[0m\u001b[0;34m\u001b[0m\u001b[0m\n\u001b[1;32m     47\u001b[0m         \u001b[0mself\u001b[0m\u001b[0;34m.\u001b[0m\u001b[0mfedavg\u001b[0m\u001b[0;34m(\u001b[0m\u001b[0;34m[\u001b[0m\u001b[0mu\u001b[0m \u001b[0;32mfor\u001b[0m \u001b[0mu\u001b[0m\u001b[0;34m,\u001b[0m \u001b[0mw\u001b[0m \u001b[0;32min\u001b[0m \u001b[0mzip\u001b[0m\u001b[0;34m(\u001b[0m\u001b[0mupdates\u001b[0m\u001b[0;34m,\u001b[0m \u001b[0mself\u001b[0m\u001b[0;34m.\u001b[0m\u001b[0mworkers\u001b[0m\u001b[0;34m)\u001b[0m \u001b[0;32mif\u001b[0m \u001b[0mw\u001b[0m\u001b[0;34m.\u001b[0m\u001b[0mparticipant\u001b[0m\u001b[0;34m]\u001b[0m\u001b[0;34m)\u001b[0m\u001b[0;34m\u001b[0m\u001b[0;34m\u001b[0m\u001b[0m\n",
      "\u001b[0;32m~/work/bfpytorch/federated.py\u001b[0m in \u001b[0;36mtrain\u001b[0;34m(self)\u001b[0m\n\u001b[1;32m    123\u001b[0m             \u001b[0;32mfor\u001b[0m \u001b[0mi\u001b[0m\u001b[0;34m,\u001b[0m \u001b[0;34m(\u001b[0m\u001b[0mx\u001b[0m\u001b[0;34m,\u001b[0m \u001b[0my\u001b[0m\u001b[0;34m)\u001b[0m \u001b[0;32min\u001b[0m \u001b[0menumerate\u001b[0m\u001b[0;34m(\u001b[0m\u001b[0mself\u001b[0m\u001b[0;34m.\u001b[0m\u001b[0mdataloader\u001b[0m\u001b[0;34m)\u001b[0m\u001b[0;34m:\u001b[0m\u001b[0;34m\u001b[0m\u001b[0;34m\u001b[0m\u001b[0m\n\u001b[1;32m    124\u001b[0m                 \u001b[0moptimizer\u001b[0m\u001b[0;34m.\u001b[0m\u001b[0mzero_grad\u001b[0m\u001b[0;34m(\u001b[0m\u001b[0;34m)\u001b[0m\u001b[0;34m\u001b[0m\u001b[0;34m\u001b[0m\u001b[0m\n\u001b[0;32m--> 125\u001b[0;31m                 \u001b[0mypred\u001b[0m \u001b[0;34m=\u001b[0m \u001b[0mself\u001b[0m\u001b[0;34m.\u001b[0m\u001b[0mmodel\u001b[0m\u001b[0;34m(\u001b[0m\u001b[0mx\u001b[0m\u001b[0;34m)\u001b[0m\u001b[0;34m\u001b[0m\u001b[0;34m\u001b[0m\u001b[0m\n\u001b[0m\u001b[1;32m    126\u001b[0m                 \u001b[0mtrain_loss\u001b[0m \u001b[0;34m=\u001b[0m \u001b[0mself\u001b[0m\u001b[0;34m.\u001b[0m\u001b[0mloss_fn\u001b[0m\u001b[0;34m(\u001b[0m\u001b[0mypred\u001b[0m\u001b[0;34m,\u001b[0m \u001b[0my\u001b[0m\u001b[0;34m)\u001b[0m\u001b[0;34m\u001b[0m\u001b[0;34m\u001b[0m\u001b[0m\n\u001b[1;32m    127\u001b[0m                 \u001b[0mtrain_loss\u001b[0m\u001b[0;34m.\u001b[0m\u001b[0mbackward\u001b[0m\u001b[0;34m(\u001b[0m\u001b[0;34m)\u001b[0m\u001b[0;34m\u001b[0m\u001b[0;34m\u001b[0m\u001b[0m\n",
      "\u001b[0;32m~/work/bfpytorch/venv/lib/python3.6/site-packages/torch/nn/modules/module.py\u001b[0m in \u001b[0;36m__call__\u001b[0;34m(self, *input, **kwargs)\u001b[0m\n\u001b[1;32m    487\u001b[0m             \u001b[0mresult\u001b[0m \u001b[0;34m=\u001b[0m \u001b[0mself\u001b[0m\u001b[0;34m.\u001b[0m\u001b[0m_slow_forward\u001b[0m\u001b[0;34m(\u001b[0m\u001b[0;34m*\u001b[0m\u001b[0minput\u001b[0m\u001b[0;34m,\u001b[0m \u001b[0;34m**\u001b[0m\u001b[0mkwargs\u001b[0m\u001b[0;34m)\u001b[0m\u001b[0;34m\u001b[0m\u001b[0;34m\u001b[0m\u001b[0m\n\u001b[1;32m    488\u001b[0m         \u001b[0;32melse\u001b[0m\u001b[0;34m:\u001b[0m\u001b[0;34m\u001b[0m\u001b[0;34m\u001b[0m\u001b[0m\n\u001b[0;32m--> 489\u001b[0;31m             \u001b[0mresult\u001b[0m \u001b[0;34m=\u001b[0m \u001b[0mself\u001b[0m\u001b[0;34m.\u001b[0m\u001b[0mforward\u001b[0m\u001b[0;34m(\u001b[0m\u001b[0;34m*\u001b[0m\u001b[0minput\u001b[0m\u001b[0;34m,\u001b[0m \u001b[0;34m**\u001b[0m\u001b[0mkwargs\u001b[0m\u001b[0;34m)\u001b[0m\u001b[0;34m\u001b[0m\u001b[0;34m\u001b[0m\u001b[0m\n\u001b[0m\u001b[1;32m    490\u001b[0m         \u001b[0;32mfor\u001b[0m \u001b[0mhook\u001b[0m \u001b[0;32min\u001b[0m \u001b[0mself\u001b[0m\u001b[0;34m.\u001b[0m\u001b[0m_forward_hooks\u001b[0m\u001b[0;34m.\u001b[0m\u001b[0mvalues\u001b[0m\u001b[0;34m(\u001b[0m\u001b[0;34m)\u001b[0m\u001b[0;34m:\u001b[0m\u001b[0;34m\u001b[0m\u001b[0;34m\u001b[0m\u001b[0m\n\u001b[1;32m    491\u001b[0m             \u001b[0mhook_result\u001b[0m \u001b[0;34m=\u001b[0m \u001b[0mhook\u001b[0m\u001b[0;34m(\u001b[0m\u001b[0mself\u001b[0m\u001b[0;34m,\u001b[0m \u001b[0minput\u001b[0m\u001b[0;34m,\u001b[0m \u001b[0mresult\u001b[0m\u001b[0;34m)\u001b[0m\u001b[0;34m\u001b[0m\u001b[0;34m\u001b[0m\u001b[0m\n",
      "\u001b[0;32m<ipython-input-1-236b4c674d57>\u001b[0m in \u001b[0;36mforward\u001b[0;34m(self, x)\u001b[0m\n\u001b[1;32m     11\u001b[0m     \u001b[0;32mdef\u001b[0m \u001b[0mforward\u001b[0m\u001b[0;34m(\u001b[0m\u001b[0mself\u001b[0m\u001b[0;34m,\u001b[0m \u001b[0mx\u001b[0m\u001b[0;34m)\u001b[0m\u001b[0;34m:\u001b[0m\u001b[0;34m\u001b[0m\u001b[0;34m\u001b[0m\u001b[0m\n\u001b[1;32m     12\u001b[0m         \u001b[0mx\u001b[0m \u001b[0;34m=\u001b[0m \u001b[0mx\u001b[0m\u001b[0;34m.\u001b[0m\u001b[0mview\u001b[0m\u001b[0;34m(\u001b[0m\u001b[0;34m-\u001b[0m\u001b[0;36m1\u001b[0m\u001b[0;34m,\u001b[0m \u001b[0;36m28\u001b[0m\u001b[0;34m*\u001b[0m\u001b[0;36m28\u001b[0m\u001b[0;34m)\u001b[0m\u001b[0;34m\u001b[0m\u001b[0;34m\u001b[0m\u001b[0m\n\u001b[0;32m---> 13\u001b[0;31m         \u001b[0mx\u001b[0m \u001b[0;34m=\u001b[0m \u001b[0mnn\u001b[0m\u001b[0;34m.\u001b[0m\u001b[0mfunctional\u001b[0m\u001b[0;34m.\u001b[0m\u001b[0mrelu\u001b[0m\u001b[0;34m(\u001b[0m\u001b[0mself\u001b[0m\u001b[0;34m.\u001b[0m\u001b[0mfc1\u001b[0m\u001b[0;34m(\u001b[0m\u001b[0mx\u001b[0m\u001b[0;34m)\u001b[0m\u001b[0;34m)\u001b[0m\u001b[0;34m\u001b[0m\u001b[0;34m\u001b[0m\u001b[0m\n\u001b[0m\u001b[1;32m     14\u001b[0m         \u001b[0mx\u001b[0m \u001b[0;34m=\u001b[0m \u001b[0mnn\u001b[0m\u001b[0;34m.\u001b[0m\u001b[0mfunctional\u001b[0m\u001b[0;34m.\u001b[0m\u001b[0mrelu\u001b[0m\u001b[0;34m(\u001b[0m\u001b[0mself\u001b[0m\u001b[0;34m.\u001b[0m\u001b[0mfc2\u001b[0m\u001b[0;34m(\u001b[0m\u001b[0mx\u001b[0m\u001b[0;34m)\u001b[0m\u001b[0;34m)\u001b[0m\u001b[0;34m\u001b[0m\u001b[0;34m\u001b[0m\u001b[0m\n\u001b[1;32m     15\u001b[0m         \u001b[0mx\u001b[0m \u001b[0;34m=\u001b[0m \u001b[0mself\u001b[0m\u001b[0;34m.\u001b[0m\u001b[0mfc3\u001b[0m\u001b[0;34m(\u001b[0m\u001b[0mx\u001b[0m\u001b[0;34m)\u001b[0m\u001b[0;34m\u001b[0m\u001b[0;34m\u001b[0m\u001b[0m\n",
      "\u001b[0;32m~/work/bfpytorch/venv/lib/python3.6/site-packages/torch/nn/modules/module.py\u001b[0m in \u001b[0;36m__call__\u001b[0;34m(self, *input, **kwargs)\u001b[0m\n\u001b[1;32m    487\u001b[0m             \u001b[0mresult\u001b[0m \u001b[0;34m=\u001b[0m \u001b[0mself\u001b[0m\u001b[0;34m.\u001b[0m\u001b[0m_slow_forward\u001b[0m\u001b[0;34m(\u001b[0m\u001b[0;34m*\u001b[0m\u001b[0minput\u001b[0m\u001b[0;34m,\u001b[0m \u001b[0;34m**\u001b[0m\u001b[0mkwargs\u001b[0m\u001b[0;34m)\u001b[0m\u001b[0;34m\u001b[0m\u001b[0;34m\u001b[0m\u001b[0m\n\u001b[1;32m    488\u001b[0m         \u001b[0;32melse\u001b[0m\u001b[0;34m:\u001b[0m\u001b[0;34m\u001b[0m\u001b[0;34m\u001b[0m\u001b[0m\n\u001b[0;32m--> 489\u001b[0;31m             \u001b[0mresult\u001b[0m \u001b[0;34m=\u001b[0m \u001b[0mself\u001b[0m\u001b[0;34m.\u001b[0m\u001b[0mforward\u001b[0m\u001b[0;34m(\u001b[0m\u001b[0;34m*\u001b[0m\u001b[0minput\u001b[0m\u001b[0;34m,\u001b[0m \u001b[0;34m**\u001b[0m\u001b[0mkwargs\u001b[0m\u001b[0;34m)\u001b[0m\u001b[0;34m\u001b[0m\u001b[0;34m\u001b[0m\u001b[0m\n\u001b[0m\u001b[1;32m    490\u001b[0m         \u001b[0;32mfor\u001b[0m \u001b[0mhook\u001b[0m \u001b[0;32min\u001b[0m \u001b[0mself\u001b[0m\u001b[0;34m.\u001b[0m\u001b[0m_forward_hooks\u001b[0m\u001b[0;34m.\u001b[0m\u001b[0mvalues\u001b[0m\u001b[0;34m(\u001b[0m\u001b[0;34m)\u001b[0m\u001b[0;34m:\u001b[0m\u001b[0;34m\u001b[0m\u001b[0;34m\u001b[0m\u001b[0m\n\u001b[1;32m    491\u001b[0m             \u001b[0mhook_result\u001b[0m \u001b[0;34m=\u001b[0m \u001b[0mhook\u001b[0m\u001b[0;34m(\u001b[0m\u001b[0mself\u001b[0m\u001b[0;34m,\u001b[0m \u001b[0minput\u001b[0m\u001b[0;34m,\u001b[0m \u001b[0mresult\u001b[0m\u001b[0;34m)\u001b[0m\u001b[0;34m\u001b[0m\u001b[0;34m\u001b[0m\u001b[0m\n",
      "\u001b[0;32m~/work/bfpytorch/venv/lib/python3.6/site-packages/torch/nn/modules/linear.py\u001b[0m in \u001b[0;36mforward\u001b[0;34m(self, input)\u001b[0m\n\u001b[1;32m     65\u001b[0m     \u001b[0;34m@\u001b[0m\u001b[0mweak_script_method\u001b[0m\u001b[0;34m\u001b[0m\u001b[0;34m\u001b[0m\u001b[0m\n\u001b[1;32m     66\u001b[0m     \u001b[0;32mdef\u001b[0m \u001b[0mforward\u001b[0m\u001b[0;34m(\u001b[0m\u001b[0mself\u001b[0m\u001b[0;34m,\u001b[0m \u001b[0minput\u001b[0m\u001b[0;34m)\u001b[0m\u001b[0;34m:\u001b[0m\u001b[0;34m\u001b[0m\u001b[0;34m\u001b[0m\u001b[0m\n\u001b[0;32m---> 67\u001b[0;31m         \u001b[0;32mreturn\u001b[0m \u001b[0mF\u001b[0m\u001b[0;34m.\u001b[0m\u001b[0mlinear\u001b[0m\u001b[0;34m(\u001b[0m\u001b[0minput\u001b[0m\u001b[0;34m,\u001b[0m \u001b[0mself\u001b[0m\u001b[0;34m.\u001b[0m\u001b[0mweight\u001b[0m\u001b[0;34m,\u001b[0m \u001b[0mself\u001b[0m\u001b[0;34m.\u001b[0m\u001b[0mbias\u001b[0m\u001b[0;34m)\u001b[0m\u001b[0;34m\u001b[0m\u001b[0;34m\u001b[0m\u001b[0m\n\u001b[0m\u001b[1;32m     68\u001b[0m \u001b[0;34m\u001b[0m\u001b[0m\n\u001b[1;32m     69\u001b[0m     \u001b[0;32mdef\u001b[0m \u001b[0mextra_repr\u001b[0m\u001b[0;34m(\u001b[0m\u001b[0mself\u001b[0m\u001b[0;34m)\u001b[0m\u001b[0;34m:\u001b[0m\u001b[0;34m\u001b[0m\u001b[0;34m\u001b[0m\u001b[0m\n",
      "\u001b[0;32m~/work/bfpytorch/venv/lib/python3.6/site-packages/torch/nn/functional.py\u001b[0m in \u001b[0;36mlinear\u001b[0;34m(input, weight, bias)\u001b[0m\n\u001b[1;32m   1350\u001b[0m     \u001b[0;32mif\u001b[0m \u001b[0minput\u001b[0m\u001b[0;34m.\u001b[0m\u001b[0mdim\u001b[0m\u001b[0;34m(\u001b[0m\u001b[0;34m)\u001b[0m \u001b[0;34m==\u001b[0m \u001b[0;36m2\u001b[0m \u001b[0;32mand\u001b[0m \u001b[0mbias\u001b[0m \u001b[0;32mis\u001b[0m \u001b[0;32mnot\u001b[0m \u001b[0;32mNone\u001b[0m\u001b[0;34m:\u001b[0m\u001b[0;34m\u001b[0m\u001b[0;34m\u001b[0m\u001b[0m\n\u001b[1;32m   1351\u001b[0m         \u001b[0;31m# fused op is marginally faster\u001b[0m\u001b[0;34m\u001b[0m\u001b[0;34m\u001b[0m\u001b[0;34m\u001b[0m\u001b[0m\n\u001b[0;32m-> 1352\u001b[0;31m         \u001b[0mret\u001b[0m \u001b[0;34m=\u001b[0m \u001b[0mtorch\u001b[0m\u001b[0;34m.\u001b[0m\u001b[0maddmm\u001b[0m\u001b[0;34m(\u001b[0m\u001b[0mtorch\u001b[0m\u001b[0;34m.\u001b[0m\u001b[0mjit\u001b[0m\u001b[0;34m.\u001b[0m\u001b[0m_unwrap_optional\u001b[0m\u001b[0;34m(\u001b[0m\u001b[0mbias\u001b[0m\u001b[0;34m)\u001b[0m\u001b[0;34m,\u001b[0m \u001b[0minput\u001b[0m\u001b[0;34m,\u001b[0m \u001b[0mweight\u001b[0m\u001b[0;34m.\u001b[0m\u001b[0mt\u001b[0m\u001b[0;34m(\u001b[0m\u001b[0;34m)\u001b[0m\u001b[0;34m)\u001b[0m\u001b[0;34m\u001b[0m\u001b[0;34m\u001b[0m\u001b[0m\n\u001b[0m\u001b[1;32m   1353\u001b[0m     \u001b[0;32melse\u001b[0m\u001b[0;34m:\u001b[0m\u001b[0;34m\u001b[0m\u001b[0;34m\u001b[0m\u001b[0m\n\u001b[1;32m   1354\u001b[0m         \u001b[0moutput\u001b[0m \u001b[0;34m=\u001b[0m \u001b[0minput\u001b[0m\u001b[0;34m.\u001b[0m\u001b[0mmatmul\u001b[0m\u001b[0;34m(\u001b[0m\u001b[0mweight\u001b[0m\u001b[0;34m.\u001b[0m\u001b[0mt\u001b[0m\u001b[0;34m(\u001b[0m\u001b[0;34m)\u001b[0m\u001b[0;34m)\u001b[0m\u001b[0;34m\u001b[0m\u001b[0;34m\u001b[0m\u001b[0m\n",
      "\u001b[0;31mKeyboardInterrupt\u001b[0m: "
     ]
    }
   ],
   "source": [
    "print(\"Training\", num_rounds, \"round(s) with\", manager.n_workers, \"worker(s) doing\", num_epochs, \"epoch(s) each\\n\" )\n",
    "\n",
    "for i in tqdm(range(num_rounds)):\n",
    "    print(\"Beginning round\", i+1)\n",
    "    manager.round()\n",
    "    print(\"Finished round\", i+1, \"with global loss: %.5f\" % manager.manager_loss_history[-1], \"\\n\")"
   ]
  },
  {
   "cell_type": "code",
   "execution_count": null,
   "metadata": {},
   "outputs": [],
   "source": [
    "%matplotlib inline\n",
    "import matplotlib.pyplot as plt\n",
    "\n",
    "fig, ax = plt.subplots()\n",
    "# loss of global model on test set gets recorded twice per round\n",
    "# [1::2] skips the record that takes place before that round's training has happened\n",
    "ax.plot(manager.manager_loss_history[1::2], label=\"Global Loss\")\n",
    "ax.set_xlabel(\"Round\");\n",
    "ax.legend();"
   ]
  },
  {
   "cell_type": "code",
   "execution_count": null,
   "metadata": {},
   "outputs": [],
   "source": [
    "fig, ax = plt.subplots()\n",
    "\n",
    "for i in range(len(manager.worker_loss_histories)):\n",
    "    lbl = \"Worker \" + str(i)\n",
    "    ax.plot(manager.worker_loss_histories[i], label=lbl)\n",
    "    ax.legend();"
   ]
  },
  {
   "cell_type": "markdown",
   "metadata": {},
   "source": [
    "Outline:\n",
    "- Set up a model and data\n",
    "- train the model N epochs without federation note baseline performance (and size of the data that would have to have been transferedd?) \n",
    "    - is this model trained on the full dataset? Or do we sample randomly across it to have the same number of examples?\n",
    "- Federate without skew or mild skew, compare performance with baseline (and size of model compared to data)\n",
    "- Federate with only a few numbers skewed (like, lacking only 7s or something) \n",
    "- Federate with heavy skew\n",
    "- Federate with complete skew\n",
    "\n",
    "Ideas:\n",
    "- plot performance on a given numeral for the main model next to that of a worker skewed against that numeral. Let both run without federation or run a few epochs before federation. Show this as a baseline\n",
    "- histogram of numerals? More for curiosity, but shows spread of data that we might want to reflect in the baseline training.\n",
    "- why use ten workers? Why not fewer?"
   ]
  },
  {
   "cell_type": "code",
   "execution_count": null,
   "metadata": {},
   "outputs": [],
   "source": []
  },
  {
   "cell_type": "code",
   "execution_count": null,
   "metadata": {},
   "outputs": [],
   "source": []
  }
 ],
 "metadata": {
  "kernelspec": {
   "display_name": "Python 3",
   "language": "python",
   "name": "python3"
  },
  "language_info": {
   "codemirror_mode": {
    "name": "ipython",
    "version": 3
   },
   "file_extension": ".py",
   "mimetype": "text/x-python",
   "name": "python",
   "nbconvert_exporter": "python",
   "pygments_lexer": "ipython3",
   "version": "3.6.7"
  }
 },
 "nbformat": 4,
 "nbformat_minor": 2
}
