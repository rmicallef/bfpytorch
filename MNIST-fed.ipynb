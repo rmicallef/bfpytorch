{
 "cells": [
  {
   "cell_type": "markdown",
   "metadata": {},
   "source": [
    "# Federated Learning Test\n",
    "\n",
    "This notebook is a test of federated learning using the MNIST dataset. It distributes partial subsets of the MNIST data to each worker and tests the results of federation of the workers. It also skews the subsets to investigate the value of federation in cases where workers have substantially different samples."
   ]
  },
  {
   "cell_type": "markdown",
   "metadata": {},
   "source": [
    "## The Baseline\n",
    "\n",
    "First, we load up the common elements to be used in the traditional and federated approaches. We start with the model."
   ]
  },
  {
   "cell_type": "code",
   "execution_count": 1,
   "metadata": {},
   "outputs": [],
   "source": [
    "# Define the model\n",
    "\n",
    "import torch.nn as nn\n",
    "\n",
    "class MLPNet(nn.Module):\n",
    "    def __init__(self):\n",
    "        super(MLPNet, self).__init__()\n",
    "        self.fc1 = nn.Linear(28*28, 500)\n",
    "        self.fc2 = nn.Linear(500, 256)\n",
    "        self.fc3 = nn.Linear(256, 10)\n",
    "    def forward(self, x):\n",
    "        x = x.view(-1, 28*28)\n",
    "        x = nn.functional.relu(self.fc1(x))\n",
    "        x = nn.functional.relu(self.fc2(x))\n",
    "        x = self.fc3(x)\n",
    "        return x\n",
    "    \n",
    "    def name(self):\n",
    "        return \"MLP\"\n",
    "\n",
    "# # Optional model for fun\n",
    "\n",
    "# import torch.nn.functional as F\n",
    "\n",
    "# class LeNet(nn.Module):\n",
    "#     def __init__(self):\n",
    "#         super(LeNet, self).__init__()\n",
    "#         self.conv1 = nn.Conv2d(1, 10, kernel_size=5)\n",
    "#         self.conv2 = nn.Conv2d(10, 20, kernel_size=5)\n",
    "#         self.conv2_drop = nn.Dropout2d()\n",
    "#         self.fc1 = nn.Linear(320, 50)\n",
    "#         self.fc2 = nn.Linear(50, 10)\n",
    "\n",
    "#     def forward(self, x):\n",
    "#         x = F.relu(F.max_pool2d(self.conv1(x), 2))\n",
    "#         x = F.relu(F.max_pool2d(self.conv2_drop(self.conv2(x)), 2))\n",
    "#         x = x.view(-1, 320)\n",
    "#         x = F.relu(self.fc1(x))\n",
    "#         x = F.dropout(x, training=self.training)\n",
    "#         x = self.fc2(x)\n",
    "#         return F.log_softmax(x, dim=0) # value 0 was chosen arbitrarily to quiet a warning. Penny'll start a fire.\n",
    "\n",
    "#     def name(self):\n",
    "#         return 'LeNet'"
   ]
  },
  {
   "cell_type": "code",
   "execution_count": 2,
   "metadata": {},
   "outputs": [],
   "source": [
    "# load the data\n",
    "\n",
    "import torch\n",
    "import torchvision.datasets as dsets\n",
    "import torchvision.transforms as transforms\n",
    "\n",
    "# create standard datasets using all of the MNIST data\n",
    "\n",
    "data_path = './MNIST-data/raw'\n",
    "trans = transforms.Compose([transforms.ToTensor(), transforms.Normalize((0.5,), (1.0,))])\n",
    "\n",
    "train_dset = dsets.MNIST(root=data_path, download=True, train=True, transform=trans)\n",
    "test_dset = dsets.MNIST(root=data_path, download=True, train=False, transform=trans)"
   ]
  },
  {
   "cell_type": "markdown",
   "metadata": {},
   "source": [
    "### Stacking a Deck\n",
    "\n",
    "We need a way to \"stack the deck\" of examples that each worker sees. This method creates a dataset that is randomly sampled from a given dataset with the random sampling biased according to a dictionary of weights for each label."
   ]
  },
  {
   "cell_type": "code",
   "execution_count": 3,
   "metadata": {},
   "outputs": [],
   "source": [
    "from torch.utils.data import WeightedRandomSampler\n",
    "\n",
    "def stacked_dset(dset, label_weights, N):\n",
    "    \"\"\"\n",
    "    dset: dataset\n",
    "    label_weights = {dog: 0.5, cat: 0.3, ...}\n",
    "    N: size of stacked dset\n",
    "    return: stacked WeightedRandomSampler\n",
    "    \"\"\"\n",
    "    weights = []\n",
    "    for label in dset.targets:\n",
    "        weights.append(label_weights[int(label)])\n",
    "    return WeightedRandomSampler(weights, N, replacement=False)"
   ]
  },
  {
   "cell_type": "markdown",
   "metadata": {},
   "source": [
    "And this is where we get the dictionary of weights. For simplicity's sake, we just take a list of labels to be sampled \"normally\" and the rest are biased against. So, preserving 3s and skewing everything else by a factor of 0.9 shoud get a set of weights that results in a dataset that is slightly heavy on 3s compared to everything else. In an an extreme example, preserving only 3s, with a skew of 0, will produce weights that will yield a dataset of only 3s."
   ]
  },
  {
   "cell_type": "code",
   "execution_count": 4,
   "metadata": {},
   "outputs": [],
   "source": [
    "def skewed_weights(num_labels, labels_to_preserve, skew_bias):\n",
    "    \"\"\"\n",
    "        num_labels: number of labels to return (use 10 for MNIST)\n",
    "        labels_to_preserve: list of labels to preserve wih no skew \n",
    "        skew_bias: a float, 0 < bias < 1, to which non-selected labels will be biased down\n",
    "        return: dictionary of each label and its bias\n",
    "    \"\"\"\n",
    "    weights = {}\n",
    "    for label in range(num_labels):\n",
    "        if label in labels_to_preserve:\n",
    "            weights[label] = 1\n",
    "        else:\n",
    "            weights[label] = skew_bias\n",
    "    \n",
    "    return weights"
   ]
  },
  {
   "cell_type": "code",
   "execution_count": 5,
   "metadata": {},
   "outputs": [],
   "source": [
    "from torch.utils.data import DataLoader\n",
    "\n",
    "batch_size = 64\n",
    "\n",
    "# # create standard dataloaders using all of the MNIST data - this is for baseline purposes\n",
    "train_dloader = DataLoader(train_dset, batch_size=batch_size, shuffle=True)\n",
    "test_dloader = DataLoader(test_dset, batch_size=batch_size, shuffle=False)"
   ]
  },
  {
   "cell_type": "markdown",
   "metadata": {},
   "source": [
    "# This next cell applies only to the unstacked datasets, so you can get at the label counts the direct way (no list/zip) and you can use the datasets not the dataloaders (which is faster and simpler)"
   ]
  },
  {
   "cell_type": "code",
   "execution_count": 6,
   "metadata": {},
   "outputs": [
    {
     "name": "stdout",
     "output_type": "stream",
     "text": [
      "Test:  [(1, 6742), (7, 6265), (3, 6131), (2, 5958), (9, 5949), (0, 5923), (6, 5918), (8, 5851), (4, 5842), (5, 5421)]\n",
      "Train: [(1, 1135), (2, 1032), (7, 1028), (3, 1010), (9, 1009), (4, 982), (0, 980), (8, 974), (6, 958), (5, 892)]\n"
     ]
    }
   ],
   "source": [
    "from collections import Counter\n",
    "\n",
    "print(\"Test: \", Counter(int(y) for y in train_dset.targets).most_common())\n",
    "\n",
    "print(\"Train:\", Counter(int(y) for y in test_dset.targets).most_common())"
   ]
  },
  {
   "cell_type": "markdown",
   "metadata": {},
   "source": [
    "These plots show quickly that the sets are distributed fairly similarly."
   ]
  },
  {
   "cell_type": "markdown",
   "metadata": {},
   "source": [
    "# NOTE: you don't need plt.show in notebooks, that's a python script thing.\n",
    "\n",
    "Note the semi-colon on the last line. That's a notebook trick to suppress printing the return value of the final statemnet (i.e. that weird `Patch` object that `ax.hist(...)` returns)."
   ]
  },
  {
   "cell_type": "code",
   "execution_count": 7,
   "metadata": {},
   "outputs": [
    {
     "data": {
      "image/png": "[encoded data removed]",
      "text/plain": [
       "<Figure size 720x360 with 1 Axes>"
      ]
     },
     "metadata": {
      "needs_background": "light"
     },
     "output_type": "display_data"
    },
    {
     "data": {
      "image/png": "[encoded data removed]",
      "text/plain": [
       "<Figure size 720x360 with 1 Axes>"
      ]
     },
     "metadata": {
      "needs_background": "light"
     },
     "output_type": "display_data"
    }
   ],
   "source": [
    "%matplotlib inline\n",
    "import matplotlib.pyplot as plt\n",
    "\n",
    "fig, ax = plt.subplots(figsize=(10, 5))\n",
    "ax.set_title('Testing examples')\n",
    "ax.xaxis.set_major_locator(plt.MultipleLocator(1))\n",
    "ax.hist(test_dloader.dataset.targets, bins=range(11), histtype='bar', align='left', rwidth=0.8)\n",
    "\n",
    "fig, ax = plt.subplots(figsize=(10, 5))\n",
    "ax.set_title('Training examples')\n",
    "ax.xaxis.set_major_locator(plt.MultipleLocator(1))\n",
    "ax.hist(train_dloader.dataset.targets, bins=range(11), histtype='bar', align='left', rwidth=0.8);"
   ]
  },
  {
   "cell_type": "markdown",
   "metadata": {},
   "source": [
    "Here we do the sampling to create our skewed datasets."
   ]
  },
  {
   "cell_type": "code",
   "execution_count": 8,
   "metadata": {},
   "outputs": [
    {
     "name": "stderr",
     "output_type": "stream",
     "text": [
      "100%|██████████| 2/2 [00:00<00:00,  5.12it/s]\n"
     ]
    }
   ],
   "source": [
    "from tqdm import tqdm\n",
    "\n",
    "# create stacked loaders for the workers\n",
    "\n",
    "skew_bias = 0.5\n",
    "loader_size = 2048\n",
    "num_workers = 2\n",
    "\n",
    "stacked_data_loaders = []\n",
    "\n",
    "for label in tqdm(range(num_workers)):\n",
    "    stacked_sampler = stacked_dset(train_dset, skewed_weights(10, [label], skew_bias), loader_size)\n",
    "    stacked_data_loaders.append(DataLoader(train_dset, batch_size=batch_size, shuffle=False, sampler=stacked_sampler))"
   ]
  },
  {
   "cell_type": "markdown",
   "metadata": {},
   "source": [
    "We should see the effect of the skew in a histogram of a skewed dataset."
   ]
  },
  {
   "cell_type": "markdown",
   "metadata": {},
   "source": [
    "# Here's the problem\n",
    "\n",
    "The stacked_dataloader.target attributes, which should in principle just be all the labels in the dataset is for some reason not picking up on the stacking. It's just a copy of the `target` attribute of the original dataset. IMO that's a bug in pytorch. In any case, the consequence is, if you need all the labels in a dataset in one object, you can't just access the target attribute, you need to iterate through the list.\n",
    "\n",
    "I don't _think_ the same bug exists in federated.py. It doesn't access `target` directly. It iterates (i.e. sees the stacked data). Although it might be judicious to check this."
   ]
  },
  {
   "cell_type": "markdown",
   "metadata": {},
   "source": [
    "# This is correct\n",
    "\n",
    "This is the code you had before, just broken out to be clearer for you."
   ]
  },
  {
   "cell_type": "code",
   "execution_count": 9,
   "metadata": {},
   "outputs": [
    {
     "data": {
      "text/plain": [
       "[(1, 408),\n",
       " (7, 237),\n",
       " (0, 193),\n",
       " (6, 190),\n",
       " (2, 190),\n",
       " (4, 186),\n",
       " (9, 174),\n",
       " (8, 166),\n",
       " (3, 166),\n",
       " (5, 138)]"
      ]
     },
     "execution_count": 9,
     "metadata": {},
     "output_type": "execute_result"
    }
   ],
   "source": [
    "_, ybatches = list(zip(*stacked_data_loaders[1]))\n",
    "\n",
    "# ybatches are like tensor([1,2,3,5,0,5], [1,2,3,0,1,8], ...), i.e. lots of batches.\n",
    "# we need to join them together:\n",
    "\n",
    "ys = torch.cat(ybatches)\n",
    "\n",
    "# now we have tensor([1,2,3,5,0,5,1,2,3,0,1,8,...)\n",
    "\n",
    "# and then we need to deal with the fact that Counter doesn't understand tensors\n",
    "# i.e. turn ys into a list of integers, rather than a long tensor\n",
    "\n",
    "ys = [int(y) for y in ys]\n",
    "\n",
    "Counter(ys).most_common()"
   ]
  },
  {
   "cell_type": "markdown",
   "metadata": {},
   "source": [
    "# This is not"
   ]
  },
  {
   "cell_type": "code",
   "execution_count": 10,
   "metadata": {},
   "outputs": [
    {
     "data": {
      "text/plain": [
       "[(1, 6742),\n",
       " (7, 6265),\n",
       " (3, 6131),\n",
       " (2, 5958),\n",
       " (9, 5949),\n",
       " (0, 5923),\n",
       " (6, 5918),\n",
       " (8, 5851),\n",
       " (4, 5842),\n",
       " (5, 5421)]"
      ]
     },
     "execution_count": 10,
     "metadata": {},
     "output_type": "execute_result"
    }
   ],
   "source": [
    "Counter(int(y) for y in stacked_data_loaders[1].dataset.targets).most_common()"
   ]
  },
  {
   "cell_type": "markdown",
   "metadata": {},
   "source": [
    "# So to make the plot\n",
    "\n",
    "We made `ys` a couple of cells ago"
   ]
  },
  {
   "cell_type": "code",
   "execution_count": 11,
   "metadata": {},
   "outputs": [
    {
     "data": {
      "image/png": "[encoded data removed]",
      "text/plain": [
       "<Figure size 720x360 with 1 Axes>"
      ]
     },
     "metadata": {
      "needs_background": "light"
     },
     "output_type": "display_data"
    }
   ],
   "source": [
    "%matplotlib inline\n",
    "import matplotlib.pyplot as plt\n",
    "\n",
    "fig, ax = plt.subplots(figsize=(10, 5))\n",
    "ax.set_title('Skew examples')\n",
    "ax.xaxis.set_major_locator(plt.MultipleLocator(1))\n",
    "ax.hist(ys, bins=range(11), histtype='bar', align='left', rwidth=0.8);"
   ]
  },
  {
   "cell_type": "code",
   "execution_count": 12,
   "metadata": {},
   "outputs": [],
   "source": [
    "import federated\n",
    "\n",
    "learning_rate = 5e-3\n",
    "num_epochs = 1\n",
    "num_rounds = 5\n",
    "\n",
    "skewed_train_dsets = stacked_data_loaders\n",
    "\n",
    "manager = federated.FederatedManager(\n",
    "    skewed_train_dsets,\n",
    "    MLPNet,\n",
    "    nn.CrossEntropyLoss(),\n",
    "    learning_rate,\n",
    "    test_dset,\n",
    "    num_epochs\n",
    ")"
   ]
  },
  {
   "cell_type": "code",
   "execution_count": 13,
   "metadata": {},
   "outputs": [
    {
     "name": "stderr",
     "output_type": "stream",
     "text": [
      "\r",
      "  0%|          | 0/5 [00:00<?, ?it/s]"
     ]
    },
    {
     "name": "stdout",
     "output_type": "stream",
     "text": [
      "Training 5 round(s) with 2 worker(s) doing 1 epoch(s) each\n",
      "\n",
      "Beginning round 1\n",
      "\tWorker: 5672 \tepoch: 1 \tbatch: 0 \tlocal loss: 2.2960\n",
      "\tWorker: 5672 \tepoch: 1 \tbatch: 8 \tlocal loss: 2.3020\n",
      "\tWorker: 5672 \tepoch: 1 \tbatch: 16 \tlocal loss: 2.3067\n",
      "\tWorker: 5672 \tepoch: 1 \tbatch: 24 \tlocal loss: 2.2773\n",
      "\tWorker: 5672 \tepoch: 1 \tbatch: 32 \tlocal loss: 2.2735 \n",
      "\n",
      "\tWorker: 0264 \tepoch: 1 \tbatch: 0 \tlocal loss: 2.3023\n",
      "\tWorker: 0264 \tepoch: 1 \tbatch: 8 \tlocal loss: 2.2817\n",
      "\tWorker: 0264 \tepoch: 1 \tbatch: 16 \tlocal loss: 2.2605\n",
      "\tWorker: 0264 \tepoch: 1 \tbatch: 24 \tlocal loss: 2.2689\n",
      "\tWorker: 0264 \tepoch: 1 \tbatch: 32 \tlocal loss: 2.2816 \n",
      "\n"
     ]
    },
    {
     "name": "stderr",
     "output_type": "stream",
     "text": [
      "\r",
      " 20%|██        | 1/5 [00:11<00:47, 11.99s/it]"
     ]
    },
    {
     "name": "stdout",
     "output_type": "stream",
     "text": [
      "Finished round 1 with global loss: 2.28873 \n",
      "\n",
      "Beginning round 2\n",
      "\tWorker: 5672 \tepoch: 1 \tbatch: 0 \tlocal loss: 2.2894\n",
      "\tWorker: 5672 \tepoch: 1 \tbatch: 8 \tlocal loss: 2.2677\n",
      "\tWorker: 5672 \tepoch: 1 \tbatch: 16 \tlocal loss: 2.2764\n",
      "\tWorker: 5672 \tepoch: 1 \tbatch: 24 \tlocal loss: 2.2452\n",
      "\tWorker: 5672 \tepoch: 1 \tbatch: 32 \tlocal loss: 2.2593 \n",
      "\n",
      "\tWorker: 0264 \tepoch: 1 \tbatch: 0 \tlocal loss: 2.2731\n",
      "\tWorker: 0264 \tepoch: 1 \tbatch: 8 \tlocal loss: 2.2660\n",
      "\tWorker: 0264 \tepoch: 1 \tbatch: 16 \tlocal loss: 2.2435\n",
      "\tWorker: 0264 \tepoch: 1 \tbatch: 24 \tlocal loss: 2.2462\n",
      "\tWorker: 0264 \tepoch: 1 \tbatch: 32 \tlocal loss: 2.2290 \n",
      "\n"
     ]
    },
    {
     "name": "stderr",
     "output_type": "stream",
     "text": [
      "\r",
      " 40%|████      | 2/5 [00:24<00:36, 12.00s/it]"
     ]
    },
    {
     "name": "stdout",
     "output_type": "stream",
     "text": [
      "Finished round 2 with global loss: 2.27714 \n",
      "\n",
      "Beginning round 3\n",
      "\tWorker: 5672 \tepoch: 1 \tbatch: 0 \tlocal loss: 2.2663\n",
      "\tWorker: 5672 \tepoch: 1 \tbatch: 8 \tlocal loss: 2.2623\n",
      "\tWorker: 5672 \tepoch: 1 \tbatch: 16 \tlocal loss: 2.2526\n",
      "\tWorker: 5672 \tepoch: 1 \tbatch: 24 \tlocal loss: 2.2522\n",
      "\tWorker: 5672 \tepoch: 1 \tbatch: 32 \tlocal loss: 2.2475 \n",
      "\n",
      "\tWorker: 0264 \tepoch: 1 \tbatch: 0 \tlocal loss: 2.2489\n",
      "\tWorker: 0264 \tepoch: 1 \tbatch: 8 \tlocal loss: 2.2455\n",
      "\tWorker: 0264 \tepoch: 1 \tbatch: 16 \tlocal loss: 2.2416\n",
      "\tWorker: 0264 \tepoch: 1 \tbatch: 24 \tlocal loss: 2.2045\n",
      "\tWorker: 0264 \tepoch: 1 \tbatch: 32 \tlocal loss: 2.2224 \n",
      "\n"
     ]
    },
    {
     "name": "stderr",
     "output_type": "stream",
     "text": [
      "\r",
      " 60%|██████    | 3/5 [00:37<00:24, 12.37s/it]"
     ]
    },
    {
     "name": "stdout",
     "output_type": "stream",
     "text": [
      "Finished round 3 with global loss: 2.26558 \n",
      "\n",
      "Beginning round 4\n",
      "\tWorker: 5672 \tepoch: 1 \tbatch: 0 \tlocal loss: 2.2689\n",
      "\tWorker: 5672 \tepoch: 1 \tbatch: 8 \tlocal loss: 2.2480\n",
      "\tWorker: 5672 \tepoch: 1 \tbatch: 16 \tlocal loss: 2.2630\n",
      "\tWorker: 5672 \tepoch: 1 \tbatch: 24 \tlocal loss: 2.2344\n",
      "\tWorker: 5672 \tepoch: 1 \tbatch: 32 \tlocal loss: 2.2647 \n",
      "\n",
      "\tWorker: 0264 \tepoch: 1 \tbatch: 0 \tlocal loss: 2.2189\n",
      "\tWorker: 0264 \tepoch: 1 \tbatch: 8 \tlocal loss: 2.2263\n",
      "\tWorker: 0264 \tepoch: 1 \tbatch: 16 \tlocal loss: 2.2405\n",
      "\tWorker: 0264 \tepoch: 1 \tbatch: 24 \tlocal loss: 2.2063\n",
      "\tWorker: 0264 \tepoch: 1 \tbatch: 32 \tlocal loss: 2.2005 \n",
      "\n"
     ]
    },
    {
     "name": "stderr",
     "output_type": "stream",
     "text": [
      "\r",
      " 80%|████████  | 4/5 [00:50<00:12, 12.64s/it]"
     ]
    },
    {
     "name": "stdout",
     "output_type": "stream",
     "text": [
      "Finished round 4 with global loss: 2.25385 \n",
      "\n",
      "Beginning round 5\n",
      "\tWorker: 5672 \tepoch: 1 \tbatch: 0 \tlocal loss: 2.2550\n",
      "\tWorker: 5672 \tepoch: 1 \tbatch: 8 \tlocal loss: 2.2205\n",
      "\tWorker: 5672 \tepoch: 1 \tbatch: 16 \tlocal loss: 2.2358\n",
      "\tWorker: 5672 \tepoch: 1 \tbatch: 24 \tlocal loss: 2.2217\n",
      "\tWorker: 5672 \tepoch: 1 \tbatch: 32 \tlocal loss: 2.2614 \n",
      "\n",
      "\tWorker: 0264 \tepoch: 1 \tbatch: 0 \tlocal loss: 2.2038\n",
      "\tWorker: 0264 \tepoch: 1 \tbatch: 8 \tlocal loss: 2.2050\n",
      "\tWorker: 0264 \tepoch: 1 \tbatch: 16 \tlocal loss: 2.2007\n",
      "\tWorker: 0264 \tepoch: 1 \tbatch: 24 \tlocal loss: 2.1793\n",
      "\tWorker: 0264 \tepoch: 1 \tbatch: 32 \tlocal loss: 2.0983 \n",
      "\n"
     ]
    },
    {
     "name": "stderr",
     "output_type": "stream",
     "text": [
      "\r",
      "100%|██████████| 5/5 [01:02<00:00, 12.57s/it]"
     ]
    },
    {
     "name": "stdout",
     "output_type": "stream",
     "text": [
      "Finished round 5 with global loss: 2.24125 \n",
      "\n"
     ]
    },
    {
     "name": "stderr",
     "output_type": "stream",
     "text": [
      "\n"
     ]
    }
   ],
   "source": [
    "print(\"Training\", num_rounds, \"round(s) with\", manager.n_workers, \"worker(s) doing\", num_epochs, \"epoch(s) each\\n\" )\n",
    "\n",
    "for i in tqdm(range(num_rounds)):\n",
    "    print(\"Beginning round\", i+1)\n",
    "    manager.round()\n",
    "    print(\"Finished round\", i+1, \"with global loss: %.5f\" % manager.manager_loss_history[-1], \"\\n\")"
   ]
  },
  {
   "cell_type": "code",
   "execution_count": 14,
   "metadata": {},
   "outputs": [
    {
     "data": {
      "image/png": "[encoded data removed]",
      "text/plain": [
       "<Figure size 432x288 with 1 Axes>"
      ]
     },
     "metadata": {
      "needs_background": "light"
     },
     "output_type": "display_data"
    }
   ],
   "source": [
    "%matplotlib inline\n",
    "import matplotlib.pyplot as plt\n",
    "\n",
    "fig, ax = plt.subplots()\n",
    "# loss of global model on test set gets recorded twice per round\n",
    "# [1::2] skips the record that takes place before that round's training has happened\n",
    "ax.plot(manager.manager_loss_history[1::2], label=\"Global Loss\")\n",
    "ax.set_xlabel(\"Round\");\n",
    "ax.legend();"
   ]
  },
  {
   "cell_type": "code",
   "execution_count": 15,
   "metadata": {},
   "outputs": [
    {
     "data": {
      "image/png": "[encoded data removed]",
      "text/plain": [
       "<Figure size 432x288 with 1 Axes>"
      ]
     },
     "metadata": {
      "needs_background": "light"
     },
     "output_type": "display_data"
    }
   ],
   "source": [
    "fig, ax = plt.subplots()\n",
    "\n",
    "for i in range(len(manager.worker_loss_histories)):\n",
    "    lbl = \"Worker \" + str(i)\n",
    "    ax.plot(manager.worker_loss_histories[i], label=lbl)\n",
    "    ax.legend();"
   ]
  },
  {
   "cell_type": "markdown",
   "metadata": {},
   "source": [
    "Outline:\n",
    "- Set up a model and data\n",
    "- train the model N epochs without federation note baseline performance (and size of the data that would have to have been transferedd?) \n",
    "    - is this model trained on the full dataset? Or do we sample randomly across it to have the same number of examples?\n",
    "- Federate without skew or mild skew, compare performance with baseline (and size of model compared to data)\n",
    "- Federate with only a few numbers skewed (like, lacking only 7s or something) \n",
    "- Federate with heavy skew\n",
    "- Federate with complete skew\n",
    "\n",
    "Ideas:\n",
    "- plot performance on a given numeral for the main model next to that of a worker skewed against that numeral. Let both run without federation or run a few epochs before federation. Show this as a baseline\n",
    "- histogram of numerals? More for curiosity, but shows spread of data that we might want to reflect in the baseline training.\n",
    "- why use ten workers? Why not fewer?"
   ]
  }
 ],
 "metadata": {
  "kernelspec": {
   "display_name": "Python 3",
   "language": "python",
   "name": "python3"
  },
  "language_info": {
   "codemirror_mode": {
    "name": "ipython",
    "version": 3
   },
   "file_extension": ".py",
   "mimetype": "text/x-python",
   "name": "python",
   "nbconvert_exporter": "python",
   "pygments_lexer": "ipython3",
   "version": "3.6.3"
  }
 },
 "nbformat": 4,
 "nbformat_minor": 2
}
