{
 "cells": [
  {
   "cell_type": "markdown",
   "metadata": {},
   "source": [
    "# Federated Learning Test\n",
    "\n",
    "This notebook is a test of federated learning using the MNIST dataset. It distributes partial subsets of the MNIST data to each worker and tests the results of federation of the workers. It also skews the subsets to investigate the value of federation in cases where workers have substantially different samples."
   ]
  },
  {
   "cell_type": "markdown",
   "metadata": {},
   "source": [
    "## The Baseline\n",
    "\n",
    "First, we load up the common elements to be used in the traditional and federated approaches. We start with the model."
   ]
  },
  {
   "cell_type": "code",
   "execution_count": 1,
   "metadata": {},
   "outputs": [],
   "source": [
    "# Define the model\n",
    "\n",
    "import torch.nn as nn\n",
    "\n",
    "class MLPNet(nn.Module):\n",
    "    def __init__(self):\n",
    "        super(MLPNet, self).__init__()\n",
    "        self.fc1 = nn.Linear(28*28, 500)\n",
    "        self.fc2 = nn.Linear(500, 256)\n",
    "        self.fc3 = nn.Linear(256, 10)\n",
    "    def forward(self, x):\n",
    "        x = x.view(-1, 28*28)\n",
    "        x = nn.functional.relu(self.fc1(x))\n",
    "        x = nn.functional.relu(self.fc2(x))\n",
    "        x = self.fc3(x)\n",
    "        return x\n",
    "    \n",
    "    def name(self):\n",
    "        return \"MLP\"\n",
    "\n",
    "# # Optional model for fun\n",
    "\n",
    "# import torch.nn.functional as F\n",
    "\n",
    "# class LeNet(nn.Module):\n",
    "#     def __init__(self):\n",
    "#         super(LeNet, self).__init__()\n",
    "#         self.conv1 = nn.Conv2d(1, 10, kernel_size=5)\n",
    "#         self.conv2 = nn.Conv2d(10, 20, kernel_size=5)\n",
    "#         self.conv2_drop = nn.Dropout2d()\n",
    "#         self.fc1 = nn.Linear(320, 50)\n",
    "#         self.fc2 = nn.Linear(50, 10)\n",
    "\n",
    "#     def forward(self, x):\n",
    "#         x = F.relu(F.max_pool2d(self.conv1(x), 2))\n",
    "#         x = F.relu(F.max_pool2d(self.conv2_drop(self.conv2(x)), 2))\n",
    "#         x = x.view(-1, 320)\n",
    "#         x = F.relu(self.fc1(x))\n",
    "#         x = F.dropout(x, training=self.training)\n",
    "#         x = self.fc2(x)\n",
    "#         return F.log_softmax(x, dim=0) # value 0 was chosen arbitrarily to quiet a warning. Penny'll start a fire.\n",
    "\n",
    "#     def name(self):\n",
    "#         return 'LeNet'"
   ]
  },
  {
   "cell_type": "code",
   "execution_count": 2,
   "metadata": {},
   "outputs": [],
   "source": [
    "# load the data\n",
    "\n",
    "import torch\n",
    "import torchvision.datasets as dsets\n",
    "import torchvision.transforms as transforms\n",
    "\n",
    "# create standard datasets using all of the MNIST data\n",
    "\n",
    "data_path = './MNIST-data/raw'\n",
    "trans = transforms.Compose([transforms.ToTensor(), transforms.Normalize((0.5,), (1.0,))])\n",
    "\n",
    "train_dset = dsets.MNIST(root=data_path, download=True, train=True, transform=trans)\n",
    "test_dset = dsets.MNIST(root=data_path, download=True, train=False, transform=trans)"
   ]
  },
  {
   "cell_type": "markdown",
   "metadata": {},
   "source": [
    "### Stacking a Deck\n",
    "\n",
    "We need a way to \"stack the deck\" of examples that each worker sees. This method creates a dataset that is randomly sampled from a given dataset with the random sampling biased according to a dictionary of weights for each label."
   ]
  },
  {
   "cell_type": "code",
   "execution_count": 3,
   "metadata": {},
   "outputs": [],
   "source": [
    "from torch.utils.data import WeightedRandomSampler\n",
    "\n",
    "def stacked_dset(dset, label_weights, N):\n",
    "    \"\"\"\n",
    "    dset: dataset\n",
    "    label_weights = {dog: 0.5, cat: 0.3, ...}\n",
    "    N: size of stacked dset\n",
    "    return: stacked WeightedRandomSampler\n",
    "    \"\"\"\n",
    "    weights = []\n",
    "    for data, label in dset:\n",
    "        weights.append(label_weights[label])\n",
    "    return WeightedRandomSampler(weights, N, replacement=False)"
   ]
  },
  {
   "cell_type": "markdown",
   "metadata": {},
   "source": [
    "And this is where we get the dictionary of weights. For simplicity's sake, we just take a list of labels to be sampled \"normally\" and the rest are biased against. So, preserving 3s and skewing everything else by a factor of 0.9 shoud get a set of weights that results in a dataset that is slightly heavy on 3s compared to everything else. In an an extreme example, preserving only 3s, with a skew of 0, will produce weights that will yield a dataset of only 3s."
   ]
  },
  {
   "cell_type": "code",
   "execution_count": 4,
   "metadata": {},
   "outputs": [],
   "source": [
    "def skewed_weights(num_labels, labels_to_preserve, skew_bias):\n",
    "    \"\"\"\n",
    "        num_labels: number of labels to return (use 10 for MNIST)\n",
    "        labels_to_preserve: list of labels to preserve wih no skew \n",
    "        skew_bias: a float, 0 < bias < 1, to which non-selected labels will be biased down\n",
    "        return: dictionary of each label and its bias\n",
    "    \"\"\"\n",
    "    weights = {}\n",
    "    for label in range(num_labels):\n",
    "        if label in labels_to_preserve:\n",
    "            weights[label] = 1\n",
    "        else:\n",
    "            weights[label] = skew_bias\n",
    "    \n",
    "    return weights"
   ]
  },
  {
   "cell_type": "code",
   "execution_count": 5,
   "metadata": {},
   "outputs": [],
   "source": [
    "from torch.utils.data import DataLoader\n",
    "\n",
    "batch_size = 64\n",
    "\n",
    "# # create standard dataloaders using all of the MNIST data - this is for baseline purposes\n",
    "train_dloader = DataLoader(train_dset, batch_size=batch_size, shuffle=True)\n",
    "test_dloader = DataLoader(test_dset, batch_size=batch_size, shuffle=False)"
   ]
  },
  {
   "cell_type": "code",
   "execution_count": 6,
   "metadata": {},
   "outputs": [
    {
     "name": "stdout",
     "output_type": "stream",
     "text": [
      "Test:  [(1, 1135), (2, 1032), (7, 1028), (3, 1010), (9, 1009), (4, 982), (0, 980), (8, 974), (6, 958), (5, 892)]\n",
      "Train: [(1, 6742), (7, 6265), (3, 6131), (2, 5958), (9, 5949), (0, 5923), (6, 5918), (8, 5851), (4, 5842), (5, 5421)]\n"
     ]
    }
   ],
   "source": [
    "from collections import Counter\n",
    "\n",
    "_, ys = list(zip(*test_dloader))\n",
    "print(\"Test: \", Counter(int(y) for y in torch.cat(ys)).most_common())\n",
    "\n",
    "_, ys = list(zip(*train_dloader))\n",
    "print(\"Train:\", Counter(int(y) for y in torch.cat(ys)).most_common())"
   ]
  },
  {
   "cell_type": "markdown",
   "metadata": {},
   "source": [
    "These plots show quickly that the sets are distributed fairly similarly."
   ]
  },
  {
   "cell_type": "code",
   "execution_count": 7,
   "metadata": {},
   "outputs": [
    {
     "data": {
      "image/png": "[encoded data removed]",
      "text/plain": [
       "<Figure size 720x360 with 1 Axes>"
      ]
     },
     "metadata": {
      "needs_background": "light"
     },
     "output_type": "display_data"
    },
    {
     "data": {
      "image/png": "[encoded data removed]",
      "text/plain": [
       "<Figure size 720x360 with 1 Axes>"
      ]
     },
     "metadata": {
      "needs_background": "light"
     },
     "output_type": "display_data"
    }
   ],
   "source": [
    "%matplotlib inline\n",
    "import matplotlib.pyplot as plt\n",
    "\n",
    "fig, ax = plt.subplots(figsize=(10, 5))\n",
    "fig.suptitle('Testing examples')\n",
    "ax.xaxis.set_major_locator(plt.MultipleLocator(1))\n",
    "H = ax.hist(test_dloader.dataset.targets, bins=range(11), histtype='bar', align='left', rwidth=0.8)\n",
    "\n",
    "fig, ax = plt.subplots(figsize=(10, 5))\n",
    "fig.suptitle('Training examples')\n",
    "ax.xaxis.set_major_locator(plt.MultipleLocator(1))\n",
    "H = ax.hist(train_dloader.dataset.targets, bins=range(11), histtype='bar', align='left', rwidth=0.8)"
   ]
  },
  {
   "cell_type": "markdown",
   "metadata": {},
   "source": [
    "Here we do the sampling to create our skewed datasets."
   ]
  },
  {
   "cell_type": "code",
   "execution_count": 8,
   "metadata": {
    "scrolled": true
   },
   "outputs": [
    {
     "name": "stderr",
     "output_type": "stream",
     "text": [
      "100%|██████████| 10/10 [01:20<00:00,  7.86s/it]\n"
     ]
    }
   ],
   "source": [
    "from tqdm import tqdm\n",
    "\n",
    "# create stacked loaders for the workers\n",
    "\n",
    "skew_bias = 0.5\n",
    "loader_size = 8192\n",
    "num_workers = 10\n",
    "\n",
    "stacked_data_loaders = []\n",
    "\n",
    "for label in tqdm(range(num_workers)):\n",
    "    stacked_sampler = stacked_dset(train_dset, skewed_weights(10, [label], skew_bias), loader_size)\n",
    "    stacked_data_loaders.append(DataLoader(train_dset, batch_size=batch_size, shuffle=False, sampler=stacked_sampler))"
   ]
  },
  {
   "cell_type": "markdown",
   "metadata": {},
   "source": [
    "We should see the effect of the skew in a histogram of a skewed dataset."
   ]
  },
  {
   "cell_type": "code",
   "execution_count": 9,
   "metadata": {},
   "outputs": [
    {
     "name": "stdout",
     "output_type": "stream",
     "text": [
      "[(1, 1526), (3, 787), (9, 764), (2, 753), (0, 748), (8, 747), (7, 745), (6, 735), (4, 710), (5, 677)]\n"
     ]
    }
   ],
   "source": [
    "_, ybatches = list(zip(*stacked_data_loaders[1]))\n",
    "ys = torch.cat(ybatches)\n",
    "ys = [int(y) for y in ys]\n",
    "print(Counter(ys).most_common())"
   ]
  },
  {
   "cell_type": "code",
   "execution_count": 10,
   "metadata": {},
   "outputs": [
    {
     "data": {
      "image/png": "[encoded data removed]",
      "text/plain": [
       "<Figure size 720x360 with 1 Axes>"
      ]
     },
     "metadata": {
      "needs_background": "light"
     },
     "output_type": "display_data"
    }
   ],
   "source": [
    "fig, ax = plt.subplots(figsize=(10, 5))\n",
    "fig.suptitle('Skew examples')\n",
    "ax.xaxis.set_major_locator(plt.MultipleLocator(1))\n",
    "H = ax.hist(ys, bins=range(11), histtype='bar', align='left', rwidth=0.8)"
   ]
  },
  {
   "cell_type": "code",
   "execution_count": 11,
   "metadata": {},
   "outputs": [],
   "source": [
    "import federated\n",
    "\n",
    "learning_rate = 5e-3\n",
    "num_epochs = 1\n",
    "num_rounds = 8\n",
    "\n",
    "skewed_train_dsets = stacked_data_loaders\n",
    "\n",
    "manager = federated.FederatedManager(\n",
    "    skewed_train_dsets,\n",
    "    MLPNet,\n",
    "    nn.CrossEntropyLoss(),\n",
    "    learning_rate,\n",
    "    test_dset,\n",
    "    num_epochs\n",
    ")"
   ]
  },
  {
   "cell_type": "code",
   "execution_count": 12,
   "metadata": {},
   "outputs": [
    {
     "name": "stderr",
     "output_type": "stream",
     "text": [
      "\r",
      "  0%|          | 0/8 [00:00<?, ?it/s]"
     ]
    },
    {
     "name": "stdout",
     "output_type": "stream",
     "text": [
      "Training 8 round(s) with 10 worker(s) doing 1 epoch(s) each\n",
      "\n",
      "Beginning round 1\n",
      "\tWorker: 8912 \tepoch: 1 \tbatch: 0 \tlocal loss: 2.3095\n",
      "\tWorker: 8912 \tepoch: 1 \tbatch: 32 \tlocal loss: 2.2841\n",
      "\tWorker: 8912 \tepoch: 1 \tbatch: 64 \tlocal loss: 2.2795\n",
      "\tWorker: 8912 \tepoch: 1 \tbatch: 96 \tlocal loss: 2.2638\n",
      "\tWorker: 8912 \tepoch: 1 \tbatch: 128 \tlocal loss: 2.2410 \n",
      "\n",
      "\tWorker: 1184 \tepoch: 1 \tbatch: 0 \tlocal loss: 2.2935\n",
      "\tWorker: 1184 \tepoch: 1 \tbatch: 32 \tlocal loss: 2.2577\n",
      "\tWorker: 1184 \tepoch: 1 \tbatch: 64 \tlocal loss: 2.2520\n",
      "\tWorker: 1184 \tepoch: 1 \tbatch: 96 \tlocal loss: 2.2185\n",
      "\tWorker: 1184 \tepoch: 1 \tbatch: 128 \tlocal loss: 2.2297 \n",
      "\n",
      "\tWorker: 4712 \tepoch: 1 \tbatch: 0 \tlocal loss: 2.3093\n",
      "\tWorker: 4712 \tepoch: 1 \tbatch: 32 \tlocal loss: 2.2939\n",
      "\tWorker: 4712 \tepoch: 1 \tbatch: 64 \tlocal loss: 2.2749\n",
      "\tWorker: 4712 \tepoch: 1 \tbatch: 96 \tlocal loss: 2.2543\n",
      "\tWorker: 4712 \tepoch: 1 \tbatch: 128 \tlocal loss: 2.2410 \n",
      "\n",
      "\tWorker: 2976 \tepoch: 1 \tbatch: 0 \tlocal loss: 2.3067\n",
      "\tWorker: 2976 \tepoch: 1 \tbatch: 32 \tlocal loss: 2.2710\n",
      "\tWorker: 2976 \tepoch: 1 \tbatch: 64 \tlocal loss: 2.2790\n",
      "\tWorker: 2976 \tepoch: 1 \tbatch: 96 \tlocal loss: 2.2237\n",
      "\tWorker: 2976 \tepoch: 1 \tbatch: 128 \tlocal loss: 2.2246 \n",
      "\n",
      "\tWorker: 2696 \tepoch: 1 \tbatch: 0 \tlocal loss: 2.2990\n",
      "\tWorker: 2696 \tepoch: 1 \tbatch: 32 \tlocal loss: 2.2877\n",
      "\tWorker: 2696 \tepoch: 1 \tbatch: 64 \tlocal loss: 2.2706\n",
      "\tWorker: 2696 \tepoch: 1 \tbatch: 96 \tlocal loss: 2.2538\n",
      "\tWorker: 2696 \tepoch: 1 \tbatch: 128 \tlocal loss: 2.2122 \n",
      "\n",
      "\tWorker: 2640 \tepoch: 1 \tbatch: 0 \tlocal loss: 2.3092\n",
      "\tWorker: 2640 \tepoch: 1 \tbatch: 32 \tlocal loss: 2.2983\n",
      "\tWorker: 2640 \tepoch: 1 \tbatch: 64 \tlocal loss: 2.2916\n",
      "\tWorker: 2640 \tepoch: 1 \tbatch: 96 \tlocal loss: 2.2730\n",
      "\tWorker: 2640 \tepoch: 1 \tbatch: 128 \tlocal loss: 2.2554 \n",
      "\n",
      "\tWorker: 3928 \tepoch: 1 \tbatch: 0 \tlocal loss: 2.3006\n",
      "\tWorker: 3928 \tepoch: 1 \tbatch: 32 \tlocal loss: 2.2860\n",
      "\tWorker: 3928 \tepoch: 1 \tbatch: 64 \tlocal loss: 2.2678\n",
      "\tWorker: 3928 \tepoch: 1 \tbatch: 96 \tlocal loss: 2.2707\n",
      "\tWorker: 3928 \tepoch: 1 \tbatch: 128 \tlocal loss: 2.2310 \n",
      "\n",
      "\tWorker: 3312 \tepoch: 1 \tbatch: 0 \tlocal loss: 2.3012\n",
      "\tWorker: 3312 \tepoch: 1 \tbatch: 32 \tlocal loss: 2.2847\n",
      "\tWorker: 3312 \tepoch: 1 \tbatch: 64 \tlocal loss: 2.2475\n",
      "\tWorker: 3312 \tepoch: 1 \tbatch: 96 \tlocal loss: 2.2508\n",
      "\tWorker: 3312 \tepoch: 1 \tbatch: 128 \tlocal loss: 2.2176 \n",
      "\n",
      "\tWorker: 4600 \tepoch: 1 \tbatch: 0 \tlocal loss: 2.3037\n",
      "\tWorker: 4600 \tepoch: 1 \tbatch: 32 \tlocal loss: 2.2820\n",
      "\tWorker: 4600 \tepoch: 1 \tbatch: 64 \tlocal loss: 2.2781\n",
      "\tWorker: 4600 \tepoch: 1 \tbatch: 96 \tlocal loss: 2.2562\n",
      "\tWorker: 4600 \tepoch: 1 \tbatch: 128 \tlocal loss: 2.2643 \n",
      "\n",
      "\tWorker: 2192 \tepoch: 1 \tbatch: 0 \tlocal loss: 2.3058\n",
      "\tWorker: 2192 \tepoch: 1 \tbatch: 32 \tlocal loss: 2.2902\n",
      "\tWorker: 2192 \tepoch: 1 \tbatch: 64 \tlocal loss: 2.2748\n",
      "\tWorker: 2192 \tepoch: 1 \tbatch: 96 \tlocal loss: 2.2804\n",
      "\tWorker: 2192 \tepoch: 1 \tbatch: 128 \tlocal loss: 2.2497 \n",
      "\n"
     ]
    },
    {
     "name": "stderr",
     "output_type": "stream",
     "text": [
      "\r",
      " 12%|█▎        | 1/8 [02:24<16:54, 144.90s/it]"
     ]
    },
    {
     "name": "stdout",
     "output_type": "stream",
     "text": [
      "Finished round 1 with global loss: 2.25973 \n",
      "\n",
      "Beginning round 2\n",
      "\tWorker: 8912 \tepoch: 1 \tbatch: 0 \tlocal loss: 2.2671\n",
      "\tWorker: 8912 \tepoch: 1 \tbatch: 32 \tlocal loss: 2.2441\n",
      "\tWorker: 8912 \tepoch: 1 \tbatch: 64 \tlocal loss: 2.2186\n",
      "\tWorker: 8912 \tepoch: 1 \tbatch: 96 \tlocal loss: 2.1762\n",
      "\tWorker: 8912 \tepoch: 1 \tbatch: 128 \tlocal loss: 2.1650 \n",
      "\n",
      "\tWorker: 1184 \tepoch: 1 \tbatch: 0 \tlocal loss: 2.2537\n",
      "\tWorker: 1184 \tepoch: 1 \tbatch: 32 \tlocal loss: 2.2374\n",
      "\tWorker: 1184 \tepoch: 1 \tbatch: 64 \tlocal loss: 2.1848\n",
      "\tWorker: 1184 \tepoch: 1 \tbatch: 96 \tlocal loss: 2.1698\n",
      "\tWorker: 1184 \tepoch: 1 \tbatch: 128 \tlocal loss: 2.0834 \n",
      "\n",
      "\tWorker: 4712 \tepoch: 1 \tbatch: 0 \tlocal loss: 2.2574\n",
      "\tWorker: 4712 \tepoch: 1 \tbatch: 32 \tlocal loss: 2.2470\n",
      "\tWorker: 4712 \tepoch: 1 \tbatch: 64 \tlocal loss: 2.2251\n",
      "\tWorker: 4712 \tepoch: 1 \tbatch: 96 \tlocal loss: 2.1940\n",
      "\tWorker: 4712 \tepoch: 1 \tbatch: 128 \tlocal loss: 2.1700 \n",
      "\n",
      "\tWorker: 2976 \tepoch: 1 \tbatch: 0 \tlocal loss: 2.2568\n",
      "\tWorker: 2976 \tepoch: 1 \tbatch: 32 \tlocal loss: 2.2456\n",
      "\tWorker: 2976 \tepoch: 1 \tbatch: 64 \tlocal loss: 2.2169\n",
      "\tWorker: 2976 \tepoch: 1 \tbatch: 96 \tlocal loss: 2.1955\n",
      "\tWorker: 2976 \tepoch: 1 \tbatch: 128 \tlocal loss: 2.1895 \n",
      "\n",
      "\tWorker: 2696 \tepoch: 1 \tbatch: 0 \tlocal loss: 2.2518\n",
      "\tWorker: 2696 \tepoch: 1 \tbatch: 32 \tlocal loss: 2.2441\n",
      "\tWorker: 2696 \tepoch: 1 \tbatch: 64 \tlocal loss: 2.2533\n",
      "\tWorker: 2696 \tepoch: 1 \tbatch: 96 \tlocal loss: 2.1979\n",
      "\tWorker: 2696 \tepoch: 1 \tbatch: 128 \tlocal loss: 2.2224 \n",
      "\n",
      "\tWorker: 2640 \tepoch: 1 \tbatch: 0 \tlocal loss: 2.2800\n",
      "\tWorker: 2640 \tepoch: 1 \tbatch: 32 \tlocal loss: 2.2583\n",
      "\tWorker: 2640 \tepoch: 1 \tbatch: 64 \tlocal loss: 2.2319\n",
      "\tWorker: 2640 \tepoch: 1 \tbatch: 96 \tlocal loss: 2.2322\n",
      "\tWorker: 2640 \tepoch: 1 \tbatch: 128 \tlocal loss: 2.2045 \n",
      "\n",
      "\tWorker: 3928 \tepoch: 1 \tbatch: 0 \tlocal loss: 2.2617\n",
      "\tWorker: 3928 \tepoch: 1 \tbatch: 32 \tlocal loss: 2.2467\n",
      "\tWorker: 3928 \tepoch: 1 \tbatch: 64 \tlocal loss: 2.2270\n",
      "\tWorker: 3928 \tepoch: 1 \tbatch: 96 \tlocal loss: 2.2142\n",
      "\tWorker: 3928 \tepoch: 1 \tbatch: 128 \tlocal loss: 2.1682 \n",
      "\n",
      "\tWorker: 3312 \tepoch: 1 \tbatch: 0 \tlocal loss: 2.2409\n",
      "\tWorker: 3312 \tepoch: 1 \tbatch: 32 \tlocal loss: 2.2222\n",
      "\tWorker: 3312 \tepoch: 1 \tbatch: 64 \tlocal loss: 2.2501\n",
      "\tWorker: 3312 \tepoch: 1 \tbatch: 96 \tlocal loss: 2.2115\n",
      "\tWorker: 3312 \tepoch: 1 \tbatch: 128 \tlocal loss: 2.1887 \n",
      "\n",
      "\tWorker: 4600 \tepoch: 1 \tbatch: 0 \tlocal loss: 2.2596\n",
      "\tWorker: 4600 \tepoch: 1 \tbatch: 32 \tlocal loss: 2.2497\n",
      "\tWorker: 4600 \tepoch: 1 \tbatch: 64 \tlocal loss: 2.2333\n",
      "\tWorker: 4600 \tepoch: 1 \tbatch: 96 \tlocal loss: 2.2318\n",
      "\tWorker: 4600 \tepoch: 1 \tbatch: 128 \tlocal loss: 2.2288 \n",
      "\n",
      "\tWorker: 2192 \tepoch: 1 \tbatch: 0 \tlocal loss: 2.2628\n",
      "\tWorker: 2192 \tepoch: 1 \tbatch: 32 \tlocal loss: 2.2264\n",
      "\tWorker: 2192 \tepoch: 1 \tbatch: 64 \tlocal loss: 2.2523\n",
      "\tWorker: 2192 \tepoch: 1 \tbatch: 96 \tlocal loss: 2.2034\n",
      "\tWorker: 2192 \tepoch: 1 \tbatch: 128 \tlocal loss: 2.2157 \n",
      "\n"
     ]
    },
    {
     "name": "stderr",
     "output_type": "stream",
     "text": [
      "\r",
      " 25%|██▌       | 2/8 [04:55<14:40, 146.71s/it]"
     ]
    },
    {
     "name": "stdout",
     "output_type": "stream",
     "text": [
      "Finished round 2 with global loss: 2.20645 \n",
      "\n",
      "Beginning round 3\n",
      "\tWorker: 8912 \tepoch: 1 \tbatch: 0 \tlocal loss: 2.2079\n",
      "\tWorker: 8912 \tepoch: 1 \tbatch: 32 \tlocal loss: 2.1657\n",
      "\tWorker: 8912 \tepoch: 1 \tbatch: 64 \tlocal loss: 2.1696\n",
      "\tWorker: 8912 \tepoch: 1 \tbatch: 96 \tlocal loss: 2.1512\n",
      "\tWorker: 8912 \tepoch: 1 \tbatch: 128 \tlocal loss: 2.0815 \n",
      "\n",
      "\tWorker: 1184 \tepoch: 1 \tbatch: 0 \tlocal loss: 2.1809\n",
      "\tWorker: 1184 \tepoch: 1 \tbatch: 32 \tlocal loss: 2.1138\n",
      "\tWorker: 1184 \tepoch: 1 \tbatch: 64 \tlocal loss: 2.1822\n",
      "\tWorker: 1184 \tepoch: 1 \tbatch: 96 \tlocal loss: 2.0858\n",
      "\tWorker: 1184 \tepoch: 1 \tbatch: 128 \tlocal loss: 2.0707 \n",
      "\n",
      "\tWorker: 4712 \tepoch: 1 \tbatch: 0 \tlocal loss: 2.2259\n",
      "\tWorker: 4712 \tepoch: 1 \tbatch: 32 \tlocal loss: 2.2322\n",
      "\tWorker: 4712 \tepoch: 1 \tbatch: 64 \tlocal loss: 2.1747\n",
      "\tWorker: 4712 \tepoch: 1 \tbatch: 96 \tlocal loss: 2.1605\n",
      "\tWorker: 4712 \tepoch: 1 \tbatch: 128 \tlocal loss: 2.1379 \n",
      "\n",
      "\tWorker: 2976 \tepoch: 1 \tbatch: 0 \tlocal loss: 2.1804\n",
      "\tWorker: 2976 \tepoch: 1 \tbatch: 32 \tlocal loss: 2.1414\n",
      "\tWorker: 2976 \tepoch: 1 \tbatch: 64 \tlocal loss: 2.1231\n",
      "\tWorker: 2976 \tepoch: 1 \tbatch: 96 \tlocal loss: 2.1382\n",
      "\tWorker: 2976 \tepoch: 1 \tbatch: 128 \tlocal loss: 2.1888 \n",
      "\n",
      "\tWorker: 2696 \tepoch: 1 \tbatch: 0 \tlocal loss: 2.2279\n",
      "\tWorker: 2696 \tepoch: 1 \tbatch: 32 \tlocal loss: 2.1973\n",
      "\tWorker: 2696 \tepoch: 1 \tbatch: 64 \tlocal loss: 2.1623\n",
      "\tWorker: 2696 \tepoch: 1 \tbatch: 96 \tlocal loss: 2.1550\n",
      "\tWorker: 2696 \tepoch: 1 \tbatch: 128 \tlocal loss: 2.1462 \n",
      "\n",
      "\tWorker: 2640 \tepoch: 1 \tbatch: 0 \tlocal loss: 2.1944\n",
      "\tWorker: 2640 \tepoch: 1 \tbatch: 32 \tlocal loss: 2.2031\n",
      "\tWorker: 2640 \tepoch: 1 \tbatch: 64 \tlocal loss: 2.1823\n",
      "\tWorker: 2640 \tepoch: 1 \tbatch: 96 \tlocal loss: 2.1947\n",
      "\tWorker: 2640 \tepoch: 1 \tbatch: 128 \tlocal loss: 2.1267 \n",
      "\n",
      "\tWorker: 3928 \tepoch: 1 \tbatch: 0 \tlocal loss: 2.2148\n",
      "\tWorker: 3928 \tepoch: 1 \tbatch: 32 \tlocal loss: 2.1707\n",
      "\tWorker: 3928 \tepoch: 1 \tbatch: 64 \tlocal loss: 2.1708\n",
      "\tWorker: 3928 \tepoch: 1 \tbatch: 96 \tlocal loss: 2.1842\n",
      "\tWorker: 3928 \tepoch: 1 \tbatch: 128 \tlocal loss: 2.1192 \n",
      "\n",
      "\tWorker: 3312 \tepoch: 1 \tbatch: 0 \tlocal loss: 2.1997\n",
      "\tWorker: 3312 \tepoch: 1 \tbatch: 32 \tlocal loss: 2.1681\n",
      "\tWorker: 3312 \tepoch: 1 \tbatch: 64 \tlocal loss: 2.1605\n",
      "\tWorker: 3312 \tepoch: 1 \tbatch: 96 \tlocal loss: 2.1429\n",
      "\tWorker: 3312 \tepoch: 1 \tbatch: 128 \tlocal loss: 2.1310 \n",
      "\n",
      "\tWorker: 4600 \tepoch: 1 \tbatch: 0 \tlocal loss: 2.2328\n",
      "\tWorker: 4600 \tepoch: 1 \tbatch: 32 \tlocal loss: 2.2098\n",
      "\tWorker: 4600 \tepoch: 1 \tbatch: 64 \tlocal loss: 2.1714\n",
      "\tWorker: 4600 \tepoch: 1 \tbatch: 96 \tlocal loss: 2.1469\n",
      "\tWorker: 4600 \tepoch: 1 \tbatch: 128 \tlocal loss: 2.1388 \n",
      "\n",
      "\tWorker: 2192 \tepoch: 1 \tbatch: 0 \tlocal loss: 2.2127\n",
      "\tWorker: 2192 \tepoch: 1 \tbatch: 32 \tlocal loss: 2.1581\n",
      "\tWorker: 2192 \tepoch: 1 \tbatch: 64 \tlocal loss: 2.1388\n",
      "\tWorker: 2192 \tepoch: 1 \tbatch: 96 \tlocal loss: 2.1204\n",
      "\tWorker: 2192 \tepoch: 1 \tbatch: 128 \tlocal loss: 2.1492 \n",
      "\n"
     ]
    },
    {
     "name": "stderr",
     "output_type": "stream",
     "text": [
      "\r",
      " 38%|███▊      | 3/8 [07:17<12:06, 145.28s/it]"
     ]
    },
    {
     "name": "stdout",
     "output_type": "stream",
     "text": [
      "Finished round 3 with global loss: 2.13383 \n",
      "\n",
      "Beginning round 4\n",
      "\tWorker: 8912 \tepoch: 1 \tbatch: 0 \tlocal loss: 2.1080\n",
      "\tWorker: 8912 \tepoch: 1 \tbatch: 32 \tlocal loss: 2.1068\n",
      "\tWorker: 8912 \tepoch: 1 \tbatch: 64 \tlocal loss: 2.1099\n",
      "\tWorker: 8912 \tepoch: 1 \tbatch: 96 \tlocal loss: 2.0912\n",
      "\tWorker: 8912 \tepoch: 1 \tbatch: 128 \tlocal loss: 1.9708 \n",
      "\n",
      "\tWorker: 1184 \tepoch: 1 \tbatch: 0 \tlocal loss: 2.0930\n",
      "\tWorker: 1184 \tepoch: 1 \tbatch: 32 \tlocal loss: 2.1157\n",
      "\tWorker: 1184 \tepoch: 1 \tbatch: 64 \tlocal loss: 2.0923\n",
      "\tWorker: 1184 \tepoch: 1 \tbatch: 96 \tlocal loss: 1.9922\n",
      "\tWorker: 1184 \tepoch: 1 \tbatch: 128 \tlocal loss: 2.0232 \n",
      "\n",
      "\tWorker: 4712 \tepoch: 1 \tbatch: 0 \tlocal loss: 2.1279\n",
      "\tWorker: 4712 \tepoch: 1 \tbatch: 32 \tlocal loss: 2.1523\n",
      "\tWorker: 4712 \tepoch: 1 \tbatch: 64 \tlocal loss: 2.0540\n",
      "\tWorker: 4712 \tepoch: 1 \tbatch: 96 \tlocal loss: 2.0583\n",
      "\tWorker: 4712 \tepoch: 1 \tbatch: 128 \tlocal loss: 2.0424 \n",
      "\n",
      "\tWorker: 2976 \tepoch: 1 \tbatch: 0 \tlocal loss: 2.0961\n",
      "\tWorker: 2976 \tepoch: 1 \tbatch: 32 \tlocal loss: 2.0631\n",
      "\tWorker: 2976 \tepoch: 1 \tbatch: 64 \tlocal loss: 2.0413\n",
      "\tWorker: 2976 \tepoch: 1 \tbatch: 96 \tlocal loss: 2.0455\n",
      "\tWorker: 2976 \tepoch: 1 \tbatch: 128 \tlocal loss: 1.9992 \n",
      "\n",
      "\tWorker: 2696 \tepoch: 1 \tbatch: 0 \tlocal loss: 2.1252\n",
      "\tWorker: 2696 \tepoch: 1 \tbatch: 32 \tlocal loss: 2.1031\n",
      "\tWorker: 2696 \tepoch: 1 \tbatch: 64 \tlocal loss: 2.1069\n",
      "\tWorker: 2696 \tepoch: 1 \tbatch: 96 \tlocal loss: 2.0371\n",
      "\tWorker: 2696 \tepoch: 1 \tbatch: 128 \tlocal loss: 2.0515 \n",
      "\n",
      "\tWorker: 2640 \tepoch: 1 \tbatch: 0 \tlocal loss: 2.1666\n",
      "\tWorker: 2640 \tepoch: 1 \tbatch: 32 \tlocal loss: 2.1189\n",
      "\tWorker: 2640 \tepoch: 1 \tbatch: 64 \tlocal loss: 2.0811\n",
      "\tWorker: 2640 \tepoch: 1 \tbatch: 96 \tlocal loss: 2.0834\n",
      "\tWorker: 2640 \tepoch: 1 \tbatch: 128 \tlocal loss: 2.0662 \n",
      "\n",
      "\tWorker: 3928 \tepoch: 1 \tbatch: 0 \tlocal loss: 2.1013\n",
      "\tWorker: 3928 \tepoch: 1 \tbatch: 32 \tlocal loss: 2.0776\n",
      "\tWorker: 3928 \tepoch: 1 \tbatch: 64 \tlocal loss: 2.0513\n",
      "\tWorker: 3928 \tepoch: 1 \tbatch: 96 \tlocal loss: 2.0995\n",
      "\tWorker: 3928 \tepoch: 1 \tbatch: 128 \tlocal loss: 2.0445 \n",
      "\n",
      "\tWorker: 3312 \tepoch: 1 \tbatch: 0 \tlocal loss: 2.1419\n",
      "\tWorker: 3312 \tepoch: 1 \tbatch: 32 \tlocal loss: 2.1101\n",
      "\tWorker: 3312 \tepoch: 1 \tbatch: 64 \tlocal loss: 2.0730\n",
      "\tWorker: 3312 \tepoch: 1 \tbatch: 96 \tlocal loss: 1.9956\n",
      "\tWorker: 3312 \tepoch: 1 \tbatch: 128 \tlocal loss: 2.0028 \n",
      "\n",
      "\tWorker: 4600 \tepoch: 1 \tbatch: 0 \tlocal loss: 2.1325\n",
      "\tWorker: 4600 \tepoch: 1 \tbatch: 32 \tlocal loss: 2.1132\n",
      "\tWorker: 4600 \tepoch: 1 \tbatch: 64 \tlocal loss: 2.0707\n",
      "\tWorker: 4600 \tepoch: 1 \tbatch: 96 \tlocal loss: 2.0692\n",
      "\tWorker: 4600 \tepoch: 1 \tbatch: 128 \tlocal loss: 2.0213 \n",
      "\n",
      "\tWorker: 2192 \tepoch: 1 \tbatch: 0 \tlocal loss: 2.1342\n",
      "\tWorker: 2192 \tepoch: 1 \tbatch: 32 \tlocal loss: 2.0747\n",
      "\tWorker: 2192 \tepoch: 1 \tbatch: 64 \tlocal loss: 2.0681\n",
      "\tWorker: 2192 \tepoch: 1 \tbatch: 96 \tlocal loss: 2.0341\n",
      "\tWorker: 2192 \tepoch: 1 \tbatch: 128 \tlocal loss: 1.9735 \n",
      "\n"
     ]
    },
    {
     "name": "stderr",
     "output_type": "stream",
     "text": [
      "\r",
      " 50%|█████     | 4/8 [09:43<09:42, 145.52s/it]"
     ]
    },
    {
     "name": "stdout",
     "output_type": "stream",
     "text": [
      "Finished round 4 with global loss: 2.02852 \n",
      "\n",
      "Beginning round 5\n",
      "\tWorker: 8912 \tepoch: 1 \tbatch: 0 \tlocal loss: 1.9990\n",
      "\tWorker: 8912 \tepoch: 1 \tbatch: 32 \tlocal loss: 1.9553\n",
      "\tWorker: 8912 \tepoch: 1 \tbatch: 64 \tlocal loss: 1.9635\n",
      "\tWorker: 8912 \tepoch: 1 \tbatch: 96 \tlocal loss: 1.8862\n",
      "\tWorker: 8912 \tepoch: 1 \tbatch: 128 \tlocal loss: 2.0159 \n",
      "\n",
      "\tWorker: 1184 \tepoch: 1 \tbatch: 0 \tlocal loss: 2.0049\n",
      "\tWorker: 1184 \tepoch: 1 \tbatch: 32 \tlocal loss: 1.8966\n",
      "\tWorker: 1184 \tepoch: 1 \tbatch: 64 \tlocal loss: 2.0263\n",
      "\tWorker: 1184 \tepoch: 1 \tbatch: 96 \tlocal loss: 1.8344\n",
      "\tWorker: 1184 \tepoch: 1 \tbatch: 128 \tlocal loss: 1.8388 \n",
      "\n",
      "\tWorker: 4712 \tepoch: 1 \tbatch: 0 \tlocal loss: 2.1037\n",
      "\tWorker: 4712 \tepoch: 1 \tbatch: 32 \tlocal loss: 1.9452\n",
      "\tWorker: 4712 \tepoch: 1 \tbatch: 64 \tlocal loss: 1.9924\n",
      "\tWorker: 4712 \tepoch: 1 \tbatch: 96 \tlocal loss: 1.8774\n",
      "\tWorker: 4712 \tepoch: 1 \tbatch: 128 \tlocal loss: 1.8800 \n",
      "\n",
      "\tWorker: 2976 \tepoch: 1 \tbatch: 0 \tlocal loss: 2.0424\n",
      "\tWorker: 2976 \tepoch: 1 \tbatch: 32 \tlocal loss: 2.0178\n",
      "\tWorker: 2976 \tepoch: 1 \tbatch: 64 \tlocal loss: 1.8755\n",
      "\tWorker: 2976 \tepoch: 1 \tbatch: 96 \tlocal loss: 1.9301\n",
      "\tWorker: 2976 \tepoch: 1 \tbatch: 128 \tlocal loss: 1.8887 \n",
      "\n",
      "\tWorker: 2696 \tepoch: 1 \tbatch: 0 \tlocal loss: 2.0210\n",
      "\tWorker: 2696 \tepoch: 1 \tbatch: 32 \tlocal loss: 1.9925\n",
      "\tWorker: 2696 \tepoch: 1 \tbatch: 64 \tlocal loss: 2.0187\n",
      "\tWorker: 2696 \tepoch: 1 \tbatch: 96 \tlocal loss: 1.9231\n",
      "\tWorker: 2696 \tepoch: 1 \tbatch: 128 \tlocal loss: 1.8998 \n",
      "\n",
      "\tWorker: 2640 \tepoch: 1 \tbatch: 0 \tlocal loss: 2.0426\n",
      "\tWorker: 2640 \tepoch: 1 \tbatch: 32 \tlocal loss: 1.9773\n",
      "\tWorker: 2640 \tepoch: 1 \tbatch: 64 \tlocal loss: 1.9894\n",
      "\tWorker: 2640 \tepoch: 1 \tbatch: 96 \tlocal loss: 1.9579\n",
      "\tWorker: 2640 \tepoch: 1 \tbatch: 128 \tlocal loss: 1.8679 \n",
      "\n",
      "\tWorker: 3928 \tepoch: 1 \tbatch: 0 \tlocal loss: 2.0478\n",
      "\tWorker: 3928 \tepoch: 1 \tbatch: 32 \tlocal loss: 1.9315\n",
      "\tWorker: 3928 \tepoch: 1 \tbatch: 64 \tlocal loss: 1.8918\n",
      "\tWorker: 3928 \tepoch: 1 \tbatch: 96 \tlocal loss: 1.8902\n",
      "\tWorker: 3928 \tepoch: 1 \tbatch: 128 \tlocal loss: 1.8755 \n",
      "\n",
      "\tWorker: 3312 \tepoch: 1 \tbatch: 0 \tlocal loss: 2.0083\n",
      "\tWorker: 3312 \tepoch: 1 \tbatch: 32 \tlocal loss: 1.9573\n",
      "\tWorker: 3312 \tepoch: 1 \tbatch: 64 \tlocal loss: 1.9963\n",
      "\tWorker: 3312 \tepoch: 1 \tbatch: 96 \tlocal loss: 1.9344\n",
      "\tWorker: 3312 \tepoch: 1 \tbatch: 128 \tlocal loss: 1.8822 \n",
      "\n",
      "\tWorker: 4600 \tepoch: 1 \tbatch: 0 \tlocal loss: 2.0146\n",
      "\tWorker: 4600 \tepoch: 1 \tbatch: 32 \tlocal loss: 1.9809\n",
      "\tWorker: 4600 \tepoch: 1 \tbatch: 64 \tlocal loss: 1.9088\n",
      "\tWorker: 4600 \tepoch: 1 \tbatch: 96 \tlocal loss: 1.8365\n",
      "\tWorker: 4600 \tepoch: 1 \tbatch: 128 \tlocal loss: 1.9162 \n",
      "\n",
      "\tWorker: 2192 \tepoch: 1 \tbatch: 0 \tlocal loss: 1.9940\n",
      "\tWorker: 2192 \tepoch: 1 \tbatch: 32 \tlocal loss: 1.9837\n",
      "\tWorker: 2192 \tepoch: 1 \tbatch: 64 \tlocal loss: 1.9734\n",
      "\tWorker: 2192 \tepoch: 1 \tbatch: 96 \tlocal loss: 1.8834\n",
      "\tWorker: 2192 \tepoch: 1 \tbatch: 128 \tlocal loss: 1.9022 \n",
      "\n"
     ]
    },
    {
     "name": "stderr",
     "output_type": "stream",
     "text": [
      "\r",
      " 62%|██████▎   | 5/8 [12:12<07:19, 146.33s/it]"
     ]
    },
    {
     "name": "stdout",
     "output_type": "stream",
     "text": [
      "Finished round 5 with global loss: 1.87907 \n",
      "\n",
      "Beginning round 6\n",
      "\tWorker: 8912 \tepoch: 1 \tbatch: 0 \tlocal loss: 1.8694\n",
      "\tWorker: 8912 \tepoch: 1 \tbatch: 32 \tlocal loss: 1.6876\n",
      "\tWorker: 8912 \tepoch: 1 \tbatch: 64 \tlocal loss: 1.7634\n",
      "\tWorker: 8912 \tepoch: 1 \tbatch: 96 \tlocal loss: 1.6350\n",
      "\tWorker: 8912 \tepoch: 1 \tbatch: 128 \tlocal loss: 1.6437 \n",
      "\n",
      "\tWorker: 1184 \tepoch: 1 \tbatch: 0 \tlocal loss: 1.8512\n",
      "\tWorker: 1184 \tepoch: 1 \tbatch: 32 \tlocal loss: 1.7625\n",
      "\tWorker: 1184 \tepoch: 1 \tbatch: 64 \tlocal loss: 1.6659\n",
      "\tWorker: 1184 \tepoch: 1 \tbatch: 96 \tlocal loss: 1.6938\n",
      "\tWorker: 1184 \tepoch: 1 \tbatch: 128 \tlocal loss: 1.6157 \n",
      "\n",
      "\tWorker: 4712 \tepoch: 1 \tbatch: 0 \tlocal loss: 1.9320\n",
      "\tWorker: 4712 \tepoch: 1 \tbatch: 32 \tlocal loss: 1.8298\n",
      "\tWorker: 4712 \tepoch: 1 \tbatch: 64 \tlocal loss: 1.7597\n",
      "\tWorker: 4712 \tepoch: 1 \tbatch: 96 \tlocal loss: 1.8418\n",
      "\tWorker: 4712 \tepoch: 1 \tbatch: 128 \tlocal loss: 1.6526 \n",
      "\n",
      "\tWorker: 2976 \tepoch: 1 \tbatch: 0 \tlocal loss: 1.9562\n",
      "\tWorker: 2976 \tepoch: 1 \tbatch: 32 \tlocal loss: 1.8087\n",
      "\tWorker: 2976 \tepoch: 1 \tbatch: 64 \tlocal loss: 1.7663\n",
      "\tWorker: 2976 \tepoch: 1 \tbatch: 96 \tlocal loss: 1.6831\n",
      "\tWorker: 2976 \tepoch: 1 \tbatch: 128 \tlocal loss: 1.6765 \n",
      "\n",
      "\tWorker: 2696 \tepoch: 1 \tbatch: 0 \tlocal loss: 1.9408\n",
      "\tWorker: 2696 \tepoch: 1 \tbatch: 32 \tlocal loss: 1.8110\n",
      "\tWorker: 2696 \tepoch: 1 \tbatch: 64 \tlocal loss: 1.8328\n",
      "\tWorker: 2696 \tepoch: 1 \tbatch: 96 \tlocal loss: 1.8045\n",
      "\tWorker: 2696 \tepoch: 1 \tbatch: 128 \tlocal loss: 1.6186 \n",
      "\n",
      "\tWorker: 2640 \tepoch: 1 \tbatch: 0 \tlocal loss: 1.8537\n",
      "\tWorker: 2640 \tepoch: 1 \tbatch: 32 \tlocal loss: 1.8177\n",
      "\tWorker: 2640 \tepoch: 1 \tbatch: 64 \tlocal loss: 1.8631\n",
      "\tWorker: 2640 \tepoch: 1 \tbatch: 96 \tlocal loss: 1.7508\n",
      "\tWorker: 2640 \tepoch: 1 \tbatch: 128 \tlocal loss: 1.6477 \n",
      "\n",
      "\tWorker: 3928 \tepoch: 1 \tbatch: 0 \tlocal loss: 1.8800\n",
      "\tWorker: 3928 \tepoch: 1 \tbatch: 32 \tlocal loss: 1.8691\n",
      "\tWorker: 3928 \tepoch: 1 \tbatch: 64 \tlocal loss: 1.7469\n",
      "\tWorker: 3928 \tepoch: 1 \tbatch: 96 \tlocal loss: 1.7279\n",
      "\tWorker: 3928 \tepoch: 1 \tbatch: 128 \tlocal loss: 1.6013 \n",
      "\n",
      "\tWorker: 3312 \tepoch: 1 \tbatch: 0 \tlocal loss: 1.8955\n",
      "\tWorker: 3312 \tepoch: 1 \tbatch: 32 \tlocal loss: 1.8673\n",
      "\tWorker: 3312 \tepoch: 1 \tbatch: 64 \tlocal loss: 1.7195\n",
      "\tWorker: 3312 \tepoch: 1 \tbatch: 96 \tlocal loss: 1.6961\n",
      "\tWorker: 3312 \tepoch: 1 \tbatch: 128 \tlocal loss: 1.6782 \n",
      "\n",
      "\tWorker: 4600 \tepoch: 1 \tbatch: 0 \tlocal loss: 1.9101\n",
      "\tWorker: 4600 \tepoch: 1 \tbatch: 32 \tlocal loss: 1.7991\n",
      "\tWorker: 4600 \tepoch: 1 \tbatch: 64 \tlocal loss: 1.7853\n",
      "\tWorker: 4600 \tepoch: 1 \tbatch: 96 \tlocal loss: 1.7944\n",
      "\tWorker: 4600 \tepoch: 1 \tbatch: 128 \tlocal loss: 1.7394 \n",
      "\n",
      "\tWorker: 2192 \tepoch: 1 \tbatch: 0 \tlocal loss: 1.9174\n",
      "\tWorker: 2192 \tepoch: 1 \tbatch: 32 \tlocal loss: 1.8751\n",
      "\tWorker: 2192 \tepoch: 1 \tbatch: 64 \tlocal loss: 1.7318\n",
      "\tWorker: 2192 \tepoch: 1 \tbatch: 96 \tlocal loss: 1.7529\n",
      "\tWorker: 2192 \tepoch: 1 \tbatch: 128 \tlocal loss: 1.6936 \n",
      "\n"
     ]
    },
    {
     "name": "stderr",
     "output_type": "stream",
     "text": [
      "\r",
      " 75%|███████▌  | 6/8 [14:32<04:48, 144.46s/it]"
     ]
    },
    {
     "name": "stdout",
     "output_type": "stream",
     "text": [
      "Finished round 6 with global loss: 1.68198 \n",
      "\n",
      "Beginning round 7\n",
      "\tWorker: 8912 \tepoch: 1 \tbatch: 0 \tlocal loss: 1.7207\n",
      "\tWorker: 8912 \tepoch: 1 \tbatch: 32 \tlocal loss: 1.6035\n",
      "\tWorker: 8912 \tepoch: 1 \tbatch: 64 \tlocal loss: 1.5295\n",
      "\tWorker: 8912 \tepoch: 1 \tbatch: 96 \tlocal loss: 1.4978\n",
      "\tWorker: 8912 \tepoch: 1 \tbatch: 128 \tlocal loss: 1.5728 \n",
      "\n",
      "\tWorker: 1184 \tepoch: 1 \tbatch: 0 \tlocal loss: 1.7414\n",
      "\tWorker: 1184 \tepoch: 1 \tbatch: 32 \tlocal loss: 1.6118\n",
      "\tWorker: 1184 \tepoch: 1 \tbatch: 64 \tlocal loss: 1.5637\n",
      "\tWorker: 1184 \tepoch: 1 \tbatch: 96 \tlocal loss: 1.4854\n",
      "\tWorker: 1184 \tepoch: 1 \tbatch: 128 \tlocal loss: 1.3818 \n",
      "\n",
      "\tWorker: 4712 \tepoch: 1 \tbatch: 0 \tlocal loss: 1.7001\n",
      "\tWorker: 4712 \tepoch: 1 \tbatch: 32 \tlocal loss: 1.6000\n",
      "\tWorker: 4712 \tepoch: 1 \tbatch: 64 \tlocal loss: 1.7038\n",
      "\tWorker: 4712 \tepoch: 1 \tbatch: 96 \tlocal loss: 1.5315\n",
      "\tWorker: 4712 \tepoch: 1 \tbatch: 128 \tlocal loss: 1.3645 \n",
      "\n",
      "\tWorker: 2976 \tepoch: 1 \tbatch: 0 \tlocal loss: 1.7331\n",
      "\tWorker: 2976 \tepoch: 1 \tbatch: 32 \tlocal loss: 1.6697\n",
      "\tWorker: 2976 \tepoch: 1 \tbatch: 64 \tlocal loss: 1.6221\n",
      "\tWorker: 2976 \tepoch: 1 \tbatch: 96 \tlocal loss: 1.4547\n",
      "\tWorker: 2976 \tepoch: 1 \tbatch: 128 \tlocal loss: 1.5120 \n",
      "\n",
      "\tWorker: 2696 \tepoch: 1 \tbatch: 0 \tlocal loss: 1.7298\n",
      "\tWorker: 2696 \tepoch: 1 \tbatch: 32 \tlocal loss: 1.6610\n",
      "\tWorker: 2696 \tepoch: 1 \tbatch: 64 \tlocal loss: 1.5713\n",
      "\tWorker: 2696 \tepoch: 1 \tbatch: 96 \tlocal loss: 1.3994\n",
      "\tWorker: 2696 \tepoch: 1 \tbatch: 128 \tlocal loss: 1.5263 \n",
      "\n",
      "\tWorker: 2640 \tepoch: 1 \tbatch: 0 \tlocal loss: 1.7470\n",
      "\tWorker: 2640 \tepoch: 1 \tbatch: 32 \tlocal loss: 1.6625\n",
      "\tWorker: 2640 \tepoch: 1 \tbatch: 64 \tlocal loss: 1.5431\n",
      "\tWorker: 2640 \tepoch: 1 \tbatch: 96 \tlocal loss: 1.4997\n",
      "\tWorker: 2640 \tepoch: 1 \tbatch: 128 \tlocal loss: 1.5584 \n",
      "\n",
      "\tWorker: 3928 \tepoch: 1 \tbatch: 0 \tlocal loss: 1.6775\n",
      "\tWorker: 3928 \tepoch: 1 \tbatch: 32 \tlocal loss: 1.6278\n",
      "\tWorker: 3928 \tepoch: 1 \tbatch: 64 \tlocal loss: 1.5434\n",
      "\tWorker: 3928 \tepoch: 1 \tbatch: 96 \tlocal loss: 1.5204\n",
      "\tWorker: 3928 \tepoch: 1 \tbatch: 128 \tlocal loss: 1.4673 \n",
      "\n",
      "\tWorker: 3312 \tepoch: 1 \tbatch: 0 \tlocal loss: 1.5829\n",
      "\tWorker: 3312 \tepoch: 1 \tbatch: 32 \tlocal loss: 1.4808\n",
      "\tWorker: 3312 \tepoch: 1 \tbatch: 64 \tlocal loss: 1.5339\n",
      "\tWorker: 3312 \tepoch: 1 \tbatch: 96 \tlocal loss: 1.4501\n",
      "\tWorker: 3312 \tepoch: 1 \tbatch: 128 \tlocal loss: 1.3298 \n",
      "\n",
      "\tWorker: 4600 \tepoch: 1 \tbatch: 0 \tlocal loss: 1.7251\n",
      "\tWorker: 4600 \tepoch: 1 \tbatch: 32 \tlocal loss: 1.6638\n",
      "\tWorker: 4600 \tepoch: 1 \tbatch: 64 \tlocal loss: 1.5981\n",
      "\tWorker: 4600 \tepoch: 1 \tbatch: 96 \tlocal loss: 1.4778\n",
      "\tWorker: 4600 \tepoch: 1 \tbatch: 128 \tlocal loss: 1.3621 \n",
      "\n",
      "\tWorker: 2192 \tepoch: 1 \tbatch: 0 \tlocal loss: 1.7206\n",
      "\tWorker: 2192 \tepoch: 1 \tbatch: 32 \tlocal loss: 1.5848\n",
      "\tWorker: 2192 \tepoch: 1 \tbatch: 64 \tlocal loss: 1.6625\n",
      "\tWorker: 2192 \tepoch: 1 \tbatch: 96 \tlocal loss: 1.6340\n",
      "\tWorker: 2192 \tepoch: 1 \tbatch: 128 \tlocal loss: 1.5346 \n",
      "\n"
     ]
    },
    {
     "name": "stderr",
     "output_type": "stream",
     "text": [
      "\r",
      " 88%|████████▊ | 7/8 [16:54<02:23, 143.89s/it]"
     ]
    },
    {
     "name": "stdout",
     "output_type": "stream",
     "text": [
      "Finished round 7 with global loss: 1.45819 \n",
      "\n",
      "Beginning round 8\n",
      "\tWorker: 8912 \tepoch: 1 \tbatch: 0 \tlocal loss: 1.4788\n",
      "\tWorker: 8912 \tepoch: 1 \tbatch: 32 \tlocal loss: 1.4064\n",
      "\tWorker: 8912 \tepoch: 1 \tbatch: 64 \tlocal loss: 1.2291\n",
      "\tWorker: 8912 \tepoch: 1 \tbatch: 96 \tlocal loss: 1.2592\n",
      "\tWorker: 8912 \tepoch: 1 \tbatch: 128 \tlocal loss: 1.2219 \n",
      "\n",
      "\tWorker: 1184 \tepoch: 1 \tbatch: 0 \tlocal loss: 1.4856\n",
      "\tWorker: 1184 \tepoch: 1 \tbatch: 32 \tlocal loss: 1.3004\n",
      "\tWorker: 1184 \tepoch: 1 \tbatch: 64 \tlocal loss: 1.1839\n",
      "\tWorker: 1184 \tepoch: 1 \tbatch: 96 \tlocal loss: 1.2633\n",
      "\tWorker: 1184 \tepoch: 1 \tbatch: 128 \tlocal loss: 1.0235 \n",
      "\n",
      "\tWorker: 4712 \tepoch: 1 \tbatch: 0 \tlocal loss: 1.4558\n",
      "\tWorker: 4712 \tepoch: 1 \tbatch: 32 \tlocal loss: 1.4674\n",
      "\tWorker: 4712 \tepoch: 1 \tbatch: 64 \tlocal loss: 1.2438\n",
      "\tWorker: 4712 \tepoch: 1 \tbatch: 96 \tlocal loss: 1.3634\n",
      "\tWorker: 4712 \tepoch: 1 \tbatch: 128 \tlocal loss: 1.2204 \n",
      "\n",
      "\tWorker: 2976 \tepoch: 1 \tbatch: 0 \tlocal loss: 1.5902\n",
      "\tWorker: 2976 \tepoch: 1 \tbatch: 32 \tlocal loss: 1.4286\n",
      "\tWorker: 2976 \tepoch: 1 \tbatch: 64 \tlocal loss: 1.2845\n",
      "\tWorker: 2976 \tepoch: 1 \tbatch: 96 \tlocal loss: 1.2856\n",
      "\tWorker: 2976 \tepoch: 1 \tbatch: 128 \tlocal loss: 1.1284 \n",
      "\n",
      "\tWorker: 2696 \tepoch: 1 \tbatch: 0 \tlocal loss: 1.5190\n",
      "\tWorker: 2696 \tepoch: 1 \tbatch: 32 \tlocal loss: 1.4603\n",
      "\tWorker: 2696 \tepoch: 1 \tbatch: 64 \tlocal loss: 1.3514\n",
      "\tWorker: 2696 \tepoch: 1 \tbatch: 96 \tlocal loss: 1.3231\n",
      "\tWorker: 2696 \tepoch: 1 \tbatch: 128 \tlocal loss: 1.2128 \n",
      "\n",
      "\tWorker: 2640 \tepoch: 1 \tbatch: 0 \tlocal loss: 1.6179\n",
      "\tWorker: 2640 \tepoch: 1 \tbatch: 32 \tlocal loss: 1.4884\n",
      "\tWorker: 2640 \tepoch: 1 \tbatch: 64 \tlocal loss: 1.3096\n",
      "\tWorker: 2640 \tepoch: 1 \tbatch: 96 \tlocal loss: 1.2790\n",
      "\tWorker: 2640 \tepoch: 1 \tbatch: 128 \tlocal loss: 1.1821 \n",
      "\n",
      "\tWorker: 3928 \tepoch: 1 \tbatch: 0 \tlocal loss: 1.4942\n",
      "\tWorker: 3928 \tepoch: 1 \tbatch: 32 \tlocal loss: 1.4134\n",
      "\tWorker: 3928 \tepoch: 1 \tbatch: 64 \tlocal loss: 1.2863\n",
      "\tWorker: 3928 \tepoch: 1 \tbatch: 96 \tlocal loss: 1.3433\n",
      "\tWorker: 3928 \tepoch: 1 \tbatch: 128 \tlocal loss: 1.2442 \n",
      "\n",
      "\tWorker: 3312 \tepoch: 1 \tbatch: 0 \tlocal loss: 1.5184\n",
      "\tWorker: 3312 \tepoch: 1 \tbatch: 32 \tlocal loss: 1.2826\n",
      "\tWorker: 3312 \tepoch: 1 \tbatch: 64 \tlocal loss: 1.5024\n",
      "\tWorker: 3312 \tepoch: 1 \tbatch: 96 \tlocal loss: 1.2472\n",
      "\tWorker: 3312 \tepoch: 1 \tbatch: 128 \tlocal loss: 1.1939 \n",
      "\n",
      "\tWorker: 4600 \tepoch: 1 \tbatch: 0 \tlocal loss: 1.5466\n",
      "\tWorker: 4600 \tepoch: 1 \tbatch: 32 \tlocal loss: 1.4588\n",
      "\tWorker: 4600 \tepoch: 1 \tbatch: 64 \tlocal loss: 1.3376\n",
      "\tWorker: 4600 \tepoch: 1 \tbatch: 96 \tlocal loss: 1.3827\n",
      "\tWorker: 4600 \tepoch: 1 \tbatch: 128 \tlocal loss: 1.2586 \n",
      "\n",
      "\tWorker: 2192 \tepoch: 1 \tbatch: 0 \tlocal loss: 1.6088\n",
      "\tWorker: 2192 \tepoch: 1 \tbatch: 32 \tlocal loss: 1.4681\n",
      "\tWorker: 2192 \tepoch: 1 \tbatch: 64 \tlocal loss: 1.4596\n",
      "\tWorker: 2192 \tepoch: 1 \tbatch: 96 \tlocal loss: 1.2517\n",
      "\tWorker: 2192 \tepoch: 1 \tbatch: 128 \tlocal loss: 1.3553 \n",
      "\n"
     ]
    },
    {
     "name": "stderr",
     "output_type": "stream",
     "text": [
      "\r",
      "100%|██████████| 8/8 [19:26<00:00, 146.18s/it]"
     ]
    },
    {
     "name": "stdout",
     "output_type": "stream",
     "text": [
      "Finished round 8 with global loss: 1.24550 \n",
      "\n"
     ]
    },
    {
     "name": "stderr",
     "output_type": "stream",
     "text": [
      "\n"
     ]
    }
   ],
   "source": [
    "print(\"Training\", num_rounds, \"round(s) with\", manager.n_workers, \"worker(s) doing\", num_epochs, \"epoch(s) per round.\\n\" )\n",
    "\n",
    "for i in tqdm(range(num_rounds)):\n",
    "    print(\"Beginning round\", i+1)\n",
    "    manager.round()\n",
    "    print(\"Finished round\", i+1, \"with global loss: %.5f\" % manager.manager_loss_history[-1], \"\\n\")"
   ]
  },
  {
   "cell_type": "code",
   "execution_count": 13,
   "metadata": {},
   "outputs": [
    {
     "data": {
      "image/png": "[encoded data removed]",
      "text/plain": [
       "<Figure size 432x288 with 1 Axes>"
      ]
     },
     "metadata": {
      "needs_background": "light"
     },
     "output_type": "display_data"
    }
   ],
   "source": [
    "%matplotlib inline\n",
    "import matplotlib.pyplot as plt\n",
    "\n",
    "fig, ax = plt.subplots()\n",
    "# loss of global model on test set gets recorded twice per round\n",
    "# [1::2] skips the record that takes place before that round's training has happened\n",
    "ax.plot(manager.manager_loss_history[1::2], label=\"Global Loss\")\n",
    "ax.set_xlabel(\"Round\");\n",
    "ax.legend();"
   ]
  },
  {
   "cell_type": "code",
   "execution_count": 14,
   "metadata": {},
   "outputs": [
    {
     "data": {
      "image/png": "[encoded data removed]",
      "text/plain": [
       "<Figure size 432x288 with 1 Axes>"
      ]
     },
     "metadata": {
      "needs_background": "light"
     },
     "output_type": "display_data"
    }
   ],
   "source": [
    "fig, ax = plt.subplots()\n",
    "\n",
    "for i in range(len(manager.worker_loss_histories)):\n",
    "    lbl = \"Worker \" + str(i)\n",
    "    ax.plot(manager.worker_loss_histories[i], label=lbl)\n",
    "    ax.legend();"
   ]
  },
  {
   "cell_type": "markdown",
   "metadata": {},
   "source": [
    "Outline:\n",
    "- Set up a model and data\n",
    "- train the model N epochs without federation note baseline performance (and size of the data that would have to have been transferedd?) \n",
    "    - is this model trained on the full dataset? Or do we sample randomly across it to have the same number of examples?\n",
    "- Federate without skew or mild skew, compare performance with baseline (and size of model compared to data)\n",
    "- Federate with only a few numbers skewed (like, lacking only 7s or something) \n",
    "- Federate with heavy skew\n",
    "- Federate with complete skew\n",
    "\n",
    "Ideas:\n",
    "- plot performance on a given numeral for the main model next to that of a worker skewed against that numeral. Let both run without federation or run a few epochs before federation. Show this as a baseline\n",
    "- histogram of numerals? More for curiosity, but shows spread of data that we might want to reflect in the baseline training.\n",
    "- why use ten workers? Why not fewer?\n",
    "\n",
    "Questions:\n",
    "- Why does the time spent by a worker on any given epoch all happen _before_ the batches start rolling in? What's happening there? Am I just spinning my wheels on something?\n",
    "- Why does random selection of the skewed datasets take so long? Is it because they're without replacement?\n",
    "- Why do all the workers and epochs always happen in order? Wouldn't my laptop parallelize them across cores? Is that too much to ask from an interpreter? Is the interpreter smarter than I am and actually is parallelizing them and the smartest way in to do them in order?"
   ]
  },
  {
   "cell_type": "code",
   "execution_count": null,
   "metadata": {},
   "outputs": [],
   "source": []
  },
  {
   "cell_type": "code",
   "execution_count": null,
   "metadata": {},
   "outputs": [],
   "source": []
  }
 ],
 "metadata": {
  "kernelspec": {
   "display_name": "Python 3",
   "language": "python",
   "name": "python3"
  },
  "language_info": {
   "codemirror_mode": {
    "name": "ipython",
    "version": 3
   },
   "file_extension": ".py",
   "mimetype": "text/x-python",
   "name": "python",
   "nbconvert_exporter": "python",
   "pygments_lexer": "ipython3",
   "version": "3.6.7"
  }
 },
 "nbformat": 4,
 "nbformat_minor": 2
}
