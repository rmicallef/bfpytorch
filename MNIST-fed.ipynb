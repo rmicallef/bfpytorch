{
 "cells": [
  {
   "cell_type": "markdown",
   "metadata": {},
   "source": [
    "# Federated Machine Learning in PyTorch\n",
    "\n",
    "This notebook is a demonstration of _federated learning_, a type of machine learning in which a machine learning task is addressed using multiple devices, implemented in `pytorch`, a python implementation of the `torch` machine learning framework. This notebook is part of a series intended to start from the basics to demonstrate federated learning in pytorch, then move on to test some of the bounds of what federated learning can (and can't) do.\n",
    "\n",
    "Now, let's talk about what we're going to see in _this_ notebook.\n",
    "\n",
    "## The Task: Digit Recognition\n",
    "\n",
    "For this demonstration, our task is a classic one: the MNIST digit recognition task. Specifically, we need to determine which number is written in an image of a handwritten digit like this one: \n",
    "\n",
    "![Handwritten digit \"6\"](images/example-6.png)\n",
    "\n",
    "To carry out this task we need a machine learning model to \"look\" at an image and classify it into a number. We also need and image data to train the model. We're going to use a simple convolutional neural network model. For the training images, we're using the well-known MNIST digits dataset.\n",
    "\n",
    "## The Approach: Federation\n",
    "\n",
    "The federated approach uses several _worker_ devices to train their own local models with independent data. That is, the workers each train their own local model with a subset of the full dataset.\n",
    "\n",
    "Each worker trains its local model for a bit, then sends its incrementally trained local model back to a _manager_. The manager combines the local models from all of the workers into a master model, then sends the master model back to the workers. This process is called a _round_. \n",
    "\n",
    "Then another round begins: the workers each train their local copy of the master model (creating another set of individualized local models), send those local models back to the manager. Once again the manager combines these individualized local models into a new master model, and pushes the new master model down to the workers. This cycle of rounds repeats as long as is necessary and useful.\n",
    "\n",
    "## Our Federation Library\n",
    "\n",
    "The `federated` library we're using here includes a `FederatedManager` class and a `FederatedWorker` class. A `FederatedManager` contains a master prediction model and creates several independent `FederatedWorker` instances. Each `FederatedWorker` has its own local model and a distinct subset of the MNIST data.\n",
    "\n",
    "In each `round` of federated learning, each `FederatedWorker` trains its local model using only the data that that worker recieves, and then sends its trained local model to the `FederatedManager`. The `FederatedManager` combines the models into an updated master model and pushes that new master model down to each `FederatedWorker`.\n",
    "\n",
    "We're going to see how federation works and test out some corner cases here. Let's get started with the code."
   ]
  },
  {
   "cell_type": "markdown",
   "metadata": {},
   "source": [
    "## The Basics\n",
    "\n",
    "We need to load up the common elements to be used in the traditional and federated machine learning approaches. But we do a little housekeeping first to track performance of the code."
   ]
  },
  {
   "cell_type": "code",
   "execution_count": 1,
   "metadata": {},
   "outputs": [],
   "source": [
    "import time\n",
    "import datetime\n",
    "\n",
    "run_data = {} # used for code profiling\n",
    "\n",
    "run_data['Date'] = datetime.datetime.today().strftime('%Y-%m-%d %H:%M:%S')\n",
    "run_data['Global Start Time'] = time.time()"
   ]
  },
  {
   "cell_type": "markdown",
   "metadata": {},
   "source": [
    "### The Model\n",
    "\n",
    "Now we define the model. We're using a simple multilayer perceptron in the `torch` framework."
   ]
  },
  {
   "cell_type": "code",
   "execution_count": 2,
   "metadata": {},
   "outputs": [],
   "source": [
    "# Define the model\n",
    "\n",
    "import torch.nn as nn\n",
    "\n",
    "class MLPNet(nn.Module):\n",
    "    def __init__(self):\n",
    "        super(MLPNet, self).__init__()\n",
    "        self.fc1 = nn.Linear(28*28, 500)\n",
    "        self.fc2 = nn.Linear(500, 256)\n",
    "        self.fc3 = nn.Linear(256, 10)\n",
    "    def forward(self, x):\n",
    "        x = x.view(-1, 28*28)\n",
    "        x = nn.functional.relu(self.fc1(x))\n",
    "        x = nn.functional.relu(self.fc2(x))\n",
    "        x = self.fc3(x)\n",
    "        return x"
   ]
  },
  {
   "cell_type": "markdown",
   "metadata": {},
   "source": [
    "### The Data - Standard MNIST Datasets\n",
    "Here we get plain vanilla MNIST data, a training set and a test set. Nothing exciting to see here. This is our baseline. \n",
    "\n",
    "If you don't already have the MNIST data on your machine, the setting `download=True` in the call to `torchvision.datasets.MNIST()` will fetch the data for you."
   ]
  },
  {
   "cell_type": "code",
   "execution_count": 3,
   "metadata": {},
   "outputs": [],
   "source": [
    "# load the data\n",
    "\n",
    "import torch\n",
    "import torchvision.datasets as dsets\n",
    "import torchvision.transforms as transforms\n",
    "\n",
    "# create standard datasets using all of the MNIST data\n",
    "\n",
    "data_path = './MNIST-data/raw'\n",
    "trans = transforms.Compose([transforms.ToTensor(), transforms.Normalize((0.5,), (1.0,))])\n",
    "\n",
    "train_dset = dsets.MNIST(root=data_path, download=True, train=True, transform=trans)\n",
    "test_dset = dsets.MNIST(root=data_path, download=True, train=False, transform=trans)"
   ]
  },
  {
   "cell_type": "markdown",
   "metadata": {},
   "source": [
    "Now we have our standard MNIST datasets: `train_dset` contains 60,000 examples, and `test_dset` contains 10,000 samples."
   ]
  },
  {
   "cell_type": "markdown",
   "metadata": {},
   "source": [
    "TODO: EXPLAIN WHY WE NORMALIZE THE DATA, AND WHY WE USE THOSE VALUES?"
   ]
  },
  {
   "cell_type": "code",
   "execution_count": 4,
   "metadata": {},
   "outputs": [],
   "source": [
    "# create dataloaders\n",
    "\n",
    "from torch.utils.data import DataLoader\n",
    "\n",
    "run_data['Batch Size'] = batch_size = 256\n",
    "\n",
    "# create standard dataloaders using all of the MNIST data - this is for baseline purposes\n",
    "train_dloader = DataLoader(train_dset, batch_size=batch_size, shuffle=True)\n",
    "test_dloader = DataLoader(test_dset, batch_size=batch_size, shuffle=False)"
   ]
  },
  {
   "cell_type": "markdown",
   "metadata": {},
   "source": [
    "Let's check out the default data. The out-of-the-box MNIST dataset has roughly equal numbers of samples for each digit, i.e., about as many `4`s as `6`s."
   ]
  },
  {
   "cell_type": "markdown",
   "metadata": {},
   "source": [
    "The training data is reasonably well distributed, and the plots below confirm it. We scaled up the test set counts by a factor of six to make them comparable to the training set, which has exactly six times as many examples as the test set."
   ]
  },
  {
   "cell_type": "code",
   "execution_count": 5,
   "metadata": {},
   "outputs": [
    {
     "data": {
      "image/png": "[encoded data removed]",
      "text/plain": [
       "<Figure size 720x360 with 1 Axes>"
      ]
     },
     "metadata": {
      "needs_background": "light"
     },
     "output_type": "display_data"
    }
   ],
   "source": [
    "%matplotlib inline\n",
    "import matplotlib.pyplot as plt\n",
    "\n",
    "fig, ax = plt.subplots(figsize=(10, 5))\n",
    "fig.suptitle('Standard MNIST Digit Counts')\n",
    "ax.xaxis.set_major_locator(plt.MultipleLocator(1))\n",
    "ax.hist([train_dloader.dataset.targets.tolist(), test_dloader.dataset.targets.tolist()*6], \n",
    "        label=['Train', 'Test (scaled)'],\n",
    "        bins=list(range(11)), \n",
    "        histtype='bar',\n",
    "        align='left',\n",
    "        rwidth=0.8,\n",
    "       )\n",
    "ax.legend();"
   ]
  },
  {
   "cell_type": "markdown",
   "metadata": {},
   "source": [
    "## Baseline: The Non-Federated Approach\n",
    "\n",
    "To show a baseline of non-federated learning, we train a model using just one worker (we're technically using the federated library, but with one worker, it's equivalent to non-federated learning). This one worker will train on the full standard MNIST dataset of 60,000 examples.\n",
    "\n",
    "TODO: AND THEN DO WE WANT TO SHOW A MODEL TRAINED ONLY ON ONE SKEWED DATASET?\n",
    "\n",
    "TODO: Explain (and apologize?) the hack to measure the length of a dataset? Or find another way?"
   ]
  },
  {
   "cell_type": "code",
   "execution_count": 6,
   "metadata": {},
   "outputs": [
    {
     "name": "stdout",
     "output_type": "stream",
     "text": [
      "Dataset size:  60000\n"
     ]
    }
   ],
   "source": [
    "import federated\n",
    "\n",
    "run_data['Learning Rate'] = learning_rate = 5e-2\n",
    "run_data['Epochs per Round'] = num_epochs = 1\n",
    "run_data['Nonfederated Training Rounds'] = num_rounds = 30\n",
    "\n",
    "default_manager = federated.FederatedManager(\n",
    "    [train_dloader],\n",
    "    MLPNet,\n",
    "    nn.CrossEntropyLoss(),\n",
    "    learning_rate,\n",
    "    test_dset,\n",
    "    num_epochs\n",
    ")\n",
    "\n",
    "print(\"Dataset size: \", len(train_dloader.dataset))\n",
    "    \n",
    "#_, ybatches = list(zip(*train_dloader))\n",
    "#print(\"Dataset size:\", len(torch.cat(ybatches)))"
   ]
  },
  {
   "cell_type": "code",
   "execution_count": 7,
   "metadata": {},
   "outputs": [
    {
     "name": "stderr",
     "output_type": "stream",
     "text": [
      "\r",
      "  0%|          | 0/30 [00:00<?, ?it/s]"
     ]
    },
    {
     "name": "stdout",
     "output_type": "stream",
     "text": [
      "Training 30 round(s) with 1 worker(s) doing 1 epoch(s) per round.\n",
      "\n",
      "Beginning round 1\n",
      "\tWorker: 0344 \tlocal loss: 0.74\n"
     ]
    },
    {
     "name": "stderr",
     "output_type": "stream",
     "text": [
      "\r",
      "  3%|▎         | 1/30 [00:17<08:13, 17.02s/it]"
     ]
    },
    {
     "name": "stdout",
     "output_type": "stream",
     "text": [
      "Finished round 1 with global loss: 0.54723 \n",
      "\n",
      "Beginning round 2\n",
      "\tWorker: 0344 \tlocal loss: 0.46\n"
     ]
    },
    {
     "name": "stderr",
     "output_type": "stream",
     "text": [
      "\r",
      "  7%|▋         | 2/30 [00:31<07:35, 16.27s/it]"
     ]
    },
    {
     "name": "stdout",
     "output_type": "stream",
     "text": [
      "Finished round 2 with global loss: 0.39299 \n",
      "\n",
      "Beginning round 3\n",
      "\tWorker: 0344 \tlocal loss: 0.41\n"
     ]
    },
    {
     "name": "stderr",
     "output_type": "stream",
     "text": [
      "\r",
      " 10%|█         | 3/30 [00:46<07:06, 15.81s/it]"
     ]
    },
    {
     "name": "stdout",
     "output_type": "stream",
     "text": [
      "Finished round 3 with global loss: 0.33005 \n",
      "\n",
      "Beginning round 4\n",
      "\tWorker: 0344 \tlocal loss: 0.41\n"
     ]
    },
    {
     "name": "stderr",
     "output_type": "stream",
     "text": [
      "\r",
      " 13%|█▎        | 4/30 [01:06<07:27, 17.21s/it]"
     ]
    },
    {
     "name": "stdout",
     "output_type": "stream",
     "text": [
      "Finished round 4 with global loss: 0.35574 \n",
      "\n",
      "Beginning round 5\n",
      "\tWorker: 0344 \tlocal loss: 0.34\n"
     ]
    },
    {
     "name": "stderr",
     "output_type": "stream",
     "text": [
      "\r",
      " 17%|█▋        | 5/30 [01:22<06:57, 16.70s/it]"
     ]
    },
    {
     "name": "stdout",
     "output_type": "stream",
     "text": [
      "Finished round 5 with global loss: 0.31310 \n",
      "\n",
      "Beginning round 6\n",
      "\tWorker: 0344 \tlocal loss: 0.24\n"
     ]
    },
    {
     "name": "stderr",
     "output_type": "stream",
     "text": [
      "\r",
      " 20%|██        | 6/30 [01:37<06:28, 16.19s/it]"
     ]
    },
    {
     "name": "stdout",
     "output_type": "stream",
     "text": [
      "Finished round 6 with global loss: 0.25618 \n",
      "\n",
      "Beginning round 7\n",
      "\tWorker: 0344 \tlocal loss: 0.24\n"
     ]
    },
    {
     "name": "stderr",
     "output_type": "stream",
     "text": [
      "\r",
      " 23%|██▎       | 7/30 [01:52<06:06, 15.92s/it]"
     ]
    },
    {
     "name": "stdout",
     "output_type": "stream",
     "text": [
      "Finished round 7 with global loss: 0.24172 \n",
      "\n",
      "Beginning round 8\n",
      "\tWorker: 0344 \tlocal loss: 0.19\n"
     ]
    },
    {
     "name": "stderr",
     "output_type": "stream",
     "text": [
      "\r",
      " 27%|██▋       | 8/30 [02:07<05:44, 15.66s/it]"
     ]
    },
    {
     "name": "stdout",
     "output_type": "stream",
     "text": [
      "Finished round 8 with global loss: 0.22283 \n",
      "\n",
      "Beginning round 9\n",
      "\tWorker: 0344 \tlocal loss: 0.18\n"
     ]
    },
    {
     "name": "stderr",
     "output_type": "stream",
     "text": [
      "\r",
      " 30%|███       | 9/30 [02:22<05:22, 15.37s/it]"
     ]
    },
    {
     "name": "stdout",
     "output_type": "stream",
     "text": [
      "Finished round 9 with global loss: 0.21613 \n",
      "\n",
      "Beginning round 10\n",
      "\tWorker: 0344 \tlocal loss: 0.19\n"
     ]
    },
    {
     "name": "stderr",
     "output_type": "stream",
     "text": [
      "\r",
      " 33%|███▎      | 10/30 [02:37<05:04, 15.25s/it]"
     ]
    },
    {
     "name": "stdout",
     "output_type": "stream",
     "text": [
      "Finished round 10 with global loss: 0.20225 \n",
      "\n",
      "Beginning round 11\n",
      "\tWorker: 0344 \tlocal loss: 0.17\n"
     ]
    },
    {
     "name": "stderr",
     "output_type": "stream",
     "text": [
      "\r",
      " 37%|███▋      | 11/30 [02:52<04:47, 15.11s/it]"
     ]
    },
    {
     "name": "stdout",
     "output_type": "stream",
     "text": [
      "Finished round 11 with global loss: 0.18232 \n",
      "\n",
      "Beginning round 12\n",
      "\tWorker: 0344 \tlocal loss: 0.29\n"
     ]
    },
    {
     "name": "stderr",
     "output_type": "stream",
     "text": [
      "\r",
      " 40%|████      | 12/30 [03:09<04:43, 15.76s/it]"
     ]
    },
    {
     "name": "stdout",
     "output_type": "stream",
     "text": [
      "Finished round 12 with global loss: 0.18504 \n",
      "\n",
      "Beginning round 13\n",
      "\tWorker: 0344 \tlocal loss: 0.13\n"
     ]
    },
    {
     "name": "stderr",
     "output_type": "stream",
     "text": [
      "\r",
      " 43%|████▎     | 13/30 [03:24<04:23, 15.49s/it]"
     ]
    },
    {
     "name": "stdout",
     "output_type": "stream",
     "text": [
      "Finished round 13 with global loss: 0.16242 \n",
      "\n",
      "Beginning round 14\n",
      "\tWorker: 0344 \tlocal loss: 0.11\n"
     ]
    },
    {
     "name": "stderr",
     "output_type": "stream",
     "text": [
      "\r",
      " 47%|████▋     | 14/30 [03:39<04:04, 15.29s/it]"
     ]
    },
    {
     "name": "stdout",
     "output_type": "stream",
     "text": [
      "Finished round 14 with global loss: 0.15864 \n",
      "\n",
      "Beginning round 15\n",
      "\tWorker: 0344 \tlocal loss: 0.20\n"
     ]
    },
    {
     "name": "stderr",
     "output_type": "stream",
     "text": [
      "\r",
      " 50%|█████     | 15/30 [03:53<03:47, 15.18s/it]"
     ]
    },
    {
     "name": "stdout",
     "output_type": "stream",
     "text": [
      "Finished round 15 with global loss: 0.15492 \n",
      "\n",
      "Beginning round 16\n",
      "\tWorker: 0344 \tlocal loss: 0.14\n"
     ]
    },
    {
     "name": "stderr",
     "output_type": "stream",
     "text": [
      "\r",
      " 53%|█████▎    | 16/30 [04:08<03:30, 15.07s/it]"
     ]
    },
    {
     "name": "stdout",
     "output_type": "stream",
     "text": [
      "Finished round 16 with global loss: 0.13969 \n",
      "\n",
      "Beginning round 17\n",
      "\tWorker: 0344 \tlocal loss: 0.19\n"
     ]
    },
    {
     "name": "stderr",
     "output_type": "stream",
     "text": [
      "\r",
      " 57%|█████▋    | 17/30 [04:23<03:14, 14.97s/it]"
     ]
    },
    {
     "name": "stdout",
     "output_type": "stream",
     "text": [
      "Finished round 17 with global loss: 0.13318 \n",
      "\n",
      "Beginning round 18\n",
      "\tWorker: 0344 \tlocal loss: 0.10\n"
     ]
    },
    {
     "name": "stderr",
     "output_type": "stream",
     "text": [
      "\r",
      " 60%|██████    | 18/30 [04:38<02:59, 14.92s/it]"
     ]
    },
    {
     "name": "stdout",
     "output_type": "stream",
     "text": [
      "Finished round 18 with global loss: 0.12695 \n",
      "\n",
      "Beginning round 19\n",
      "\tWorker: 0344 \tlocal loss: 0.12\n"
     ]
    },
    {
     "name": "stderr",
     "output_type": "stream",
     "text": [
      "\r",
      " 63%|██████▎   | 19/30 [04:53<02:44, 14.92s/it]"
     ]
    },
    {
     "name": "stdout",
     "output_type": "stream",
     "text": [
      "Finished round 19 with global loss: 0.12458 \n",
      "\n",
      "Beginning round 20\n",
      "\tWorker: 0344 \tlocal loss: 0.20\n"
     ]
    },
    {
     "name": "stderr",
     "output_type": "stream",
     "text": [
      "\r",
      " 67%|██████▋   | 20/30 [05:10<02:35, 15.59s/it]"
     ]
    },
    {
     "name": "stdout",
     "output_type": "stream",
     "text": [
      "Finished round 20 with global loss: 0.13251 \n",
      "\n",
      "Beginning round 21\n",
      "\tWorker: 0344 \tlocal loss: 0.11\n"
     ]
    },
    {
     "name": "stderr",
     "output_type": "stream",
     "text": [
      "\r",
      " 70%|███████   | 21/30 [05:25<02:18, 15.34s/it]"
     ]
    },
    {
     "name": "stdout",
     "output_type": "stream",
     "text": [
      "Finished round 21 with global loss: 0.11442 \n",
      "\n",
      "Beginning round 22\n",
      "\tWorker: 0344 \tlocal loss: 0.10\n"
     ]
    },
    {
     "name": "stderr",
     "output_type": "stream",
     "text": [
      "\r",
      " 73%|███████▎  | 22/30 [05:40<02:01, 15.20s/it]"
     ]
    },
    {
     "name": "stdout",
     "output_type": "stream",
     "text": [
      "Finished round 22 with global loss: 0.13174 \n",
      "\n",
      "Beginning round 23\n",
      "\tWorker: 0344 \tlocal loss: 0.09\n"
     ]
    },
    {
     "name": "stderr",
     "output_type": "stream",
     "text": [
      "\r",
      " 77%|███████▋  | 23/30 [05:55<01:46, 15.22s/it]"
     ]
    },
    {
     "name": "stdout",
     "output_type": "stream",
     "text": [
      "Finished round 23 with global loss: 0.10916 \n",
      "\n",
      "Beginning round 24\n",
      "\tWorker: 0344 \tlocal loss: 0.05\n"
     ]
    },
    {
     "name": "stderr",
     "output_type": "stream",
     "text": [
      "\r",
      " 80%|████████  | 24/30 [06:12<01:34, 15.78s/it]"
     ]
    },
    {
     "name": "stdout",
     "output_type": "stream",
     "text": [
      "Finished round 24 with global loss: 0.10179 \n",
      "\n",
      "Beginning round 25\n",
      "\tWorker: 0344 \tlocal loss: 0.08\n"
     ]
    },
    {
     "name": "stderr",
     "output_type": "stream",
     "text": [
      "\r",
      " 83%|████████▎ | 25/30 [06:28<01:20, 16.03s/it]"
     ]
    },
    {
     "name": "stdout",
     "output_type": "stream",
     "text": [
      "Finished round 25 with global loss: 0.10931 \n",
      "\n",
      "Beginning round 26\n",
      "\tWorker: 0344 \tlocal loss: 0.11\n"
     ]
    },
    {
     "name": "stderr",
     "output_type": "stream",
     "text": [
      "\r",
      " 87%|████████▋ | 26/30 [06:45<01:04, 16.09s/it]"
     ]
    },
    {
     "name": "stdout",
     "output_type": "stream",
     "text": [
      "Finished round 26 with global loss: 0.11778 \n",
      "\n",
      "Beginning round 27\n",
      "\tWorker: 0344 \tlocal loss: 0.06\n"
     ]
    },
    {
     "name": "stderr",
     "output_type": "stream",
     "text": [
      "\r",
      " 90%|█████████ | 27/30 [07:04<00:50, 16.90s/it]"
     ]
    },
    {
     "name": "stdout",
     "output_type": "stream",
     "text": [
      "Finished round 27 with global loss: 0.10362 \n",
      "\n",
      "Beginning round 28\n",
      "\tWorker: 0344 \tlocal loss: 0.12\n"
     ]
    },
    {
     "name": "stderr",
     "output_type": "stream",
     "text": [
      "\r",
      " 93%|█████████▎| 28/30 [07:18<00:32, 16.27s/it]"
     ]
    },
    {
     "name": "stdout",
     "output_type": "stream",
     "text": [
      "Finished round 28 with global loss: 0.09453 \n",
      "\n",
      "Beginning round 29\n",
      "\tWorker: 0344 \tlocal loss: 0.10\n"
     ]
    },
    {
     "name": "stderr",
     "output_type": "stream",
     "text": [
      "\r",
      " 97%|█████████▋| 29/30 [07:34<00:15, 15.95s/it]"
     ]
    },
    {
     "name": "stdout",
     "output_type": "stream",
     "text": [
      "Finished round 29 with global loss: 0.10627 \n",
      "\n",
      "Beginning round 30\n",
      "\tWorker: 0344 \tlocal loss: 0.11\n"
     ]
    },
    {
     "name": "stderr",
     "output_type": "stream",
     "text": [
      "\r",
      "100%|██████████| 30/30 [07:49<00:00, 15.77s/it]"
     ]
    },
    {
     "name": "stdout",
     "output_type": "stream",
     "text": [
      "Finished round 30 with global loss: 0.08750 \n",
      "\n",
      "Federated Training Time: 469.38\n"
     ]
    },
    {
     "name": "stderr",
     "output_type": "stream",
     "text": [
      "\n"
     ]
    }
   ],
   "source": [
    "from tqdm import tqdm\n",
    "\n",
    "print(\"Training\", num_rounds, \"round(s) with\", default_manager.n_workers, \"worker(s) doing\", num_epochs, \"epoch(s) per round.\\n\" )\n",
    "\n",
    "training_start_time = time.time()\n",
    "\n",
    "for i in tqdm(range(num_rounds)):\n",
    "    print(\"Beginning round\", i+1)\n",
    "    default_manager.round()\n",
    "    print(\"Finished round\", i+1, \"with global loss: %.5f\" % default_manager.manager_loss_history[-1], \"\\n\")\n",
    "\n",
    "run_data['Federated Training Time'] = time.time() - training_start_time\n",
    "#run_data['Manager Loss History'] = default_manager.manager_loss_history\n",
    "#run_data['Worker Loss Histories'] = default_manager.worker_loss_histories\n",
    "run_data['Final Global Loss'] = default_manager.manager_loss_history[-1]\n",
    "\n",
    "print('Federated Training Time: %.2f' % run_data['Federated Training Time'])"
   ]
  },
  {
   "cell_type": "code",
   "execution_count": 8,
   "metadata": {},
   "outputs": [
    {
     "data": {
      "image/png": "[encoded data removed]",
      "text/plain": [
       "<Figure size 1152x648 with 1 Axes>"
      ]
     },
     "metadata": {
      "needs_background": "light"
     },
     "output_type": "display_data"
    }
   ],
   "source": [
    "%matplotlib inline\n",
    "import matplotlib.pyplot as plt\n",
    "\n",
    "fig_default, ax_default = plt.subplots(figsize=(16, 9))\n",
    "# loss of global model on test set gets recorded twice per round\n",
    "# [1::2] skips the record that takes place before that round's training has happened\n",
    "ax_default.plot(default_manager.manager_loss_history[1::2], label=\"Global Loss\", )\n",
    "ax_default.set_xlabel(\"Round\")\n",
    "ax_default.set_ylabel(\"Loss\")\n",
    "ax_default.legend();"
   ]
  },
  {
   "cell_type": "markdown",
   "metadata": {},
   "source": [
    "# The Federated Approach\n",
    "\n",
    "Now that we have a baseline using the traditional approach. we perform the same task using the federated learning approach."
   ]
  },
  {
   "cell_type": "markdown",
   "metadata": {},
   "source": [
    "## Splitting the Deck Into Piles\n",
    "\n",
    "To illustrate federated learning we use several workers, each representing a device in the field. For now, we'll assume our workers are exposed to similar types and amounts of data, say, a thermostat reporting temperature and humidity every ten minutes. The analog here in MNIST is a subset of training examples for each worker. Here, we'll use ten workers. Our `pytorch` implementation will create a training `DataLoader` for each worker (and we we'll leave the test `DataLoader` as it is in the raw MNIST `Dataset`."
   ]
  },
  {
   "cell_type": "code",
   "execution_count": 9,
   "metadata": {},
   "outputs": [
    {
     "name": "stderr",
     "output_type": "stream",
     "text": [
      "100%|██████████| 10/10 [00:00<00:00, 9228.39it/s]\n"
     ]
    }
   ],
   "source": [
    "#from torch.utils.data import WeightedRandomSampler\n",
    "#whitmans_sampler = WeightedRandomSampler([0.2, 0.14, 0.19], 24, replacement=False)\n",
    "\n",
    "from torch.utils.data import RandomSampler\n",
    "\n",
    "num_workers = 10\n",
    "samples_per_worker = 6000\n",
    "fed_constant_n_dloaders = []\n",
    "\n",
    "fed_constant_n_sampler = RandomSampler(\n",
    "    data_source=train_dset,\n",
    "    replacement= True,\n",
    "    num_samples=samples_per_worker,\n",
    "    )\n",
    "\n",
    "for i in tqdm(range(num_workers)):\n",
    "    fed_constant_n_dloaders.append(DataLoader(\n",
    "        train_dset, \n",
    "        batch_size=batch_size, \n",
    "        sampler=fed_constant_n_sampler,\n",
    "    ))"
   ]
  },
  {
   "cell_type": "code",
   "execution_count": 10,
   "metadata": {},
   "outputs": [
    {
     "name": "stdout",
     "output_type": "stream",
     "text": [
      "Dataloader 0 sample count: 6000\n",
      "Dataloader 1 sample count: 6000\n",
      "Dataloader 2 sample count: 6000\n",
      "Dataloader 3 sample count: 6000\n",
      "Dataloader 4 sample count: 6000\n",
      "Dataloader 5 sample count: 6000\n",
      "Dataloader 6 sample count: 6000\n",
      "Dataloader 7 sample count: 6000\n",
      "Dataloader 8 sample count: 6000\n",
      "Dataloader 9 sample count: 6000\n"
     ]
    }
   ],
   "source": [
    "for i in range(len(fed_constant_n_dloaders)):\n",
    "    _, ybatches = list(zip(*fed_constant_n_dloaders[7]))\n",
    "    print('Dataloader', i, 'sample count:', len(torch.cat(ybatches)))"
   ]
  },
  {
   "cell_type": "code",
   "execution_count": 11,
   "metadata": {},
   "outputs": [
    {
     "name": "stderr",
     "output_type": "stream",
     "text": [
      "100%|██████████| 10/10 [00:11<00:00,  1.14s/it]\n"
     ]
    }
   ],
   "source": [
    "from collections import Counter\n",
    "import numpy as np\n",
    "\n",
    "hist_counts = []\n",
    "digit_counts = []\n",
    "for loader in tqdm(fed_constant_n_dloaders):\n",
    "    _, ybatches = list(zip(*loader))\n",
    "    ys = torch.cat(ybatches)\n",
    "    ys = [int(y) for y in ys]\n",
    "    hist_counts.append(ys)\n",
    "    \n",
    "    digits = sorted(Counter(ys).most_common())\n",
    "    _, digits = list(zip(*digits))\n",
    "    digit_counts.append(list(digits))\n",
    "\n",
    "digit_counts = [list(i) for i in zip(*digit_counts)]"
   ]
  },
  {
   "cell_type": "code",
   "execution_count": 12,
   "metadata": {},
   "outputs": [
    {
     "name": "stdout",
     "output_type": "stream",
     "text": [
      "[   [546, 584, 591, 607, 610, 593, 616, 619, 578, 600],\n",
      "    [681, 734, 695, 699, 662, 668, 634, 664, 681, 681],\n",
      "    [645, 594, 599, 641, 612, 597, 589, 608, 607, 615],\n",
      "    [583, 591, 598, 602, 617, 572, 611, 631, 649, 599],\n",
      "    [612, 608, 559, 604, 602, 602, 617, 551, 603, 578],\n",
      "    [567, 536, 536, 518, 549, 527, 526, 558, 532, 546],\n",
      "    [583, 590, 649, 584, 602, 583, 592, 602, 594, 551],\n",
      "    [630, 612, 613, 613, 597, 655, 623, 620, 623, 633],\n",
      "    [561, 589, 568, 545, 558, 624, 590, 588, 550, 574],\n",
      "    [592, 562, 592, 587, 591, 579, 602, 559, 583, 623]]\n",
      "<bound method MNIST.__len__ of Dataset MNIST\n",
      "    Number of datapoints: 60000\n",
      "    Split: train\n",
      "    Root Location: ./MNIST-data/raw\n",
      "    Transforms (if any): Compose(\n",
      "                             ToTensor()\n",
      "                             Normalize(mean=(0.5,), std=(1.0,))\n",
      "                         )\n",
      "    Target Transforms (if any): None>\n",
      "5944\n",
      "6799\n",
      "6107\n",
      "6053\n",
      "5936\n",
      "5395\n",
      "5930\n",
      "6219\n",
      "5747\n",
      "5870\n"
     ]
    }
   ],
   "source": [
    "import pprint\n",
    "pp = pprint.PrettyPrinter(indent=4)\n",
    "pp.pprint(digit_counts)\n",
    "\n",
    "print(fed_constant_n_dloaders[0].dataset.__len__)\n",
    "\n",
    "for i in range(len(fed_constant_n_dloaders)):\n",
    "    \n",
    "    print(sum(digit_counts[i]))\n",
    "    "
   ]
  },
  {
   "cell_type": "code",
   "execution_count": 13,
   "metadata": {},
   "outputs": [
    {
     "data": {
      "image/png": "[encoded data removed]",
      "text/plain": [
       "<Figure size 1080x360 with 1 Axes>"
      ]
     },
     "metadata": {
      "needs_background": "light"
     },
     "output_type": "display_data"
    }
   ],
   "source": [
    "fig, ax = plt.subplots(figsize=(15, 5))\n",
    "fig.suptitle('Digit Histogam')\n",
    "ax.xaxis.set_major_locator(plt.MultipleLocator(1))\n",
    "ax.set_ylabel('Digit Samples')\n",
    "ax.set_xlabel('Digits Grouped by Worker')\n",
    "H = ax.hist(hist_counts, bins=range(11), histtype='bar', align='left', rwidth=0.8)\n",
    "\n",
    "\n",
    "##TODO CONFIRM WHAT IM SEEING HERE"
   ]
  },
  {
   "cell_type": "markdown",
   "metadata": {},
   "source": [
    "So we can see that each of our ten workers has about the same number of each digit. I.e. worker 4 has about the same number of samples of `6`s as `9`s as `0`s."
   ]
  },
  {
   "cell_type": "code",
   "execution_count": 14,
   "metadata": {},
   "outputs": [],
   "source": [
    "import federated\n",
    "\n",
    "run_data['Learning Rate'] = learning_rate = 5e-2\n",
    "run_data['Epochs per Round'] = num_epochs = 1\n",
    "run_data['Federated Training Rounds'] = num_rounds = 30\n",
    "\n",
    "fed_constant_n_manager = federated.FederatedManager(\n",
    "    fed_constant_n_dloaders,\n",
    "    MLPNet,\n",
    "    nn.CrossEntropyLoss(),\n",
    "    learning_rate,\n",
    "    test_dset,\n",
    "    num_epochs\n",
    ")"
   ]
  },
  {
   "cell_type": "code",
   "execution_count": 15,
   "metadata": {},
   "outputs": [
    {
     "name": "stderr",
     "output_type": "stream",
     "text": [
      "\r",
      "  0%|          | 0/30 [00:00<?, ?it/s]"
     ]
    },
    {
     "name": "stdout",
     "output_type": "stream",
     "text": [
      "Training 30 round(s) with 10 worker(s) doing 1 epoch(s) per round.\n",
      "\n",
      "Beginning round 1\n",
      "\tWorker: 2616 \tlocal loss: 2.22\n",
      "\tWorker: 4856 \tlocal loss: 2.22\n",
      "\tWorker: 0856 \tlocal loss: 2.23\n",
      "\tWorker: 3976 \tlocal loss: 2.22\n",
      "\tWorker: 3304 \tlocal loss: 2.22\n",
      "\tWorker: 5144 \tlocal loss: 2.22\n",
      "\tWorker: 8392 \tlocal loss: 2.23\n",
      "\tWorker: 7552 \tlocal loss: 2.22\n",
      "\tWorker: 5760 \tlocal loss: 2.20\n",
      "\tWorker: 9120 \tlocal loss: 2.23\n"
     ]
    },
    {
     "name": "stderr",
     "output_type": "stream",
     "text": [
      "\r",
      "  3%|▎         | 1/30 [00:17<08:40, 17.96s/it]"
     ]
    },
    {
     "name": "stdout",
     "output_type": "stream",
     "text": [
      "Finished round 1 with global loss: 2.21626 \n",
      "\n",
      "Beginning round 2\n",
      "\tWorker: 2616 \tlocal loss: 2.08\n",
      "\tWorker: 4856 \tlocal loss: 2.10\n",
      "\tWorker: 0856 \tlocal loss: 2.12\n",
      "\tWorker: 3976 \tlocal loss: 2.08\n",
      "\tWorker: 3304 \tlocal loss: 2.05\n",
      "\tWorker: 5144 \tlocal loss: 2.10\n",
      "\tWorker: 8392 \tlocal loss: 2.10\n",
      "\tWorker: 7552 \tlocal loss: 2.06\n",
      "\tWorker: 5760 \tlocal loss: 2.12\n",
      "\tWorker: 9120 \tlocal loss: 2.08\n"
     ]
    },
    {
     "name": "stderr",
     "output_type": "stream",
     "text": [
      "\r",
      "  7%|▋         | 2/30 [00:35<08:19, 17.85s/it]"
     ]
    },
    {
     "name": "stdout",
     "output_type": "stream",
     "text": [
      "Finished round 2 with global loss: 2.07727 \n",
      "\n",
      "Beginning round 3\n",
      "\tWorker: 2616 \tlocal loss: 1.84\n",
      "\tWorker: 4856 \tlocal loss: 1.86\n",
      "\tWorker: 0856 \tlocal loss: 1.83\n",
      "\tWorker: 3976 \tlocal loss: 1.82\n",
      "\tWorker: 3304 \tlocal loss: 1.82\n",
      "\tWorker: 5144 \tlocal loss: 1.77\n",
      "\tWorker: 8392 \tlocal loss: 1.85\n",
      "\tWorker: 7552 \tlocal loss: 1.81\n",
      "\tWorker: 5760 \tlocal loss: 1.84\n",
      "\tWorker: 9120 \tlocal loss: 1.85\n"
     ]
    },
    {
     "name": "stderr",
     "output_type": "stream",
     "text": [
      "\r",
      " 10%|█         | 3/30 [00:55<08:20, 18.55s/it]"
     ]
    },
    {
     "name": "stdout",
     "output_type": "stream",
     "text": [
      "Finished round 3 with global loss: 1.80628 \n",
      "\n",
      "Beginning round 4\n",
      "\tWorker: 2616 \tlocal loss: 1.46\n",
      "\tWorker: 4856 \tlocal loss: 1.48\n",
      "\tWorker: 0856 \tlocal loss: 1.44\n",
      "\tWorker: 3976 \tlocal loss: 1.42\n",
      "\tWorker: 3304 \tlocal loss: 1.46\n",
      "\tWorker: 5144 \tlocal loss: 1.41\n",
      "\tWorker: 8392 \tlocal loss: 1.45\n",
      "\tWorker: 7552 \tlocal loss: 1.42\n",
      "\tWorker: 5760 \tlocal loss: 1.42\n",
      "\tWorker: 9120 \tlocal loss: 1.44\n"
     ]
    },
    {
     "name": "stderr",
     "output_type": "stream",
     "text": [
      "\r",
      " 13%|█▎        | 4/30 [01:13<07:53, 18.23s/it]"
     ]
    },
    {
     "name": "stdout",
     "output_type": "stream",
     "text": [
      "Finished round 4 with global loss: 1.40529 \n",
      "\n",
      "Beginning round 5\n",
      "\tWorker: 2616 \tlocal loss: 1.07\n",
      "\tWorker: 4856 \tlocal loss: 1.07\n",
      "\tWorker: 0856 \tlocal loss: 1.13\n",
      "\tWorker: 3976 \tlocal loss: 1.15\n",
      "\tWorker: 3304 \tlocal loss: 1.15\n",
      "\tWorker: 5144 \tlocal loss: 1.04\n",
      "\tWorker: 8392 \tlocal loss: 1.09\n",
      "\tWorker: 7552 \tlocal loss: 1.03\n",
      "\tWorker: 5760 \tlocal loss: 1.11\n",
      "\tWorker: 9120 \tlocal loss: 1.22\n"
     ]
    },
    {
     "name": "stderr",
     "output_type": "stream",
     "text": [
      "\r",
      " 17%|█▋        | 5/30 [01:30<07:32, 18.09s/it]"
     ]
    },
    {
     "name": "stdout",
     "output_type": "stream",
     "text": [
      "Finished round 5 with global loss: 1.06042 \n",
      "\n",
      "Beginning round 6\n",
      "\tWorker: 2616 \tlocal loss: 0.89\n",
      "\tWorker: 4856 \tlocal loss: 0.91\n",
      "\tWorker: 0856 \tlocal loss: 1.02\n",
      "\tWorker: 3976 \tlocal loss: 0.92\n",
      "\tWorker: 3304 \tlocal loss: 0.85\n",
      "\tWorker: 5144 \tlocal loss: 0.82\n",
      "\tWorker: 8392 \tlocal loss: 0.81\n",
      "\tWorker: 7552 \tlocal loss: 0.75\n",
      "\tWorker: 5760 \tlocal loss: 0.91\n",
      "\tWorker: 9120 \tlocal loss: 0.82\n"
     ]
    },
    {
     "name": "stderr",
     "output_type": "stream",
     "text": [
      "\r",
      " 20%|██        | 6/30 [01:48<07:12, 18.00s/it]"
     ]
    },
    {
     "name": "stdout",
     "output_type": "stream",
     "text": [
      "Finished round 6 with global loss: 0.83894 \n",
      "\n",
      "Beginning round 7\n",
      "\tWorker: 2616 \tlocal loss: 0.65\n",
      "\tWorker: 4856 \tlocal loss: 0.84\n",
      "\tWorker: 0856 \tlocal loss: 0.76\n",
      "\tWorker: 3976 \tlocal loss: 0.74\n",
      "\tWorker: 3304 \tlocal loss: 0.70\n",
      "\tWorker: 5144 \tlocal loss: 0.61\n",
      "\tWorker: 8392 \tlocal loss: 0.83\n",
      "\tWorker: 7552 \tlocal loss: 0.68\n",
      "\tWorker: 5760 \tlocal loss: 0.67\n",
      "\tWorker: 9120 \tlocal loss: 0.78\n"
     ]
    },
    {
     "name": "stderr",
     "output_type": "stream",
     "text": [
      "\r",
      " 23%|██▎       | 7/30 [02:07<06:55, 18.07s/it]"
     ]
    },
    {
     "name": "stdout",
     "output_type": "stream",
     "text": [
      "Finished round 7 with global loss: 0.70038 \n",
      "\n",
      "Beginning round 8\n",
      "\tWorker: 2616 \tlocal loss: 0.59\n",
      "\tWorker: 4856 \tlocal loss: 0.63\n",
      "\tWorker: 0856 \tlocal loss: 0.57\n",
      "\tWorker: 3976 \tlocal loss: 0.64\n",
      "\tWorker: 3304 \tlocal loss: 0.56\n",
      "\tWorker: 5144 \tlocal loss: 0.65\n",
      "\tWorker: 8392 \tlocal loss: 0.65\n",
      "\tWorker: 7552 \tlocal loss: 0.72\n",
      "\tWorker: 5760 \tlocal loss: 0.70\n",
      "\tWorker: 9120 \tlocal loss: 0.74\n"
     ]
    },
    {
     "name": "stderr",
     "output_type": "stream",
     "text": [
      "\r",
      " 27%|██▋       | 8/30 [02:24<06:36, 18.02s/it]"
     ]
    },
    {
     "name": "stdout",
     "output_type": "stream",
     "text": [
      "Finished round 8 with global loss: 0.60996 \n",
      "\n",
      "Beginning round 9\n",
      "\tWorker: 2616 \tlocal loss: 0.71\n",
      "\tWorker: 4856 \tlocal loss: 0.60\n",
      "\tWorker: 0856 \tlocal loss: 0.73\n",
      "\tWorker: 3976 \tlocal loss: 0.64\n",
      "\tWorker: 3304 \tlocal loss: 0.59\n",
      "\tWorker: 5144 \tlocal loss: 0.54\n",
      "\tWorker: 8392 \tlocal loss: 0.43\n",
      "\tWorker: 7552 \tlocal loss: 0.48\n",
      "\tWorker: 5760 \tlocal loss: 0.67\n",
      "\tWorker: 9120 \tlocal loss: 0.55\n"
     ]
    },
    {
     "name": "stderr",
     "output_type": "stream",
     "text": [
      "\r",
      " 30%|███       | 9/30 [02:43<06:22, 18.23s/it]"
     ]
    },
    {
     "name": "stdout",
     "output_type": "stream",
     "text": [
      "Finished round 9 with global loss: 0.54909 \n",
      "\n",
      "Beginning round 10\n",
      "\tWorker: 2616 \tlocal loss: 0.41\n",
      "\tWorker: 4856 \tlocal loss: 0.56\n",
      "\tWorker: 0856 \tlocal loss: 0.67\n",
      "\tWorker: 3976 \tlocal loss: 0.46\n",
      "\tWorker: 3304 \tlocal loss: 0.48\n",
      "\tWorker: 5144 \tlocal loss: 0.49\n",
      "\tWorker: 8392 \tlocal loss: 0.61\n",
      "\tWorker: 7552 \tlocal loss: 0.46\n",
      "\tWorker: 5760 \tlocal loss: 0.58\n",
      "\tWorker: 9120 \tlocal loss: 0.64\n"
     ]
    },
    {
     "name": "stderr",
     "output_type": "stream",
     "text": [
      "\r",
      " 33%|███▎      | 10/30 [03:02<06:11, 18.57s/it]"
     ]
    },
    {
     "name": "stdout",
     "output_type": "stream",
     "text": [
      "Finished round 10 with global loss: 0.50694 \n",
      "\n",
      "Beginning round 11\n",
      "\tWorker: 2616 \tlocal loss: 0.60\n",
      "\tWorker: 4856 \tlocal loss: 0.40\n",
      "\tWorker: 0856 \tlocal loss: 0.61\n",
      "\tWorker: 3976 \tlocal loss: 0.39\n",
      "\tWorker: 3304 \tlocal loss: 0.60\n",
      "\tWorker: 5144 \tlocal loss: 0.46\n",
      "\tWorker: 8392 \tlocal loss: 0.56\n",
      "\tWorker: 7552 \tlocal loss: 0.50\n",
      "\tWorker: 5760 \tlocal loss: 0.63\n",
      "\tWorker: 9120 \tlocal loss: 0.66\n"
     ]
    },
    {
     "name": "stderr",
     "output_type": "stream",
     "text": [
      "\r",
      " 37%|███▋      | 11/30 [03:20<05:47, 18.27s/it]"
     ]
    },
    {
     "name": "stdout",
     "output_type": "stream",
     "text": [
      "Finished round 11 with global loss: 0.47146 \n",
      "\n",
      "Beginning round 12\n",
      "\tWorker: 2616 \tlocal loss: 0.45\n",
      "\tWorker: 4856 \tlocal loss: 0.44\n",
      "\tWorker: 0856 \tlocal loss: 0.41\n",
      "\tWorker: 3976 \tlocal loss: 0.64\n",
      "\tWorker: 3304 \tlocal loss: 0.44\n",
      "\tWorker: 5144 \tlocal loss: 0.41\n",
      "\tWorker: 8392 \tlocal loss: 0.53\n",
      "\tWorker: 7552 \tlocal loss: 0.39\n",
      "\tWorker: 5760 \tlocal loss: 0.42\n",
      "\tWorker: 9120 \tlocal loss: 0.45\n"
     ]
    },
    {
     "name": "stderr",
     "output_type": "stream",
     "text": [
      "\r",
      " 40%|████      | 12/30 [03:38<05:26, 18.13s/it]"
     ]
    },
    {
     "name": "stdout",
     "output_type": "stream",
     "text": [
      "Finished round 12 with global loss: 0.44821 \n",
      "\n",
      "Beginning round 13\n",
      "\tWorker: 2616 \tlocal loss: 0.36\n",
      "\tWorker: 4856 \tlocal loss: 0.37\n",
      "\tWorker: 0856 \tlocal loss: 0.55\n",
      "\tWorker: 3976 \tlocal loss: 0.52\n",
      "\tWorker: 3304 \tlocal loss: 0.48\n",
      "\tWorker: 5144 \tlocal loss: 0.42\n",
      "\tWorker: 8392 \tlocal loss: 0.47\n",
      "\tWorker: 7552 \tlocal loss: 0.39\n",
      "\tWorker: 5760 \tlocal loss: 0.36\n",
      "\tWorker: 9120 \tlocal loss: 0.43\n"
     ]
    },
    {
     "name": "stderr",
     "output_type": "stream",
     "text": [
      "\r",
      " 43%|████▎     | 13/30 [03:56<05:05, 17.98s/it]"
     ]
    },
    {
     "name": "stdout",
     "output_type": "stream",
     "text": [
      "Finished round 13 with global loss: 0.42984 \n",
      "\n",
      "Beginning round 14\n",
      "\tWorker: 2616 \tlocal loss: 0.49\n",
      "\tWorker: 4856 \tlocal loss: 0.41\n",
      "\tWorker: 0856 \tlocal loss: 0.44\n",
      "\tWorker: 3976 \tlocal loss: 0.51\n",
      "\tWorker: 3304 \tlocal loss: 0.49\n",
      "\tWorker: 5144 \tlocal loss: 0.42\n",
      "\tWorker: 8392 \tlocal loss: 0.47\n",
      "\tWorker: 7552 \tlocal loss: 0.34\n",
      "\tWorker: 5760 \tlocal loss: 0.51\n",
      "\tWorker: 9120 \tlocal loss: 0.43\n"
     ]
    },
    {
     "name": "stderr",
     "output_type": "stream",
     "text": [
      "\r",
      " 47%|████▋     | 14/30 [04:13<04:44, 17.80s/it]"
     ]
    },
    {
     "name": "stdout",
     "output_type": "stream",
     "text": [
      "Finished round 14 with global loss: 0.41403 \n",
      "\n",
      "Beginning round 15\n",
      "\tWorker: 2616 \tlocal loss: 0.45\n",
      "\tWorker: 4856 \tlocal loss: 0.39\n",
      "\tWorker: 0856 \tlocal loss: 0.41\n",
      "\tWorker: 3976 \tlocal loss: 0.45\n",
      "\tWorker: 3304 \tlocal loss: 0.49\n",
      "\tWorker: 5144 \tlocal loss: 0.26\n",
      "\tWorker: 8392 \tlocal loss: 0.34\n",
      "\tWorker: 7552 \tlocal loss: 0.65\n",
      "\tWorker: 5760 \tlocal loss: 0.41\n",
      "\tWorker: 9120 \tlocal loss: 0.34\n"
     ]
    },
    {
     "name": "stderr",
     "output_type": "stream",
     "text": [
      "\r",
      " 50%|█████     | 15/30 [04:31<04:28, 17.88s/it]"
     ]
    },
    {
     "name": "stdout",
     "output_type": "stream",
     "text": [
      "Finished round 15 with global loss: 0.40041 \n",
      "\n",
      "Beginning round 16\n",
      "\tWorker: 2616 \tlocal loss: 0.35\n",
      "\tWorker: 4856 \tlocal loss: 0.37\n",
      "\tWorker: 0856 \tlocal loss: 0.40\n",
      "\tWorker: 3976 \tlocal loss: 0.43\n",
      "\tWorker: 3304 \tlocal loss: 0.32\n",
      "\tWorker: 5144 \tlocal loss: 0.38\n",
      "\tWorker: 8392 \tlocal loss: 0.47\n",
      "\tWorker: 7552 \tlocal loss: 0.59\n",
      "\tWorker: 5760 \tlocal loss: 0.44\n",
      "\tWorker: 9120 \tlocal loss: 0.37\n"
     ]
    },
    {
     "name": "stderr",
     "output_type": "stream",
     "text": [
      "\r",
      " 53%|█████▎    | 16/30 [04:51<04:20, 18.59s/it]"
     ]
    },
    {
     "name": "stdout",
     "output_type": "stream",
     "text": [
      "Finished round 16 with global loss: 0.38888 \n",
      "\n",
      "Beginning round 17\n",
      "\tWorker: 2616 \tlocal loss: 0.41\n",
      "\tWorker: 4856 \tlocal loss: 0.49\n",
      "\tWorker: 0856 \tlocal loss: 0.39\n",
      "\tWorker: 3976 \tlocal loss: 0.41\n",
      "\tWorker: 3304 \tlocal loss: 0.47\n",
      "\tWorker: 5144 \tlocal loss: 0.24\n",
      "\tWorker: 8392 \tlocal loss: 0.47\n",
      "\tWorker: 7552 \tlocal loss: 0.39\n",
      "\tWorker: 5760 \tlocal loss: 0.52\n",
      "\tWorker: 9120 \tlocal loss: 0.41\n"
     ]
    },
    {
     "name": "stderr",
     "output_type": "stream",
     "text": [
      "\r",
      " 57%|█████▋    | 17/30 [05:09<03:58, 18.33s/it]"
     ]
    },
    {
     "name": "stdout",
     "output_type": "stream",
     "text": [
      "Finished round 17 with global loss: 0.37640 \n",
      "\n",
      "Beginning round 18\n",
      "\tWorker: 2616 \tlocal loss: 0.42\n",
      "\tWorker: 4856 \tlocal loss: 0.32\n",
      "\tWorker: 0856 \tlocal loss: 0.37\n",
      "\tWorker: 3976 \tlocal loss: 0.35\n",
      "\tWorker: 3304 \tlocal loss: 0.37\n",
      "\tWorker: 5144 \tlocal loss: 0.32\n",
      "\tWorker: 8392 \tlocal loss: 0.30\n",
      "\tWorker: 7552 \tlocal loss: 0.40\n",
      "\tWorker: 5760 \tlocal loss: 0.29\n",
      "\tWorker: 9120 \tlocal loss: 0.38\n"
     ]
    },
    {
     "name": "stderr",
     "output_type": "stream",
     "text": [
      "\r",
      " 60%|██████    | 18/30 [05:27<03:38, 18.24s/it]"
     ]
    },
    {
     "name": "stdout",
     "output_type": "stream",
     "text": [
      "Finished round 18 with global loss: 0.36737 \n",
      "\n",
      "Beginning round 19\n",
      "\tWorker: 2616 \tlocal loss: 0.39\n",
      "\tWorker: 4856 \tlocal loss: 0.35\n",
      "\tWorker: 0856 \tlocal loss: 0.47\n",
      "\tWorker: 3976 \tlocal loss: 0.36\n",
      "\tWorker: 3304 \tlocal loss: 0.26\n",
      "\tWorker: 5144 \tlocal loss: 0.39\n",
      "\tWorker: 8392 \tlocal loss: 0.52\n",
      "\tWorker: 7552 \tlocal loss: 0.35\n",
      "\tWorker: 5760 \tlocal loss: 0.46\n",
      "\tWorker: 9120 \tlocal loss: 0.34\n"
     ]
    },
    {
     "name": "stderr",
     "output_type": "stream",
     "text": [
      "\r",
      " 63%|██████▎   | 19/30 [05:45<03:18, 18.04s/it]"
     ]
    },
    {
     "name": "stdout",
     "output_type": "stream",
     "text": [
      "Finished round 19 with global loss: 0.35893 \n",
      "\n",
      "Beginning round 20\n",
      "\tWorker: 2616 \tlocal loss: 0.42\n",
      "\tWorker: 4856 \tlocal loss: 0.48\n",
      "\tWorker: 0856 \tlocal loss: 0.38\n",
      "\tWorker: 3976 \tlocal loss: 0.39\n",
      "\tWorker: 3304 \tlocal loss: 0.30\n",
      "\tWorker: 5144 \tlocal loss: 0.33\n",
      "\tWorker: 8392 \tlocal loss: 0.41\n",
      "\tWorker: 7552 \tlocal loss: 0.37\n",
      "\tWorker: 5760 \tlocal loss: 0.33\n",
      "\tWorker: 9120 \tlocal loss: 0.37\n"
     ]
    },
    {
     "name": "stderr",
     "output_type": "stream",
     "text": [
      "\r",
      " 67%|██████▋   | 20/30 [06:02<02:59, 17.90s/it]"
     ]
    },
    {
     "name": "stdout",
     "output_type": "stream",
     "text": [
      "Finished round 20 with global loss: 0.35574 \n",
      "\n",
      "Beginning round 21\n",
      "\tWorker: 2616 \tlocal loss: 0.28\n",
      "\tWorker: 4856 \tlocal loss: 0.36\n",
      "\tWorker: 0856 \tlocal loss: 0.47\n",
      "\tWorker: 3976 \tlocal loss: 0.33\n",
      "\tWorker: 3304 \tlocal loss: 0.38\n",
      "\tWorker: 5144 \tlocal loss: 0.41\n",
      "\tWorker: 8392 \tlocal loss: 0.31\n",
      "\tWorker: 7552 \tlocal loss: 0.39\n",
      "\tWorker: 5760 \tlocal loss: 0.28\n",
      "\tWorker: 9120 \tlocal loss: 0.25\n"
     ]
    },
    {
     "name": "stderr",
     "output_type": "stream",
     "text": [
      "\r",
      " 70%|███████   | 21/30 [06:23<02:49, 18.79s/it]"
     ]
    },
    {
     "name": "stdout",
     "output_type": "stream",
     "text": [
      "Finished round 21 with global loss: 0.34921 \n",
      "\n",
      "Beginning round 22\n",
      "\tWorker: 2616 \tlocal loss: 0.32\n",
      "\tWorker: 4856 \tlocal loss: 0.44\n",
      "\tWorker: 0856 \tlocal loss: 0.33\n",
      "\tWorker: 3976 \tlocal loss: 0.23\n",
      "\tWorker: 3304 \tlocal loss: 0.34\n",
      "\tWorker: 5144 \tlocal loss: 0.30\n",
      "\tWorker: 8392 \tlocal loss: 0.37\n",
      "\tWorker: 7552 \tlocal loss: 0.40\n",
      "\tWorker: 5760 \tlocal loss: 0.44\n",
      "\tWorker: 9120 \tlocal loss: 0.27\n"
     ]
    },
    {
     "name": "stderr",
     "output_type": "stream",
     "text": [
      "\r",
      " 73%|███████▎  | 22/30 [06:44<02:36, 19.57s/it]"
     ]
    },
    {
     "name": "stdout",
     "output_type": "stream",
     "text": [
      "Finished round 22 with global loss: 0.34271 \n",
      "\n",
      "Beginning round 23\n",
      "\tWorker: 2616 \tlocal loss: 0.38\n",
      "\tWorker: 4856 \tlocal loss: 0.31\n",
      "\tWorker: 0856 \tlocal loss: 0.44\n",
      "\tWorker: 3976 \tlocal loss: 0.44\n",
      "\tWorker: 3304 \tlocal loss: 0.29\n",
      "\tWorker: 5144 \tlocal loss: 0.33\n",
      "\tWorker: 8392 \tlocal loss: 0.33\n",
      "\tWorker: 7552 \tlocal loss: 0.37\n",
      "\tWorker: 5760 \tlocal loss: 0.39\n",
      "\tWorker: 9120 \tlocal loss: 0.29\n"
     ]
    },
    {
     "name": "stderr",
     "output_type": "stream",
     "text": [
      "\r",
      " 77%|███████▋  | 23/30 [07:04<02:16, 19.46s/it]"
     ]
    },
    {
     "name": "stdout",
     "output_type": "stream",
     "text": [
      "Finished round 23 with global loss: 0.33768 \n",
      "\n",
      "Beginning round 24\n",
      "\tWorker: 2616 \tlocal loss: 0.47\n",
      "\tWorker: 4856 \tlocal loss: 0.34\n",
      "\tWorker: 0856 \tlocal loss: 0.34\n",
      "\tWorker: 3976 \tlocal loss: 0.40\n",
      "\tWorker: 3304 \tlocal loss: 0.33\n",
      "\tWorker: 5144 \tlocal loss: 0.33\n",
      "\tWorker: 8392 \tlocal loss: 0.30\n",
      "\tWorker: 7552 \tlocal loss: 0.31\n",
      "\tWorker: 5760 \tlocal loss: 0.46\n",
      "\tWorker: 9120 \tlocal loss: 0.62\n"
     ]
    },
    {
     "name": "stderr",
     "output_type": "stream",
     "text": [
      "\r",
      " 80%|████████  | 24/30 [07:22<01:55, 19.19s/it]"
     ]
    },
    {
     "name": "stdout",
     "output_type": "stream",
     "text": [
      "Finished round 24 with global loss: 0.33273 \n",
      "\n",
      "Beginning round 25\n",
      "\tWorker: 2616 \tlocal loss: 0.32\n",
      "\tWorker: 4856 \tlocal loss: 0.26\n",
      "\tWorker: 0856 \tlocal loss: 0.33\n",
      "\tWorker: 3976 \tlocal loss: 0.28\n",
      "\tWorker: 3304 \tlocal loss: 0.33\n",
      "\tWorker: 5144 \tlocal loss: 0.33\n",
      "\tWorker: 8392 \tlocal loss: 0.22\n",
      "\tWorker: 7552 \tlocal loss: 0.29\n",
      "\tWorker: 5760 \tlocal loss: 0.33\n",
      "\tWorker: 9120 \tlocal loss: 0.29\n"
     ]
    },
    {
     "name": "stderr",
     "output_type": "stream",
     "text": [
      "\r",
      " 83%|████████▎ | 25/30 [07:42<01:36, 19.33s/it]"
     ]
    },
    {
     "name": "stdout",
     "output_type": "stream",
     "text": [
      "Finished round 25 with global loss: 0.32870 \n",
      "\n",
      "Beginning round 26\n",
      "\tWorker: 2616 \tlocal loss: 0.55\n",
      "\tWorker: 4856 \tlocal loss: 0.38\n",
      "\tWorker: 0856 \tlocal loss: 0.41\n",
      "\tWorker: 3976 \tlocal loss: 0.38\n",
      "\tWorker: 3304 \tlocal loss: 0.37\n",
      "\tWorker: 5144 \tlocal loss: 0.29\n",
      "\tWorker: 8392 \tlocal loss: 0.33\n",
      "\tWorker: 7552 \tlocal loss: 0.41\n",
      "\tWorker: 5760 \tlocal loss: 0.27\n",
      "\tWorker: 9120 \tlocal loss: 0.33\n"
     ]
    },
    {
     "name": "stderr",
     "output_type": "stream",
     "text": [
      "\r",
      " 87%|████████▋ | 26/30 [08:02<01:18, 19.69s/it]"
     ]
    },
    {
     "name": "stdout",
     "output_type": "stream",
     "text": [
      "Finished round 26 with global loss: 0.32637 \n",
      "\n",
      "Beginning round 27\n",
      "\tWorker: 2616 \tlocal loss: 0.27\n",
      "\tWorker: 4856 \tlocal loss: 0.36\n",
      "\tWorker: 0856 \tlocal loss: 0.36\n",
      "\tWorker: 3976 \tlocal loss: 0.36\n",
      "\tWorker: 3304 \tlocal loss: 0.31\n",
      "\tWorker: 5144 \tlocal loss: 0.42\n",
      "\tWorker: 8392 \tlocal loss: 0.26\n",
      "\tWorker: 7552 \tlocal loss: 0.27\n",
      "\tWorker: 5760 \tlocal loss: 0.45\n",
      "\tWorker: 9120 \tlocal loss: 0.53\n"
     ]
    },
    {
     "name": "stderr",
     "output_type": "stream",
     "text": [
      "\r",
      " 90%|█████████ | 27/30 [08:21<00:58, 19.39s/it]"
     ]
    },
    {
     "name": "stdout",
     "output_type": "stream",
     "text": [
      "Finished round 27 with global loss: 0.32156 \n",
      "\n",
      "Beginning round 28\n",
      "\tWorker: 2616 \tlocal loss: 0.28\n",
      "\tWorker: 4856 \tlocal loss: 0.46\n",
      "\tWorker: 0856 \tlocal loss: 0.23\n",
      "\tWorker: 3976 \tlocal loss: 0.29\n",
      "\tWorker: 3304 \tlocal loss: 0.31\n",
      "\tWorker: 5144 \tlocal loss: 0.35\n",
      "\tWorker: 8392 \tlocal loss: 0.35\n",
      "\tWorker: 7552 \tlocal loss: 0.34\n",
      "\tWorker: 5760 \tlocal loss: 0.39\n",
      "\tWorker: 9120 \tlocal loss: 0.21\n"
     ]
    },
    {
     "name": "stderr",
     "output_type": "stream",
     "text": [
      "\r",
      " 93%|█████████▎| 28/30 [08:40<00:38, 19.17s/it]"
     ]
    },
    {
     "name": "stdout",
     "output_type": "stream",
     "text": [
      "Finished round 28 with global loss: 0.31848 \n",
      "\n",
      "Beginning round 29\n",
      "\tWorker: 2616 \tlocal loss: 0.38\n",
      "\tWorker: 4856 \tlocal loss: 0.28\n",
      "\tWorker: 0856 \tlocal loss: 0.57\n",
      "\tWorker: 3976 \tlocal loss: 0.44\n",
      "\tWorker: 3304 \tlocal loss: 0.35\n",
      "\tWorker: 5144 \tlocal loss: 0.34\n",
      "\tWorker: 8392 \tlocal loss: 0.55\n",
      "\tWorker: 7552 \tlocal loss: 0.32\n",
      "\tWorker: 5760 \tlocal loss: 0.28\n",
      "\tWorker: 9120 \tlocal loss: 0.42\n"
     ]
    },
    {
     "name": "stderr",
     "output_type": "stream",
     "text": [
      "\r",
      " 97%|█████████▋| 29/30 [09:03<00:20, 20.38s/it]"
     ]
    },
    {
     "name": "stdout",
     "output_type": "stream",
     "text": [
      "Finished round 29 with global loss: 0.31769 \n",
      "\n",
      "Beginning round 30\n",
      "\tWorker: 2616 \tlocal loss: 0.29\n",
      "\tWorker: 4856 \tlocal loss: 0.35\n",
      "\tWorker: 0856 \tlocal loss: 0.47\n",
      "\tWorker: 3976 \tlocal loss: 0.22\n",
      "\tWorker: 3304 \tlocal loss: 0.27\n",
      "\tWorker: 5144 \tlocal loss: 0.34\n",
      "\tWorker: 8392 \tlocal loss: 0.28\n",
      "\tWorker: 7552 \tlocal loss: 0.45\n",
      "\tWorker: 5760 \tlocal loss: 0.47\n",
      "\tWorker: 9120 \tlocal loss: 0.29\n"
     ]
    },
    {
     "name": "stderr",
     "output_type": "stream",
     "text": [
      "\r",
      "100%|██████████| 30/30 [09:22<00:00, 20.04s/it]"
     ]
    },
    {
     "name": "stdout",
     "output_type": "stream",
     "text": [
      "Finished round 30 with global loss: 0.31016 \n",
      "\n",
      "Federated Training Time: 562.60\n"
     ]
    },
    {
     "name": "stderr",
     "output_type": "stream",
     "text": [
      "\n"
     ]
    }
   ],
   "source": [
    "from tqdm import tqdm\n",
    "\n",
    "print(\"Training\", num_rounds, \"round(s) with\", fed_constant_n_manager.n_workers, \"worker(s) doing\", num_epochs, \"epoch(s) per round.\\n\" )\n",
    "\n",
    "training_start_time = time.time()\n",
    "\n",
    "for i in tqdm(range(num_rounds)):\n",
    "    print(\"Beginning round\", i+1)\n",
    "    fed_constant_n_manager.round()\n",
    "    print(\"Finished round\", i+1, \"with global loss: %.5f\" % fed_constant_n_manager.manager_loss_history[-1], \"\\n\")\n",
    "\n",
    "run_data['Federated Training Time'] = time.time() - training_start_time\n",
    "#run_data['Manager Loss History'] = default_manager.manager_loss_history\n",
    "#run_data['Worker Loss Histories'] = default_manager.worker_loss_histories\n",
    "run_data['Final Global Loss'] = fed_constant_n_manager.manager_loss_history[-1]\n",
    "\n",
    "print('Federated Training Time: %.2f' % run_data['Federated Training Time'])"
   ]
  },
  {
   "cell_type": "code",
   "execution_count": 24,
   "metadata": {},
   "outputs": [
    {
     "data": {
      "image/png": "[encoded data removed]",
      "text/plain": [
       "<Figure size 1152x648 with 1 Axes>"
      ]
     },
     "metadata": {
      "needs_background": "light"
     },
     "output_type": "display_data"
    }
   ],
   "source": [
    "%matplotlib inline\n",
    "import matplotlib.pyplot as plt\n",
    "\n",
    "fig_default, ax_default = plt.subplots(figsize=(16, 9))\n",
    "\n",
    "ax_default.plot(default_manager.manager_loss_history[1::2], label=\"Non-federated Loss\", )\n",
    "\n",
    "\n",
    "# loss of global model on test set gets recorded twice per round\n",
    "# [1::2] skips the record that takes place before that round's training has happened\n",
    "ax_default.plot(fed_constant_n_manager.manager_loss_history[1::2], label=\"Federated Loss\", )\n",
    "ax_default.set_xlabel(\"Federated Round\")\n",
    "ax_default.set_ylabel(\"Loss\")\n",
    "ax_default.legend();"
   ]
  },
  {
   "cell_type": "code",
   "execution_count": 28,
   "metadata": {},
   "outputs": [
    {
     "data": {
      "image/png": "[encoded data removed]",
      "text/plain": [
       "<Figure size 1152x648 with 1 Axes>"
      ]
     },
     "metadata": {
      "needs_background": "light"
     },
     "output_type": "display_data"
    }
   ],
   "source": [
    "fig, ax = plt.subplots(figsize=(16, 9))\n",
    "\n",
    "\n",
    "for i in range(len(fed_constant_n_manager.worker_loss_histories)):\n",
    "    ax.plot(fed_constant_n_manager.worker_loss_histories[i], label=('Worker ' + str(i)))\n",
    "\n",
    "# TODO: Align the global loss properly\n",
    "ax.plot(fed_constant_n_manager.manager_loss_history[1], label=\"Global Loss\", )\n",
    "\n",
    "    \n",
    "# TODO: Get these labels done properly - they should be aligned with the main \n",
    "ax.set_xticklabels([(i-1) for i in range(len(fed_constant_n_manager.worker_loss_histories))])\n",
    "ax.set_xlabel(\"Federated Round\")\n",
    "ax.set_ylabel(\"Loss\")\n",
    "ax.legend();"
   ]
  },
  {
   "cell_type": "code",
   "execution_count": null,
   "metadata": {},
   "outputs": [],
   "source": []
  },
  {
   "cell_type": "code",
   "execution_count": null,
   "metadata": {},
   "outputs": [],
   "source": []
  },
  {
   "cell_type": "code",
   "execution_count": null,
   "metadata": {},
   "outputs": [],
   "source": []
  },
  {
   "cell_type": "markdown",
   "metadata": {},
   "source": [
    "# Federation with Varying Example Counts\n",
    "\n",
    "Now we've seen federation work with a dataset scattered across a number of workers. And we saw that its performance isn't substantially different from the non-federated approach, while decentralizing the work of training and limiting the amount of data transfered between the main manager and the workers.\n",
    "\n",
    "But what if our workers don't have access to equal amounts of data? Let's explore that.\n",
    "\n",
    "## Spliting the Deck into Uneven Piles\n",
    "\n",
    "To test this, we need workers to have access to different numbers of training examples. So let's make a set of decks that gives each of our workers more or less training data than the others."
   ]
  },
  {
   "cell_type": "code",
   "execution_count": null,
   "metadata": {},
   "outputs": [],
   "source": []
  },
  {
   "cell_type": "code",
   "execution_count": null,
   "metadata": {},
   "outputs": [],
   "source": []
  },
  {
   "cell_type": "code",
   "execution_count": null,
   "metadata": {},
   "outputs": [],
   "source": []
  },
  {
   "cell_type": "code",
   "execution_count": null,
   "metadata": {},
   "outputs": [],
   "source": []
  },
  {
   "cell_type": "code",
   "execution_count": null,
   "metadata": {},
   "outputs": [],
   "source": []
  },
  {
   "cell_type": "markdown",
   "metadata": {},
   "source": [
    "# Conclusion\n",
    "TODO: WRAP UP THE BLOG POST HERE. EVERYTHING BELOW IS PART TWO OR THREE"
   ]
  },
  {
   "cell_type": "code",
   "execution_count": null,
   "metadata": {},
   "outputs": [],
   "source": []
  },
  {
   "cell_type": "code",
   "execution_count": null,
   "metadata": {},
   "outputs": [],
   "source": []
  },
  {
   "cell_type": "code",
   "execution_count": null,
   "metadata": {},
   "outputs": [],
   "source": []
  },
  {
   "cell_type": "markdown",
   "metadata": {},
   "source": [
    "# Blog Post Two\n",
    "\n",
    "In our last post [LINK HERE] we showed how to implement federated learning in pytorch. In this post we get one step more realistic about how federated learning would play out in real life.\n",
    "\n",
    "In federated learning, we expect that each of the workers captures and trains on somewhat different data. For example, my mobile phone will capture more songs in genres of music that I listen to, while your cell phone will reflect a different set of sings in different genres. Probably. If not, get out of my mind! [BENE GESSIRIT MOTHER IMAGE? SINGLE WHITE FEMALE IMAGE?] And there's likely a lot of overlap due to radios and clustering of popular songs.\n",
    "\n",
    "To reflect this kind of data distribution, we're going to skew the MNIST data to reflect that each worker sees a somewhat different subset of the training data."
   ]
  },
  {
   "cell_type": "code",
   "execution_count": null,
   "metadata": {},
   "outputs": [],
   "source": []
  },
  {
   "cell_type": "markdown",
   "metadata": {},
   "source": [
    "## Stacking the Deck (Skewing Data)\n",
    "\n",
    "We know the baseline data is pretty even across numerals. Now we need a way to \"stack the deck\" of examples that each worker sees. This method creates a dataset that is randomly sampled from a given dataset with the random sampling biased according to a dictionary of weights for each label."
   ]
  },
  {
   "cell_type": "code",
   "execution_count": null,
   "metadata": {},
   "outputs": [],
   "source": []
  },
  {
   "cell_type": "code",
   "execution_count": 18,
   "metadata": {},
   "outputs": [],
   "source": [
    "from torch.utils.data import WeightedRandomSampler\n",
    "\n",
    "def stacked_dset(dset, label_weights, N):\n",
    "    \"\"\"\n",
    "        dset: dataset\n",
    "        label_weights = {dog: 0.5, cat: 0.3, ...}\n",
    "        N: size of stacked dset\n",
    "        return: stacked WeightedRandomSampler\n",
    "    \"\"\"\n",
    "    weights = []\n",
    "    for data, label in dset:\n",
    "        weights.append(label_weights[label])\n",
    "\n",
    "#     for label in test_dset.targets:\n",
    "#         weights.append(label_weights[int(label)])\n",
    "# TODO / MLW : how to speed this up - currently takes about a minute to train ten stacked training sets\n",
    "    \n",
    "    return WeightedRandomSampler(weights, N, replacement=False)"
   ]
  },
  {
   "cell_type": "markdown",
   "metadata": {},
   "source": [
    "And this is where we get the dictionary of weights. For simplicity's sake, we just take a list of labels to be sampled \"normally\" and the rest are biased against. So, preserving `3`s and skewing everything else by a factor of 0.9 shoud get a set of weights that results in a dataset that is slightly heavy on `3`s compared to everything else. In an an extreme example, preserving only `3`s, with a skew of 0, will produce weights that will yield a dataset of only `3`s."
   ]
  },
  {
   "cell_type": "code",
   "execution_count": 19,
   "metadata": {},
   "outputs": [],
   "source": [
    "def skewed_weights(num_labels, labels_to_preserve, skew_bias):\n",
    "    \"\"\"\n",
    "        num_labels: number of labels to return (use 10 for MNIST)\n",
    "        labels_to_preserve: list of labels to preserve wih no skew \n",
    "        skew_bias: a float, 0 < bias < 1, to which non-selected labels will be biased down\n",
    "        return: dictionary of each label and its bias\n",
    "    \"\"\"\n",
    "    weights = {}\n",
    "    for label in range(num_labels):\n",
    "        if label in labels_to_preserve:\n",
    "            weights[label] = 1\n",
    "        else:\n",
    "            weights[label] = skew_bias\n",
    "    \n",
    "    return weights"
   ]
  },
  {
   "cell_type": "markdown",
   "metadata": {},
   "source": [
    "### "
   ]
  },
  {
   "cell_type": "markdown",
   "metadata": {},
   "source": [
    "Here we do the sampling to create our skewed datasets."
   ]
  },
  {
   "cell_type": "code",
   "execution_count": 20,
   "metadata": {
    "scrolled": true
   },
   "outputs": [
    {
     "name": "stderr",
     "output_type": "stream",
     "text": [
      "100%|██████████| 1/1 [00:11<00:00, 11.39s/it]"
     ]
    },
    {
     "name": "stdout",
     "output_type": "stream",
     "text": [
      "Stacking Time: 11.39\n",
      "Stacking Time per Loader: 11.39\n"
     ]
    },
    {
     "name": "stderr",
     "output_type": "stream",
     "text": [
      "\n"
     ]
    }
   ],
   "source": [
    "# create stacked loaders for the workers\n",
    "\n",
    "run_data['Skew Bias'] = skew_bias = 1\n",
    "run_data['Examples Per Skewed Loader'] = loader_size = 60000\n",
    "run_data['Number of Workers'] = num_workers = 1\n",
    "\n",
    "stacking_start_time = time.time()\n",
    "\n",
    "stacked_data_loaders = []\n",
    "for label in tqdm(range(num_workers)):\n",
    "    stacked_sampler = stacked_dset(train_dset, skewed_weights(10, [label%10], skew_bias), loader_size)\n",
    "    stacked_data_loaders.append(DataLoader(train_dset, batch_size=batch_size, shuffle=False, sampler=stacked_sampler))\n",
    "\n",
    "run_data['Stacking Time'] = time.time() - stacking_start_time\n",
    "run_data['Stacking Time per Loader'] = run_data['Stacking Time'] / run_data['Number of Workers']\n",
    "\n",
    "print('Stacking Time: %.2f' % run_data['Stacking Time'])\n",
    "print('Stacking Time per Loader: %.2f' % run_data['Stacking Time per Loader'])"
   ]
  },
  {
   "cell_type": "markdown",
   "metadata": {},
   "source": [
    "We should see the effect of the skew in a count and histogram of a skewed dataset. Here, we arbitrarily picked the second dataloader."
   ]
  },
  {
   "cell_type": "code",
   "execution_count": 21,
   "metadata": {},
   "outputs": [
    {
     "ename": "KeyboardInterrupt",
     "evalue": "",
     "output_type": "error",
     "traceback": [
      "\u001b[0;31m---------------------------------------------------------------------------\u001b[0m",
      "\u001b[0;31mKeyboardInterrupt\u001b[0m                         Traceback (most recent call last)",
      "\u001b[0;32m<ipython-input-21-5fd6c78a960c>\u001b[0m in \u001b[0;36m<module>\u001b[0;34m\u001b[0m\n\u001b[0;32m----> 1\u001b[0;31m \u001b[0m_\u001b[0m\u001b[0;34m,\u001b[0m \u001b[0mybatches\u001b[0m \u001b[0;34m=\u001b[0m \u001b[0mlist\u001b[0m\u001b[0;34m(\u001b[0m\u001b[0mzip\u001b[0m\u001b[0;34m(\u001b[0m\u001b[0;34m*\u001b[0m\u001b[0mstacked_data_loaders\u001b[0m\u001b[0;34m[\u001b[0m\u001b[0;36m0\u001b[0m\u001b[0;34m]\u001b[0m\u001b[0;34m)\u001b[0m\u001b[0;34m)\u001b[0m\u001b[0;34m\u001b[0m\u001b[0;34m\u001b[0m\u001b[0m\n\u001b[0m\u001b[1;32m      2\u001b[0m \u001b[0mprint\u001b[0m\u001b[0;34m(\u001b[0m\u001b[0;34m'Dataloader sample count:'\u001b[0m\u001b[0;34m,\u001b[0m \u001b[0mlen\u001b[0m\u001b[0;34m(\u001b[0m\u001b[0mtorch\u001b[0m\u001b[0;34m.\u001b[0m\u001b[0mcat\u001b[0m\u001b[0;34m(\u001b[0m\u001b[0mybatches\u001b[0m\u001b[0;34m)\u001b[0m\u001b[0;34m)\u001b[0m\u001b[0;34m)\u001b[0m\u001b[0;34m\u001b[0m\u001b[0;34m\u001b[0m\u001b[0m\n",
      "\u001b[0;32m~/work/bfpytorch/venv/lib/python3.6/site-packages/torch/utils/data/dataloader.py\u001b[0m in \u001b[0;36m__next__\u001b[0;34m(self)\u001b[0m\n\u001b[1;32m    612\u001b[0m     \u001b[0;32mdef\u001b[0m \u001b[0m__next__\u001b[0m\u001b[0;34m(\u001b[0m\u001b[0mself\u001b[0m\u001b[0;34m)\u001b[0m\u001b[0;34m:\u001b[0m\u001b[0;34m\u001b[0m\u001b[0;34m\u001b[0m\u001b[0m\n\u001b[1;32m    613\u001b[0m         \u001b[0;32mif\u001b[0m \u001b[0mself\u001b[0m\u001b[0;34m.\u001b[0m\u001b[0mnum_workers\u001b[0m \u001b[0;34m==\u001b[0m \u001b[0;36m0\u001b[0m\u001b[0;34m:\u001b[0m  \u001b[0;31m# same-process loading\u001b[0m\u001b[0;34m\u001b[0m\u001b[0;34m\u001b[0m\u001b[0m\n\u001b[0;32m--> 614\u001b[0;31m             \u001b[0mindices\u001b[0m \u001b[0;34m=\u001b[0m \u001b[0mnext\u001b[0m\u001b[0;34m(\u001b[0m\u001b[0mself\u001b[0m\u001b[0;34m.\u001b[0m\u001b[0msample_iter\u001b[0m\u001b[0;34m)\u001b[0m  \u001b[0;31m# may raise StopIteration\u001b[0m\u001b[0;34m\u001b[0m\u001b[0;34m\u001b[0m\u001b[0m\n\u001b[0m\u001b[1;32m    615\u001b[0m             \u001b[0mbatch\u001b[0m \u001b[0;34m=\u001b[0m \u001b[0mself\u001b[0m\u001b[0;34m.\u001b[0m\u001b[0mcollate_fn\u001b[0m\u001b[0;34m(\u001b[0m\u001b[0;34m[\u001b[0m\u001b[0mself\u001b[0m\u001b[0;34m.\u001b[0m\u001b[0mdataset\u001b[0m\u001b[0;34m[\u001b[0m\u001b[0mi\u001b[0m\u001b[0;34m]\u001b[0m \u001b[0;32mfor\u001b[0m \u001b[0mi\u001b[0m \u001b[0;32min\u001b[0m \u001b[0mindices\u001b[0m\u001b[0;34m]\u001b[0m\u001b[0;34m)\u001b[0m\u001b[0;34m\u001b[0m\u001b[0;34m\u001b[0m\u001b[0m\n\u001b[1;32m    616\u001b[0m             \u001b[0;32mif\u001b[0m \u001b[0mself\u001b[0m\u001b[0;34m.\u001b[0m\u001b[0mpin_memory\u001b[0m\u001b[0;34m:\u001b[0m\u001b[0;34m\u001b[0m\u001b[0;34m\u001b[0m\u001b[0m\n",
      "\u001b[0;32m~/work/bfpytorch/venv/lib/python3.6/site-packages/torch/utils/data/sampler.py\u001b[0m in \u001b[0;36m__iter__\u001b[0;34m(self)\u001b[0m\n\u001b[1;32m    158\u001b[0m     \u001b[0;32mdef\u001b[0m \u001b[0m__iter__\u001b[0m\u001b[0;34m(\u001b[0m\u001b[0mself\u001b[0m\u001b[0;34m)\u001b[0m\u001b[0;34m:\u001b[0m\u001b[0;34m\u001b[0m\u001b[0;34m\u001b[0m\u001b[0m\n\u001b[1;32m    159\u001b[0m         \u001b[0mbatch\u001b[0m \u001b[0;34m=\u001b[0m \u001b[0;34m[\u001b[0m\u001b[0;34m]\u001b[0m\u001b[0;34m\u001b[0m\u001b[0;34m\u001b[0m\u001b[0m\n\u001b[0;32m--> 160\u001b[0;31m         \u001b[0;32mfor\u001b[0m \u001b[0midx\u001b[0m \u001b[0;32min\u001b[0m \u001b[0mself\u001b[0m\u001b[0;34m.\u001b[0m\u001b[0msampler\u001b[0m\u001b[0;34m:\u001b[0m\u001b[0;34m\u001b[0m\u001b[0;34m\u001b[0m\u001b[0m\n\u001b[0m\u001b[1;32m    161\u001b[0m             \u001b[0mbatch\u001b[0m\u001b[0;34m.\u001b[0m\u001b[0mappend\u001b[0m\u001b[0;34m(\u001b[0m\u001b[0midx\u001b[0m\u001b[0;34m)\u001b[0m\u001b[0;34m\u001b[0m\u001b[0;34m\u001b[0m\u001b[0m\n\u001b[1;32m    162\u001b[0m             \u001b[0;32mif\u001b[0m \u001b[0mlen\u001b[0m\u001b[0;34m(\u001b[0m\u001b[0mbatch\u001b[0m\u001b[0;34m)\u001b[0m \u001b[0;34m==\u001b[0m \u001b[0mself\u001b[0m\u001b[0;34m.\u001b[0m\u001b[0mbatch_size\u001b[0m\u001b[0;34m:\u001b[0m\u001b[0;34m\u001b[0m\u001b[0;34m\u001b[0m\u001b[0m\n",
      "\u001b[0;32m~/work/bfpytorch/venv/lib/python3.6/site-packages/torch/utils/data/sampler.py\u001b[0m in \u001b[0;36m__iter__\u001b[0;34m(self)\u001b[0m\n\u001b[1;32m    118\u001b[0m \u001b[0;34m\u001b[0m\u001b[0m\n\u001b[1;32m    119\u001b[0m     \u001b[0;32mdef\u001b[0m \u001b[0m__iter__\u001b[0m\u001b[0;34m(\u001b[0m\u001b[0mself\u001b[0m\u001b[0;34m)\u001b[0m\u001b[0;34m:\u001b[0m\u001b[0;34m\u001b[0m\u001b[0;34m\u001b[0m\u001b[0m\n\u001b[0;32m--> 120\u001b[0;31m         \u001b[0;32mreturn\u001b[0m \u001b[0miter\u001b[0m\u001b[0;34m(\u001b[0m\u001b[0mtorch\u001b[0m\u001b[0;34m.\u001b[0m\u001b[0mmultinomial\u001b[0m\u001b[0;34m(\u001b[0m\u001b[0mself\u001b[0m\u001b[0;34m.\u001b[0m\u001b[0mweights\u001b[0m\u001b[0;34m,\u001b[0m \u001b[0mself\u001b[0m\u001b[0;34m.\u001b[0m\u001b[0mnum_samples\u001b[0m\u001b[0;34m,\u001b[0m \u001b[0mself\u001b[0m\u001b[0;34m.\u001b[0m\u001b[0mreplacement\u001b[0m\u001b[0;34m)\u001b[0m\u001b[0;34m.\u001b[0m\u001b[0mtolist\u001b[0m\u001b[0;34m(\u001b[0m\u001b[0;34m)\u001b[0m\u001b[0;34m)\u001b[0m\u001b[0;34m\u001b[0m\u001b[0;34m\u001b[0m\u001b[0m\n\u001b[0m\u001b[1;32m    121\u001b[0m \u001b[0;34m\u001b[0m\u001b[0m\n\u001b[1;32m    122\u001b[0m     \u001b[0;32mdef\u001b[0m \u001b[0m__len__\u001b[0m\u001b[0;34m(\u001b[0m\u001b[0mself\u001b[0m\u001b[0;34m)\u001b[0m\u001b[0;34m:\u001b[0m\u001b[0;34m\u001b[0m\u001b[0;34m\u001b[0m\u001b[0m\n",
      "\u001b[0;31mKeyboardInterrupt\u001b[0m: "
     ]
    }
   ],
   "source": [
    "_, ybatches = list(zip(*stacked_data_loaders[0]))\n",
    "print('Dataloader sample count:', len(torch.cat(ybatches)))"
   ]
  },
  {
   "cell_type": "code",
   "execution_count": null,
   "metadata": {},
   "outputs": [],
   "source": [
    "#for i in range(len(stacked_data_loaders)):\n",
    "#    _, ybatches = list(zip(*stacked_data_loaders[i]))\n",
    "#    print('Dataloader', i ,'sample count:', len(torch.cat(ybatches)))"
   ]
  },
  {
   "cell_type": "code",
   "execution_count": null,
   "metadata": {},
   "outputs": [],
   "source": [
    "from collections import Counter\n",
    "import numpy as np\n",
    "\n",
    "hist_counts = []\n",
    "digit_counts = []\n",
    "for loader in tqdm(stacked_data_loaders):\n",
    "    _, ybatches = list(zip(*loader))\n",
    "    ys = torch.cat(ybatches)\n",
    "    ys = [int(y) for y in ys]\n",
    "    hist_counts.append(ys)\n",
    "    \n",
    "    digits = sorted(Counter(ys).most_common())\n",
    "    _, digits = list(zip(*digits))\n",
    "    digit_counts.append(list(digits))\n",
    "\n",
    "digit_counts = [list(i) for i in zip(*digit_counts)]"
   ]
  },
  {
   "cell_type": "code",
   "execution_count": null,
   "metadata": {},
   "outputs": [],
   "source": [
    "fig, ax = plt.subplots(figsize=(15, 5))\n",
    "fig.suptitle('Digit Skew Histogram')\n",
    "ax.xaxis.set_major_locator(plt.MultipleLocator(1))\n",
    "ax.set_ylabel('Digit Count')\n",
    "ax.set_xlabel('Digit')\n",
    "H = ax.hist(ys, bins=range(11), histtype='bar', align='left', rwidth=0.8)"
   ]
  },
  {
   "cell_type": "code",
   "execution_count": null,
   "metadata": {},
   "outputs": [],
   "source": [
    "fig, ax = plt.subplots(figsize=(15, 5))\n",
    "fig.suptitle('Skew: Digit Counts by Worker')\n",
    "\n",
    "pos = list(range(num_workers))\n",
    "width = 0.08\n",
    "\n",
    "for digit in range(10):\n",
    "    ax.bar([p + (width * digit) for p in pos],\n",
    "           digit_counts[digit],\n",
    "           width = width,\n",
    "           label = str(digit),\n",
    "          )\n",
    "\n",
    "ax.set_xticks([p + (4.5 * width) for p in pos])\n",
    "ax.set_xticklabels([('Dataset ' + str(x)) for x in range(num_workers)])\n",
    "ax.set_ylabel('Digit Samples')\n",
    "ax.set_xlabel('Samples Grouped by Worker')\n",
    "ax.legend(loc = 'upper right');"
   ]
  },
  {
   "cell_type": "markdown",
   "metadata": {},
   "source": [
    "We create the `federatedManager` using the skewed training data. Note that we don't skew the test data -- we want to see how everything performs on a normal data distribution."
   ]
  },
  {
   "cell_type": "code",
   "execution_count": null,
   "metadata": {},
   "outputs": [],
   "source": [
    "import federated\n",
    "\n",
    "run_data['Learning Rate'] = learning_rate = 1e-2\n",
    "run_data['Epochs per Round'] = num_epochs = 1\n",
    "run_data['Federated Training Rounds'] = num_rounds = 50\n",
    "\n",
    "manager = federated.FederatedManager(\n",
    "    stacked_data_loaders,\n",
    "    MLPNet,\n",
    "    nn.CrossEntropyLoss(),\n",
    "    learning_rate,\n",
    "    test_dset,\n",
    "    num_epochs\n",
    ")"
   ]
  },
  {
   "cell_type": "markdown",
   "metadata": {},
   "source": [
    "Now let's do some rounds of federated training."
   ]
  },
  {
   "cell_type": "code",
   "execution_count": null,
   "metadata": {},
   "outputs": [],
   "source": [
    "print(\"Training\", num_rounds, \"round(s) with\", manager.n_workers, \"worker(s) doing\", num_epochs, \"epoch(s) per round.\\n\" )\n",
    "\n",
    "training_start_time = time.time()\n",
    "\n",
    "for i in tqdm(range(num_rounds)):\n",
    "    print(\"Beginning round\", i+1)\n",
    "    manager.round()\n",
    "    print(\"Finished round\", i+1, \"with global loss: %.2f\" % manager.manager_loss_history[-1], \"\\n\")\n",
    "\n",
    "run_data['Federated Training Time'] = time.time() - training_start_time\n",
    "#run_data['Manager Loss History'] = manager.manager_loss_history\n",
    "#run_data['Worker Loss Histories'] = manager.worker_loss_histories\n",
    "run_data['Final Global Loss'] = manager.manager_loss_history[-1]\n",
    "\n",
    "print('Federated Training Time: %.2f' % run_data['Federated Training Time'])"
   ]
  },
  {
   "cell_type": "markdown",
   "metadata": {},
   "source": [
    "Now let's take a look at how the training went. Here's a graph of the loss per round."
   ]
  },
  {
   "cell_type": "code",
   "execution_count": null,
   "metadata": {},
   "outputs": [],
   "source": [
    "%matplotlib inline\n",
    "import matplotlib.pyplot as plt\n",
    "\n",
    "fig, ax = plt.subplots(figsize=(16, 9))\n",
    "# loss of global model on test set gets recorded twice per round\n",
    "# [1::2] skips the record that takes place before that round's training has happened\n",
    "ax.plot(manager.manager_loss_history[1::2], label=\"Global Loss\", )\n",
    "ax.set_xlabel(\"Federated Round\")\n",
    "ax.set_ylabel(\"Loss\")\n",
    "ax.legend();"
   ]
  },
  {
   "cell_type": "markdown",
   "metadata": {},
   "source": [
    "This looks pretty good, with loss dropping off just like we want. Perhaps it's a little bumpy because of the relatively fast training rate, but it should be improving on balance. But if we look under the hood at each individual worker's loss, we see that the workers' local models are diverging and converging at each round. They diverge because each local model trains on different data, resulting in a somewhat different loss per round. The converge again because the manager combines them into a master model, such that they all have the same loss as the global loss."
   ]
  },
  {
   "cell_type": "code",
   "execution_count": null,
   "metadata": {},
   "outputs": [],
   "source": [
    "fig, ax = plt.subplots(figsize=(16, 9))\n",
    "\n",
    "\n",
    "for i in range(len(manager.worker_loss_histories)):\n",
    "    ax.plot(manager.worker_loss_histories[i], label=('Worker ' + str(i)))\n",
    "\n",
    "# TODO: Align the global loss properly\n",
    "ax.plot(manager.manager_loss_history[1], label=\"Global Loss\", )\n",
    "\n",
    "    \n",
    "# TODO: Get these labels done properly - they should be aligned with the main \n",
    "ax.set_xticklabels([(i-1) for i in range(len(manager.worker_loss_histories))])\n",
    "ax.set_xlabel(\"Federated Round\")\n",
    "ax.set_ylabel(\"Loss\")\n",
    "ax.legend();"
   ]
  },
  {
   "cell_type": "markdown",
   "metadata": {},
   "source": [
    "Ideas:\n",
    "- plot performance on a given numeral for the main model next to that of a worker skewed against that numeral. Let both run without federation or run a few epochs before federation. Show this as a baseline\n",
    "- histogram of numerals? More for curiosity, but shows spread of data that we might want to reflect in the baseline training.\n",
    "- post 1: what's the accuracy loss for federation compared to baseline direct training?\n",
    "- post 2: weird side stats\n",
    "    - skew vs. accuracy\n",
    "        - plot - x-axis = skew, y-axis = accuracy\n",
    "    - run all to convergence, compare how long to reach comparable accuracy?\n",
    "        - time or epochs necessary to reach comparable accuracy between federated and standard approach\n",
    "        - time or epochs necessary to reach comparable accuracy by skew\n",
    "    - run the federated version with balanced, but small sets of data\n",
    "\n",
    "Questions:\n",
    "- Why does the time spent by a worker on any given epoch all happen _before_ the batches start rolling in? What's happening there? Am I just spinning my wheels on something?\n",
    "    - TODO: try this from a regular python file. The notebook may be buffering up those print statements in the batches\n",
    "- Why does random selection of the skewed datasets take so long? Is it because they're without replacement?\n",
    "- Why do all the workers and epochs always happen in order? Wouldn't my laptop parallelize them across cores? Is that too much to ask from an interpreter? Is the interpreter smarter than I am and actually is parallelizing them and the smartest way in to do them in order?\n",
    "- why use ten workers? Why not fewer?\n",
    "\n",
    "- TODO: unequal data volume at each worker. Try some workers with very small or very large samples.\n",
    "- TODO: unequal numbers of samples across the whole set, e.g., we just have fewer `7`s and `4`s across the set, and a glut of `1`s\n",
    "\n",
    "\n",
    "\n"
   ]
  },
  {
   "cell_type": "markdown",
   "metadata": {},
   "source": [
    "# Improvement Ideas\n",
    "\n",
    "Global variables:\n",
    "- Batch size\n",
    "- Learning rate\n",
    "- Epochs\n",
    "- Total dataset size\n",
    "- Worker dataset size\n",
    "    - worker dataset size skew (variance among number of samples seen from worker to worker)\n",
    "- Selection of data with or without replacement\n",
    "- Dataset class skew (more or fewer examples from each class)\n",
    "\n",
    "Targets:\n",
    "- Loss\n",
    "- Accuracy\n",
    "- Runtime to target loss or accuracy"
   ]
  },
  {
   "cell_type": "code",
   "execution_count": null,
   "metadata": {},
   "outputs": [],
   "source": []
  },
  {
   "cell_type": "markdown",
   "metadata": {},
   "source": [
    "TODO: Write a bit of code that records the hyperparameters and saves the graphs, times and losses in a bundle for each run. Something like:\n",
    "\n",
    "```\n",
    "2019-05-06 21:02:50\n",
    "\n",
    "# standard dataloader parameter\n",
    "batch_size = 128\n",
    "\n",
    "# biasing parameters\n",
    "skew_bias = 0.3\n",
    "loader_size = 8192\n",
    "num_workers = 10\n",
    "\n",
    "Stacked set creation time: 00:01:08\n",
    "\n",
    "# training parameters\n",
    "learning_rate = 1e-2\n",
    "num_epochs = 1\n",
    "num_rounds = 20\n",
    "\n",
    "Train time = 00:43:02\n",
    "\n",
    "Final global loss: 0.48251\n",
    "```\n",
    "\n",
    "Well. I did this. And now the code is unreadable."
   ]
  },
  {
   "cell_type": "code",
   "execution_count": null,
   "metadata": {
    "scrolled": true
   },
   "outputs": [],
   "source": [
    "# a little performance info on the run\n",
    "run_data['Global End Time'] = time.time()\n",
    "run_data['Global Time'] = run_data['Global End Time'] - run_data['Global Start Time']\n",
    "run_data"
   ]
  },
  {
   "cell_type": "code",
   "execution_count": null,
   "metadata": {},
   "outputs": [],
   "source": [
    "# leave a record of the run\n",
    "# but it isn't valid JSON\n",
    "import json \n",
    "with open('run_data.json', 'a') as file:\n",
    "    file.write(json.dumps(run_data))\n",
    "    file.write('\\n\\n')"
   ]
  },
  {
   "cell_type": "code",
   "execution_count": null,
   "metadata": {},
   "outputs": [],
   "source": []
  },
  {
   "cell_type": "code",
   "execution_count": null,
   "metadata": {},
   "outputs": [],
   "source": []
  },
  {
   "cell_type": "code",
   "execution_count": null,
   "metadata": {},
   "outputs": [],
   "source": [
    "from collections import Counter\n",
    "import numpy as np\n",
    "\n",
    "train_counts = Counter(int(y) for y in train_dset.targets).most_common()\n",
    "print(\"Train digit counts: \\n\", train_counts)\n",
    "print(\"Train count standard deviation: %.2f\" % np.std(list(zip(*train_counts))[1]))\n",
    "print(\"Train count coefficient of variation: %.2f\" \n",
    "      % (float(np.mean(list(zip(*train_counts))[1])) / float(np.std(list(zip(*train_counts))[1]))))\n",
    "\n",
    "print()\n",
    "\n",
    "test_counts = Counter(int(y) for y in test_dset.targets).most_common()\n",
    "print(\"Test digit counts: \\n\", test_counts)\n",
    "print(\"Test standard deviation: %.2f\" % np.std(list(zip(*test_counts))[1]))\n",
    "print(\"Test count coefficient of variation: %.2f\" \n",
    "      % (float(np.mean(list(zip(*test_counts))[1])) / float(np.std(list(zip(*test_counts))[1]))))"
   ]
  },
  {
   "cell_type": "code",
   "execution_count": null,
   "metadata": {},
   "outputs": [],
   "source": [
    "fig, ax = plt.subplots(figsize=(15, 5))\n",
    "fig.suptitle('Digit Counts at each Worker')\n",
    "ax.xaxis.set_major_locator(plt.MultipleLocator(1))\n",
    "ax.set_xticklabels([('Digit ' + str(x-1)) for x in range(11)])\n",
    "ax.hist(hist_counts, \n",
    "        label=[('Worker ' + str(x)) for x in range(num_workers)],\n",
    "        bins=list(range(12)), \n",
    "        histtype='bar',\n",
    "        align='left',\n",
    "        rwidth=0.8,\n",
    "       );\n",
    "ax.legend();"
   ]
  },
  {
   "cell_type": "code",
   "execution_count": null,
   "metadata": {},
   "outputs": [],
   "source": []
  },
  {
   "cell_type": "code",
   "execution_count": null,
   "metadata": {},
   "outputs": [],
   "source": []
  },
  {
   "cell_type": "code",
   "execution_count": null,
   "metadata": {},
   "outputs": [],
   "source": []
  },
  {
   "cell_type": "code",
   "execution_count": null,
   "metadata": {},
   "outputs": [],
   "source": []
  },
  {
   "cell_type": "code",
   "execution_count": null,
   "metadata": {},
   "outputs": [],
   "source": []
  }
 ],
 "metadata": {
  "kernelspec": {
   "display_name": "Python 3",
   "language": "python",
   "name": "python3"
  },
  "language_info": {
   "codemirror_mode": {
    "name": "ipython",
    "version": 3
   },
   "file_extension": ".py",
   "mimetype": "text/x-python",
   "name": "python",
   "nbconvert_exporter": "python",
   "pygments_lexer": "ipython3",
   "version": "3.6.7"
  }
 },
 "nbformat": 4,
 "nbformat_minor": 2
}
