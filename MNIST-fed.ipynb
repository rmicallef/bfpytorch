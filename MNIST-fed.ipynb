{
 "cells": [
  {
   "cell_type": "markdown",
   "metadata": {},
   "source": [
    "# Federated Learning Test\n",
    "\n",
    "This notebook is a test of federated learning using the MNIST dataset. It distributes partial subsets of the MNIST data to each worker and tests the results of federation of the workers. It also skews the subsets to investigate the value of federation in cases where workers have substantially different samples."
   ]
  },
  {
   "cell_type": "markdown",
   "metadata": {},
   "source": [
    "## The Baseline\n",
    "\n",
    "First, we load up the common elements to be used in the traditional and federated approaches. \n",
    "\n",
    "\n",
    "### The Model\n",
    "We start with the model."
   ]
  },
  {
   "cell_type": "code",
   "execution_count": 1,
   "metadata": {},
   "outputs": [],
   "source": [
    "import time\n",
    "import datetime\n",
    "\n",
    "run_data = {} # used for code profiling\n",
    "\n",
    "run_data['Date'] = datetime.datetime.today().strftime('%Y-%m-%d %H:%M:%S')\n",
    "run_data['Global Start Time'] = time.time()"
   ]
  },
  {
   "cell_type": "code",
   "execution_count": 2,
   "metadata": {},
   "outputs": [],
   "source": [
    "# Define the model\n",
    "\n",
    "import torch.nn as nn\n",
    "\n",
    "class MLPNet(nn.Module):\n",
    "    def __init__(self):\n",
    "        super(MLPNet, self).__init__()\n",
    "        self.fc1 = nn.Linear(28*28, 500)\n",
    "        self.fc2 = nn.Linear(500, 256)\n",
    "        self.fc3 = nn.Linear(256, 10)\n",
    "    def forward(self, x):\n",
    "        x = x.view(-1, 28*28)\n",
    "        x = nn.functional.relu(self.fc1(x))\n",
    "        x = nn.functional.relu(self.fc2(x))\n",
    "        x = self.fc3(x)\n",
    "        return x\n",
    "    \n",
    "    def name(self):\n",
    "        return \"MLP\"\n",
    "\n",
    "# # Optional model for fun\n",
    "\n",
    "# import torch.nn.functional as F\n",
    "\n",
    "# class LeNet(nn.Module):\n",
    "#     def __init__(self):\n",
    "#         super(LeNet, self).__init__()\n",
    "#         self.conv1 = nn.Conv2d(1, 10, kernel_size=5)\n",
    "#         self.conv2 = nn.Conv2d(10, 20, kernel_size=5)\n",
    "#         self.conv2_drop = nn.Dropout2d()\n",
    "#         self.fc1 = nn.Linear(320, 50)\n",
    "#         self.fc2 = nn.Linear(50, 10)\n",
    "\n",
    "#     def forward(self, x):\n",
    "#         x = F.relu(F.max_pool2d(self.conv1(x), 2))\n",
    "#         x = F.relu(F.max_pool2d(self.conv2_drop(self.conv2(x)), 2))\n",
    "#         x = x.view(-1, 320)\n",
    "#         x = F.relu(self.fc1(x))\n",
    "#         x = F.dropout(x, training=self.training)\n",
    "#         x = self.fc2(x)\n",
    "#         return F.log_softmax(x, dim=0) # value 0 was chosen arbitrarily to quiet a warning. Penny'll start a fire.\n",
    "\n",
    "#     def name(self):\n",
    "#         return 'LeNet'"
   ]
  },
  {
   "cell_type": "markdown",
   "metadata": {},
   "source": [
    "### The Data - Standard MNIST Datasets\n",
    "Here we get plain vanilla MNIST datasets, balanced the way the gods intended, and we make datatloaders from them. Nothing exciting to see here. This is our baseline. If you don't already have the MNIST data on your machine, the calls to `torchvision.datasets.MNIST(... dowload=True ...)` will download it for you."
   ]
  },
  {
   "cell_type": "code",
   "execution_count": 3,
   "metadata": {},
   "outputs": [],
   "source": [
    "# load the data\n",
    "\n",
    "import torch\n",
    "import torchvision.datasets as dsets\n",
    "import torchvision.transforms as transforms\n",
    "\n",
    "# create standard datasets using all of the MNIST data\n",
    "\n",
    "data_path = './MNIST-data/raw'\n",
    "trans = transforms.Compose([transforms.ToTensor(), transforms.Normalize((0.5,), (1.0,))])\n",
    "\n",
    "train_dset = dsets.MNIST(root=data_path, download=True, train=True, transform=trans)\n",
    "test_dset = dsets.MNIST(root=data_path, download=True, train=False, transform=trans)"
   ]
  },
  {
   "cell_type": "code",
   "execution_count": 4,
   "metadata": {},
   "outputs": [],
   "source": [
    "# create dataloaders\n",
    "\n",
    "from torch.utils.data import DataLoader\n",
    "\n",
    "run_data['Batch Size'] = batch_size = 128\n",
    "\n",
    "# create standard dataloaders using all of the MNIST data - this is for baseline purposes\n",
    "train_dloader = DataLoader(train_dset, batch_size=batch_size, shuffle=True)\n",
    "test_dloader = DataLoader(test_dset, batch_size=batch_size, shuffle=False)"
   ]
  },
  {
   "cell_type": "markdown",
   "metadata": {},
   "source": [
    "Let's check out the goods. We expect than the out-of-the-box MNIST dataset will have roughly equal numbers of samples for each numeral."
   ]
  },
  {
   "cell_type": "code",
   "execution_count": 5,
   "metadata": {},
   "outputs": [
    {
     "name": "stdout",
     "output_type": "stream",
     "text": [
      "Train counts: \n",
      " [(1, 6742), (7, 6265), (3, 6131), (2, 5958), (9, 5949), (0, 5923), (6, 5918), (8, 5851), (4, 5842), (5, 5421)]\n",
      "Train mean: 6000.00\n",
      "Train stdev: 322.08\n",
      "Train CV: 18.63\n",
      "\n",
      "Test counts: \n",
      " [(1, 1135), (2, 1032), (7, 1028), (3, 1010), (9, 1009), (4, 982), (0, 980), (8, 974), (6, 958), (5, 892)]\n",
      "Test mean: 1000.00\n",
      "Test stdev: 59.20\n",
      "Test CV: 16.89\n"
     ]
    }
   ],
   "source": [
    "from collections import Counter\n",
    "import numpy as np\n",
    "#import statistics\n",
    "\n",
    "train_counts = Counter(int(y) for y in train_dset.targets).most_common()\n",
    "print(\"Train counts: \\n\", train_counts)\n",
    "print(\"Train mean: %.2f\" % np.mean(list(zip(*train_counts))[1]))\n",
    "print(\"Train stdev: %.2f\" % np.std(list(zip(*train_counts))[1]))\n",
    "#print('stat.stdev', statistics.stdev(list(zip(*train_counts))[1])) # WTF MLW?\n",
    "#print(\"Train var: %.2f\" % np.var(list(zip(*train_counts))[1])) # WTF MLW?\n",
    "print(\"Train CV: %.2f\" % (float(np.mean(list(zip(*train_counts))[1])) / float(np.std(list(zip(*train_counts))[1]))))\n",
    "\n",
    "print()\n",
    "\n",
    "test_counts = Counter(int(y) for y in test_dset.targets).most_common()\n",
    "print(\"Test counts: \\n\", test_counts)\n",
    "print(\"Test mean: %.2f\" % np.mean(list(zip(*test_counts))[1]))\n",
    "print(\"Test stdev: %.2f\" % np.std(list(zip(*test_counts))[1]))\n",
    "print(\"Test CV: %.2f\" % (float(np.mean(list(zip(*test_counts))[1])) / float(np.std(list(zip(*test_counts))[1]))))"
   ]
  },
  {
   "cell_type": "markdown",
   "metadata": {},
   "source": [
    "The training data looks reasonably well distributed, and the plots below confirm it.\n",
    "\n",
    "TODO: Use a better metric of distribution? std?"
   ]
  },
  {
   "cell_type": "code",
   "execution_count": 6,
   "metadata": {},
   "outputs": [
    {
     "data": {
      "image/png": "[encoded data removed]",
      "text/plain": [
       "<Figure size 720x360 with 1 Axes>"
      ]
     },
     "metadata": {
      "needs_background": "light"
     },
     "output_type": "display_data"
    }
   ],
   "source": [
    "%matplotlib inline\n",
    "import matplotlib.pyplot as plt\n",
    "\n",
    "fig, ax = plt.subplots(figsize=(10, 5))\n",
    "fig.suptitle('Standard MNIST Examples')\n",
    "ax.xaxis.set_major_locator(plt.MultipleLocator(1))\n",
    "ax.hist([train_dloader.dataset.targets.tolist(), test_dloader.dataset.targets.tolist()*6], \n",
    "        label=['Train', 'Test (scaled)'],\n",
    "        bins=list(range(11)), \n",
    "        histtype='bar',\n",
    "        align='left',\n",
    "        rwidth=0.8,\n",
    "       )\n",
    "ax.legend();"
   ]
  },
  {
   "cell_type": "markdown",
   "metadata": {},
   "source": [
    "NOTE: DO WE WANT TO JUST TRAIN THE BASELINE MODEL HERE BEFORE STACKING THE DECK?\n",
    "\n",
    "AND THEN DO WE WANT TO SHOW A MODEL TRAINED ONLY ON ONE SKEWED DATASET?"
   ]
  },
  {
   "cell_type": "markdown",
   "metadata": {},
   "source": [
    "### Stacking a Deck (Skewing the Data)\n",
    "\n",
    "We know the baseline data is pretty even across numerals. Now we need a way to \"stack the deck\" of examples that each worker sees. This method creates a dataset that is randomly sampled from a given dataset with the random sampling biased according to a dictionary of weights for each label."
   ]
  },
  {
   "cell_type": "code",
   "execution_count": 7,
   "metadata": {},
   "outputs": [],
   "source": [
    "from torch.utils.data import WeightedRandomSampler\n",
    "\n",
    "def stacked_dset(dset, label_weights, N):\n",
    "    \"\"\"\n",
    "    dset: dataset\n",
    "    label_weights = {dog: 0.5, cat: 0.3, ...}\n",
    "    N: size of stacked dset\n",
    "    return: stacked WeightedRandomSampler\n",
    "    \"\"\"\n",
    "    weights = []\n",
    "    for data, label in dset:\n",
    "        weights.append(label_weights[label])\n",
    "\n",
    "#     for label in test_dset.targets:\n",
    "#         weights.append(label_weights[int(label)])\n",
    "# TODO / MLW : how to speed this up - currently takes about a minute to train ten stacked training sets\n",
    "    \n",
    "    return WeightedRandomSampler(weights, N, replacement=False)"
   ]
  },
  {
   "cell_type": "markdown",
   "metadata": {},
   "source": [
    "And this is where we get the dictionary of weights. For simplicity's sake, we just take a list of labels to be sampled \"normally\" and the rest are biased against. So, preserving 3s and skewing everything else by a factor of 0.9 shoud get a set of weights that results in a dataset that is slightly heavy on 3s compared to everything else. In an an extreme example, preserving only 3s, with a skew of 0, will produce weights that will yield a dataset of only 3s."
   ]
  },
  {
   "cell_type": "code",
   "execution_count": 8,
   "metadata": {},
   "outputs": [],
   "source": [
    "def skewed_weights(num_labels, labels_to_preserve, skew_bias):\n",
    "    \"\"\"\n",
    "        num_labels: number of labels to return (use 10 for MNIST)\n",
    "        labels_to_preserve: list of labels to preserve wih no skew \n",
    "        skew_bias: a float, 0 < bias < 1, to which non-selected labels will be biased down\n",
    "        return: dictionary of each label and its bias\n",
    "    \"\"\"\n",
    "    weights = {}\n",
    "    for label in range(num_labels):\n",
    "        if label in labels_to_preserve:\n",
    "            weights[label] = 1\n",
    "        else:\n",
    "            weights[label] = skew_bias\n",
    "    \n",
    "    return weights"
   ]
  },
  {
   "cell_type": "markdown",
   "metadata": {},
   "source": [
    "### "
   ]
  },
  {
   "cell_type": "markdown",
   "metadata": {},
   "source": [
    "Here we do the sampling to create our skewed datasets."
   ]
  },
  {
   "cell_type": "code",
   "execution_count": 9,
   "metadata": {
    "scrolled": true
   },
   "outputs": [
    {
     "name": "stderr",
     "output_type": "stream",
     "text": [
      "100%|██████████| 3/3 [00:27<00:00,  9.45s/it]"
     ]
    },
    {
     "name": "stdout",
     "output_type": "stream",
     "text": [
      "Stacking Time: 27.91\n",
      "Stacking Time per Loader: 9.30\n"
     ]
    },
    {
     "name": "stderr",
     "output_type": "stream",
     "text": [
      "\n"
     ]
    }
   ],
   "source": [
    "from tqdm import tqdm\n",
    "\n",
    "# create stacked loaders for the workers\n",
    "\n",
    "run_data['Skew Bias'] = skew_bias = 0.5\n",
    "run_data['Examples Per Skewed Loader'] = loader_size = 1024\n",
    "run_data['Number of Workers'] = num_workers = 3\n",
    "\n",
    "stacking_start_time = time.time()\n",
    "\n",
    "stacked_data_loaders = []\n",
    "for label in tqdm(range(num_workers)):\n",
    "    stacked_sampler = stacked_dset(train_dset, skewed_weights(10, [label%10], skew_bias), loader_size)\n",
    "    stacked_data_loaders.append(DataLoader(train_dset, batch_size=batch_size, shuffle=False, sampler=stacked_sampler))\n",
    "\n",
    "run_data['Stacking Time'] = time.time() - stacking_start_time\n",
    "run_data['Stacking Time per Loader'] = run_data['Stacking Time'] / run_data['Number of Workers']\n",
    "\n",
    "print('Stacking Time: %.2f' % run_data['Stacking Time'])\n",
    "print('Stacking Time per Loader: %.2f' % run_data['Stacking Time per Loader'])"
   ]
  },
  {
   "cell_type": "markdown",
   "metadata": {},
   "source": [
    "We should see the effect of the skew in a count and histogram of a skewed dataset. Here, we arbitrarily picked the second dataloader."
   ]
  },
  {
   "cell_type": "code",
   "execution_count": 10,
   "metadata": {},
   "outputs": [
    {
     "name": "stdout",
     "output_type": "stream",
     "text": [
      "[(1, 212), (9, 106), (2, 101), (8, 96), (7, 95), (3, 88), (6, 85), (0, 83), (5, 82), (4, 76)]\n"
     ]
    }
   ],
   "source": [
    "_, ybatches = list(zip(*stacked_data_loaders[1]))\n",
    "ys = torch.cat(ybatches)\n",
    "ys = [int(y) for y in ys]\n",
    "print (Counter(ys).most_common())\n",
    "\n",
    "# counts = sorted(Counter(ys).most_common())\n",
    "# print(counts)\n",
    "# _, counts = zip(*counts)\n",
    "# print(list(counts))\n"
   ]
  },
  {
   "cell_type": "code",
   "execution_count": 11,
   "metadata": {},
   "outputs": [
    {
     "data": {
      "image/png": "[encoded data removed]",
      "text/plain": [
       "<Figure size 1080x360 with 1 Axes>"
      ]
     },
     "metadata": {
      "needs_background": "light"
     },
     "output_type": "display_data"
    }
   ],
   "source": [
    "fig, ax = plt.subplots(figsize=(15, 5))\n",
    "fig.suptitle('Skew Example')\n",
    "ax.xaxis.set_major_locator(plt.MultipleLocator(1))\n",
    "H = ax.hist(ys, bins=range(11), histtype='bar', align='left', rwidth=0.8)"
   ]
  },
  {
   "cell_type": "code",
   "execution_count": 12,
   "metadata": {},
   "outputs": [
    {
     "name": "stderr",
     "output_type": "stream",
     "text": [
      "100%|██████████| 3/3 [00:04<00:00,  1.64s/it]\n"
     ]
    }
   ],
   "source": [
    "hist_counts = []\n",
    "digit_counts = []\n",
    "for loader in tqdm(stacked_data_loaders):\n",
    "    _, ybatches = list(zip(*loader))\n",
    "    ys = torch.cat(ybatches)\n",
    "    ys = [int(y) for y in ys]\n",
    "    hist_counts.append(ys)\n",
    "    \n",
    "    digits = sorted(Counter(ys).most_common())\n",
    "    _, digits = list(zip(*digits))\n",
    "    digit_counts.append(list(digits))\n",
    "\n",
    "digit_counts = [list(i) for i in zip(*digit_counts)]"
   ]
  },
  {
   "cell_type": "code",
   "execution_count": 13,
   "metadata": {},
   "outputs": [
    {
     "data": {
      "image/png": "[encoded data removed]",
      "text/plain": [
       "<Figure size 1080x360 with 1 Axes>"
      ]
     },
     "metadata": {
      "needs_background": "light"
     },
     "output_type": "display_data"
    }
   ],
   "source": [
    "fig, ax = plt.subplots(figsize=(15, 5))\n",
    "fig.suptitle('Digit Counts at each Worker')\n",
    "ax.xaxis.set_major_locator(plt.MultipleLocator(1))\n",
    "ax.set_xticklabels([('Digit ' + str(x-1)) for x in range(11)])\n",
    "ax.hist(hist_counts, \n",
    "        label=[('Worker ' + str(x)) for x in range(num_workers)],\n",
    "        bins=list(range(12)), \n",
    "        histtype='bar',\n",
    "        align='left',\n",
    "        rwidth=0.8,\n",
    "       );\n",
    "ax.legend();"
   ]
  },
  {
   "cell_type": "code",
   "execution_count": 14,
   "metadata": {},
   "outputs": [
    {
     "data": {
      "image/png": "[encoded data removed]",
      "text/plain": [
       "<Figure size 1080x360 with 1 Axes>"
      ]
     },
     "metadata": {
      "needs_background": "light"
     },
     "output_type": "display_data"
    }
   ],
   "source": [
    "# fig, ax = plt.subplots(figsize=(15, 5))\n",
    "# fig.suptitle('Skew Examples')\n",
    "# ax.xaxis.set_major_locator(plt.MultipleLocator(10))\n",
    "# ax.hist(digit_counts, \n",
    "#         label=[('Digit ' + str(x)) for x in range(11)],\n",
    "#         bins=num_workers + 1, \n",
    "#         histtype='bar',\n",
    "#         align='left',\n",
    "#         rwidth=0.8,\n",
    "#        );\n",
    "# ax.legend();\n",
    "\n",
    "\n",
    "\n",
    "fig, ax = plt.subplots(figsize=(15, 5))\n",
    "fig.suptitle('Skew Example: Digit Counts by Worker')\n",
    "\n",
    "pos = list(range(num_workers))\n",
    "width = 0.08\n",
    "\n",
    "for digit in range(10):\n",
    "    ax.bar([p + (width * digit) for p in pos],\n",
    "           digit_counts[digit],\n",
    "           width = width,\n",
    "           label = 'Digit ' + str(digit),\n",
    "          )\n",
    "\n",
    "ax.set_xticks([p + (4.5 * width) for p in pos])\n",
    "ax.set_xticklabels([('Wrkr' + str(x)) for x in range(num_workers)])\n",
    "ax.set_ylabel('Digit Samples')\n",
    "ax.legend(loc = 'upper right');"
   ]
  },
  {
   "cell_type": "code",
   "execution_count": 15,
   "metadata": {},
   "outputs": [],
   "source": [
    "import federated\n",
    "\n",
    "run_data['Learning Rate'] = learning_rate = 1e-2\n",
    "run_data['Epochs per Round'] = num_epochs = 1\n",
    "run_data['Federated Training Rounds'] = num_rounds = 100\n",
    "\n",
    "skewed_train_dsets = stacked_data_loaders\n",
    "\n",
    "manager = federated.FederatedManager(\n",
    "    skewed_train_dsets,\n",
    "    MLPNet,\n",
    "    nn.CrossEntropyLoss(),\n",
    "    learning_rate,\n",
    "    test_dset,\n",
    "    num_epochs\n",
    ")"
   ]
  },
  {
   "cell_type": "code",
   "execution_count": 16,
   "metadata": {},
   "outputs": [
    {
     "name": "stderr",
     "output_type": "stream",
     "text": [
      "\r",
      "  0%|          | 0/100 [00:00<?, ?it/s]"
     ]
    },
    {
     "name": "stdout",
     "output_type": "stream",
     "text": [
      "Training 100 round(s) with 3 worker(s) doing 1 epoch(s) per round.\n",
      "\n",
      "Beginning round 1\n",
      "\tWorker: 8952 \tlocal loss: 2.2923\n",
      "\tWorker: 2464 \tlocal loss: 2.2979\n",
      "\tWorker: 7624 \tlocal loss: 2.2899\n"
     ]
    },
    {
     "name": "stderr",
     "output_type": "stream",
     "text": [
      "\r",
      "  1%|          | 1/100 [00:05<09:05,  5.51s/it]"
     ]
    },
    {
     "name": "stdout",
     "output_type": "stream",
     "text": [
      "Finished round 1 with global loss: 2.29718 \n",
      "\n",
      "Beginning round 2\n",
      "\tWorker: 8952 \tlocal loss: 2.2745\n",
      "\tWorker: 2464 \tlocal loss: 2.2819\n",
      "\tWorker: 7624 \tlocal loss: 2.2820\n"
     ]
    },
    {
     "name": "stderr",
     "output_type": "stream",
     "text": [
      "\r",
      "  2%|▏         | 2/100 [00:11<08:59,  5.51s/it]"
     ]
    },
    {
     "name": "stdout",
     "output_type": "stream",
     "text": [
      "Finished round 2 with global loss: 2.29174 \n",
      "\n",
      "Beginning round 3\n",
      "\tWorker: 8952 \tlocal loss: 2.2890\n",
      "\tWorker: 2464 \tlocal loss: 2.2858\n",
      "\tWorker: 7624 \tlocal loss: 2.2813\n"
     ]
    },
    {
     "name": "stderr",
     "output_type": "stream",
     "text": [
      "\r",
      "  3%|▎         | 3/100 [00:16<08:53,  5.50s/it]"
     ]
    },
    {
     "name": "stdout",
     "output_type": "stream",
     "text": [
      "Finished round 3 with global loss: 2.28664 \n",
      "\n",
      "Beginning round 4\n",
      "\tWorker: 8952 \tlocal loss: 2.2717\n",
      "\tWorker: 2464 \tlocal loss: 2.2663\n",
      "\tWorker: 7624 \tlocal loss: 2.2774\n"
     ]
    },
    {
     "name": "stderr",
     "output_type": "stream",
     "text": [
      "\r",
      "  4%|▍         | 4/100 [00:22<08:52,  5.54s/it]"
     ]
    },
    {
     "name": "stdout",
     "output_type": "stream",
     "text": [
      "Finished round 4 with global loss: 2.28144 \n",
      "\n",
      "Beginning round 5\n",
      "\tWorker: 8952 \tlocal loss: 2.2520\n",
      "\tWorker: 2464 \tlocal loss: 2.2653\n",
      "\tWorker: 7624 \tlocal loss: 2.2745\n"
     ]
    },
    {
     "name": "stderr",
     "output_type": "stream",
     "text": [
      "\r",
      "  5%|▌         | 5/100 [00:27<08:43,  5.51s/it]"
     ]
    },
    {
     "name": "stdout",
     "output_type": "stream",
     "text": [
      "Finished round 5 with global loss: 2.27637 \n",
      "\n",
      "Beginning round 6\n",
      "\tWorker: 8952 \tlocal loss: 2.2672\n",
      "\tWorker: 2464 \tlocal loss: 2.2494\n",
      "\tWorker: 7624 \tlocal loss: 2.2537\n"
     ]
    },
    {
     "name": "stderr",
     "output_type": "stream",
     "text": [
      "\r",
      "  6%|▌         | 6/100 [00:33<08:35,  5.49s/it]"
     ]
    },
    {
     "name": "stdout",
     "output_type": "stream",
     "text": [
      "Finished round 6 with global loss: 2.27137 \n",
      "\n",
      "Beginning round 7\n",
      "\tWorker: 8952 \tlocal loss: 2.2576\n",
      "\tWorker: 2464 \tlocal loss: 2.2308\n",
      "\tWorker: 7624 \tlocal loss: 2.2606\n"
     ]
    },
    {
     "name": "stderr",
     "output_type": "stream",
     "text": [
      "\r",
      "  7%|▋         | 7/100 [00:38<08:32,  5.51s/it]"
     ]
    },
    {
     "name": "stdout",
     "output_type": "stream",
     "text": [
      "Finished round 7 with global loss: 2.26614 \n",
      "\n",
      "Beginning round 8\n",
      "\tWorker: 8952 \tlocal loss: 2.2416\n",
      "\tWorker: 2464 \tlocal loss: 2.2429\n",
      "\tWorker: 7624 \tlocal loss: 2.2461\n"
     ]
    },
    {
     "name": "stderr",
     "output_type": "stream",
     "text": [
      "\r",
      "  8%|▊         | 8/100 [00:44<08:25,  5.50s/it]"
     ]
    },
    {
     "name": "stdout",
     "output_type": "stream",
     "text": [
      "Finished round 8 with global loss: 2.26086 \n",
      "\n",
      "Beginning round 9\n",
      "\tWorker: 8952 \tlocal loss: 2.2481\n",
      "\tWorker: 2464 \tlocal loss: 2.2249\n",
      "\tWorker: 7624 \tlocal loss: 2.2473\n"
     ]
    },
    {
     "name": "stderr",
     "output_type": "stream",
     "text": [
      "\r",
      "  9%|▉         | 9/100 [00:49<08:19,  5.49s/it]"
     ]
    },
    {
     "name": "stdout",
     "output_type": "stream",
     "text": [
      "Finished round 9 with global loss: 2.25556 \n",
      "\n",
      "Beginning round 10\n",
      "\tWorker: 8952 \tlocal loss: 2.2270\n",
      "\tWorker: 2464 \tlocal loss: 2.2279\n",
      "\tWorker: 7624 \tlocal loss: 2.2439\n"
     ]
    },
    {
     "name": "stderr",
     "output_type": "stream",
     "text": [
      "\r",
      " 10%|█         | 10/100 [00:54<08:13,  5.49s/it]"
     ]
    },
    {
     "name": "stdout",
     "output_type": "stream",
     "text": [
      "Finished round 10 with global loss: 2.24994 \n",
      "\n",
      "Beginning round 11\n",
      "\tWorker: 8952 \tlocal loss: 2.2252\n",
      "\tWorker: 2464 \tlocal loss: 2.2116\n",
      "\tWorker: 7624 \tlocal loss: 2.2229\n"
     ]
    },
    {
     "name": "stderr",
     "output_type": "stream",
     "text": [
      "\r",
      " 11%|█         | 11/100 [01:00<08:07,  5.48s/it]"
     ]
    },
    {
     "name": "stdout",
     "output_type": "stream",
     "text": [
      "Finished round 11 with global loss: 2.24422 \n",
      "\n",
      "Beginning round 12\n",
      "\tWorker: 8952 \tlocal loss: 2.2301\n",
      "\tWorker: 2464 \tlocal loss: 2.2007\n",
      "\tWorker: 7624 \tlocal loss: 2.2349\n"
     ]
    },
    {
     "name": "stderr",
     "output_type": "stream",
     "text": [
      "\r",
      " 12%|█▏        | 12/100 [01:05<08:01,  5.48s/it]"
     ]
    },
    {
     "name": "stdout",
     "output_type": "stream",
     "text": [
      "Finished round 12 with global loss: 2.23824 \n",
      "\n",
      "Beginning round 13\n",
      "\tWorker: 8952 \tlocal loss: 2.2028\n",
      "\tWorker: 2464 \tlocal loss: 2.1908\n",
      "\tWorker: 7624 \tlocal loss: 2.2183\n"
     ]
    },
    {
     "name": "stderr",
     "output_type": "stream",
     "text": [
      "\r",
      " 13%|█▎        | 13/100 [01:11<08:03,  5.55s/it]"
     ]
    },
    {
     "name": "stdout",
     "output_type": "stream",
     "text": [
      "Finished round 13 with global loss: 2.23201 \n",
      "\n",
      "Beginning round 14\n",
      "\tWorker: 8952 \tlocal loss: 2.2183\n",
      "\tWorker: 2464 \tlocal loss: 2.1664\n",
      "\tWorker: 7624 \tlocal loss: 2.2213\n"
     ]
    },
    {
     "name": "stderr",
     "output_type": "stream",
     "text": [
      "\r",
      " 14%|█▍        | 14/100 [01:17<07:57,  5.55s/it]"
     ]
    },
    {
     "name": "stdout",
     "output_type": "stream",
     "text": [
      "Finished round 14 with global loss: 2.22544 \n",
      "\n",
      "Beginning round 15\n",
      "\tWorker: 8952 \tlocal loss: 2.2179\n",
      "\tWorker: 2464 \tlocal loss: 2.1800\n",
      "\tWorker: 7624 \tlocal loss: 2.1967\n"
     ]
    },
    {
     "name": "stderr",
     "output_type": "stream",
     "text": [
      "\r",
      " 15%|█▌        | 15/100 [01:22<07:55,  5.60s/it]"
     ]
    },
    {
     "name": "stdout",
     "output_type": "stream",
     "text": [
      "Finished round 15 with global loss: 2.21847 \n",
      "\n",
      "Beginning round 16\n",
      "\tWorker: 8952 \tlocal loss: 2.2010\n",
      "\tWorker: 2464 \tlocal loss: 2.1348\n",
      "\tWorker: 7624 \tlocal loss: 2.2244\n"
     ]
    },
    {
     "name": "stderr",
     "output_type": "stream",
     "text": [
      "\r",
      " 16%|█▌        | 16/100 [01:28<07:47,  5.56s/it]"
     ]
    },
    {
     "name": "stdout",
     "output_type": "stream",
     "text": [
      "Finished round 16 with global loss: 2.21112 \n",
      "\n",
      "Beginning round 17\n",
      "\tWorker: 8952 \tlocal loss: 2.1779\n",
      "\tWorker: 2464 \tlocal loss: 2.1305\n",
      "\tWorker: 7624 \tlocal loss: 2.1995\n"
     ]
    },
    {
     "name": "stderr",
     "output_type": "stream",
     "text": [
      "\r",
      " 17%|█▋        | 17/100 [01:33<07:42,  5.58s/it]"
     ]
    },
    {
     "name": "stdout",
     "output_type": "stream",
     "text": [
      "Finished round 17 with global loss: 2.20338 \n",
      "\n",
      "Beginning round 18\n",
      "\tWorker: 8952 \tlocal loss: 2.1877\n",
      "\tWorker: 2464 \tlocal loss: 2.1698\n",
      "\tWorker: 7624 \tlocal loss: 2.2080\n"
     ]
    },
    {
     "name": "stderr",
     "output_type": "stream",
     "text": [
      "\r",
      " 18%|█▊        | 18/100 [01:39<07:34,  5.55s/it]"
     ]
    },
    {
     "name": "stdout",
     "output_type": "stream",
     "text": [
      "Finished round 18 with global loss: 2.19535 \n",
      "\n",
      "Beginning round 19\n",
      "\tWorker: 8952 \tlocal loss: 2.1848\n",
      "\tWorker: 2464 \tlocal loss: 2.1480\n",
      "\tWorker: 7624 \tlocal loss: 2.1929\n"
     ]
    },
    {
     "name": "stderr",
     "output_type": "stream",
     "text": [
      "\r",
      " 19%|█▉        | 19/100 [01:44<07:26,  5.52s/it]"
     ]
    },
    {
     "name": "stdout",
     "output_type": "stream",
     "text": [
      "Finished round 19 with global loss: 2.18664 \n",
      "\n",
      "Beginning round 20\n",
      "\tWorker: 8952 \tlocal loss: 2.1679\n",
      "\tWorker: 2464 \tlocal loss: 2.1390\n",
      "\tWorker: 7624 \tlocal loss: 2.1789\n"
     ]
    },
    {
     "name": "stderr",
     "output_type": "stream",
     "text": [
      "\r",
      " 20%|██        | 20/100 [01:50<07:21,  5.51s/it]"
     ]
    },
    {
     "name": "stdout",
     "output_type": "stream",
     "text": [
      "Finished round 20 with global loss: 2.17745 \n",
      "\n",
      "Beginning round 21\n",
      "\tWorker: 8952 \tlocal loss: 2.1100\n",
      "\tWorker: 2464 \tlocal loss: 2.1200\n",
      "\tWorker: 7624 \tlocal loss: 2.1575\n"
     ]
    },
    {
     "name": "stderr",
     "output_type": "stream",
     "text": [
      "\r",
      " 21%|██        | 21/100 [01:55<07:13,  5.48s/it]"
     ]
    },
    {
     "name": "stdout",
     "output_type": "stream",
     "text": [
      "Finished round 21 with global loss: 2.16794 \n",
      "\n",
      "Beginning round 22\n",
      "\tWorker: 8952 \tlocal loss: 2.1323\n",
      "\tWorker: 2464 \tlocal loss: 2.0861\n",
      "\tWorker: 7624 \tlocal loss: 2.1370\n"
     ]
    },
    {
     "name": "stderr",
     "output_type": "stream",
     "text": [
      "\r",
      " 22%|██▏       | 22/100 [02:01<07:05,  5.45s/it]"
     ]
    },
    {
     "name": "stdout",
     "output_type": "stream",
     "text": [
      "Finished round 22 with global loss: 2.15800 \n",
      "\n",
      "Beginning round 23\n",
      "\tWorker: 8952 \tlocal loss: 2.1217\n",
      "\tWorker: 2464 \tlocal loss: 2.0826\n",
      "\tWorker: 7624 \tlocal loss: 2.1319\n"
     ]
    },
    {
     "name": "stderr",
     "output_type": "stream",
     "text": [
      "\r",
      " 23%|██▎       | 23/100 [02:06<07:01,  5.48s/it]"
     ]
    },
    {
     "name": "stdout",
     "output_type": "stream",
     "text": [
      "Finished round 23 with global loss: 2.14730 \n",
      "\n",
      "Beginning round 24\n",
      "\tWorker: 8952 \tlocal loss: 2.1124\n",
      "\tWorker: 2464 \tlocal loss: 2.1185\n",
      "\tWorker: 7624 \tlocal loss: 2.1653\n"
     ]
    },
    {
     "name": "stderr",
     "output_type": "stream",
     "text": [
      "\r",
      " 24%|██▍       | 24/100 [02:12<06:55,  5.47s/it]"
     ]
    },
    {
     "name": "stdout",
     "output_type": "stream",
     "text": [
      "Finished round 24 with global loss: 2.13595 \n",
      "\n",
      "Beginning round 25\n",
      "\tWorker: 8952 \tlocal loss: 2.0757\n",
      "\tWorker: 2464 \tlocal loss: 1.9776\n",
      "\tWorker: 7624 \tlocal loss: 2.1248\n"
     ]
    },
    {
     "name": "stderr",
     "output_type": "stream",
     "text": [
      "\r",
      " 25%|██▌       | 25/100 [02:17<06:49,  5.46s/it]"
     ]
    },
    {
     "name": "stdout",
     "output_type": "stream",
     "text": [
      "Finished round 25 with global loss: 2.12426 \n",
      "\n",
      "Beginning round 26\n",
      "\tWorker: 8952 \tlocal loss: 2.0809\n",
      "\tWorker: 2464 \tlocal loss: 2.0877\n",
      "\tWorker: 7624 \tlocal loss: 2.1174\n"
     ]
    },
    {
     "name": "stderr",
     "output_type": "stream",
     "text": [
      "\r",
      " 26%|██▌       | 26/100 [02:23<06:55,  5.61s/it]"
     ]
    },
    {
     "name": "stdout",
     "output_type": "stream",
     "text": [
      "Finished round 26 with global loss: 2.11200 \n",
      "\n",
      "Beginning round 27\n",
      "\tWorker: 8952 \tlocal loss: 2.0505\n",
      "\tWorker: 2464 \tlocal loss: 2.0366\n",
      "\tWorker: 7624 \tlocal loss: 2.0874\n"
     ]
    },
    {
     "name": "stderr",
     "output_type": "stream",
     "text": [
      "\r",
      " 27%|██▋       | 27/100 [02:29<06:56,  5.70s/it]"
     ]
    },
    {
     "name": "stdout",
     "output_type": "stream",
     "text": [
      "Finished round 27 with global loss: 2.09892 \n",
      "\n",
      "Beginning round 28\n",
      "\tWorker: 8952 \tlocal loss: 2.0128\n",
      "\tWorker: 2464 \tlocal loss: 2.0222\n",
      "\tWorker: 7624 \tlocal loss: 2.1302\n"
     ]
    },
    {
     "name": "stderr",
     "output_type": "stream",
     "text": [
      "\r",
      " 28%|██▊       | 28/100 [02:35<06:46,  5.64s/it]"
     ]
    },
    {
     "name": "stdout",
     "output_type": "stream",
     "text": [
      "Finished round 28 with global loss: 2.08487 \n",
      "\n",
      "Beginning round 29\n",
      "\tWorker: 8952 \tlocal loss: 1.9927\n",
      "\tWorker: 2464 \tlocal loss: 2.0569\n",
      "\tWorker: 7624 \tlocal loss: 2.0306\n"
     ]
    },
    {
     "name": "stderr",
     "output_type": "stream",
     "text": [
      "\r",
      " 29%|██▉       | 29/100 [02:40<06:41,  5.65s/it]"
     ]
    },
    {
     "name": "stdout",
     "output_type": "stream",
     "text": [
      "Finished round 29 with global loss: 2.07062 \n",
      "\n",
      "Beginning round 30\n",
      "\tWorker: 8952 \tlocal loss: 1.9899\n",
      "\tWorker: 2464 \tlocal loss: 2.0446\n",
      "\tWorker: 7624 \tlocal loss: 2.0445\n"
     ]
    },
    {
     "name": "stderr",
     "output_type": "stream",
     "text": [
      "\r",
      " 30%|███       | 30/100 [02:46<06:35,  5.65s/it]"
     ]
    },
    {
     "name": "stdout",
     "output_type": "stream",
     "text": [
      "Finished round 30 with global loss: 2.05567 \n",
      "\n",
      "Beginning round 31\n",
      "\tWorker: 8952 \tlocal loss: 2.0141\n",
      "\tWorker: 2464 \tlocal loss: 1.9276\n",
      "\tWorker: 7624 \tlocal loss: 2.0070\n"
     ]
    },
    {
     "name": "stderr",
     "output_type": "stream",
     "text": [
      "\r",
      " 31%|███       | 31/100 [02:51<06:26,  5.61s/it]"
     ]
    },
    {
     "name": "stdout",
     "output_type": "stream",
     "text": [
      "Finished round 31 with global loss: 2.04024 \n",
      "\n",
      "Beginning round 32\n",
      "\tWorker: 8952 \tlocal loss: 2.0365\n",
      "\tWorker: 2464 \tlocal loss: 1.9872\n",
      "\tWorker: 7624 \tlocal loss: 2.0400\n"
     ]
    },
    {
     "name": "stderr",
     "output_type": "stream",
     "text": [
      "\r",
      " 32%|███▏      | 32/100 [02:57<06:19,  5.57s/it]"
     ]
    },
    {
     "name": "stdout",
     "output_type": "stream",
     "text": [
      "Finished round 32 with global loss: 2.02378 \n",
      "\n",
      "Beginning round 33\n",
      "\tWorker: 8952 \tlocal loss: 1.9131\n",
      "\tWorker: 2464 \tlocal loss: 1.8650\n",
      "\tWorker: 7624 \tlocal loss: 1.9911\n"
     ]
    },
    {
     "name": "stderr",
     "output_type": "stream",
     "text": [
      "\r",
      " 33%|███▎      | 33/100 [03:03<06:19,  5.66s/it]"
     ]
    },
    {
     "name": "stdout",
     "output_type": "stream",
     "text": [
      "Finished round 33 with global loss: 2.00720 \n",
      "\n",
      "Beginning round 34\n",
      "\tWorker: 8952 \tlocal loss: 1.9178\n",
      "\tWorker: 2464 \tlocal loss: 1.9460\n",
      "\tWorker: 7624 \tlocal loss: 1.9906\n"
     ]
    },
    {
     "name": "stderr",
     "output_type": "stream",
     "text": [
      "\r",
      " 34%|███▍      | 34/100 [03:08<06:13,  5.66s/it]"
     ]
    },
    {
     "name": "stdout",
     "output_type": "stream",
     "text": [
      "Finished round 34 with global loss: 1.98969 \n",
      "\n",
      "Beginning round 35\n",
      "\tWorker: 8952 \tlocal loss: 1.8720\n",
      "\tWorker: 2464 \tlocal loss: 1.8641\n",
      "\tWorker: 7624 \tlocal loss: 1.9927\n"
     ]
    },
    {
     "name": "stderr",
     "output_type": "stream",
     "text": [
      "\r",
      " 35%|███▌      | 35/100 [03:14<06:06,  5.64s/it]"
     ]
    },
    {
     "name": "stdout",
     "output_type": "stream",
     "text": [
      "Finished round 35 with global loss: 1.97110 \n",
      "\n",
      "Beginning round 36\n",
      "\tWorker: 8952 \tlocal loss: 1.8739\n",
      "\tWorker: 2464 \tlocal loss: 1.8897\n",
      "\tWorker: 7624 \tlocal loss: 1.9146\n"
     ]
    },
    {
     "name": "stderr",
     "output_type": "stream",
     "text": [
      "\r",
      " 36%|███▌      | 36/100 [03:20<06:02,  5.66s/it]"
     ]
    },
    {
     "name": "stdout",
     "output_type": "stream",
     "text": [
      "Finished round 36 with global loss: 1.95274 \n",
      "\n",
      "Beginning round 37\n",
      "\tWorker: 8952 \tlocal loss: 1.9263\n",
      "\tWorker: 2464 \tlocal loss: 1.8090\n",
      "\tWorker: 7624 \tlocal loss: 1.8572\n"
     ]
    },
    {
     "name": "stderr",
     "output_type": "stream",
     "text": [
      "\r",
      " 37%|███▋      | 37/100 [03:25<05:58,  5.69s/it]"
     ]
    },
    {
     "name": "stdout",
     "output_type": "stream",
     "text": [
      "Finished round 37 with global loss: 1.93303 \n",
      "\n",
      "Beginning round 38\n",
      "\tWorker: 8952 \tlocal loss: 1.8125\n",
      "\tWorker: 2464 \tlocal loss: 1.8580\n",
      "\tWorker: 7624 \tlocal loss: 1.8860\n"
     ]
    },
    {
     "name": "stderr",
     "output_type": "stream",
     "text": [
      "\r",
      " 38%|███▊      | 38/100 [03:31<05:55,  5.74s/it]"
     ]
    },
    {
     "name": "stdout",
     "output_type": "stream",
     "text": [
      "Finished round 38 with global loss: 1.91265 \n",
      "\n",
      "Beginning round 39\n",
      "\tWorker: 8952 \tlocal loss: 1.9015\n",
      "\tWorker: 2464 \tlocal loss: 1.7245\n",
      "\tWorker: 7624 \tlocal loss: 1.8963\n"
     ]
    },
    {
     "name": "stderr",
     "output_type": "stream",
     "text": [
      "\r",
      " 39%|███▉      | 39/100 [03:37<05:50,  5.74s/it]"
     ]
    },
    {
     "name": "stdout",
     "output_type": "stream",
     "text": [
      "Finished round 39 with global loss: 1.89240 \n",
      "\n",
      "Beginning round 40\n",
      "\tWorker: 8952 \tlocal loss: 1.6588\n",
      "\tWorker: 2464 \tlocal loss: 1.7315\n",
      "\tWorker: 7624 \tlocal loss: 1.9479\n"
     ]
    },
    {
     "name": "stderr",
     "output_type": "stream",
     "text": [
      "\r",
      " 40%|████      | 40/100 [03:43<05:44,  5.75s/it]"
     ]
    },
    {
     "name": "stdout",
     "output_type": "stream",
     "text": [
      "Finished round 40 with global loss: 1.87218 \n",
      "\n",
      "Beginning round 41\n",
      "\tWorker: 8952 \tlocal loss: 1.8490\n",
      "\tWorker: 2464 \tlocal loss: 1.8124\n",
      "\tWorker: 7624 \tlocal loss: 1.7954\n"
     ]
    },
    {
     "name": "stderr",
     "output_type": "stream",
     "text": [
      "\r",
      " 41%|████      | 41/100 [03:49<05:39,  5.76s/it]"
     ]
    },
    {
     "name": "stdout",
     "output_type": "stream",
     "text": [
      "Finished round 41 with global loss: 1.84981 \n",
      "\n",
      "Beginning round 42\n",
      "\tWorker: 8952 \tlocal loss: 1.7783\n",
      "\tWorker: 2464 \tlocal loss: 1.7623\n",
      "\tWorker: 7624 \tlocal loss: 1.7657\n"
     ]
    },
    {
     "name": "stderr",
     "output_type": "stream",
     "text": [
      "\r",
      " 42%|████▏     | 42/100 [03:54<05:33,  5.75s/it]"
     ]
    },
    {
     "name": "stdout",
     "output_type": "stream",
     "text": [
      "Finished round 42 with global loss: 1.82850 \n",
      "\n",
      "Beginning round 43\n",
      "\tWorker: 8952 \tlocal loss: 1.7295\n",
      "\tWorker: 2464 \tlocal loss: 1.7097\n",
      "\tWorker: 7624 \tlocal loss: 1.8120\n"
     ]
    },
    {
     "name": "stderr",
     "output_type": "stream",
     "text": [
      "\r",
      " 43%|████▎     | 43/100 [04:00<05:28,  5.76s/it]"
     ]
    },
    {
     "name": "stdout",
     "output_type": "stream",
     "text": [
      "Finished round 43 with global loss: 1.80712 \n",
      "\n",
      "Beginning round 44\n",
      "\tWorker: 8952 \tlocal loss: 1.7576\n",
      "\tWorker: 2464 \tlocal loss: 1.6319\n",
      "\tWorker: 7624 \tlocal loss: 1.8058\n"
     ]
    },
    {
     "name": "stderr",
     "output_type": "stream",
     "text": [
      "\r",
      " 44%|████▍     | 44/100 [04:06<05:22,  5.76s/it]"
     ]
    },
    {
     "name": "stdout",
     "output_type": "stream",
     "text": [
      "Finished round 44 with global loss: 1.78427 \n",
      "\n",
      "Beginning round 45\n",
      "\tWorker: 8952 \tlocal loss: 1.6779\n",
      "\tWorker: 2464 \tlocal loss: 1.6315\n",
      "\tWorker: 7624 \tlocal loss: 1.7565\n"
     ]
    },
    {
     "name": "stderr",
     "output_type": "stream",
     "text": [
      "\r",
      " 45%|████▌     | 45/100 [04:12<05:18,  5.79s/it]"
     ]
    },
    {
     "name": "stdout",
     "output_type": "stream",
     "text": [
      "Finished round 45 with global loss: 1.76138 \n",
      "\n",
      "Beginning round 46\n",
      "\tWorker: 8952 \tlocal loss: 1.7533\n",
      "\tWorker: 2464 \tlocal loss: 1.7013\n",
      "\tWorker: 7624 \tlocal loss: 1.6671\n"
     ]
    },
    {
     "name": "stderr",
     "output_type": "stream",
     "text": [
      "\r",
      " 46%|████▌     | 46/100 [04:18<05:13,  5.80s/it]"
     ]
    },
    {
     "name": "stdout",
     "output_type": "stream",
     "text": [
      "Finished round 46 with global loss: 1.73916 \n",
      "\n",
      "Beginning round 47\n",
      "\tWorker: 8952 \tlocal loss: 1.6756\n",
      "\tWorker: 2464 \tlocal loss: 1.6602\n",
      "\tWorker: 7624 \tlocal loss: 1.6977\n"
     ]
    },
    {
     "name": "stderr",
     "output_type": "stream",
     "text": [
      "\r",
      " 47%|████▋     | 47/100 [04:23<05:04,  5.75s/it]"
     ]
    },
    {
     "name": "stdout",
     "output_type": "stream",
     "text": [
      "Finished round 47 with global loss: 1.71678 \n",
      "\n",
      "Beginning round 48\n",
      "\tWorker: 8952 \tlocal loss: 1.5650\n",
      "\tWorker: 2464 \tlocal loss: 1.6277\n",
      "\tWorker: 7624 \tlocal loss: 1.6366\n"
     ]
    },
    {
     "name": "stderr",
     "output_type": "stream",
     "text": [
      "\r",
      " 48%|████▊     | 48/100 [04:29<04:58,  5.74s/it]"
     ]
    },
    {
     "name": "stdout",
     "output_type": "stream",
     "text": [
      "Finished round 48 with global loss: 1.69370 \n",
      "\n",
      "Beginning round 49\n",
      "\tWorker: 8952 \tlocal loss: 1.6448\n",
      "\tWorker: 2464 \tlocal loss: 1.5016\n",
      "\tWorker: 7624 \tlocal loss: 1.6659\n"
     ]
    },
    {
     "name": "stderr",
     "output_type": "stream",
     "text": [
      "\r",
      " 49%|████▉     | 49/100 [04:35<04:53,  5.76s/it]"
     ]
    },
    {
     "name": "stdout",
     "output_type": "stream",
     "text": [
      "Finished round 49 with global loss: 1.66955 \n",
      "\n",
      "Beginning round 50\n",
      "\tWorker: 8952 \tlocal loss: 1.6618\n",
      "\tWorker: 2464 \tlocal loss: 1.5914\n",
      "\tWorker: 7624 \tlocal loss: 1.6712\n"
     ]
    },
    {
     "name": "stderr",
     "output_type": "stream",
     "text": [
      "\r",
      " 50%|█████     | 50/100 [04:40<04:48,  5.78s/it]"
     ]
    },
    {
     "name": "stdout",
     "output_type": "stream",
     "text": [
      "Finished round 50 with global loss: 1.64587 \n",
      "\n",
      "Beginning round 51\n",
      "\tWorker: 8952 \tlocal loss: 1.6476\n",
      "\tWorker: 2464 \tlocal loss: 1.4882\n",
      "\tWorker: 7624 \tlocal loss: 1.6729\n"
     ]
    },
    {
     "name": "stderr",
     "output_type": "stream",
     "text": [
      "\r",
      " 51%|█████     | 51/100 [04:46<04:42,  5.77s/it]"
     ]
    },
    {
     "name": "stdout",
     "output_type": "stream",
     "text": [
      "Finished round 51 with global loss: 1.62169 \n",
      "\n",
      "Beginning round 52\n",
      "\tWorker: 8952 \tlocal loss: 1.5930\n",
      "\tWorker: 2464 \tlocal loss: 1.4610\n",
      "\tWorker: 7624 \tlocal loss: 1.6158\n"
     ]
    },
    {
     "name": "stderr",
     "output_type": "stream",
     "text": [
      "\r",
      " 52%|█████▏    | 52/100 [04:52<04:37,  5.79s/it]"
     ]
    },
    {
     "name": "stdout",
     "output_type": "stream",
     "text": [
      "Finished round 52 with global loss: 1.59796 \n",
      "\n",
      "Beginning round 53\n",
      "\tWorker: 8952 \tlocal loss: 1.5502\n",
      "\tWorker: 2464 \tlocal loss: 1.5356\n",
      "\tWorker: 7624 \tlocal loss: 1.5745\n"
     ]
    },
    {
     "name": "stderr",
     "output_type": "stream",
     "text": [
      "\r",
      " 53%|█████▎    | 53/100 [04:58<04:30,  5.75s/it]"
     ]
    },
    {
     "name": "stdout",
     "output_type": "stream",
     "text": [
      "Finished round 53 with global loss: 1.57504 \n",
      "\n",
      "Beginning round 54\n",
      "\tWorker: 8952 \tlocal loss: 1.4757\n",
      "\tWorker: 2464 \tlocal loss: 1.3090\n",
      "\tWorker: 7624 \tlocal loss: 1.5323\n"
     ]
    },
    {
     "name": "stderr",
     "output_type": "stream",
     "text": [
      "\r",
      " 54%|█████▍    | 54/100 [05:04<04:32,  5.92s/it]"
     ]
    },
    {
     "name": "stdout",
     "output_type": "stream",
     "text": [
      "Finished round 54 with global loss: 1.55153 \n",
      "\n",
      "Beginning round 55\n",
      "\tWorker: 8952 \tlocal loss: 1.4308\n",
      "\tWorker: 2464 \tlocal loss: 1.4807\n",
      "\tWorker: 7624 \tlocal loss: 1.5093\n"
     ]
    },
    {
     "name": "stderr",
     "output_type": "stream",
     "text": [
      "\r",
      " 55%|█████▌    | 55/100 [05:10<04:20,  5.79s/it]"
     ]
    },
    {
     "name": "stdout",
     "output_type": "stream",
     "text": [
      "Finished round 55 with global loss: 1.52805 \n",
      "\n",
      "Beginning round 56\n",
      "\tWorker: 8952 \tlocal loss: 1.4870\n",
      "\tWorker: 2464 \tlocal loss: 1.5478\n",
      "\tWorker: 7624 \tlocal loss: 1.5628\n"
     ]
    },
    {
     "name": "stderr",
     "output_type": "stream",
     "text": [
      "\r",
      " 56%|█████▌    | 56/100 [05:15<04:10,  5.70s/it]"
     ]
    },
    {
     "name": "stdout",
     "output_type": "stream",
     "text": [
      "Finished round 56 with global loss: 1.50219 \n",
      "\n",
      "Beginning round 57\n",
      "\tWorker: 8952 \tlocal loss: 1.3893\n",
      "\tWorker: 2464 \tlocal loss: 1.3703\n",
      "\tWorker: 7624 \tlocal loss: 1.4385\n"
     ]
    },
    {
     "name": "stderr",
     "output_type": "stream",
     "text": [
      "\r",
      " 57%|█████▋    | 57/100 [05:21<04:02,  5.65s/it]"
     ]
    },
    {
     "name": "stdout",
     "output_type": "stream",
     "text": [
      "Finished round 57 with global loss: 1.47750 \n",
      "\n",
      "Beginning round 58\n",
      "\tWorker: 8952 \tlocal loss: 1.3575\n",
      "\tWorker: 2464 \tlocal loss: 1.4768\n",
      "\tWorker: 7624 \tlocal loss: 1.3719\n"
     ]
    },
    {
     "name": "stderr",
     "output_type": "stream",
     "text": [
      "\r",
      " 58%|█████▊    | 58/100 [05:26<03:56,  5.62s/it]"
     ]
    },
    {
     "name": "stdout",
     "output_type": "stream",
     "text": [
      "Finished round 58 with global loss: 1.45584 \n",
      "\n",
      "Beginning round 59\n",
      "\tWorker: 8952 \tlocal loss: 1.3419\n",
      "\tWorker: 2464 \tlocal loss: 1.3351\n",
      "\tWorker: 7624 \tlocal loss: 1.4640\n"
     ]
    },
    {
     "name": "stderr",
     "output_type": "stream",
     "text": [
      "\r",
      " 59%|█████▉    | 59/100 [05:32<03:49,  5.61s/it]"
     ]
    },
    {
     "name": "stdout",
     "output_type": "stream",
     "text": [
      "Finished round 59 with global loss: 1.43132 \n",
      "\n",
      "Beginning round 60\n",
      "\tWorker: 8952 \tlocal loss: 1.3288\n",
      "\tWorker: 2464 \tlocal loss: 1.3724\n",
      "\tWorker: 7624 \tlocal loss: 1.4078\n"
     ]
    },
    {
     "name": "stderr",
     "output_type": "stream",
     "text": [
      "\r",
      " 60%|██████    | 60/100 [05:37<03:42,  5.57s/it]"
     ]
    },
    {
     "name": "stdout",
     "output_type": "stream",
     "text": [
      "Finished round 60 with global loss: 1.40765 \n",
      "\n",
      "Beginning round 61\n",
      "\tWorker: 8952 \tlocal loss: 1.3472\n",
      "\tWorker: 2464 \tlocal loss: 1.2429\n",
      "\tWorker: 7624 \tlocal loss: 1.3472\n"
     ]
    },
    {
     "name": "stderr",
     "output_type": "stream",
     "text": [
      "\r",
      " 61%|██████    | 61/100 [05:43<03:36,  5.56s/it]"
     ]
    },
    {
     "name": "stdout",
     "output_type": "stream",
     "text": [
      "Finished round 61 with global loss: 1.38433 \n",
      "\n",
      "Beginning round 62\n",
      "\tWorker: 8952 \tlocal loss: 1.2988\n",
      "\tWorker: 2464 \tlocal loss: 1.3731\n",
      "\tWorker: 7624 \tlocal loss: 1.2335\n"
     ]
    },
    {
     "name": "stderr",
     "output_type": "stream",
     "text": [
      "\r",
      " 62%|██████▏   | 62/100 [05:48<03:30,  5.54s/it]"
     ]
    },
    {
     "name": "stdout",
     "output_type": "stream",
     "text": [
      "Finished round 62 with global loss: 1.36117 \n",
      "\n",
      "Beginning round 63\n",
      "\tWorker: 8952 \tlocal loss: 1.3252\n",
      "\tWorker: 2464 \tlocal loss: 1.2872\n",
      "\tWorker: 7624 \tlocal loss: 1.2912\n"
     ]
    },
    {
     "name": "stderr",
     "output_type": "stream",
     "text": [
      "\r",
      " 63%|██████▎   | 63/100 [05:54<03:30,  5.70s/it]"
     ]
    },
    {
     "name": "stdout",
     "output_type": "stream",
     "text": [
      "Finished round 63 with global loss: 1.33920 \n",
      "\n",
      "Beginning round 64\n",
      "\tWorker: 8952 \tlocal loss: 1.2338\n",
      "\tWorker: 2464 \tlocal loss: 1.3429\n",
      "\tWorker: 7624 \tlocal loss: 1.3638\n"
     ]
    },
    {
     "name": "stderr",
     "output_type": "stream",
     "text": [
      "\r",
      " 64%|██████▍   | 64/100 [06:00<03:30,  5.84s/it]"
     ]
    },
    {
     "name": "stdout",
     "output_type": "stream",
     "text": [
      "Finished round 64 with global loss: 1.31586 \n",
      "\n",
      "Beginning round 65\n",
      "\tWorker: 8952 \tlocal loss: 1.1943\n",
      "\tWorker: 2464 \tlocal loss: 1.2713\n",
      "\tWorker: 7624 \tlocal loss: 1.2556\n"
     ]
    },
    {
     "name": "stderr",
     "output_type": "stream",
     "text": [
      "\r",
      " 65%|██████▌   | 65/100 [06:06<03:20,  5.73s/it]"
     ]
    },
    {
     "name": "stdout",
     "output_type": "stream",
     "text": [
      "Finished round 65 with global loss: 1.29374 \n",
      "\n",
      "Beginning round 66\n",
      "\tWorker: 8952 \tlocal loss: 1.2303\n",
      "\tWorker: 2464 \tlocal loss: 1.1707\n",
      "\tWorker: 7624 \tlocal loss: 1.2681\n"
     ]
    },
    {
     "name": "stderr",
     "output_type": "stream",
     "text": [
      "\r",
      " 66%|██████▌   | 66/100 [06:11<03:13,  5.68s/it]"
     ]
    },
    {
     "name": "stdout",
     "output_type": "stream",
     "text": [
      "Finished round 66 with global loss: 1.27243 \n",
      "\n",
      "Beginning round 67\n",
      "\tWorker: 8952 \tlocal loss: 1.1815\n",
      "\tWorker: 2464 \tlocal loss: 1.2052\n",
      "\tWorker: 7624 \tlocal loss: 1.1961\n"
     ]
    },
    {
     "name": "stderr",
     "output_type": "stream",
     "text": [
      "\r",
      " 67%|██████▋   | 67/100 [06:17<03:05,  5.61s/it]"
     ]
    },
    {
     "name": "stdout",
     "output_type": "stream",
     "text": [
      "Finished round 67 with global loss: 1.24933 \n",
      "\n",
      "Beginning round 68\n",
      "\tWorker: 8952 \tlocal loss: 1.2820\n",
      "\tWorker: 2464 \tlocal loss: 1.0614\n",
      "\tWorker: 7624 \tlocal loss: 1.2689\n"
     ]
    },
    {
     "name": "stderr",
     "output_type": "stream",
     "text": [
      "\r",
      " 68%|██████▊   | 68/100 [06:22<02:58,  5.58s/it]"
     ]
    },
    {
     "name": "stdout",
     "output_type": "stream",
     "text": [
      "Finished round 68 with global loss: 1.22768 \n",
      "\n",
      "Beginning round 69\n",
      "\tWorker: 8952 \tlocal loss: 1.1222\n",
      "\tWorker: 2464 \tlocal loss: 1.2437\n",
      "\tWorker: 7624 \tlocal loss: 1.1848\n"
     ]
    },
    {
     "name": "stderr",
     "output_type": "stream",
     "text": [
      "\r",
      " 69%|██████▉   | 69/100 [06:28<02:52,  5.56s/it]"
     ]
    },
    {
     "name": "stdout",
     "output_type": "stream",
     "text": [
      "Finished round 69 with global loss: 1.20726 \n",
      "\n",
      "Beginning round 70\n",
      "\tWorker: 8952 \tlocal loss: 1.1438\n",
      "\tWorker: 2464 \tlocal loss: 1.0932\n",
      "\tWorker: 7624 \tlocal loss: 1.2391\n"
     ]
    },
    {
     "name": "stderr",
     "output_type": "stream",
     "text": [
      "\r",
      " 70%|███████   | 70/100 [06:33<02:46,  5.55s/it]"
     ]
    },
    {
     "name": "stdout",
     "output_type": "stream",
     "text": [
      "Finished round 70 with global loss: 1.18681 \n",
      "\n",
      "Beginning round 71\n",
      "\tWorker: 8952 \tlocal loss: 1.0588\n",
      "\tWorker: 2464 \tlocal loss: 1.1086\n",
      "\tWorker: 7624 \tlocal loss: 1.0916\n"
     ]
    },
    {
     "name": "stderr",
     "output_type": "stream",
     "text": [
      "\r",
      " 71%|███████   | 71/100 [06:39<02:40,  5.54s/it]"
     ]
    },
    {
     "name": "stdout",
     "output_type": "stream",
     "text": [
      "Finished round 71 with global loss: 1.16809 \n",
      "\n",
      "Beginning round 72\n",
      "\tWorker: 8952 \tlocal loss: 1.1947\n",
      "\tWorker: 2464 \tlocal loss: 1.0703\n",
      "\tWorker: 7624 \tlocal loss: 1.1319\n"
     ]
    },
    {
     "name": "stderr",
     "output_type": "stream",
     "text": [
      "\r",
      " 72%|███████▏  | 72/100 [06:45<02:35,  5.54s/it]"
     ]
    },
    {
     "name": "stdout",
     "output_type": "stream",
     "text": [
      "Finished round 72 with global loss: 1.14807 \n",
      "\n",
      "Beginning round 73\n",
      "\tWorker: 8952 \tlocal loss: 0.9805\n",
      "\tWorker: 2464 \tlocal loss: 1.1448\n",
      "\tWorker: 7624 \tlocal loss: 1.0816\n"
     ]
    },
    {
     "name": "stderr",
     "output_type": "stream",
     "text": [
      "\r",
      " 73%|███████▎  | 73/100 [06:50<02:29,  5.54s/it]"
     ]
    },
    {
     "name": "stdout",
     "output_type": "stream",
     "text": [
      "Finished round 73 with global loss: 1.12910 \n",
      "\n",
      "Beginning round 74\n",
      "\tWorker: 8952 \tlocal loss: 1.0112\n",
      "\tWorker: 2464 \tlocal loss: 1.0487\n",
      "\tWorker: 7624 \tlocal loss: 1.1228\n"
     ]
    },
    {
     "name": "stderr",
     "output_type": "stream",
     "text": [
      "\r",
      " 74%|███████▍  | 74/100 [06:56<02:23,  5.52s/it]"
     ]
    },
    {
     "name": "stdout",
     "output_type": "stream",
     "text": [
      "Finished round 74 with global loss: 1.10938 \n",
      "\n",
      "Beginning round 75\n",
      "\tWorker: 8952 \tlocal loss: 1.0452\n",
      "\tWorker: 2464 \tlocal loss: 1.0816\n",
      "\tWorker: 7624 \tlocal loss: 1.1725\n"
     ]
    },
    {
     "name": "stderr",
     "output_type": "stream",
     "text": [
      "\r",
      " 75%|███████▌  | 75/100 [07:01<02:18,  5.53s/it]"
     ]
    },
    {
     "name": "stdout",
     "output_type": "stream",
     "text": [
      "Finished round 75 with global loss: 1.09322 \n",
      "\n",
      "Beginning round 76\n",
      "\tWorker: 8952 \tlocal loss: 0.9235\n",
      "\tWorker: 2464 \tlocal loss: 0.9580\n",
      "\tWorker: 7624 \tlocal loss: 1.0679\n"
     ]
    },
    {
     "name": "stderr",
     "output_type": "stream",
     "text": [
      "\r",
      " 76%|███████▌  | 76/100 [07:07<02:12,  5.52s/it]"
     ]
    },
    {
     "name": "stdout",
     "output_type": "stream",
     "text": [
      "Finished round 76 with global loss: 1.07634 \n",
      "\n",
      "Beginning round 77\n",
      "\tWorker: 8952 \tlocal loss: 1.0889\n",
      "\tWorker: 2464 \tlocal loss: 1.1237\n",
      "\tWorker: 7624 \tlocal loss: 1.1095\n"
     ]
    },
    {
     "name": "stderr",
     "output_type": "stream",
     "text": [
      "\r",
      " 77%|███████▋  | 77/100 [07:14<02:18,  6.01s/it]"
     ]
    },
    {
     "name": "stdout",
     "output_type": "stream",
     "text": [
      "Finished round 77 with global loss: 1.05767 \n",
      "\n",
      "Beginning round 78\n",
      "\tWorker: 8952 \tlocal loss: 0.9254\n",
      "\tWorker: 2464 \tlocal loss: 0.9109\n",
      "\tWorker: 7624 \tlocal loss: 1.0405\n"
     ]
    },
    {
     "name": "stderr",
     "output_type": "stream",
     "text": [
      "\r",
      " 78%|███████▊  | 78/100 [07:20<02:13,  6.07s/it]"
     ]
    },
    {
     "name": "stdout",
     "output_type": "stream",
     "text": [
      "Finished round 78 with global loss: 1.04136 \n",
      "\n",
      "Beginning round 79\n",
      "\tWorker: 8952 \tlocal loss: 0.9302\n",
      "\tWorker: 2464 \tlocal loss: 0.9759\n",
      "\tWorker: 7624 \tlocal loss: 1.0209\n"
     ]
    },
    {
     "name": "stderr",
     "output_type": "stream",
     "text": [
      "\r",
      " 79%|███████▉  | 79/100 [07:26<02:04,  5.93s/it]"
     ]
    },
    {
     "name": "stdout",
     "output_type": "stream",
     "text": [
      "Finished round 79 with global loss: 1.02439 \n",
      "\n",
      "Beginning round 80\n",
      "\tWorker: 8952 \tlocal loss: 0.9376\n",
      "\tWorker: 2464 \tlocal loss: 1.0549\n",
      "\tWorker: 7624 \tlocal loss: 1.1247\n"
     ]
    },
    {
     "name": "stderr",
     "output_type": "stream",
     "text": [
      "\r",
      " 80%|████████  | 80/100 [07:32<01:58,  5.93s/it]"
     ]
    },
    {
     "name": "stdout",
     "output_type": "stream",
     "text": [
      "Finished round 80 with global loss: 1.00775 \n",
      "\n",
      "Beginning round 81\n",
      "\tWorker: 8952 \tlocal loss: 1.0361\n",
      "\tWorker: 2464 \tlocal loss: 0.9916\n",
      "\tWorker: 7624 \tlocal loss: 0.9905\n"
     ]
    },
    {
     "name": "stderr",
     "output_type": "stream",
     "text": [
      "\r",
      " 81%|████████  | 81/100 [07:38<01:57,  6.18s/it]"
     ]
    },
    {
     "name": "stdout",
     "output_type": "stream",
     "text": [
      "Finished round 81 with global loss: 0.99275 \n",
      "\n",
      "Beginning round 82\n",
      "\tWorker: 8952 \tlocal loss: 0.9593\n",
      "\tWorker: 2464 \tlocal loss: 0.9763\n",
      "\tWorker: 7624 \tlocal loss: 0.9561\n"
     ]
    },
    {
     "name": "stderr",
     "output_type": "stream",
     "text": [
      "\r",
      " 82%|████████▏ | 82/100 [07:45<01:56,  6.47s/it]"
     ]
    },
    {
     "name": "stdout",
     "output_type": "stream",
     "text": [
      "Finished round 82 with global loss: 0.97791 \n",
      "\n",
      "Beginning round 83\n",
      "\tWorker: 8952 \tlocal loss: 0.9027\n",
      "\tWorker: 2464 \tlocal loss: 0.8450\n",
      "\tWorker: 7624 \tlocal loss: 1.0080\n"
     ]
    },
    {
     "name": "stderr",
     "output_type": "stream",
     "text": [
      "\r",
      " 83%|████████▎ | 83/100 [07:54<01:59,  7.06s/it]"
     ]
    },
    {
     "name": "stdout",
     "output_type": "stream",
     "text": [
      "Finished round 83 with global loss: 0.96551 \n",
      "\n",
      "Beginning round 84\n",
      "\tWorker: 8952 \tlocal loss: 0.8884\n",
      "\tWorker: 2464 \tlocal loss: 0.8726\n",
      "\tWorker: 7624 \tlocal loss: 0.7996\n"
     ]
    },
    {
     "name": "stderr",
     "output_type": "stream",
     "text": [
      "\r",
      " 84%|████████▍ | 84/100 [08:01<01:53,  7.11s/it]"
     ]
    },
    {
     "name": "stdout",
     "output_type": "stream",
     "text": [
      "Finished round 84 with global loss: 0.95065 \n",
      "\n",
      "Beginning round 85\n",
      "\tWorker: 8952 \tlocal loss: 0.8746\n",
      "\tWorker: 2464 \tlocal loss: 0.8089\n",
      "\tWorker: 7624 \tlocal loss: 0.8966\n"
     ]
    },
    {
     "name": "stderr",
     "output_type": "stream",
     "text": [
      "\r",
      " 85%|████████▌ | 85/100 [08:09<01:48,  7.22s/it]"
     ]
    },
    {
     "name": "stdout",
     "output_type": "stream",
     "text": [
      "Finished round 85 with global loss: 0.93685 \n",
      "\n",
      "Beginning round 86\n",
      "\tWorker: 8952 \tlocal loss: 0.8857\n",
      "\tWorker: 2464 \tlocal loss: 0.8728\n",
      "\tWorker: 7624 \tlocal loss: 1.0425\n"
     ]
    },
    {
     "name": "stderr",
     "output_type": "stream",
     "text": [
      "\r",
      " 86%|████████▌ | 86/100 [08:15<01:37,  6.98s/it]"
     ]
    },
    {
     "name": "stdout",
     "output_type": "stream",
     "text": [
      "Finished round 86 with global loss: 0.92395 \n",
      "\n",
      "Beginning round 87\n",
      "\tWorker: 8952 \tlocal loss: 0.8921\n",
      "\tWorker: 2464 \tlocal loss: 0.9011\n",
      "\tWorker: 7624 \tlocal loss: 0.8192\n"
     ]
    },
    {
     "name": "stderr",
     "output_type": "stream",
     "text": [
      "\r",
      " 87%|████████▋ | 87/100 [08:21<01:26,  6.66s/it]"
     ]
    },
    {
     "name": "stdout",
     "output_type": "stream",
     "text": [
      "Finished round 87 with global loss: 0.91037 \n",
      "\n",
      "Beginning round 88\n",
      "\tWorker: 8952 \tlocal loss: 0.7423\n",
      "\tWorker: 2464 \tlocal loss: 0.7970\n",
      "\tWorker: 7624 \tlocal loss: 0.8525\n"
     ]
    },
    {
     "name": "stderr",
     "output_type": "stream",
     "text": [
      "\r",
      " 88%|████████▊ | 88/100 [08:27<01:18,  6.54s/it]"
     ]
    },
    {
     "name": "stdout",
     "output_type": "stream",
     "text": [
      "Finished round 88 with global loss: 0.89764 \n",
      "\n",
      "Beginning round 89\n",
      "\tWorker: 8952 \tlocal loss: 0.8710\n",
      "\tWorker: 2464 \tlocal loss: 0.7800\n",
      "\tWorker: 7624 \tlocal loss: 0.9408\n"
     ]
    },
    {
     "name": "stderr",
     "output_type": "stream",
     "text": [
      "\r",
      " 89%|████████▉ | 89/100 [08:33<01:10,  6.45s/it]"
     ]
    },
    {
     "name": "stdout",
     "output_type": "stream",
     "text": [
      "Finished round 89 with global loss: 0.88589 \n",
      "\n",
      "Beginning round 90\n",
      "\tWorker: 8952 \tlocal loss: 0.8359\n",
      "\tWorker: 2464 \tlocal loss: 0.9020\n",
      "\tWorker: 7624 \tlocal loss: 0.8453\n"
     ]
    },
    {
     "name": "stderr",
     "output_type": "stream",
     "text": [
      "\r",
      " 90%|█████████ | 90/100 [08:39<01:03,  6.33s/it]"
     ]
    },
    {
     "name": "stdout",
     "output_type": "stream",
     "text": [
      "Finished round 90 with global loss: 0.87364 \n",
      "\n",
      "Beginning round 91\n",
      "\tWorker: 8952 \tlocal loss: 0.8380\n",
      "\tWorker: 2464 \tlocal loss: 0.8268\n",
      "\tWorker: 7624 \tlocal loss: 0.7993\n"
     ]
    },
    {
     "name": "stderr",
     "output_type": "stream",
     "text": [
      "\r",
      " 91%|█████████ | 91/100 [08:46<00:56,  6.30s/it]"
     ]
    },
    {
     "name": "stdout",
     "output_type": "stream",
     "text": [
      "Finished round 91 with global loss: 0.86101 \n",
      "\n",
      "Beginning round 92\n",
      "\tWorker: 8952 \tlocal loss: 0.7785\n",
      "\tWorker: 2464 \tlocal loss: 0.8054\n",
      "\tWorker: 7624 \tlocal loss: 0.8151\n"
     ]
    },
    {
     "name": "stderr",
     "output_type": "stream",
     "text": [
      "\r",
      " 92%|█████████▏| 92/100 [08:52<00:50,  6.37s/it]"
     ]
    },
    {
     "name": "stdout",
     "output_type": "stream",
     "text": [
      "Finished round 92 with global loss: 0.85080 \n",
      "\n",
      "Beginning round 93\n",
      "\tWorker: 8952 \tlocal loss: 0.8957\n",
      "\tWorker: 2464 \tlocal loss: 0.8855\n",
      "\tWorker: 7624 \tlocal loss: 0.8809\n"
     ]
    },
    {
     "name": "stderr",
     "output_type": "stream",
     "text": [
      "\r",
      " 93%|█████████▎| 93/100 [08:59<00:45,  6.49s/it]"
     ]
    },
    {
     "name": "stdout",
     "output_type": "stream",
     "text": [
      "Finished round 93 with global loss: 0.83881 \n",
      "\n",
      "Beginning round 94\n",
      "\tWorker: 8952 \tlocal loss: 0.8821\n",
      "\tWorker: 2464 \tlocal loss: 0.7857\n",
      "\tWorker: 7624 \tlocal loss: 0.7766\n"
     ]
    },
    {
     "name": "stderr",
     "output_type": "stream",
     "text": [
      "\r",
      " 94%|█████████▍| 94/100 [09:06<00:39,  6.61s/it]"
     ]
    },
    {
     "name": "stdout",
     "output_type": "stream",
     "text": [
      "Finished round 94 with global loss: 0.82783 \n",
      "\n",
      "Beginning round 95\n",
      "\tWorker: 8952 \tlocal loss: 0.9385\n",
      "\tWorker: 2464 \tlocal loss: 0.8030\n",
      "\tWorker: 7624 \tlocal loss: 0.7881\n"
     ]
    },
    {
     "name": "stderr",
     "output_type": "stream",
     "text": [
      "\r",
      " 95%|█████████▌| 95/100 [09:12<00:32,  6.48s/it]"
     ]
    },
    {
     "name": "stdout",
     "output_type": "stream",
     "text": [
      "Finished round 95 with global loss: 0.81767 \n",
      "\n",
      "Beginning round 96\n",
      "\tWorker: 8952 \tlocal loss: 0.8252\n",
      "\tWorker: 2464 \tlocal loss: 0.6668\n",
      "\tWorker: 7624 \tlocal loss: 0.7541\n"
     ]
    },
    {
     "name": "stderr",
     "output_type": "stream",
     "text": [
      "\r",
      " 96%|█████████▌| 96/100 [09:19<00:26,  6.74s/it]"
     ]
    },
    {
     "name": "stdout",
     "output_type": "stream",
     "text": [
      "Finished round 96 with global loss: 0.80901 \n",
      "\n",
      "Beginning round 97\n",
      "\tWorker: 8952 \tlocal loss: 0.7763\n",
      "\tWorker: 2464 \tlocal loss: 0.8266\n",
      "\tWorker: 7624 \tlocal loss: 0.7841\n"
     ]
    },
    {
     "name": "stderr",
     "output_type": "stream",
     "text": [
      "\r",
      " 97%|█████████▋| 97/100 [09:26<00:19,  6.62s/it]"
     ]
    },
    {
     "name": "stdout",
     "output_type": "stream",
     "text": [
      "Finished round 97 with global loss: 0.79879 \n",
      "\n",
      "Beginning round 98\n",
      "\tWorker: 8952 \tlocal loss: 0.7767\n",
      "\tWorker: 2464 \tlocal loss: 0.7421\n",
      "\tWorker: 7624 \tlocal loss: 0.6844\n"
     ]
    },
    {
     "name": "stderr",
     "output_type": "stream",
     "text": [
      "\r",
      " 98%|█████████▊| 98/100 [09:32<00:13,  6.52s/it]"
     ]
    },
    {
     "name": "stdout",
     "output_type": "stream",
     "text": [
      "Finished round 98 with global loss: 0.78993 \n",
      "\n",
      "Beginning round 99\n",
      "\tWorker: 8952 \tlocal loss: 0.7337\n",
      "\tWorker: 2464 \tlocal loss: 0.8065\n",
      "\tWorker: 7624 \tlocal loss: 0.7355\n"
     ]
    },
    {
     "name": "stderr",
     "output_type": "stream",
     "text": [
      "\r",
      " 99%|█████████▉| 99/100 [09:39<00:06,  6.57s/it]"
     ]
    },
    {
     "name": "stdout",
     "output_type": "stream",
     "text": [
      "Finished round 99 with global loss: 0.77994 \n",
      "\n",
      "Beginning round 100\n",
      "\tWorker: 8952 \tlocal loss: 0.6767\n",
      "\tWorker: 2464 \tlocal loss: 0.7230\n",
      "\tWorker: 7624 \tlocal loss: 0.8470\n"
     ]
    },
    {
     "name": "stderr",
     "output_type": "stream",
     "text": [
      "\r",
      "100%|██████████| 100/100 [09:45<00:00,  6.47s/it]"
     ]
    },
    {
     "name": "stdout",
     "output_type": "stream",
     "text": [
      "Finished round 100 with global loss: 0.77181 \n",
      "\n",
      "Federated Training Time: 585.42\n"
     ]
    },
    {
     "name": "stderr",
     "output_type": "stream",
     "text": [
      "\n"
     ]
    }
   ],
   "source": [
    "print(\"Training\", num_rounds, \"round(s) with\", manager.n_workers, \"worker(s) doing\", num_epochs, \"epoch(s) per round.\\n\" )\n",
    "\n",
    "training_start_time = time.time()\n",
    "\n",
    "for i in tqdm(range(num_rounds)):\n",
    "    print(\"Beginning round\", i+1)\n",
    "    manager.round()\n",
    "    print(\"Finished round\", i+1, \"with global loss: %.5f\" % manager.manager_loss_history[-1], \"\\n\")\n",
    "\n",
    "run_data['Federated Training Time'] = time.time() - training_start_time\n",
    "#run_data['Manager Loss History'] = manager.manager_loss_history\n",
    "#run_data['Worker Loss Histories'] = manager.worker_loss_histories\n",
    "run_data['Final Global Loss'] = manager.manager_loss_history[-1]\n",
    "\n",
    "print('Federated Training Time: %.2f' % run_data['Federated Training Time'])"
   ]
  },
  {
   "cell_type": "code",
   "execution_count": 17,
   "metadata": {},
   "outputs": [
    {
     "data": {
      "image/png": "[encoded data removed]",
      "text/plain": [
       "<Figure size 1080x720 with 1 Axes>"
      ]
     },
     "metadata": {
      "needs_background": "light"
     },
     "output_type": "display_data"
    }
   ],
   "source": [
    "%matplotlib inline\n",
    "import matplotlib.pyplot as plt\n",
    "\n",
    "fig, ax = plt.subplots(figsize=(15, 10))\n",
    "# loss of global model on test set gets recorded twice per round\n",
    "# [1::2] skips the record that takes place before that round's training has happened\n",
    "ax.plot(manager.manager_loss_history[1::2], label=\"Global Loss\", )\n",
    "ax.set_xlabel(\"Round\");\n",
    "ax.legend();"
   ]
  },
  {
   "cell_type": "code",
   "execution_count": 18,
   "metadata": {},
   "outputs": [
    {
     "data": {
      "image/png": "[encoded data removed]",
      "text/plain": [
       "<Figure size 1080x720 with 1 Axes>"
      ]
     },
     "metadata": {
      "needs_background": "light"
     },
     "output_type": "display_data"
    }
   ],
   "source": [
    "fig, ax = plt.subplots(figsize=(15, 10))\n",
    "\n",
    "for i in range(len(manager.worker_loss_histories)):\n",
    "    ax.plot(manager.worker_loss_histories[i], label=('Worker ' + str(i)))\n",
    "    ax.legend();"
   ]
  },
  {
   "cell_type": "markdown",
   "metadata": {},
   "source": [
    "TODO: Write a bit of code that records the hyperparameters and saves the graphs, times and losses in a bundle for each run. Something like:\n",
    "\n",
    "```\n",
    "2019-05-06 21:02:50\n",
    "\n",
    "# standard dataloader parameter\n",
    "batch_size = 128\n",
    "\n",
    "# biasing parameters\n",
    "skew_bias = 0.3\n",
    "loader_size = 8192\n",
    "num_workers = 10\n",
    "\n",
    "Stacked set creation time: 00:01:08\n",
    "\n",
    "# training parameters\n",
    "learning_rate = 1e-2\n",
    "num_epochs = 1\n",
    "num_rounds = 20\n",
    "\n",
    "Train time = 00:43:02\n",
    "\n",
    "Final global loss: 0.48251\n",
    "```\n",
    "\n",
    "Well. I did this. And now the code is unreadable."
   ]
  },
  {
   "cell_type": "markdown",
   "metadata": {},
   "source": [
    "Outline:\n",
    "- Set up a model and data\n",
    "- train the model N epochs without federation note baseline performance (and size of the data that would have to have been transferedd?) \n",
    "    - is this model trained on the full dataset? Or do we sample randomly across it to have the same number of examples?\n",
    "- Federate without skew or mild skew, compare performance with baseline (and size of model compared to data)\n",
    "- Federate with only a few numbers skewed (like, lacking only 7s or something) \n",
    "- Federate with heavy skew\n",
    "- Federate with complete skew\n",
    "\n",
    "Ideas:\n",
    "- plot performance on a given numeral for the main model next to that of a worker skewed against that numeral. Let both run without federation or run a few epochs before federation. Show this as a baseline\n",
    "- histogram of numerals? More for curiosity, but shows spread of data that we might want to reflect in the baseline training.\n",
    "- post 1: what's the accuracy loss for federation compared to baseline direct training?\n",
    "- post 2: weird side stats\n",
    "    - skew vs. accuracy\n",
    "        - plot - x-axis = skew, y-axis = accuracy\n",
    "    - run all to convergence, compare how long to reach comparable accuracy?\n",
    "        - time or epochs necessary to reach comparable accuracy between federated and standard approach\n",
    "        - time or epochs necessary to reach comparable accuracy by skew\n",
    "    - \n",
    "\n",
    "Questions:\n",
    "- Why does the time spent by a worker on any given epoch all happen _before_ the batches start rolling in? What's happening there? Am I just spinning my wheels on something?\n",
    "    - TODO: try this from a regular python file. The notebook may be buffering up those print statements in the batches\n",
    "- Why does random selection of the skewed datasets take so long? Is it because they're without replacement?\n",
    "- Why do all the workers and epochs always happen in order? Wouldn't my laptop parallelize them across cores? Is that too much to ask from an interpreter? Is the interpreter smarter than I am and actually is parallelizing them and the smartest way in to do them in order?\n",
    "- why use ten workers? Why not fewer?"
   ]
  },
  {
   "cell_type": "code",
   "execution_count": null,
   "metadata": {},
   "outputs": [],
   "source": []
  },
  {
   "cell_type": "code",
   "execution_count": null,
   "metadata": {},
   "outputs": [],
   "source": []
  },
  {
   "cell_type": "code",
   "execution_count": 19,
   "metadata": {
    "scrolled": true
   },
   "outputs": [
    {
     "data": {
      "text/plain": [
       "{'Date': '2019-05-15 17:10:10',\n",
       " 'Global Start Time': 1557954610.2368684,\n",
       " 'Batch Size': 128,\n",
       " 'Skew Bias': 0.5,\n",
       " 'Examples Per Skewed Loader': 1024,\n",
       " 'Number of Workers': 3,\n",
       " 'Stacking Time': 27.910616636276245,\n",
       " 'Stacking Time per Loader': 9.303538878758749,\n",
       " 'Learning Rate': 0.01,\n",
       " 'Epochs per Round': 1,\n",
       " 'Federated Training Rounds': 100,\n",
       " 'Federated Training Time': 585.4245042800903,\n",
       " 'Final Global Loss': 0.7718092203140259,\n",
       " 'Global End Time': 1557955236.9715736,\n",
       " 'Global Time': 626.734705209732}"
      ]
     },
     "execution_count": 19,
     "metadata": {},
     "output_type": "execute_result"
    }
   ],
   "source": [
    "# a little performance info on the run\n",
    "run_data['Global End Time'] = time.time()\n",
    "run_data['Global Time'] = run_data['Global End Time'] - run_data['Global Start Time']\n",
    "run_data"
   ]
  },
  {
   "cell_type": "code",
   "execution_count": 20,
   "metadata": {},
   "outputs": [],
   "source": [
    "# leave a record of the run\n",
    "# but it isn't valid JSON\n",
    "import json \n",
    "with open('run_data.json', 'a') as file:\n",
    "    file.write(json.dumps(run_data))\n",
    "    file.write('\\n\\n')"
   ]
  }
 ],
 "metadata": {
  "kernelspec": {
   "display_name": "Python 3",
   "language": "python",
   "name": "python3"
  },
  "language_info": {
   "codemirror_mode": {
    "name": "ipython",
    "version": 3
   },
   "file_extension": ".py",
   "mimetype": "text/x-python",
   "name": "python",
   "nbconvert_exporter": "python",
   "pygments_lexer": "ipython3",
   "version": "3.6.7"
  }
 },
 "nbformat": 4,
 "nbformat_minor": 2
}
