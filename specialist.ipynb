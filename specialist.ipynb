{
 "cells": [
  {
   "cell_type": "code",
   "execution_count": 1,
   "metadata": {},
   "outputs": [],
   "source": [
    "import pprint\n",
    "from tqdm.notebook import trange, tqdm\n",
    "\n",
    "pp = pprint.PrettyPrinter()"
   ]
  },
  {
   "cell_type": "code",
   "execution_count": 2,
   "metadata": {},
   "outputs": [],
   "source": [
    "import torch.nn as nn\n",
    "import torch.nn.functional as F\n",
    "import torch.optim\n",
    "\n",
    "class FederatedManager:\n",
    "\n",
    "    def __init__(self, \n",
    "                 name,\n",
    "                 dataloaders, \n",
    "                 test,\n",
    "                 make_model,\n",
    "                 loss_fn=nn.CrossEntropyLoss(), \n",
    "                 n_epochs=1, \n",
    "                 lr=1e-2, \n",
    "                 verbose=False, \n",
    "                 *args, **kwargs):\n",
    "        \n",
    "        self.dataloaders = dataloaders\n",
    "        self.n_workers = len(dataloaders)\n",
    "        self.n_epochs = n_epochs\n",
    "        self.lr = lr\n",
    "        self.verbose = verbose\n",
    "        self.name = name\n",
    "        self.history = {\"test_loss\": [], \"test_acc\": []}\n",
    "        self.make_model = make_model\n",
    "        self.model = self.make_model()\n",
    "        self.model.train(False)\n",
    "        self.loss_fn = loss_fn\n",
    "        self.Xtest, self.ytest = consume_dataset(test)\n",
    "        self.workers = []\n",
    "        for i, dl in enumerate(dataloaders):\n",
    "            self.workers.append(FederatedWorker(i, \n",
    "                                                self, \n",
    "                                                dl, \n",
    "                                                loss_fn,\n",
    "                                                n_epochs=n_epochs, \n",
    "                                                lr=lr, \n",
    "                                                verbose=verbose,\n",
    "                                                *args,\n",
    "                                                **kwargs))\n",
    "        self.worker_loss_histories = [[] for _ in self.workers]\n",
    "\n",
    "    def round(self):\n",
    "        \"\"\"\n",
    "        Do a round of federated learning:\n",
    "         - instruct each worker to train and return its model\n",
    "         - replace the server model the weighted average of the worker models\n",
    "         - replace the worker models with the server model\n",
    "        Workers with `participant=False` train but are not included in the\n",
    "        weighted average and do not receive a copy of the server model.\n",
    "        \"\"\"\n",
    "        updates = [w.train() for w in self.workers]\n",
    "        self.fedavg(\n",
    "            [u for u, w in zip(updates, self.workers) if w.participant]\n",
    "        )\n",
    "        self.push_model(w for w in self.workers if w.participant)\n",
    "        self.record_loss()\n",
    "\n",
    "    def fedavg(self, updates):\n",
    "        \"\"\"\n",
    "        Replace the manager model with the weighted average of the node models.\n",
    "        \"\"\"\n",
    "        N = sum(u[\"n_samples\"] for u in updates)\n",
    "        for key, value in self.model.state_dict().items():\n",
    "            weight_sum = (\n",
    "                u[\"state_dict\"][key] * u[\"n_samples\"] for u in updates\n",
    "            )\n",
    "            value[:] = sum(weight_sum) / N\n",
    "\n",
    "    def push_model(self, workers):\n",
    "        \"\"\"\n",
    "        Push manager model to a list of workers.\n",
    "        \"\"\"\n",
    "        for worker in workers:\n",
    "            worker.model = self.copy_model()\n",
    "\n",
    "    def copy_model(self):\n",
    "        \"\"\"\n",
    "        Return a copy of the current manager model.\n",
    "        \"\"\"\n",
    "        model_copy = self.make_model()\n",
    "        model_copy.load_state_dict(self.model.state_dict())\n",
    "        return model_copy\n",
    "\n",
    "    def evaluate_model(self, model=None):\n",
    "        \"\"\"\n",
    "        Compute the loss and accuracy of model on test set.\n",
    "        \"\"\"\n",
    "        model = model or self.model\n",
    "        \n",
    "        model = model.to('cuda')\n",
    "        \n",
    "        was_training = model.training\n",
    "        model.train(False)\n",
    "        with torch.no_grad():\n",
    "            \n",
    "            self.Xtest = self.Xtest.to('cuda')\n",
    "            self.ytest = self.ytest.to('cuda')\n",
    "            \n",
    "            output = model(self.Xtest)\n",
    "            \n",
    "            output = output.to('cuda')\n",
    "            \n",
    "            loss = self.loss_fn(output, self.ytest).item()\n",
    "            pred = output.argmax(dim=1, keepdim=True)\n",
    "            correct = pred.eq(self.ytest.view_as(pred)).sum().item()\n",
    "        model.train(was_training)\n",
    "        return loss, 100. * correct / len(self.ytest)\n",
    "\n",
    "    def record_loss(self):\n",
    "        \"\"\"\n",
    "        Record loss of manager model and all worker models on test set.\n",
    "        \"\"\"\n",
    "        loss_accuracy = self.evaluate_model()\n",
    "        self.history[\"test_loss\"].append(loss_accuracy[0])\n",
    "        self.history[\"test_acc\"].append(loss_accuracy[1])"
   ]
  },
  {
   "cell_type": "code",
   "execution_count": 3,
   "metadata": {},
   "outputs": [],
   "source": [
    "class FederatedWorker:\n",
    "\n",
    "    def __init__(\n",
    "        self, name, manager, dataloader, loss_fn, n_epochs=1, lr=1e-2,\n",
    "        momentum=0.5, participant=True, verbose=False\n",
    "    ):\n",
    "        self.name = name\n",
    "        self.manager = manager\n",
    "        self.dataloader = dataloader\n",
    "        self.n_epochs = n_epochs\n",
    "        self.loss_fn = loss_fn\n",
    "        self.participant = participant\n",
    "        self.model = manager.copy_model()\n",
    "        self.n_samples = len(self.dataloader.dataset)\n",
    "        self.history = {\"train_loss\": [], \"test_loss\": [], \"test_acc\": []}\n",
    "        self.lr = lr\n",
    "        self.momentum = momentum\n",
    "        self.verbose = verbose\n",
    "\n",
    "    def train(self):\n",
    "        \"\"\"\n",
    "        Train for n_epochs, then return the state dictionary of the model and\n",
    "        the amount of training data used.\n",
    "        \"\"\"\n",
    "        \n",
    "        self.model = self.model.to('cuda')\n",
    "        \n",
    "        optimizer = torch.optim.SGD(self.model.parameters(), lr=self.lr,\n",
    "                                    momentum=self.momentum)\n",
    "        self.model.train(True)\n",
    "        for epoch in range(self.n_epochs):\n",
    "            for i, (x, y) in enumerate(self.dataloader):\n",
    "                \n",
    "                x = x.to('cuda')\n",
    "                y = y.to('cuda')\n",
    "                \n",
    "                optimizer.zero_grad()\n",
    "                ypred = self.model(x)\n",
    "                train_loss = self.loss_fn(ypred, y)\n",
    "                train_loss.backward()\n",
    "                optimizer.step()\n",
    "                self.history[\"train_loss\"].append(train_loss.item())\n",
    "\n",
    "        loss_accuracy = self.manager.evaluate_model(self.model)\n",
    "        self.history[\"test_loss\"].append(loss_accuracy[0])\n",
    "        self.history[\"test_acc\"].append(loss_accuracy[1])\n",
    "        \n",
    "        if(self.verbose):\n",
    "            print(\n",
    "                '\\twrkr {}\\t\\tloss: {:.4f} ({:+.4f})\\tacc: {:6.2%} ({:+7.2%})\\tmodel:{}'.format(\n",
    "                    self.name,\n",
    "                    self.history[\"test_loss\"][-1],\n",
    "                    self.history[\"test_loss\"][-1] - self.history[\"test_loss\"][max(-2, -(len(self.history[\"test_loss\"])))],\n",
    "                    self.history[\"test_acc\"][-1] / 100,\n",
    "                    (self.history[\"test_acc\"][-1] - self.history[\"test_acc\"][max(-2, -(len(self.history[\"test_acc\"])))]) / 100,\n",
    "                    str(id(self.model))[-5:],\n",
    "                )\n",
    "            )\n",
    "\n",
    "        return {\n",
    "            \"state_dict\": self.model.state_dict(),\n",
    "            \"n_samples\": self.n_samples\n",
    "        }"
   ]
  },
  {
   "cell_type": "code",
   "execution_count": 27,
   "metadata": {},
   "outputs": [],
   "source": [
    "  \n",
    "\n",
    "# THIS IS THE OFFICIAL PYTORCH EXAMPLE, BUT IT'S SLOWER THAN THE OTHER MODEL, SO FOR NOW, IT'S FAST BEFORE TIDY\n",
    "'''\n",
    "class Net(nn.Module):\n",
    "    def __init__(self):\n",
    "        super(Net, self).__init__()\n",
    "        self.conv1 = nn.Conv2d(1, 32, 3, 1)\n",
    "        self.conv2 = nn.Conv2d(32, 64, 3, 1)\n",
    "        self.dropout1 = nn.Dropout2d(0.25)\n",
    "        self.dropout2 = nn.Dropout2d(0.5)\n",
    "        self.fc1 = nn.Linear(9216, 128)\n",
    "        self.fc2 = nn.Linear(128, 10)\n",
    "\n",
    "    def forward(self, x):\n",
    "        x = self.conv1(x)\n",
    "        x = F.relu(x)\n",
    "        x = self.conv2(x)\n",
    "        x = F.max_pool2d(x, 2)\n",
    "        x = self.dropout1(x)\n",
    "        x = torch.flatten(x, 1)\n",
    "        x = self.fc1(x)\n",
    "        x = F.relu(x)\n",
    "        x = self.dropout2(x)\n",
    "        x = self.fc2(x)\n",
    "        output = F.log_softmax(x, dim=1)\n",
    "        return output\n",
    "'''\n",
    "\n",
    "# Quick and gets the job done well enough for testing\n",
    "class Net(nn.Module):\n",
    "    def __init__(self):\n",
    "        super(Net, self).__init__()\n",
    "        self.fc1 = nn.Linear(28*28, 500)\n",
    "        self.fc2 = nn.Linear(500, 256)\n",
    "        self.fc3 = nn.Linear(256, 10)\n",
    "    def forward(self, x):\n",
    "        x = x.view(-1, 28*28)\n",
    "        x = nn.functional.relu(self.fc1(x))\n",
    "        x = nn.functional.relu(self.fc2(x))\n",
    "        x = self.fc3(x)\n",
    "        return x\n",
    "#'''"
   ]
  },
  {
   "cell_type": "code",
   "execution_count": 111,
   "metadata": {},
   "outputs": [],
   "source": [
    "from torch.utils.data import Subset\n",
    "\n",
    "def make_fed_dloaders(dset, p=None, batch_size=64, shuffle=True):\n",
    "    \n",
    "    return [DataLoader(dset, batch_size, shuffle) for dset in make_fed_dsets(dset, p=p)]\n",
    "    \n",
    "def make_fed_dsets(dset, p=None):\n",
    "    _, y = consume_dataset(dset)\n",
    "    classes = set(y.numpy())\n",
    "    n_classes = len(classes)\n",
    "    idx_dset = index_to_dataset(y, p=p)\n",
    "    dset_idx = [np.where(idx_dset == di)[0] for di in range(n_classes)]\n",
    "    return [Subset(dset, di) for di in dset_idx]\n",
    "\n",
    "def index_to_dataset(y, p=None):\n",
    "    classes = set(y.numpy())\n",
    "    n_classes = len(classes)\n",
    "    p = p or 1/n_classes\n",
    "    pnot = (1-p)/(n_classes-1)\n",
    "    ps = np.full((n_classes, n_classes), pnot)\n",
    "    np.fill_diagonal(ps, p)\n",
    "    return np.array([np.random.choice(10, p=ps[yi]) for yi in y])\n",
    "\n",
    "def check_dsets(dsets):\n",
    "    for i, dset in dsets:\n",
    "        _, y = consume_dataset(dset)\n",
    "        print('worker', i, ':', Counter(y.numpy()))\n",
    "\n",
    "def eval_new_mgr(name, train_dset, test_dset, p=0.0, n_rounds=50, target_acc=None, net=Net):\n",
    "    dls = make_fed_dloaders(train_dset, p=p)\n",
    "    mgr = FederatedManager(name, dls, test_dset, net)\n",
    "    run_mgr(mgr, n_rounds, target_acc)\n",
    "    plot_mgr(mgr)\n",
    "    return mgr"
   ]
  },
  {
   "cell_type": "code",
   "execution_count": 6,
   "metadata": {},
   "outputs": [],
   "source": [
    "#%matplotlib inline\n",
    "import matplotlib\n",
    "import matplotlib.pyplot as plt\n",
    "from tqdm.notebook import tqdm\n",
    "from tqdm.notebook import trange\n",
    "from collections import Counter\n",
    "import numpy as np\n",
    "\n",
    "def plot_digit_histogram(dls, title=''):\n",
    "    fig, ax = plt.subplots()\n",
    "    ax.set_title(title)\n",
    "    ax.xaxis.set_major_locator(plt.MultipleLocator(1))\n",
    "    ax.set_ylabel('Digit Samples')\n",
    "    ax.set_xlabel('Digit')\n",
    "    \n",
    "    ys = []\n",
    "    for dset in tqdm([dl.dataset for dl in dls], desc='Tabulating datasets'):\n",
    "        _, y = consume_dataset(dset)\n",
    "        ys.append(sorted(Counter(y)))\n",
    "        \n",
    "    H = ax.hist(ys, bins=range(11), histtype='bar', align='left', rwidth=0.8)\n",
    "\n",
    "def consume_dataset(dataset):\n",
    "    data = list(zip(*dataset))\n",
    "    X = torch.stack(data[0])\n",
    "    y = torch.tensor(data[1])\n",
    "    return X, y"
   ]
  },
  {
   "cell_type": "code",
   "execution_count": 7,
   "metadata": {},
   "outputs": [],
   "source": [
    "def run_mgr(mgr, n_rounds=10, target_acc=None):\n",
    "    \n",
    "    target_met = False;\n",
    "    \n",
    "    if (target_acc):\n",
    "        print('{} manager training with {} worker(s) for up to {} rounds or {:.2%} accuracy.'.format(\n",
    "                mgr.name, mgr.n_workers, n_rounds, target_acc / 100,))\n",
    "    else:\n",
    "        print('{} manager training with {} worker(s) for {} rounds.'.format(\n",
    "                mgr.name, mgr.n_workers, n_rounds,))\n",
    "\n",
    "    for i in trange(n_rounds, desc='Rounds'):\n",
    "        if(mgr.verbose):\n",
    "            print('Round', i)\n",
    "        mgr.round()\n",
    "        if(mgr.verbose):\n",
    "            print('\\tcombined\\tloss: {:.4f}\\tacc: {:.2%}\\n'.format(\n",
    "                mgr.history['test_loss'][-1], mgr.history['test_acc'][-1] / 100,))\n",
    "            \n",
    "        if(target_acc and (mgr.history['test_acc'][-1] >= target_acc)):\n",
    "            target_met = True\n",
    "            break;\n",
    "\n",
    "    if(target_met):\n",
    "        print('{} manager stopped: met accuracy target of {:.2%} after {} rounds. (Test accuracy {:.2%} and loss {:.4f}.)'.format(\n",
    "                mgr.name, target_acc / 100, len(mgr.history['test_acc']), mgr.history['test_acc'][-1] / 100, mgr.history['test_loss'][-1],))\n",
    "    else:\n",
    "        print('{} manager trained {} rounds. (Test accuracy {:.2%} and loss {:.4f}.)'.format(\n",
    "                mgr.name, len(mgr.history['test_acc']), mgr.history['test_acc'][-1] / 100, mgr.history['test_loss'][-1],))\n",
    "\n",
    "def plot_mgr(mgrs, plot_workers=False):\n",
    "    \n",
    "    if not isinstance(mgrs, list):\n",
    "        mgrs = [mgrs]\n",
    "    \n",
    "    fig, ax = plt.subplots()\n",
    "    for m in mgrs:\n",
    "        ax.plot(m.history['test_loss'], label=m.name)\n",
    "        if(plot_workers):\n",
    "            for w in m.workers:\n",
    "                ax.plot(w.history['test_loss'], label=(m.name, 'Worker ' + str(w.name)))\n",
    "    ax.set_xlabel(\"Round\")\n",
    "    ax.set_ylabel(\"Loss\")\n",
    "    ax.legend();\n",
    "    \n",
    "    fig, ax = plt.subplots()\n",
    "    for m in mgrs:\n",
    "        ax.plot(m.history['test_acc'], label=m.name)\n",
    "        if(plot_workers):\n",
    "            for w in m.workers:\n",
    "                ax.plot(w.history['test_acc'], label=(m.name, 'worker ' + str(w.name)))\n",
    "    ax.set_xlabel(\"Round\")\n",
    "    ax.set_ylabel(\"Accuracy\")\n",
    "    ax.legend();\n",
    "\n",
    "    "
   ]
  },
  {
   "cell_type": "code",
   "execution_count": 43,
   "metadata": {},
   "outputs": [],
   "source": [
    "def get_eval_set(model, examples, targets):\n",
    "    with torch.no_grad():\n",
    "        model = model.cpu()\n",
    "        examples = examples.cpu()\n",
    "        targets = targets.cpu()\n",
    "        output = model(examples)\n",
    "    preds = output.argmax(dim=1, keepdim=True)\n",
    "    return [{'x':examples[i],\n",
    "             'probs':output[i],\n",
    "             'pred':preds[i].item(),\n",
    "             'y':targets[i].item(),\n",
    "             } for i in range(len(examples))]\n",
    "\n",
    "def confusion_matrix(eval_set, norm=False, mirror=False):\n",
    "    cm = np.zeros((10, 10))\n",
    "    for ev in eval_set:\n",
    "        cm[ev['y']][ev['pred']] += 1\n",
    "        if mirror:\n",
    "            cm[ev['pred']][ev['y']] += 1 # will amplify errors and remove directionality of error\n",
    "    if norm:\n",
    "        cm /= cm.sum(axis=1)[:,np.newaxis]\n",
    "    return cm\n",
    "\n",
    "def show_model_confusion(manager, show_manager=True, show_workers=False):\n",
    "    \n",
    "    examples, targets = manager.Xtest, manager.ytest\n",
    "    \n",
    "    model = manager.model\n",
    "    \n",
    "    eval_set = get_eval_set(model, examples, targets)\n",
    "    misses = [ev for ev in eval_set if (ev['y'] != ev['pred'])]\n",
    "    cm = confusion_matrix(misses, norm=False, mirror=True)\n",
    "    #cm = np.log1p(cm)\n",
    "    #print(np.array_str(cm, precision=4, suppress_small=True))\n",
    "    plt.imshow(cm)\n",
    "    plt.tight_layout()\n",
    "    \n",
    "    if show_workers:\n",
    "        \n",
    "        for worker in manager.workers()\n",
    "        \n",
    "        #plot the workers\n",
    "    \n",
    "def count_dsets(dsets, show_array=False, show_heatmap=False, classes=10):\n",
    "    cts = []\n",
    "    for dset in tqdm(dsets, desc='Counting examples'):\n",
    "        _, y = consume_dataset(dset)\n",
    "        c = Counter(y.numpy())\n",
    "        #print([c[i] for i in range(len(c))])\n",
    "        \n",
    "        #if(len(c) < classes):\n",
    "            #add those zeros\n",
    "        \n",
    "        cts.append([c[i] for i in range(classes)])\n",
    "    \n",
    "    \n",
    "    cts = np.array(cts)\n",
    "    \n",
    "    if show_array:\n",
    "        print(cts)\n",
    "        \n",
    "    if show_heatmap:\n",
    "        cts_log1p = np.log1p(cts)\n",
    "        cts_sum_lpg1p = np.log1p(cts.sum())\n",
    "        plt.imshow(cts_log1p, norm=plt.Normalize(vmin= 0.0, vmax=cts_sum_lpg1p));\n",
    "        plt.tight_layout();\n",
    "        \n",
    "    return np.array(cts)\n",
    "\n",
    "def show_prediction(img, preds, correct_idx, size=7, limit=15):\n",
    "    \n",
    "    preds = preds.data.numpy().squeeze() \n",
    "    \n",
    "    # center the values around 0 by averaging min and max\n",
    "    preds_centered = preds + ((preds.max() + preds.min()) / 2)\n",
    "    \n",
    "    colors = ['blue'] * len(preds)\n",
    "    colors[preds.argmax()] = 'red'\n",
    "    colors[correct_idx] = 'green'\n",
    "\n",
    "    fig, (ax1, ax2) = plt.subplots(figsize=(size , size*1.5), ncols=2)\n",
    "\n",
    "    ax1.imshow(img.resize_(1, 28, 28).numpy().squeeze())\n",
    "\n",
    "    ax2.bar(range(10), preds_centered, color=colors)\n",
    "    ax2.set_aspect(0.542)\n",
    "    ax2.set_xticks(range(10))\n",
    "    ax2.set_xticklabels(range(10))\n",
    "    ax2.set_xlabel('digit')\n",
    "    ax2.set_ylabel('log(p) centered on average')\n",
    "    ax2.set_ylim(-limit, limit)\n",
    "    ax2.set_aspect(10.84/abs(ax2.get_ylim()[0] - ax2.get_ylim()[1]))\n",
    "    plt.tight_layout()"
   ]
  },
  {
   "cell_type": "markdown",
   "metadata": {},
   "source": [
    "# Common Data and Hyperparameters"
   ]
  },
  {
   "cell_type": "code",
   "execution_count": 9,
   "metadata": {},
   "outputs": [],
   "source": [
    "import torchvision.datasets as dsets\n",
    "import torchvision.transforms as transforms\n",
    "\n",
    "data_path = './MNIST-data/raw'\n",
    "\n",
    "trans = transforms.Compose([transforms.ToTensor(), transforms.Normalize((0.1307,), (0.3081,))])\n",
    "\n",
    "train_dset = dsets.MNIST(root=data_path, download=True, train=True, transform=trans)\n",
    "test_dset = dsets.MNIST(root=data_path, download=True, train=False, transform=trans)"
   ]
  },
  {
   "cell_type": "code",
   "execution_count": 10,
   "metadata": {},
   "outputs": [],
   "source": [
    "from torch.utils.data import DataLoader\n",
    "\n",
    "train_batch_size = 256\n",
    "test_batch_size = 1000\n",
    "\n",
    "# create standard dataloaders using all of the MNIST data\n",
    "train_dl = DataLoader(train_dset, batch_size=train_batch_size, shuffle=True)\n",
    "test_dl = DataLoader(test_dset, batch_size=test_batch_size, shuffle=True)"
   ]
  },
  {
   "cell_type": "code",
   "execution_count": 11,
   "metadata": {},
   "outputs": [],
   "source": [
    "# default training targets\n",
    "default_n_rounds = 50\n",
    "default_target_acc = None"
   ]
  },
  {
   "cell_type": "markdown",
   "metadata": {},
   "source": [
    "# Non-Federated"
   ]
  },
  {
   "cell_type": "code",
   "execution_count": 12,
   "metadata": {},
   "outputs": [
    {
     "data": {
      "application/vnd.jupyter.widget-view+json": {
       "model_id": "06bf6d18dba6461ab8e97c3d9d315194",
       "version_major": 2,
       "version_minor": 0
      },
      "text/plain": [
       "HBox(children=(FloatProgress(value=0.0, description='Tabulating datasets', max=2.0, style=ProgressStyle(descri…"
      ]
     },
     "metadata": {},
     "output_type": "display_data"
    },
    {
     "name": "stdout",
     "output_type": "stream",
     "text": [
      "\n"
     ]
    },
    {
     "data": {
      "image/png": "[encoded data removed]",
      "text/plain": [
       "<Figure size 432x288 with 1 Axes>"
      ]
     },
     "metadata": {
      "needs_background": "light"
     },
     "output_type": "display_data"
    }
   ],
   "source": [
    "plot_digit_histogram([train_dl, test_dl], 'MNIST Complete Datasets')"
   ]
  },
  {
   "cell_type": "code",
   "execution_count": 13,
   "metadata": {},
   "outputs": [
    {
     "data": {
      "application/vnd.jupyter.widget-view+json": {
       "model_id": "f5a96e22503a47a29c3ca5a932fd6a60",
       "version_major": 2,
       "version_minor": 0
      },
      "text/plain": [
       "HBox(children=(FloatProgress(value=0.0, description='Counting examples', max=1.0, style=ProgressStyle(descript…"
      ]
     },
     "metadata": {},
     "output_type": "display_data"
    },
    {
     "name": "stdout",
     "output_type": "stream",
     "text": [
      "\n",
      "[[5923 6742 5958 6131 5842 5421 5918 6265 5851 5949]]\n"
     ]
    },
    {
     "data": {
      "image/png": "[encoded data removed]",
      "text/plain": [
       "<Figure size 432x288 with 1 Axes>"
      ]
     },
     "metadata": {
      "needs_background": "light"
     },
     "output_type": "display_data"
    }
   ],
   "source": [
    "train_counts = count_dsets([train_dl.dataset], show_array=True, show_heatmap=True)"
   ]
  },
  {
   "cell_type": "code",
   "execution_count": 14,
   "metadata": {},
   "outputs": [
    {
     "name": "stdout",
     "output_type": "stream",
     "text": [
      "Non-Federated Full Dataset manager training with 1 worker(s) for 50 rounds.\n"
     ]
    },
    {
     "data": {
      "application/vnd.jupyter.widget-view+json": {
       "model_id": "b89270babd144a0b80bdb72e83eb6e4e",
       "version_major": 2,
       "version_minor": 0
      },
      "text/plain": [
       "HBox(children=(FloatProgress(value=0.0, description='Rounds', max=50.0, style=ProgressStyle(description_width=…"
      ]
     },
     "metadata": {},
     "output_type": "display_data"
    },
    {
     "name": "stdout",
     "output_type": "stream",
     "text": [
      "Round 0\n",
      "\twrkr 0\t\tloss: 0.2527 (+0.0000)\tacc: 92.48% ( +0.00%)\tmodel:27184\n",
      "\tcombined\tloss: 0.2527\tacc: 92.48%\n",
      "\n",
      "Round 1\n",
      "\twrkr 0\t\tloss: 0.1793 (-0.0734)\tacc: 94.70% ( +2.22%)\tmodel:20048\n",
      "\tcombined\tloss: 0.1793\tacc: 94.70%\n",
      "\n",
      "Round 2\n",
      "\twrkr 0\t\tloss: 0.1526 (-0.0267)\tacc: 95.51% ( +0.81%)\tmodel:88176\n",
      "\tcombined\tloss: 0.1526\tacc: 95.51%\n",
      "\n",
      "Round 3\n",
      "\twrkr 0\t\tloss: 0.1365 (-0.0161)\tacc: 95.99% ( +0.48%)\tmodel:30160\n",
      "\tcombined\tloss: 0.1365\tacc: 95.99%\n",
      "\n",
      "Round 4\n",
      "\twrkr 0\t\tloss: 0.1244 (-0.0122)\tacc: 96.10% ( +0.11%)\tmodel:90416\n",
      "\tcombined\tloss: 0.1244\tacc: 96.10%\n",
      "\n",
      "Round 5\n",
      "\twrkr 0\t\tloss: 0.1123 (-0.0120)\tacc: 96.58% ( +0.48%)\tmodel:81168\n",
      "\tcombined\tloss: 0.1123\tacc: 96.58%\n",
      "\n",
      "Round 6\n",
      "\twrkr 0\t\tloss: 0.1044 (-0.0080)\tacc: 96.88% ( +0.30%)\tmodel:12368\n",
      "\tcombined\tloss: 0.1044\tacc: 96.88%\n",
      "\n",
      "Round 7\n",
      "\twrkr 0\t\tloss: 0.0982 (-0.0062)\tacc: 96.94% ( +0.06%)\tmodel:16592\n",
      "\tcombined\tloss: 0.0982\tacc: 96.94%\n",
      "\n",
      "Round 8\n",
      "\twrkr 0\t\tloss: 0.0928 (-0.0054)\tacc: 97.12% ( +0.18%)\tmodel:29584\n",
      "\tcombined\tloss: 0.0928\tacc: 97.12%\n",
      "\n",
      "Round 9\n",
      "\twrkr 0\t\tloss: 0.0877 (-0.0051)\tacc: 97.24% ( +0.12%)\tmodel:88880\n",
      "\tcombined\tloss: 0.0877\tacc: 97.24%\n",
      "\n",
      "Round 10\n",
      "\twrkr 0\t\tloss: 0.0825 (-0.0052)\tacc: 97.43% ( +0.19%)\tmodel:27184\n",
      "\tcombined\tloss: 0.0825\tacc: 97.43%\n",
      "\n",
      "Round 11\n",
      "\twrkr 0\t\tloss: 0.0773 (-0.0052)\tacc: 97.58% ( +0.15%)\tmodel:18960\n",
      "\tcombined\tloss: 0.0773\tacc: 97.58%\n",
      "\n",
      "Round 12\n",
      "\twrkr 0\t\tloss: 0.0747 (-0.0027)\tacc: 97.64% ( +0.06%)\tmodel:20112\n",
      "\tcombined\tloss: 0.0747\tacc: 97.64%\n",
      "\n",
      "Round 13\n",
      "\twrkr 0\t\tloss: 0.0727 (-0.0020)\tacc: 97.74% ( +0.10%)\tmodel:64144\n",
      "\tcombined\tloss: 0.0727\tacc: 97.74%\n",
      "\n",
      "Round 14\n",
      "\twrkr 0\t\tloss: 0.0694 (-0.0033)\tacc: 97.80% ( +0.06%)\tmodel:39216\n",
      "\tcombined\tloss: 0.0694\tacc: 97.80%\n",
      "\n",
      "Round 15\n",
      "\twrkr 0\t\tloss: 0.0655 (-0.0038)\tacc: 97.98% ( +0.18%)\tmodel:30992\n",
      "\tcombined\tloss: 0.0655\tacc: 97.98%\n",
      "\n",
      "Round 16\n",
      "\twrkr 0\t\tloss: 0.0657 (+0.0002)\tacc: 97.91% ( -0.07%)\tmodel:19216\n",
      "\tcombined\tloss: 0.0657\tacc: 97.91%\n",
      "\n",
      "Round 17\n",
      "\twrkr 0\t\tloss: 0.0610 (-0.0047)\tacc: 98.09% ( +0.18%)\tmodel:18192\n",
      "\tcombined\tloss: 0.0610\tacc: 98.09%\n",
      "\n",
      "Round 18\n",
      "\twrkr 0\t\tloss: 0.0582 (-0.0029)\tacc: 98.21% ( +0.12%)\tmodel:99408\n",
      "\tcombined\tloss: 0.0582\tacc: 98.21%\n",
      "\n",
      "Round 19\n",
      "\twrkr 0\t\tloss: 0.0568 (-0.0013)\tacc: 98.27% ( +0.06%)\tmodel:29584\n",
      "\tcombined\tloss: 0.0568\tacc: 98.27%\n",
      "\n",
      "Round 20\n",
      "\twrkr 0\t\tloss: 0.0543 (-0.0026)\tacc: 98.34% ( +0.07%)\tmodel:17360\n",
      "\tcombined\tloss: 0.0543\tacc: 98.34%\n",
      "\n",
      "Round 21\n",
      "\twrkr 0\t\tloss: 0.0535 (-0.0008)\tacc: 98.27% ( -0.07%)\tmodel:19152\n",
      "\tcombined\tloss: 0.0535\tacc: 98.27%\n",
      "\n",
      "Round 22\n",
      "\twrkr 0\t\tloss: 0.0522 (-0.0013)\tacc: 98.25% ( -0.02%)\tmodel:61456\n",
      "\tcombined\tloss: 0.0522\tacc: 98.25%\n",
      "\n",
      "Round 23\n",
      "\twrkr 0\t\tloss: 0.0488 (-0.0034)\tacc: 98.37% ( +0.12%)\tmodel:88176\n",
      "\tcombined\tloss: 0.0488\tacc: 98.37%\n",
      "\n",
      "Round 24\n",
      "\twrkr 0\t\tloss: 0.0478 (-0.0010)\tacc: 98.43% ( +0.06%)\tmodel:30160\n",
      "\tcombined\tloss: 0.0478\tacc: 98.43%\n",
      "\n",
      "Round 25\n",
      "\twrkr 0\t\tloss: 0.0474 (-0.0004)\tacc: 98.38% ( -0.05%)\tmodel:61424\n",
      "\tcombined\tloss: 0.0474\tacc: 98.38%\n",
      "\n",
      "Round 26\n",
      "\twrkr 0\t\tloss: 0.0471 (-0.0003)\tacc: 98.50% ( +0.12%)\tmodel:71920\n",
      "\tcombined\tloss: 0.0471\tacc: 98.50%\n",
      "\n",
      "Round 27\n",
      "\twrkr 0\t\tloss: 0.0463 (-0.0008)\tacc: 98.44% ( -0.06%)\tmodel:19216\n",
      "\tcombined\tloss: 0.0463\tacc: 98.44%\n",
      "\n",
      "Round 28\n",
      "\twrkr 0\t\tloss: 0.0456 (-0.0007)\tacc: 98.46% ( +0.02%)\tmodel:61424\n",
      "\tcombined\tloss: 0.0456\tacc: 98.46%\n",
      "\n",
      "Round 29\n",
      "\twrkr 0\t\tloss: 0.0450 (-0.0006)\tacc: 98.57% ( +0.11%)\tmodel:88880\n",
      "\tcombined\tloss: 0.0450\tacc: 98.57%\n",
      "\n",
      "Round 30\n",
      "\twrkr 0\t\tloss: 0.0427 (-0.0023)\tacc: 98.54% ( -0.03%)\tmodel:90416\n",
      "\tcombined\tloss: 0.0427\tacc: 98.54%\n",
      "\n",
      "Round 31\n",
      "\twrkr 0\t\tloss: 0.0430 (+0.0004)\tacc: 98.58% ( +0.04%)\tmodel:61456\n",
      "\tcombined\tloss: 0.0430\tacc: 98.58%\n",
      "\n",
      "Round 32\n",
      "\twrkr 0\t\tloss: 0.0425 (-0.0005)\tacc: 98.52% ( -0.06%)\tmodel:20112\n",
      "\tcombined\tloss: 0.0425\tacc: 98.52%\n",
      "\n",
      "Round 33\n",
      "\twrkr 0\t\tloss: 0.0418 (-0.0007)\tacc: 98.62% ( +0.10%)\tmodel:88944\n",
      "\tcombined\tloss: 0.0418\tacc: 98.62%\n",
      "\n",
      "Round 34\n",
      "\twrkr 0\t\tloss: 0.0410 (-0.0007)\tacc: 98.62% ( +0.00%)\tmodel:89712\n",
      "\tcombined\tloss: 0.0410\tacc: 98.62%\n",
      "\n",
      "Round 35\n",
      "\twrkr 0\t\tloss: 0.0406 (-0.0004)\tacc: 98.62% ( +0.00%)\tmodel:88048\n",
      "\tcombined\tloss: 0.0406\tacc: 98.62%\n",
      "\n",
      "Round 36\n",
      "\twrkr 0\t\tloss: 0.0388 (-0.0019)\tacc: 98.77% ( +0.15%)\tmodel:90544\n",
      "\tcombined\tloss: 0.0388\tacc: 98.77%\n",
      "\n",
      "Round 37\n",
      "\twrkr 0\t\tloss: 0.0403 (+0.0015)\tacc: 98.72% ( -0.05%)\tmodel:89520\n",
      "\tcombined\tloss: 0.0403\tacc: 98.72%\n",
      "\n",
      "Round 38\n",
      "\twrkr 0\t\tloss: 0.0387 (-0.0016)\tacc: 98.70% ( -0.02%)\tmodel:87984\n",
      "\tcombined\tloss: 0.0387\tacc: 98.70%\n",
      "\n",
      "Round 39\n",
      "\twrkr 0\t\tloss: 0.0389 (+0.0001)\tacc: 98.64% ( -0.06%)\tmodel:88944\n",
      "\tcombined\tloss: 0.0389\tacc: 98.64%\n",
      "\n",
      "Round 40\n",
      "\twrkr 0\t\tloss: 0.0383 (-0.0006)\tacc: 98.73% ( +0.09%)\tmodel:64144\n",
      "\tcombined\tloss: 0.0383\tacc: 98.73%\n",
      "\n",
      "Round 41\n",
      "\twrkr 0\t\tloss: 0.0381 (-0.0002)\tacc: 98.77% ( +0.04%)\tmodel:29584\n",
      "\tcombined\tloss: 0.0381\tacc: 98.77%\n",
      "\n",
      "Round 42\n",
      "\twrkr 0\t\tloss: 0.0378 (-0.0003)\tacc: 98.67% ( -0.10%)\tmodel:12368\n",
      "\tcombined\tloss: 0.0378\tacc: 98.67%\n",
      "\n",
      "Round 43\n",
      "\twrkr 0\t\tloss: 0.0372 (-0.0006)\tacc: 98.79% ( +0.12%)\tmodel:88176\n",
      "\tcombined\tloss: 0.0372\tacc: 98.79%\n",
      "\n",
      "Round 44\n",
      "\twrkr 0\t\tloss: 0.0362 (-0.0010)\tacc: 98.79% ( +0.00%)\tmodel:87728\n",
      "\tcombined\tloss: 0.0362\tacc: 98.79%\n",
      "\n",
      "Round 45\n",
      "\twrkr 0\t\tloss: 0.0376 (+0.0015)\tacc: 98.71% ( -0.08%)\tmodel:71920\n",
      "\tcombined\tloss: 0.0376\tacc: 98.71%\n",
      "\n",
      "Round 46\n",
      "\twrkr 0\t\tloss: 0.0362 (-0.0015)\tacc: 98.76% ( +0.05%)\tmodel:99408\n",
      "\tcombined\tloss: 0.0362\tacc: 98.76%\n",
      "\n",
      "Round 47\n",
      "\twrkr 0\t\tloss: 0.0359 (-0.0003)\tacc: 98.82% ( +0.06%)\tmodel:87984\n",
      "\tcombined\tloss: 0.0359\tacc: 98.82%\n",
      "\n",
      "Round 48\n",
      "\twrkr 0\t\tloss: 0.0367 (+0.0008)\tacc: 98.85% ( +0.03%)\tmodel:89712\n",
      "\tcombined\tloss: 0.0367\tacc: 98.85%\n",
      "\n",
      "Round 49\n",
      "\twrkr 0\t\tloss: 0.0363 (-0.0004)\tacc: 98.79% ( -0.06%)\tmodel:90544\n",
      "\tcombined\tloss: 0.0363\tacc: 98.79%\n",
      "\n",
      "\n",
      "Non-Federated Full Dataset manager trained 50 rounds. (Test accuracy 98.79% and loss 0.0363.)\n"
     ]
    },
    {
     "data": {
      "image/png": "[encoded data removed]",
      "text/plain": [
       "<Figure size 432x288 with 1 Axes>"
      ]
     },
     "metadata": {
      "needs_background": "light"
     },
     "output_type": "display_data"
    },
    {
     "data": {
      "image/png": "[encoded data removed]",
      "text/plain": [
       "<Figure size 432x288 with 1 Axes>"
      ]
     },
     "metadata": {
      "needs_background": "light"
     },
     "output_type": "display_data"
    }
   ],
   "source": [
    "nonfed_alldata_mgr = FederatedManager('Non-Federated Full Dataset', [train_dl], test_dset, Net, verbose=True)\n",
    "\n",
    "run_mgr(nonfed_alldata_mgr, default_n_rounds, target_acc=default_target_acc)\n",
    "\n",
    "plot_mgr(nonfed_alldata_mgr)"
   ]
  },
  {
   "cell_type": "markdown",
   "metadata": {},
   "source": [
    "# The Federated Approach\n",
    "\n",
    "## Ten Equal Workers"
   ]
  },
  {
   "cell_type": "code",
   "execution_count": 15,
   "metadata": {},
   "outputs": [
    {
     "data": {
      "application/vnd.jupyter.widget-view+json": {
       "model_id": "72e3a8fe607b43a8bc78407e4393e16e",
       "version_major": 2,
       "version_minor": 0
      },
      "text/plain": [
       "HBox(children=(FloatProgress(value=0.0, description='Tabulating datasets', max=10.0, style=ProgressStyle(descr…"
      ]
     },
     "metadata": {},
     "output_type": "display_data"
    },
    {
     "name": "stdout",
     "output_type": "stream",
     "text": [
      "\n"
     ]
    },
    {
     "data": {
      "image/png": "[encoded data removed]",
      "text/plain": [
       "<Figure size 432x288 with 1 Axes>"
      ]
     },
     "metadata": {
      "needs_background": "light"
     },
     "output_type": "display_data"
    }
   ],
   "source": [
    "fed_equal_dls = make_fed_dloaders(train_dset)\n",
    "plot_digit_histogram(fed_equal_dls, 'Digit Counts per Worker')"
   ]
  },
  {
   "cell_type": "code",
   "execution_count": 16,
   "metadata": {},
   "outputs": [
    {
     "data": {
      "application/vnd.jupyter.widget-view+json": {
       "model_id": "39924542334a4a7794903ef6c125aa23",
       "version_major": 2,
       "version_minor": 0
      },
      "text/plain": [
       "HBox(children=(FloatProgress(value=0.0, description='Counting examples', max=10.0, style=ProgressStyle(descrip…"
      ]
     },
     "metadata": {},
     "output_type": "display_data"
    },
    {
     "name": "stdout",
     "output_type": "stream",
     "text": [
      "\n",
      "[[602 666 588 644 577 569 620 657 605 593]\n",
      " [608 653 603 646 574 519 606 609 562 558]\n",
      " [624 673 597 604 590 553 608 611 620 608]\n",
      " [575 676 561 649 585 528 614 610 583 562]\n",
      " [576 658 580 566 589 538 590 618 588 633]\n",
      " [623 668 630 641 554 570 570 612 600 593]\n",
      " [557 699 613 586 593 564 561 663 555 584]\n",
      " [589 643 608 612 565 530 634 610 566 598]\n",
      " [599 721 573 577 617 514 561 646 563 612]\n",
      " [570 685 605 606 598 536 554 629 609 608]]\n"
     ]
    },
    {
     "data": {
      "image/png": "[encoded data removed]",
      "text/plain": [
       "<Figure size 432x288 with 1 Axes>"
      ]
     },
     "metadata": {
      "needs_background": "light"
     },
     "output_type": "display_data"
    }
   ],
   "source": [
    "fed_equal_counts = count_dsets([dl.dataset for dl in fed_equal_dls], show_array=True, show_heatmap=True)"
   ]
  },
  {
   "cell_type": "code",
   "execution_count": 17,
   "metadata": {},
   "outputs": [
    {
     "name": "stdout",
     "output_type": "stream",
     "text": [
      "Federated Unbiased manager training with 10 worker(s) for 50 rounds.\n"
     ]
    },
    {
     "data": {
      "application/vnd.jupyter.widget-view+json": {
       "model_id": "",
       "version_major": 2,
       "version_minor": 0
      },
      "text/plain": [
       "HBox(children=(FloatProgress(value=0.0, description='Rounds', max=50.0, style=ProgressStyle(description_width=…"
      ]
     },
     "metadata": {},
     "output_type": "display_data"
    },
    {
     "name": "stdout",
     "output_type": "stream",
     "text": [
      "Round 0\n",
      "\twrkr 0\t\tloss: 0.4249 (+0.0000)\tacc: 87.71% ( +0.00%)\tmodel:37168\n",
      "\twrkr 1\t\tloss: 0.4844 (+0.0000)\tacc: 85.09% ( +0.00%)\tmodel:56368\n",
      "\twrkr 2\t\tloss: 0.4770 (+0.0000)\tacc: 83.66% ( +0.00%)\tmodel:00496\n",
      "\twrkr 3\t\tloss: 0.4321 (+0.0000)\tacc: 88.22% ( +0.00%)\tmodel:03760\n",
      "\twrkr 4\t\tloss: 0.4106 (+0.0000)\tacc: 88.81% ( +0.00%)\tmodel:02416\n",
      "\twrkr 5\t\tloss: 0.4300 (+0.0000)\tacc: 88.07% ( +0.00%)\tmodel:16336\n",
      "\twrkr 6\t\tloss: 0.4350 (+0.0000)\tacc: 88.49% ( +0.00%)\tmodel:49840\n",
      "\twrkr 7\t\tloss: 0.6793 (+0.0000)\tacc: 76.76% ( +0.00%)\tmodel:15184\n",
      "\twrkr 8\t\tloss: 0.4554 (+0.0000)\tacc: 86.09% ( +0.00%)\tmodel:36848\n",
      "\twrkr 9\t\tloss: 0.4196 (+0.0000)\tacc: 88.59% ( +0.00%)\tmodel:34544\n",
      "\tcombined\tloss: 0.3994\tacc: 89.51%\n",
      "\n",
      "Round 1\n",
      "\twrkr 0\t\tloss: 0.3170 (-0.1078)\tacc: 90.48% ( +2.77%)\tmodel:19280\n",
      "\twrkr 1\t\tloss: 0.3359 (-0.1485)\tacc: 90.42% ( +5.33%)\tmodel:02224\n",
      "\twrkr 2\t\tloss: 0.3594 (-0.1176)\tacc: 87.90% ( +4.24%)\tmodel:56368\n",
      "\twrkr 3\t\tloss: 0.3286 (-0.1035)\tacc: 90.36% ( +2.14%)\tmodel:05168\n",
      "\twrkr 4\t\tloss: 0.3162 (-0.0944)\tacc: 90.89% ( +2.08%)\tmodel:03760\n",
      "\twrkr 5\t\tloss: 0.3269 (-0.1032)\tacc: 90.97% ( +2.90%)\tmodel:15696\n",
      "\twrkr 6\t\tloss: 0.3279 (-0.1071)\tacc: 90.24% ( +1.75%)\tmodel:16336\n",
      "\twrkr 7\t\tloss: 0.3371 (-0.3421)\tacc: 89.81% (+13.05%)\tmodel:49840\n",
      "\twrkr 8\t\tloss: 0.3661 (-0.0893)\tacc: 88.46% ( +2.37%)\tmodel:34608\n",
      "\twrkr 9\t\tloss: 0.3233 (-0.0963)\tacc: 90.39% ( +1.80%)\tmodel:36848\n",
      "\tcombined\tloss: 0.2933\tacc: 91.54%\n",
      "\n",
      "Round 2\n",
      "\twrkr 0\t\tloss: 0.2625 (-0.0545)\tacc: 92.46% ( +1.98%)\tmodel:35312\n",
      "\twrkr 1\t\tloss: 0.2723 (-0.0637)\tacc: 91.77% ( +1.35%)\tmodel:19280\n",
      "\twrkr 2\t\tloss: 0.2846 (-0.0748)\tacc: 91.07% ( +3.17%)\tmodel:57904\n",
      "\twrkr 3\t\tloss: 0.2944 (-0.0342)\tacc: 91.38% ( +1.02%)\tmodel:56368\n",
      "\twrkr 4\t\tloss: 0.2737 (-0.0425)\tacc: 91.81% ( +0.92%)\tmodel:05168\n",
      "\twrkr 5\t\tloss: 0.2687 (-0.0581)\tacc: 92.33% ( +1.36%)\tmodel:27952\n",
      "\twrkr 6\t\tloss: 0.2821 (-0.0458)\tacc: 91.76% ( +1.52%)\tmodel:15696\n",
      "\twrkr 7\t\tloss: 0.2787 (-0.0584)\tacc: 91.73% ( +1.92%)\tmodel:16336\n",
      "\twrkr 8\t\tloss: 0.2641 (-0.1020)\tacc: 92.08% ( +3.62%)\tmodel:49840\n",
      "\twrkr 9\t\tloss: 0.2801 (-0.0432)\tacc: 91.59% ( +1.20%)\tmodel:34608\n",
      "\tcombined\tloss: 0.2426\tacc: 92.98%\n",
      "\n",
      "Round 3\n",
      "\twrkr 0\t\tloss: 0.2338 (-0.0287)\tacc: 93.08% ( +0.62%)\tmodel:01328\n",
      "\twrkr 1\t\tloss: 0.2395 (-0.0327)\tacc: 92.81% ( +1.04%)\tmodel:44880\n",
      "\twrkr 2\t\tloss: 0.2397 (-0.0449)\tacc: 92.52% ( +1.45%)\tmodel:19280\n",
      "\twrkr 3\t\tloss: 0.2336 (-0.0608)\tacc: 93.24% ( +1.86%)\tmodel:28912\n",
      "\twrkr 4\t\tloss: 0.2241 (-0.0496)\tacc: 93.41% ( +1.60%)\tmodel:56368\n",
      "\twrkr 5\t\tloss: 0.2283 (-0.0404)\tacc: 93.10% ( +0.77%)\tmodel:37168\n",
      "\twrkr 6\t\tloss: 0.2491 (-0.0330)\tacc: 92.53% ( +0.77%)\tmodel:27952\n",
      "\twrkr 7\t\tloss: 0.2368 (-0.0419)\tacc: 92.77% ( +1.04%)\tmodel:15696\n",
      "\twrkr 8\t\tloss: 0.2533 (-0.0108)\tacc: 92.32% ( +0.24%)\tmodel:16336\n",
      "\twrkr 9\t\tloss: 0.2507 (-0.0294)\tacc: 92.90% ( +1.31%)\tmodel:49840\n",
      "\tcombined\tloss: 0.2104\tacc: 93.75%\n",
      "\n",
      "Round 4\n",
      "\twrkr 0\t\tloss: 0.2068 (-0.0270)\tacc: 93.89% ( +0.81%)\tmodel:02608\n",
      "\twrkr 1\t\tloss: 0.2053 (-0.0342)\tacc: 93.80% ( +0.99%)\tmodel:35760\n",
      "\twrkr 2\t\tloss: 0.2063 (-0.0334)\tacc: 93.60% ( +1.08%)\tmodel:44880\n",
      "\twrkr 3\t\tloss: 0.2045 (-0.0291)\tacc: 93.74% ( +0.50%)\tmodel:19280\n",
      "\twrkr 4\t\tloss: 0.2212 (-0.0029)\tacc: 93.20% ( -0.21%)\tmodel:28912\n",
      "\twrkr 5\t\tloss: 0.2071 (-0.0212)\tacc: 93.93% ( +0.83%)\tmodel:95088\n",
      "\twrkr 6\t\tloss: 0.2194 (-0.0297)\tacc: 93.47% ( +0.94%)\tmodel:37168\n",
      "\twrkr 7\t\tloss: 0.2344 (-0.0024)\tacc: 92.89% ( +0.12%)\tmodel:27952\n",
      "\twrkr 8\t\tloss: 0.2149 (-0.0384)\tacc: 93.32% ( +1.00%)\tmodel:15696\n",
      "\twrkr 9\t\tloss: 0.1981 (-0.0526)\tacc: 94.05% ( +1.15%)\tmodel:16336\n",
      "\tcombined\tloss: 0.1896\tacc: 94.38%\n",
      "\n",
      "Round 5\n",
      "\twrkr 0\t\tloss: 0.1842 (-0.0226)\tacc: 94.61% ( +0.72%)\tmodel:34608\n",
      "\twrkr 1\t\tloss: 0.1910 (-0.0143)\tacc: 94.12% ( +0.32%)\tmodel:03792\n",
      "\twrkr 2\t\tloss: 0.1872 (-0.0190)\tacc: 94.34% ( +0.74%)\tmodel:27120\n",
      "\twrkr 3\t\tloss: 0.1930 (-0.0115)\tacc: 94.34% ( +0.60%)\tmodel:37168\n",
      "\twrkr 4\t\tloss: 0.1968 (-0.0244)\tacc: 93.97% ( +0.77%)\tmodel:19280\n",
      "\twrkr 5\t\tloss: 0.1878 (-0.0193)\tacc: 94.49% ( +0.56%)\tmodel:28912\n",
      "\twrkr 6\t\tloss: 0.1857 (-0.0338)\tacc: 94.50% ( +1.03%)\tmodel:95088\n",
      "\twrkr 7\t\tloss: 0.1899 (-0.0445)\tacc: 94.53% ( +1.64%)\tmodel:37168\n",
      "\twrkr 8\t\tloss: 0.1912 (-0.0238)\tacc: 94.36% ( +1.04%)\tmodel:27952\n",
      "\twrkr 9\t\tloss: 0.1872 (-0.0108)\tacc: 94.36% ( +0.31%)\tmodel:15696\n",
      "\tcombined\tloss: 0.1724\tacc: 94.95%\n",
      "\n",
      "Round 6\n",
      "\twrkr 0\t\tloss: 0.1775 (-0.0067)\tacc: 94.71% ( +0.10%)\tmodel:27760\n",
      "\twrkr 1\t\tloss: 0.1752 (-0.0158)\tacc: 94.57% ( +0.45%)\tmodel:34608\n",
      "\twrkr 2\t\tloss: 0.1745 (-0.0128)\tacc: 94.77% ( +0.43%)\tmodel:03792\n",
      "\twrkr 3\t\tloss: 0.1734 (-0.0196)\tacc: 94.71% ( +0.37%)\tmodel:02416\n",
      "\twrkr 4\t\tloss: 0.1732 (-0.0236)\tacc: 94.72% ( +0.75%)\tmodel:37168\n",
      "\twrkr 5\t\tloss: 0.1746 (-0.0132)\tacc: 94.48% ( -0.01%)\tmodel:19280\n",
      "\twrkr 6\t\tloss: 0.1693 (-0.0163)\tacc: 94.72% ( +0.22%)\tmodel:28912\n",
      "\twrkr 7\t\tloss: 0.1804 (-0.0094)\tacc: 94.56% ( +0.03%)\tmodel:95088\n",
      "\twrkr 8\t\tloss: 0.1797 (-0.0115)\tacc: 94.71% ( +0.35%)\tmodel:37168\n",
      "\twrkr 9\t\tloss: 0.1876 (+0.0004)\tacc: 94.20% ( -0.16%)\tmodel:00368\n",
      "\tcombined\tloss: 0.1589\tacc: 95.20%\n",
      "\n",
      "Round 7\n",
      "\twrkr 0\t\tloss: 0.1667 (-0.0108)\tacc: 94.85% ( +0.14%)\tmodel:15696\n",
      "\twrkr 1\t\tloss: 0.1629 (-0.0123)\tacc: 95.00% ( +0.43%)\tmodel:27760\n",
      "\twrkr 2\t\tloss: 0.1767 (+0.0022)\tacc: 94.74% ( -0.03%)\tmodel:34608\n",
      "\twrkr 3\t\tloss: 0.1654 (-0.0080)\tacc: 94.97% ( +0.26%)\tmodel:03792\n",
      "\twrkr 4\t\tloss: 0.1589 (-0.0143)\tacc: 95.28% ( +0.56%)\tmodel:02416\n",
      "\twrkr 5\t\tloss: 0.1682 (-0.0064)\tacc: 94.86% ( +0.38%)\tmodel:37168\n",
      "\twrkr 6\t\tloss: 0.1640 (-0.0053)\tacc: 95.15% ( +0.43%)\tmodel:19280\n",
      "\twrkr 7\t\tloss: 0.1649 (-0.0155)\tacc: 95.03% ( +0.47%)\tmodel:28912\n",
      "\twrkr 8\t\tloss: 0.1740 (-0.0058)\tacc: 94.68% ( -0.03%)\tmodel:95088\n",
      "\twrkr 9\t\tloss: 0.1583 (-0.0294)\tacc: 95.15% ( +0.95%)\tmodel:37168\n",
      "\tcombined\tloss: 0.1465\tacc: 95.56%\n",
      "\n",
      "Round 8\n",
      "\twrkr 0\t\tloss: 0.1465 (-0.0202)\tacc: 95.70% ( +0.85%)\tmodel:03760\n",
      "\twrkr 1\t\tloss: 0.1590 (-0.0039)\tacc: 95.44% ( +0.44%)\tmodel:15696\n",
      "\twrkr 2\t\tloss: 0.1519 (-0.0248)\tacc: 95.40% ( +0.66%)\tmodel:27760\n",
      "\twrkr 3\t\tloss: 0.1496 (-0.0158)\tacc: 95.39% ( +0.42%)\tmodel:34608\n",
      "\twrkr 4\t\tloss: 0.1472 (-0.0117)\tacc: 95.58% ( +0.30%)\tmodel:03792\n",
      "\twrkr 5\t\tloss: 0.1493 (-0.0188)\tacc: 95.60% ( +0.74%)\tmodel:16464\n",
      "\twrkr 6\t\tloss: 0.1596 (-0.0045)\tacc: 95.41% ( +0.26%)\tmodel:37168\n",
      "\twrkr 7\t\tloss: 0.1561 (-0.0088)\tacc: 95.52% ( +0.49%)\tmodel:19280\n",
      "\twrkr 8\t\tloss: 0.1590 (-0.0150)\tacc: 95.15% ( +0.47%)\tmodel:28912\n",
      "\twrkr 9\t\tloss: 0.1590 (+0.0007)\tacc: 95.32% ( +0.17%)\tmodel:95088\n",
      "\tcombined\tloss: 0.1373\tacc: 95.98%\n",
      "\n",
      "Round 9\n",
      "\twrkr 0\t\tloss: 0.1381 (-0.0084)\tacc: 95.94% ( +0.24%)\tmodel:62800\n",
      "\twrkr 1\t\tloss: 0.1465 (-0.0125)\tacc: 95.68% ( +0.24%)\tmodel:15632\n",
      "\twrkr 2\t\tloss: 0.1596 (+0.0077)\tacc: 94.96% ( -0.44%)\tmodel:15696\n",
      "\twrkr 3\t\tloss: 0.1455 (-0.0041)\tacc: 95.43% ( +0.04%)\tmodel:27760\n",
      "\twrkr 4\t\tloss: 0.1456 (-0.0016)\tacc: 95.68% ( +0.10%)\tmodel:34608\n",
      "\twrkr 5\t\tloss: 0.1450 (-0.0043)\tacc: 95.70% ( +0.10%)\tmodel:03792\n",
      "\twrkr 6\t\tloss: 0.1489 (-0.0107)\tacc: 95.49% ( +0.08%)\tmodel:16464\n",
      "\twrkr 7\t\tloss: 0.1505 (-0.0057)\tacc: 95.21% ( -0.31%)\tmodel:37168\n",
      "\twrkr 8\t\tloss: 0.1431 (-0.0159)\tacc: 95.75% ( +0.60%)\tmodel:19280\n",
      "\twrkr 9\t\tloss: 0.1395 (-0.0195)\tacc: 95.70% ( +0.38%)\tmodel:28912\n",
      "\tcombined\tloss: 0.1298\tacc: 96.16%\n",
      "\n",
      "Round 10\n",
      "\twrkr 0\t\tloss: 0.1412 (+0.0031)\tacc: 95.61% ( -0.33%)\tmodel:03504\n",
      "\twrkr 1\t\tloss: 0.1300 (-0.0165)\tacc: 95.95% ( +0.27%)\tmodel:62800\n",
      "\twrkr 2\t\tloss: 0.1302 (-0.0294)\tacc: 95.97% ( +1.01%)\tmodel:29744\n",
      "\twrkr 3\t\tloss: 0.1362 (-0.0093)\tacc: 95.87% ( +0.44%)\tmodel:57968\n",
      "\twrkr 4\t\tloss: 0.1347 (-0.0108)\tacc: 95.90% ( +0.22%)\tmodel:27760\n",
      "\twrkr 5\t\tloss: 0.1402 (-0.0048)\tacc: 95.68% ( -0.02%)\tmodel:34608\n",
      "\twrkr 6\t\tloss: 0.1378 (-0.0111)\tacc: 96.01% ( +0.52%)\tmodel:03792\n",
      "\twrkr 7\t\tloss: 0.1344 (-0.0161)\tacc: 96.17% ( +0.96%)\tmodel:16464\n",
      "\twrkr 8\t\tloss: 0.1314 (-0.0117)\tacc: 96.17% ( +0.42%)\tmodel:37168\n",
      "\twrkr 9\t\tloss: 0.1406 (+0.0011)\tacc: 95.60% ( -0.10%)\tmodel:19280\n",
      "\tcombined\tloss: 0.1222\tacc: 96.35%\n",
      "\n",
      "Round 11\n",
      "\twrkr 0\t\tloss: 0.1343 (-0.0069)\tacc: 95.97% ( +0.36%)\tmodel:51088\n",
      "\twrkr 1\t\tloss: 0.1301 (+0.0001)\tacc: 96.23% ( +0.28%)\tmodel:04816\n",
      "\twrkr 2\t\tloss: 0.1239 (-0.0063)\tacc: 96.34% ( +0.37%)\tmodel:62800\n",
      "\twrkr 3\t\tloss: 0.1346 (-0.0016)\tacc: 95.95% ( +0.08%)\tmodel:29744\n",
      "\twrkr 4\t\tloss: 0.1260 (-0.0088)\tacc: 96.19% ( +0.29%)\tmodel:15696\n",
      "\twrkr 5\t\tloss: 0.1309 (-0.0094)\tacc: 96.01% ( +0.33%)\tmodel:27760\n",
      "\twrkr 6\t\tloss: 0.1403 (+0.0025)\tacc: 95.72% ( -0.29%)\tmodel:34608\n"
     ]
    },
    {
     "name": "stdout",
     "output_type": "stream",
     "text": [
      "\twrkr 7\t\tloss: 0.1246 (-0.0098)\tacc: 96.27% ( +0.10%)\tmodel:03792\n",
      "\twrkr 8\t\tloss: 0.1255 (-0.0059)\tacc: 96.10% ( -0.07%)\tmodel:16464\n",
      "\twrkr 9\t\tloss: 0.1332 (-0.0073)\tacc: 95.88% ( +0.28%)\tmodel:37168\n",
      "\tcombined\tloss: 0.1168\tacc: 96.57%\n",
      "\n",
      "Round 12\n",
      "\twrkr 0\t\tloss: 0.1216 (-0.0127)\tacc: 96.21% ( +0.24%)\tmodel:03696\n",
      "\twrkr 1\t\tloss: 0.1223 (-0.0078)\tacc: 96.27% ( +0.04%)\tmodel:51088\n",
      "\twrkr 2\t\tloss: 0.1257 (+0.0018)\tacc: 96.29% ( -0.05%)\tmodel:04816\n",
      "\twrkr 3\t\tloss: 0.1209 (-0.0137)\tacc: 96.21% ( +0.26%)\tmodel:62800\n",
      "\twrkr 4\t\tloss: 0.1222 (-0.0038)\tacc: 96.03% ( -0.16%)\tmodel:29744\n",
      "\twrkr 5\t\tloss: 0.1158 (-0.0151)\tacc: 96.59% ( +0.58%)\tmodel:15696\n",
      "\twrkr 6\t\tloss: 0.1180 (-0.0223)\tacc: 96.51% ( +0.79%)\tmodel:27760\n",
      "\twrkr 7\t\tloss: 0.1444 (+0.0198)\tacc: 95.50% ( -0.77%)\tmodel:34608\n",
      "\twrkr 8\t\tloss: 0.1210 (-0.0045)\tacc: 96.30% ( +0.20%)\tmodel:03792\n",
      "\twrkr 9\t\tloss: 0.1203 (-0.0129)\tacc: 96.43% ( +0.55%)\tmodel:16464\n",
      "\tcombined\tloss: 0.1094\tacc: 96.76%\n",
      "\n",
      "Round 13\n",
      "\twrkr 0\t\tloss: 0.1131 (-0.0085)\tacc: 96.67% ( +0.46%)\tmodel:56688\n",
      "\twrkr 1\t\tloss: 0.1126 (-0.0097)\tacc: 96.39% ( +0.12%)\tmodel:03696\n",
      "\twrkr 2\t\tloss: 0.1184 (-0.0073)\tacc: 96.42% ( +0.13%)\tmodel:51088\n",
      "\twrkr 3\t\tloss: 0.1143 (-0.0066)\tacc: 96.38% ( +0.17%)\tmodel:04816\n",
      "\twrkr 4\t\tloss: 0.1091 (-0.0131)\tacc: 96.89% ( +0.86%)\tmodel:62800\n",
      "\twrkr 5\t\tloss: 0.1164 (+0.0006)\tacc: 96.58% ( -0.01%)\tmodel:29744\n",
      "\twrkr 6\t\tloss: 0.1169 (-0.0011)\tacc: 96.49% ( -0.02%)\tmodel:03504\n",
      "\twrkr 7\t\tloss: 0.1143 (-0.0301)\tacc: 96.58% ( +1.08%)\tmodel:27760\n",
      "\twrkr 8\t\tloss: 0.1140 (-0.0069)\tacc: 96.44% ( +0.14%)\tmodel:49648\n",
      "\twrkr 9\t\tloss: 0.1176 (-0.0027)\tacc: 96.36% ( -0.07%)\tmodel:03792\n",
      "\tcombined\tloss: 0.1037\tacc: 96.97%\n",
      "\n",
      "Round 14\n",
      "\twrkr 0\t\tloss: 0.1073 (-0.0058)\tacc: 96.70% ( +0.03%)\tmodel:38384\n",
      "\twrkr 1\t\tloss: 0.1128 (+0.0002)\tacc: 96.66% ( +0.27%)\tmodel:56688\n",
      "\twrkr 2\t\tloss: 0.1317 (+0.0132)\tacc: 96.24% ( -0.18%)\tmodel:37168\n",
      "\twrkr 3\t\tloss: 0.1071 (-0.0072)\tacc: 96.70% ( +0.32%)\tmodel:51088\n",
      "\twrkr 4\t\tloss: 0.1106 (+0.0016)\tacc: 96.55% ( -0.34%)\tmodel:04816\n",
      "\twrkr 5\t\tloss: 0.1162 (-0.0002)\tacc: 96.31% ( -0.27%)\tmodel:62800\n",
      "\twrkr 6\t\tloss: 0.1089 (-0.0079)\tacc: 96.85% ( +0.36%)\tmodel:29744\n",
      "\twrkr 7\t\tloss: 0.1085 (-0.0058)\tacc: 96.68% ( +0.10%)\tmodel:58160\n",
      "\twrkr 8\t\tloss: 0.1115 (-0.0025)\tacc: 96.68% ( +0.24%)\tmodel:27760\n",
      "\twrkr 9\t\tloss: 0.1050 (-0.0126)\tacc: 96.76% ( +0.40%)\tmodel:49648\n",
      "\tcombined\tloss: 0.0989\tacc: 97.06%\n",
      "\n",
      "Round 15\n",
      "\twrkr 0\t\tloss: 0.1041 (-0.0032)\tacc: 96.93% ( +0.23%)\tmodel:02096\n",
      "\twrkr 1\t\tloss: 0.1030 (-0.0098)\tacc: 96.81% ( +0.15%)\tmodel:38384\n",
      "\twrkr 2\t\tloss: 0.1029 (-0.0288)\tacc: 96.96% ( +0.72%)\tmodel:56688\n",
      "\twrkr 3\t\tloss: 0.1006 (-0.0065)\tacc: 96.84% ( +0.14%)\tmodel:37168\n",
      "\twrkr 4\t\tloss: 0.1020 (-0.0086)\tacc: 96.79% ( +0.24%)\tmodel:51088\n",
      "\twrkr 5\t\tloss: 0.1084 (-0.0078)\tacc: 96.61% ( +0.30%)\tmodel:04816\n",
      "\twrkr 6\t\tloss: 0.0997 (-0.0093)\tacc: 96.89% ( +0.04%)\tmodel:62800\n",
      "\twrkr 7\t\tloss: 0.1029 (-0.0056)\tacc: 96.78% ( +0.10%)\tmodel:29744\n",
      "\twrkr 8\t\tloss: 0.1040 (-0.0075)\tacc: 96.71% ( +0.03%)\tmodel:58160\n",
      "\twrkr 9\t\tloss: 0.1056 (+0.0006)\tacc: 96.83% ( +0.07%)\tmodel:27760\n",
      "\tcombined\tloss: 0.0940\tacc: 97.21%\n",
      "\n",
      "Round 16\n",
      "\twrkr 0\t\tloss: 0.0968 (-0.0073)\tacc: 97.01% ( +0.08%)\tmodel:28656\n",
      "\twrkr 1\t\tloss: 0.0942 (-0.0088)\tacc: 96.97% ( +0.16%)\tmodel:05680\n",
      "\twrkr 2\t\tloss: 0.1015 (-0.0014)\tacc: 97.05% ( +0.09%)\tmodel:38384\n",
      "\twrkr 3\t\tloss: 0.1001 (-0.0004)\tacc: 96.80% ( -0.04%)\tmodel:56688\n",
      "\twrkr 4\t\tloss: 0.0981 (-0.0040)\tacc: 96.97% ( +0.18%)\tmodel:37168\n",
      "\twrkr 5\t\tloss: 0.0994 (-0.0090)\tacc: 96.77% ( +0.16%)\tmodel:51088\n",
      "\twrkr 6\t\tloss: 0.1003 (+0.0006)\tacc: 96.95% ( +0.06%)\tmodel:36656\n",
      "\twrkr 7\t\tloss: 0.0960 (-0.0069)\tacc: 97.07% ( +0.29%)\tmodel:62800\n",
      "\twrkr 8\t\tloss: 0.1038 (-0.0002)\tacc: 96.84% ( +0.13%)\tmodel:29744\n",
      "\twrkr 9\t\tloss: 0.0946 (-0.0111)\tacc: 97.14% ( +0.31%)\tmodel:58160\n",
      "\tcombined\tloss: 0.0892\tacc: 97.33%\n",
      "\n",
      "Round 17\n",
      "\twrkr 0\t\tloss: 0.0907 (-0.0061)\tacc: 97.18% ( +0.17%)\tmodel:36464\n",
      "\twrkr 1\t\tloss: 0.0965 (+0.0023)\tacc: 97.05% ( +0.08%)\tmodel:36208\n",
      "\twrkr 2\t\tloss: 0.0897 (-0.0118)\tacc: 97.25% ( +0.20%)\tmodel:05680\n",
      "\twrkr 3\t\tloss: 0.0956 (-0.0046)\tacc: 97.07% ( +0.27%)\tmodel:46608\n",
      "\twrkr 4\t\tloss: 0.0975 (-0.0005)\tacc: 96.82% ( -0.15%)\tmodel:56688\n",
      "\twrkr 5\t\tloss: 0.0917 (-0.0077)\tacc: 97.21% ( +0.44%)\tmodel:37168\n",
      "\twrkr 6\t\tloss: 0.0950 (-0.0052)\tacc: 97.18% ( +0.23%)\tmodel:51088\n",
      "\twrkr 7\t\tloss: 0.0974 (+0.0014)\tacc: 96.94% ( -0.13%)\tmodel:04816\n",
      "\twrkr 8\t\tloss: 0.0962 (-0.0076)\tacc: 97.10% ( +0.26%)\tmodel:62800\n",
      "\twrkr 9\t\tloss: 0.0987 (+0.0041)\tacc: 96.95% ( -0.19%)\tmodel:29744\n",
      "\tcombined\tloss: 0.0852\tacc: 97.48%\n",
      "\n",
      "Round 18\n",
      "\twrkr 0\t\tloss: 0.0910 (+0.0002)\tacc: 97.29% ( +0.11%)\tmodel:05840\n",
      "\twrkr 1\t\tloss: 0.0848 (-0.0117)\tacc: 97.47% ( +0.42%)\tmodel:36464\n",
      "\twrkr 2\t\tloss: 0.0899 (+0.0002)\tacc: 97.18% ( -0.07%)\tmodel:36208\n",
      "\twrkr 3\t\tloss: 0.0896 (-0.0060)\tacc: 97.29% ( +0.22%)\tmodel:05680\n",
      "\twrkr 4\t\tloss: 0.0867 (-0.0108)\tacc: 97.24% ( +0.42%)\tmodel:68688\n",
      "\twrkr 5\t\tloss: 0.0914 (-0.0003)\tacc: 97.11% ( -0.10%)\tmodel:56688\n",
      "\twrkr 6\t\tloss: 0.0909 (-0.0041)\tacc: 97.04% ( -0.14%)\tmodel:37168\n",
      "\twrkr 7\t\tloss: 0.0888 (-0.0086)\tacc: 97.29% ( +0.35%)\tmodel:51088\n",
      "\twrkr 8\t\tloss: 0.0927 (-0.0034)\tacc: 97.21% ( +0.11%)\tmodel:45520\n",
      "\twrkr 9\t\tloss: 0.0952 (-0.0035)\tacc: 97.09% ( +0.14%)\tmodel:62800\n",
      "\tcombined\tloss: 0.0817\tacc: 97.52%\n",
      "\n",
      "Round 19\n",
      "\twrkr 0\t\tloss: 0.0887 (-0.0022)\tacc: 97.37% ( +0.08%)\tmodel:68880\n",
      "\twrkr 1\t\tloss: 0.0866 (+0.0018)\tacc: 97.41% ( -0.06%)\tmodel:05840\n",
      "\twrkr 2\t\tloss: 0.0864 (-0.0034)\tacc: 97.13% ( -0.05%)\tmodel:36464\n",
      "\twrkr 3\t\tloss: 0.0861 (-0.0034)\tacc: 97.38% ( +0.09%)\tmodel:36208\n",
      "\twrkr 4\t\tloss: 0.0830 (-0.0038)\tacc: 97.39% ( +0.15%)\tmodel:38192\n",
      "\twrkr 5\t\tloss: 0.0880 (-0.0034)\tacc: 97.27% ( +0.16%)\tmodel:68688\n",
      "\twrkr 6\t\tloss: 0.0849 (-0.0061)\tacc: 97.40% ( +0.36%)\tmodel:56688\n",
      "\twrkr 7\t\tloss: 0.0846 (-0.0042)\tacc: 97.39% ( +0.10%)\tmodel:37168\n",
      "\twrkr 8\t\tloss: 0.0873 (-0.0054)\tacc: 97.22% ( +0.01%)\tmodel:51088\n",
      "\twrkr 9\t\tloss: 0.0873 (-0.0079)\tacc: 97.33% ( +0.24%)\tmodel:45520\n",
      "\tcombined\tloss: 0.0786\tacc: 97.63%\n",
      "\n",
      "Round 20\n",
      "\twrkr 0\t\tloss: 0.0795 (-0.0092)\tacc: 97.62% ( +0.25%)\tmodel:02096\n",
      "\twrkr 1\t\tloss: 0.0866 (-0.0001)\tacc: 97.30% ( -0.11%)\tmodel:68880\n",
      "\twrkr 2\t\tloss: 0.0807 (-0.0058)\tacc: 97.48% ( +0.35%)\tmodel:05840\n",
      "\twrkr 3\t\tloss: 0.0830 (-0.0032)\tacc: 97.40% ( +0.02%)\tmodel:36464\n",
      "\twrkr 4\t\tloss: 0.0811 (-0.0018)\tacc: 97.65% ( +0.26%)\tmodel:36208\n",
      "\twrkr 5\t\tloss: 0.0802 (-0.0078)\tacc: 97.49% ( +0.22%)\tmodel:38192\n",
      "\twrkr 6\t\tloss: 0.0834 (-0.0014)\tacc: 97.53% ( +0.13%)\tmodel:68688\n",
      "\twrkr 7\t\tloss: 0.0807 (-0.0039)\tacc: 97.48% ( +0.09%)\tmodel:56688\n",
      "\twrkr 8\t\tloss: 0.0844 (-0.0029)\tacc: 97.42% ( +0.20%)\tmodel:37168\n",
      "\twrkr 9\t\tloss: 0.0836 (-0.0038)\tacc: 97.33% ( +0.00%)\tmodel:51088\n",
      "\tcombined\tloss: 0.0752\tacc: 97.72%\n",
      "\n",
      "Round 21\n",
      "\twrkr 0\t\tloss: 0.0811 (+0.0016)\tacc: 97.49% ( -0.13%)\tmodel:99984\n",
      "\twrkr 1\t\tloss: 0.0801 (-0.0065)\tacc: 97.48% ( +0.18%)\tmodel:04144\n",
      "\twrkr 2\t\tloss: 0.0831 (+0.0025)\tacc: 97.42% ( -0.06%)\tmodel:68880\n",
      "\twrkr 3\t\tloss: 0.0757 (-0.0073)\tacc: 97.77% ( +0.37%)\tmodel:05840\n",
      "\twrkr 4\t\tloss: 0.0823 (+0.0011)\tacc: 97.30% ( -0.35%)\tmodel:36464\n",
      "\twrkr 5\t\tloss: 0.0801 (-0.0000)\tacc: 97.47% ( -0.02%)\tmodel:36208\n",
      "\twrkr 6\t\tloss: 0.0747 (-0.0087)\tacc: 97.70% ( +0.17%)\tmodel:38192\n",
      "\twrkr 7\t\tloss: 0.0794 (-0.0014)\tacc: 97.62% ( +0.14%)\tmodel:68688\n",
      "\twrkr 8\t\tloss: 0.0854 (+0.0010)\tacc: 97.38% ( -0.04%)\tmodel:56688\n",
      "\twrkr 9\t\tloss: 0.0814 (-0.0022)\tacc: 97.33% ( +0.00%)\tmodel:37168\n",
      "\tcombined\tloss: 0.0726\tacc: 97.84%\n",
      "\n",
      "Round 22\n",
      "\twrkr 0\t\tloss: 0.0761 (-0.0051)\tacc: 97.75% ( +0.26%)\tmodel:19280\n",
      "\twrkr 1\t\tloss: 0.0785 (-0.0016)\tacc: 97.59% ( +0.11%)\tmodel:04592\n",
      "\twrkr 2\t\tloss: 0.0786 (-0.0046)\tacc: 97.52% ( +0.10%)\tmodel:04144\n",
      "\twrkr 3\t\tloss: 0.0757 (-0.0000)\tacc: 97.52% ( -0.25%)\tmodel:68880\n",
      "\twrkr 4\t\tloss: 0.0777 (-0.0046)\tacc: 97.74% ( +0.44%)\tmodel:05840\n",
      "\twrkr 5\t\tloss: 0.0735 (-0.0066)\tacc: 97.77% ( +0.30%)\tmodel:03632\n",
      "\twrkr 6\t\tloss: 0.0748 (+0.0000)\tacc: 97.86% ( +0.16%)\tmodel:36208\n",
      "\twrkr 7\t\tloss: 0.0788 (-0.0006)\tacc: 97.50% ( -0.12%)\tmodel:38192\n",
      "\twrkr 8\t\tloss: 0.0781 (-0.0073)\tacc: 97.63% ( +0.25%)\tmodel:68688\n",
      "\twrkr 9\t\tloss: 0.0782 (-0.0032)\tacc: 97.66% ( +0.33%)\tmodel:56688\n",
      "\tcombined\tloss: 0.0700\tacc: 97.90%\n",
      "\n",
      "Round 23\n",
      "\twrkr 0\t\tloss: 0.0735 (-0.0026)\tacc: 97.83% ( +0.08%)\tmodel:68112\n",
      "\twrkr 1\t\tloss: 0.0718 (-0.0067)\tacc: 97.76% ( +0.17%)\tmodel:19280\n",
      "\twrkr 2\t\tloss: 0.0761 (-0.0025)\tacc: 97.65% ( +0.13%)\tmodel:04592\n"
     ]
    },
    {
     "name": "stdout",
     "output_type": "stream",
     "text": [
      "\twrkr 3\t\tloss: 0.0747 (-0.0009)\tacc: 97.67% ( +0.15%)\tmodel:04144\n",
      "\twrkr 4\t\tloss: 0.0730 (-0.0046)\tacc: 97.80% ( +0.06%)\tmodel:68880\n",
      "\twrkr 5\t\tloss: 0.0736 (+0.0001)\tacc: 97.78% ( +0.01%)\tmodel:05840\n",
      "\twrkr 6\t\tloss: 0.0711 (-0.0036)\tacc: 97.70% ( -0.16%)\tmodel:03632\n",
      "\twrkr 7\t\tloss: 0.0743 (-0.0045)\tacc: 97.64% ( +0.14%)\tmodel:06608\n",
      "\twrkr 8\t\tloss: 0.0753 (-0.0028)\tacc: 97.61% ( -0.02%)\tmodel:38192\n",
      "\twrkr 9\t\tloss: 0.0744 (-0.0038)\tacc: 97.74% ( +0.08%)\tmodel:68688\n",
      "\tcombined\tloss: 0.0671\tacc: 97.97%\n",
      "\n",
      "Round 24\n",
      "\twrkr 0\t\tloss: 0.0712 (-0.0023)\tacc: 97.73% ( -0.10%)\tmodel:00432\n",
      "\twrkr 1\t\tloss: 0.0717 (-0.0002)\tacc: 97.81% ( +0.05%)\tmodel:68112\n",
      "\twrkr 2\t\tloss: 0.0732 (-0.0029)\tacc: 97.73% ( +0.08%)\tmodel:19280\n",
      "\twrkr 3\t\tloss: 0.0735 (-0.0012)\tacc: 97.76% ( +0.09%)\tmodel:04592\n",
      "\twrkr 4\t\tloss: 0.0699 (-0.0031)\tacc: 97.90% ( +0.10%)\tmodel:04144\n",
      "\twrkr 5\t\tloss: 0.0692 (-0.0044)\tacc: 97.87% ( +0.09%)\tmodel:68880\n",
      "\twrkr 6\t\tloss: 0.0690 (-0.0021)\tacc: 97.85% ( +0.15%)\tmodel:05840\n",
      "\twrkr 7\t\tloss: 0.0709 (-0.0034)\tacc: 97.76% ( +0.12%)\tmodel:56944\n",
      "\twrkr 8\t\tloss: 0.0725 (-0.0027)\tacc: 97.66% ( +0.05%)\tmodel:06608\n",
      "\twrkr 9\t\tloss: 0.0729 (-0.0015)\tacc: 97.78% ( +0.04%)\tmodel:38192\n",
      "\tcombined\tloss: 0.0643\tacc: 98.01%\n",
      "\n",
      "Round 25\n",
      "\twrkr 0\t\tloss: 0.0720 (+0.0008)\tacc: 97.78% ( +0.05%)\tmodel:02992\n",
      "\twrkr 1\t\tloss: 0.0673 (-0.0044)\tacc: 97.99% ( +0.18%)\tmodel:47440\n",
      "\twrkr 2\t\tloss: 0.0677 (-0.0055)\tacc: 97.76% ( +0.03%)\tmodel:68112\n",
      "\twrkr 3\t\tloss: 0.0666 (-0.0069)\tacc: 98.02% ( +0.26%)\tmodel:19280\n",
      "\twrkr 4\t\tloss: 0.0661 (-0.0038)\tacc: 97.94% ( +0.04%)\tmodel:04592\n",
      "\twrkr 5\t\tloss: 0.0665 (-0.0027)\tacc: 97.85% ( -0.02%)\tmodel:04144\n",
      "\twrkr 6\t\tloss: 0.0660 (-0.0030)\tacc: 97.82% ( -0.03%)\tmodel:68880\n",
      "\twrkr 7\t\tloss: 0.0690 (-0.0019)\tacc: 97.79% ( +0.03%)\tmodel:05840\n",
      "\twrkr 8\t\tloss: 0.0759 (+0.0033)\tacc: 97.65% ( -0.01%)\tmodel:56944\n",
      "\twrkr 9\t\tloss: 0.0676 (-0.0053)\tacc: 97.81% ( +0.03%)\tmodel:06608\n",
      "\tcombined\tloss: 0.0623\tacc: 98.10%\n",
      "\n",
      "Round 26\n",
      "\twrkr 0\t\tloss: 0.0665 (-0.0055)\tacc: 97.87% ( +0.09%)\tmodel:01520\n",
      "\twrkr 1\t\tloss: 0.0658 (-0.0015)\tacc: 97.89% ( -0.10%)\tmodel:51088\n",
      "\twrkr 2\t\tloss: 0.0712 (+0.0035)\tacc: 97.78% ( +0.02%)\tmodel:47440\n",
      "\twrkr 3\t\tloss: 0.0648 (-0.0017)\tacc: 98.06% ( +0.04%)\tmodel:68112\n",
      "\twrkr 4\t\tloss: 0.0665 (+0.0005)\tacc: 97.88% ( -0.06%)\tmodel:19280\n",
      "\twrkr 5\t\tloss: 0.0666 (+0.0001)\tacc: 97.88% ( +0.03%)\tmodel:04592\n",
      "\twrkr 6\t\tloss: 0.0676 (+0.0016)\tacc: 97.80% ( -0.02%)\tmodel:04144\n",
      "\twrkr 7\t\tloss: 0.0660 (-0.0031)\tacc: 97.91% ( +0.12%)\tmodel:68880\n",
      "\twrkr 8\t\tloss: 0.0669 (-0.0089)\tacc: 97.85% ( +0.20%)\tmodel:05840\n",
      "\twrkr 9\t\tloss: 0.0665 (-0.0011)\tacc: 97.98% ( +0.17%)\tmodel:05648\n",
      "\tcombined\tloss: 0.0612\tacc: 98.05%\n",
      "\n",
      "Round 27\n",
      "\twrkr 0\t\tloss: 0.0674 (+0.0009)\tacc: 97.87% ( +0.00%)\tmodel:01136\n",
      "\twrkr 1\t\tloss: 0.0643 (-0.0014)\tacc: 97.89% ( +0.00%)\tmodel:27952\n",
      "\twrkr 2\t\tloss: 0.0639 (-0.0074)\tacc: 97.92% ( +0.14%)\tmodel:51088\n",
      "\twrkr 3\t\tloss: 0.0695 (+0.0046)\tacc: 97.88% ( -0.18%)\tmodel:47440\n",
      "\twrkr 4\t\tloss: 0.0643 (-0.0022)\tacc: 97.95% ( +0.07%)\tmodel:68112\n",
      "\twrkr 5\t\tloss: 0.0628 (-0.0038)\tacc: 98.03% ( +0.15%)\tmodel:19280\n",
      "\twrkr 6\t\tloss: 0.0617 (-0.0059)\tacc: 97.95% ( +0.15%)\tmodel:04592\n",
      "\twrkr 7\t\tloss: 0.0664 (+0.0004)\tacc: 97.99% ( +0.08%)\tmodel:04144\n",
      "\twrkr 8\t\tloss: 0.0666 (-0.0003)\tacc: 97.88% ( +0.03%)\tmodel:68880\n",
      "\twrkr 9\t\tloss: 0.0668 (+0.0003)\tacc: 97.99% ( +0.01%)\tmodel:05840\n",
      "\tcombined\tloss: 0.0593\tacc: 98.11%\n",
      "\n",
      "Round 28\n",
      "\twrkr 0\t\tloss: 0.0639 (-0.0035)\tacc: 98.04% ( +0.17%)\tmodel:00752\n",
      "\twrkr 1\t\tloss: 0.0619 (-0.0025)\tacc: 98.01% ( +0.12%)\tmodel:61712\n",
      "\twrkr 2\t\tloss: 0.0636 (-0.0003)\tacc: 97.90% ( -0.02%)\tmodel:27952\n",
      "\twrkr 3\t\tloss: 0.0664 (-0.0031)\tacc: 98.00% ( +0.12%)\tmodel:51088\n",
      "\twrkr 4\t\tloss: 0.0620 (-0.0023)\tacc: 98.01% ( +0.06%)\tmodel:47440\n",
      "\twrkr 5\t\tloss: 0.0640 (+0.0012)\tacc: 97.94% ( -0.09%)\tmodel:68112\n",
      "\twrkr 6\t\tloss: 0.0591 (-0.0026)\tacc: 98.21% ( +0.26%)\tmodel:19280\n",
      "\twrkr 7\t\tloss: 0.0628 (-0.0035)\tacc: 98.06% ( +0.07%)\tmodel:04592\n",
      "\twrkr 8\t\tloss: 0.0638 (-0.0028)\tacc: 98.00% ( +0.12%)\tmodel:04144\n",
      "\twrkr 9\t\tloss: 0.0615 (-0.0052)\tacc: 98.10% ( +0.11%)\tmodel:68880\n",
      "\tcombined\tloss: 0.0572\tacc: 98.22%\n",
      "\n",
      "Round 29\n",
      "\twrkr 0\t\tloss: 0.0642 (+0.0003)\tacc: 97.92% ( -0.12%)\tmodel:02928\n",
      "\twrkr 1\t\tloss: 0.0603 (-0.0015)\tacc: 98.16% ( +0.15%)\tmodel:68688\n",
      "\twrkr 2\t\tloss: 0.0596 (-0.0039)\tacc: 98.09% ( +0.19%)\tmodel:61712\n",
      "\twrkr 3\t\tloss: 0.0618 (-0.0046)\tacc: 97.97% ( -0.03%)\tmodel:27952\n",
      "\twrkr 4\t\tloss: 0.0613 (-0.0007)\tacc: 98.08% ( +0.07%)\tmodel:51088\n",
      "\twrkr 5\t\tloss: 0.0660 (+0.0020)\tacc: 97.99% ( +0.05%)\tmodel:47440\n",
      "\twrkr 6\t\tloss: 0.0632 (+0.0041)\tacc: 98.02% ( -0.19%)\tmodel:68112\n",
      "\twrkr 7\t\tloss: 0.0615 (-0.0014)\tacc: 97.99% ( -0.07%)\tmodel:19280\n",
      "\twrkr 8\t\tloss: 0.0648 (+0.0010)\tacc: 97.85% ( -0.15%)\tmodel:44880\n",
      "\twrkr 9\t\tloss: 0.0626 (+0.0011)\tacc: 98.03% ( -0.07%)\tmodel:04144\n",
      "\tcombined\tloss: 0.0567\tacc: 98.16%\n",
      "\n",
      "Round 30\n",
      "\twrkr 0\t\tloss: 0.0622 (-0.0020)\tacc: 97.93% ( +0.01%)\tmodel:03696\n",
      "\twrkr 1\t\tloss: 0.0585 (-0.0018)\tacc: 98.13% ( -0.03%)\tmodel:36528\n",
      "\twrkr 2\t\tloss: 0.0589 (-0.0008)\tacc: 98.10% ( +0.01%)\tmodel:68688\n",
      "\twrkr 3\t\tloss: 0.0580 (-0.0038)\tacc: 98.20% ( +0.23%)\tmodel:61712\n",
      "\twrkr 4\t\tloss: 0.0591 (-0.0022)\tacc: 98.12% ( +0.04%)\tmodel:27952\n",
      "\twrkr 5\t\tloss: 0.0589 (-0.0070)\tacc: 98.13% ( +0.14%)\tmodel:51088\n",
      "\twrkr 6\t\tloss: 0.0582 (-0.0050)\tacc: 98.11% ( +0.09%)\tmodel:47440\n",
      "\twrkr 7\t\tloss: 0.0615 (+0.0000)\tacc: 98.07% ( +0.08%)\tmodel:68112\n",
      "\twrkr 8\t\tloss: 0.0594 (-0.0053)\tacc: 98.07% ( +0.22%)\tmodel:19280\n",
      "\twrkr 9\t\tloss: 0.0578 (-0.0048)\tacc: 98.14% ( +0.11%)\tmodel:61328\n",
      "\tcombined\tloss: 0.0538\tacc: 98.37%\n",
      "\n",
      "Round 31\n",
      "\twrkr 0\t\tloss: 0.0588 (-0.0034)\tacc: 98.18% ( +0.25%)\tmodel:01520\n",
      "\twrkr 1\t\tloss: 0.0624 (+0.0039)\tacc: 97.95% ( -0.18%)\tmodel:31440\n",
      "\twrkr 2\t\tloss: 0.0567 (-0.0021)\tacc: 98.12% ( +0.02%)\tmodel:15568\n",
      "\twrkr 3\t\tloss: 0.0574 (-0.0005)\tacc: 98.18% ( -0.02%)\tmodel:68688\n",
      "\twrkr 4\t\tloss: 0.0578 (-0.0013)\tacc: 98.11% ( -0.01%)\tmodel:61712\n",
      "\twrkr 5\t\tloss: 0.0601 (+0.0012)\tacc: 98.09% ( -0.04%)\tmodel:27952\n",
      "\twrkr 6\t\tloss: 0.0556 (-0.0026)\tacc: 98.34% ( +0.23%)\tmodel:51088\n",
      "\twrkr 7\t\tloss: 0.0597 (-0.0018)\tacc: 98.08% ( +0.01%)\tmodel:13776\n",
      "\twrkr 8\t\tloss: 0.0603 (+0.0009)\tacc: 98.07% ( +0.00%)\tmodel:68112\n",
      "\twrkr 9\t\tloss: 0.0553 (-0.0025)\tacc: 98.22% ( +0.08%)\tmodel:19280\n",
      "\tcombined\tloss: 0.0525\tacc: 98.36%\n",
      "\n",
      "Round 32\n",
      "\twrkr 0\t\tloss: 0.0573 (-0.0015)\tacc: 98.21% ( +0.03%)\tmodel:01136\n",
      "\twrkr 1\t\tloss: 0.0584 (-0.0039)\tacc: 98.16% ( +0.21%)\tmodel:36464\n",
      "\twrkr 2\t\tloss: 0.0549 (-0.0018)\tacc: 98.21% ( +0.09%)\tmodel:31440\n",
      "\twrkr 3\t\tloss: 0.0549 (-0.0025)\tacc: 98.27% ( +0.09%)\tmodel:36528\n",
      "\twrkr 4\t\tloss: 0.0565 (-0.0013)\tacc: 98.19% ( +0.08%)\tmodel:68688\n",
      "\twrkr 5\t\tloss: 0.0572 (-0.0029)\tacc: 98.21% ( +0.12%)\tmodel:61712\n",
      "\twrkr 6\t\tloss: 0.0597 (+0.0040)\tacc: 98.14% ( -0.20%)\tmodel:27952\n",
      "\twrkr 7\t\tloss: 0.0570 (-0.0027)\tacc: 98.22% ( +0.14%)\tmodel:51088\n",
      "\twrkr 8\t\tloss: 0.0595 (-0.0008)\tacc: 98.05% ( -0.02%)\tmodel:13776\n",
      "\twrkr 9\t\tloss: 0.0548 (-0.0005)\tacc: 98.29% ( +0.07%)\tmodel:68112\n",
      "\tcombined\tloss: 0.0516\tacc: 98.34%\n",
      "\n",
      "Round 33\n",
      "\twrkr 0\t\tloss: 0.0577 (+0.0004)\tacc: 98.22% ( +0.01%)\tmodel:00752\n",
      "\twrkr 1\t\tloss: 0.0533 (-0.0051)\tacc: 98.38% ( +0.22%)\tmodel:27120\n",
      "\twrkr 2\t\tloss: 0.0540 (-0.0009)\tacc: 98.26% ( +0.05%)\tmodel:36464\n",
      "\twrkr 3\t\tloss: 0.0577 (+0.0028)\tacc: 98.10% ( -0.17%)\tmodel:31440\n",
      "\twrkr 4\t\tloss: 0.0558 (-0.0007)\tacc: 98.18% ( -0.01%)\tmodel:04816\n",
      "\twrkr 5\t\tloss: 0.0557 (-0.0015)\tacc: 98.21% ( +0.00%)\tmodel:68688\n",
      "\twrkr 6\t\tloss: 0.0562 (-0.0035)\tacc: 98.27% ( +0.13%)\tmodel:61712\n",
      "\twrkr 7\t\tloss: 0.0561 (-0.0009)\tacc: 98.17% ( -0.05%)\tmodel:27952\n",
      "\twrkr 8\t\tloss: 0.0547 (-0.0048)\tacc: 98.13% ( +0.08%)\tmodel:51088\n",
      "\twrkr 9\t\tloss: 0.0521 (-0.0027)\tacc: 98.33% ( +0.04%)\tmodel:13776\n",
      "\tcombined\tloss: 0.0499\tacc: 98.40%\n",
      "\n",
      "Round 34\n",
      "\twrkr 0\t\tloss: 0.0532 (-0.0045)\tacc: 98.17% ( -0.05%)\tmodel:02928\n",
      "\twrkr 1\t\tloss: 0.0612 (+0.0079)\tacc: 98.06% ( -0.32%)\tmodel:06608\n",
      "\twrkr 2\t\tloss: 0.0616 (+0.0076)\tacc: 97.91% ( -0.35%)\tmodel:27120\n",
      "\twrkr 3\t\tloss: 0.0533 (-0.0044)\tacc: 98.33% ( +0.23%)\tmodel:36464\n",
      "\twrkr 4\t\tloss: 0.0550 (-0.0008)\tacc: 98.23% ( +0.05%)\tmodel:31440\n",
      "\twrkr 5\t\tloss: 0.0553 (-0.0004)\tacc: 98.22% ( +0.01%)\tmodel:04816\n",
      "\twrkr 6\t\tloss: 0.0514 (-0.0048)\tacc: 98.33% ( +0.06%)\tmodel:68688\n",
      "\twrkr 7\t\tloss: 0.0524 (-0.0038)\tacc: 98.31% ( +0.14%)\tmodel:61712\n",
      "\twrkr 8\t\tloss: 0.0549 (+0.0001)\tacc: 98.26% ( +0.13%)\tmodel:27952\n",
      "\twrkr 9\t\tloss: 0.0546 (+0.0025)\tacc: 98.26% ( -0.07%)\tmodel:51088\n",
      "\tcombined\tloss: 0.0493\tacc: 98.43%\n",
      "\n",
      "Round 35\n"
     ]
    },
    {
     "name": "stdout",
     "output_type": "stream",
     "text": [
      "\twrkr 0\t\tloss: 0.0535 (+0.0003)\tacc: 98.32% ( +0.15%)\tmodel:03824\n",
      "\twrkr 1\t\tloss: 0.0543 (-0.0070)\tacc: 98.39% ( +0.33%)\tmodel:13840\n",
      "\twrkr 2\t\tloss: 0.0548 (-0.0067)\tacc: 98.10% ( +0.19%)\tmodel:06608\n",
      "\twrkr 3\t\tloss: 0.0515 (-0.0018)\tacc: 98.33% ( +0.00%)\tmodel:15184\n",
      "\twrkr 4\t\tloss: 0.0522 (-0.0028)\tacc: 98.32% ( +0.09%)\tmodel:36464\n",
      "\twrkr 5\t\tloss: 0.0530 (-0.0023)\tacc: 98.34% ( +0.12%)\tmodel:31440\n",
      "\twrkr 6\t\tloss: 0.0515 (+0.0000)\tacc: 98.33% ( +0.00%)\tmodel:04816\n",
      "\twrkr 7\t\tloss: 0.0541 (+0.0017)\tacc: 98.21% ( -0.10%)\tmodel:68688\n",
      "\twrkr 8\t\tloss: 0.0559 (+0.0010)\tacc: 98.22% ( -0.04%)\tmodel:61712\n",
      "\twrkr 9\t\tloss: 0.0535 (-0.0011)\tacc: 98.21% ( -0.05%)\tmodel:27952\n",
      "\tcombined\tloss: 0.0482\tacc: 98.41%\n",
      "\n",
      "Round 36\n",
      "\twrkr 0\t\tloss: 0.0522 (-0.0014)\tacc: 98.31% ( -0.01%)\tmodel:68880\n",
      "\twrkr 1\t\tloss: 0.0540 (-0.0003)\tacc: 98.24% ( -0.15%)\tmodel:37680\n",
      "\twrkr 2\t\tloss: 0.0538 (-0.0011)\tacc: 98.25% ( +0.15%)\tmodel:13840\n",
      "\twrkr 3\t\tloss: 0.0522 (+0.0007)\tacc: 98.26% ( -0.07%)\tmodel:06608\n",
      "\twrkr 4\t\tloss: 0.0509 (-0.0013)\tacc: 98.44% ( +0.12%)\tmodel:15184\n",
      "\twrkr 5\t\tloss: 0.0540 (+0.0010)\tacc: 98.35% ( +0.01%)\tmodel:47664\n",
      "\twrkr 6\t\tloss: 0.0492 (-0.0023)\tacc: 98.39% ( +0.06%)\tmodel:31440\n",
      "\twrkr 7\t\tloss: 0.0518 (-0.0023)\tacc: 98.27% ( +0.06%)\tmodel:04816\n",
      "\twrkr 8\t\tloss: 0.0520 (-0.0039)\tacc: 98.22% ( +0.00%)\tmodel:68688\n",
      "\twrkr 9\t\tloss: 0.0525 (-0.0011)\tacc: 98.31% ( +0.10%)\tmodel:61712\n",
      "\tcombined\tloss: 0.0471\tacc: 98.45%\n",
      "\n",
      "Round 37\n",
      "\twrkr 0\t\tloss: 0.0496 (-0.0025)\tacc: 98.38% ( +0.07%)\tmodel:27952\n",
      "\twrkr 1\t\tloss: 0.0531 (-0.0009)\tacc: 98.27% ( +0.03%)\tmodel:68880\n",
      "\twrkr 2\t\tloss: 0.0557 (+0.0019)\tacc: 98.10% ( -0.15%)\tmodel:37680\n",
      "\twrkr 3\t\tloss: 0.0498 (-0.0024)\tacc: 98.43% ( +0.17%)\tmodel:13840\n",
      "\twrkr 4\t\tloss: 0.0523 (+0.0014)\tacc: 98.20% ( -0.24%)\tmodel:49840\n",
      "\twrkr 5\t\tloss: 0.0503 (-0.0037)\tacc: 98.40% ( +0.05%)\tmodel:15184\n",
      "\twrkr 6\t\tloss: 0.0506 (+0.0014)\tacc: 98.36% ( -0.03%)\tmodel:47664\n",
      "\twrkr 7\t\tloss: 0.0530 (+0.0012)\tacc: 98.26% ( -0.01%)\tmodel:31440\n",
      "\twrkr 8\t\tloss: 0.0534 (+0.0014)\tacc: 98.22% ( +0.00%)\tmodel:04816\n",
      "\twrkr 9\t\tloss: 0.0520 (-0.0004)\tacc: 98.29% ( -0.02%)\tmodel:68688\n",
      "\tcombined\tloss: 0.0468\tacc: 98.44%\n",
      "\n",
      "Round 38\n",
      "\twrkr 0\t\tloss: 0.0532 (+0.0035)\tacc: 98.19% ( -0.19%)\tmodel:46608\n",
      "\twrkr 1\t\tloss: 0.0489 (-0.0042)\tacc: 98.50% ( +0.23%)\tmodel:27952\n",
      "\twrkr 2\t\tloss: 0.0505 (-0.0052)\tacc: 98.35% ( +0.25%)\tmodel:68880\n",
      "\twrkr 3\t\tloss: 0.0479 (-0.0019)\tacc: 98.39% ( -0.04%)\tmodel:37680\n",
      "\twrkr 4\t\tloss: 0.0492 (-0.0031)\tacc: 98.40% ( +0.20%)\tmodel:13840\n",
      "\twrkr 5\t\tloss: 0.0528 (+0.0025)\tacc: 98.32% ( -0.08%)\tmodel:49840\n",
      "\twrkr 6\t\tloss: 0.0488 (-0.0018)\tacc: 98.41% ( +0.05%)\tmodel:15184\n",
      "\twrkr 7\t\tloss: 0.0522 (-0.0008)\tacc: 98.31% ( +0.05%)\tmodel:47664\n",
      "\twrkr 8\t\tloss: 0.0506 (-0.0028)\tacc: 98.34% ( +0.12%)\tmodel:31440\n",
      "\twrkr 9\t\tloss: 0.0494 (-0.0026)\tacc: 98.40% ( +0.11%)\tmodel:04816\n",
      "\tcombined\tloss: 0.0453\tacc: 98.46%\n",
      "\n",
      "Round 39\n",
      "\twrkr 0\t\tloss: 0.0497 (-0.0035)\tacc: 98.32% ( +0.13%)\tmodel:03760\n",
      "\twrkr 1\t\tloss: 0.0523 (+0.0034)\tacc: 98.26% ( -0.24%)\tmodel:01136\n",
      "\twrkr 2\t\tloss: 0.0488 (-0.0017)\tacc: 98.42% ( +0.07%)\tmodel:27952\n",
      "\twrkr 3\t\tloss: 0.0490 (+0.0011)\tacc: 98.38% ( -0.01%)\tmodel:68880\n",
      "\twrkr 4\t\tloss: 0.0486 (-0.0006)\tacc: 98.34% ( -0.06%)\tmodel:37680\n",
      "\twrkr 5\t\tloss: 0.0520 (-0.0008)\tacc: 98.33% ( +0.01%)\tmodel:13840\n",
      "\twrkr 6\t\tloss: 0.0493 (+0.0004)\tacc: 98.37% ( -0.04%)\tmodel:49840\n",
      "\twrkr 7\t\tloss: 0.0538 (+0.0016)\tacc: 98.12% ( -0.19%)\tmodel:15184\n",
      "\twrkr 8\t\tloss: 0.0552 (+0.0046)\tacc: 98.23% ( -0.11%)\tmodel:47664\n",
      "\twrkr 9\t\tloss: 0.0485 (-0.0009)\tacc: 98.47% ( +0.07%)\tmodel:31440\n",
      "\tcombined\tloss: 0.0447\tacc: 98.52%\n",
      "\n",
      "Round 40\n",
      "\twrkr 0\t\tloss: 0.0507 (+0.0010)\tacc: 98.32% ( +0.00%)\tmodel:99984\n",
      "\twrkr 1\t\tloss: 0.0506 (-0.0017)\tacc: 98.38% ( +0.12%)\tmodel:26992\n",
      "\twrkr 2\t\tloss: 0.0472 (-0.0016)\tacc: 98.47% ( +0.05%)\tmodel:59312\n",
      "\twrkr 3\t\tloss: 0.0459 (-0.0031)\tacc: 98.49% ( +0.11%)\tmodel:38384\n",
      "\twrkr 4\t\tloss: 0.0500 (+0.0015)\tacc: 98.42% ( +0.08%)\tmodel:68880\n",
      "\twrkr 5\t\tloss: 0.0509 (-0.0011)\tacc: 98.42% ( +0.09%)\tmodel:37680\n",
      "\twrkr 6\t\tloss: 0.0497 (+0.0005)\tacc: 98.31% ( -0.06%)\tmodel:60752\n",
      "\twrkr 7\t\tloss: 0.0480 (-0.0057)\tacc: 98.47% ( +0.35%)\tmodel:49840\n",
      "\twrkr 8\t\tloss: 0.0485 (-0.0068)\tacc: 98.43% ( +0.20%)\tmodel:15184\n",
      "\twrkr 9\t\tloss: 0.0491 (+0.0006)\tacc: 98.41% ( -0.06%)\tmodel:47664\n",
      "\tcombined\tloss: 0.0446\tacc: 98.56%\n",
      "\n",
      "Round 41\n",
      "\twrkr 0\t\tloss: 0.0481 (-0.0026)\tacc: 98.34% ( +0.02%)\tmodel:47248\n",
      "\twrkr 1\t\tloss: 0.0481 (-0.0025)\tacc: 98.51% ( +0.13%)\tmodel:36208\n",
      "\twrkr 2\t\tloss: 0.0484 (+0.0012)\tacc: 98.47% ( +0.00%)\tmodel:26992\n",
      "\twrkr 3\t\tloss: 0.0468 (+0.0009)\tacc: 98.55% ( +0.06%)\tmodel:51088\n",
      "\twrkr 4\t\tloss: 0.0497 (-0.0003)\tacc: 98.34% ( -0.08%)\tmodel:38384\n",
      "\twrkr 5\t\tloss: 0.0490 (-0.0020)\tacc: 98.37% ( -0.05%)\tmodel:68880\n",
      "\twrkr 6\t\tloss: 0.0475 (-0.0022)\tacc: 98.50% ( +0.19%)\tmodel:37680\n",
      "\twrkr 7\t\tloss: 0.0491 (+0.0011)\tacc: 98.45% ( -0.02%)\tmodel:60752\n",
      "\twrkr 8\t\tloss: 0.0494 (+0.0010)\tacc: 98.42% ( -0.01%)\tmodel:49840\n",
      "\twrkr 9\t\tloss: 0.0479 (-0.0012)\tacc: 98.44% ( +0.03%)\tmodel:15184\n",
      "\tcombined\tloss: 0.0436\tacc: 98.55%\n",
      "\n",
      "Round 42\n",
      "\twrkr 0\t\tloss: 0.0480 (-0.0000)\tacc: 98.43% ( +0.09%)\tmodel:38064\n",
      "\twrkr 1\t\tloss: 0.0490 (+0.0009)\tacc: 98.37% ( -0.14%)\tmodel:28656\n",
      "\twrkr 2\t\tloss: 0.0455 (-0.0029)\tacc: 98.49% ( +0.02%)\tmodel:36208\n",
      "\twrkr 3\t\tloss: 0.0446 (-0.0022)\tacc: 98.48% ( -0.07%)\tmodel:26992\n",
      "\twrkr 4\t\tloss: 0.0460 (-0.0037)\tacc: 98.45% ( +0.11%)\tmodel:51088\n",
      "\twrkr 5\t\tloss: 0.0483 (-0.0006)\tacc: 98.40% ( +0.03%)\tmodel:38384\n",
      "\twrkr 6\t\tloss: 0.0467 (-0.0008)\tacc: 98.37% ( -0.13%)\tmodel:68880\n",
      "\twrkr 7\t\tloss: 0.0547 (+0.0056)\tacc: 98.10% ( -0.35%)\tmodel:37680\n",
      "\twrkr 8\t\tloss: 0.0474 (-0.0020)\tacc: 98.39% ( -0.03%)\tmodel:60752\n",
      "\twrkr 9\t\tloss: 0.0464 (-0.0015)\tacc: 98.41% ( -0.03%)\tmodel:49840\n",
      "\tcombined\tloss: 0.0428\tacc: 98.55%\n",
      "\n",
      "Round 43\n",
      "\twrkr 0\t\tloss: 0.0486 (+0.0006)\tacc: 98.34% ( -0.09%)\tmodel:31440\n",
      "\twrkr 1\t\tloss: 0.0453 (-0.0037)\tacc: 98.59% ( +0.22%)\tmodel:38064\n",
      "\twrkr 2\t\tloss: 0.0457 (+0.0002)\tacc: 98.52% ( +0.03%)\tmodel:28656\n",
      "\twrkr 3\t\tloss: 0.0502 (+0.0056)\tacc: 98.48% ( +0.00%)\tmodel:36208\n",
      "\twrkr 4\t\tloss: 0.0445 (-0.0015)\tacc: 98.48% ( +0.03%)\tmodel:26992\n",
      "\twrkr 5\t\tloss: 0.0471 (-0.0013)\tacc: 98.56% ( +0.16%)\tmodel:51088\n",
      "\twrkr 6\t\tloss: 0.0485 (+0.0018)\tacc: 98.42% ( +0.05%)\tmodel:38384\n",
      "\twrkr 7\t\tloss: 0.0470 (-0.0077)\tacc: 98.46% ( +0.36%)\tmodel:68880\n",
      "\twrkr 8\t\tloss: 0.0485 (+0.0011)\tacc: 98.43% ( +0.04%)\tmodel:37680\n",
      "\twrkr 9\t\tloss: 0.0473 (+0.0009)\tacc: 98.46% ( +0.05%)\tmodel:60752\n",
      "\tcombined\tloss: 0.0426\tacc: 98.56%\n",
      "\n",
      "Round 44\n",
      "\twrkr 0\t\tloss: 0.0458 (-0.0028)\tacc: 98.54% ( +0.20%)\tmodel:34608\n",
      "\twrkr 1\t\tloss: 0.0457 (+0.0005)\tacc: 98.44% ( -0.15%)\tmodel:31440\n",
      "\twrkr 2\t\tloss: 0.0470 (+0.0013)\tacc: 98.53% ( +0.01%)\tmodel:38064\n",
      "\twrkr 3\t\tloss: 0.0442 (-0.0060)\tacc: 98.55% ( +0.07%)\tmodel:28656\n",
      "\twrkr 4\t\tloss: 0.0464 (+0.0020)\tacc: 98.55% ( +0.07%)\tmodel:36208\n",
      "\twrkr 5\t\tloss: 0.0454 (-0.0017)\tacc: 98.50% ( -0.06%)\tmodel:26992\n",
      "\twrkr 6\t\tloss: 0.0469 (-0.0016)\tacc: 98.49% ( +0.07%)\tmodel:51088\n",
      "\twrkr 7\t\tloss: 0.0446 (-0.0024)\tacc: 98.51% ( +0.05%)\tmodel:38384\n",
      "\twrkr 8\t\tloss: 0.0459 (-0.0026)\tacc: 98.39% ( -0.04%)\tmodel:68880\n",
      "\twrkr 9\t\tloss: 0.0464 (-0.0009)\tacc: 98.47% ( +0.01%)\tmodel:37680\n",
      "\tcombined\tloss: 0.0413\tacc: 98.55%\n",
      "\n",
      "Round 45\n",
      "\twrkr 0\t\tloss: 0.0454 (-0.0003)\tacc: 98.53% ( -0.01%)\tmodel:01968\n",
      "\twrkr 1\t\tloss: 0.0455 (-0.0003)\tacc: 98.57% ( +0.13%)\tmodel:26352\n",
      "\twrkr 2\t\tloss: 0.0533 (+0.0064)\tacc: 98.30% ( -0.23%)\tmodel:31440\n",
      "\twrkr 3\t\tloss: 0.0477 (+0.0035)\tacc: 98.47% ( -0.08%)\tmodel:49648\n",
      "\twrkr 4\t\tloss: 0.0473 (+0.0008)\tacc: 98.37% ( -0.18%)\tmodel:99920\n",
      "\twrkr 5\t\tloss: 0.0450 (-0.0003)\tacc: 98.56% ( +0.06%)\tmodel:37168\n",
      "\twrkr 6\t\tloss: 0.0435 (-0.0034)\tacc: 98.47% ( -0.02%)\tmodel:48816\n",
      "\twrkr 7\t\tloss: 0.0428 (-0.0018)\tacc: 98.53% ( +0.02%)\tmodel:51088\n",
      "\twrkr 8\t\tloss: 0.0468 (+0.0009)\tacc: 98.42% ( +0.03%)\tmodel:61712\n",
      "\twrkr 9\t\tloss: 0.0469 (+0.0005)\tacc: 98.56% ( +0.09%)\tmodel:44304\n",
      "\tcombined\tloss: 0.0414\tacc: 98.60%\n",
      "\n",
      "Round 46\n",
      "\twrkr 0\t\tloss: 0.0448 (-0.0006)\tacc: 98.48% ( -0.05%)\tmodel:01456\n",
      "\twrkr 1\t\tloss: 0.0445 (-0.0010)\tacc: 98.49% ( -0.08%)\tmodel:47664\n",
      "\twrkr 2\t\tloss: 0.0458 (-0.0075)\tacc: 98.47% ( +0.17%)\tmodel:26352\n",
      "\twrkr 3\t\tloss: 0.0419 (-0.0057)\tacc: 98.62% ( +0.15%)\tmodel:31440\n",
      "\twrkr 4\t\tloss: 0.0462 (-0.0010)\tacc: 98.48% ( +0.11%)\tmodel:49648\n",
      "\twrkr 5\t\tloss: 0.0479 (+0.0029)\tacc: 98.40% ( -0.16%)\tmodel:36400\n",
      "\twrkr 6\t\tloss: 0.0432 (-0.0003)\tacc: 98.52% ( +0.05%)\tmodel:37168\n"
     ]
    },
    {
     "name": "stdout",
     "output_type": "stream",
     "text": [
      "\twrkr 7\t\tloss: 0.0508 (+0.0080)\tacc: 98.21% ( -0.32%)\tmodel:48816\n",
      "\twrkr 8\t\tloss: 0.0450 (-0.0018)\tacc: 98.56% ( +0.14%)\tmodel:51088\n",
      "\twrkr 9\t\tloss: 0.0458 (-0.0012)\tacc: 98.49% ( -0.07%)\tmodel:38064\n",
      "\tcombined\tloss: 0.0407\tacc: 98.62%\n",
      "\n",
      "Round 47\n",
      "\twrkr 0\t\tloss: 0.0481 (+0.0032)\tacc: 98.46% ( -0.02%)\tmodel:29744\n",
      "\twrkr 1\t\tloss: 0.0446 (+0.0002)\tacc: 98.58% ( +0.09%)\tmodel:49840\n",
      "\twrkr 2\t\tloss: 0.0418 (-0.0040)\tacc: 98.65% ( +0.18%)\tmodel:47664\n",
      "\twrkr 3\t\tloss: 0.0432 (+0.0013)\tacc: 98.53% ( -0.09%)\tmodel:26352\n",
      "\twrkr 4\t\tloss: 0.0426 (-0.0037)\tacc: 98.61% ( +0.13%)\tmodel:31440\n",
      "\twrkr 5\t\tloss: 0.0473 (-0.0006)\tacc: 98.41% ( +0.01%)\tmodel:49648\n",
      "\twrkr 6\t\tloss: 0.0446 (+0.0015)\tacc: 98.52% ( +0.00%)\tmodel:47824\n",
      "\twrkr 7\t\tloss: 0.0442 (-0.0066)\tacc: 98.46% ( +0.25%)\tmodel:37168\n",
      "\twrkr 8\t\tloss: 0.0451 (+0.0000)\tacc: 98.56% ( +0.00%)\tmodel:48816\n",
      "\twrkr 9\t\tloss: 0.0430 (-0.0028)\tacc: 98.60% ( +0.11%)\tmodel:51088\n",
      "\tcombined\tloss: 0.0402\tacc: 98.63%\n",
      "\n",
      "Round 48\n",
      "\twrkr 0\t\tloss: 0.0446 (-0.0035)\tacc: 98.47% ( +0.01%)\tmodel:01136\n",
      "\twrkr 1\t\tloss: 0.0452 (+0.0005)\tacc: 98.50% ( -0.08%)\tmodel:68112\n",
      "\twrkr 2\t\tloss: 0.0447 (+0.0030)\tacc: 98.54% ( -0.11%)\tmodel:49840\n",
      "\twrkr 3\t\tloss: 0.0451 (+0.0019)\tacc: 98.53% ( +0.00%)\tmodel:47664\n",
      "\twrkr 4\t\tloss: 0.0428 (+0.0003)\tacc: 98.58% ( -0.03%)\tmodel:26352\n",
      "\twrkr 5\t\tloss: 0.0471 (-0.0002)\tacc: 98.48% ( +0.07%)\tmodel:31440\n",
      "\twrkr 6\t\tloss: 0.0413 (-0.0033)\tacc: 98.62% ( +0.10%)\tmodel:49648\n",
      "\twrkr 7\t\tloss: 0.0463 (+0.0021)\tacc: 98.50% ( +0.04%)\tmodel:47824\n",
      "\twrkr 8\t\tloss: 0.0467 (+0.0016)\tacc: 98.44% ( -0.12%)\tmodel:37168\n",
      "\twrkr 9\t\tloss: 0.0455 (+0.0025)\tacc: 98.44% ( -0.16%)\tmodel:48816\n",
      "\tcombined\tloss: 0.0401\tacc: 98.65%\n",
      "\n",
      "Round 49\n",
      "\twrkr 0\t\tloss: 0.0460 (+0.0014)\tacc: 98.48% ( +0.01%)\tmodel:00048\n",
      "\twrkr 1\t\tloss: 0.0421 (-0.0030)\tacc: 98.57% ( +0.07%)\tmodel:06608\n",
      "\twrkr 2\t\tloss: 0.0424 (-0.0024)\tacc: 98.50% ( -0.04%)\tmodel:68112\n",
      "\twrkr 3\t\tloss: 0.0425 (-0.0026)\tacc: 98.66% ( +0.13%)\tmodel:49840\n",
      "\twrkr 4\t\tloss: 0.0436 (+0.0008)\tacc: 98.57% ( -0.01%)\tmodel:47664\n",
      "\twrkr 5\t\tloss: 0.0444 (-0.0027)\tacc: 98.51% ( +0.03%)\tmodel:26352\n",
      "\twrkr 6\t\tloss: 0.0427 (+0.0014)\tacc: 98.53% ( -0.09%)\tmodel:31440\n",
      "\twrkr 7\t\tloss: 0.0607 (+0.0144)\tacc: 97.93% ( -0.57%)\tmodel:49648\n",
      "\twrkr 8\t\tloss: 0.0463 (-0.0003)\tacc: 98.51% ( +0.07%)\tmodel:13264\n",
      "\twrkr 9\t\tloss: 0.0428 (-0.0027)\tacc: 98.52% ( +0.08%)\tmodel:37168\n",
      "\tcombined\tloss: 0.0397\tacc: 98.70%\n",
      "\n",
      "\n",
      "Federated Unbiased manager trained 50 rounds. (Test accuracy 98.70% and loss 0.0397.)\n"
     ]
    }
   ],
   "source": [
    "fed_equal_mgr = FederatedManager('Federated Unbiased', fed_equal_dls, test_dset, Net, verbose=True)\n",
    "\n",
    "run_mgr(fed_equal_mgr, default_n_rounds, default_target_acc)"
   ]
  },
  {
   "cell_type": "code",
   "execution_count": 18,
   "metadata": {},
   "outputs": [
    {
     "data": {
      "image/png": "[encoded data removed]",
      "text/plain": [
       "<Figure size 432x288 with 1 Axes>"
      ]
     },
     "metadata": {
      "needs_background": "light"
     },
     "output_type": "display_data"
    },
    {
     "data": {
      "image/png": "[encoded data removed]",
      "text/plain": [
       "<Figure size 432x288 with 1 Axes>"
      ]
     },
     "metadata": {
      "needs_background": "light"
     },
     "output_type": "display_data"
    }
   ],
   "source": [
    "plot_mgr([nonfed_alldata_mgr, fed_equal_mgr])"
   ]
  },
  {
   "cell_type": "code",
   "execution_count": 95,
   "metadata": {},
   "outputs": [
    {
     "name": "stdout",
     "output_type": "stream",
     "text": [
      "\n"
     ]
    },
    {
     "data": {
      "application/vnd.jupyter.widget-view+json": {
       "model_id": "e01f5ec02efb4919b5964292b174f6d5",
       "version_major": 2,
       "version_minor": 0
      },
      "text/plain": [
       "HBox(children=(FloatProgress(value=0.0, description='Tabulating datasets', max=10.0, style=ProgressStyle(descr…"
      ]
     },
     "metadata": {},
     "output_type": "display_data"
    },
    {
     "name": "stdout",
     "output_type": "stream",
     "text": [
      "\n"
     ]
    },
    {
     "data": {
      "image/png": "[encoded data removed]",
      "text/plain": [
       "<Figure size 432x288 with 1 Axes>"
      ]
     },
     "metadata": {},
     "output_type": "display_data"
    }
   ],
   "source": [
    "foo_dls = make_fed_dloaders(train_dset, p=1.0)\n",
    "plot_digit_histogram(foo_dls)"
   ]
  },
  {
   "cell_type": "code",
   "execution_count": 96,
   "metadata": {},
   "outputs": [
    {
     "name": "stdout",
     "output_type": "stream",
     "text": [
      "Full biased manager training with 10 worker(s) for 50 rounds.\n"
     ]
    },
    {
     "data": {
      "application/vnd.jupyter.widget-view+json": {
       "model_id": "6baeb475e2944be2b56952341c32e132",
       "version_major": 2,
       "version_minor": 0
      },
      "text/plain": [
       "HBox(children=(FloatProgress(value=0.0, description='Rounds', max=50.0, style=ProgressStyle(description_width=…"
      ]
     },
     "metadata": {},
     "output_type": "display_data"
    },
    {
     "name": "stdout",
     "output_type": "stream",
     "text": [
      "Round 0\n",
      "\twrkr 0\t\tloss: 5.1430 (+0.0000)\tacc:  9.80% ( +0.00%)\tmodel:04880\n",
      "\twrkr 1\t\tloss: 5.2621 (+0.0000)\tacc: 11.35% ( +0.00%)\tmodel:50128\n",
      "\twrkr 2\t\tloss: 6.6216 (+0.0000)\tacc: 10.32% ( +0.00%)\tmodel:07504\n",
      "\twrkr 3\t\tloss: 6.3678 (+0.0000)\tacc: 10.10% ( +0.00%)\tmodel:50864\n",
      "\twrkr 4\t\tloss: 6.5068 (+0.0000)\tacc:  9.82% ( +0.00%)\tmodel:49648\n",
      "\twrkr 5\t\tloss: 7.6762 (+0.0000)\tacc:  8.92% ( +0.00%)\tmodel:43472\n",
      "\twrkr 6\t\tloss: 6.2159 (+0.0000)\tacc:  9.58% ( +0.00%)\tmodel:41296\n",
      "\twrkr 7\t\tloss: 6.3683 (+0.0000)\tacc: 10.28% ( +0.00%)\tmodel:43920\n",
      "\twrkr 8\t\tloss: 6.5078 (+0.0000)\tacc:  9.74% ( +0.00%)\tmodel:39280\n",
      "\twrkr 9\t\tloss: 6.6044 (+0.0000)\tacc: 10.09% ( +0.00%)\tmodel:37680\n",
      "\tcombined\tloss: 2.2243\tacc: 30.38%\n",
      "\n",
      "Round 1\n",
      "\twrkr 0\t\tloss: 5.9936 (+0.8507)\tacc:  9.80% ( +0.00%)\tmodel:70800\n",
      "\twrkr 1\t\tloss: 6.5010 (+1.2389)\tacc: 11.35% ( +0.00%)\tmodel:04880\n",
      "\twrkr 2\t\tloss: 7.2715 (+0.6499)\tacc: 10.32% ( +0.00%)\tmodel:50128\n",
      "\twrkr 3\t\tloss: 6.9556 (+0.5877)\tacc: 10.10% ( +0.00%)\tmodel:48944\n",
      "\twrkr 4\t\tloss: 7.2182 (+0.7113)\tacc:  9.82% ( +0.00%)\tmodel:50864\n",
      "\twrkr 5\t\tloss: 8.2408 (+0.5646)\tacc:  8.92% ( +0.00%)\tmodel:42960\n",
      "\twrkr 6\t\tloss: 7.0136 (+0.7977)\tacc:  9.58% ( +0.00%)\tmodel:43472\n",
      "\twrkr 7\t\tloss: 7.2005 (+0.8323)\tacc: 10.28% ( +0.00%)\tmodel:41296\n",
      "\twrkr 8\t\tloss: 6.7988 (+0.2910)\tacc:  9.74% ( +0.00%)\tmodel:41264\n",
      "\twrkr 9\t\tloss: 7.0766 (+0.4722)\tacc: 10.09% ( +0.00%)\tmodel:39280\n",
      "\tcombined\tloss: 2.1391\tacc: 36.68%\n",
      "\n",
      "Round 2\n",
      "\twrkr 0\t\tloss: 6.6474 (+0.6538)\tacc:  9.80% ( +0.00%)\tmodel:08944\n",
      "\twrkr 1\t\tloss: 7.3852 (+0.8842)\tacc: 11.35% ( +0.00%)\tmodel:70800\n",
      "\twrkr 2\t\tloss: 7.7074 (+0.4359)\tacc: 10.32% ( +0.00%)\tmodel:04880\n",
      "\twrkr 3\t\tloss: 7.4379 (+0.4823)\tacc: 10.10% ( +0.00%)\tmodel:50128\n",
      "\twrkr 4\t\tloss: 7.7098 (+0.4917)\tacc:  9.82% ( +0.00%)\tmodel:48944\n",
      "\twrkr 5\t\tloss: 8.6843 (+0.4435)\tacc:  8.92% ( +0.00%)\tmodel:50864\n",
      "\twrkr 6\t\tloss: 7.6190 (+0.6054)\tacc:  9.58% ( +0.00%)\tmodel:49840\n",
      "\twrkr 7\t\tloss: 7.7890 (+0.5885)\tacc: 10.28% ( +0.00%)\tmodel:49648\n",
      "\twrkr 8\t\tloss: 7.0706 (+0.2718)\tacc:  9.74% ( +0.00%)\tmodel:41296\n",
      "\twrkr 9\t\tloss: 7.5032 (+0.4266)\tacc: 10.09% ( +0.00%)\tmodel:41264\n",
      "\tcombined\tloss: 2.0658\tacc: 43.14%\n",
      "\n",
      "Round 3\n",
      "\twrkr 0\t\tloss: 7.0887 (+0.4413)\tacc:  9.80% ( +0.00%)\tmodel:82352\n",
      "\twrkr 1\t\tloss: 7.8943 (+0.5092)\tacc: 11.35% ( +0.00%)\tmodel:68464\n",
      "\twrkr 2\t\tloss: 8.0504 (+0.3431)\tacc: 10.32% ( +0.00%)\tmodel:70800\n",
      "\twrkr 3\t\tloss: 7.7488 (+0.3109)\tacc: 10.10% ( +0.00%)\tmodel:84912\n",
      "\twrkr 4\t\tloss: 8.0481 (+0.3383)\tacc:  9.82% ( +0.00%)\tmodel:82608\n",
      "\twrkr 5\t\tloss: 8.9970 (+0.3127)\tacc:  8.92% ( +0.00%)\tmodel:48944\n",
      "\twrkr 6\t\tloss: 7.9752 (+0.3562)\tacc:  9.58% ( +0.00%)\tmodel:50864\n",
      "\twrkr 7\t\tloss: 8.2034 (+0.4143)\tacc: 10.28% ( +0.00%)\tmodel:49840\n",
      "\twrkr 8\t\tloss: 7.2971 (+0.2265)\tacc:  9.74% ( +0.00%)\tmodel:49648\n",
      "\twrkr 9\t\tloss: 7.8293 (+0.3262)\tacc: 10.09% ( +0.00%)\tmodel:41296\n",
      "\tcombined\tloss: 2.0033\tacc: 50.23%\n",
      "\n",
      "Round 4\n",
      "\twrkr 0\t\tloss: 7.3731 (+0.2844)\tacc:  9.80% ( +0.00%)\tmodel:07344\n",
      "\twrkr 1\t\tloss: 8.2037 (+0.3094)\tacc: 11.35% ( +0.00%)\tmodel:82352\n",
      "\twrkr 2\t\tloss: 8.3200 (+0.2695)\tacc: 10.32% ( +0.00%)\tmodel:07152\n",
      "\twrkr 3\t\tloss: 7.9611 (+0.2123)\tacc: 10.10% ( +0.00%)\tmodel:70800\n",
      "\twrkr 4\t\tloss: 8.3326 (+0.2844)\tacc:  9.82% ( +0.00%)\tmodel:84912\n",
      "\twrkr 5\t\tloss: 9.2486 (+0.2516)\tacc:  8.92% ( +0.00%)\tmodel:82608\n",
      "\twrkr 6\t\tloss: 8.2465 (+0.2714)\tacc:  9.58% ( +0.00%)\tmodel:48944\n",
      "\twrkr 7\t\tloss: 8.4620 (+0.2587)\tacc: 10.28% ( +0.00%)\tmodel:50864\n",
      "\twrkr 8\t\tloss: 7.5395 (+0.2424)\tacc:  9.74% ( +0.00%)\tmodel:49840\n",
      "\twrkr 9\t\tloss: 8.0037 (+0.1743)\tacc: 10.09% ( +0.00%)\tmodel:49648\n",
      "\tcombined\tloss: 1.9501\tacc: 55.37%\n",
      "\n",
      "Round 5\n",
      "\twrkr 0\t\tloss: 7.6308 (+0.2577)\tacc:  9.80% ( +0.00%)\tmodel:08432\n",
      "\twrkr 1\t\tloss: 8.3423 (+0.1386)\tacc: 11.35% ( +0.00%)\tmodel:71792\n",
      "\twrkr 2\t\tloss: 8.4293 (+0.1093)\tacc: 10.32% ( +0.00%)\tmodel:68784\n",
      "\twrkr 3\t\tloss: 8.1742 (+0.2130)\tacc: 10.10% ( +0.00%)\tmodel:07152\n",
      "\twrkr 4\t\tloss: 8.5206 (+0.1881)\tacc:  9.82% ( +0.00%)\tmodel:70800\n",
      "\twrkr 5\t\tloss: 9.3910 (+0.1424)\tacc:  8.92% ( +0.00%)\tmodel:44880\n",
      "\twrkr 6\t\tloss: 8.4292 (+0.1826)\tacc:  9.58% ( +0.00%)\tmodel:06160\n",
      "\twrkr 7\t\tloss: 8.6322 (+0.1701)\tacc: 10.28% ( +0.00%)\tmodel:37936\n",
      "\twrkr 8\t\tloss: 7.8251 (+0.2856)\tacc:  9.74% ( +0.00%)\tmodel:07696\n",
      "\twrkr 9\t\tloss: 8.1868 (+0.1832)\tacc: 10.09% ( +0.00%)\tmodel:04560\n",
      "\tcombined\tloss: 1.9020\tacc: 59.13%\n",
      "\n",
      "Round 6\n",
      "\twrkr 0\t\tloss: 7.8770 (+0.2461)\tacc:  9.80% ( +0.00%)\tmodel:85744\n",
      "\twrkr 1\t\tloss: 8.4892 (+0.1468)\tacc: 11.35% ( +0.00%)\tmodel:08432\n",
      "\twrkr 2\t\tloss: 8.5945 (+0.1653)\tacc: 10.32% ( +0.00%)\tmodel:71792\n",
      "\twrkr 3\t\tloss: 8.3048 (+0.1306)\tacc: 10.10% ( +0.00%)\tmodel:68784\n",
      "\twrkr 4\t\tloss: 8.6456 (+0.1250)\tacc:  9.82% ( +0.00%)\tmodel:07152\n",
      "\twrkr 5\t\tloss: 9.5541 (+0.1631)\tacc:  8.92% ( +0.00%)\tmodel:70800\n",
      "\twrkr 6\t\tloss: 8.5453 (+0.1161)\tacc:  9.58% ( +0.00%)\tmodel:44880\n",
      "\twrkr 7\t\tloss: 8.7795 (+0.1473)\tacc: 10.28% ( +0.00%)\tmodel:06160\n",
      "\twrkr 8\t\tloss: 8.0156 (+0.1905)\tacc:  9.74% ( +0.00%)\tmodel:37936\n",
      "\twrkr 9\t\tloss: 8.3204 (+0.1336)\tacc: 10.09% ( +0.00%)\tmodel:07696\n",
      "\tcombined\tloss: 1.8593\tacc: 60.58%\n",
      "\n",
      "Round 7\n",
      "\twrkr 0\t\tloss: 7.9773 (+0.1003)\tacc:  9.80% ( +0.00%)\tmodel:42448\n",
      "\twrkr 1\t\tloss: 8.4916 (+0.0025)\tacc: 11.35% ( +0.00%)\tmodel:85744\n",
      "\twrkr 2\t\tloss: 8.7884 (+0.1939)\tacc: 10.32% ( +0.00%)\tmodel:08432\n",
      "\twrkr 3\t\tloss: 8.4445 (+0.1397)\tacc: 10.10% ( +0.00%)\tmodel:71792\n",
      "\twrkr 4\t\tloss: 8.7917 (+0.1461)\tacc:  9.82% ( +0.00%)\tmodel:68784\n",
      "\twrkr 5\t\tloss: 9.6634 (+0.1093)\tacc:  8.92% ( +0.00%)\tmodel:07152\n",
      "\twrkr 6\t\tloss: 8.7313 (+0.1861)\tacc:  9.58% ( +0.00%)\tmodel:83248\n",
      "\twrkr 7\t\tloss: 8.9687 (+0.1892)\tacc: 10.28% ( +0.00%)\tmodel:44880\n",
      "\twrkr 8\t\tloss: 8.1311 (+0.1154)\tacc:  9.74% ( +0.00%)\tmodel:84400\n",
      "\twrkr 9\t\tloss: 8.5205 (+0.2001)\tacc: 10.09% ( +0.00%)\tmodel:37936\n",
      "\tcombined\tloss: 1.8194\tacc: 62.97%\n",
      "\n",
      "Round 8\n",
      "\twrkr 0\t\tloss: 7.9841 (+0.0068)\tacc:  9.80% ( +0.00%)\tmodel:70416\n",
      "\twrkr 1\t\tloss: 8.4726 (-0.0190)\tacc: 11.35% ( +0.00%)\tmodel:42448\n",
      "\twrkr 2\t\tloss: 8.7813 (-0.0071)\tacc: 10.32% ( +0.00%)\tmodel:85744\n",
      "\twrkr 3\t\tloss: 8.6989 (+0.2545)\tacc: 10.10% ( +0.00%)\tmodel:08432\n",
      "\twrkr 4\t\tloss: 8.9169 (+0.1252)\tacc:  9.82% ( +0.00%)\tmodel:71792\n",
      "\twrkr 5\t\tloss: 9.7641 (+0.1007)\tacc:  8.92% ( +0.00%)\tmodel:68784\n",
      "\twrkr 6\t\tloss: 8.8908 (+0.1594)\tacc:  9.58% ( +0.00%)\tmodel:07152\n",
      "\twrkr 7\t\tloss: 9.0386 (+0.0699)\tacc: 10.28% ( +0.00%)\tmodel:70864\n",
      "\twrkr 8\t\tloss: 8.6282 (+0.4971)\tacc:  9.74% ( +0.00%)\tmodel:44880\n",
      "\twrkr 9\t\tloss: 8.6648 (+0.1443)\tacc: 10.09% ( +0.00%)\tmodel:84400\n",
      "\tcombined\tloss: 1.7800\tacc: 65.42%\n",
      "\n",
      "Round 9\n",
      "\twrkr 0\t\tloss: 8.0098 (+0.0257)\tacc:  9.80% ( +0.00%)\tmodel:41808\n",
      "\twrkr 1\t\tloss: 8.5872 (+0.1146)\tacc: 11.35% ( +0.00%)\tmodel:83760\n",
      "\twrkr 2\t\tloss: 9.1077 (+0.3263)\tacc: 10.32% ( +0.00%)\tmodel:42448\n",
      "\twrkr 3\t\tloss: 8.8838 (+0.1849)\tacc: 10.10% ( +0.00%)\tmodel:85744\n",
      "\twrkr 4\t\tloss: 9.0255 (+0.1087)\tacc:  9.82% ( +0.00%)\tmodel:08432\n",
      "\twrkr 5\t\tloss: 9.8665 (+0.1024)\tacc:  8.92% ( +0.00%)\tmodel:71792\n",
      "\twrkr 6\t\tloss: 8.9744 (+0.0836)\tacc:  9.58% ( +0.00%)\tmodel:68784\n",
      "\twrkr 7\t\tloss: 9.0729 (+0.0343)\tacc: 10.28% ( +0.00%)\tmodel:07152\n",
      "\twrkr 8\t\tloss: 9.1512 (+0.5231)\tacc:  9.74% ( +0.00%)\tmodel:70864\n",
      "\twrkr 9\t\tloss: 9.0038 (+0.3390)\tacc: 10.09% ( +0.00%)\tmodel:44880\n",
      "\tcombined\tloss: 1.7439\tacc: 67.15%\n",
      "\n",
      "Round 10\n",
      "\twrkr 0\t\tloss: 8.0470 (+0.0372)\tacc:  9.80% ( +0.00%)\tmodel:49264\n",
      "\twrkr 1\t\tloss: 8.4424 (-0.1448)\tacc: 11.35% ( +0.00%)\tmodel:39472\n",
      "\twrkr 2\t\tloss: 9.1320 (+0.0243)\tacc: 10.32% ( +0.00%)\tmodel:83760\n",
      "\twrkr 3\t\tloss: 9.1726 (+0.2887)\tacc: 10.10% ( +0.00%)\tmodel:42448\n",
      "\twrkr 4\t\tloss: 9.0955 (+0.0699)\tacc:  9.82% ( +0.00%)\tmodel:85744\n",
      "\twrkr 5\t\tloss: 10.0237 (+0.1571)\tacc:  8.92% ( +0.00%)\tmodel:08432\n",
      "\twrkr 6\t\tloss: 9.1214 (+0.1470)\tacc:  9.58% ( +0.00%)\tmodel:71792\n",
      "\twrkr 7\t\tloss: 9.1281 (+0.0552)\tacc: 10.28% ( +0.00%)\tmodel:68784\n",
      "\twrkr 8\t\tloss: 9.3733 (+0.2221)\tacc:  9.74% ( +0.00%)\tmodel:07152\n",
      "\twrkr 9\t\tloss: 9.0020 (-0.0018)\tacc: 10.09% ( +0.00%)\tmodel:07504\n",
      "\tcombined\tloss: 1.7091\tacc: 68.20%\n",
      "\n",
      "Round 11\n",
      "\twrkr 0\t\tloss: 8.2272 (+0.1802)\tacc:  9.80% ( +0.00%)\tmodel:70544\n",
      "\twrkr 1\t\tloss: 8.4331 (-0.0093)\tacc: 11.35% ( +0.00%)\tmodel:49264\n",
      "\twrkr 2\t\tloss: 9.1606 (+0.0286)\tacc: 10.32% ( +0.00%)\tmodel:39472\n",
      "\twrkr 3\t\tloss: 9.1318 (-0.0408)\tacc: 10.10% ( +0.00%)\tmodel:83760\n",
      "\twrkr 4\t\tloss: 9.2154 (+0.1199)\tacc:  9.82% ( +0.00%)\tmodel:42448\n",
      "\twrkr 5\t\tloss: 10.2670 (+0.2434)\tacc:  8.92% ( +0.00%)\tmodel:49648\n",
      "\twrkr 6\t\tloss: 9.2437 (+0.1223)\tacc:  9.58% ( +0.00%)\tmodel:49840\n"
     ]
    },
    {
     "name": "stdout",
     "output_type": "stream",
     "text": [
      "\twrkr 7\t\tloss: 9.1785 (+0.0504)\tacc: 10.28% ( +0.00%)\tmodel:71792\n",
      "\twrkr 8\t\tloss: 9.7005 (+0.3273)\tacc:  9.74% ( +0.00%)\tmodel:68784\n",
      "\twrkr 9\t\tloss: 9.1475 (+0.1455)\tacc: 10.09% ( +0.00%)\tmodel:85936\n",
      "\tcombined\tloss: 1.6760\tacc: 69.06%\n",
      "\n",
      "Round 12\n",
      "\twrkr 0\t\tloss: 7.9001 (-0.3270)\tacc:  9.80% ( +0.00%)\tmodel:07152\n",
      "\twrkr 1\t\tloss: 8.3143 (-0.1189)\tacc: 11.35% ( +0.00%)\tmodel:51184\n",
      "\twrkr 2\t\tloss: 9.3512 (+0.1905)\tacc: 10.32% ( +0.00%)\tmodel:49264\n",
      "\twrkr 3\t\tloss: 9.3368 (+0.2050)\tacc: 10.10% ( +0.00%)\tmodel:06928\n",
      "\twrkr 4\t\tloss: 9.3547 (+0.1394)\tacc:  9.82% ( +0.00%)\tmodel:83760\n",
      "\twrkr 5\t\tloss: 10.1815 (-0.0855)\tacc:  8.92% ( +0.00%)\tmodel:42448\n",
      "\twrkr 6\t\tloss: 9.5113 (+0.2677)\tacc:  9.58% ( +0.00%)\tmodel:49648\n",
      "\twrkr 7\t\tloss: 9.2822 (+0.1037)\tacc: 10.28% ( +0.00%)\tmodel:49840\n",
      "\twrkr 8\t\tloss: 10.1281 (+0.4276)\tacc:  9.74% ( +0.00%)\tmodel:71792\n",
      "\twrkr 9\t\tloss: 9.4509 (+0.3034)\tacc: 10.09% ( +0.00%)\tmodel:68784\n",
      "\tcombined\tloss: 1.6428\tacc: 70.54%\n",
      "\n",
      "Round 13\n",
      "\twrkr 0\t\tloss: 8.1670 (+0.2668)\tacc:  9.80% ( +0.00%)\tmodel:69328\n",
      "\twrkr 1\t\tloss: 8.2991 (-0.0152)\tacc: 11.35% ( +0.00%)\tmodel:69584\n",
      "\twrkr 2\t\tloss: 9.4270 (+0.0758)\tacc: 10.32% ( +0.00%)\tmodel:51184\n",
      "\twrkr 3\t\tloss: 9.4552 (+0.1185)\tacc: 10.10% ( +0.00%)\tmodel:49264\n",
      "\twrkr 4\t\tloss: 9.4006 (+0.0458)\tacc:  9.82% ( +0.00%)\tmodel:06928\n",
      "\twrkr 5\t\tloss: 10.3689 (+0.1874)\tacc:  8.92% ( +0.00%)\tmodel:71248\n",
      "\twrkr 6\t\tloss: 9.3833 (-0.1280)\tacc:  9.58% ( +0.00%)\tmodel:42448\n",
      "\twrkr 7\t\tloss: 9.1932 (-0.0889)\tacc: 10.28% ( +0.00%)\tmodel:49648\n",
      "\twrkr 8\t\tloss: 9.8726 (-0.2555)\tacc:  9.74% ( +0.00%)\tmodel:49840\n",
      "\twrkr 9\t\tloss: 9.6696 (+0.2187)\tacc: 10.09% ( +0.00%)\tmodel:71792\n",
      "\tcombined\tloss: 1.6117\tacc: 70.38%\n",
      "\n",
      "Round 14\n",
      "\twrkr 0\t\tloss: 8.1645 (-0.0025)\tacc:  9.80% ( +0.00%)\tmodel:68464\n",
      "\twrkr 1\t\tloss: 8.1946 (-0.1044)\tacc: 11.35% ( +0.00%)\tmodel:52144\n",
      "\twrkr 2\t\tloss: 9.6856 (+0.2586)\tacc: 10.32% ( +0.00%)\tmodel:69584\n",
      "\twrkr 3\t\tloss: 9.3761 (-0.0791)\tacc: 10.10% ( +0.00%)\tmodel:51184\n",
      "\twrkr 4\t\tloss: 9.7501 (+0.3495)\tacc:  9.82% ( +0.00%)\tmodel:49264\n",
      "\twrkr 5\t\tloss: 10.4948 (+0.1259)\tacc:  8.92% ( +0.00%)\tmodel:06928\n",
      "\twrkr 6\t\tloss: 9.4699 (+0.0866)\tacc:  9.58% ( +0.00%)\tmodel:71248\n",
      "\twrkr 7\t\tloss: 9.2738 (+0.0806)\tacc: 10.28% ( +0.00%)\tmodel:42448\n",
      "\twrkr 8\t\tloss: 10.6499 (+0.7773)\tacc:  9.74% ( +0.00%)\tmodel:49648\n",
      "\twrkr 9\t\tloss: 9.6482 (-0.0214)\tacc: 10.09% ( +0.00%)\tmodel:49840\n",
      "\tcombined\tloss: 1.5806\tacc: 71.59%\n",
      "\n",
      "Round 15\n",
      "\twrkr 0\t\tloss: 8.0047 (-0.1597)\tacc:  9.80% ( +0.00%)\tmodel:39600\n",
      "\twrkr 1\t\tloss: 8.1832 (-0.0114)\tacc: 11.35% ( +0.00%)\tmodel:68464\n",
      "\twrkr 2\t\tloss: 9.4765 (-0.2091)\tacc: 10.32% ( +0.00%)\tmodel:52144\n",
      "\twrkr 3\t\tloss: 9.7084 (+0.3322)\tacc: 10.10% ( +0.00%)\tmodel:69584\n",
      "\twrkr 4\t\tloss: 9.6378 (-0.1123)\tacc:  9.82% ( +0.00%)\tmodel:51184\n",
      "\twrkr 5\t\tloss: 10.5602 (+0.0654)\tacc:  8.92% ( +0.00%)\tmodel:49264\n",
      "\twrkr 6\t\tloss: 9.6671 (+0.1972)\tacc:  9.58% ( +0.00%)\tmodel:06928\n",
      "\twrkr 7\t\tloss: 9.3212 (+0.0474)\tacc: 10.28% ( +0.00%)\tmodel:71248\n",
      "\twrkr 8\t\tloss: 11.1170 (+0.4671)\tacc:  9.74% ( +0.00%)\tmodel:42448\n",
      "\twrkr 9\t\tloss: 9.8246 (+0.1765)\tacc: 10.09% ( +0.00%)\tmodel:49648\n",
      "\tcombined\tloss: 1.5506\tacc: 72.01%\n",
      "\n",
      "Round 16\n",
      "\twrkr 0\t\tloss: 7.6283 (-0.3764)\tacc:  9.80% ( +0.00%)\tmodel:44176\n",
      "\twrkr 1\t\tloss: 8.1008 (-0.0825)\tacc: 11.35% ( +0.00%)\tmodel:39600\n",
      "\twrkr 2\t\tloss: 9.4634 (-0.0131)\tacc: 10.32% ( +0.00%)\tmodel:68464\n",
      "\twrkr 3\t\tloss: 9.7244 (+0.0161)\tacc: 10.10% ( +0.00%)\tmodel:52144\n",
      "\twrkr 4\t\tloss: 10.3243 (+0.6865)\tacc:  9.82% ( +0.00%)\tmodel:69584\n",
      "\twrkr 5\t\tloss: 10.3976 (-0.1626)\tacc:  8.92% ( +0.00%)\tmodel:51184\n",
      "\twrkr 6\t\tloss: 9.7166 (+0.0495)\tacc:  9.58% ( +0.00%)\tmodel:49264\n",
      "\twrkr 7\t\tloss: 9.2796 (-0.0416)\tacc: 10.28% ( +0.00%)\tmodel:06928\n",
      "\twrkr 8\t\tloss: 11.0197 (-0.0973)\tacc:  9.74% ( +0.00%)\tmodel:71248\n",
      "\twrkr 9\t\tloss: 9.9526 (+0.1279)\tacc: 10.09% ( +0.00%)\tmodel:42448\n",
      "\tcombined\tloss: 1.5212\tacc: 71.77%\n",
      "\n",
      "Round 17\n",
      "\twrkr 0\t\tloss: 8.2433 (+0.6150)\tacc:  9.80% ( +0.00%)\tmodel:70672\n",
      "\twrkr 1\t\tloss: 8.0082 (-0.0925)\tacc: 11.35% ( +0.00%)\tmodel:49840\n",
      "\twrkr 2\t\tloss: 10.0211 (+0.5577)\tacc: 10.32% ( +0.00%)\tmodel:39600\n",
      "\twrkr 3\t\tloss: 9.8124 (+0.0880)\tacc: 10.10% ( +0.00%)\tmodel:68464\n",
      "\twrkr 4\t\tloss: 9.8046 (-0.5198)\tacc:  9.82% ( +0.00%)\tmodel:52144\n",
      "\twrkr 5\t\tloss: 10.8850 (+0.4874)\tacc:  8.92% ( +0.00%)\tmodel:69584\n",
      "\twrkr 6\t\tloss: 9.8996 (+0.1830)\tacc:  9.58% ( +0.00%)\tmodel:51184\n",
      "\twrkr 7\t\tloss: 9.1107 (-0.1689)\tacc: 10.28% ( +0.00%)\tmodel:49264\n",
      "\twrkr 8\t\tloss: 10.8535 (-0.1662)\tacc:  9.74% ( +0.00%)\tmodel:39472\n",
      "\twrkr 9\t\tloss: 10.4939 (+0.5414)\tacc: 10.09% ( +0.00%)\tmodel:71248\n",
      "\tcombined\tloss: 1.4929\tacc: 73.67%\n",
      "\n",
      "Round 18\n",
      "\twrkr 0\t\tloss: 8.1304 (-0.1129)\tacc:  9.80% ( +0.00%)\tmodel:41808\n",
      "\twrkr 1\t\tloss: 7.8215 (-0.1867)\tacc: 11.35% ( +0.00%)\tmodel:70672\n",
      "\twrkr 2\t\tloss: 9.8911 (-0.1300)\tacc: 10.32% ( +0.00%)\tmodel:44176\n",
      "\twrkr 3\t\tloss: 10.0246 (+0.2122)\tacc: 10.10% ( +0.00%)\tmodel:39600\n",
      "\twrkr 4\t\tloss: 9.7843 (-0.0202)\tacc:  9.82% ( +0.00%)\tmodel:68464\n",
      "\twrkr 5\t\tloss: 10.7459 (-0.1391)\tacc:  8.92% ( +0.00%)\tmodel:52144\n",
      "\twrkr 6\t\tloss: 9.8429 (-0.0567)\tacc:  9.58% ( +0.00%)\tmodel:69584\n",
      "\twrkr 7\t\tloss: 9.1927 (+0.0820)\tacc: 10.28% ( +0.00%)\tmodel:51184\n",
      "\twrkr 8\t\tloss: 11.7773 (+0.9238)\tacc:  9.74% ( +0.00%)\tmodel:49264\n",
      "\twrkr 9\t\tloss: 10.1981 (-0.2958)\tacc: 10.09% ( +0.00%)\tmodel:39472\n",
      "\tcombined\tloss: 1.4646\tacc: 73.66%\n",
      "\n",
      "Round 19\n",
      "\twrkr 0\t\tloss: 7.9262 (-0.2042)\tacc:  9.80% ( +0.00%)\tmodel:85296\n",
      "\twrkr 1\t\tloss: 7.8213 (-0.0003)\tacc: 11.35% ( +0.00%)\tmodel:50128\n",
      "\twrkr 2\t\tloss: 9.7960 (-0.0952)\tacc: 10.32% ( +0.00%)\tmodel:49136\n",
      "\twrkr 3\t\tloss: 9.8910 (-0.1336)\tacc: 10.10% ( +0.00%)\tmodel:50576\n",
      "\twrkr 4\t\tloss: 9.6843 (-0.1000)\tacc:  9.82% ( +0.00%)\tmodel:39600\n",
      "\twrkr 5\t\tloss: 10.9767 (+0.2308)\tacc:  8.92% ( +0.00%)\tmodel:68464\n",
      "\twrkr 6\t\tloss: 9.6045 (-0.2383)\tacc:  9.58% ( +0.00%)\tmodel:52144\n",
      "\twrkr 7\t\tloss: 9.2297 (+0.0370)\tacc: 10.28% ( +0.00%)\tmodel:69584\n",
      "\twrkr 8\t\tloss: 12.1262 (+0.3489)\tacc:  9.74% ( +0.00%)\tmodel:51184\n",
      "\twrkr 9\t\tloss: 10.3256 (+0.1275)\tacc: 10.09% ( +0.00%)\tmodel:49264\n",
      "\tcombined\tloss: 1.4383\tacc: 73.82%\n",
      "\n",
      "Round 20\n",
      "\twrkr 0\t\tloss: 7.4714 (-0.4548)\tacc:  9.80% ( +0.00%)\tmodel:44688\n",
      "\twrkr 1\t\tloss: 7.5142 (-0.3070)\tacc: 11.35% ( +0.00%)\tmodel:49040\n",
      "\twrkr 2\t\tloss: 9.6425 (-0.1535)\tacc: 10.32% ( +0.00%)\tmodel:50128\n",
      "\twrkr 3\t\tloss: 9.9443 (+0.0533)\tacc: 10.10% ( +0.00%)\tmodel:49136\n",
      "\twrkr 4\t\tloss: 10.2366 (+0.5522)\tacc:  9.82% ( +0.00%)\tmodel:50576\n",
      "\twrkr 5\t\tloss: 10.9884 (+0.0117)\tacc:  8.92% ( +0.00%)\tmodel:39600\n",
      "\twrkr 6\t\tloss: 9.8135 (+0.2089)\tacc:  9.58% ( +0.00%)\tmodel:68464\n",
      "\twrkr 7\t\tloss: 9.1992 (-0.0305)\tacc: 10.28% ( +0.00%)\tmodel:52144\n",
      "\twrkr 8\t\tloss: 11.4208 (-0.7054)\tacc:  9.74% ( +0.00%)\tmodel:69584\n",
      "\twrkr 9\t\tloss: 10.6207 (+0.2951)\tacc: 10.09% ( +0.00%)\tmodel:51184\n",
      "\tcombined\tloss: 1.4100\tacc: 75.34%\n",
      "\n",
      "Round 21\n",
      "\twrkr 0\t\tloss: 7.4522 (-0.0192)\tacc:  9.80% ( +0.00%)\tmodel:07952\n",
      "\twrkr 1\t\tloss: 7.4963 (-0.0179)\tacc: 11.35% ( +0.00%)\tmodel:73168\n",
      "\twrkr 2\t\tloss: 9.5425 (-0.1000)\tacc: 10.32% ( +0.00%)\tmodel:49040\n",
      "\twrkr 3\t\tloss: 10.1927 (+0.2484)\tacc: 10.10% ( +0.00%)\tmodel:50128\n",
      "\twrkr 4\t\tloss: 9.9660 (-0.2706)\tacc:  9.82% ( +0.00%)\tmodel:69296\n",
      "\twrkr 5\t\tloss: 11.0473 (+0.0588)\tacc:  8.92% ( +0.00%)\tmodel:50576\n",
      "\twrkr 6\t\tloss: 9.7357 (-0.0778)\tacc:  9.58% ( +0.00%)\tmodel:84976\n",
      "\twrkr 7\t\tloss: 9.4552 (+0.2560)\tacc: 10.28% ( +0.00%)\tmodel:68464\n",
      "\twrkr 8\t\tloss: 11.5794 (+0.1586)\tacc:  9.74% ( +0.00%)\tmodel:52144\n",
      "\twrkr 9\t\tloss: 10.3617 (-0.2590)\tacc: 10.09% ( +0.00%)\tmodel:84464\n",
      "\tcombined\tloss: 1.3846\tacc: 74.45%\n",
      "\n",
      "Round 22\n",
      "\twrkr 0\t\tloss: 7.4702 (+0.0180)\tacc:  9.80% ( +0.00%)\tmodel:08816\n",
      "\twrkr 1\t\tloss: 7.3595 (-0.1368)\tacc: 11.35% ( +0.00%)\tmodel:43152\n",
      "\twrkr 2\t\tloss: 10.1899 (+0.6475)\tacc: 10.32% ( +0.00%)\tmodel:73168\n",
      "\twrkr 3\t\tloss: 10.1589 (-0.0338)\tacc: 10.10% ( +0.00%)\tmodel:49040\n",
      "\twrkr 4\t\tloss: 10.0317 (+0.0657)\tacc:  9.82% ( +0.00%)\tmodel:50128\n",
      "\twrkr 5\t\tloss: 11.5227 (+0.4755)\tacc:  8.92% ( +0.00%)\tmodel:69296\n",
      "\twrkr 6\t\tloss: 10.2229 (+0.4872)\tacc:  9.58% ( +0.00%)\tmodel:50576\n",
      "\twrkr 7\t\tloss: 9.2073 (-0.2479)\tacc: 10.28% ( +0.00%)\tmodel:08752\n",
      "\twrkr 8\t\tloss: 11.5893 (+0.0099)\tacc:  9.74% ( +0.00%)\tmodel:68464\n",
      "\twrkr 9\t\tloss: 10.8853 (+0.5236)\tacc: 10.09% ( +0.00%)\tmodel:52144\n",
      "\tcombined\tloss: 1.3591\tacc: 76.19%\n",
      "\n",
      "Round 23\n",
      "\twrkr 0\t\tloss: 7.7786 (+0.3085)\tacc:  9.80% ( +0.00%)\tmodel:39536\n",
      "\twrkr 1\t\tloss: 7.2376 (-0.1220)\tacc: 11.35% ( +0.00%)\tmodel:43920\n",
      "\twrkr 2\t\tloss: 9.8860 (-0.3040)\tacc: 10.32% ( +0.00%)\tmodel:43152\n"
     ]
    },
    {
     "name": "stdout",
     "output_type": "stream",
     "text": [
      "\twrkr 3\t\tloss: 10.6370 (+0.4780)\tacc: 10.10% ( +0.00%)\tmodel:73168\n",
      "\twrkr 4\t\tloss: 10.3319 (+0.3003)\tacc:  9.82% ( +0.00%)\tmodel:49040\n",
      "\twrkr 5\t\tloss: 11.3957 (-0.1271)\tacc:  8.92% ( +0.00%)\tmodel:50128\n",
      "\twrkr 6\t\tloss: 9.5661 (-0.6568)\tacc:  9.58% ( +0.00%)\tmodel:69296\n",
      "\twrkr 7\t\tloss: 9.0616 (-0.1458)\tacc: 10.28% ( +0.00%)\tmodel:50576\n",
      "\twrkr 8\t\tloss: 12.2326 (+0.6433)\tacc:  9.74% ( +0.00%)\tmodel:82928\n",
      "\twrkr 9\t\tloss: 10.5081 (-0.3771)\tacc: 10.09% ( +0.00%)\tmodel:68464\n",
      "\tcombined\tloss: 1.3342\tacc: 75.89%\n",
      "\n",
      "Round 24\n",
      "\twrkr 0\t\tloss: 7.1027 (-0.6759)\tacc:  9.80% ( +0.00%)\tmodel:08240\n",
      "\twrkr 1\t\tloss: 7.1037 (-0.1338)\tacc: 11.35% ( +0.00%)\tmodel:39536\n",
      "\twrkr 2\t\tloss: 10.2853 (+0.3994)\tacc: 10.32% ( +0.00%)\tmodel:08816\n",
      "\twrkr 3\t\tloss: 10.3016 (-0.3353)\tacc: 10.10% ( +0.00%)\tmodel:43152\n",
      "\twrkr 4\t\tloss: 10.2805 (-0.0514)\tacc:  9.82% ( +0.00%)\tmodel:06832\n",
      "\twrkr 5\t\tloss: 11.2298 (-0.1658)\tacc:  8.92% ( +0.00%)\tmodel:49040\n",
      "\twrkr 6\t\tloss: 9.9159 (+0.3498)\tacc:  9.58% ( +0.00%)\tmodel:50128\n",
      "\twrkr 7\t\tloss: 9.3365 (+0.2750)\tacc: 10.28% ( +0.00%)\tmodel:69296\n",
      "\twrkr 8\t\tloss: 12.2559 (+0.0232)\tacc:  9.74% ( +0.00%)\tmodel:50576\n",
      "\twrkr 9\t\tloss: 11.3345 (+0.8264)\tacc: 10.09% ( +0.00%)\tmodel:82928\n",
      "\tcombined\tloss: 1.3095\tacc: 77.52%\n",
      "\n",
      "Round 25\n",
      "\twrkr 0\t\tloss: 7.0445 (-0.0582)\tacc:  9.80% ( +0.00%)\tmodel:71760\n",
      "\twrkr 1\t\tloss: 7.3091 (+0.2053)\tacc: 11.35% ( +0.00%)\tmodel:70800\n",
      "\twrkr 2\t\tloss: 9.9645 (-0.3208)\tacc: 10.32% ( +0.00%)\tmodel:39536\n",
      "\twrkr 3\t\tloss: 10.9041 (+0.6025)\tacc: 10.10% ( +0.00%)\tmodel:72656\n",
      "\twrkr 4\t\tloss: 10.4313 (+0.1508)\tacc:  9.82% ( +0.00%)\tmodel:43152\n",
      "\twrkr 5\t\tloss: 11.3652 (+0.1353)\tacc:  8.92% ( +0.00%)\tmodel:06832\n",
      "\twrkr 6\t\tloss: 9.7131 (-0.2028)\tacc:  9.58% ( +0.00%)\tmodel:49040\n",
      "\twrkr 7\t\tloss: 9.7331 (+0.3966)\tacc: 10.28% ( +0.00%)\tmodel:50128\n",
      "\twrkr 8\t\tloss: 12.7083 (+0.4525)\tacc:  9.74% ( +0.00%)\tmodel:69296\n",
      "\twrkr 9\t\tloss: 10.8187 (-0.5158)\tacc: 10.09% ( +0.00%)\tmodel:50576\n",
      "\tcombined\tloss: 1.2881\tacc: 75.21%\n",
      "\n",
      "Round 26\n",
      "\twrkr 0\t\tloss: 7.1661 (+0.1216)\tacc:  9.80% ( +0.00%)\tmodel:82928\n",
      "\twrkr 1\t\tloss: 7.0031 (-0.3060)\tacc: 11.36% ( +0.01%)\tmodel:82224\n",
      "\twrkr 2\t\tloss: 10.1563 (+0.1918)\tacc: 10.32% ( +0.00%)\tmodel:84656\n",
      "\twrkr 3\t\tloss: 9.8486 (-1.0555)\tacc: 10.10% ( +0.00%)\tmodel:39536\n",
      "\twrkr 4\t\tloss: 9.9849 (-0.4465)\tacc:  9.82% ( +0.00%)\tmodel:70640\n",
      "\twrkr 5\t\tloss: 11.5165 (+0.1513)\tacc:  8.92% ( +0.00%)\tmodel:43152\n",
      "\twrkr 6\t\tloss: 9.9200 (+0.2069)\tacc:  9.58% ( +0.00%)\tmodel:06832\n",
      "\twrkr 7\t\tloss: 8.9550 (-0.7781)\tacc: 10.28% ( +0.00%)\tmodel:49040\n",
      "\twrkr 8\t\tloss: 12.4907 (-0.2177)\tacc:  9.74% ( +0.00%)\tmodel:50128\n",
      "\twrkr 9\t\tloss: 10.7768 (-0.0420)\tacc: 10.09% ( +0.00%)\tmodel:69296\n",
      "\tcombined\tloss: 1.2642\tacc: 78.37%\n",
      "\n",
      "Round 27\n",
      "\twrkr 0\t\tloss: 7.1648 (-0.0013)\tacc:  9.80% ( +0.00%)\tmodel:70800\n",
      "\twrkr 1\t\tloss: 6.8048 (-0.1983)\tacc: 11.39% ( +0.03%)\tmodel:44496\n",
      "\twrkr 2\t\tloss: 10.1941 (+0.0378)\tacc: 10.32% ( +0.00%)\tmodel:37680\n",
      "\twrkr 3\t\tloss: 10.6885 (+0.8399)\tacc: 10.10% ( +0.00%)\tmodel:70544\n",
      "\twrkr 4\t\tloss: 10.0367 (+0.0518)\tacc:  9.82% ( +0.00%)\tmodel:39536\n",
      "\twrkr 5\t\tloss: 11.3580 (-0.1585)\tacc:  8.92% ( +0.00%)\tmodel:70640\n",
      "\twrkr 6\t\tloss: 9.5801 (-0.3399)\tacc:  9.58% ( +0.00%)\tmodel:43152\n",
      "\twrkr 7\t\tloss: 9.0582 (+0.1032)\tacc: 10.28% ( +0.00%)\tmodel:06832\n",
      "\twrkr 8\t\tloss: 12.2781 (-0.2125)\tacc:  9.74% ( +0.00%)\tmodel:49040\n",
      "\twrkr 9\t\tloss: 10.8612 (+0.0845)\tacc: 10.09% ( +0.00%)\tmodel:50128\n",
      "\tcombined\tloss: 1.2424\tacc: 77.15%\n",
      "\n",
      "Round 28\n",
      "\twrkr 0\t\tloss: 7.0589 (-0.1059)\tacc:  9.80% ( +0.00%)\tmodel:37360\n",
      "\twrkr 1\t\tloss: 6.6590 (-0.1459)\tacc: 11.42% ( +0.03%)\tmodel:50576\n",
      "\twrkr 2\t\tloss: 10.1567 (-0.0374)\tacc: 10.32% ( +0.00%)\tmodel:44496\n",
      "\twrkr 3\t\tloss: 10.2220 (-0.4665)\tacc: 10.10% ( +0.00%)\tmodel:37680\n",
      "\twrkr 4\t\tloss: 10.3314 (+0.2947)\tacc:  9.82% ( +0.00%)\tmodel:85296\n",
      "\twrkr 5\t\tloss: 11.2039 (-0.1541)\tacc:  8.92% ( +0.00%)\tmodel:39536\n",
      "\twrkr 6\t\tloss: 9.6787 (+0.0986)\tacc:  9.58% ( +0.00%)\tmodel:70640\n",
      "\twrkr 7\t\tloss: 9.1445 (+0.0862)\tacc: 10.28% ( +0.00%)\tmodel:43152\n",
      "\twrkr 8\t\tloss: 12.4148 (+0.1367)\tacc:  9.74% ( +0.00%)\tmodel:06832\n",
      "\twrkr 9\t\tloss: 10.7900 (-0.0712)\tacc: 10.09% ( +0.00%)\tmodel:49040\n",
      "\tcombined\tloss: 1.2206\tacc: 77.64%\n",
      "\n",
      "Round 29\n",
      "\twrkr 0\t\tloss: 6.6207 (-0.4382)\tacc:  9.80% ( +0.00%)\tmodel:72400\n",
      "\twrkr 1\t\tloss: 6.4246 (-0.2344)\tacc: 11.62% ( +0.20%)\tmodel:37360\n",
      "\twrkr 2\t\tloss: 9.6887 (-0.4680)\tacc: 10.32% ( +0.00%)\tmodel:50576\n",
      "\twrkr 3\t\tloss: 10.1767 (-0.0453)\tacc: 10.10% ( +0.00%)\tmodel:39792\n",
      "\twrkr 4\t\tloss: 10.3063 (-0.0251)\tacc:  9.82% ( +0.00%)\tmodel:37680\n",
      "\twrkr 5\t\tloss: 11.6335 (+0.4296)\tacc:  8.92% ( +0.00%)\tmodel:70416\n",
      "\twrkr 6\t\tloss: 9.5179 (-0.1609)\tacc:  9.58% ( +0.00%)\tmodel:39536\n",
      "\twrkr 7\t\tloss: 8.7175 (-0.4270)\tacc: 10.28% ( +0.00%)\tmodel:70640\n",
      "\twrkr 8\t\tloss: 12.9417 (+0.5268)\tacc:  9.74% ( +0.00%)\tmodel:43152\n",
      "\twrkr 9\t\tloss: 11.3430 (+0.5530)\tacc: 10.09% ( +0.00%)\tmodel:06832\n",
      "\tcombined\tloss: 1.1989\tacc: 78.88%\n",
      "\n",
      "Round 30\n",
      "\twrkr 0\t\tloss: 6.8423 (+0.2216)\tacc:  9.80% ( +0.00%)\tmodel:82928\n",
      "\twrkr 1\t\tloss: 6.2456 (-0.1790)\tacc: 11.85% ( +0.23%)\tmodel:48240\n",
      "\twrkr 2\t\tloss: 10.1479 (+0.4592)\tacc: 10.32% ( +0.00%)\tmodel:70608\n",
      "\twrkr 3\t\tloss: 10.7553 (+0.5786)\tacc: 10.10% ( +0.00%)\tmodel:50576\n",
      "\twrkr 4\t\tloss: 10.5969 (+0.2906)\tacc:  9.82% ( +0.00%)\tmodel:83824\n",
      "\twrkr 5\t\tloss: 11.7600 (+0.1265)\tacc:  8.92% ( +0.00%)\tmodel:84208\n",
      "\twrkr 6\t\tloss: 9.4811 (-0.0368)\tacc:  9.58% ( +0.00%)\tmodel:70416\n",
      "\twrkr 7\t\tloss: 8.8168 (+0.0993)\tacc: 10.28% ( +0.00%)\tmodel:39536\n",
      "\twrkr 8\t\tloss: 13.0245 (+0.0829)\tacc:  9.74% ( +0.00%)\tmodel:70640\n",
      "\twrkr 9\t\tloss: 11.1660 (-0.1770)\tacc: 10.09% ( +0.00%)\tmodel:82992\n",
      "\tcombined\tloss: 1.1773\tacc: 78.61%\n",
      "\n",
      "Round 31\n",
      "\twrkr 0\t\tloss: 6.4670 (-0.3753)\tacc:  9.80% ( +0.00%)\tmodel:42064\n",
      "\twrkr 1\t\tloss: 6.2465 (+0.0010)\tacc: 11.94% ( +0.09%)\tmodel:73168\n",
      "\twrkr 2\t\tloss: 9.5973 (-0.5506)\tacc: 10.32% ( +0.00%)\tmodel:48240\n",
      "\twrkr 3\t\tloss: 10.4457 (-0.3097)\tacc: 10.10% ( +0.00%)\tmodel:70608\n",
      "\twrkr 4\t\tloss: 9.8341 (-0.7628)\tacc:  9.82% ( +0.00%)\tmodel:50576\n",
      "\twrkr 5\t\tloss: 11.9670 (+0.2070)\tacc:  8.92% ( +0.00%)\tmodel:37360\n",
      "\twrkr 6\t\tloss: 9.4646 (-0.0165)\tacc:  9.58% ( +0.00%)\tmodel:41680\n",
      "\twrkr 7\t\tloss: 9.0767 (+0.2599)\tacc: 10.28% ( +0.00%)\tmodel:70416\n",
      "\twrkr 8\t\tloss: 12.7631 (-0.2615)\tacc:  9.74% ( +0.00%)\tmodel:39536\n",
      "\twrkr 9\t\tloss: 11.4730 (+0.3070)\tacc: 10.09% ( +0.00%)\tmodel:70640\n",
      "\tcombined\tloss: 1.1580\tacc: 78.85%\n",
      "\n",
      "Round 32\n",
      "\twrkr 0\t\tloss: 6.8034 (+0.3364)\tacc:  9.80% ( +0.00%)\tmodel:83568\n",
      "\twrkr 1\t\tloss: 6.2748 (+0.0283)\tacc: 11.93% ( -0.01%)\tmodel:05648\n",
      "\twrkr 2\t\tloss: 10.1693 (+0.5719)\tacc: 10.32% ( +0.00%)\tmodel:73168\n",
      "\twrkr 3\t\tloss: 10.0555 (-0.3902)\tacc: 10.10% ( +0.00%)\tmodel:06672\n",
      "\twrkr 4\t\tloss: 11.0170 (+1.1829)\tacc:  9.82% ( +0.00%)\tmodel:70608\n",
      "\twrkr 5\t\tloss: 11.9980 (+0.0309)\tacc:  8.92% ( +0.00%)\tmodel:50576\n",
      "\twrkr 6\t\tloss: 9.4798 (+0.0152)\tacc:  9.58% ( +0.00%)\tmodel:37360\n",
      "\twrkr 7\t\tloss: 8.6149 (-0.4618)\tacc: 10.28% ( +0.00%)\tmodel:41680\n",
      "\twrkr 8\t\tloss: 13.2172 (+0.4541)\tacc:  9.74% ( +0.00%)\tmodel:70416\n",
      "\twrkr 9\t\tloss: 11.2488 (-0.2242)\tacc: 10.09% ( +0.00%)\tmodel:39536\n",
      "\tcombined\tloss: 1.1396\tacc: 78.69%\n",
      "\n",
      "Round 33\n",
      "\twrkr 0\t\tloss: 6.4387 (-0.3647)\tacc:  9.80% ( +0.00%)\tmodel:49648\n",
      "\twrkr 1\t\tloss: 6.0154 (-0.2594)\tacc: 12.45% ( +0.52%)\tmodel:71440\n",
      "\twrkr 2\t\tloss: 9.8014 (-0.3679)\tacc: 10.32% ( +0.00%)\tmodel:05648\n",
      "\twrkr 3\t\tloss: 11.0421 (+0.9866)\tacc: 10.10% ( +0.00%)\tmodel:73168\n",
      "\twrkr 4\t\tloss: 10.2317 (-0.7853)\tacc:  9.82% ( +0.00%)\tmodel:06672\n",
      "\twrkr 5\t\tloss: 11.6585 (-0.3395)\tacc:  8.92% ( +0.00%)\tmodel:10032\n",
      "\twrkr 6\t\tloss: 9.6528 (+0.1730)\tacc:  9.58% ( +0.00%)\tmodel:50576\n",
      "\twrkr 7\t\tloss: 8.7731 (+0.1582)\tacc: 10.28% ( +0.00%)\tmodel:37360\n",
      "\twrkr 8\t\tloss: 12.4581 (-0.7590)\tacc:  9.74% ( +0.00%)\tmodel:41680\n",
      "\twrkr 9\t\tloss: 12.1464 (+0.8976)\tacc: 10.09% ( +0.00%)\tmodel:70416\n",
      "\tcombined\tloss: 1.1207\tacc: 78.43%\n",
      "\n",
      "Round 34\n",
      "\twrkr 0\t\tloss: 6.5691 (+0.1304)\tacc:  9.80% ( +0.00%)\tmodel:07344\n",
      "\twrkr 1\t\tloss: 5.8517 (-0.1637)\tacc: 12.75% ( +0.30%)\tmodel:70640\n",
      "\twrkr 2\t\tloss: 10.2514 (+0.4500)\tacc: 10.32% ( +0.00%)\tmodel:06160\n",
      "\twrkr 3\t\tloss: 10.2656 (-0.7765)\tacc: 10.10% ( +0.00%)\tmodel:05648\n",
      "\twrkr 4\t\tloss: 10.6745 (+0.4428)\tacc:  9.82% ( +0.00%)\tmodel:82928\n",
      "\twrkr 5\t\tloss: 12.8877 (+1.2292)\tacc:  8.92% ( +0.00%)\tmodel:06672\n",
      "\twrkr 6\t\tloss: 8.9241 (-0.7287)\tacc:  9.58% ( +0.00%)\tmodel:10032\n",
      "\twrkr 7\t\tloss: 9.0386 (+0.2655)\tacc: 10.28% ( +0.00%)\tmodel:50576\n",
      "\twrkr 8\t\tloss: 13.0359 (+0.5777)\tacc:  9.74% ( +0.00%)\tmodel:37360\n"
     ]
    },
    {
     "name": "stdout",
     "output_type": "stream",
     "text": [
      "\twrkr 9\t\tloss: 10.8468 (-1.2996)\tacc: 10.09% ( +0.00%)\tmodel:41680\n",
      "\tcombined\tloss: 1.1027\tacc: 79.23%\n",
      "\n",
      "Round 35\n",
      "\twrkr 0\t\tloss: 5.9482 (-0.6210)\tacc:  9.80% ( +0.00%)\tmodel:71248\n",
      "\twrkr 1\t\tloss: 6.0668 (+0.2152)\tacc: 12.62% ( -0.13%)\tmodel:04944\n",
      "\twrkr 2\t\tloss: 10.3842 (+0.1328)\tacc: 10.32% ( +0.00%)\tmodel:70640\n",
      "\twrkr 3\t\tloss: 10.4176 (+0.1520)\tacc: 10.10% ( +0.00%)\tmodel:06160\n",
      "\twrkr 4\t\tloss: 10.2928 (-0.3816)\tacc:  9.82% ( +0.00%)\tmodel:05648\n",
      "\twrkr 5\t\tloss: 11.8584 (-1.0293)\tacc:  8.92% ( +0.00%)\tmodel:49040\n",
      "\twrkr 6\t\tloss: 9.1772 (+0.2531)\tacc:  9.58% ( +0.00%)\tmodel:06672\n",
      "\twrkr 7\t\tloss: 8.3684 (-0.6702)\tacc: 10.28% ( +0.00%)\tmodel:71760\n",
      "\twrkr 8\t\tloss: 12.8468 (-0.1891)\tacc:  9.74% ( +0.00%)\tmodel:69296\n",
      "\twrkr 9\t\tloss: 11.3746 (+0.5278)\tacc: 10.09% ( +0.00%)\tmodel:37360\n",
      "\tcombined\tloss: 1.0828\tacc: 79.54%\n",
      "\n",
      "Round 36\n",
      "\twrkr 0\t\tloss: 6.1898 (+0.2416)\tacc:  9.80% ( +0.00%)\tmodel:08816\n",
      "\twrkr 1\t\tloss: 5.6676 (-0.3993)\tacc: 13.29% ( +0.67%)\tmodel:52144\n",
      "\twrkr 2\t\tloss: 9.4390 (-0.9452)\tacc: 10.32% ( +0.00%)\tmodel:04944\n",
      "\twrkr 3\t\tloss: 10.1057 (-0.3119)\tacc: 10.10% ( +0.00%)\tmodel:70640\n",
      "\twrkr 4\t\tloss: 10.1756 (-0.1172)\tacc:  9.82% ( +0.00%)\tmodel:06160\n",
      "\twrkr 5\t\tloss: 11.8719 (+0.0135)\tacc:  8.92% ( +0.00%)\tmodel:05648\n",
      "\twrkr 6\t\tloss: 8.9386 (-0.2386)\tacc:  9.58% ( +0.00%)\tmodel:49040\n",
      "\twrkr 7\t\tloss: 8.4904 (+0.1220)\tacc: 10.28% ( +0.00%)\tmodel:06672\n",
      "\twrkr 8\t\tloss: 13.4251 (+0.5783)\tacc:  9.74% ( +0.00%)\tmodel:10032\n",
      "\twrkr 9\t\tloss: 11.3852 (+0.0106)\tacc: 10.09% ( +0.00%)\tmodel:69296\n",
      "\tcombined\tloss: 1.0656\tacc: 80.35%\n",
      "\n",
      "Round 37\n",
      "\twrkr 0\t\tloss: 6.1228 (-0.0670)\tacc:  9.80% ( +0.00%)\tmodel:83888\n",
      "\twrkr 1\t\tloss: 5.6254 (-0.0422)\tacc: 13.64% ( +0.35%)\tmodel:48656\n",
      "\twrkr 2\t\tloss: 9.8794 (+0.4404)\tacc: 10.32% ( +0.00%)\tmodel:04432\n",
      "\twrkr 3\t\tloss: 10.9661 (+0.8604)\tacc: 10.10% ( +0.00%)\tmodel:04944\n",
      "\twrkr 4\t\tloss: 9.3687 (-0.8070)\tacc:  9.82% ( +0.00%)\tmodel:70640\n",
      "\twrkr 5\t\tloss: 12.4331 (+0.5611)\tacc:  8.92% ( +0.00%)\tmodel:06160\n",
      "\twrkr 6\t\tloss: 9.0111 (+0.0725)\tacc:  9.58% ( +0.00%)\tmodel:05648\n",
      "\twrkr 7\t\tloss: 8.1805 (-0.3099)\tacc: 10.28% ( +0.00%)\tmodel:49040\n",
      "\twrkr 8\t\tloss: 12.7461 (-0.6790)\tacc:  9.74% ( +0.00%)\tmodel:06672\n",
      "\twrkr 9\t\tloss: 10.9268 (-0.4583)\tacc: 10.09% ( +0.00%)\tmodel:10032\n",
      "\tcombined\tloss: 1.0500\tacc: 79.60%\n",
      "\n",
      "Round 38\n",
      "\twrkr 0\t\tloss: 6.0784 (-0.0443)\tacc:  9.80% ( +0.00%)\tmodel:72400\n",
      "\twrkr 1\t\tloss: 5.5003 (-0.1251)\tacc: 14.11% ( +0.47%)\tmodel:44816\n",
      "\twrkr 2\t\tloss: 9.6318 (-0.2475)\tacc: 10.32% ( +0.00%)\tmodel:48656\n",
      "\twrkr 3\t\tloss: 10.4284 (-0.5377)\tacc: 10.10% ( +0.00%)\tmodel:69584\n",
      "\twrkr 4\t\tloss: 9.9208 (+0.5522)\tacc:  9.82% ( +0.00%)\tmodel:04944\n",
      "\twrkr 5\t\tloss: 12.1747 (-0.2583)\tacc:  8.92% ( +0.00%)\tmodel:70640\n",
      "\twrkr 6\t\tloss: 9.0144 (+0.0033)\tacc:  9.58% ( +0.00%)\tmodel:06160\n",
      "\twrkr 7\t\tloss: 8.0542 (-0.1263)\tacc: 10.28% ( +0.00%)\tmodel:05648\n",
      "\twrkr 8\t\tloss: 13.3902 (+0.6441)\tacc:  9.74% ( +0.00%)\tmodel:49040\n",
      "\twrkr 9\t\tloss: 10.7949 (-0.1320)\tacc: 10.09% ( +0.00%)\tmodel:06672\n",
      "\tcombined\tloss: 1.0311\tacc: 80.95%\n",
      "\n",
      "Round 39\n",
      "\twrkr 0\t\tloss: 6.0863 (+0.0078)\tacc:  9.80% ( +0.00%)\tmodel:84528\n",
      "\twrkr 1\t\tloss: 5.5420 (+0.0417)\tacc: 13.88% ( -0.23%)\tmodel:39984\n",
      "\twrkr 2\t\tloss: 10.2107 (+0.5789)\tacc: 10.32% ( +0.00%)\tmodel:82992\n",
      "\twrkr 3\t\tloss: 10.4824 (+0.0540)\tacc: 10.10% ( +0.00%)\tmodel:48656\n",
      "\twrkr 4\t\tloss: 10.2057 (+0.2849)\tacc:  9.82% ( +0.00%)\tmodel:85808\n",
      "\twrkr 5\t\tloss: 12.2596 (+0.0848)\tacc:  8.92% ( +0.00%)\tmodel:04944\n",
      "\twrkr 6\t\tloss: 8.9201 (-0.0943)\tacc:  9.58% ( +0.00%)\tmodel:70640\n",
      "\twrkr 7\t\tloss: 8.1803 (+0.1260)\tacc: 10.28% ( +0.00%)\tmodel:06160\n",
      "\twrkr 8\t\tloss: 12.9837 (-0.4065)\tacc:  9.74% ( +0.00%)\tmodel:05648\n",
      "\twrkr 9\t\tloss: 11.6604 (+0.8656)\tacc: 10.09% ( +0.00%)\tmodel:49040\n",
      "\tcombined\tloss: 1.0161\tacc: 80.59%\n",
      "\n",
      "Round 40\n",
      "\twrkr 0\t\tloss: 5.8945 (-0.1918)\tacc:  9.80% ( +0.00%)\tmodel:44496\n",
      "\twrkr 1\t\tloss: 5.4185 (-0.1235)\tacc: 14.33% ( +0.45%)\tmodel:07056\n",
      "\twrkr 2\t\tloss: 9.4015 (-0.8092)\tacc: 10.32% ( +0.00%)\tmodel:39984\n",
      "\twrkr 3\t\tloss: 9.9445 (-0.5379)\tacc: 10.10% ( +0.00%)\tmodel:43216\n",
      "\twrkr 4\t\tloss: 9.7008 (-0.5049)\tacc:  9.82% ( +0.00%)\tmodel:48656\n",
      "\twrkr 5\t\tloss: 12.0108 (-0.2488)\tacc:  8.92% ( +0.00%)\tmodel:08816\n",
      "\twrkr 6\t\tloss: 8.9250 (+0.0049)\tacc:  9.58% ( +0.00%)\tmodel:04944\n",
      "\twrkr 7\t\tloss: 8.0578 (-0.1224)\tacc: 10.28% ( +0.00%)\tmodel:70640\n",
      "\twrkr 8\t\tloss: 13.7625 (+0.7788)\tacc:  9.74% ( +0.00%)\tmodel:06160\n",
      "\twrkr 9\t\tloss: 11.6624 (+0.0020)\tacc: 10.09% ( +0.00%)\tmodel:05648\n",
      "\tcombined\tloss: 1.0021\tacc: 81.14%\n",
      "\n",
      "Round 41\n",
      "\twrkr 0\t\tloss: 5.9409 (+0.0464)\tacc:  9.80% ( +0.00%)\tmodel:82480\n",
      "\twrkr 1\t\tloss: 5.1615 (-0.2570)\tacc: 14.94% ( +0.61%)\tmodel:72208\n",
      "\twrkr 2\t\tloss: 9.8206 (+0.4191)\tacc: 10.32% ( +0.00%)\tmodel:07056\n",
      "\twrkr 3\t\tloss: 10.4917 (+0.5472)\tacc: 10.10% ( +0.00%)\tmodel:39984\n",
      "\twrkr 4\t\tloss: 10.5252 (+0.8245)\tacc:  9.82% ( +0.00%)\tmodel:83888\n",
      "\twrkr 5\t\tloss: 12.5479 (+0.5372)\tacc:  8.92% ( +0.00%)\tmodel:48656\n",
      "\twrkr 6\t\tloss: 8.4681 (-0.4569)\tacc:  9.58% ( +0.00%)\tmodel:08816\n",
      "\twrkr 7\t\tloss: 8.3988 (+0.3410)\tacc: 10.28% ( +0.00%)\tmodel:04944\n",
      "\twrkr 8\t\tloss: 12.1215 (-1.6410)\tacc:  9.74% ( +0.00%)\tmodel:70640\n",
      "\twrkr 9\t\tloss: 11.9986 (+0.3362)\tacc: 10.09% ( +0.00%)\tmodel:06160\n",
      "\tcombined\tloss: 0.9909\tacc: 79.87%\n",
      "\n",
      "Round 42\n",
      "\twrkr 0\t\tloss: 5.6031 (-0.3378)\tacc: 10.05% ( +0.25%)\tmodel:44880\n",
      "\twrkr 1\t\tloss: 5.2530 (+0.0915)\tacc: 14.85% ( -0.09%)\tmodel:37936\n",
      "\twrkr 2\t\tloss: 9.1963 (-0.6242)\tacc: 10.32% ( +0.00%)\tmodel:09520\n",
      "\twrkr 3\t\tloss: 9.6934 (-0.7983)\tacc: 10.10% ( +0.00%)\tmodel:07056\n",
      "\twrkr 4\t\tloss: 10.1547 (-0.3705)\tacc:  9.82% ( +0.00%)\tmodel:39984\n",
      "\twrkr 5\t\tloss: 12.6756 (+0.1277)\tacc:  8.92% ( +0.00%)\tmodel:43216\n",
      "\twrkr 6\t\tloss: 8.3300 (-0.1381)\tacc:  9.58% ( +0.00%)\tmodel:48656\n",
      "\twrkr 7\t\tloss: 7.9415 (-0.4573)\tacc: 10.28% ( +0.00%)\tmodel:08816\n",
      "\twrkr 8\t\tloss: 14.6663 (+2.5448)\tacc:  9.74% ( +0.00%)\tmodel:04944\n",
      "\twrkr 9\t\tloss: 11.2811 (-0.7175)\tacc: 10.09% ( +0.00%)\tmodel:70640\n",
      "\tcombined\tloss: 0.9749\tacc: 81.01%\n",
      "\n",
      "Round 43\n",
      "\twrkr 0\t\tloss: 5.7850 (+0.1818)\tacc:  9.92% ( -0.13%)\tmodel:83440\n",
      "\twrkr 1\t\tloss: 5.0700 (-0.1830)\tacc: 15.54% ( +0.69%)\tmodel:72912\n",
      "\twrkr 2\t\tloss: 9.2485 (+0.0522)\tacc: 10.32% ( +0.00%)\tmodel:37936\n",
      "\twrkr 3\t\tloss: 10.9005 (+1.2071)\tacc: 10.10% ( +0.00%)\tmodel:83568\n",
      "\twrkr 4\t\tloss: 9.9886 (-0.1661)\tacc:  9.82% ( +0.00%)\tmodel:07056\n",
      "\twrkr 5\t\tloss: 12.6531 (-0.0225)\tacc:  8.92% ( +0.00%)\tmodel:39984\n",
      "\twrkr 6\t\tloss: 8.2864 (-0.0437)\tacc:  9.58% ( +0.00%)\tmodel:43216\n",
      "\twrkr 7\t\tloss: 8.8045 (+0.8630)\tacc: 10.28% ( +0.00%)\tmodel:48656\n",
      "\twrkr 8\t\tloss: 12.0596 (-2.6067)\tacc:  9.74% ( +0.00%)\tmodel:85808\n",
      "\twrkr 9\t\tloss: 11.5088 (+0.2277)\tacc: 10.09% ( +0.00%)\tmodel:04944\n",
      "\tcombined\tloss: 0.9639\tacc: 79.71%\n",
      "\n",
      "Round 44\n",
      "\twrkr 0\t\tloss: 5.5220 (-0.2630)\tacc: 10.44% ( +0.52%)\tmodel:07152\n",
      "\twrkr 1\t\tloss: 4.9161 (-0.1539)\tacc: 16.19% ( +0.65%)\tmodel:39536\n",
      "\twrkr 2\t\tloss: 10.2675 (+1.0190)\tacc: 10.32% ( +0.00%)\tmodel:39152\n",
      "\twrkr 3\t\tloss: 9.5799 (-1.3206)\tacc: 10.10% ( +0.00%)\tmodel:37936\n",
      "\twrkr 4\t\tloss: 10.4272 (+0.4386)\tacc:  9.82% ( +0.00%)\tmodel:09520\n",
      "\twrkr 5\t\tloss: 12.7198 (+0.0667)\tacc:  8.92% ( +0.00%)\tmodel:07056\n",
      "\twrkr 6\t\tloss: 8.3167 (+0.0303)\tacc:  9.58% ( +0.00%)\tmodel:39984\n",
      "\twrkr 7\t\tloss: 7.7224 (-1.0821)\tacc: 10.28% ( +0.00%)\tmodel:43216\n",
      "\twrkr 8\t\tloss: 14.6183 (+2.5588)\tacc:  9.74% ( +0.00%)\tmodel:48656\n",
      "\twrkr 9\t\tloss: 12.0027 (+0.4939)\tacc: 10.09% ( +0.00%)\tmodel:06896\n",
      "\tcombined\tloss: 0.9451\tacc: 82.12%\n",
      "\n",
      "Round 45\n",
      "\twrkr 0\t\tloss: 5.4150 (-0.1070)\tacc: 10.51% ( +0.07%)\tmodel:83888\n",
      "\twrkr 1\t\tloss: 5.1378 (+0.2217)\tacc: 15.62% ( -0.57%)\tmodel:39792\n",
      "\twrkr 2\t\tloss: 10.1673 (-0.1001)\tacc: 10.32% ( +0.00%)\tmodel:39536\n",
      "\twrkr 3\t\tloss: 11.7190 (+2.1391)\tacc: 10.10% ( +0.00%)\tmodel:39152\n",
      "\twrkr 4\t\tloss: 10.3587 (-0.0686)\tacc:  9.82% ( +0.00%)\tmodel:37936\n",
      "\twrkr 5\t\tloss: 12.9202 (+0.2004)\tacc:  8.92% ( +0.00%)\tmodel:09520\n",
      "\twrkr 6\t\tloss: 8.1603 (-0.1564)\tacc:  9.58% ( +0.00%)\tmodel:07056\n",
      "\twrkr 7\t\tloss: 8.0409 (+0.3185)\tacc: 10.28% ( +0.00%)\tmodel:39984\n",
      "\twrkr 8\t\tloss: 12.4314 (-2.1869)\tacc:  9.74% ( +0.00%)\tmodel:83056\n",
      "\twrkr 9\t\tloss: 11.6310 (-0.3717)\tacc: 10.09% ( +0.00%)\tmodel:48656\n",
      "\tcombined\tloss: 0.9387\tacc: 80.06%\n",
      "\n",
      "Round 46\n",
      "\twrkr 0\t\tloss: 6.0138 (+0.5988)\tacc:  9.86% ( -0.65%)\tmodel:48944\n",
      "\twrkr 1\t\tloss: 4.8431 (-0.2948)\tacc: 16.51% ( +0.89%)\tmodel:07760\n",
      "\twrkr 2\t\tloss: 9.9334 (-0.2340)\tacc: 10.32% ( +0.00%)\tmodel:39792\n",
      "\twrkr 3\t\tloss: 10.1338 (-1.5852)\tacc: 10.10% ( +0.00%)\tmodel:39536\n",
      "\twrkr 4\t\tloss: 10.6072 (+0.2485)\tacc:  9.82% ( +0.00%)\tmodel:39152\n"
     ]
    },
    {
     "name": "stdout",
     "output_type": "stream",
     "text": [
      "\twrkr 5\t\tloss: 12.1156 (-0.8047)\tacc:  8.92% ( +0.00%)\tmodel:37936\n",
      "\twrkr 6\t\tloss: 8.4432 (+0.2828)\tacc:  9.58% ( +0.00%)\tmodel:09520\n",
      "\twrkr 7\t\tloss: 7.7206 (-0.3204)\tacc: 10.28% ( +0.00%)\tmodel:07056\n",
      "\twrkr 8\t\tloss: 14.4587 (+2.0273)\tacc:  9.74% ( +0.00%)\tmodel:39984\n",
      "\twrkr 9\t\tloss: 11.9784 (+0.3474)\tacc: 10.09% ( +0.00%)\tmodel:43216\n",
      "\tcombined\tloss: 0.9217\tacc: 81.60%\n",
      "\n",
      "Round 47\n",
      "\twrkr 0\t\tloss: 5.0388 (-0.9750)\tacc: 11.96% ( +2.10%)\tmodel:48656\n",
      "\twrkr 1\t\tloss: 4.6713 (-0.1718)\tacc: 17.03% ( +0.52%)\tmodel:48944\n",
      "\twrkr 2\t\tloss: 10.0110 (+0.0776)\tacc: 10.32% ( +0.00%)\tmodel:07760\n",
      "\twrkr 3\t\tloss: 10.9338 (+0.8000)\tacc: 10.10% ( +0.00%)\tmodel:39792\n",
      "\twrkr 4\t\tloss: 9.9028 (-0.7044)\tacc:  9.82% ( +0.00%)\tmodel:39536\n",
      "\twrkr 5\t\tloss: 13.2111 (+1.0955)\tacc:  8.92% ( +0.00%)\tmodel:39152\n",
      "\twrkr 6\t\tloss: 8.6765 (+0.2333)\tacc:  9.58% ( +0.00%)\tmodel:37936\n",
      "\twrkr 7\t\tloss: 8.2362 (+0.5157)\tacc: 10.28% ( +0.00%)\tmodel:09520\n",
      "\twrkr 8\t\tloss: 12.8577 (-1.6010)\tacc:  9.74% ( +0.00%)\tmodel:07056\n",
      "\twrkr 9\t\tloss: 11.5161 (-0.4623)\tacc: 10.09% ( +0.00%)\tmodel:39984\n",
      "\tcombined\tloss: 0.9108\tacc: 81.22%\n",
      "\n",
      "Round 48\n",
      "\twrkr 0\t\tloss: 5.2179 (+0.1792)\tacc: 11.96% ( +0.00%)\tmodel:82992\n",
      "\twrkr 1\t\tloss: 4.6965 (+0.0252)\tacc: 17.01% ( -0.02%)\tmodel:48656\n",
      "\twrkr 2\t\tloss: 9.3495 (-0.6615)\tacc: 10.32% ( +0.00%)\tmodel:39728\n",
      "\twrkr 3\t\tloss: 9.4349 (-1.4989)\tacc: 10.10% ( +0.00%)\tmodel:07760\n",
      "\twrkr 4\t\tloss: 9.3459 (-0.5569)\tacc:  9.82% ( +0.00%)\tmodel:39792\n",
      "\twrkr 5\t\tloss: 11.5181 (-1.6930)\tacc:  8.92% ( +0.00%)\tmodel:39536\n",
      "\twrkr 6\t\tloss: 7.8064 (-0.8701)\tacc:  9.58% ( +0.00%)\tmodel:39152\n",
      "\twrkr 7\t\tloss: 9.0369 (+0.8007)\tacc: 10.28% ( +0.00%)\tmodel:37936\n",
      "\twrkr 8\t\tloss: 14.7753 (+1.9176)\tacc:  9.74% ( +0.00%)\tmodel:09520\n",
      "\twrkr 9\t\tloss: 11.4435 (-0.0726)\tacc: 10.09% ( +0.00%)\tmodel:07056\n",
      "\tcombined\tloss: 0.8990\tacc: 81.41%\n",
      "\n",
      "Round 49\n",
      "\twrkr 0\t\tloss: 5.1781 (-0.0398)\tacc: 12.31% ( +0.35%)\tmodel:49040\n",
      "\twrkr 1\t\tloss: 4.4998 (-0.1968)\tacc: 17.58% ( +0.57%)\tmodel:82992\n",
      "\twrkr 2\t\tloss: 9.0650 (-0.2845)\tacc: 10.32% ( +0.00%)\tmodel:48656\n",
      "\twrkr 3\t\tloss: 10.7767 (+1.3418)\tacc: 10.10% ( +0.00%)\tmodel:39728\n",
      "\twrkr 4\t\tloss: 10.4793 (+1.1334)\tacc:  9.82% ( +0.00%)\tmodel:07760\n",
      "\twrkr 5\t\tloss: 13.0023 (+1.4842)\tacc:  8.92% ( +0.00%)\tmodel:39792\n",
      "\twrkr 6\t\tloss: 7.5900 (-0.2164)\tacc:  9.58% ( +0.00%)\tmodel:39536\n",
      "\twrkr 7\t\tloss: 7.1761 (-1.8608)\tacc: 10.32% ( +0.04%)\tmodel:39152\n",
      "\twrkr 8\t\tloss: 12.7132 (-2.0621)\tacc:  9.74% ( +0.00%)\tmodel:37936\n",
      "\twrkr 9\t\tloss: 11.7924 (+0.3488)\tacc: 10.09% ( +0.00%)\tmodel:71696\n",
      "\tcombined\tloss: 0.8856\tacc: 81.74%\n",
      "\n",
      "\n",
      "Full biased manager trained 50 rounds. (Test accuracy 81.74% and loss 0.8856.)\n"
     ]
    }
   ],
   "source": [
    "foo_mgr = FederatedManager('Full biased', foo_dls, test_dset, Net, verbose=True)\n",
    "\n",
    "run_mgr(foo_mgr, default_n_rounds, default_target_acc)"
   ]
  },
  {
   "cell_type": "code",
   "execution_count": 116,
   "metadata": {},
   "outputs": [
    {
     "data": {
      "image/png": "[encoded data removed]",
      "text/plain": [
       "<Figure size 432x288 with 1 Axes>"
      ]
     },
     "metadata": {},
     "output_type": "display_data"
    },
    {
     "data": {
      "image/png": "[encoded data removed]",
      "text/plain": [
       "<Figure size 432x288 with 1 Axes>"
      ]
     },
     "metadata": {},
     "output_type": "display_data"
    }
   ],
   "source": [
    "plot_mgr([\n",
    "#            nonfed_alldata_mgr, \n",
    "#            fed_equal_mgr, \n",
    "            foo_mgr\n",
    "         ], \n",
    "            plot_workers=True,\n",
    "        )"
   ]
  },
  {
   "cell_type": "markdown",
   "metadata": {},
   "source": [
    "# Federation with Varying Example Distributions Per Worker\n",
    "\n",
    "\n",
    "## Spliting the Decks into Uneven Piles"
   ]
  },
  {
   "cell_type": "code",
   "execution_count": 19,
   "metadata": {},
   "outputs": [
    {
     "data": {
      "application/vnd.jupyter.widget-view+json": {
       "model_id": "",
       "version_major": 2,
       "version_minor": 0
      },
      "text/plain": [
       "HBox(children=(FloatProgress(value=0.0, description='Tabulating datasets', max=10.0, style=ProgressStyle(descr…"
      ]
     },
     "metadata": {},
     "output_type": "display_data"
    },
    {
     "name": "stdout",
     "output_type": "stream",
     "text": [
      "\n"
     ]
    },
    {
     "data": {
      "image/png": "[encoded data removed]",
      "text/plain": [
       "<Figure size 432x288 with 1 Axes>"
      ]
     },
     "metadata": {
      "needs_background": "light"
     },
     "output_type": "display_data"
    }
   ],
   "source": [
    "fed_weighted_dls = make_fed_dloaders(train_dset, p=0.9)\n",
    "plot_digit_histogram(fed_weighted_dls)"
   ]
  },
  {
   "cell_type": "code",
   "execution_count": 20,
   "metadata": {},
   "outputs": [
    {
     "name": "stdout",
     "output_type": "stream",
     "text": [
      "Counter({0: 5330, 8: 78, 3: 66, 5: 66, 7: 64, 6: 64, 9: 60, 4: 58, 2: 56, 1: 53})\n",
      "Counter({1: 6051, 0: 81, 2: 80, 7: 71, 3: 69, 9: 68, 4: 68, 8: 68, 5: 67, 6: 64})\n",
      "Counter({2: 5325, 1: 80, 3: 77, 6: 72, 7: 71, 9: 71, 0: 68, 8: 65, 4: 54, 5: 52})\n",
      "Counter({3: 5497, 1: 94, 7: 75, 8: 73, 9: 63, 4: 62, 0: 58, 6: 58, 5: 55, 2: 53})\n",
      "Counter({4: 5298, 5: 79, 2: 75, 3: 73, 1: 72, 8: 67, 9: 60, 6: 54, 0: 54, 7: 53})\n",
      "Counter({5: 4852, 1: 81, 2: 79, 8: 78, 3: 78, 4: 72, 0: 67, 7: 60, 6: 58, 9: 57})\n",
      "Counter({6: 5321, 8: 77, 2: 76, 1: 76, 3: 73, 9: 65, 7: 64, 0: 62, 5: 59, 4: 47})\n",
      "Counter({7: 5673, 1: 79, 4: 73, 0: 71, 6: 68, 2: 67, 8: 64, 9: 64, 3: 63, 5: 61})\n",
      "Counter({8: 5226, 6: 82, 2: 80, 1: 78, 9: 77, 4: 68, 3: 65, 7: 62, 5: 60, 0: 56})\n",
      "Counter({9: 5364, 1: 78, 6: 77, 0: 76, 7: 72, 5: 70, 3: 70, 2: 67, 8: 55, 4: 42})\n"
     ]
    }
   ],
   "source": [
    "check_dsets([dl.dataset for dl in fed_weighted_dls])"
   ]
  },
  {
   "cell_type": "code",
   "execution_count": 21,
   "metadata": {},
   "outputs": [
    {
     "data": {
      "application/vnd.jupyter.widget-view+json": {
       "model_id": "8704fbbd62704dacbc482ec3f14ce9f9",
       "version_major": 2,
       "version_minor": 0
      },
      "text/plain": [
       "HBox(children=(FloatProgress(value=0.0, description='Counting examples', max=10.0, style=ProgressStyle(descrip…"
      ]
     },
     "metadata": {},
     "output_type": "display_data"
    },
    {
     "name": "stdout",
     "output_type": "stream",
     "text": [
      "\n"
     ]
    },
    {
     "data": {
      "text/plain": [
       "array([[602, 666, 588, 644, 577, 569, 620, 657, 605, 593],\n",
       "       [608, 653, 603, 646, 574, 519, 606, 609, 562, 558],\n",
       "       [624, 673, 597, 604, 590, 553, 608, 611, 620, 608],\n",
       "       [575, 676, 561, 649, 585, 528, 614, 610, 583, 562],\n",
       "       [576, 658, 580, 566, 589, 538, 590, 618, 588, 633],\n",
       "       [623, 668, 630, 641, 554, 570, 570, 612, 600, 593],\n",
       "       [557, 699, 613, 586, 593, 564, 561, 663, 555, 584],\n",
       "       [589, 643, 608, 612, 565, 530, 634, 610, 566, 598],\n",
       "       [599, 721, 573, 577, 617, 514, 561, 646, 563, 612],\n",
       "       [570, 685, 605, 606, 598, 536, 554, 629, 609, 608]])"
      ]
     },
     "execution_count": 21,
     "metadata": {},
     "output_type": "execute_result"
    },
    {
     "data": {
      "image/png": "[encoded data removed]",
      "text/plain": [
       "<Figure size 432x288 with 1 Axes>"
      ]
     },
     "metadata": {
      "needs_background": "light"
     },
     "output_type": "display_data"
    }
   ],
   "source": [
    "count_dsets([dl.dataset for dl in fed_equal_dls], show_array=False, show_heatmap=True)"
   ]
  },
  {
   "cell_type": "code",
   "execution_count": 22,
   "metadata": {},
   "outputs": [
    {
     "data": {
      "application/vnd.jupyter.widget-view+json": {
       "model_id": "91408e24f25744de9a8e13569437bba5",
       "version_major": 2,
       "version_minor": 0
      },
      "text/plain": [
       "HBox(children=(FloatProgress(value=0.0, description='Counting examples', max=10.0, style=ProgressStyle(descrip…"
      ]
     },
     "metadata": {},
     "output_type": "display_data"
    },
    {
     "name": "stdout",
     "output_type": "stream",
     "text": [
      "\n"
     ]
    },
    {
     "data": {
      "text/plain": [
       "array([[5330,   53,   56,   66,   58,   66,   64,   64,   78,   60],\n",
       "       [  81, 6051,   80,   69,   68,   67,   64,   71,   68,   68],\n",
       "       [  68,   80, 5325,   77,   54,   52,   72,   71,   65,   71],\n",
       "       [  58,   94,   53, 5497,   62,   55,   58,   75,   73,   63],\n",
       "       [  54,   72,   75,   73, 5298,   79,   54,   53,   67,   60],\n",
       "       [  67,   81,   79,   78,   72, 4852,   58,   60,   78,   57],\n",
       "       [  62,   76,   76,   73,   47,   59, 5321,   64,   77,   65],\n",
       "       [  71,   79,   67,   63,   73,   61,   68, 5673,   64,   64],\n",
       "       [  56,   78,   80,   65,   68,   60,   82,   62, 5226,   77],\n",
       "       [  76,   78,   67,   70,   42,   70,   77,   72,   55, 5364]])"
      ]
     },
     "execution_count": 22,
     "metadata": {},
     "output_type": "execute_result"
    },
    {
     "data": {
      "image/png": "[encoded data removed]",
      "text/plain": [
       "<Figure size 432x288 with 1 Axes>"
      ]
     },
     "metadata": {
      "needs_background": "light"
     },
     "output_type": "display_data"
    }
   ],
   "source": [
    "count_dsets([dl.dataset for dl in fed_weighted_dls], show_array=False, show_heatmap=True)"
   ]
  },
  {
   "cell_type": "code",
   "execution_count": 23,
   "metadata": {},
   "outputs": [
    {
     "name": "stdout",
     "output_type": "stream",
     "text": [
      "Fed Bias manager training with 10 worker(s) for 50 rounds.\n"
     ]
    },
    {
     "data": {
      "application/vnd.jupyter.widget-view+json": {
       "model_id": "c09b45b16116421db9c1d7eeb8303c80",
       "version_major": 2,
       "version_minor": 0
      },
      "text/plain": [
       "HBox(children=(FloatProgress(value=0.0, description='Rounds', max=50.0, style=ProgressStyle(description_width=…"
      ]
     },
     "metadata": {},
     "output_type": "display_data"
    },
    {
     "name": "stdout",
     "output_type": "stream",
     "text": [
      "Round 0\n",
      "\twrkr 0\t\tloss: 2.0643 (+0.0000)\tacc: 37.35% ( +0.00%)\tmodel:53168\n",
      "\twrkr 1\t\tloss: 1.8473 (+0.0000)\tacc: 49.39% ( +0.00%)\tmodel:38704\n",
      "\twrkr 2\t\tloss: 2.4374 (+0.0000)\tacc: 13.48% ( +0.00%)\tmodel:06768\n",
      "\twrkr 3\t\tloss: 2.7151 (+0.0000)\tacc: 11.06% ( +0.00%)\tmodel:65296\n",
      "\twrkr 4\t\tloss: 2.3235 (+0.0000)\tacc: 31.47% ( +0.00%)\tmodel:04400\n",
      "\twrkr 5\t\tloss: 2.6048 (+0.0000)\tacc:  8.92% ( +0.00%)\tmodel:62096\n",
      "\twrkr 6\t\tloss: 2.0920 (+0.0000)\tacc: 28.87% ( +0.00%)\tmodel:14416\n",
      "\twrkr 7\t\tloss: 1.9303 (+0.0000)\tacc: 34.03% ( +0.00%)\tmodel:59856\n",
      "\twrkr 8\t\tloss: 2.8047 (+0.0000)\tacc:  9.93% ( +0.00%)\tmodel:70128\n",
      "\twrkr 9\t\tloss: 2.7058 (+0.0000)\tacc: 15.88% ( +0.00%)\tmodel:68144\n",
      "\tcombined\tloss: 1.7345\tacc: 73.72%\n",
      "\n",
      "Round 1\n",
      "\twrkr 0\t\tloss: 1.3158 (-0.7485)\tacc: 62.23% (+24.88%)\tmodel:02640\n",
      "\twrkr 1\t\tloss: 1.0677 (-0.7796)\tacc: 69.09% (+19.70%)\tmodel:38064\n",
      "\twrkr 2\t\tloss: 1.7015 (-0.7360)\tacc: 40.94% (+27.46%)\tmodel:38704\n",
      "\twrkr 3\t\tloss: 1.5154 (-1.1997)\tacc: 50.94% (+39.88%)\tmodel:06768\n",
      "\twrkr 4\t\tloss: 1.0294 (-1.2940)\tacc: 67.74% (+36.27%)\tmodel:65296\n",
      "\twrkr 5\t\tloss: 1.5899 (-1.0148)\tacc: 48.11% (+39.19%)\tmodel:59216\n",
      "\twrkr 6\t\tloss: 1.2762 (-0.8157)\tacc: 60.30% (+31.43%)\tmodel:62096\n",
      "\twrkr 7\t\tloss: 1.2343 (-0.6960)\tacc: 61.89% (+27.86%)\tmodel:14416\n",
      "\twrkr 8\t\tloss: 1.4510 (-1.3537)\tacc: 47.78% (+37.85%)\tmodel:68976\n",
      "\twrkr 9\t\tloss: 1.6822 (-1.0236)\tacc: 50.57% (+34.69%)\tmodel:70128\n",
      "\tcombined\tloss: 0.7771\tacc: 82.91%\n",
      "\n",
      "Round 2\n",
      "\twrkr 0\t\tloss: 0.8377 (-0.4781)\tacc: 73.77% (+11.54%)\tmodel:02928\n",
      "\twrkr 1\t\tloss: 0.6885 (-0.3792)\tacc: 79.23% (+10.14%)\tmodel:28528\n",
      "\twrkr 2\t\tloss: 0.9198 (-0.7817)\tacc: 70.87% (+29.93%)\tmodel:38064\n",
      "\twrkr 3\t\tloss: 1.0613 (-0.4540)\tacc: 64.15% (+13.21%)\tmodel:38704\n",
      "\twrkr 4\t\tloss: 1.0301 (+0.0007)\tacc: 70.28% ( +2.54%)\tmodel:06768\n",
      "\twrkr 5\t\tloss: 1.3708 (-0.2191)\tacc: 52.54% ( +4.43%)\tmodel:65296\n",
      "\twrkr 6\t\tloss: 0.7629 (-0.5134)\tacc: 78.00% (+17.70%)\tmodel:59216\n",
      "\twrkr 7\t\tloss: 1.4332 (+0.1989)\tacc: 55.16% ( -6.73%)\tmodel:62096\n",
      "\twrkr 8\t\tloss: 0.7904 (-0.6606)\tacc: 73.02% (+25.24%)\tmodel:14416\n",
      "\twrkr 9\t\tloss: 1.0818 (-0.6004)\tacc: 65.23% (+14.66%)\tmodel:59472\n",
      "\tcombined\tloss: 0.4888\tacc: 87.86%\n",
      "\n",
      "Round 3\n",
      "\twrkr 0\t\tloss: 0.6779 (-0.1598)\tacc: 79.03% ( +5.26%)\tmodel:26608\n",
      "\twrkr 1\t\tloss: 0.5389 (-0.1496)\tacc: 83.70% ( +4.47%)\tmodel:62960\n",
      "\twrkr 2\t\tloss: 0.8884 (-0.0314)\tacc: 71.12% ( +0.25%)\tmodel:33936\n",
      "\twrkr 3\t\tloss: 0.5867 (-0.4747)\tacc: 81.58% (+17.43%)\tmodel:38064\n",
      "\twrkr 4\t\tloss: 0.8389 (-0.1912)\tacc: 73.33% ( +3.05%)\tmodel:43408\n",
      "\twrkr 5\t\tloss: 0.9038 (-0.4671)\tacc: 68.89% (+16.35%)\tmodel:06768\n",
      "\twrkr 6\t\tloss: 0.6037 (-0.1592)\tacc: 82.37% ( +4.37%)\tmodel:42896\n",
      "\twrkr 7\t\tloss: 0.6124 (-0.8208)\tacc: 81.45% (+26.29%)\tmodel:59216\n",
      "\twrkr 8\t\tloss: 1.0154 (+0.2250)\tacc: 63.72% ( -9.30%)\tmodel:04336\n",
      "\twrkr 9\t\tloss: 1.0379 (-0.0438)\tacc: 66.33% ( +1.10%)\tmodel:29808\n",
      "\tcombined\tloss: 0.4023\tacc: 89.46%\n",
      "\n",
      "Round 4\n",
      "\twrkr 0\t\tloss: 0.7510 (+0.0732)\tacc: 76.05% ( -2.98%)\tmodel:03792\n",
      "\twrkr 1\t\tloss: 0.5212 (-0.0177)\tacc: 84.03% ( +0.33%)\tmodel:26608\n",
      "\twrkr 2\t\tloss: 0.5864 (-0.3019)\tacc: 82.69% (+11.57%)\tmodel:62960\n",
      "\twrkr 3\t\tloss: 0.7787 (+0.1920)\tacc: 74.03% ( -7.55%)\tmodel:42192\n",
      "\twrkr 4\t\tloss: 0.6343 (-0.2046)\tacc: 79.44% ( +6.11%)\tmodel:38064\n",
      "\twrkr 5\t\tloss: 0.6709 (-0.2329)\tacc: 78.30% ( +9.41%)\tmodel:43408\n",
      "\twrkr 6\t\tloss: 0.5105 (-0.0932)\tacc: 84.59% ( +2.22%)\tmodel:06768\n",
      "\twrkr 7\t\tloss: 0.6425 (+0.0301)\tacc: 78.59% ( -2.86%)\tmodel:42896\n",
      "\twrkr 8\t\tloss: 0.7435 (-0.2719)\tacc: 74.04% (+10.32%)\tmodel:59216\n",
      "\twrkr 9\t\tloss: 0.9311 (-0.1068)\tacc: 70.05% ( +3.72%)\tmodel:59536\n",
      "\tcombined\tloss: 0.3590\tacc: 90.13%\n",
      "\n",
      "Round 5\n",
      "\twrkr 0\t\tloss: 0.4366 (-0.3145)\tacc: 87.48% (+11.43%)\tmodel:44048\n",
      "\twrkr 1\t\tloss: 0.5343 (+0.0131)\tacc: 84.23% ( +0.20%)\tmodel:03792\n",
      "\twrkr 2\t\tloss: 0.6126 (+0.0262)\tacc: 81.19% ( -1.50%)\tmodel:69296\n",
      "\twrkr 3\t\tloss: 0.5876 (-0.1911)\tacc: 80.52% ( +6.49%)\tmodel:62960\n",
      "\twrkr 4\t\tloss: 0.7586 (+0.1243)\tacc: 77.14% ( -2.30%)\tmodel:42192\n",
      "\twrkr 5\t\tloss: 0.5464 (-0.1245)\tacc: 82.00% ( +3.70%)\tmodel:38064\n",
      "\twrkr 6\t\tloss: 0.4771 (-0.0334)\tacc: 85.78% ( +1.19%)\tmodel:43408\n",
      "\twrkr 7\t\tloss: 1.0354 (+0.3929)\tacc: 65.32% (-13.27%)\tmodel:06768\n",
      "\twrkr 8\t\tloss: 0.7848 (+0.0413)\tacc: 73.01% ( -1.03%)\tmodel:70960\n",
      "\twrkr 9\t\tloss: 0.7561 (-0.1750)\tacc: 73.78% ( +3.73%)\tmodel:71600\n",
      "\tcombined\tloss: 0.3282\tacc: 90.73%\n",
      "\n",
      "Round 6\n",
      "\twrkr 0\t\tloss: 0.4860 (+0.0495)\tacc: 85.74% ( -1.74%)\tmodel:82640\n",
      "\twrkr 1\t\tloss: 0.4302 (-0.1040)\tacc: 86.69% ( +2.46%)\tmodel:44048\n",
      "\twrkr 2\t\tloss: 0.6524 (+0.0397)\tacc: 78.48% ( -2.71%)\tmodel:03792\n",
      "\twrkr 3\t\tloss: 0.8955 (+0.3079)\tacc: 69.55% (-10.97%)\tmodel:97488\n",
      "\twrkr 4\t\tloss: 0.5611 (-0.1975)\tacc: 80.64% ( +3.50%)\tmodel:62960\n",
      "\twrkr 5\t\tloss: 0.5694 (+0.0230)\tacc: 81.84% ( -0.16%)\tmodel:42192\n",
      "\twrkr 6\t\tloss: 0.4355 (-0.0416)\tacc: 86.96% ( +1.18%)\tmodel:38064\n",
      "\twrkr 7\t\tloss: 0.5623 (-0.4731)\tacc: 82.04% (+16.72%)\tmodel:43408\n",
      "\twrkr 8\t\tloss: 0.8034 (+0.0186)\tacc: 72.21% ( -0.80%)\tmodel:06768\n",
      "\twrkr 9\t\tloss: 0.6879 (-0.0682)\tacc: 76.11% ( +2.33%)\tmodel:70960\n",
      "\tcombined\tloss: 0.3064\tacc: 91.19%\n",
      "\n",
      "Round 7\n",
      "\twrkr 0\t\tloss: 0.4082 (-0.0779)\tacc: 87.88% ( +2.14%)\tmodel:61072\n",
      "\twrkr 1\t\tloss: 0.4591 (+0.0289)\tacc: 85.77% ( -0.92%)\tmodel:82640\n",
      "\twrkr 2\t\tloss: 0.7105 (+0.0582)\tacc: 76.33% ( -2.15%)\tmodel:01296\n",
      "\twrkr 3\t\tloss: 0.7356 (-0.1598)\tacc: 75.59% ( +6.04%)\tmodel:03792\n",
      "\twrkr 4\t\tloss: 0.4602 (-0.1009)\tacc: 84.92% ( +4.28%)\tmodel:97488\n",
      "\twrkr 5\t\tloss: 0.7015 (+0.1322)\tacc: 76.74% ( -5.10%)\tmodel:62960\n",
      "\twrkr 6\t\tloss: 0.5414 (+0.1059)\tacc: 83.82% ( -3.14%)\tmodel:04848\n",
      "\twrkr 7\t\tloss: 0.5009 (-0.0613)\tacc: 83.66% ( +1.62%)\tmodel:38064\n",
      "\twrkr 8\t\tloss: 0.8524 (+0.0490)\tacc: 70.63% ( -1.58%)\tmodel:43408\n",
      "\twrkr 9\t\tloss: 0.7319 (+0.0440)\tacc: 74.44% ( -1.67%)\tmodel:06768\n",
      "\tcombined\tloss: 0.2885\tacc: 91.75%\n",
      "\n",
      "Round 8\n",
      "\twrkr 0\t\tloss: 0.4994 (+0.0912)\tacc: 85.54% ( -2.34%)\tmodel:56112\n",
      "\twrkr 1\t\tloss: 0.4635 (+0.0044)\tacc: 85.59% ( -0.18%)\tmodel:61072\n",
      "\twrkr 2\t\tloss: 0.5147 (-0.1958)\tacc: 83.82% ( +7.49%)\tmodel:82640\n",
      "\twrkr 3\t\tloss: 0.7309 (-0.0048)\tacc: 74.96% ( -0.63%)\tmodel:44880\n",
      "\twrkr 4\t\tloss: 0.4869 (+0.0268)\tacc: 84.15% ( -0.77%)\tmodel:52944\n",
      "\twrkr 5\t\tloss: 0.6594 (-0.0421)\tacc: 78.63% ( +1.89%)\tmodel:97488\n",
      "\twrkr 6\t\tloss: 0.5837 (+0.0424)\tacc: 82.16% ( -1.66%)\tmodel:62960\n",
      "\twrkr 7\t\tloss: 0.4215 (-0.0795)\tacc: 87.06% ( +3.40%)\tmodel:44432\n",
      "\twrkr 8\t\tloss: 0.4926 (-0.3598)\tacc: 83.64% (+13.01%)\tmodel:38064\n",
      "\twrkr 9\t\tloss: 0.5592 (-0.1727)\tacc: 81.22% ( +6.78%)\tmodel:43408\n",
      "\tcombined\tloss: 0.2755\tacc: 91.93%\n",
      "\n",
      "Round 9\n",
      "\twrkr 0\t\tloss: 0.3454 (-0.1540)\tacc: 89.91% ( +4.37%)\tmodel:59472\n",
      "\twrkr 1\t\tloss: 0.3717 (-0.0918)\tacc: 88.13% ( +2.54%)\tmodel:55632\n",
      "\twrkr 2\t\tloss: 0.6730 (+0.1584)\tacc: 77.41% ( -6.41%)\tmodel:61072\n",
      "\twrkr 3\t\tloss: 0.6184 (-0.1124)\tacc: 79.86% ( +4.90%)\tmodel:82640\n",
      "\twrkr 4\t\tloss: 0.6238 (+0.1368)\tacc: 81.52% ( -2.63%)\tmodel:69232\n",
      "\twrkr 5\t\tloss: 0.6061 (-0.0533)\tacc: 79.59% ( +0.96%)\tmodel:70768\n",
      "\twrkr 6\t\tloss: 0.4476 (-0.1361)\tacc: 86.41% ( +4.25%)\tmodel:97488\n",
      "\twrkr 7\t\tloss: 0.5222 (+0.1008)\tacc: 82.34% ( -4.72%)\tmodel:62960\n",
      "\twrkr 8\t\tloss: 0.4892 (-0.0034)\tacc: 83.25% ( -0.39%)\tmodel:73616\n",
      "\twrkr 9\t\tloss: 0.5872 (+0.0280)\tacc: 79.56% ( -1.66%)\tmodel:38064\n",
      "\tcombined\tloss: 0.2629\tacc: 92.35%\n",
      "\n",
      "Round 10\n",
      "\twrkr 0\t\tloss: 0.4310 (+0.0856)\tacc: 87.19% ( -2.72%)\tmodel:35920\n",
      "\twrkr 1\t\tloss: 0.4543 (+0.0826)\tacc: 86.17% ( -1.96%)\tmodel:59472\n",
      "\twrkr 2\t\tloss: 0.4752 (-0.1979)\tacc: 84.82% ( +7.41%)\tmodel:55632\n",
      "\twrkr 3\t\tloss: 0.5282 (-0.0903)\tacc: 82.27% ( +2.41%)\tmodel:61072\n",
      "\twrkr 4\t\tloss: 0.4636 (-0.1602)\tacc: 84.50% ( +2.98%)\tmodel:82640\n",
      "\twrkr 5\t\tloss: 0.4927 (-0.1134)\tacc: 84.31% ( +4.72%)\tmodel:69232\n",
      "\twrkr 6\t\tloss: 0.3939 (-0.0537)\tacc: 87.67% ( +1.26%)\tmodel:70768\n",
      "\twrkr 7\t\tloss: 0.4152 (-0.1070)\tacc: 87.02% ( +4.68%)\tmodel:97488\n",
      "\twrkr 8\t\tloss: 0.5068 (+0.0176)\tacc: 82.98% ( -0.27%)\tmodel:62960\n",
      "\twrkr 9\t\tloss: 0.5473 (-0.0399)\tacc: 81.34% ( +1.78%)\tmodel:73616\n",
      "\tcombined\tloss: 0.2542\tacc: 92.29%\n",
      "\n",
      "Round 11\n",
      "\twrkr 0\t\tloss: 0.3300 (-0.1010)\tacc: 90.10% ( +2.91%)\tmodel:70064\n",
      "\twrkr 1\t\tloss: 0.3985 (-0.0558)\tacc: 87.54% ( +1.37%)\tmodel:35920\n",
      "\twrkr 2\t\tloss: 0.4801 (+0.0049)\tacc: 83.82% ( -1.00%)\tmodel:59472\n",
      "\twrkr 3\t\tloss: 0.6077 (+0.0795)\tacc: 80.47% ( -1.80%)\tmodel:55632\n",
      "\twrkr 4\t\tloss: 0.5186 (+0.0550)\tacc: 82.86% ( -1.64%)\tmodel:61072\n",
      "\twrkr 5\t\tloss: 0.5417 (+0.0490)\tacc: 82.03% ( -2.28%)\tmodel:82640\n",
      "\twrkr 6\t\tloss: 0.3772 (-0.0167)\tacc: 88.65% ( +0.98%)\tmodel:69232\n"
     ]
    },
    {
     "name": "stdout",
     "output_type": "stream",
     "text": [
      "\twrkr 7\t\tloss: 0.4257 (+0.0106)\tacc: 86.02% ( -1.00%)\tmodel:70768\n",
      "\twrkr 8\t\tloss: 0.5500 (+0.0432)\tacc: 81.53% ( -1.45%)\tmodel:97488\n",
      "\twrkr 9\t\tloss: 0.5391 (-0.0082)\tacc: 81.57% ( +0.23%)\tmodel:62960\n",
      "\tcombined\tloss: 0.2409\tacc: 92.89%\n",
      "\n",
      "Round 12\n",
      "\twrkr 0\t\tloss: 0.3948 (+0.0648)\tacc: 88.06% ( -2.04%)\tmodel:01232\n",
      "\twrkr 1\t\tloss: 0.3667 (-0.0319)\tacc: 88.86% ( +1.32%)\tmodel:42320\n",
      "\twrkr 2\t\tloss: 0.4218 (-0.0583)\tacc: 86.75% ( +2.93%)\tmodel:35920\n",
      "\twrkr 3\t\tloss: 0.7483 (+0.1406)\tacc: 74.77% ( -5.70%)\tmodel:59472\n",
      "\twrkr 4\t\tloss: 0.5621 (+0.0435)\tacc: 81.79% ( -1.07%)\tmodel:55632\n",
      "\twrkr 5\t\tloss: 0.4003 (-0.1415)\tacc: 87.31% ( +5.28%)\tmodel:61072\n",
      "\twrkr 6\t\tloss: 0.4199 (+0.0427)\tacc: 87.48% ( -1.17%)\tmodel:82640\n",
      "\twrkr 7\t\tloss: 0.3925 (-0.0332)\tacc: 87.24% ( +1.22%)\tmodel:69232\n",
      "\twrkr 8\t\tloss: 0.4552 (-0.0948)\tacc: 84.55% ( +3.02%)\tmodel:70768\n",
      "\twrkr 9\t\tloss: 0.7749 (+0.2357)\tacc: 74.18% ( -7.39%)\tmodel:97488\n",
      "\tcombined\tloss: 0.2366\tacc: 92.94%\n",
      "\n",
      "Round 13\n",
      "\twrkr 0\t\tloss: 0.3385 (-0.0563)\tacc: 90.02% ( +1.96%)\tmodel:53552\n",
      "\twrkr 1\t\tloss: 0.3651 (-0.0016)\tacc: 88.63% ( -0.23%)\tmodel:73616\n",
      "\twrkr 2\t\tloss: 0.4045 (-0.0172)\tacc: 87.64% ( +0.89%)\tmodel:42320\n",
      "\twrkr 3\t\tloss: 0.5011 (-0.2472)\tacc: 83.64% ( +8.87%)\tmodel:35920\n",
      "\twrkr 4\t\tloss: 0.4361 (-0.1261)\tacc: 85.36% ( +3.57%)\tmodel:59472\n",
      "\twrkr 5\t\tloss: 0.7012 (+0.3010)\tacc: 77.08% (-10.23%)\tmodel:55632\n",
      "\twrkr 6\t\tloss: 0.3506 (-0.0694)\tacc: 89.31% ( +1.83%)\tmodel:61072\n",
      "\twrkr 7\t\tloss: 0.4576 (+0.0650)\tacc: 84.83% ( -2.41%)\tmodel:82640\n",
      "\twrkr 8\t\tloss: 0.3946 (-0.0606)\tacc: 87.09% ( +2.54%)\tmodel:69232\n",
      "\twrkr 9\t\tloss: 0.5549 (-0.2199)\tacc: 80.89% ( +6.71%)\tmodel:70768\n",
      "\tcombined\tloss: 0.2271\tacc: 93.38%\n",
      "\n",
      "Round 14\n",
      "\twrkr 0\t\tloss: 0.3030 (-0.0355)\tacc: 91.08% ( +1.06%)\tmodel:69296\n",
      "\twrkr 1\t\tloss: 0.4225 (+0.0574)\tacc: 86.80% ( -1.83%)\tmodel:16336\n",
      "\twrkr 2\t\tloss: 0.4256 (+0.0210)\tacc: 85.91% ( -1.73%)\tmodel:73616\n",
      "\twrkr 3\t\tloss: 0.4471 (-0.0540)\tacc: 84.95% ( +1.31%)\tmodel:42320\n",
      "\twrkr 4\t\tloss: 0.5312 (+0.0951)\tacc: 83.27% ( -2.09%)\tmodel:35920\n",
      "\twrkr 5\t\tloss: 0.5967 (-0.1046)\tacc: 80.53% ( +3.45%)\tmodel:59472\n",
      "\twrkr 6\t\tloss: 0.3567 (+0.0062)\tacc: 89.26% ( -0.05%)\tmodel:55632\n",
      "\twrkr 7\t\tloss: 0.4215 (-0.0360)\tacc: 86.28% ( +1.45%)\tmodel:61072\n",
      "\twrkr 8\t\tloss: 0.3886 (-0.0060)\tacc: 87.44% ( +0.35%)\tmodel:82640\n",
      "\twrkr 9\t\tloss: 0.7806 (+0.2256)\tacc: 74.08% ( -6.81%)\tmodel:69232\n",
      "\tcombined\tloss: 0.2195\tacc: 93.50%\n",
      "\n",
      "Round 15\n",
      "\twrkr 0\t\tloss: 0.3207 (+0.0177)\tacc: 90.53% ( -0.55%)\tmodel:16336\n",
      "\twrkr 1\t\tloss: 0.3267 (-0.0958)\tacc: 89.54% ( +2.74%)\tmodel:69296\n",
      "\twrkr 2\t\tloss: 0.5224 (+0.0969)\tacc: 82.69% ( -3.22%)\tmodel:16336\n",
      "\twrkr 3\t\tloss: 0.4991 (+0.0520)\tacc: 83.14% ( -1.81%)\tmodel:73616\n",
      "\twrkr 4\t\tloss: 0.4483 (-0.0829)\tacc: 85.31% ( +2.04%)\tmodel:42320\n",
      "\twrkr 5\t\tloss: 0.3584 (-0.2383)\tacc: 88.71% ( +8.18%)\tmodel:35920\n",
      "\twrkr 6\t\tloss: 0.3747 (+0.0180)\tacc: 88.58% ( -0.68%)\tmodel:59472\n",
      "\twrkr 7\t\tloss: 0.4379 (+0.0164)\tacc: 85.65% ( -0.63%)\tmodel:55632\n",
      "\twrkr 8\t\tloss: 0.4592 (+0.0706)\tacc: 85.07% ( -2.37%)\tmodel:61072\n",
      "\twrkr 9\t\tloss: 0.5936 (-0.1870)\tacc: 79.38% ( +5.30%)\tmodel:03760\n",
      "\tcombined\tloss: 0.2115\tacc: 93.69%\n",
      "\n",
      "Round 16\n",
      "\twrkr 0\t\tloss: 0.2909 (-0.0298)\tacc: 91.34% ( +0.81%)\tmodel:00720\n",
      "\twrkr 1\t\tloss: 0.4066 (+0.0799)\tacc: 87.36% ( -2.18%)\tmodel:16336\n",
      "\twrkr 2\t\tloss: 0.3553 (-0.1671)\tacc: 89.15% ( +6.46%)\tmodel:35536\n",
      "\twrkr 3\t\tloss: 0.4736 (-0.0255)\tacc: 84.36% ( +1.22%)\tmodel:16336\n",
      "\twrkr 4\t\tloss: 0.4199 (-0.0283)\tacc: 86.64% ( +1.33%)\tmodel:73616\n",
      "\twrkr 5\t\tloss: 0.5097 (+0.1514)\tacc: 83.91% ( -4.80%)\tmodel:42320\n",
      "\twrkr 6\t\tloss: 0.3903 (+0.0156)\tacc: 88.06% ( -0.52%)\tmodel:35920\n",
      "\twrkr 7\t\tloss: 0.3586 (-0.0793)\tacc: 88.63% ( +2.98%)\tmodel:59472\n",
      "\twrkr 8\t\tloss: 0.4182 (-0.0410)\tacc: 86.23% ( +1.16%)\tmodel:02192\n",
      "\twrkr 9\t\tloss: 0.4992 (-0.0944)\tacc: 82.82% ( +3.44%)\tmodel:61072\n",
      "\tcombined\tloss: 0.2041\tacc: 93.87%\n",
      "\n",
      "Round 17\n",
      "\twrkr 0\t\tloss: 0.3786 (+0.0878)\tacc: 88.56% ( -2.78%)\tmodel:01744\n",
      "\twrkr 1\t\tloss: 0.3459 (-0.0607)\tacc: 89.26% ( +1.90%)\tmodel:13072\n",
      "\twrkr 2\t\tloss: 0.4718 (+0.1165)\tacc: 83.77% ( -5.38%)\tmodel:16336\n",
      "\twrkr 3\t\tloss: 0.5484 (+0.0748)\tacc: 81.19% ( -3.17%)\tmodel:70960\n",
      "\twrkr 4\t\tloss: 0.4108 (-0.0091)\tacc: 86.16% ( -0.48%)\tmodel:16336\n",
      "\twrkr 5\t\tloss: 0.4043 (-0.1055)\tacc: 86.86% ( +2.95%)\tmodel:73616\n",
      "\twrkr 6\t\tloss: 0.2801 (-0.1102)\tacc: 91.55% ( +3.49%)\tmodel:73936\n",
      "\twrkr 7\t\tloss: 0.2838 (-0.0748)\tacc: 91.66% ( +3.03%)\tmodel:35920\n",
      "\twrkr 8\t\tloss: 0.3776 (-0.0406)\tacc: 87.57% ( +1.34%)\tmodel:59472\n",
      "\twrkr 9\t\tloss: 0.6069 (+0.1077)\tacc: 79.94% ( -2.88%)\tmodel:38704\n",
      "\tcombined\tloss: 0.2027\tacc: 93.93%\n",
      "\n",
      "Round 18\n",
      "\twrkr 0\t\tloss: 0.2923 (-0.0864)\tacc: 91.17% ( +2.61%)\tmodel:82640\n",
      "\twrkr 1\t\tloss: 0.2887 (-0.0572)\tacc: 90.98% ( +1.72%)\tmodel:43408\n",
      "\twrkr 2\t\tloss: 0.3433 (-0.1285)\tacc: 89.30% ( +5.53%)\tmodel:13072\n",
      "\twrkr 3\t\tloss: 0.6252 (+0.0768)\tacc: 78.42% ( -2.77%)\tmodel:16336\n",
      "\twrkr 4\t\tloss: 0.3994 (-0.0115)\tacc: 86.91% ( +0.75%)\tmodel:70960\n",
      "\twrkr 5\t\tloss: 0.3558 (-0.0485)\tacc: 88.74% ( +1.88%)\tmodel:16336\n",
      "\twrkr 6\t\tloss: 0.3170 (+0.0369)\tacc: 90.34% ( -1.21%)\tmodel:73616\n",
      "\twrkr 7\t\tloss: 0.2905 (+0.0067)\tacc: 90.84% ( -0.82%)\tmodel:73936\n",
      "\twrkr 8\t\tloss: 0.3760 (-0.0016)\tacc: 87.53% ( -0.04%)\tmodel:68720\n",
      "\twrkr 9\t\tloss: 0.4552 (-0.1517)\tacc: 84.53% ( +4.59%)\tmodel:59472\n",
      "\tcombined\tloss: 0.1945\tacc: 94.20%\n",
      "\n",
      "Round 19\n",
      "\twrkr 0\t\tloss: 0.2681 (-0.0242)\tacc: 92.11% ( +0.94%)\tmodel:68400\n",
      "\twrkr 1\t\tloss: 0.3435 (+0.0548)\tacc: 89.41% ( -1.57%)\tmodel:42192\n",
      "\twrkr 2\t\tloss: 0.3793 (+0.0360)\tacc: 88.17% ( -1.13%)\tmodel:36784\n",
      "\twrkr 3\t\tloss: 0.4306 (-0.1946)\tacc: 85.65% ( +7.23%)\tmodel:13072\n",
      "\twrkr 4\t\tloss: 0.4560 (+0.0567)\tacc: 85.08% ( -1.83%)\tmodel:16336\n",
      "\twrkr 5\t\tloss: 0.4626 (+0.1068)\tacc: 85.08% ( -3.66%)\tmodel:70960\n",
      "\twrkr 6\t\tloss: 0.3123 (-0.0047)\tacc: 90.28% ( -0.06%)\tmodel:16336\n",
      "\twrkr 7\t\tloss: 0.3510 (+0.0605)\tacc: 88.99% ( -1.85%)\tmodel:73616\n",
      "\twrkr 8\t\tloss: 0.5888 (+0.2127)\tacc: 79.60% ( -7.93%)\tmodel:73936\n",
      "\twrkr 9\t\tloss: 0.3972 (-0.0580)\tacc: 86.61% ( +2.08%)\tmodel:59856\n",
      "\tcombined\tloss: 0.1878\tacc: 94.33%\n",
      "\n",
      "Round 20\n",
      "\twrkr 0\t\tloss: 0.3032 (+0.0351)\tacc: 90.86% ( -1.25%)\tmodel:62000\n",
      "\twrkr 1\t\tloss: 0.2660 (-0.0775)\tacc: 91.58% ( +2.17%)\tmodel:38704\n",
      "\twrkr 2\t\tloss: 0.3757 (-0.0036)\tacc: 87.77% ( -0.40%)\tmodel:42192\n",
      "\twrkr 3\t\tloss: 0.4570 (+0.0264)\tacc: 84.52% ( -1.13%)\tmodel:36784\n",
      "\twrkr 4\t\tloss: 0.3228 (-0.1332)\tacc: 89.31% ( +4.23%)\tmodel:13072\n",
      "\twrkr 5\t\tloss: 0.3516 (-0.1110)\tacc: 88.83% ( +3.75%)\tmodel:16336\n",
      "\twrkr 6\t\tloss: 0.3182 (+0.0060)\tacc: 90.29% ( +0.01%)\tmodel:70960\n",
      "\twrkr 7\t\tloss: 0.3059 (-0.0451)\tacc: 90.14% ( +1.15%)\tmodel:16336\n",
      "\twrkr 8\t\tloss: 0.3848 (-0.2040)\tacc: 87.65% ( +8.05%)\tmodel:73616\n",
      "\twrkr 9\t\tloss: 0.4401 (+0.0428)\tacc: 84.44% ( -2.17%)\tmodel:73936\n",
      "\tcombined\tloss: 0.1848\tacc: 94.43%\n",
      "\n",
      "Round 21\n",
      "\twrkr 0\t\tloss: 0.2844 (-0.0188)\tacc: 91.61% ( +0.75%)\tmodel:37168\n",
      "\twrkr 1\t\tloss: 0.2927 (+0.0267)\tacc: 90.81% ( -0.77%)\tmodel:62000\n",
      "\twrkr 2\t\tloss: 0.4379 (+0.0622)\tacc: 84.84% ( -2.93%)\tmodel:38704\n",
      "\twrkr 3\t\tloss: 0.3466 (-0.1105)\tacc: 88.17% ( +3.65%)\tmodel:42192\n",
      "\twrkr 4\t\tloss: 0.4238 (+0.1011)\tacc: 85.99% ( -3.32%)\tmodel:36784\n",
      "\twrkr 5\t\tloss: 0.3339 (-0.0177)\tacc: 89.30% ( +0.47%)\tmodel:13072\n",
      "\twrkr 6\t\tloss: 0.2721 (-0.0461)\tacc: 91.60% ( +1.31%)\tmodel:16336\n",
      "\twrkr 7\t\tloss: 0.3717 (+0.0658)\tacc: 88.23% ( -1.91%)\tmodel:70960\n",
      "\twrkr 8\t\tloss: 0.3366 (-0.0482)\tacc: 88.78% ( +1.13%)\tmodel:16336\n",
      "\twrkr 9\t\tloss: 0.4527 (+0.0126)\tacc: 84.26% ( -0.18%)\tmodel:73616\n",
      "\tcombined\tloss: 0.1799\tacc: 94.55%\n",
      "\n",
      "Round 22\n",
      "\twrkr 0\t\tloss: 0.2855 (+0.0010)\tacc: 91.73% ( +0.12%)\tmodel:68528\n",
      "\twrkr 1\t\tloss: 0.2685 (-0.0243)\tacc: 91.55% ( +0.74%)\tmodel:37168\n",
      "\twrkr 2\t\tloss: 0.3570 (-0.0809)\tacc: 88.49% ( +3.65%)\tmodel:62000\n",
      "\twrkr 3\t\tloss: 0.3837 (+0.0372)\tacc: 87.31% ( -0.86%)\tmodel:38704\n",
      "\twrkr 4\t\tloss: 0.4694 (+0.0456)\tacc: 84.89% ( -1.10%)\tmodel:42192\n",
      "\twrkr 5\t\tloss: 0.3431 (+0.0092)\tacc: 88.89% ( -0.41%)\tmodel:36784\n",
      "\twrkr 6\t\tloss: 0.2819 (+0.0098)\tacc: 91.51% ( -0.09%)\tmodel:13072\n",
      "\twrkr 7\t\tloss: 0.2632 (-0.1085)\tacc: 91.75% ( +3.52%)\tmodel:16336\n",
      "\twrkr 8\t\tloss: 0.5002 (+0.1635)\tacc: 83.97% ( -4.81%)\tmodel:70960\n",
      "\twrkr 9\t\tloss: 0.4132 (-0.0395)\tacc: 86.04% ( +1.78%)\tmodel:16336\n",
      "\tcombined\tloss: 0.1760\tacc: 94.72%\n",
      "\n",
      "Round 23\n",
      "\twrkr 0\t\tloss: 0.2231 (-0.0623)\tacc: 93.44% ( +1.71%)\tmodel:73936\n",
      "\twrkr 1\t\tloss: 0.2633 (-0.0052)\tacc: 91.42% ( -0.13%)\tmodel:68528\n",
      "\twrkr 2\t\tloss: 0.2964 (-0.0607)\tacc: 91.08% ( +2.59%)\tmodel:37168\n"
     ]
    },
    {
     "name": "stdout",
     "output_type": "stream",
     "text": [
      "\twrkr 3\t\tloss: 0.5260 (+0.1423)\tacc: 82.21% ( -5.10%)\tmodel:62000\n",
      "\twrkr 4\t\tloss: 0.3466 (-0.1228)\tacc: 88.45% ( +3.56%)\tmodel:38704\n",
      "\twrkr 5\t\tloss: 0.3892 (+0.0461)\tacc: 87.56% ( -1.33%)\tmodel:42192\n",
      "\twrkr 6\t\tloss: 0.2510 (-0.0310)\tacc: 92.35% ( +0.84%)\tmodel:36784\n",
      "\twrkr 7\t\tloss: 0.2893 (+0.0261)\tacc: 90.89% ( -0.86%)\tmodel:13072\n",
      "\twrkr 8\t\tloss: 0.4146 (-0.0856)\tacc: 86.56% ( +2.59%)\tmodel:16336\n",
      "\twrkr 9\t\tloss: 0.3590 (-0.0542)\tacc: 87.89% ( +1.85%)\tmodel:70960\n",
      "\tcombined\tloss: 0.1699\tacc: 94.86%\n",
      "\n",
      "Round 24\n",
      "\twrkr 0\t\tloss: 0.2461 (+0.0230)\tacc: 92.65% ( -0.79%)\tmodel:60048\n",
      "\twrkr 1\t\tloss: 0.2412 (-0.0220)\tacc: 92.60% ( +1.18%)\tmodel:14416\n",
      "\twrkr 2\t\tloss: 0.3963 (+0.0999)\tacc: 86.89% ( -4.19%)\tmodel:68528\n",
      "\twrkr 3\t\tloss: 0.3578 (-0.1681)\tacc: 87.82% ( +5.61%)\tmodel:37168\n",
      "\twrkr 4\t\tloss: 0.3801 (+0.0335)\tacc: 87.63% ( -0.82%)\tmodel:62000\n",
      "\twrkr 5\t\tloss: 0.2992 (-0.0900)\tacc: 90.22% ( +2.66%)\tmodel:38704\n",
      "\twrkr 6\t\tloss: 0.2786 (+0.0276)\tacc: 91.66% ( -0.69%)\tmodel:05040\n",
      "\twrkr 7\t\tloss: 0.2580 (-0.0313)\tacc: 91.90% ( +1.01%)\tmodel:36784\n",
      "\twrkr 8\t\tloss: 0.3677 (-0.0469)\tacc: 87.83% ( +1.27%)\tmodel:13072\n",
      "\twrkr 9\t\tloss: 0.5727 (+0.2137)\tacc: 80.96% ( -6.93%)\tmodel:16336\n",
      "\tcombined\tloss: 0.1668\tacc: 94.95%\n",
      "\n",
      "Round 25\n",
      "\twrkr 0\t\tloss: 0.2149 (-0.0312)\tacc: 93.46% ( +0.81%)\tmodel:01968\n",
      "\twrkr 1\t\tloss: 0.2425 (+0.0013)\tacc: 92.39% ( -0.21%)\tmodel:69040\n",
      "\twrkr 2\t\tloss: 0.3339 (-0.0623)\tacc: 89.60% ( +2.71%)\tmodel:14416\n",
      "\twrkr 3\t\tloss: 0.4363 (+0.0784)\tacc: 85.41% ( -2.41%)\tmodel:68528\n",
      "\twrkr 4\t\tloss: 0.3623 (-0.0178)\tacc: 88.07% ( +0.44%)\tmodel:37168\n",
      "\twrkr 5\t\tloss: 0.4082 (+0.1090)\tacc: 87.08% ( -3.14%)\tmodel:62000\n",
      "\twrkr 6\t\tloss: 0.2689 (-0.0097)\tacc: 91.90% ( +0.24%)\tmodel:38704\n",
      "\twrkr 7\t\tloss: 0.4733 (+0.2153)\tacc: 84.77% ( -7.13%)\tmodel:34512\n",
      "\twrkr 8\t\tloss: 0.4130 (+0.0453)\tacc: 86.26% ( -1.57%)\tmodel:44432\n",
      "\twrkr 9\t\tloss: 0.3761 (-0.1965)\tacc: 87.28% ( +6.32%)\tmodel:13072\n",
      "\tcombined\tloss: 0.1606\tacc: 95.06%\n",
      "\n",
      "Round 26\n",
      "\twrkr 0\t\tloss: 0.2453 (+0.0304)\tacc: 92.51% ( -0.95%)\tmodel:95248\n",
      "\twrkr 1\t\tloss: 0.2462 (+0.0036)\tacc: 92.31% ( -0.08%)\tmodel:37104\n",
      "\twrkr 2\t\tloss: 0.2927 (-0.0412)\tacc: 90.83% ( +1.23%)\tmodel:69040\n",
      "\twrkr 3\t\tloss: 0.4878 (+0.0515)\tacc: 83.10% ( -2.31%)\tmodel:14416\n",
      "\twrkr 4\t\tloss: 0.3421 (-0.0202)\tacc: 88.97% ( +0.90%)\tmodel:68528\n",
      "\twrkr 5\t\tloss: 0.3982 (-0.0100)\tacc: 87.45% ( +0.37%)\tmodel:37168\n",
      "\twrkr 6\t\tloss: 0.2622 (-0.0067)\tacc: 92.19% ( +0.29%)\tmodel:62000\n",
      "\twrkr 7\t\tloss: 0.2870 (-0.1863)\tacc: 90.87% ( +6.10%)\tmodel:38704\n",
      "\twrkr 8\t\tloss: 0.2837 (-0.1293)\tacc: 90.49% ( +4.23%)\tmodel:53584\n",
      "\twrkr 9\t\tloss: 0.4271 (+0.0510)\tacc: 85.46% ( -1.82%)\tmodel:56112\n",
      "\tcombined\tloss: 0.1595\tacc: 95.18%\n",
      "\n",
      "Round 27\n",
      "\twrkr 0\t\tloss: 0.2513 (+0.0060)\tacc: 92.62% ( +0.11%)\tmodel:73616\n",
      "\twrkr 1\t\tloss: 0.2717 (+0.0255)\tacc: 91.49% ( -0.82%)\tmodel:95248\n",
      "\twrkr 2\t\tloss: 0.3298 (+0.0371)\tacc: 89.32% ( -1.51%)\tmodel:37104\n",
      "\twrkr 3\t\tloss: 0.5336 (+0.0458)\tacc: 82.09% ( -1.01%)\tmodel:69040\n",
      "\twrkr 4\t\tloss: 0.3762 (+0.0341)\tacc: 88.12% ( -0.85%)\tmodel:14416\n",
      "\twrkr 5\t\tloss: 0.4068 (+0.0086)\tacc: 86.89% ( -0.56%)\tmodel:68528\n",
      "\twrkr 6\t\tloss: 0.2604 (-0.0018)\tacc: 92.11% ( -0.08%)\tmodel:37168\n",
      "\twrkr 7\t\tloss: 0.2866 (-0.0004)\tacc: 90.91% ( +0.04%)\tmodel:62000\n",
      "\twrkr 8\t\tloss: 0.4174 (+0.1336)\tacc: 86.40% ( -4.09%)\tmodel:38704\n",
      "\twrkr 9\t\tloss: 0.3770 (-0.0502)\tacc: 87.39% ( +1.93%)\tmodel:53584\n",
      "\tcombined\tloss: 0.1561\tacc: 95.33%\n",
      "\n",
      "Round 28\n",
      "\twrkr 0\t\tloss: 0.2334 (-0.0179)\tacc: 93.23% ( +0.61%)\tmodel:75280\n",
      "\twrkr 1\t\tloss: 0.2447 (-0.0270)\tacc: 92.39% ( +0.90%)\tmodel:73616\n",
      "\twrkr 2\t\tloss: 0.3564 (+0.0266)\tacc: 88.85% ( -0.47%)\tmodel:95248\n",
      "\twrkr 3\t\tloss: 0.4854 (-0.0482)\tacc: 83.47% ( +1.38%)\tmodel:37104\n",
      "\twrkr 4\t\tloss: 0.2584 (-0.1178)\tacc: 91.68% ( +3.56%)\tmodel:69040\n",
      "\twrkr 5\t\tloss: 0.3503 (-0.0565)\tacc: 88.78% ( +1.89%)\tmodel:14416\n",
      "\twrkr 6\t\tloss: 0.2580 (-0.0024)\tacc: 92.13% ( +0.02%)\tmodel:68528\n",
      "\twrkr 7\t\tloss: 0.2886 (+0.0020)\tacc: 90.92% ( +0.01%)\tmodel:37168\n",
      "\twrkr 8\t\tloss: 0.3842 (-0.0331)\tacc: 87.29% ( +0.89%)\tmodel:62000\n",
      "\twrkr 9\t\tloss: 0.3261 (-0.0509)\tacc: 89.09% ( +1.70%)\tmodel:38704\n",
      "\tcombined\tloss: 0.1529\tacc: 95.34%\n",
      "\n",
      "Round 29\n",
      "\twrkr 0\t\tloss: 0.2500 (+0.0166)\tacc: 92.66% ( -0.57%)\tmodel:54000\n",
      "\twrkr 1\t\tloss: 0.2214 (-0.0233)\tacc: 93.04% ( +0.65%)\tmodel:75280\n",
      "\twrkr 2\t\tloss: 0.2751 (-0.0813)\tacc: 91.19% ( +2.34%)\tmodel:73616\n",
      "\twrkr 3\t\tloss: 0.4510 (-0.0344)\tacc: 84.71% ( +1.24%)\tmodel:95248\n",
      "\twrkr 4\t\tloss: 0.3531 (+0.0947)\tacc: 88.57% ( -3.11%)\tmodel:37104\n",
      "\twrkr 5\t\tloss: 0.3491 (-0.0012)\tacc: 88.95% ( +0.17%)\tmodel:69040\n",
      "\twrkr 6\t\tloss: 0.2776 (+0.0196)\tacc: 91.60% ( -0.53%)\tmodel:14416\n",
      "\twrkr 7\t\tloss: 0.2763 (-0.0123)\tacc: 91.31% ( +0.39%)\tmodel:68528\n",
      "\twrkr 8\t\tloss: 0.3345 (-0.0497)\tacc: 88.63% ( +1.34%)\tmodel:37168\n",
      "\twrkr 9\t\tloss: 0.4613 (+0.1352)\tacc: 83.93% ( -5.16%)\tmodel:62000\n",
      "\tcombined\tloss: 0.1485\tacc: 95.56%\n",
      "\n",
      "Round 30\n",
      "\twrkr 0\t\tloss: 0.2576 (+0.0076)\tacc: 92.32% ( -0.34%)\tmodel:16336\n",
      "\twrkr 1\t\tloss: 0.2490 (+0.0276)\tacc: 92.07% ( -0.97%)\tmodel:16336\n",
      "\twrkr 2\t\tloss: 0.2756 (+0.0005)\tacc: 91.27% ( +0.08%)\tmodel:75280\n",
      "\twrkr 3\t\tloss: 0.5190 (+0.0680)\tacc: 82.31% ( -2.40%)\tmodel:73616\n",
      "\twrkr 4\t\tloss: 0.3619 (+0.0087)\tacc: 88.47% ( -0.10%)\tmodel:95248\n",
      "\twrkr 5\t\tloss: 0.4582 (+0.1090)\tacc: 85.31% ( -3.64%)\tmodel:37104\n",
      "\twrkr 6\t\tloss: 0.2345 (-0.0431)\tacc: 92.79% ( +1.19%)\tmodel:69040\n",
      "\twrkr 7\t\tloss: 0.2027 (-0.0736)\tacc: 93.99% ( +2.68%)\tmodel:14416\n",
      "\twrkr 8\t\tloss: 0.3524 (+0.0179)\tacc: 88.34% ( -0.29%)\tmodel:68528\n",
      "\twrkr 9\t\tloss: 0.4601 (-0.0012)\tacc: 83.84% ( -0.09%)\tmodel:37168\n",
      "\tcombined\tloss: 0.1464\tacc: 95.56%\n",
      "\n",
      "Round 31\n",
      "\twrkr 0\t\tloss: 0.2342 (-0.0234)\tacc: 93.03% ( +0.71%)\tmodel:67696\n",
      "\twrkr 1\t\tloss: 0.2480 (-0.0010)\tacc: 92.06% ( -0.01%)\tmodel:16336\n",
      "\twrkr 2\t\tloss: 0.2742 (-0.0014)\tacc: 91.32% ( +0.05%)\tmodel:16336\n",
      "\twrkr 3\t\tloss: 0.3523 (-0.1666)\tacc: 88.41% ( +6.10%)\tmodel:75280\n",
      "\twrkr 4\t\tloss: 0.2938 (-0.0681)\tacc: 90.70% ( +2.23%)\tmodel:73616\n",
      "\twrkr 5\t\tloss: 0.3643 (-0.0939)\tacc: 88.48% ( +3.17%)\tmodel:95248\n",
      "\twrkr 6\t\tloss: 0.2457 (+0.0112)\tacc: 92.60% ( -0.19%)\tmodel:37104\n",
      "\twrkr 7\t\tloss: 0.2339 (+0.0312)\tacc: 92.87% ( -1.12%)\tmodel:69040\n",
      "\twrkr 8\t\tloss: 0.3716 (+0.0193)\tacc: 87.93% ( -0.41%)\tmodel:14416\n",
      "\twrkr 9\t\tloss: 0.4229 (-0.0372)\tacc: 85.23% ( +1.39%)\tmodel:68528\n",
      "\tcombined\tloss: 0.1443\tacc: 95.54%\n",
      "\n",
      "Round 32\n",
      "\twrkr 0\t\tloss: 0.2047 (-0.0295)\tacc: 93.97% ( +0.94%)\tmodel:43408\n",
      "\twrkr 1\t\tloss: 0.1963 (-0.0517)\tacc: 93.93% ( +1.87%)\tmodel:55440\n",
      "\twrkr 2\t\tloss: 0.2282 (-0.0460)\tacc: 92.94% ( +1.62%)\tmodel:16336\n",
      "\twrkr 3\t\tloss: 0.3539 (+0.0016)\tacc: 88.51% ( +0.10%)\tmodel:16336\n",
      "\twrkr 4\t\tloss: 0.2652 (-0.0286)\tacc: 91.25% ( +0.55%)\tmodel:75280\n",
      "\twrkr 5\t\tloss: 0.3228 (-0.0414)\tacc: 89.65% ( +1.17%)\tmodel:73616\n",
      "\twrkr 6\t\tloss: 0.2566 (+0.0108)\tacc: 92.21% ( -0.39%)\tmodel:95248\n",
      "\twrkr 7\t\tloss: 0.2824 (+0.0485)\tacc: 91.06% ( -1.81%)\tmodel:37104\n",
      "\twrkr 8\t\tloss: 0.5091 (+0.1374)\tacc: 83.01% ( -4.92%)\tmodel:36368\n",
      "\twrkr 9\t\tloss: 0.4368 (+0.0140)\tacc: 85.01% ( -0.22%)\tmodel:14416\n",
      "\tcombined\tloss: 0.1384\tacc: 95.77%\n",
      "\n",
      "Round 33\n",
      "\twrkr 0\t\tloss: 0.2563 (+0.0517)\tacc: 92.64% ( -1.33%)\tmodel:01776\n",
      "\twrkr 1\t\tloss: 0.2280 (+0.0317)\tacc: 92.88% ( -1.05%)\tmodel:43408\n",
      "\twrkr 2\t\tloss: 0.2879 (+0.0596)\tacc: 91.25% ( -1.69%)\tmodel:34320\n",
      "\twrkr 3\t\tloss: 0.3518 (-0.0021)\tacc: 88.41% ( -0.10%)\tmodel:16336\n",
      "\twrkr 4\t\tloss: 0.2989 (+0.0337)\tacc: 90.27% ( -0.98%)\tmodel:16336\n",
      "\twrkr 5\t\tloss: 0.3328 (+0.0100)\tacc: 89.60% ( -0.05%)\tmodel:75280\n",
      "\twrkr 6\t\tloss: 0.2288 (-0.0278)\tacc: 92.84% ( +0.63%)\tmodel:73616\n",
      "\twrkr 7\t\tloss: 0.2696 (-0.0128)\tacc: 91.57% ( +0.51%)\tmodel:54928\n",
      "\twrkr 8\t\tloss: 0.3482 (-0.1609)\tacc: 88.49% ( +5.48%)\tmodel:37104\n",
      "\twrkr 9\t\tloss: 0.2955 (-0.1414)\tacc: 89.77% ( +4.76%)\tmodel:36368\n",
      "\tcombined\tloss: 0.1365\tacc: 95.95%\n",
      "\n",
      "Round 34\n",
      "\twrkr 0\t\tloss: 0.2689 (+0.0126)\tacc: 92.14% ( -0.50%)\tmodel:03952\n",
      "\twrkr 1\t\tloss: 0.2300 (+0.0020)\tacc: 92.70% ( -0.18%)\tmodel:01776\n",
      "\twrkr 2\t\tloss: 0.2440 (-0.0439)\tacc: 92.39% ( +1.14%)\tmodel:43408\n",
      "\twrkr 3\t\tloss: 0.3273 (-0.0245)\tacc: 88.51% ( +0.10%)\tmodel:34320\n",
      "\twrkr 4\t\tloss: 0.2367 (-0.0622)\tacc: 92.45% ( +2.18%)\tmodel:16336\n",
      "\twrkr 5\t\tloss: 0.2949 (-0.0380)\tacc: 90.56% ( +0.96%)\tmodel:16336\n",
      "\twrkr 6\t\tloss: 0.2306 (+0.0018)\tacc: 92.84% ( +0.00%)\tmodel:75280\n",
      "\twrkr 7\t\tloss: 0.3736 (+0.1041)\tacc: 87.71% ( -3.86%)\tmodel:73616\n",
      "\twrkr 8\t\tloss: 0.3597 (+0.0115)\tacc: 88.11% ( -0.38%)\tmodel:54928\n",
      "\twrkr 9\t\tloss: 0.4084 (+0.1129)\tacc: 85.69% ( -4.08%)\tmodel:37104\n",
      "\tcombined\tloss: 0.1344\tacc: 95.83%\n",
      "\n",
      "Round 35\n"
     ]
    },
    {
     "name": "stdout",
     "output_type": "stream",
     "text": [
      "\twrkr 0\t\tloss: 0.2343 (-0.0346)\tacc: 93.10% ( +0.96%)\tmodel:03920\n",
      "\twrkr 1\t\tloss: 0.2352 (+0.0052)\tacc: 92.55% ( -0.15%)\tmodel:35152\n",
      "\twrkr 2\t\tloss: 0.2452 (+0.0012)\tacc: 92.35% ( -0.04%)\tmodel:01776\n",
      "\twrkr 3\t\tloss: 0.3744 (+0.0470)\tacc: 86.91% ( -1.60%)\tmodel:43408\n",
      "\twrkr 4\t\tloss: 0.2458 (+0.0092)\tacc: 92.10% ( -0.35%)\tmodel:01968\n",
      "\twrkr 5\t\tloss: 0.2722 (-0.0227)\tacc: 91.24% ( +0.68%)\tmodel:16336\n",
      "\twrkr 6\t\tloss: 0.2399 (+0.0092)\tacc: 92.80% ( -0.04%)\tmodel:16336\n",
      "\twrkr 7\t\tloss: 0.2611 (-0.1125)\tacc: 91.91% ( +4.20%)\tmodel:75280\n",
      "\twrkr 8\t\tloss: 0.3574 (-0.0023)\tacc: 88.13% ( +0.02%)\tmodel:73616\n",
      "\twrkr 9\t\tloss: 0.4685 (+0.0601)\tacc: 84.19% ( -1.50%)\tmodel:54928\n",
      "\tcombined\tloss: 0.1320\tacc: 95.90%\n",
      "\n",
      "Round 36\n",
      "\twrkr 0\t\tloss: 0.1932 (-0.0410)\tacc: 94.35% ( +1.25%)\tmodel:01712\n",
      "\twrkr 1\t\tloss: 0.2090 (-0.0263)\tacc: 93.38% ( +0.83%)\tmodel:03920\n",
      "\twrkr 2\t\tloss: 0.2001 (-0.0451)\tacc: 93.93% ( +1.58%)\tmodel:70064\n",
      "\twrkr 3\t\tloss: 0.5575 (+0.1831)\tacc: 81.62% ( -5.29%)\tmodel:97552\n",
      "\twrkr 4\t\tloss: 0.3488 (+0.1030)\tacc: 88.61% ( -3.49%)\tmodel:43408\n",
      "\twrkr 5\t\tloss: 0.2788 (+0.0066)\tacc: 91.06% ( -0.18%)\tmodel:01968\n",
      "\twrkr 6\t\tloss: 0.2523 (+0.0124)\tacc: 92.43% ( -0.37%)\tmodel:16336\n",
      "\twrkr 7\t\tloss: 0.2284 (-0.0327)\tacc: 92.82% ( +0.91%)\tmodel:44432\n",
      "\twrkr 8\t\tloss: 0.2644 (-0.0930)\tacc: 91.40% ( +3.27%)\tmodel:75280\n",
      "\twrkr 9\t\tloss: 0.3120 (-0.1565)\tacc: 89.27% ( +5.08%)\tmodel:73616\n",
      "\tcombined\tloss: 0.1304\tacc: 96.11%\n",
      "\n",
      "Round 37\n",
      "\twrkr 0\t\tloss: 0.2368 (+0.0436)\tacc: 92.87% ( -1.48%)\tmodel:06768\n",
      "\twrkr 1\t\tloss: 0.2305 (+0.0215)\tacc: 92.70% ( -0.68%)\tmodel:01712\n",
      "\twrkr 2\t\tloss: 0.2674 (+0.0673)\tacc: 91.21% ( -2.72%)\tmodel:03920\n",
      "\twrkr 3\t\tloss: 0.4027 (-0.1548)\tacc: 86.44% ( +4.82%)\tmodel:59472\n",
      "\twrkr 4\t\tloss: 0.3038 (-0.0450)\tacc: 90.18% ( +1.57%)\tmodel:97552\n",
      "\twrkr 5\t\tloss: 0.2591 (-0.0197)\tacc: 91.75% ( +0.69%)\tmodel:43408\n",
      "\twrkr 6\t\tloss: 0.2055 (-0.0467)\tacc: 93.93% ( +1.50%)\tmodel:01968\n",
      "\twrkr 7\t\tloss: 0.2990 (+0.0706)\tacc: 90.46% ( -2.36%)\tmodel:16336\n",
      "\twrkr 8\t\tloss: 0.2371 (-0.0273)\tacc: 92.22% ( +0.82%)\tmodel:44432\n",
      "\twrkr 9\t\tloss: 0.3614 (+0.0494)\tacc: 87.73% ( -1.54%)\tmodel:75280\n",
      "\tcombined\tloss: 0.1275\tacc: 96.19%\n",
      "\n",
      "Round 38\n",
      "\twrkr 0\t\tloss: 0.2060 (-0.0308)\tacc: 93.82% ( +0.95%)\tmodel:60432\n",
      "\twrkr 1\t\tloss: 0.2107 (-0.0198)\tacc: 93.21% ( +0.51%)\tmodel:06768\n",
      "\twrkr 2\t\tloss: 0.2446 (-0.0227)\tacc: 92.38% ( +1.17%)\tmodel:01712\n",
      "\twrkr 3\t\tloss: 0.3082 (-0.0945)\tacc: 89.60% ( +3.16%)\tmodel:43472\n",
      "\twrkr 4\t\tloss: 0.2515 (-0.0523)\tacc: 91.92% ( +1.74%)\tmodel:70064\n",
      "\twrkr 5\t\tloss: 0.2839 (+0.0247)\tacc: 90.85% ( -0.90%)\tmodel:97552\n",
      "\twrkr 6\t\tloss: 0.2014 (-0.0041)\tacc: 93.79% ( -0.14%)\tmodel:43408\n",
      "\twrkr 7\t\tloss: 0.3610 (+0.0620)\tacc: 88.20% ( -2.26%)\tmodel:67696\n",
      "\twrkr 8\t\tloss: 0.3230 (+0.0859)\tacc: 89.34% ( -2.88%)\tmodel:16336\n",
      "\twrkr 9\t\tloss: 0.3937 (+0.0323)\tacc: 86.82% ( -0.91%)\tmodel:62960\n",
      "\tcombined\tloss: 0.1249\tacc: 96.23%\n",
      "\n",
      "Round 39\n",
      "\twrkr 0\t\tloss: 0.2269 (+0.0209)\tacc: 93.50% ( -0.32%)\tmodel:75280\n",
      "\twrkr 1\t\tloss: 0.1969 (-0.0137)\tacc: 93.71% ( +0.50%)\tmodel:04144\n",
      "\twrkr 2\t\tloss: 0.2485 (+0.0038)\tacc: 92.26% ( -0.12%)\tmodel:06768\n",
      "\twrkr 3\t\tloss: 0.2967 (-0.0114)\tacc: 90.07% ( +0.47%)\tmodel:01712\n",
      "\twrkr 4\t\tloss: 0.2366 (-0.0150)\tacc: 92.38% ( +0.46%)\tmodel:01104\n",
      "\twrkr 5\t\tloss: 0.3160 (+0.0321)\tacc: 89.83% ( -1.02%)\tmodel:03920\n",
      "\twrkr 6\t\tloss: 0.1966 (-0.0048)\tacc: 93.91% ( +0.12%)\tmodel:97552\n",
      "\twrkr 7\t\tloss: 0.2700 (-0.0909)\tacc: 91.66% ( +3.46%)\tmodel:43408\n",
      "\twrkr 8\t\tloss: 0.2391 (-0.0839)\tacc: 92.19% ( +2.85%)\tmodel:67696\n",
      "\twrkr 9\t\tloss: 0.2541 (-0.1396)\tacc: 91.23% ( +4.41%)\tmodel:16336\n",
      "\tcombined\tloss: 0.1226\tacc: 96.43%\n",
      "\n",
      "Round 40\n",
      "\twrkr 0\t\tloss: 0.2844 (+0.0576)\tacc: 92.01% ( -1.49%)\tmodel:69680\n",
      "\twrkr 1\t\tloss: 0.1924 (-0.0045)\tacc: 93.72% ( +0.01%)\tmodel:53552\n",
      "\twrkr 2\t\tloss: 0.2197 (-0.0288)\tacc: 93.14% ( +0.88%)\tmodel:73616\n",
      "\twrkr 3\t\tloss: 0.3699 (+0.0732)\tacc: 87.55% ( -2.52%)\tmodel:06768\n",
      "\twrkr 4\t\tloss: 0.2387 (+0.0021)\tacc: 92.08% ( -0.30%)\tmodel:01712\n",
      "\twrkr 5\t\tloss: 0.2135 (-0.1025)\tacc: 93.12% ( +3.29%)\tmodel:01104\n",
      "\twrkr 6\t\tloss: 0.2851 (+0.0885)\tacc: 91.61% ( -2.30%)\tmodel:03920\n",
      "\twrkr 7\t\tloss: 0.2173 (-0.0527)\tacc: 93.28% ( +1.62%)\tmodel:97552\n",
      "\twrkr 8\t\tloss: 0.2448 (+0.0057)\tacc: 91.88% ( -0.31%)\tmodel:43408\n",
      "\twrkr 9\t\tloss: 0.3691 (+0.1150)\tacc: 86.98% ( -4.25%)\tmodel:67696\n",
      "\tcombined\tloss: 0.1214\tacc: 96.41%\n",
      "\n",
      "Round 41\n",
      "\twrkr 0\t\tloss: 0.1934 (-0.0911)\tacc: 94.27% ( +2.26%)\tmodel:45392\n",
      "\twrkr 1\t\tloss: 0.2013 (+0.0089)\tacc: 93.61% ( -0.11%)\tmodel:83024\n",
      "\twrkr 2\t\tloss: 0.2558 (+0.0361)\tacc: 91.94% ( -1.20%)\tmodel:53552\n",
      "\twrkr 3\t\tloss: 0.5465 (+0.1766)\tacc: 81.25% ( -6.30%)\tmodel:73616\n",
      "\twrkr 4\t\tloss: 0.2466 (+0.0079)\tacc: 92.00% ( -0.08%)\tmodel:06768\n",
      "\twrkr 5\t\tloss: 0.2601 (+0.0466)\tacc: 91.71% ( -1.41%)\tmodel:59856\n",
      "\twrkr 6\t\tloss: 0.1914 (-0.0937)\tacc: 94.06% ( +2.45%)\tmodel:01104\n",
      "\twrkr 7\t\tloss: 0.1862 (-0.0312)\tacc: 94.18% ( +0.90%)\tmodel:03920\n",
      "\twrkr 8\t\tloss: 0.2849 (+0.0401)\tacc: 90.52% ( -1.36%)\tmodel:97552\n",
      "\twrkr 9\t\tloss: 0.2697 (-0.0994)\tacc: 90.72% ( +3.74%)\tmodel:35152\n",
      "\tcombined\tloss: 0.1191\tacc: 96.50%\n",
      "\n",
      "Round 42\n",
      "\twrkr 0\t\tloss: 0.1789 (-0.0145)\tacc: 94.83% ( +0.56%)\tmodel:38064\n",
      "\twrkr 1\t\tloss: 0.1918 (-0.0095)\tacc: 93.92% ( +0.31%)\tmodel:37168\n",
      "\twrkr 2\t\tloss: 0.2286 (-0.0271)\tacc: 92.86% ( +0.92%)\tmodel:83024\n",
      "\twrkr 3\t\tloss: 0.4432 (-0.1034)\tacc: 85.03% ( +3.78%)\tmodel:53552\n",
      "\twrkr 4\t\tloss: 0.2719 (+0.0253)\tacc: 91.06% ( -0.94%)\tmodel:73616\n",
      "\twrkr 5\t\tloss: 0.2329 (-0.0272)\tacc: 92.55% ( +0.84%)\tmodel:06768\n",
      "\twrkr 6\t\tloss: 0.1950 (+0.0037)\tacc: 93.96% ( -0.10%)\tmodel:65936\n",
      "\twrkr 7\t\tloss: 0.2060 (+0.0199)\tacc: 93.76% ( -0.42%)\tmodel:01104\n",
      "\twrkr 8\t\tloss: 0.2758 (-0.0091)\tacc: 90.88% ( +0.36%)\tmodel:03920\n",
      "\twrkr 9\t\tloss: 0.5037 (+0.2340)\tacc: 83.59% ( -7.13%)\tmodel:97552\n",
      "\tcombined\tloss: 0.1164\tacc: 96.48%\n",
      "\n",
      "Round 43\n",
      "\twrkr 0\t\tloss: 0.1871 (+0.0082)\tacc: 94.58% ( -0.25%)\tmodel:70768\n",
      "\twrkr 1\t\tloss: 0.2021 (+0.0103)\tacc: 93.47% ( -0.45%)\tmodel:36432\n",
      "\twrkr 2\t\tloss: 0.2270 (-0.0016)\tacc: 92.89% ( +0.03%)\tmodel:37168\n",
      "\twrkr 3\t\tloss: 0.4902 (+0.0470)\tacc: 82.23% ( -2.80%)\tmodel:83024\n",
      "\twrkr 4\t\tloss: 0.2239 (-0.0480)\tacc: 92.77% ( +1.71%)\tmodel:53552\n",
      "\twrkr 5\t\tloss: 0.2250 (-0.0079)\tacc: 92.61% ( +0.06%)\tmodel:73616\n",
      "\twrkr 6\t\tloss: 0.1994 (+0.0043)\tacc: 93.69% ( -0.27%)\tmodel:06768\n",
      "\twrkr 7\t\tloss: 0.2174 (+0.0114)\tacc: 93.20% ( -0.56%)\tmodel:35600\n",
      "\twrkr 8\t\tloss: 0.4006 (+0.1248)\tacc: 86.90% ( -3.98%)\tmodel:01104\n",
      "\twrkr 9\t\tloss: 0.3342 (-0.1695)\tacc: 88.53% ( +4.94%)\tmodel:03920\n",
      "\tcombined\tloss: 0.1163\tacc: 96.40%\n",
      "\n",
      "Round 44\n",
      "\twrkr 0\t\tloss: 0.1876 (+0.0004)\tacc: 94.29% ( -0.29%)\tmodel:61328\n",
      "\twrkr 1\t\tloss: 0.1954 (-0.0067)\tacc: 93.76% ( +0.29%)\tmodel:05040\n",
      "\twrkr 2\t\tloss: 0.2491 (+0.0221)\tacc: 91.83% ( -1.06%)\tmodel:04784\n",
      "\twrkr 3\t\tloss: 0.2990 (-0.1912)\tacc: 89.87% ( +7.64%)\tmodel:70128\n",
      "\twrkr 4\t\tloss: 0.2508 (+0.0269)\tacc: 91.52% ( -1.25%)\tmodel:83024\n",
      "\twrkr 5\t\tloss: 0.3350 (+0.1100)\tacc: 89.01% ( -3.60%)\tmodel:53552\n",
      "\twrkr 6\t\tloss: 0.1766 (-0.0227)\tacc: 94.62% ( +0.93%)\tmodel:73616\n",
      "\twrkr 7\t\tloss: 0.2044 (-0.0130)\tacc: 93.73% ( +0.53%)\tmodel:06768\n",
      "\twrkr 8\t\tloss: 0.3451 (-0.0554)\tacc: 88.47% ( +1.57%)\tmodel:63568\n",
      "\twrkr 9\t\tloss: 0.2617 (-0.0725)\tacc: 91.01% ( +2.48%)\tmodel:01104\n",
      "\tcombined\tloss: 0.1136\tacc: 96.59%\n",
      "\n",
      "Round 45\n",
      "\twrkr 0\t\tloss: 0.2217 (+0.0341)\tacc: 93.42% ( -0.87%)\tmodel:65296\n",
      "\twrkr 1\t\tloss: 0.2005 (+0.0051)\tacc: 93.45% ( -0.31%)\tmodel:04624\n",
      "\twrkr 2\t\tloss: 0.2244 (-0.0248)\tacc: 93.07% ( +1.24%)\tmodel:55600\n",
      "\twrkr 3\t\tloss: 0.3303 (+0.0313)\tacc: 89.05% ( -0.82%)\tmodel:59728\n",
      "\twrkr 4\t\tloss: 0.2319 (-0.0190)\tacc: 92.43% ( +0.91%)\tmodel:75664\n",
      "\twrkr 5\t\tloss: 0.2035 (-0.1315)\tacc: 93.48% ( +4.47%)\tmodel:38768\n",
      "\twrkr 6\t\tloss: 0.2361 (+0.0595)\tacc: 92.79% ( -1.83%)\tmodel:53552\n",
      "\twrkr 7\t\tloss: 0.2091 (+0.0047)\tacc: 93.72% ( -0.01%)\tmodel:73616\n",
      "\twrkr 8\t\tloss: 0.3605 (+0.0153)\tacc: 87.92% ( -0.55%)\tmodel:06768\n",
      "\twrkr 9\t\tloss: 0.2746 (+0.0129)\tacc: 90.27% ( -0.74%)\tmodel:63568\n",
      "\tcombined\tloss: 0.1127\tacc: 96.52%\n",
      "\n",
      "Round 46\n",
      "\twrkr 0\t\tloss: 0.1598 (-0.0619)\tacc: 95.26% ( +1.84%)\tmodel:01104\n",
      "\twrkr 1\t\tloss: 0.1645 (-0.0360)\tacc: 94.87% ( +1.42%)\tmodel:65296\n",
      "\twrkr 2\t\tloss: 0.2080 (-0.0164)\tacc: 93.72% ( +0.65%)\tmodel:04624\n",
      "\twrkr 3\t\tloss: 0.2788 (-0.0515)\tacc: 90.80% ( +1.75%)\tmodel:55600\n",
      "\twrkr 4\t\tloss: 0.2524 (+0.0205)\tacc: 91.71% ( -0.72%)\tmodel:38064\n",
      "\twrkr 5\t\tloss: 0.2187 (+0.0152)\tacc: 93.20% ( -0.28%)\tmodel:75664\n",
      "\twrkr 6\t\tloss: 0.2079 (-0.0282)\tacc: 93.75% ( +0.96%)\tmodel:38768\n"
     ]
    },
    {
     "name": "stdout",
     "output_type": "stream",
     "text": [
      "\twrkr 7\t\tloss: 0.2759 (+0.0668)\tacc: 91.34% ( -2.38%)\tmodel:53552\n",
      "\twrkr 8\t\tloss: 0.2859 (-0.0746)\tacc: 90.62% ( +2.70%)\tmodel:73616\n",
      "\twrkr 9\t\tloss: 0.3104 (+0.0358)\tacc: 89.58% ( -0.69%)\tmodel:06768\n",
      "\tcombined\tloss: 0.1106\tacc: 96.71%\n",
      "\n",
      "Round 47\n",
      "\twrkr 0\t\tloss: 0.2250 (+0.0652)\tacc: 93.20% ( -2.06%)\tmodel:03952\n",
      "\twrkr 1\t\tloss: 0.1715 (+0.0070)\tacc: 94.33% ( -0.54%)\tmodel:01104\n",
      "\twrkr 2\t\tloss: 0.1964 (-0.0116)\tacc: 93.95% ( +0.23%)\tmodel:65296\n",
      "\twrkr 3\t\tloss: 0.2185 (-0.0603)\tacc: 93.11% ( +2.31%)\tmodel:04624\n",
      "\twrkr 4\t\tloss: 0.2202 (-0.0321)\tacc: 92.88% ( +1.17%)\tmodel:55600\n",
      "\twrkr 5\t\tloss: 0.2589 (+0.0402)\tacc: 91.76% ( -1.44%)\tmodel:38064\n",
      "\twrkr 6\t\tloss: 0.1993 (-0.0087)\tacc: 93.91% ( +0.16%)\tmodel:75664\n",
      "\twrkr 7\t\tloss: 0.2632 (-0.0127)\tacc: 91.69% ( +0.35%)\tmodel:37008\n",
      "\twrkr 8\t\tloss: 0.2602 (-0.0257)\tacc: 91.52% ( +0.90%)\tmodel:53552\n",
      "\twrkr 9\t\tloss: 0.4056 (+0.0953)\tacc: 86.19% ( -3.39%)\tmodel:73616\n",
      "\tcombined\tloss: 0.1084\tacc: 96.67%\n",
      "\n",
      "Round 48\n",
      "\twrkr 0\t\tloss: 0.1679 (-0.0570)\tacc: 95.00% ( +1.80%)\tmodel:75280\n",
      "\twrkr 1\t\tloss: 0.1764 (+0.0049)\tacc: 94.16% ( -0.17%)\tmodel:03952\n",
      "\twrkr 2\t\tloss: 0.2287 (+0.0323)\tacc: 92.89% ( -1.06%)\tmodel:01104\n",
      "\twrkr 3\t\tloss: 0.3110 (+0.0925)\tacc: 89.63% ( -3.48%)\tmodel:65296\n",
      "\twrkr 4\t\tloss: 0.2816 (+0.0614)\tacc: 91.21% ( -1.67%)\tmodel:04624\n",
      "\twrkr 5\t\tloss: 0.2859 (+0.0270)\tacc: 90.76% ( -1.00%)\tmodel:55600\n",
      "\twrkr 6\t\tloss: 0.2084 (+0.0092)\tacc: 93.56% ( -0.35%)\tmodel:38064\n",
      "\twrkr 7\t\tloss: 0.2012 (-0.0621)\tacc: 93.69% ( +2.00%)\tmodel:75664\n",
      "\twrkr 8\t\tloss: 0.1950 (-0.0652)\tacc: 93.66% ( +2.14%)\tmodel:60496\n",
      "\twrkr 9\t\tloss: 0.2331 (-0.1725)\tacc: 91.86% ( +5.67%)\tmodel:53552\n",
      "\tcombined\tloss: 0.1075\tacc: 96.79%\n",
      "\n",
      "Round 49\n",
      "\twrkr 0\t\tloss: 0.2093 (+0.0413)\tacc: 93.76% ( -1.24%)\tmodel:82640\n",
      "\twrkr 1\t\tloss: 0.1724 (-0.0040)\tacc: 94.37% ( +0.21%)\tmodel:75280\n",
      "\twrkr 2\t\tloss: 0.2228 (-0.0059)\tacc: 93.10% ( +0.21%)\tmodel:03952\n",
      "\twrkr 3\t\tloss: 0.2711 (-0.0399)\tacc: 91.06% ( +1.43%)\tmodel:60752\n",
      "\twrkr 4\t\tloss: 0.2278 (-0.0538)\tacc: 92.62% ( +1.41%)\tmodel:65296\n",
      "\twrkr 5\t\tloss: 0.2235 (-0.0623)\tacc: 92.73% ( +1.97%)\tmodel:04624\n",
      "\twrkr 6\t\tloss: 0.1911 (-0.0174)\tacc: 94.14% ( +0.58%)\tmodel:73936\n",
      "\twrkr 7\t\tloss: 0.1936 (-0.0076)\tacc: 94.10% ( +0.41%)\tmodel:38064\n",
      "\twrkr 8\t\tloss: 0.3047 (+0.1097)\tacc: 89.98% ( -3.68%)\tmodel:75664\n",
      "\twrkr 9\t\tloss: 0.2167 (-0.0164)\tacc: 92.47% ( +0.61%)\tmodel:03728\n",
      "\tcombined\tloss: 0.1063\tacc: 96.80%\n",
      "\n",
      "\n",
      "Fed Bias manager trained 50 rounds. (Test accuracy 96.80% and loss 0.1063.)\n"
     ]
    },
    {
     "data": {
      "image/png": "[encoded data removed]",
      "text/plain": [
       "<Figure size 432x288 with 1 Axes>"
      ]
     },
     "metadata": {
      "needs_background": "light"
     },
     "output_type": "display_data"
    },
    {
     "data": {
      "image/png": "[encoded data removed]",
      "text/plain": [
       "<Figure size 432x288 with 1 Axes>"
      ]
     },
     "metadata": {
      "needs_background": "light"
     },
     "output_type": "display_data"
    }
   ],
   "source": [
    "fed_weighted_mgr = FederatedManager('Fed Bias', fed_weighted_dls, test_dset, Net, verbose=True)\n",
    "run_mgr(fed_weighted_mgr, default_n_rounds, default_target_acc)\n",
    "plot_mgr(fed_weighted_mgr)"
   ]
  },
  {
   "cell_type": "code",
   "execution_count": 24,
   "metadata": {},
   "outputs": [
    {
     "data": {
      "image/png": "[encoded data removed]",
      "text/plain": [
       "<Figure size 432x288 with 1 Axes>"
      ]
     },
     "metadata": {
      "needs_background": "light"
     },
     "output_type": "display_data"
    },
    {
     "data": {
      "image/png": "[encoded data removed]",
      "text/plain": [
       "<Figure size 432x288 with 1 Axes>"
      ]
     },
     "metadata": {
      "needs_background": "light"
     },
     "output_type": "display_data"
    }
   ],
   "source": [
    "plot_mgr(fed_weighted_mgr, plot_workers=True)"
   ]
  },
  {
   "cell_type": "markdown",
   "metadata": {},
   "source": [
    "# Difficult Decisions\n",
    "\n",
    "These matrices should show us which number pairs our model has trouble discriminating. (Spoiler alert: its 4-9 and 3-5 pairs. The 5-8-9 triplet looks troublesome, too.)"
   ]
  },
  {
   "cell_type": "code",
   "execution_count": 77,
   "metadata": {},
   "outputs": [
    {
     "ename": "TypeError",
     "evalue": "show_model_confusion() missing 2 required positional arguments: 'examples' and 'targets'",
     "output_type": "error",
     "traceback": [
      "\u001b[0;31m---------------------------------------------------------------------------\u001b[0m",
      "\u001b[0;31mTypeError\u001b[0m                                 Traceback (most recent call last)",
      "\u001b[0;32m<ipython-input-77-16f3bc4f180e>\u001b[0m in \u001b[0;36m<module>\u001b[0;34m\u001b[0m\n\u001b[1;32m      1\u001b[0m \u001b[0mnonfed_alldata_mgr\u001b[0m\u001b[0;34m.\u001b[0m\u001b[0mround\u001b[0m\u001b[0;34m(\u001b[0m\u001b[0;34m)\u001b[0m\u001b[0;34m\u001b[0m\u001b[0;34m\u001b[0m\u001b[0m\n\u001b[0;32m----> 2\u001b[0;31m \u001b[0mshow_model_confusion\u001b[0m\u001b[0;34m(\u001b[0m\u001b[0mnonfed_alldata_mgr\u001b[0m\u001b[0;34m)\u001b[0m\u001b[0;34m\u001b[0m\u001b[0;34m\u001b[0m\u001b[0m\n\u001b[0m\u001b[1;32m      3\u001b[0m \u001b[0mshow_some_predictions\u001b[0m\u001b[0;34m(\u001b[0m\u001b[0mnonfed_alldata_mgr\u001b[0m\u001b[0;34m)\u001b[0m\u001b[0;34m\u001b[0m\u001b[0;34m\u001b[0m\u001b[0m\n",
      "\u001b[0;31mTypeError\u001b[0m: show_model_confusion() missing 2 required positional arguments: 'examples' and 'targets'"
     ]
    }
   ],
   "source": [
    "nonfed_alldata_mgr.round()\n",
    "show_model_confusion(nonfed_alldata_mgr)\n",
    "show_some_predictions(nonfed_alldata_mgr)"
   ]
  },
  {
   "cell_type": "code",
   "execution_count": null,
   "metadata": {},
   "outputs": [],
   "source": [
    "nonfed_alldata_mgr.round()\n",
    "show_model_confusion(nonfed_alldata_mgr)\n",
    "show_some_predictions(nonfed_alldata_mgr)"
   ]
  },
  {
   "cell_type": "code",
   "execution_count": null,
   "metadata": {},
   "outputs": [],
   "source": [
    "nonfed_alldata_mgr.round()\n",
    "show_model_confusion(nonfed_alldata_mgr)\n",
    "show_some_predictions(nonfed_alldata_mgr)"
   ]
  },
  {
   "cell_type": "code",
   "execution_count": null,
   "metadata": {},
   "outputs": [],
   "source": [
    "nonfed_alldata_mgr.round()\n",
    "show_model_confusion(nonfed_alldata_mgr)\n",
    "show_some_predictions(nonfed_alldata_mgr)"
   ]
  },
  {
   "cell_type": "markdown",
   "metadata": {},
   "source": [
    "Let's see whether we can identify which digits give us the most trouble. Looks like 5, 8, and 9 are the most difficult."
   ]
  },
  {
   "cell_type": "code",
   "execution_count": 84,
   "metadata": {},
   "outputs": [
    {
     "name": "stdout",
     "output_type": "stream",
     "text": [
      "[[ 0.  0. 13.  5.  1. 14. 20.  5.  8. 12.]\n",
      " [ 0.  0. 10.  3.  4.  5.  6. 11. 22.  7.]\n",
      " [13. 10.  0. 35. 20.  6. 16. 38. 33.  6.]\n",
      " [ 5.  3. 35.  0.  3. 58.  2. 20. 44. 16.]\n",
      " [ 1.  4. 20.  3.  0.  8. 24. 10. 17. 72.]\n",
      " [14.  5.  6. 58.  8.  0. 26.  8. 42. 12.]\n",
      " [20.  6. 16.  2. 24. 26.  0.  1. 13.  1.]\n",
      " [ 5. 11. 38. 20. 10.  8.  1.  0. 13. 42.]\n",
      " [ 8. 22. 33. 44. 17. 42. 13. 13.  0. 13.]\n",
      " [12.  7.  6. 16. 72. 12.  1. 42. 13.  0.]]\n",
      "[(68.0, 1, 8), (78.0, 0, 6), (109.0, 6, 5), (148.0, 7, 9), (159.0, 4, 9), (177.0, 2, 7), (179.0, 5, 3), (181.0, 9, 4), (186.0, 3, 5), (205.0, 8, 3)]\n"
     ]
    }
   ],
   "source": [
    "eval_set = get_eval_set(model=nonfed_alldata_mgr.model, examples=nonfed_alldata_mgr.Xtest, targets=nonfed_alldata_mgr.ytest)\n",
    "misses = [ev for ev in eval_set if (ev['y'] != ev['pred'])]\n",
    "cm = confusion_matrix(misses, norm=False, mirror=True)\n",
    "\n",
    "print(cm)\n",
    "print(sorted([(cm[i].sum(), i, cm[i].argmax()) for i in range(len(cm))]))"
   ]
  },
  {
   "cell_type": "code",
   "execution_count": null,
   "metadata": {},
   "outputs": [],
   "source": [
    "#TODO - Show the highest confidence picks"
   ]
  },
  {
   "cell_type": "markdown",
   "metadata": {},
   "source": [
    "# Stacking the Deck Differently"
   ]
  },
  {
   "cell_type": "markdown",
   "metadata": {},
   "source": [
    "make_fed_dloaders()"
   ]
  },
  {
   "cell_type": "markdown",
   "metadata": {},
   "source": [
    "def make_custom_dsets(dset, n_workers=10, biases=[0.0]):\n",
    "    \n",
    "    dsets=[]\n",
    "    \n",
    "    \n",
    "    \n",
    "    return dls"
   ]
  },
  {
   "cell_type": "code",
   "execution_count": 67,
   "metadata": {},
   "outputs": [],
   "source": [
    "def show_some_predictions(manager, n_predictions=3):\n",
    "    \n",
    "    for i in range(n_predictions):\n",
    "        example = manager.workers[0].dataloader.dataset[i][0]\n",
    "        target = manager.workers[0].dataloader.dataset[i][1]\n",
    "        model = manager.model.cpu()\n",
    "\n",
    "        #example = example.to('cuda')\n",
    "        #model = model.to('cuda')\n",
    "\n",
    "        prediction = model(example)\n",
    "\n",
    "        #prediction = prediction.to('cpu')\n",
    "\n",
    "        #print(prediction)\n",
    "        #show_prediction(example, prediction, target)"
   ]
  },
  {
   "cell_type": "code",
   "execution_count": 68,
   "metadata": {},
   "outputs": [
    {
     "data": {
      "image/png": "[encoded data removed]",
      "text/plain": [
       "<Figure size 432x288 with 1 Axes>"
      ]
     },
     "metadata": {},
     "output_type": "display_data"
    }
   ],
   "source": [
    "nonfed_alldata_mgr = FederatedManager('Non-Federated Full Dataset',fed_equal_dls, test_dset, Net)\n",
    "show_model_confusion(nonfed_alldata_mgr.model, nonfed_alldata_mgr.Xtest, nonfed_alldata_mgr.ytest)\n",
    "show_some_predictions(nonfed_alldata_mgr)\n",
    "#show_prediction(nonfed_alldata_mgr.Xtest, output nonfed_alldata_mgr.ytest)"
   ]
  },
  {
   "cell_type": "code",
   "execution_count": 69,
   "metadata": {},
   "outputs": [
    {
     "data": {
      "application/vnd.jupyter.widget-view+json": {
       "model_id": "",
       "version_major": 2,
       "version_minor": 0
      },
      "text/plain": [
       "HBox(children=(FloatProgress(value=0.0, max=10.0), HTML(value='')))"
      ]
     },
     "metadata": {},
     "output_type": "display_data"
    },
    {
     "name": "stdout",
     "output_type": "stream",
     "text": [
      "\n"
     ]
    },
    {
     "data": {
      "image/png": "[encoded data removed]",
      "text/plain": [
       "<Figure size 432x288 with 1 Axes>"
      ]
     },
     "metadata": {},
     "output_type": "display_data"
    }
   ],
   "source": [
    "nonfed_alldata_mgr.round()\n",
    "#show_model_confusion(nonfed_alldata_mgr.model, nonfed_alldata_mgr.Xtest, nonfed_alldata_mgr.ytest)\n",
    "\n",
    "for worker in tqdm(nonfed_alldata_mgr.workers):\n",
    "    show_model_confusion(worker.model, nonfed_alldata_mgr.Xtest, nonfed_alldata_mgr.ytest)\n",
    "\n",
    "#show_model_confusion(nonfed_alldata_mgr.workers[0].model, nonfed_alldata_mgr.Xtest, nonfed_alldata_mgr.ytest)\n",
    "#show_some_predictions(nonfed_alldata_mgr)"
   ]
  },
  {
   "cell_type": "code",
   "execution_count": 70,
   "metadata": {},
   "outputs": [
    {
     "data": {
      "application/vnd.jupyter.widget-view+json": {
       "model_id": "",
       "version_major": 2,
       "version_minor": 0
      },
      "text/plain": [
       "HBox(children=(FloatProgress(value=0.0, max=10.0), HTML(value='')))"
      ]
     },
     "metadata": {},
     "output_type": "display_data"
    },
    {
     "name": "stdout",
     "output_type": "stream",
     "text": [
      "\n"
     ]
    },
    {
     "data": {
      "image/png": "[encoded data removed]",
      "text/plain": [
       "<Figure size 432x288 with 1 Axes>"
      ]
     },
     "metadata": {},
     "output_type": "display_data"
    }
   ],
   "source": [
    "nonfed_alldata_mgr.round()\n",
    "#show_model_confusion(nonfed_alldata_mgr.model, nonfed_alldata_mgr.Xtest, nonfed_alldata_mgr.ytest)\n",
    "\n",
    "for worker in tqdm(nonfed_alldata_mgr.workers):\n",
    "    show_model_confusion(worker.model, nonfed_alldata_mgr.Xtest, nonfed_alldata_mgr.ytest)\n",
    "\n",
    "#show_model_confusion(nonfed_alldata_mgr.workers[0].model, nonfed_alldata_mgr.Xtest, nonfed_alldata_mgr.ytest)\n",
    "#show_some_predictions(nonfed_alldata_mgr)"
   ]
  },
  {
   "cell_type": "code",
   "execution_count": 71,
   "metadata": {},
   "outputs": [
    {
     "data": {
      "application/vnd.jupyter.widget-view+json": {
       "model_id": "",
       "version_major": 2,
       "version_minor": 0
      },
      "text/plain": [
       "HBox(children=(FloatProgress(value=0.0, max=10.0), HTML(value='')))"
      ]
     },
     "metadata": {},
     "output_type": "display_data"
    },
    {
     "name": "stdout",
     "output_type": "stream",
     "text": [
      "\n"
     ]
    },
    {
     "data": {
      "image/png": "[encoded data removed]",
      "text/plain": [
       "<Figure size 432x288 with 1 Axes>"
      ]
     },
     "metadata": {},
     "output_type": "display_data"
    }
   ],
   "source": [
    "nonfed_alldata_mgr.round()\n",
    "#show_model_confusion(nonfed_alldata_mgr.model, nonfed_alldata_mgr.Xtest, nonfed_alldata_mgr.ytest)\n",
    "\n",
    "for worker in tqdm(nonfed_alldata_mgr.workers):\n",
    "    show_model_confusion(worker.model, nonfed_alldata_mgr.Xtest, nonfed_alldata_mgr.ytest)\n",
    "\n",
    "#show_model_confusion(nonfed_alldata_mgr.workers[0].model, nonfed_alldata_mgr.Xtest, nonfed_alldata_mgr.ytest)\n",
    "#show_some_predictions(nonfed_alldata_mgr)"
   ]
  },
  {
   "cell_type": "code",
   "execution_count": 72,
   "metadata": {},
   "outputs": [
    {
     "data": {
      "application/vnd.jupyter.widget-view+json": {
       "model_id": "",
       "version_major": 2,
       "version_minor": 0
      },
      "text/plain": [
       "HBox(children=(FloatProgress(value=0.0, max=10.0), HTML(value='')))"
      ]
     },
     "metadata": {},
     "output_type": "display_data"
    },
    {
     "name": "stdout",
     "output_type": "stream",
     "text": [
      "\n"
     ]
    },
    {
     "data": {
      "image/png": "[encoded data removed]",
      "text/plain": [
       "<Figure size 432x288 with 1 Axes>"
      ]
     },
     "metadata": {},
     "output_type": "display_data"
    }
   ],
   "source": [
    "nonfed_alldata_mgr.round()\n",
    "#show_model_confusion(nonfed_alldata_mgr.model, nonfed_alldata_mgr.Xtest, nonfed_alldata_mgr.ytest)\n",
    "\n",
    "for worker in tqdm(nonfed_alldata_mgr.workers):\n",
    "    show_model_confusion(worker.model, nonfed_alldata_mgr.Xtest, nonfed_alldata_mgr.ytest)\n",
    "\n",
    "#show_model_confusion(nonfed_alldata_mgr.workers[0].model, nonfed_alldata_mgr.Xtest, nonfed_alldata_mgr.ytest)\n",
    "#show_some_predictions(nonfed_alldata_mgr)"
   ]
  },
  {
   "cell_type": "code",
   "execution_count": 73,
   "metadata": {},
   "outputs": [
    {
     "data": {
      "application/vnd.jupyter.widget-view+json": {
       "model_id": "",
       "version_major": 2,
       "version_minor": 0
      },
      "text/plain": [
       "HBox(children=(FloatProgress(value=0.0, max=10.0), HTML(value='')))"
      ]
     },
     "metadata": {},
     "output_type": "display_data"
    },
    {
     "name": "stdout",
     "output_type": "stream",
     "text": [
      "\n"
     ]
    },
    {
     "data": {
      "image/png": "[encoded data removed]",
      "text/plain": [
       "<Figure size 432x288 with 1 Axes>"
      ]
     },
     "metadata": {},
     "output_type": "display_data"
    }
   ],
   "source": [
    "nonfed_alldata_mgr.round()\n",
    "#show_model_confusion(nonfed_alldata_mgr.model, nonfed_alldata_mgr.Xtest, nonfed_alldata_mgr.ytest)\n",
    "\n",
    "for worker in tqdm(nonfed_alldata_mgr.workers):\n",
    "    show_model_confusion(worker.model, nonfed_alldata_mgr.Xtest, nonfed_alldata_mgr.ytest)\n",
    "\n",
    "#show_model_confusion(nonfed_alldata_mgr.workers[0].model, nonfed_alldata_mgr.Xtest, nonfed_alldata_mgr.ytest)\n",
    "#show_some_predictions(nonfed_alldata_mgr)"
   ]
  },
  {
   "cell_type": "code",
   "execution_count": 74,
   "metadata": {},
   "outputs": [
    {
     "data": {
      "application/vnd.jupyter.widget-view+json": {
       "model_id": "",
       "version_major": 2,
       "version_minor": 0
      },
      "text/plain": [
       "HBox(children=(FloatProgress(value=0.0, max=10.0), HTML(value='')))"
      ]
     },
     "metadata": {},
     "output_type": "display_data"
    },
    {
     "name": "stdout",
     "output_type": "stream",
     "text": [
      "\n"
     ]
    },
    {
     "data": {
      "image/png": "[encoded data removed]",
      "text/plain": [
       "<Figure size 432x288 with 1 Axes>"
      ]
     },
     "metadata": {},
     "output_type": "display_data"
    }
   ],
   "source": [
    "nonfed_alldata_mgr.round()\n",
    "#show_model_confusion(nonfed_alldata_mgr.model, nonfed_alldata_mgr.Xtest, nonfed_alldata_mgr.ytest)\n",
    "\n",
    "for worker in tqdm(nonfed_alldata_mgr.workers):\n",
    "    show_model_confusion(worker.model, nonfed_alldata_mgr.Xtest, nonfed_alldata_mgr.ytest)\n",
    "\n",
    "#show_model_confusion(nonfed_alldata_mgr.workers[0].model, nonfed_alldata_mgr.Xtest, nonfed_alldata_mgr.ytest)\n",
    "#show_some_predictions(nonfed_alldata_mgr)"
   ]
  },
  {
   "cell_type": "code",
   "execution_count": 75,
   "metadata": {},
   "outputs": [
    {
     "data": {
      "application/vnd.jupyter.widget-view+json": {
       "model_id": "",
       "version_major": 2,
       "version_minor": 0
      },
      "text/plain": [
       "HBox(children=(FloatProgress(value=0.0, max=10.0), HTML(value='')))"
      ]
     },
     "metadata": {},
     "output_type": "display_data"
    },
    {
     "name": "stdout",
     "output_type": "stream",
     "text": [
      "\n"
     ]
    },
    {
     "data": {
      "image/png": "[encoded data removed]",
      "text/plain": [
       "<Figure size 432x288 with 1 Axes>"
      ]
     },
     "metadata": {},
     "output_type": "display_data"
    }
   ],
   "source": [
    "nonfed_alldata_mgr.round()\n",
    "#show_model_confusion(nonfed_alldata_mgr.model, nonfed_alldata_mgr.Xtest, nonfed_alldata_mgr.ytest)\n",
    "\n",
    "for worker in tqdm(nonfed_alldata_mgr.workers):\n",
    "    show_model_confusion(worker.model, nonfed_alldata_mgr.Xtest, nonfed_alldata_mgr.ytest)\n",
    "\n",
    "#show_model_confusion(nonfed_alldata_mgr.workers[0].model, nonfed_alldata_mgr.Xtest, nonfed_alldata_mgr.ytest)\n",
    "#show_some_predictions(nonfed_alldata_mgr)"
   ]
  },
  {
   "cell_type": "code",
   "execution_count": 76,
   "metadata": {},
   "outputs": [
    {
     "data": {
      "application/vnd.jupyter.widget-view+json": {
       "model_id": "",
       "version_major": 2,
       "version_minor": 0
      },
      "text/plain": [
       "HBox(children=(FloatProgress(value=0.0, max=10.0), HTML(value='')))"
      ]
     },
     "metadata": {},
     "output_type": "display_data"
    },
    {
     "name": "stdout",
     "output_type": "stream",
     "text": [
      "\n"
     ]
    },
    {
     "data": {
      "image/png": "[encoded data removed]",
      "text/plain": [
       "<Figure size 432x288 with 1 Axes>"
      ]
     },
     "metadata": {},
     "output_type": "display_data"
    }
   ],
   "source": [
    "nonfed_alldata_mgr.round()\n",
    "#show_model_confusion(nonfed_alldata_mgr.model, nonfed_alldata_mgr.Xtest, nonfed_alldata_mgr.ytest)\n",
    "\n",
    "for worker in tqdm(nonfed_alldata_mgr.workers):\n",
    "    show_model_confusion(worker.model, nonfed_alldata_mgr.Xtest, nonfed_alldata_mgr.ytest)\n",
    "\n",
    "#show_model_confusion(nonfed_alldata_mgr.workers[0].model, nonfed_alldata_mgr.Xtest, nonfed_alldata_mgr.ytest)\n",
    "#show_some_predictions(nonfed_alldata_mgr)"
   ]
  },
  {
   "cell_type": "code",
   "execution_count": null,
   "metadata": {},
   "outputs": [],
   "source": []
  },
  {
   "cell_type": "code",
   "execution_count": null,
   "metadata": {},
   "outputs": [],
   "source": []
  },
  {
   "cell_type": "code",
   "execution_count": null,
   "metadata": {},
   "outputs": [],
   "source": []
  },
  {
   "cell_type": "code",
   "execution_count": null,
   "metadata": {},
   "outputs": [],
   "source": []
  },
  {
   "cell_type": "code",
   "execution_count": null,
   "metadata": {},
   "outputs": [],
   "source": []
  },
  {
   "cell_type": "code",
   "execution_count": 92,
   "metadata": {},
   "outputs": [
    {
     "data": {
      "application/vnd.jupyter.widget-view+json": {
       "model_id": "173b4ecf8aaf4d78b35366131e06dcaa",
       "version_major": 2,
       "version_minor": 0
      },
      "text/plain": [
       "HBox(children=(FloatProgress(value=0.0, description='Tabulating datasets', max=10.0, style=ProgressStyle(descr…"
      ]
     },
     "metadata": {},
     "output_type": "display_data"
    },
    {
     "name": "stdout",
     "output_type": "stream",
     "text": [
      "\n"
     ]
    },
    {
     "data": {
      "image/png": "[encoded data removed]",
      "text/plain": [
       "<Figure size 432x288 with 1 Axes>"
      ]
     },
     "metadata": {},
     "output_type": "display_data"
    }
   ],
   "source": [
    "custom_dls = make_fed_dloaders(train_dset, p=0.9)\n",
    "plot_digit_histogram(custom_dls)\n",
    "custom_mgr = FederatedManager('Federated Pairs Dataset', custom_dls, test_dset, Net)\n",
    "show_model_confusion(custom_mgr.model, custom_mgr.Xtest, custom_mgr.ytest)\n",
    "show_some_predictions(custom_mgr)\n",
    "#show_prediction(custom_mgr.Xtest, output nonfed_alldata_mgr.ytest)"
   ]
  },
  {
   "cell_type": "code",
   "execution_count": 69,
   "metadata": {},
   "outputs": [
    {
     "data": {
      "application/vnd.jupyter.widget-view+json": {
       "model_id": "",
       "version_major": 2,
       "version_minor": 0
      },
      "text/plain": [
       "HBox(children=(FloatProgress(value=0.0, max=10.0), HTML(value='')))"
      ]
     },
     "metadata": {},
     "output_type": "display_data"
    },
    {
     "name": "stdout",
     "output_type": "stream",
     "text": [
      "\n"
     ]
    },
    {
     "data": {
      "image/png": "[encoded data removed]",
      "text/plain": [
       "<Figure size 432x288 with 1 Axes>"
      ]
     },
     "metadata": {},
     "output_type": "display_data"
    }
   ],
   "source": [
    "nonfed_alldata_mgr.round()\n",
    "#show_model_confusion(nonfed_alldata_mgr.model, nonfed_alldata_mgr.Xtest, nonfed_alldata_mgr.ytest)\n",
    "\n",
    "for worker in tqdm(nonfed_alldata_mgr.workers):\n",
    "    show_model_confusion(worker.model, nonfed_alldata_mgr.Xtest, nonfed_alldata_mgr.ytest)\n",
    "\n",
    "#show_model_confusion(nonfed_alldata_mgr.workers[0].model, nonfed_alldata_mgr.Xtest, nonfed_alldata_mgr.ytest)\n",
    "#show_some_predictions(nonfed_alldata_mgr)"
   ]
  },
  {
   "cell_type": "code",
   "execution_count": 70,
   "metadata": {},
   "outputs": [
    {
     "data": {
      "application/vnd.jupyter.widget-view+json": {
       "model_id": "",
       "version_major": 2,
       "version_minor": 0
      },
      "text/plain": [
       "HBox(children=(FloatProgress(value=0.0, max=10.0), HTML(value='')))"
      ]
     },
     "metadata": {},
     "output_type": "display_data"
    },
    {
     "name": "stdout",
     "output_type": "stream",
     "text": [
      "\n"
     ]
    },
    {
     "data": {
      "image/png": "[encoded data removed]",
      "text/plain": [
       "<Figure size 432x288 with 1 Axes>"
      ]
     },
     "metadata": {},
     "output_type": "display_data"
    }
   ],
   "source": [
    "nonfed_alldata_mgr.round()\n",
    "#show_model_confusion(nonfed_alldata_mgr.model, nonfed_alldata_mgr.Xtest, nonfed_alldata_mgr.ytest)\n",
    "\n",
    "for worker in tqdm(nonfed_alldata_mgr.workers):\n",
    "    show_model_confusion(worker.model, nonfed_alldata_mgr.Xtest, nonfed_alldata_mgr.ytest)\n",
    "\n",
    "#show_model_confusion(nonfed_alldata_mgr.workers[0].model, nonfed_alldata_mgr.Xtest, nonfed_alldata_mgr.ytest)\n",
    "#show_some_predictions(nonfed_alldata_mgr)"
   ]
  },
  {
   "cell_type": "code",
   "execution_count": 71,
   "metadata": {},
   "outputs": [
    {
     "data": {
      "application/vnd.jupyter.widget-view+json": {
       "model_id": "",
       "version_major": 2,
       "version_minor": 0
      },
      "text/plain": [
       "HBox(children=(FloatProgress(value=0.0, max=10.0), HTML(value='')))"
      ]
     },
     "metadata": {},
     "output_type": "display_data"
    },
    {
     "name": "stdout",
     "output_type": "stream",
     "text": [
      "\n"
     ]
    },
    {
     "data": {
      "image/png": "[encoded data removed]",
      "text/plain": [
       "<Figure size 432x288 with 1 Axes>"
      ]
     },
     "metadata": {},
     "output_type": "display_data"
    }
   ],
   "source": [
    "nonfed_alldata_mgr.round()\n",
    "#show_model_confusion(nonfed_alldata_mgr.model, nonfed_alldata_mgr.Xtest, nonfed_alldata_mgr.ytest)\n",
    "\n",
    "for worker in tqdm(nonfed_alldata_mgr.workers):\n",
    "    show_model_confusion(worker.model, nonfed_alldata_mgr.Xtest, nonfed_alldata_mgr.ytest)\n",
    "\n",
    "#show_model_confusion(nonfed_alldata_mgr.workers[0].model, nonfed_alldata_mgr.Xtest, nonfed_alldata_mgr.ytest)\n",
    "#show_some_predictions(nonfed_alldata_mgr)"
   ]
  },
  {
   "cell_type": "code",
   "execution_count": 72,
   "metadata": {},
   "outputs": [
    {
     "data": {
      "application/vnd.jupyter.widget-view+json": {
       "model_id": "",
       "version_major": 2,
       "version_minor": 0
      },
      "text/plain": [
       "HBox(children=(FloatProgress(value=0.0, max=10.0), HTML(value='')))"
      ]
     },
     "metadata": {},
     "output_type": "display_data"
    },
    {
     "name": "stdout",
     "output_type": "stream",
     "text": [
      "\n"
     ]
    },
    {
     "data": {
      "image/png": "[encoded data removed]",
      "text/plain": [
       "<Figure size 432x288 with 1 Axes>"
      ]
     },
     "metadata": {},
     "output_type": "display_data"
    }
   ],
   "source": [
    "nonfed_alldata_mgr.round()\n",
    "#show_model_confusion(nonfed_alldata_mgr.model, nonfed_alldata_mgr.Xtest, nonfed_alldata_mgr.ytest)\n",
    "\n",
    "for worker in tqdm(nonfed_alldata_mgr.workers):\n",
    "    show_model_confusion(worker.model, nonfed_alldata_mgr.Xtest, nonfed_alldata_mgr.ytest)\n",
    "\n",
    "#show_model_confusion(nonfed_alldata_mgr.workers[0].model, nonfed_alldata_mgr.Xtest, nonfed_alldata_mgr.ytest)\n",
    "#show_some_predictions(nonfed_alldata_mgr)"
   ]
  },
  {
   "cell_type": "code",
   "execution_count": 73,
   "metadata": {},
   "outputs": [
    {
     "data": {
      "application/vnd.jupyter.widget-view+json": {
       "model_id": "",
       "version_major": 2,
       "version_minor": 0
      },
      "text/plain": [
       "HBox(children=(FloatProgress(value=0.0, max=10.0), HTML(value='')))"
      ]
     },
     "metadata": {},
     "output_type": "display_data"
    },
    {
     "name": "stdout",
     "output_type": "stream",
     "text": [
      "\n"
     ]
    },
    {
     "data": {
      "image/png": "[encoded data removed]",
      "text/plain": [
       "<Figure size 432x288 with 1 Axes>"
      ]
     },
     "metadata": {},
     "output_type": "display_data"
    }
   ],
   "source": [
    "nonfed_alldata_mgr.round()\n",
    "#show_model_confusion(nonfed_alldata_mgr.model, nonfed_alldata_mgr.Xtest, nonfed_alldata_mgr.ytest)\n",
    "\n",
    "for worker in tqdm(nonfed_alldata_mgr.workers):\n",
    "    show_model_confusion(worker.model, nonfed_alldata_mgr.Xtest, nonfed_alldata_mgr.ytest)\n",
    "\n",
    "#show_model_confusion(nonfed_alldata_mgr.workers[0].model, nonfed_alldata_mgr.Xtest, nonfed_alldata_mgr.ytest)\n",
    "#show_some_predictions(nonfed_alldata_mgr)"
   ]
  },
  {
   "cell_type": "code",
   "execution_count": 74,
   "metadata": {},
   "outputs": [
    {
     "data": {
      "application/vnd.jupyter.widget-view+json": {
       "model_id": "",
       "version_major": 2,
       "version_minor": 0
      },
      "text/plain": [
       "HBox(children=(FloatProgress(value=0.0, max=10.0), HTML(value='')))"
      ]
     },
     "metadata": {},
     "output_type": "display_data"
    },
    {
     "name": "stdout",
     "output_type": "stream",
     "text": [
      "\n"
     ]
    },
    {
     "data": {
      "image/png": "[encoded data removed]",
      "text/plain": [
       "<Figure size 432x288 with 1 Axes>"
      ]
     },
     "metadata": {},
     "output_type": "display_data"
    }
   ],
   "source": [
    "nonfed_alldata_mgr.round()\n",
    "#show_model_confusion(nonfed_alldata_mgr.model, nonfed_alldata_mgr.Xtest, nonfed_alldata_mgr.ytest)\n",
    "\n",
    "for worker in tqdm(nonfed_alldata_mgr.workers):\n",
    "    show_model_confusion(worker.model, nonfed_alldata_mgr.Xtest, nonfed_alldata_mgr.ytest)\n",
    "\n",
    "#show_model_confusion(nonfed_alldata_mgr.workers[0].model, nonfed_alldata_mgr.Xtest, nonfed_alldata_mgr.ytest)\n",
    "#show_some_predictions(nonfed_alldata_mgr)"
   ]
  },
  {
   "cell_type": "code",
   "execution_count": 75,
   "metadata": {},
   "outputs": [
    {
     "data": {
      "application/vnd.jupyter.widget-view+json": {
       "model_id": "",
       "version_major": 2,
       "version_minor": 0
      },
      "text/plain": [
       "HBox(children=(FloatProgress(value=0.0, max=10.0), HTML(value='')))"
      ]
     },
     "metadata": {},
     "output_type": "display_data"
    },
    {
     "name": "stdout",
     "output_type": "stream",
     "text": [
      "\n"
     ]
    },
    {
     "data": {
      "image/png": "[encoded data removed]",
      "text/plain": [
       "<Figure size 432x288 with 1 Axes>"
      ]
     },
     "metadata": {},
     "output_type": "display_data"
    }
   ],
   "source": [
    "nonfed_alldata_mgr.round()\n",
    "#show_model_confusion(nonfed_alldata_mgr.model, nonfed_alldata_mgr.Xtest, nonfed_alldata_mgr.ytest)\n",
    "\n",
    "for worker in tqdm(nonfed_alldata_mgr.workers):\n",
    "    show_model_confusion(worker.model, nonfed_alldata_mgr.Xtest, nonfed_alldata_mgr.ytest)\n",
    "\n",
    "#show_model_confusion(nonfed_alldata_mgr.workers[0].model, nonfed_alldata_mgr.Xtest, nonfed_alldata_mgr.ytest)\n",
    "#show_some_predictions(nonfed_alldata_mgr)"
   ]
  },
  {
   "cell_type": "code",
   "execution_count": 76,
   "metadata": {},
   "outputs": [
    {
     "data": {
      "application/vnd.jupyter.widget-view+json": {
       "model_id": "",
       "version_major": 2,
       "version_minor": 0
      },
      "text/plain": [
       "HBox(children=(FloatProgress(value=0.0, max=10.0), HTML(value='')))"
      ]
     },
     "metadata": {},
     "output_type": "display_data"
    },
    {
     "name": "stdout",
     "output_type": "stream",
     "text": [
      "\n"
     ]
    },
    {
     "data": {
      "image/png": "[encoded data removed]",
      "text/plain": [
       "<Figure size 432x288 with 1 Axes>"
      ]
     },
     "metadata": {},
     "output_type": "display_data"
    }
   ],
   "source": [
    "nonfed_alldata_mgr.round()\n",
    "#show_model_confusion(nonfed_alldata_mgr.model, nonfed_alldata_mgr.Xtest, nonfed_alldata_mgr.ytest)\n",
    "\n",
    "for worker in tqdm(nonfed_alldata_mgr.workers):\n",
    "    show_model_confusion(worker.model, nonfed_alldata_mgr.Xtest, nonfed_alldata_mgr.ytest)\n",
    "\n",
    "#show_model_confusion(nonfed_alldata_mgr.workers[0].model, nonfed_alldata_mgr.Xtest, nonfed_alldata_mgr.ytest)\n",
    "#show_some_predictions(nonfed_alldata_mgr)"
   ]
  },
  {
   "cell_type": "code",
   "execution_count": null,
   "metadata": {},
   "outputs": [],
   "source": [
    "\n",
    "    "
   ]
  },
  {
   "cell_type": "code",
   "execution_count": null,
   "metadata": {},
   "outputs": [],
   "source": []
  },
  {
   "cell_type": "code",
   "execution_count": 110,
   "metadata": {},
   "outputs": [
    {
     "name": "stdout",
     "output_type": "stream",
     "text": [
      "ps pre transpose\n",
      " [[1.e+05 1.e+00]\n",
      " [0.e+00 1.e+00]\n",
      " [0.e+00 1.e+00]\n",
      " [0.e+00 1.e+00]\n",
      " [0.e+00 1.e+00]\n",
      " [0.e+00 1.e+00]\n",
      " [0.e+00 1.e+00]\n",
      " [0.e+00 1.e+00]\n",
      " [0.e+00 1.e+00]\n",
      " [0.e+00 1.e+00]] \n",
      "\n",
      "ps post transpose\n",
      " [[1. 0.]\n",
      " [0. 1.]\n",
      " [0. 1.]\n",
      " [0. 1.]\n",
      " [0. 1.]\n",
      " [0. 1.]\n",
      " [0. 1.]\n",
      " [0. 1.]\n",
      " [0. 1.]\n",
      " [0. 1.]] \n",
      "\n",
      "sum per digit (should total 10.0)\n",
      " [1.0, 1.0, 1.0, 1.0, 1.0, 1.0, 1.0, 1.0, 1.0, 1.0] = 10.0 \n",
      "\n",
      "sum per worker (should total 10.0)\n",
      " [1.0, 9.0] = 10.0 \n",
      "\n",
      "examples per worker (should total 60,000)\n",
      " [5923, 54077] = 60000 \n",
      "\n",
      "Counter({0: 5923})\n",
      "Counter({1: 6742, 7: 6265, 3: 6131, 2: 5958, 9: 5949, 6: 5918, 8: 5851, 4: 5842, 5: 5421})\n"
     ]
    },
    {
     "data": {
      "application/vnd.jupyter.widget-view+json": {
       "model_id": "9593c84ed9c24899a46f2e3e781e2c1b",
       "version_major": 2,
       "version_minor": 0
      },
      "text/plain": [
       "HBox(children=(FloatProgress(value=0.0, description='Counting examples', max=2.0, style=ProgressStyle(descript…"
      ]
     },
     "metadata": {},
     "output_type": "display_data"
    },
    {
     "name": "stdout",
     "output_type": "stream",
     "text": [
      "\n"
     ]
    },
    {
     "data": {
      "text/plain": [
       "array([[5923,    0,    0,    0,    0,    0,    0,    0,    0,    0],\n",
       "       [   0, 6742, 5958, 6131, 5842, 5421, 5918, 6265, 5851, 5949]])"
      ]
     },
     "execution_count": 110,
     "metadata": {},
     "output_type": "execute_result"
    },
    {
     "data": {
      "image/png": "[encoded data removed]",
      "text/plain": [
       "<Figure size 432x288 with 1 Axes>"
      ]
     },
     "metadata": {},
     "output_type": "display_data"
    }
   ],
   "source": [
    "n_workers = 2\n",
    "\n",
    "_, y = consume_dataset(train_dset)\n",
    "classes = set(y.numpy())\n",
    "n_classes = len(classes)\n",
    "\n",
    "ps = np.array([[1.0] * n_workers] * n_classes)\n",
    "\n",
    "# Incorporate bias parameters here\n",
    "p=1e5\n",
    "ps[0][0] = p\n",
    "ps[1][0] = 0 \n",
    "ps[2][0] = 0 \n",
    "ps[3][0] = 0 \n",
    "ps[4][0] = 0 \n",
    "ps[5][0] = 0 \n",
    "ps[6][0] = 0 \n",
    "ps[7][0] = 0 \n",
    "ps[8][0] = 0 \n",
    "ps[9][0] = 0\n",
    "\n",
    "\n",
    "#ps[9][0] = 1e3 # relative allocation of '9's to worker 0\n",
    "#ps[4][0] = 1e3 # relative allocation of '4's to worker 0\n",
    "\n",
    "#ps[2][2] = 7\n",
    "#ps[4][7] = 2\n",
    "\n",
    "print('ps pre transpose\\n', np.array_str(ps, precision=3), '\\n')\n",
    "\n",
    "for x in range(10000):\n",
    "    ps = np.transpose(ps)\n",
    "    ps = np.array([ps[i]/ps[i].sum() for i in range(len(ps))])\n",
    "    ps = np.transpose(ps)\n",
    "    ps = np.array([ps[i]/ps[i].sum() for i in range(len(ps))])\n",
    "\n",
    "print('ps post transpose\\n', np.array_str(ps, precision=3), '\\n')\n",
    "print('sum per digit (should total 10.0)\\n', [sum(ps[i]) for i in range(len(ps))], '=', sum([sum(ps[i]) for i in range(len(ps))]) , '\\n')\n",
    "print('sum per worker (should total 10.0)\\n', [sum([ps[j][i]for j in range(len(ps))]) for i in range(len(ps[0]))], '=', sum([sum([ps[j][i]for j in range(len(ps))]) for i in range(len(ps[0]))]), '\\n')\n",
    "\n",
    "idx_dset = np.array([np.random.choice(n_workers, p=ps[yi]) for yi in y])\n",
    "#print('idx_dset', type(idx_dset), len(idx_dset), idx_dset)\n",
    "\n",
    "dset_idx = [np.where(idx_dset == di)[0] for di in range(n_workers)]\n",
    "\n",
    "print('examples per worker (should total 60,000)\\n', [len(dset_idx[i]) for i in range(len(dset_idx))], '=', sum([len(dset_idx[i]) for i in range(len(dset_idx))]), '\\n')\n",
    "\n",
    "custom_dsets = [Subset(train_dset, di) for di in dset_idx]\n",
    "\n",
    "check_dsets(custom_dsets)\n",
    "\n",
    "count_dsets(custom_dsets, show_array=False, show_heatmap=True)"
   ]
  },
  {
   "cell_type": "code",
   "execution_count": 87,
   "metadata": {},
   "outputs": [],
   "source": [
    "import pprint\n",
    "\n",
    "def get_datasets(manager):\n",
    "    \n",
    "    datasets = [worker.dataloader.dataset for worker in manager.workers]\n",
    "    \n",
    "    return datasets\n",
    "\n",
    "#pp.pprint(get_datasets(fed_weighted_mgr)[7][777])\n",
    "\n",
    "fed_weighted_tdsts = get_datasets(fed_weighted_mgr)\n",
    "\n",
    "#tcnt = Counter(get_datasets(fed_weighted_mgr)[0])\n",
    "#tcnt=Counter([5])\n",
    "#pp.pprint(tcnt.most_common(5))"
   ]
  },
  {
   "cell_type": "code",
   "execution_count": 88,
   "metadata": {},
   "outputs": [
    {
     "name": "stdout",
     "output_type": "stream",
     "text": [
      "12664\n"
     ]
    }
   ],
   "source": [
    "pp.pprint(len(custom_dsets[0]))\n",
    "#pp.pprint(custom_dsets[0][0])\n",
    "#pp.pprint(custom_dsets[0][0][0])\n",
    "#pp.pprint(custom_dsets[0][0][1])\n",
    "\n",
    "#tcnt = Counter(custom_dsets[0])\n",
    "#print(tcnt)\n"
   ]
  },
  {
   "cell_type": "code",
   "execution_count": null,
   "metadata": {},
   "outputs": [],
   "source": [
    "custom_dls = [DataLoader(dset, batch_size=256, shuffle=True) for dset in custom_dsets]"
   ]
  },
  {
   "cell_type": "code",
   "execution_count": null,
   "metadata": {},
   "outputs": [],
   "source": [
    "plot_digit_histogram(custom_dls)"
   ]
  },
  {
   "cell_type": "code",
   "execution_count": null,
   "metadata": {
    "scrolled": false
   },
   "outputs": [],
   "source": [
    "count_dsets([dl.dataset for dl in custom_dls], show_array=True, show_heatmap=True)"
   ]
  },
  {
   "cell_type": "code",
   "execution_count": null,
   "metadata": {},
   "outputs": [],
   "source": [
    "custom_mgr = FederatedManager('Custom Pairs', custom_dls, test_dset, Net, verbose=True)\n",
    "run_mgr(custom_mgr, 20, None)\n",
    "plot_mgr(custom_mgr, plot_workers=True)"
   ]
  },
  {
   "cell_type": "code",
   "execution_count": null,
   "metadata": {},
   "outputs": [],
   "source": [
    "plot_mgr([custom_mgr, nonfed_alldata_mgr, fed_equal_mgr])"
   ]
  },
  {
   "cell_type": "code",
   "execution_count": null,
   "metadata": {},
   "outputs": [],
   "source": [
    "#count_dsets(subsets, heatmap=True)"
   ]
  },
  {
   "cell_type": "code",
   "execution_count": null,
   "metadata": {},
   "outputs": [],
   "source": []
  },
  {
   "cell_type": "code",
   "execution_count": 44,
   "metadata": {},
   "outputs": [],
   "source": [
    "def make_fed_dloaders(dset, p=None, batch_size=64, shuffle=True):\n",
    "    \n",
    "    return [DataLoader(dset, batch_size, shuffle) for dset in make_fed_dsets(dset, p=p)]\n",
    "    \n",
    "def make_fed_dsets(dset, p=None):\n",
    "    _, y = consume_dataset(dset)\n",
    "    classes = set(y.numpy())\n",
    "    n_classes = len(classes)\n",
    "    idx_dset = index_to_dataset(y, p=p)\n",
    "    dset_idx = [np.where(idx_dset == di)[0] for di in range(n_classes)]\n",
    "    return [Subset(dset, di) for di in dset_idx]\n",
    "\n",
    "def index_to_dataset(y, p=None):\n",
    "    classes = set(y.numpy())\n",
    "    n_classes = len(classes)\n",
    "    p = p or 1/n_classes\n",
    "    pnot = (1-p)/(n_classes-1)\n",
    "    ps = np.full((n_classes, n_classes), pnot)\n",
    "    np.fill_diagonal(ps, p)\n",
    "    return np.array([np.random.choice(10, p=ps[yi]) for yi in y])"
   ]
  },
  {
   "cell_type": "code",
   "execution_count": null,
   "metadata": {},
   "outputs": [],
   "source": []
  },
  {
   "cell_type": "code",
   "execution_count": null,
   "metadata": {},
   "outputs": [],
   "source": []
  },
  {
   "cell_type": "code",
   "execution_count": null,
   "metadata": {},
   "outputs": [],
   "source": []
  },
  {
   "cell_type": "code",
   "execution_count": null,
   "metadata": {},
   "outputs": [],
   "source": []
  },
  {
   "cell_type": "markdown",
   "metadata": {},
   "source": [
    "### Some tinkering to display the outputs of an evaluation"
   ]
  },
  {
   "cell_type": "code",
   "execution_count": 89,
   "metadata": {
    "scrolled": true
   },
   "outputs": [
    {
     "name": "stdout",
     "output_type": "stream",
     "text": [
      "Actual Digit   : 3\n",
      "Predicted Digit: 0 ( +15.44)\n",
      "Nearest Digit  : 5 (  +3.96)\n",
      "Farthest Digit : 1 ( -11.42)\n"
     ]
    },
    {
     "data": {
      "image/png": "[encoded data removed]",
      "text/plain": [
       "<Figure size 504x756 with 2 Axes>"
      ]
     },
     "metadata": {},
     "output_type": "display_data"
    }
   ],
   "source": [
    "import random\n",
    "\n",
    "xs, ys = next(iter(test_dl))\n",
    "\n",
    "idx = random.randint(0, len(xs))\n",
    "x = xs[idx]\n",
    "y = ys[idx]\n",
    "\n",
    "model = nonfed_alldata_mgr.model\n",
    "#model = Net()\n",
    "model = model.cpu()\n",
    "\n",
    "with torch.no_grad():\n",
    "    log_preds = model(xs)\n",
    "\n",
    "#pp.pprint(log_preds[0])\n",
    "#print('log_preds[0].argmax():', log_preds[0].argmax())\n",
    "#print('log_preds[0][logpreds[0].argmax()]:', log_preds[0][log_preds[0].argmax()])\n",
    "\n",
    "show_prediction(x, log_preds[idx], y)\n",
    "\n",
    "#print(log_preds[0].tolist())\n",
    "\n",
    "pred_vals = sorted(zip(range(10), log_preds[0].tolist()), key=lambda item: item[1], reverse=True)\n",
    "\n",
    "#pp.pprint(pred_vals)\n",
    "\n",
    "print('Actual Digit   : {:d}'.format(y.item()))\n",
    "print('Predicted Digit: {:d} ({:+7.2f})'.format(pred_vals[0][0], pred_vals[0][1]))\n",
    "print('Nearest Digit  : {:d} ({:+7.2f})'.format(pred_vals[1][0], pred_vals[1][1]))\n",
    "print('Farthest Digit : {:d} ({:+7.2f})'.format(pred_vals[9][0], pred_vals[9][1]))"
   ]
  },
  {
   "cell_type": "code",
   "execution_count": null,
   "metadata": {},
   "outputs": [],
   "source": []
  },
  {
   "cell_type": "code",
   "execution_count": 53,
   "metadata": {},
   "outputs": [
    {
     "name": "stdout",
     "output_type": "stream",
     "text": [
      "['5' '0' '4' ... '4' '5' '6']\n"
     ]
    }
   ],
   "source": [
    "from sklearn.datasets import fetch_openml\n",
    "mnist = fetch_openml(\"mnist_784\", data_home=\"./scikit_learn_data/\")\n",
    "\n",
    "print(mnist.target)"
   ]
  },
  {
   "cell_type": "code",
   "execution_count": 54,
   "metadata": {},
   "outputs": [
    {
     "name": "stdout",
     "output_type": "stream",
     "text": [
      "['5' '0' '4' ... '4' '5' '6']\n",
      "['class']\n"
     ]
    }
   ],
   "source": [
    "print(mnist.target)\n",
    "print(mnist.target_names)"
   ]
  },
  {
   "cell_type": "code",
   "execution_count": 90,
   "metadata": {},
   "outputs": [
    {
     "name": "stderr",
     "output_type": "stream",
     "text": [
      "/home/ryan/anaconda3/envs/venv/lib/python3.7/site-packages/numba/typed_passes.py:293: NumbaPerformanceWarning: \u001b[1m\n",
      "The keyword argument 'parallel=True' was specified but no transformation for parallel execution was possible.\n",
      "\n",
      "To find out why, try turning on parallel diagnostics, see http://numba.pydata.org/numba-doc/latest/user/parallel.html#diagnostics for help.\n",
      "\u001b[1m\n",
      "File \"../../anaconda3/envs/venv/lib/python3.7/site-packages/umap/nndescent.py\", line 47:\u001b[0m\n",
      "\u001b[1m    @numba.njit(parallel=True)\n",
      "\u001b[1m    def nn_descent(\n",
      "\u001b[0m    \u001b[1m^\u001b[0m\u001b[0m\n",
      "\u001b[0m\n",
      "  state.func_ir.loc))\n"
     ]
    },
    {
     "data": {
      "text/plain": [
       "<module 'matplotlib.pyplot' from '/home/ryan/anaconda3/envs/venv/lib/python3.7/site-packages/matplotlib/pyplot.py'>"
      ]
     },
     "execution_count": 90,
     "metadata": {},
     "output_type": "execute_result"
    },
    {
     "data": {
      "image/png": "[encoded data removed]",
      "text/plain": [
       "<Figure size 864x720 with 1 Axes>"
      ]
     },
     "metadata": {},
     "output_type": "display_data"
    }
   ],
   "source": [
    "import umap\n",
    "import matplotlib.pyplot as plt\n",
    "import seaborn as sns\n",
    "\n",
    "sns.set(context=\"paper\", style=\"white\")\n",
    "\n",
    "reducer = umap.UMAP(random_state=42,min_dist=0.8)\n",
    "embedding = reducer.fit_transform(mnist.data)\n",
    "\n",
    "fig, ax = plt.subplots(figsize=(12, 10))\n",
    "plt.scatter(\n",
    "#    embedding[:, 0], embedding[:, 1], c=mnist.target, cmap=\"Spectral\", s=0.1\n",
    "    embedding[:, 0], embedding[:, 1], cmap=\"Spectral\", s=0.1\n",
    ")\n",
    "plt.setp(ax, xticks=[], yticks=[])\n",
    "plt.title(\"MNIST data embedded into two dimensions by UMAP 0.8\", fontsize=18)\n",
    "\n",
    "plt"
   ]
  },
  {
   "cell_type": "raw",
   "metadata": {},
   "source": []
  }
 ],
 "metadata": {
  "kernelspec": {
   "display_name": "Python 3",
   "language": "python",
   "name": "python3"
  },
  "language_info": {
   "codemirror_mode": {
    "name": "ipython",
    "version": 3
   },
   "file_extension": ".py",
   "mimetype": "text/x-python",
   "name": "python",
   "nbconvert_exporter": "python",
   "pygments_lexer": "ipython3",
   "version": "3.7.6"
  }
 },
 "nbformat": 4,
 "nbformat_minor": 2
}
