{
 "cells": [
  {
   "cell_type": "code",
   "execution_count": 1,
   "metadata": {},
   "outputs": [],
   "source": [
    "import torch.nn as nn\n",
    "import torch.nn.functional as F\n",
    "import torch.optim\n",
    "\n",
    "class FederatedManager:\n",
    "\n",
    "    def __init__(self, \n",
    "                 name,\n",
    "                 dataloaders, \n",
    "                 test,\n",
    "                 make_model,\n",
    "                 loss_fn=nn.CrossEntropyLoss(), \n",
    "                 n_epochs=1, \n",
    "                 lr=1e-2, \n",
    "                 verbose=False, \n",
    "                 *args, **kwargs):\n",
    "        \n",
    "        self.dataloaders = dataloaders\n",
    "        self.n_workers = len(dataloaders)\n",
    "        self.n_epochs = n_epochs\n",
    "        self.lr = lr\n",
    "        self.verbose = verbose\n",
    "        self.name = name\n",
    "        self.history = {\"test_loss\": [], \"test_acc\": []}\n",
    "        self.make_model = make_model\n",
    "        self.model = self.make_model()\n",
    "        self.model.train(False)\n",
    "        self.loss_fn = loss_fn\n",
    "        self.Xtest, self.ytest = consume_dataset(test)\n",
    "        self.workers = []\n",
    "        for i, dl in enumerate(dataloaders):\n",
    "            self.workers.append(FederatedWorker(i, \n",
    "                                                self, \n",
    "                                                dl, \n",
    "                                                loss_fn,\n",
    "                                                n_epochs=n_epochs, \n",
    "                                                lr=lr, \n",
    "                                                verbose=verbose,\n",
    "                                                *args,\n",
    "                                                **kwargs))\n",
    "        self.worker_loss_histories = [[] for _ in self.workers]\n",
    "\n",
    "    def round(self):\n",
    "        \"\"\"\n",
    "        Do a round of federated learning:\n",
    "         - instruct each worker to train and return its model\n",
    "         - replace the server model the weighted average of the worker models\n",
    "         - replace the worker models with the server model\n",
    "        Workers with `participant=False` train but are not included in the\n",
    "        weighted average and do not receive a copy of the server model.\n",
    "        \"\"\"\n",
    "        updates = [w.train() for w in self.workers]\n",
    "        self.fedavg(\n",
    "            [u for u, w in zip(updates, self.workers) if w.participant]\n",
    "        )\n",
    "        self.push_model(w for w in self.workers if w.participant)\n",
    "        self.record_loss()\n",
    "\n",
    "    def fedavg(self, updates):\n",
    "        \"\"\"\n",
    "        Replace the manager model with the weighted average of the node models.\n",
    "        \"\"\"\n",
    "        N = sum(u[\"n_samples\"] for u in updates)\n",
    "        for key, value in self.model.state_dict().items():\n",
    "            weight_sum = (\n",
    "                u[\"state_dict\"][key] * u[\"n_samples\"] for u in updates\n",
    "            )\n",
    "            value[:] = sum(weight_sum) / N\n",
    "\n",
    "    def push_model(self, workers):\n",
    "        \"\"\"\n",
    "        Push manager model to a list of workers.\n",
    "        \"\"\"\n",
    "        for worker in workers:\n",
    "            worker.model = self.copy_model()\n",
    "\n",
    "    def copy_model(self):\n",
    "        \"\"\"\n",
    "        Return a copy of the current manager model.\n",
    "        \"\"\"\n",
    "        model_copy = self.make_model()\n",
    "        model_copy.load_state_dict(self.model.state_dict())\n",
    "        return model_copy\n",
    "\n",
    "    def evaluate_model(self, model=None):\n",
    "        \"\"\"\n",
    "        Compute the loss and accuracy of model on test set.\n",
    "        \"\"\"\n",
    "        model = model or self.model\n",
    "        was_training = model.training\n",
    "        model.train(False)\n",
    "        with torch.no_grad():\n",
    "            output = model(self.Xtest)\n",
    "            loss = self.loss_fn(output, self.ytest).item()\n",
    "            pred = output.argmax(dim=1, keepdim=True)\n",
    "            correct = pred.eq(self.ytest.view_as(pred)).sum().item()\n",
    "        model.train(was_training)\n",
    "        return loss, 100. * correct / len(self.ytest)\n",
    "\n",
    "    def record_loss(self):\n",
    "        \"\"\"\n",
    "        Record loss of manager model and all worker models on test set.\n",
    "        \"\"\"\n",
    "        loss_accuracy = self.evaluate_model()\n",
    "        self.history[\"test_loss\"].append(loss_accuracy[0])\n",
    "        self.history[\"test_acc\"].append(loss_accuracy[1])"
   ]
  },
  {
   "cell_type": "code",
   "execution_count": 2,
   "metadata": {},
   "outputs": [],
   "source": [
    "class FederatedWorker:\n",
    "\n",
    "    def __init__(\n",
    "        self, name, manager, dataloader, loss_fn, n_epochs=1, lr=1e-2,\n",
    "        momentum=0.5, participant=True, verbose=False\n",
    "    ):\n",
    "        self.name = name\n",
    "        self.manager = manager\n",
    "        self.dataloader = dataloader\n",
    "        self.n_epochs = n_epochs\n",
    "        self.loss_fn = loss_fn\n",
    "        self.participant = participant\n",
    "        self.model = manager.copy_model()\n",
    "        self.n_samples = len(self.dataloader.dataset)\n",
    "        self.history = {\"train_loss\": [], \"test_loss\": [], \"test_acc\": []}\n",
    "        self.lr = lr\n",
    "        self.momentum = momentum\n",
    "        self.verbose = verbose\n",
    "\n",
    "    def train(self):\n",
    "        \"\"\"\n",
    "        Train for n_epochs, then return the state dictionary of the model and\n",
    "        the amount of training data used.\n",
    "        \"\"\"\n",
    "        optimizer = torch.optim.SGD(self.model.parameters(), lr=self.lr,\n",
    "                                    momentum=self.momentum)\n",
    "        self.model.train(True)\n",
    "        for epoch in range(self.n_epochs):\n",
    "            for i, (x, y) in enumerate(self.dataloader):\n",
    "                optimizer.zero_grad()\n",
    "                ypred = self.model(x)\n",
    "                train_loss = self.loss_fn(ypred, y)\n",
    "                train_loss.backward()\n",
    "                optimizer.step()\n",
    "                self.history[\"train_loss\"].append(train_loss.item())\n",
    "\n",
    "        loss_accuracy = self.manager.evaluate_model(self.model)\n",
    "        self.history[\"test_loss\"].append(loss_accuracy[0])\n",
    "        self.history[\"test_acc\"].append(loss_accuracy[1])\n",
    "        \n",
    "        if(self.verbose):\n",
    "            print(\n",
    "                '\\twrkr {}\\t\\tloss: {:.4f}\\tacc: {:.2%}'.format(\n",
    "                    self.name,\n",
    "                    self.history[\"test_loss\"][-1],\n",
    "                    self.history[\"test_acc\"][-1] / 100,\n",
    "                )\n",
    "            )\n",
    "\n",
    "        return {\n",
    "            \"state_dict\": self.model.state_dict(),\n",
    "            \"n_samples\": self.n_samples\n",
    "        }"
   ]
  },
  {
   "cell_type": "code",
   "execution_count": 3,
   "metadata": {},
   "outputs": [],
   "source": [
    "'''   \n",
    "\n",
    "# THIS IS THE OFFICIAL PYTORCH EXAMPLE, BUT IT'S SLOWER THAN THE OTHER MODEL, SO FOR NOW, IT'S FAST BEFORE TIDY\n",
    "\n",
    "class Net(nn.Module):\n",
    "    def __init__(self):\n",
    "        super(Net, self).__init__()\n",
    "        self.conv1 = nn.Conv2d(1, 32, 3, 1)\n",
    "        self.conv2 = nn.Conv2d(32, 64, 3, 1)\n",
    "        self.dropout1 = nn.Dropout2d(0.25)\n",
    "        self.dropout2 = nn.Dropout2d(0.5)\n",
    "        self.fc1 = nn.Linear(9216, 128)\n",
    "        self.fc2 = nn.Linear(128, 10)\n",
    "\n",
    "    def forward(self, x):\n",
    "        x = self.conv1(x)\n",
    "        x = F.relu(x)\n",
    "        x = self.conv2(x)\n",
    "        x = F.max_pool2d(x, 2)\n",
    "        x = self.dropout1(x)\n",
    "        x = torch.flatten(x, 1)\n",
    "        x = self.fc1(x)\n",
    "        x = F.relu(x)\n",
    "        x = self.dropout2(x)\n",
    "        x = self.fc2(x)\n",
    "        output = F.log_softmax(x, dim=1)\n",
    "        return output\n",
    "'''\n",
    "\n",
    "# Quick and gets the job done well enough for testing\n",
    "class Net(nn.Module):\n",
    "    def __init__(self):\n",
    "        super(Net, self).__init__()\n",
    "        self.fc1 = nn.Linear(28*28, 500)\n",
    "        self.fc2 = nn.Linear(500, 256)\n",
    "        self.fc3 = nn.Linear(256, 10)\n",
    "    def forward(self, x):\n",
    "        x = x.view(-1, 28*28)\n",
    "        x = nn.functional.relu(self.fc1(x))\n",
    "        x = nn.functional.relu(self.fc2(x))\n",
    "        x = self.fc3(x)\n",
    "        return x\n",
    "#'''"
   ]
  },
  {
   "cell_type": "code",
   "execution_count": 4,
   "metadata": {},
   "outputs": [],
   "source": [
    "from torch.utils.data import Subset\n",
    "\n",
    "def make_fed_dloaders(dset, p=None, batch_size=64, shuffle=True):\n",
    "    \n",
    "    return [DataLoader(dset, batch_size, shuffle) for dset in make_fed_dsets(dset, p=p)]\n",
    "    \n",
    "def make_fed_dsets(dset, p=None):\n",
    "    _, y = consume_dataset(dset)\n",
    "    classes = set(y.numpy())\n",
    "    n_classes = len(classes)\n",
    "    idx_dset = index_to_dataset(y, p=p)\n",
    "    dset_idx = [np.where(idx_dset == di)[0] for di in range(n_classes)]\n",
    "    return [Subset(dset, di) for di in dset_idx]\n",
    "\n",
    "def index_to_dataset(y, p=None):\n",
    "    classes = set(y.numpy())\n",
    "    n_classes = len(classes)\n",
    "    p = p or 1/n_classes\n",
    "    pnot = (1-p)/(n_classes-1)\n",
    "    ps = np.full((n_classes, n_classes), pnot)\n",
    "    np.fill_diagonal(ps, p)\n",
    "    return np.array([np.random.choice(10, p=ps[yi]) for yi in y])\n",
    "\n",
    "def check_dsets(dsets):\n",
    "    for dset in dsets:\n",
    "        _, y = consume_dataset(dset)\n",
    "        print(Counter(y.numpy()))\n",
    "\n",
    "def eval_new_mgr(name, train_dset, test_dset, p=0.0, n_rounds=50, target_acc=None, net=Net):\n",
    "    dls = make_fed_dloaders(train_dset, p=p)\n",
    "    mgr = FederatedManager(name, dls, test_dset, net)\n",
    "    run_mgr(mgr, n_rounds, target_acc)\n",
    "    plot_mgr(mgr)\n",
    "    return mgr"
   ]
  },
  {
   "cell_type": "code",
   "execution_count": 5,
   "metadata": {},
   "outputs": [],
   "source": [
    "#%matplotlib inline\n",
    "import matplotlib\n",
    "import matplotlib.pyplot as plt\n",
    "from tqdm.notebook import tqdm\n",
    "from tqdm.notebook import trange\n",
    "from collections import Counter\n",
    "import numpy as np\n",
    "\n",
    "def plot_digit_histogram(dls, title=''):\n",
    "    fig, ax = plt.subplots()\n",
    "    ax.set_title(title)\n",
    "    ax.xaxis.set_major_locator(plt.MultipleLocator(1))\n",
    "    ax.set_ylabel('Digit Samples')\n",
    "    ax.set_xlabel('Digit')\n",
    "    \n",
    "    ys = []\n",
    "    for dset in tqdm([dl.dataset for dl in dls], desc='Tabulating datasets'):\n",
    "        _, y = consume_dataset(dset)\n",
    "        ys.append(sorted(Counter(y)))\n",
    "        \n",
    "    H = ax.hist(ys, bins=range(11), histtype='bar', align='left', rwidth=0.8)\n",
    "\n",
    "def consume_dataset(dataset):\n",
    "    data = list(zip(*dataset))\n",
    "    X = torch.stack(data[0])\n",
    "    y = torch.tensor(data[1])\n",
    "    return X, y"
   ]
  },
  {
   "cell_type": "code",
   "execution_count": 6,
   "metadata": {},
   "outputs": [],
   "source": [
    "def run_mgr(mgr, n_rounds=10, target_acc=None):\n",
    "    \n",
    "    target_met = False;\n",
    "    \n",
    "    if (target_acc):\n",
    "        print('{} manager training with {} worker(s) for up to {} rounds or {:.2%} accuracy.'.format(\n",
    "                mgr.name, mgr.n_workers, n_rounds, target_acc / 100,))\n",
    "    else:\n",
    "        print('{} manager training with {} worker(s) for {} rounds.'.format(\n",
    "                mgr.name, mgr.n_workers, n_rounds,))\n",
    "\n",
    "    for i in trange(n_rounds, desc='Rounds'):\n",
    "        if(mgr.verbose):\n",
    "            print('Round', i)\n",
    "        mgr.round()\n",
    "        if(mgr.verbose):\n",
    "            print('\\tcombined\\tloss: {:.4f}\\tacc: {:.2%}\\n'.format(\n",
    "                mgr.history['test_loss'][-1], mgr.history['test_acc'][-1] / 100,))\n",
    "            \n",
    "        if(target_acc and (mgr.history['test_acc'][-1] >= target_acc)):\n",
    "            target_met = True\n",
    "            break;\n",
    "\n",
    "    if(target_met):\n",
    "        print('{} manager stopped: met accuracy target of {:.2%} after {} rounds. (Test accuracy {:.2%} and loss {:.4f}.)'.format(\n",
    "                mgr.name, target_acc / 100, len(mgr.history['test_acc']), mgr.history['test_acc'][-1] / 100, mgr.history['test_loss'][-1],))\n",
    "    else:\n",
    "        print('{} manager trained {} rounds. (Test accuracy {:.2%} and loss {:.4f}.)'.format(\n",
    "                mgr.name, len(mgr.history['test_acc']), mgr.history['test_acc'][-1] / 100, mgr.history['test_loss'][-1],))\n",
    "\n",
    "def plot_mgr(mgrs, plot_workers=False):\n",
    "    \n",
    "    if not isinstance(mgrs, list):\n",
    "        mgrs = [mgrs]\n",
    "    \n",
    "    fig, ax = plt.subplots()\n",
    "    for m in mgrs:\n",
    "        ax.plot(m.history['test_loss'], label=m.name)\n",
    "        if(plot_workers):\n",
    "            for w in m.workers:\n",
    "                ax.plot(w.history['test_loss'], label=(m.name, 'Worker ' + str(w.name)))\n",
    "    ax.set_xlabel(\"Round\")\n",
    "    ax.set_ylabel(\"Loss\")\n",
    "    ax.legend();\n",
    "    \n",
    "    fig, ax = plt.subplots()\n",
    "    for m in mgrs:\n",
    "        ax.plot(m.history['test_acc'], label=m.name)\n",
    "        if(plot_workers):\n",
    "            for w in m.workers:\n",
    "                ax.plot(w.history['test_acc'], label=(m.name, 'worker ' + str(w.name)))\n",
    "    ax.set_xlabel(\"Round\")\n",
    "    ax.set_ylabel(\"Accuracy\")\n",
    "    ax.legend();\n",
    "\n",
    "    "
   ]
  },
  {
   "cell_type": "code",
   "execution_count": 195,
   "metadata": {},
   "outputs": [],
   "source": [
    "def show_prediction(img, preds, correct_idx):\n",
    "    \n",
    "    preds = preds.data.numpy().squeeze()\n",
    "    \n",
    "    colors = ['blue'] * len(preds)\n",
    "    colors[preds.argmax()] = 'red'\n",
    "    colors[correct_idx] = 'green'\n",
    "\n",
    "    fig, (ax1, ax2) = plt.subplots(figsize=(6,9), ncols=2)\n",
    "    ax1.imshow(img.resize_(1, 28, 28).numpy().squeeze())\n",
    "\n",
    "    ax2.bar(range(10), preds, color=colors)\n",
    "    ax2.set_aspect(0.25)\n",
    "    ax2.set_xticks(range(10))\n",
    "    ax2.set_xticklabels(range(10))\n",
    "    ax2.set_title('log(likelihood)')\n",
    "    ax2.set_ylim(-20, 20)\n",
    "    plt.tight_layout()\n",
    "\n",
    "def get_eval_set(mgr):\n",
    "    with torch.no_grad():\n",
    "        output = mgr.model(mgr.Xtest)\n",
    "    preds = output.argmax(dim=1, keepdim=True)\n",
    "    return [{'x':mgr.Xtest[i],\n",
    "             'probs':output[i],\n",
    "             'pred':preds[i].item(),\n",
    "             'y':mgr.ytest[i].item(),\n",
    "             } for i in range(len(mgr.Xtest))]\n",
    "\n",
    "def confusion_matrix(eval_set, norm=False, mirror=False):\n",
    "    cm = np.zeros((10, 10))\n",
    "    for ev in eval_set:\n",
    "        cm[ev['y']][ev['pred']] += 1\n",
    "        if mirror:\n",
    "            cm[ev['pred']][ev['y']] += 1 # will amplify errors and remove directionality of error\n",
    "    if norm:\n",
    "        cm /=  cm.sum(axis=1)[:,np.newaxis]\n",
    "    return cm\n",
    "\n",
    "def show_model_confusion(mgr):\n",
    "    eval_set = get_eval_set(mgr)\n",
    "    misses = [ev for ev in eval_set if (ev['y'] != ev['pred'])]\n",
    "    cm = confusion_matrix(misses, norm=False, mirror=True)\n",
    "    #cm = np.log1p(cm)\n",
    "    #print(np.array_str(cm, precision=4, suppress_small=True))\n",
    "    plt.imshow(cm)\n",
    "    plt.tight_layout()\n",
    "    \n",
    "def count_dsets(dsets, show_array=False, show_heatmap=False):\n",
    "    cts = []\n",
    "    for dset in tqdm(dsets, desc='Counting examples'):\n",
    "        _, y = consume_dataset(dset)\n",
    "        c = Counter(y.numpy())\n",
    "        #print([c[i] for i in range(len(c))])\n",
    "        cts.append([c[i] for i in range(len(c))])\n",
    "    \n",
    "    cts = np.array(cts)\n",
    "    \n",
    "    if show_array:\n",
    "        print(cts)\n",
    "        \n",
    "    if show_heatmap:\n",
    "        plt.imshow(np.log1p(cts), norm=plt.Normalize(vmin= 0.0, vmax=np.log1p(cts.sum())));\n",
    "        plt.tight_layout();\n",
    "        \n",
    "    return np.array(cts)"
   ]
  },
  {
   "cell_type": "markdown",
   "metadata": {},
   "source": [
    "# Common Data and Hyperparameters"
   ]
  },
  {
   "cell_type": "code",
   "execution_count": 8,
   "metadata": {},
   "outputs": [],
   "source": [
    "import torchvision.datasets as dsets\n",
    "import torchvision.transforms as transforms\n",
    "\n",
    "data_path = './MNIST-data/raw'\n",
    "\n",
    "trans = transforms.Compose([transforms.ToTensor(), transforms.Normalize((0.1307,), (0.3081,))])\n",
    "\n",
    "train_dset = dsets.MNIST(root=data_path, download=True, train=True, transform=trans)\n",
    "test_dset = dsets.MNIST(root=data_path, download=True, train=False, transform=trans)"
   ]
  },
  {
   "cell_type": "code",
   "execution_count": 128,
   "metadata": {},
   "outputs": [],
   "source": [
    "from torch.utils.data import DataLoader\n",
    "\n",
    "train_batch_size = 256\n",
    "test_batch_size = 1000\n",
    "\n",
    "# create standard dataloaders using all of the MNIST data\n",
    "train_dl = DataLoader(train_dset, batch_size=train_batch_size, shuffle=True)\n",
    "test_dl = DataLoader(test_dset, batch_size=test_batch_size, shuffle=True)"
   ]
  },
  {
   "cell_type": "code",
   "execution_count": 137,
   "metadata": {},
   "outputs": [],
   "source": [
    "# default training targets\n",
    "default_n_rounds = 10\n",
    "default_target_acc = 95.0"
   ]
  },
  {
   "cell_type": "markdown",
   "metadata": {},
   "source": [
    "# Non-Federated"
   ]
  },
  {
   "cell_type": "code",
   "execution_count": 147,
   "metadata": {},
   "outputs": [
    {
     "data": {
      "application/vnd.jupyter.widget-view+json": {
       "model_id": "4e3a646c2b6149daa5e1d8eea630e461",
       "version_major": 2,
       "version_minor": 0
      },
      "text/plain": [
       "HBox(children=(IntProgress(value=0, description='Tabulating datasets', max=2, style=ProgressStyle(description_…"
      ]
     },
     "metadata": {},
     "output_type": "display_data"
    },
    {
     "name": "stdout",
     "output_type": "stream",
     "text": [
      "\n"
     ]
    },
    {
     "data": {
      "image/png": "[encoded data removed]",
      "text/plain": [
       "<Figure size 432x288 with 1 Axes>"
      ]
     },
     "metadata": {
      "needs_background": "light"
     },
     "output_type": "display_data"
    }
   ],
   "source": [
    "plot_digit_histogram([train_dl, test_dl], 'MNIST Complete Datasets')"
   ]
  },
  {
   "cell_type": "code",
   "execution_count": 148,
   "metadata": {},
   "outputs": [
    {
     "data": {
      "application/vnd.jupyter.widget-view+json": {
       "model_id": "64e5631750ca45f180df624f8f205e2f",
       "version_major": 2,
       "version_minor": 0
      },
      "text/plain": [
       "HBox(children=(IntProgress(value=0, description='Counting examples', max=1, style=ProgressStyle(description_wi…"
      ]
     },
     "metadata": {},
     "output_type": "display_data"
    },
    {
     "name": "stdout",
     "output_type": "stream",
     "text": [
      "\n",
      "[[5923 6742 5958 6131 5842 5421 5918 6265 5851 5949]]\n"
     ]
    },
    {
     "data": {
      "image/png": "[encoded data removed]",
      "text/plain": [
       "<Figure size 432x288 with 1 Axes>"
      ]
     },
     "metadata": {
      "needs_background": "light"
     },
     "output_type": "display_data"
    }
   ],
   "source": [
    "train_counts = count_dsets([train_dl.dataset], array=True, heatmap=True)"
   ]
  },
  {
   "cell_type": "code",
   "execution_count": 149,
   "metadata": {},
   "outputs": [
    {
     "name": "stdout",
     "output_type": "stream",
     "text": [
      "Non-Federated Full Dataset manager training with 1 worker(s) for up to 10 rounds or 95.00% accuracy.\n"
     ]
    },
    {
     "data": {
      "application/vnd.jupyter.widget-view+json": {
       "model_id": "fef953a677e54a6f8dfd8fccf1b5831f",
       "version_major": 2,
       "version_minor": 0
      },
      "text/plain": [
       "HBox(children=(IntProgress(value=0, description='Rounds', max=10, style=ProgressStyle(description_width='initi…"
      ]
     },
     "metadata": {},
     "output_type": "display_data"
    },
    {
     "name": "stdout",
     "output_type": "stream",
     "text": [
      "Non-Federated Full Dataset manager stopped: met accuracy target of 95.00% after 9 rounds. (Test accuracy 95.10% and loss 0.1695.)\n"
     ]
    },
    {
     "data": {
      "image/png": "[encoded data removed]",
      "text/plain": [
       "<Figure size 432x288 with 1 Axes>"
      ]
     },
     "metadata": {
      "needs_background": "light"
     },
     "output_type": "display_data"
    },
    {
     "data": {
      "image/png": "[encoded data removed]",
      "text/plain": [
       "<Figure size 432x288 with 1 Axes>"
      ]
     },
     "metadata": {
      "needs_background": "light"
     },
     "output_type": "display_data"
    }
   ],
   "source": [
    "nonfed_alldata_mgr = FederatedManager('Non-Federated Full Dataset', [train_dl], test_dset, Net)\n",
    "\n",
    "run_mgr(nonfed_alldata_mgr, default_n_rounds, target_acc=default_target_acc)\n",
    "\n",
    "plot_mgr(nonfed_alldata_mgr)"
   ]
  },
  {
   "cell_type": "markdown",
   "metadata": {},
   "source": [
    "# The Federated Approach\n",
    "\n",
    "## Ten Equal Workers"
   ]
  },
  {
   "cell_type": "code",
   "execution_count": 150,
   "metadata": {},
   "outputs": [
    {
     "data": {
      "application/vnd.jupyter.widget-view+json": {
       "model_id": "3b19ac7ce4874304977ae925f54a05f8",
       "version_major": 2,
       "version_minor": 0
      },
      "text/plain": [
       "HBox(children=(IntProgress(value=0, description='Tabulating datasets', max=10, style=ProgressStyle(description…"
      ]
     },
     "metadata": {},
     "output_type": "display_data"
    },
    {
     "name": "stdout",
     "output_type": "stream",
     "text": [
      "\n"
     ]
    },
    {
     "data": {
      "image/png": "[encoded data removed]",
      "text/plain": [
       "<Figure size 432x288 with 1 Axes>"
      ]
     },
     "metadata": {
      "needs_background": "light"
     },
     "output_type": "display_data"
    }
   ],
   "source": [
    "fed_equal_dls = make_fed_dloaders(train_dset)\n",
    "\n",
    "plot_digit_histogram(fed_equal_dls, 'Digit Counts per Dataloader')"
   ]
  },
  {
   "cell_type": "code",
   "execution_count": 151,
   "metadata": {},
   "outputs": [
    {
     "name": "stdout",
     "output_type": "stream",
     "text": [
      "Federated Unbiased manager training with 10 worker(s) for up to 10 rounds or 95.00% accuracy.\n"
     ]
    },
    {
     "data": {
      "application/vnd.jupyter.widget-view+json": {
       "model_id": "1b7345327cc34b3eba2eabc3038ba0fd",
       "version_major": 2,
       "version_minor": 0
      },
      "text/plain": [
       "HBox(children=(IntProgress(value=0, description='Rounds', max=10, style=ProgressStyle(description_width='initi…"
      ]
     },
     "metadata": {},
     "output_type": "display_data"
    },
    {
     "name": "stdout",
     "output_type": "stream",
     "text": [
      "\n",
      "Federated Unbiased manager trained 10 rounds. (Test accuracy 92.71% and loss 0.2481.)\n"
     ]
    }
   ],
   "source": [
    "fed_equal_mgr = FederatedManager('Federated Unbiased', fed_equal_dls, test_dset, Net)\n",
    "\n",
    "run_mgr(fed_equal_mgr, default_n_rounds, default_target_acc)"
   ]
  },
  {
   "cell_type": "code",
   "execution_count": 153,
   "metadata": {},
   "outputs": [
    {
     "data": {
      "image/png": "[encoded data removed]",
      "text/plain": [
       "<Figure size 432x288 with 1 Axes>"
      ]
     },
     "metadata": {
      "needs_background": "light"
     },
     "output_type": "display_data"
    },
    {
     "data": {
      "image/png": "[encoded data removed]",
      "text/plain": [
       "<Figure size 432x288 with 1 Axes>"
      ]
     },
     "metadata": {
      "needs_background": "light"
     },
     "output_type": "display_data"
    }
   ],
   "source": [
    "plot_mgr([nonfed_alldata_mgr, fed_equal_mgr])"
   ]
  },
  {
   "cell_type": "markdown",
   "metadata": {},
   "source": [
    "# Federation with Varying Example Distributions Per Worker\n",
    "\n",
    "\n",
    "## Spliting the Decks into Uneven Piles"
   ]
  },
  {
   "cell_type": "code",
   "execution_count": 154,
   "metadata": {},
   "outputs": [
    {
     "data": {
      "application/vnd.jupyter.widget-view+json": {
       "model_id": "4af01700de7c4bb1bcfa921f2c2bccf4",
       "version_major": 2,
       "version_minor": 0
      },
      "text/plain": [
       "HBox(children=(IntProgress(value=0, description='Tabulating datasets', max=10, style=ProgressStyle(description…"
      ]
     },
     "metadata": {},
     "output_type": "display_data"
    },
    {
     "name": "stdout",
     "output_type": "stream",
     "text": [
      "\n"
     ]
    },
    {
     "data": {
      "image/png": "[encoded data removed]",
      "text/plain": [
       "<Figure size 432x288 with 1 Axes>"
      ]
     },
     "metadata": {
      "needs_background": "light"
     },
     "output_type": "display_data"
    }
   ],
   "source": [
    "fed_weighted_dls = make_fed_dloaders(train_dset, p=0.4)\n",
    "plot_digit_histogram(fed_weighted_dls)"
   ]
  },
  {
   "cell_type": "code",
   "execution_count": 155,
   "metadata": {},
   "outputs": [
    {
     "name": "stdout",
     "output_type": "stream",
     "text": [
      "Counter({0: 2340, 1: 465, 7: 434, 2: 427, 3: 406, 6: 404, 4: 386, 9: 375, 5: 354, 8: 352})\n",
      "Counter({1: 2665, 3: 431, 7: 426, 6: 409, 4: 405, 0: 404, 9: 403, 2: 403, 8: 386, 5: 351})\n",
      "Counter({2: 2400, 1: 453, 7: 443, 3: 421, 9: 420, 0: 417, 6: 397, 8: 392, 5: 349, 4: 342})\n",
      "Counter({3: 2400, 1: 453, 9: 434, 8: 422, 2: 405, 6: 388, 4: 384, 5: 384, 7: 376, 0: 359})\n",
      "Counter({4: 2360, 0: 445, 7: 440, 1: 427, 8: 422, 6: 418, 2: 410, 9: 408, 3: 403, 5: 339})\n",
      "Counter({5: 2242, 1: 467, 6: 418, 9: 417, 3: 408, 7: 402, 4: 394, 2: 390, 8: 377, 0: 369})\n",
      "Counter({6: 2289, 1: 453, 4: 431, 7: 425, 9: 412, 0: 409, 3: 408, 2: 384, 8: 362, 5: 359})\n",
      "Counter({7: 2455, 1: 458, 2: 396, 0: 391, 3: 391, 8: 383, 6: 382, 9: 375, 5: 350, 4: 345})\n",
      "Counter({8: 2380, 1: 464, 3: 437, 7: 433, 4: 412, 0: 404, 6: 403, 2: 388, 9: 375, 5: 333})\n",
      "Counter({9: 2330, 1: 437, 7: 431, 3: 426, 6: 410, 0: 385, 4: 383, 8: 375, 5: 360, 2: 355})\n"
     ]
    }
   ],
   "source": [
    "check_dsets([dl.dataset for dl in fed_weighted_dls])"
   ]
  },
  {
   "cell_type": "code",
   "execution_count": 156,
   "metadata": {},
   "outputs": [
    {
     "data": {
      "application/vnd.jupyter.widget-view+json": {
       "model_id": "62d960967c1343fe8d50224a58aab51d",
       "version_major": 2,
       "version_minor": 0
      },
      "text/plain": [
       "HBox(children=(IntProgress(value=0, description='Counting examples', max=10, style=ProgressStyle(description_w…"
      ]
     },
     "metadata": {},
     "output_type": "display_data"
    },
    {
     "name": "stdout",
     "output_type": "stream",
     "text": [
      "\n"
     ]
    },
    {
     "data": {
      "text/plain": [
       "array([[581, 643, 600, 600, 576, 571, 587, 655, 605, 578],\n",
       "       [620, 681, 565, 649, 554, 531, 601, 602, 600, 602],\n",
       "       [583, 669, 597, 598, 610, 483, 582, 604, 623, 584],\n",
       "       [632, 711, 671, 638, 593, 565, 621, 641, 599, 588],\n",
       "       [531, 665, 611, 555, 600, 554, 558, 607, 571, 569],\n",
       "       [565, 703, 583, 619, 581, 536, 581, 611, 580, 606],\n",
       "       [593, 663, 568, 632, 548, 534, 598, 601, 554, 596],\n",
       "       [601, 663, 600, 592, 587, 538, 634, 631, 614, 595],\n",
       "       [584, 667, 619, 600, 599, 561, 582, 671, 549, 617],\n",
       "       [633, 677, 544, 648, 594, 548, 574, 642, 556, 614]])"
      ]
     },
     "execution_count": 156,
     "metadata": {},
     "output_type": "execute_result"
    },
    {
     "data": {
      "image/png": "[encoded data removed]",
      "text/plain": [
       "<Figure size 432x288 with 1 Axes>"
      ]
     },
     "metadata": {
      "needs_background": "light"
     },
     "output_type": "display_data"
    }
   ],
   "source": [
    "count_dsets([dl.dataset for dl in fed_equal_dls], show_array=False, show_heatmap=True)"
   ]
  },
  {
   "cell_type": "code",
   "execution_count": 157,
   "metadata": {},
   "outputs": [
    {
     "data": {
      "application/vnd.jupyter.widget-view+json": {
       "model_id": "7fccc40a43db44a5b4ebe39652ad5c34",
       "version_major": 2,
       "version_minor": 0
      },
      "text/plain": [
       "HBox(children=(IntProgress(value=0, description='Counting examples', max=10, style=ProgressStyle(description_w…"
      ]
     },
     "metadata": {},
     "output_type": "display_data"
    },
    {
     "name": "stdout",
     "output_type": "stream",
     "text": [
      "\n"
     ]
    },
    {
     "data": {
      "text/plain": [
       "array([[2340,  465,  427,  406,  386,  354,  404,  434,  352,  375],\n",
       "       [ 404, 2665,  403,  431,  405,  351,  409,  426,  386,  403],\n",
       "       [ 417,  453, 2400,  421,  342,  349,  397,  443,  392,  420],\n",
       "       [ 359,  453,  405, 2400,  384,  384,  388,  376,  422,  434],\n",
       "       [ 445,  427,  410,  403, 2360,  339,  418,  440,  422,  408],\n",
       "       [ 369,  467,  390,  408,  394, 2242,  418,  402,  377,  417],\n",
       "       [ 409,  453,  384,  408,  431,  359, 2289,  425,  362,  412],\n",
       "       [ 391,  458,  396,  391,  345,  350,  382, 2455,  383,  375],\n",
       "       [ 404,  464,  388,  437,  412,  333,  403,  433, 2380,  375],\n",
       "       [ 385,  437,  355,  426,  383,  360,  410,  431,  375, 2330]])"
      ]
     },
     "execution_count": 157,
     "metadata": {},
     "output_type": "execute_result"
    },
    {
     "data": {
      "image/png": "[encoded data removed]",
      "text/plain": [
       "<Figure size 432x288 with 1 Axes>"
      ]
     },
     "metadata": {
      "needs_background": "light"
     },
     "output_type": "display_data"
    }
   ],
   "source": [
    "count_dsets([dl.dataset for dl in fed_weighted_dls], show_array=False, show_heatmap=True)"
   ]
  },
  {
   "cell_type": "code",
   "execution_count": null,
   "metadata": {},
   "outputs": [],
   "source": [
    "fed_weighted_mgr = FederatedManager('Fed Bias', fed_weighted_dls, test_dset, Net)\n",
    "run_mgr(fed_weighted_mgr, default_n_rounds, default_target_acc)\n",
    "plot_mgr(fed_weighted_mgr)"
   ]
  },
  {
   "cell_type": "markdown",
   "metadata": {},
   "source": [
    "# Difficult Decisions\n",
    "\n",
    "These matrices should show us which number pairs our model has trouble discriminating. (Spoiler alert: its 4-9 and 3-5 pairs. The 5-8-9 triplet looks troublesome, too.)"
   ]
  },
  {
   "cell_type": "code",
   "execution_count": null,
   "metadata": {},
   "outputs": [],
   "source": [
    "nonfed_alldata_mgr = FederatedManager('Non-Federated Full Dataset', [train_dl], test_dset, Net)\n",
    "\n",
    "show_model_confusion(nonfed_alldata_mgr)\n",
    "nonfed_alldata_mgr.round()"
   ]
  },
  {
   "cell_type": "code",
   "execution_count": null,
   "metadata": {},
   "outputs": [],
   "source": [
    "show_model_confusion(nonfed_alldata_mgr)\n",
    "nonfed_alldata_mgr.round()"
   ]
  },
  {
   "cell_type": "code",
   "execution_count": null,
   "metadata": {},
   "outputs": [],
   "source": [
    "show_model_confusion(nonfed_alldata_mgr)\n",
    "nonfed_alldata_mgr.round()"
   ]
  },
  {
   "cell_type": "code",
   "execution_count": null,
   "metadata": {},
   "outputs": [],
   "source": [
    "show_model_confusion(nonfed_alldata_mgr)\n",
    "nonfed_alldata_mgr.round()"
   ]
  },
  {
   "cell_type": "code",
   "execution_count": null,
   "metadata": {},
   "outputs": [],
   "source": [
    "show_model_confusion(nonfed_alldata_mgr)\n",
    "nonfed_alldata_mgr.round()"
   ]
  },
  {
   "cell_type": "code",
   "execution_count": null,
   "metadata": {},
   "outputs": [],
   "source": [
    "show_model_confusion(nonfed_alldata_mgr)\n",
    "nonfed_alldata_mgr.round()"
   ]
  },
  {
   "cell_type": "markdown",
   "metadata": {},
   "source": [
    "Let's see whether we can identify which digits give us the most trouble. Looks like 5, 8, and 9 are the most difficult."
   ]
  },
  {
   "cell_type": "code",
   "execution_count": null,
   "metadata": {},
   "outputs": [],
   "source": [
    "eval_set = get_eval_set(nonfed_alldata_mgr)\n",
    "misses = [ev for ev in eval_set if (ev['y'] != ev['pred'])]\n",
    "cm = confusion_matrix(misses, norm=False, mirror=True)\n",
    "\n",
    "print(cm)\n",
    "print(sorted([(cm[i].sum(), i, cm[i].argmax()) for i in range(len(cm))]))"
   ]
  },
  {
   "cell_type": "code",
   "execution_count": null,
   "metadata": {},
   "outputs": [],
   "source": [
    "#TODO - Show the highest confidence picks"
   ]
  },
  {
   "cell_type": "markdown",
   "metadata": {},
   "source": [
    "# Stacking the Deck Differently"
   ]
  },
  {
   "cell_type": "code",
   "execution_count": null,
   "metadata": {},
   "outputs": [],
   "source": [
    "make_fed_dloaders()"
   ]
  },
  {
   "cell_type": "code",
   "execution_count": null,
   "metadata": {},
   "outputs": [],
   "source": [
    "def make_custom_dsets(dset, n_workers=10, biases=[0.0]):\n",
    "    \n",
    "    dsets=[]\n",
    "    \n",
    "    \n",
    "    \n",
    "    return dls"
   ]
  },
  {
   "cell_type": "code",
   "execution_count": null,
   "metadata": {},
   "outputs": [],
   "source": []
  },
  {
   "cell_type": "code",
   "execution_count": 224,
   "metadata": {},
   "outputs": [
    {
     "name": "stdout",
     "output_type": "stream",
     "text": [
      "ps\n",
      " [[         1          1          1          1          1]\n",
      " [         1          1          1          1          1]\n",
      " [         1          1          1          1          1]\n",
      " [         1          1          1          1          1]\n",
      " [1000000000          1          1          1          1]\n",
      " [         1          1          1          1          1]\n",
      " [         1          1          1          1          1]\n",
      " [         1          1          1          1          1]\n",
      " [         1          1          1          1          1]\n",
      " [1000000000          1          1          1          1]]\n",
      "ps\n",
      " [[1.042e-05 2.500e-01 2.500e-01 2.500e-01 2.500e-01]\n",
      " [1.042e-05 2.500e-01 2.500e-01 2.500e-01 2.500e-01]\n",
      " [1.042e-05 2.500e-01 2.500e-01 2.500e-01 2.500e-01]\n",
      " [1.042e-05 2.500e-01 2.500e-01 2.500e-01 2.500e-01]\n",
      " [9.999e-01 2.400e-05 2.400e-05 2.400e-05 2.400e-05]\n",
      " [1.042e-05 2.500e-01 2.500e-01 2.500e-01 2.500e-01]\n",
      " [1.042e-05 2.500e-01 2.500e-01 2.500e-01 2.500e-01]\n",
      " [1.042e-05 2.500e-01 2.500e-01 2.500e-01 2.500e-01]\n",
      " [1.042e-05 2.500e-01 2.500e-01 2.500e-01 2.500e-01]\n",
      " [9.999e-01 2.400e-05 2.400e-05 2.400e-05 2.400e-05]]\n",
      "[1.0, 1.0, 1.0, 1.0, 1.0, 1.0, 1.0, 1.0, 1.0, 1.0]\n",
      "[1.9998913146839232, 2.000027171329019, 2.000027171329019, 2.000027171329019, 2.000027171329019]\n",
      "idx_dset <class 'numpy.ndarray'> 60000 [1 4 0 ... 4 3 3]\n",
      "dset lengths [11790, 11984, 12069, 12004, 12153] = 60000\n",
      "Counter({9: 5949, 4: 5841})\n",
      "Counter({1: 1704, 7: 1574, 6: 1522, 3: 1510, 8: 1472, 0: 1460, 2: 1443, 5: 1299})\n",
      "Counter({1: 1692, 2: 1558, 7: 1555, 3: 1508, 8: 1472, 0: 1466, 6: 1447, 5: 1370, 4: 1})\n",
      "Counter({1: 1663, 7: 1569, 3: 1569, 0: 1496, 2: 1457, 6: 1443, 8: 1435, 5: 1372})\n",
      "Counter({1: 1683, 7: 1567, 3: 1544, 6: 1506, 0: 1501, 2: 1500, 8: 1472, 5: 1380})\n"
     ]
    }
   ],
   "source": [
    "n_workers = 5\n",
    "\n",
    "#_, y = consume_dataset(train_dset)\n",
    "classes = set(y.numpy())\n",
    "n_classes = len(classes)\n",
    "\n",
    "ps = np.array([[1] * n_workers] * n_classes)\n",
    "\n",
    "# Incorporate bias parameters here\n",
    "ps[9][0] = 1e9\n",
    "ps[4][0] = 1e9\n",
    "#ps[2][2] = 7\n",
    "#ps[4][7] = 2\n",
    "\n",
    "print('ps\\n', np.array_str(ps, precision=3))\n",
    "\n",
    "for x in range(10000):\n",
    "    ps = np.transpose(ps)\n",
    "    ps = np.array([ps[i]/ps[i].sum() for i in range(len(ps))])\n",
    "    ps = np.transpose(ps)\n",
    "    ps = np.array([ps[i]/ps[i].sum() for i in range(len(ps))])\n",
    "\n",
    "print('ps\\n', np.array_str(ps, precision=3))\n",
    "print([sum(ps[i]) for i in range(len(ps))])\n",
    "print([sum([ps[j][i]for j in range(len(ps))]) for i in range(len(ps[0]))])\n",
    "\n",
    "'''\n",
    "choices = []\n",
    "for yi in y:\n",
    "    #pyi = ps[yi]\n",
    "    choice = np.random.choice(30, p=ps[0])\n",
    "    #print('y', yi, 'ps[yi]', pyi, 'choice', choice, 'Counts', Counter(choices))\n",
    "    choices.append(choice)\n",
    "\n",
    "idx_dset = np.array(choices)\n",
    "\n",
    "\n",
    "ps = [\n",
    "    [0.133, 0.2, 0.2, 0.2, 0.2],\n",
    "    [0.133, 0.2, 0.2, 0.2, 0.2],\n",
    "    [0.133, 0.2, 0.2, 0.2, 0.2],\n",
    "    [0.133, 0.2, 0.2, 0.2, 0.2],\n",
    "    [0.4, 0.15, 0.15, 0.15, 0.15],\n",
    "    [0.133, 0.2, 0.2, 0.2, 0.2],\n",
    "    [0.133, 0.2, 0.2, 0.2, 0.2],\n",
    "    [0.133, 0.2, 0.2, 0.2, 0.2],\n",
    "    [0.133, 0.2, 0.2, 0.2, 0.2],\n",
    "    [0.4, 0.2, 0.2, 0.2, 0.2],\n",
    "]\n",
    "'''\n",
    "idx_dset = np.array([np.random.choice(n_workers, p=ps[yi]) for yi in y])\n",
    "print('idx_dset', type(idx_dset), len(idx_dset), idx_dset)\n",
    "\n",
    "dset_idx = [np.where(idx_dset == di)[0] for di in range(n_workers)]\n",
    "print('dset lengths', [len(dset_idx[i]) for i in range(len(dset_idx))], '=', sum([len(dset_idx[i]) for i in range(len(dset_idx))]))\n",
    "\n",
    "custom_dsets = [Subset(train_dset, di) for di in dset_idx]\n",
    "\n",
    "check_dsets(custom_dsets)"
   ]
  },
  {
   "cell_type": "code",
   "execution_count": 225,
   "metadata": {},
   "outputs": [],
   "source": [
    "custom_dls = [DataLoader(dset, batch_size=256, shuffle=True) for dset in custom_dsets]"
   ]
  },
  {
   "cell_type": "code",
   "execution_count": 226,
   "metadata": {},
   "outputs": [
    {
     "data": {
      "application/vnd.jupyter.widget-view+json": {
       "model_id": "f3b3760dd02b4792bb61ab6b0fb93194",
       "version_major": 2,
       "version_minor": 0
      },
      "text/plain": [
       "HBox(children=(IntProgress(value=0, description='Tabulating datasets', max=5, style=ProgressStyle(description_…"
      ]
     },
     "metadata": {},
     "output_type": "display_data"
    },
    {
     "name": "stdout",
     "output_type": "stream",
     "text": [
      "\n"
     ]
    },
    {
     "data": {
      "image/png": "[encoded data removed]",
      "text/plain": [
       "<Figure size 432x288 with 1 Axes>"
      ]
     },
     "metadata": {
      "needs_background": "light"
     },
     "output_type": "display_data"
    }
   ],
   "source": [
    "plot_digit_histogram(custom_dls)"
   ]
  },
  {
   "cell_type": "code",
   "execution_count": 227,
   "metadata": {
    "scrolled": false
   },
   "outputs": [
    {
     "data": {
      "application/vnd.jupyter.widget-view+json": {
       "model_id": "9f24eb63b63e4bd892515daa3908213a",
       "version_major": 2,
       "version_minor": 0
      },
      "text/plain": [
       "HBox(children=(IntProgress(value=0, description='Counting examples', max=5, style=ProgressStyle(description_wi…"
      ]
     },
     "metadata": {},
     "output_type": "display_data"
    },
    {
     "name": "stdout",
     "output_type": "stream",
     "text": [
      "\n",
      "[list([0, 0]) list([1460, 1704, 1443, 1510, 0, 1299, 1522, 1574])\n",
      " list([1466, 1692, 1558, 1508, 1, 1370, 1447, 1555, 1472])\n",
      " list([1496, 1663, 1457, 1569, 0, 1372, 1443, 1569])\n",
      " list([1501, 1683, 1500, 1544, 0, 1380, 1506, 1567])]\n"
     ]
    },
    {
     "ename": "AttributeError",
     "evalue": "'list' object has no attribute 'log1p'",
     "output_type": "error",
     "traceback": [
      "\u001b[0;31m---------------------------------------------------------------------------\u001b[0m",
      "\u001b[0;31mAttributeError\u001b[0m                            Traceback (most recent call last)",
      "\u001b[0;32m<ipython-input-227-ab53560d7f12>\u001b[0m in \u001b[0;36m<module>\u001b[0;34m\u001b[0m\n\u001b[0;32m----> 1\u001b[0;31m \u001b[0mcount_dsets\u001b[0m\u001b[0;34m(\u001b[0m\u001b[0;34m[\u001b[0m\u001b[0mdl\u001b[0m\u001b[0;34m.\u001b[0m\u001b[0mdataset\u001b[0m \u001b[0;32mfor\u001b[0m \u001b[0mdl\u001b[0m \u001b[0;32min\u001b[0m \u001b[0mcustom_dls\u001b[0m\u001b[0;34m]\u001b[0m\u001b[0;34m,\u001b[0m \u001b[0mshow_array\u001b[0m\u001b[0;34m=\u001b[0m\u001b[0;32mTrue\u001b[0m\u001b[0;34m,\u001b[0m \u001b[0mshow_heatmap\u001b[0m\u001b[0;34m=\u001b[0m\u001b[0;32mTrue\u001b[0m\u001b[0;34m)\u001b[0m\u001b[0;34m\u001b[0m\u001b[0;34m\u001b[0m\u001b[0m\n\u001b[0m",
      "\u001b[0;32m<ipython-input-195-a066dbecb584>\u001b[0m in \u001b[0;36mcount_dsets\u001b[0;34m(dsets, show_array, show_heatmap)\u001b[0m\n\u001b[1;32m     61\u001b[0m \u001b[0;34m\u001b[0m\u001b[0m\n\u001b[1;32m     62\u001b[0m     \u001b[0;32mif\u001b[0m \u001b[0mshow_heatmap\u001b[0m\u001b[0;34m:\u001b[0m\u001b[0;34m\u001b[0m\u001b[0;34m\u001b[0m\u001b[0m\n\u001b[0;32m---> 63\u001b[0;31m         \u001b[0mplt\u001b[0m\u001b[0;34m.\u001b[0m\u001b[0mimshow\u001b[0m\u001b[0;34m(\u001b[0m\u001b[0mnp\u001b[0m\u001b[0;34m.\u001b[0m\u001b[0mlog1p\u001b[0m\u001b[0;34m(\u001b[0m\u001b[0mcts\u001b[0m\u001b[0;34m)\u001b[0m\u001b[0;34m,\u001b[0m \u001b[0mnorm\u001b[0m\u001b[0;34m=\u001b[0m\u001b[0mplt\u001b[0m\u001b[0;34m.\u001b[0m\u001b[0mNormalize\u001b[0m\u001b[0;34m(\u001b[0m\u001b[0mvmin\u001b[0m\u001b[0;34m=\u001b[0m \u001b[0;36m0.0\u001b[0m\u001b[0;34m,\u001b[0m \u001b[0mvmax\u001b[0m\u001b[0;34m=\u001b[0m\u001b[0mnp\u001b[0m\u001b[0;34m.\u001b[0m\u001b[0mlog1p\u001b[0m\u001b[0;34m(\u001b[0m\u001b[0mcts\u001b[0m\u001b[0;34m.\u001b[0m\u001b[0msum\u001b[0m\u001b[0;34m(\u001b[0m\u001b[0;34m)\u001b[0m\u001b[0;34m)\u001b[0m\u001b[0;34m)\u001b[0m\u001b[0;34m)\u001b[0m\u001b[0;34m;\u001b[0m\u001b[0;34m\u001b[0m\u001b[0;34m\u001b[0m\u001b[0m\n\u001b[0m\u001b[1;32m     64\u001b[0m         \u001b[0mplt\u001b[0m\u001b[0;34m.\u001b[0m\u001b[0mtight_layout\u001b[0m\u001b[0;34m(\u001b[0m\u001b[0;34m)\u001b[0m\u001b[0;34m;\u001b[0m\u001b[0;34m\u001b[0m\u001b[0;34m\u001b[0m\u001b[0m\n\u001b[1;32m     65\u001b[0m \u001b[0;34m\u001b[0m\u001b[0m\n",
      "\u001b[0;31mAttributeError\u001b[0m: 'list' object has no attribute 'log1p'"
     ]
    }
   ],
   "source": [
    "count_dsets([dl.dataset for dl in custom_dls], show_array=True, show_heatmap=True)"
   ]
  },
  {
   "cell_type": "code",
   "execution_count": 228,
   "metadata": {},
   "outputs": [
    {
     "name": "stdout",
     "output_type": "stream",
     "text": [
      "Custom 4-9 manager training with 5 worker(s) for up to 10 rounds or 95.00% accuracy.\n"
     ]
    },
    {
     "data": {
      "application/vnd.jupyter.widget-view+json": {
       "model_id": "aadf2c17d0c345868a332ce88e583293",
       "version_major": 2,
       "version_minor": 0
      },
      "text/plain": [
       "HBox(children=(IntProgress(value=0, description='Rounds', max=10, style=ProgressStyle(description_width='initi…"
      ]
     },
     "metadata": {},
     "output_type": "display_data"
    },
    {
     "name": "stdout",
     "output_type": "stream",
     "text": [
      "Round 0\n",
      "\twrkr 0\t\tloss: 4.8799\tacc: 18.49%\n",
      "\twrkr 1\t\tloss: 1.9384\tacc: 60.24%\n",
      "\twrkr 2\t\tloss: 1.9369\tacc: 61.40%\n",
      "\twrkr 3\t\tloss: 1.9461\tacc: 59.15%\n",
      "\twrkr 4\t\tloss: 1.9389\tacc: 59.44%\n",
      "\tcombined\tloss: 1.8753\tacc: 58.93%\n",
      "\n",
      "Round 1\n",
      "\twrkr 0\t\tloss: 4.9649\tacc: 18.51%\n",
      "\twrkr 1\t\tloss: 1.6858\tacc: 67.34%\n",
      "\twrkr 2\t\tloss: 1.6856\tacc: 68.29%\n",
      "\twrkr 3\t\tloss: 1.6839\tacc: 67.53%\n",
      "\twrkr 4\t\tloss: 1.6894\tacc: 67.74%\n",
      "\tcombined\tloss: 1.3906\tacc: 67.02%\n",
      "\n",
      "Round 2\n",
      "\twrkr 0\t\tloss: 4.6852\tacc: 18.63%\n",
      "\twrkr 1\t\tloss: 1.5402\tacc: 70.71%\n",
      "\twrkr 2\t\tloss: 1.5664\tacc: 70.07%\n",
      "\twrkr 3\t\tloss: 1.5484\tacc: 70.51%\n",
      "\twrkr 4\t\tloss: 1.5540\tacc: 70.77%\n",
      "\tcombined\tloss: 1.1326\tacc: 70.08%\n",
      "\n",
      "Round 3\n",
      "\twrkr 0\t\tloss: 4.4425\tacc: 18.83%\n",
      "\twrkr 1\t\tloss: 1.3992\tacc: 71.46%\n",
      "\twrkr 2\t\tloss: 1.4038\tacc: 71.56%\n",
      "\twrkr 3\t\tloss: 1.4276\tacc: 71.62%\n",
      "\twrkr 4\t\tloss: 1.4042\tacc: 71.78%\n",
      "\tcombined\tloss: 0.9646\tacc: 71.23%\n",
      "\n",
      "Round 4\n",
      "\twrkr 0\t\tloss: 4.2855\tacc: 20.42%\n",
      "\twrkr 1\t\tloss: 1.2992\tacc: 72.41%\n",
      "\twrkr 2\t\tloss: 1.2980\tacc: 72.26%\n",
      "\twrkr 3\t\tloss: 1.3005\tacc: 72.49%\n",
      "\twrkr 4\t\tloss: 1.3007\tacc: 72.38%\n",
      "\tcombined\tloss: 0.8498\tacc: 72.34%\n",
      "\n",
      "Round 5\n",
      "\twrkr 0\t\tloss: 4.1237\tacc: 22.33%\n",
      "\twrkr 1\t\tloss: 1.2073\tacc: 72.84%\n",
      "\twrkr 2\t\tloss: 1.2169\tacc: 72.54%\n",
      "\twrkr 3\t\tloss: 1.2181\tacc: 72.91%\n",
      "\twrkr 4\t\tloss: 1.2205\tacc: 72.78%\n",
      "\tcombined\tloss: 0.7712\tacc: 73.27%\n",
      "\n",
      "Round 6\n",
      "\twrkr 0\t\tloss: 4.1212\tacc: 22.30%\n",
      "\twrkr 1\t\tloss: 1.1700\tacc: 73.06%\n",
      "\twrkr 2\t\tloss: 1.1446\tacc: 72.97%\n",
      "\twrkr 3\t\tloss: 1.1500\tacc: 73.21%\n",
      "\twrkr 4\t\tloss: 1.1629\tacc: 73.20%\n",
      "\tcombined\tloss: 0.7143\tacc: 74.31%\n",
      "\n",
      "Round 7\n",
      "\twrkr 0\t\tloss: 3.8529\tacc: 24.73%\n",
      "\twrkr 1\t\tloss: 1.1141\tacc: 73.44%\n",
      "\twrkr 2\t\tloss: 1.1159\tacc: 73.23%\n",
      "\twrkr 3\t\tloss: 1.1004\tacc: 73.39%\n",
      "\twrkr 4\t\tloss: 1.1104\tacc: 73.34%\n",
      "\tcombined\tloss: 0.6704\tacc: 76.40%\n",
      "\n",
      "Round 8\n",
      "\twrkr 0\t\tloss: 3.7303\tacc: 27.93%\n",
      "\twrkr 1\t\tloss: 1.0497\tacc: 73.58%\n",
      "\twrkr 2\t\tloss: 1.0724\tacc: 73.56%\n",
      "\twrkr 3\t\tloss: 1.0576\tacc: 73.75%\n",
      "\twrkr 4\t\tloss: 1.0793\tacc: 73.69%\n",
      "\tcombined\tloss: 0.6325\tacc: 77.16%\n",
      "\n",
      "Round 9\n",
      "\twrkr 0\t\tloss: 3.5671\tacc: 29.40%\n",
      "\twrkr 1\t\tloss: 1.0409\tacc: 73.76%\n",
      "\twrkr 2\t\tloss: 1.0695\tacc: 73.49%\n",
      "\twrkr 3\t\tloss: 1.0229\tacc: 73.91%\n",
      "\twrkr 4\t\tloss: 1.0326\tacc: 73.61%\n",
      "\tcombined\tloss: 0.6054\tacc: 78.16%\n",
      "\n",
      "\n",
      "Custom 4-9 manager trained 10 rounds. (Test accuracy 78.16% and loss 0.6054.)\n"
     ]
    },
    {
     "data": {
      "image/png": "[encoded data removed]",
      "text/plain": [
       "<Figure size 432x288 with 1 Axes>"
      ]
     },
     "metadata": {
      "needs_background": "light"
     },
     "output_type": "display_data"
    },
    {
     "data": {
      "image/png": "[encoded data removed]",
      "text/plain": [
       "<Figure size 432x288 with 1 Axes>"
      ]
     },
     "metadata": {
      "needs_background": "light"
     },
     "output_type": "display_data"
    }
   ],
   "source": [
    "custom_mgr = FederatedManager('Custom 4-9', custom_dls, test_dset, Net, verbose = True)\n",
    "run_mgr(custom_mgr, default_n_rounds, default_target_acc)\n",
    "plot_mgr(custom_mgr, plot_workers=True)"
   ]
  },
  {
   "cell_type": "code",
   "execution_count": 229,
   "metadata": {},
   "outputs": [
    {
     "data": {
      "image/png": "[encoded data removed]",
      "text/plain": [
       "<Figure size 432x288 with 1 Axes>"
      ]
     },
     "metadata": {
      "needs_background": "light"
     },
     "output_type": "display_data"
    },
    {
     "data": {
      "image/png": "[encoded data removed]",
      "text/plain": [
       "<Figure size 432x288 with 1 Axes>"
      ]
     },
     "metadata": {
      "needs_background": "light"
     },
     "output_type": "display_data"
    }
   ],
   "source": [
    "plot_mgr([custom_mgr, nonfed_alldata_mgr, fed_equal_mgr])"
   ]
  },
  {
   "cell_type": "code",
   "execution_count": 230,
   "metadata": {},
   "outputs": [],
   "source": [
    "#count_dsets(subsets, heatmap=True)"
   ]
  },
  {
   "cell_type": "code",
   "execution_count": null,
   "metadata": {},
   "outputs": [],
   "source": []
  },
  {
   "cell_type": "code",
   "execution_count": null,
   "metadata": {},
   "outputs": [],
   "source": [
    "def make_fed_dloaders(dset, p=None, batch_size=64, shuffle=True):\n",
    "    \n",
    "    return [DataLoader(dset, batch_size, shuffle) for dset in make_fed_dsets(dset, p=p)]\n",
    "    \n",
    "def make_fed_dsets(dset, p=None):\n",
    "    _, y = consume_dataset(dset)\n",
    "    classes = set(y.numpy())\n",
    "    n_classes = len(classes)\n",
    "    idx_dset = index_to_dataset(y, p=p)\n",
    "    dset_idx = [np.where(idx_dset == di)[0] for di in range(n_classes)]\n",
    "    return [Subset(dset, di) for di in dset_idx]\n",
    "\n",
    "def index_to_dataset(y, p=None):\n",
    "    classes = set(y.numpy())\n",
    "    n_classes = len(classes)\n",
    "    p = p or 1/n_classes\n",
    "    pnot = (1-p)/(n_classes-1)\n",
    "    ps = np.full((n_classes, n_classes), pnot)\n",
    "    np.fill_diagonal(ps, p)\n",
    "    return np.array([np.random.choice(10, p=ps[yi]) for yi in y])"
   ]
  },
  {
   "cell_type": "code",
   "execution_count": null,
   "metadata": {},
   "outputs": [],
   "source": []
  },
  {
   "cell_type": "code",
   "execution_count": null,
   "metadata": {},
   "outputs": [],
   "source": []
  },
  {
   "cell_type": "code",
   "execution_count": null,
   "metadata": {},
   "outputs": [],
   "source": []
  },
  {
   "cell_type": "code",
   "execution_count": null,
   "metadata": {},
   "outputs": [],
   "source": []
  },
  {
   "cell_type": "markdown",
   "metadata": {},
   "source": [
    "### Some tinkering to display the outputs of an evaluation"
   ]
  },
  {
   "cell_type": "code",
   "execution_count": null,
   "metadata": {},
   "outputs": [],
   "source": [
    "import random\n",
    "\n",
    "xs, ys = next(iter(test_dl))\n",
    "\n",
    "idx = random.randint(0, len(xs))\n",
    "\n",
    "x = xs[idx]\n",
    "y = ys[idx]\n",
    "\n",
    "model = nonfed_alldata_mgr.model\n",
    "with torch.no_grad():\n",
    "    log_pred = model(x)\n",
    "\n",
    "show_prediction(x, log_pred, y)\n",
    "\n",
    "pred_vals = sorted(zip(range(10), log_pred[0].tolist()), key=lambda item: item[1], reverse=True)\n",
    "\n",
    "print('Actual Digit:   ', y.item())\n",
    "print('Predicted Digit: {:d} ({:.2f})'.format(pred_vals[0][0], pred_vals[0][1]))\n",
    "print('Nearest Digit  : {:d} ({:.2f})'.format(pred_vals[1][0], pred_vals[1][1]))\n",
    "print('Farthest Digit : {:d} ({:.2f})'.format(pred_vals[9][0], pred_vals[9][1]))"
   ]
  },
  {
   "cell_type": "code",
   "execution_count": null,
   "metadata": {},
   "outputs": [],
   "source": []
  }
 ],
 "metadata": {
  "kernelspec": {
   "display_name": "Python 3",
   "language": "python",
   "name": "python3"
  },
  "language_info": {
   "codemirror_mode": {
    "name": "ipython",
    "version": 3
   },
   "file_extension": ".py",
   "mimetype": "text/x-python",
   "name": "python",
   "nbconvert_exporter": "python",
   "pygments_lexer": "ipython3",
   "version": "3.6.7"
  }
 },
 "nbformat": 4,
 "nbformat_minor": 2
}
