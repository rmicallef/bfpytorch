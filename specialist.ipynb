{
 "cells": [
  {
   "cell_type": "code",
   "execution_count": 1,
   "metadata": {},
   "outputs": [],
   "source": [
    "import torch.nn as nn\n",
    "import torch.nn.functional as F\n",
    "import torch.optim\n",
    "\n",
    "class FederatedManager:\n",
    "\n",
    "    def __init__(self, \n",
    "                 name,\n",
    "                 dataloaders, \n",
    "                 test,\n",
    "                 make_model,\n",
    "                 loss_fn=nn.CrossEntropyLoss(), \n",
    "                 n_epochs=1, \n",
    "                 lr=1e-2, \n",
    "                 verbose=False, \n",
    "                 *args, **kwargs):\n",
    "        \n",
    "        self.dataloaders = dataloaders\n",
    "        self.n_workers = len(dataloaders)\n",
    "        self.n_epochs = n_epochs\n",
    "        self.lr = lr\n",
    "        self.verbose = verbose\n",
    "        self.name = name\n",
    "        self.history = {\"test_loss\": [], \"test_acc\": []}\n",
    "        self.make_model = make_model\n",
    "        self.model = self.make_model()\n",
    "        self.model.train(False)\n",
    "        self.loss_fn = loss_fn\n",
    "        self.Xtest, self.ytest = consume_dataset(test)\n",
    "        self.workers = []\n",
    "        for i, dl in enumerate(dataloaders):\n",
    "            self.workers.append(FederatedWorker(i, \n",
    "                                                self, \n",
    "                                                dl, \n",
    "                                                loss_fn,\n",
    "                                                n_epochs=n_epochs, \n",
    "                                                lr=lr, \n",
    "                                                verbose=verbose,\n",
    "                                                *args,\n",
    "                                                **kwargs))\n",
    "        self.worker_loss_histories = [[] for _ in self.workers]\n",
    "\n",
    "    def round(self):\n",
    "        \"\"\"\n",
    "        Do a round of federated learning:\n",
    "         - instruct each worker to train and return its model\n",
    "         - replace the server model the weighted average of the worker models\n",
    "         - replace the worker models with the server model\n",
    "        Workers with `participant=False` train but are not included in the\n",
    "        weighted average and do not receive a copy of the server model.\n",
    "        \"\"\"\n",
    "        updates = [w.train() for w in self.workers]\n",
    "        self.fedavg(\n",
    "            [u for u, w in zip(updates, self.workers) if w.participant]\n",
    "        )\n",
    "        self.push_model(w for w in self.workers if w.participant)\n",
    "        self.record_loss()\n",
    "\n",
    "    def fedavg(self, updates):\n",
    "        \"\"\"\n",
    "        Replace the manager model with the weighted average of the node models.\n",
    "        \"\"\"\n",
    "        N = sum(u[\"n_samples\"] for u in updates)\n",
    "        for key, value in self.model.state_dict().items():\n",
    "            weight_sum = (\n",
    "                u[\"state_dict\"][key] * u[\"n_samples\"] for u in updates\n",
    "            )\n",
    "            value[:] = sum(weight_sum) / N\n",
    "\n",
    "    def push_model(self, workers):\n",
    "        \"\"\"\n",
    "        Push manager model to a list of workers.\n",
    "        \"\"\"\n",
    "        for worker in workers:\n",
    "            worker.model = self.copy_model()\n",
    "\n",
    "    def copy_model(self):\n",
    "        \"\"\"\n",
    "        Return a copy of the current manager model.\n",
    "        \"\"\"\n",
    "        model_copy = self.make_model()\n",
    "        model_copy.load_state_dict(self.model.state_dict())\n",
    "        return model_copy\n",
    "\n",
    "    def evaluate_model(self, model=None):\n",
    "        \"\"\"\n",
    "        Compute the loss and accuracy of model on test set.\n",
    "        \"\"\"\n",
    "        model = model or self.model\n",
    "        was_training = model.training\n",
    "        model.train(False)\n",
    "        with torch.no_grad():\n",
    "            output = model(self.Xtest)\n",
    "            loss = self.loss_fn(output, self.ytest).item()\n",
    "            pred = output.argmax(dim=1, keepdim=True)\n",
    "            correct = pred.eq(self.ytest.view_as(pred)).sum().item()\n",
    "        model.train(was_training)\n",
    "        return loss, 100. * correct / len(self.ytest)\n",
    "\n",
    "    def record_loss(self):\n",
    "        \"\"\"\n",
    "        Record loss of manager model and all worker models on test set.\n",
    "        \"\"\"\n",
    "        loss_accuracy = self.evaluate_model()\n",
    "        self.history[\"test_loss\"].append(loss_accuracy[0])\n",
    "        self.history[\"test_acc\"].append(loss_accuracy[1])"
   ]
  },
  {
   "cell_type": "code",
   "execution_count": 2,
   "metadata": {},
   "outputs": [],
   "source": [
    "class FederatedWorker:\n",
    "\n",
    "    def __init__(\n",
    "        self, name, manager, dataloader, loss_fn, n_epochs=1, lr=1e-2,\n",
    "        momentum=0.5, participant=True, verbose=False\n",
    "    ):\n",
    "        self.name = name\n",
    "        self.manager = manager\n",
    "        self.dataloader = dataloader\n",
    "        self.n_epochs = n_epochs\n",
    "        self.loss_fn = loss_fn\n",
    "        self.participant = participant\n",
    "        self.model = manager.copy_model()\n",
    "        self.n_samples = len(self.dataloader.dataset)\n",
    "        self.history = {\"train_loss\": [], \"test_loss\": [], \"test_acc\": []}\n",
    "        self.lr = lr\n",
    "        self.momentum = momentum\n",
    "        self.verbose = verbose\n",
    "\n",
    "    def train(self):\n",
    "        \"\"\"\n",
    "        Train for n_epochs, then return the state dictionary of the model and\n",
    "        the amount of training data used.\n",
    "        \"\"\"\n",
    "        optimizer = torch.optim.SGD(self.model.parameters(), lr=self.lr,\n",
    "                                    momentum=self.momentum)\n",
    "        self.model.train(True)\n",
    "        for epoch in range(self.n_epochs):\n",
    "            for i, (x, y) in enumerate(self.dataloader):\n",
    "                optimizer.zero_grad()\n",
    "                ypred = self.model(x)\n",
    "                train_loss = self.loss_fn(ypred, y)\n",
    "                train_loss.backward()\n",
    "                optimizer.step()\n",
    "                self.history[\"train_loss\"].append(train_loss.item())\n",
    "\n",
    "        loss_accuracy = self.manager.evaluate_model(self.model)\n",
    "        self.history[\"test_loss\"].append(loss_accuracy[0])\n",
    "        self.history[\"test_acc\"].append(loss_accuracy[1])\n",
    "        \n",
    "        if(self.verbose):\n",
    "            print(\n",
    "                '\\twrkr {}\\t\\tloss: {:.4f}\\tacc: {:.2%}'.format(\n",
    "                    self.name,\n",
    "                    self.history[\"test_loss\"][-1],\n",
    "                    self.history[\"test_acc\"][-1] / 100,\n",
    "                )\n",
    "            )\n",
    "\n",
    "        return {\n",
    "            \"state_dict\": self.model.state_dict(),\n",
    "            \"n_samples\": self.n_samples\n",
    "        }"
   ]
  },
  {
   "cell_type": "code",
   "execution_count": 3,
   "metadata": {},
   "outputs": [],
   "source": [
    "'''   \n",
    "\n",
    "# THIS IS THE OFFICIAL PYTORCH EXAMPLE, BUT IT'S SLOWER THAN THE OTHER MODEL, SO FOR NOW, IT'S FAST BEFORE TIDY\n",
    "\n",
    "class Net(nn.Module):\n",
    "    def __init__(self):\n",
    "        super(Net, self).__init__()\n",
    "        self.conv1 = nn.Conv2d(1, 32, 3, 1)\n",
    "        self.conv2 = nn.Conv2d(32, 64, 3, 1)\n",
    "        self.dropout1 = nn.Dropout2d(0.25)\n",
    "        self.dropout2 = nn.Dropout2d(0.5)\n",
    "        self.fc1 = nn.Linear(9216, 128)\n",
    "        self.fc2 = nn.Linear(128, 10)\n",
    "\n",
    "    def forward(self, x):\n",
    "        x = self.conv1(x)\n",
    "        x = F.relu(x)\n",
    "        x = self.conv2(x)\n",
    "        x = F.max_pool2d(x, 2)\n",
    "        x = self.dropout1(x)\n",
    "        x = torch.flatten(x, 1)\n",
    "        x = self.fc1(x)\n",
    "        x = F.relu(x)\n",
    "        x = self.dropout2(x)\n",
    "        x = self.fc2(x)\n",
    "        output = F.log_softmax(x, dim=1)\n",
    "        return output\n",
    "'''\n",
    "\n",
    "# Quick and gets the job done well enough for testing\n",
    "class Net(nn.Module):\n",
    "    def __init__(self):\n",
    "        super(Net, self).__init__()\n",
    "        self.fc1 = nn.Linear(28*28, 500)\n",
    "        self.fc2 = nn.Linear(500, 256)\n",
    "        self.fc3 = nn.Linear(256, 10)\n",
    "    def forward(self, x):\n",
    "        x = x.view(-1, 28*28)\n",
    "        x = nn.functional.relu(self.fc1(x))\n",
    "        x = nn.functional.relu(self.fc2(x))\n",
    "        x = self.fc3(x)\n",
    "        return x\n",
    "#'''"
   ]
  },
  {
   "cell_type": "code",
   "execution_count": 4,
   "metadata": {},
   "outputs": [],
   "source": [
    "from torch.utils.data import Subset\n",
    "\n",
    "def make_fed_dloaders(dset, p=None, batch_size=64, shuffle=True):\n",
    "    \n",
    "    return [DataLoader(dset, batch_size, shuffle) for dset in make_fed_dsets(dset, p=p)]\n",
    "    \n",
    "def make_fed_dsets(dset, p=None):\n",
    "    _, y = consume_dataset(dset)\n",
    "    classes = set(y.numpy())\n",
    "    n_classes = len(classes)\n",
    "    idx_dset = index_to_dataset(y, p=p)\n",
    "    dset_idx = [np.where(idx_dset == di)[0] for di in range(n_classes)]\n",
    "    return [Subset(dset, di) for di in dset_idx]\n",
    "\n",
    "def index_to_dataset(y, p=None):\n",
    "    classes = set(y.numpy())\n",
    "    n_classes = len(classes)\n",
    "    p = p or 1/n_classes\n",
    "    pnot = (1-p)/(n_classes-1)\n",
    "    ps = np.full((n_classes, n_classes), pnot)\n",
    "    np.fill_diagonal(ps, p)\n",
    "    return np.array([np.random.choice(10, p=ps[yi]) for yi in y])\n",
    "\n",
    "def check_dsets(dsets):\n",
    "    for dset in dsets:\n",
    "        _, y = consume_dataset(dset)\n",
    "        print(Counter(y.numpy()))\n",
    "\n",
    "def eval_new_mgr(name, train_dset, test_dset, p=0.0, n_rounds=50, target_acc=None, net=Net):\n",
    "    dls = make_fed_dloaders(train_dset, p=p)\n",
    "    mgr = FederatedManager(name, dls, test_dset, net)\n",
    "    run_mgr(mgr, n_rounds, target_acc)\n",
    "    plot_mgr(mgr)\n",
    "    return mgr"
   ]
  },
  {
   "cell_type": "code",
   "execution_count": 5,
   "metadata": {},
   "outputs": [],
   "source": [
    "#%matplotlib inline\n",
    "import matplotlib\n",
    "import matplotlib.pyplot as plt\n",
    "from tqdm.notebook import tqdm\n",
    "from tqdm.notebook import trange\n",
    "from collections import Counter\n",
    "import numpy as np\n",
    "\n",
    "def plot_digit_histogram(dls, title=''):\n",
    "    fig, ax = plt.subplots()\n",
    "    ax.set_title(title)\n",
    "    ax.xaxis.set_major_locator(plt.MultipleLocator(1))\n",
    "    ax.set_ylabel('Digit Samples')\n",
    "    ax.set_xlabel('Digit')\n",
    "    \n",
    "    ys = []\n",
    "    for dset in tqdm([dl.dataset for dl in dls], desc='Tabulating datasets'):\n",
    "        _, y = consume_dataset(dset)\n",
    "        ys.append(sorted(Counter(y)))\n",
    "        \n",
    "    H = ax.hist(ys, bins=range(11), histtype='bar', align='left', rwidth=0.8)\n",
    "\n",
    "def consume_dataset(dataset):\n",
    "    data = list(zip(*dataset))\n",
    "    X = torch.stack(data[0])\n",
    "    y = torch.tensor(data[1])\n",
    "    return X, y"
   ]
  },
  {
   "cell_type": "code",
   "execution_count": 6,
   "metadata": {},
   "outputs": [],
   "source": [
    "def run_mgr(mgr, n_rounds=10, target_acc=None):\n",
    "    \n",
    "    target_met = False;\n",
    "    \n",
    "    if (target_acc):\n",
    "        print('{} manager training with {} worker(s) for up to {} rounds or {:.2%} accuracy.'.format(\n",
    "                mgr.name, mgr.n_workers, n_rounds, target_acc / 100,))\n",
    "    else:\n",
    "        print('{} manager training with {} worker(s) for {} rounds.'.format(\n",
    "                mgr.name, mgr.n_workers, n_rounds,))\n",
    "\n",
    "    for i in trange(n_rounds, desc='Rounds'):\n",
    "        if(mgr.verbose):\n",
    "            print('Round', i)\n",
    "        mgr.round()\n",
    "        if(mgr.verbose):\n",
    "            print('\\tcombined\\tloss: {:.4f}\\tacc: {:.2%}\\n'.format(\n",
    "                mgr.history['test_loss'][-1], mgr.history['test_acc'][-1] / 100,))\n",
    "            \n",
    "        if(target_acc and (mgr.history['test_acc'][-1] >= target_acc)):\n",
    "            target_met = True\n",
    "            break;\n",
    "\n",
    "    if(target_met):\n",
    "        print('{} manager stopped: met accuracy target of {:.2%} after {} rounds. (Test accuracy {:.2%} and loss {:.4f}.)'.format(\n",
    "                mgr.name, target_acc / 100, len(mgr.history['test_acc']), mgr.history['test_acc'][-1] / 100, mgr.history['test_loss'][-1],))\n",
    "    else:\n",
    "        print('{} manager trained {} rounds. (Test accuracy {:.2%} and loss {:.4f}.)'.format(\n",
    "                mgr.name, len(mgr.history['test_acc']), mgr.history['test_acc'][-1] / 100, mgr.history['test_loss'][-1],))\n",
    "\n",
    "def plot_mgr(mgrs, plot_workers=False):\n",
    "    \n",
    "    if not isinstance(mgrs, list):\n",
    "        mgrs = [mgrs]\n",
    "    \n",
    "    fig, ax = plt.subplots()\n",
    "    for m in mgrs:\n",
    "        ax.plot(m.history['test_loss'], label=m.name)\n",
    "        if(plot_workers):\n",
    "            for w in m.workers:\n",
    "                ax.plot(w.history['test_loss'], label=(m.name, 'Worker ' + str(w.name)))\n",
    "    ax.set_xlabel(\"Round\")\n",
    "    ax.set_ylabel(\"Loss\")\n",
    "    ax.legend();\n",
    "    \n",
    "    fig, ax = plt.subplots()\n",
    "    for m in mgrs:\n",
    "        ax.plot(m.history['test_acc'], label=m.name)\n",
    "        if(plot_workers):\n",
    "            for w in m.workers:\n",
    "                ax.plot(w.history['test_acc'], label=(m.name, 'worker ' + str(w.name)))\n",
    "    ax.set_xlabel(\"Round\")\n",
    "    ax.set_ylabel(\"Accuracy\")\n",
    "    ax.legend();\n",
    "\n",
    "    "
   ]
  },
  {
   "cell_type": "code",
   "execution_count": 7,
   "metadata": {},
   "outputs": [],
   "source": [
    "def show_prediction(img, preds, correct_idx):\n",
    "    \n",
    "    preds = preds.data.numpy().squeeze()\n",
    "    \n",
    "    colors = ['blue'] * len(preds)\n",
    "    colors[preds.argmax()] = 'red'\n",
    "    colors[correct_idx] = 'green'\n",
    "\n",
    "    fig, (ax1, ax2) = plt.subplots(figsize=(6,9), ncols=2)\n",
    "    ax1.imshow(img.resize_(1, 28, 28).numpy().squeeze())\n",
    "\n",
    "    ax2.bar(range(10), preds, color=colors)\n",
    "    ax2.set_aspect(0.25)\n",
    "    ax2.set_xticks(range(10))\n",
    "    ax2.set_xticklabels(range(10))\n",
    "    ax2.set_title('log(likelihood)')\n",
    "    ax2.set_ylim(-20, 20)\n",
    "    plt.tight_layout()\n",
    "\n",
    "def get_eval_set(mgr):\n",
    "    with torch.no_grad():\n",
    "        output = mgr.model(mgr.Xtest)\n",
    "    preds = output.argmax(dim=1, keepdim=True)\n",
    "    return [{'x':mgr.Xtest[i],\n",
    "             'probs':output[i],\n",
    "             'pred':preds[i].item(),\n",
    "             'y':mgr.ytest[i].item(),\n",
    "             } for i in range(len(mgr.Xtest))]\n",
    "\n",
    "def confusion_matrix(eval_set, norm=False, mirror=False):\n",
    "    cm = np.zeros((10, 10))\n",
    "    for ev in eval_set:\n",
    "        cm[ev['y']][ev['pred']] += 1\n",
    "        if mirror:\n",
    "            cm[ev['pred']][ev['y']] += 1 # will amplify errors and remove directionality of error\n",
    "    if norm:\n",
    "        cm /=  cm.sum(axis=1)[:,np.newaxis]\n",
    "    return cm\n",
    "\n",
    "def show_model_confusion(mgr):\n",
    "    eval_set = get_eval_set(mgr)\n",
    "    misses = [ev for ev in eval_set if (ev['y'] != ev['pred'])]\n",
    "    cm = confusion_matrix(misses, norm=False, mirror=True)\n",
    "    #cm = np.log1p(cm)\n",
    "    #print(np.array_str(cm, precision=4, suppress_small=True))\n",
    "    plt.imshow(cm)\n",
    "    plt.tight_layout()\n",
    "    \n",
    "def count_dsets(dsets, show_array=False, show_heatmap=False):\n",
    "    cts = []\n",
    "    for dset in tqdm(dsets, desc='Counting examples'):\n",
    "        _, y = consume_dataset(dset)\n",
    "        c = Counter(y.numpy())\n",
    "        #print([c[i] for i in range(len(c))])\n",
    "        cts.append([c[i] for i in range(len(c))])\n",
    "    \n",
    "    cts = np.array(cts)\n",
    "    \n",
    "    if show_array:\n",
    "        print(cts)\n",
    "        \n",
    "    if show_heatmap:\n",
    "        plt.imshow(np.log1p(cts), norm=plt.Normalize(vmin= 0.0, vmax=np.log1p(cts.sum())));\n",
    "        plt.tight_layout();\n",
    "        \n",
    "    return np.array(cts)"
   ]
  },
  {
   "cell_type": "markdown",
   "metadata": {},
   "source": [
    "# Common Data and Hyperparameters"
   ]
  },
  {
   "cell_type": "code",
   "execution_count": 8,
   "metadata": {},
   "outputs": [],
   "source": [
    "import torchvision.datasets as dsets\n",
    "import torchvision.transforms as transforms\n",
    "\n",
    "data_path = './MNIST-data/raw'\n",
    "\n",
    "trans = transforms.Compose([transforms.ToTensor(), transforms.Normalize((0.1307,), (0.3081,))])\n",
    "\n",
    "train_dset = dsets.MNIST(root=data_path, download=True, train=True, transform=trans)\n",
    "test_dset = dsets.MNIST(root=data_path, download=True, train=False, transform=trans)"
   ]
  },
  {
   "cell_type": "code",
   "execution_count": 9,
   "metadata": {},
   "outputs": [],
   "source": [
    "from torch.utils.data import DataLoader\n",
    "\n",
    "train_batch_size = 256\n",
    "test_batch_size = 1000\n",
    "\n",
    "# create standard dataloaders using all of the MNIST data\n",
    "train_dl = DataLoader(train_dset, batch_size=train_batch_size, shuffle=True)\n",
    "test_dl = DataLoader(test_dset, batch_size=test_batch_size, shuffle=True)"
   ]
  },
  {
   "cell_type": "code",
   "execution_count": 10,
   "metadata": {},
   "outputs": [],
   "source": [
    "# default training targets\n",
    "default_n_rounds = 2\n",
    "default_target_acc = 90.0"
   ]
  },
  {
   "cell_type": "markdown",
   "metadata": {},
   "source": [
    "# Non-Federated"
   ]
  },
  {
   "cell_type": "code",
   "execution_count": 11,
   "metadata": {},
   "outputs": [
    {
     "data": {
      "application/vnd.jupyter.widget-view+json": {
       "model_id": "ef76b1ac9ffe43ac8708239ef71d9d48",
       "version_major": 2,
       "version_minor": 0
      },
      "text/plain": [
       "HBox(children=(IntProgress(value=0, description='Tabulating datasets', max=2, style=ProgressStyle(description_…"
      ]
     },
     "metadata": {},
     "output_type": "display_data"
    },
    {
     "name": "stdout",
     "output_type": "stream",
     "text": [
      "\n"
     ]
    },
    {
     "data": {
      "image/png": "[encoded data removed]",
      "text/plain": [
       "<Figure size 432x288 with 1 Axes>"
      ]
     },
     "metadata": {
      "needs_background": "light"
     },
     "output_type": "display_data"
    }
   ],
   "source": [
    "plot_digit_histogram([train_dl, test_dl], 'MNIST Complete Datasets')"
   ]
  },
  {
   "cell_type": "code",
   "execution_count": 12,
   "metadata": {},
   "outputs": [
    {
     "data": {
      "application/vnd.jupyter.widget-view+json": {
       "model_id": "c79e5750b81c41108bca9620caba0e48",
       "version_major": 2,
       "version_minor": 0
      },
      "text/plain": [
       "HBox(children=(IntProgress(value=0, description='Counting examples', max=1, style=ProgressStyle(description_wi…"
      ]
     },
     "metadata": {},
     "output_type": "display_data"
    },
    {
     "name": "stdout",
     "output_type": "stream",
     "text": [
      "\n",
      "[[5923 6742 5958 6131 5842 5421 5918 6265 5851 5949]]\n"
     ]
    },
    {
     "data": {
      "image/png": "[encoded data removed]",
      "text/plain": [
       "<Figure size 432x288 with 1 Axes>"
      ]
     },
     "metadata": {
      "needs_background": "light"
     },
     "output_type": "display_data"
    }
   ],
   "source": [
    "train_counts = count_dsets([train_dl.dataset], show_array=True, show_heatmap=True)"
   ]
  },
  {
   "cell_type": "code",
   "execution_count": 13,
   "metadata": {},
   "outputs": [
    {
     "name": "stdout",
     "output_type": "stream",
     "text": [
      "Non-Federated Full Dataset manager training with 1 worker(s) for up to 2 rounds or 90.00% accuracy.\n"
     ]
    },
    {
     "data": {
      "application/vnd.jupyter.widget-view+json": {
       "model_id": "8e8eaa854bf2451b95535cbce2d977db",
       "version_major": 2,
       "version_minor": 0
      },
      "text/plain": [
       "HBox(children=(IntProgress(value=0, description='Rounds', max=2, style=ProgressStyle(description_width='initia…"
      ]
     },
     "metadata": {},
     "output_type": "display_data"
    },
    {
     "name": "stdout",
     "output_type": "stream",
     "text": [
      "Non-Federated Full Dataset manager stopped: met accuracy target of 90.00% after 2 rounds. (Test accuracy 90.66% and loss 0.3245.)\n"
     ]
    },
    {
     "data": {
      "image/png": "[encoded data removed]",
      "text/plain": [
       "<Figure size 432x288 with 1 Axes>"
      ]
     },
     "metadata": {
      "needs_background": "light"
     },
     "output_type": "display_data"
    },
    {
     "data": {
      "image/png": "[encoded data removed]",
      "text/plain": [
       "<Figure size 432x288 with 1 Axes>"
      ]
     },
     "metadata": {
      "needs_background": "light"
     },
     "output_type": "display_data"
    }
   ],
   "source": [
    "nonfed_alldata_mgr = FederatedManager('Non-Federated Full Dataset', [train_dl], test_dset, Net)\n",
    "\n",
    "run_mgr(nonfed_alldata_mgr, default_n_rounds, target_acc=default_target_acc)\n",
    "\n",
    "plot_mgr(nonfed_alldata_mgr)"
   ]
  },
  {
   "cell_type": "markdown",
   "metadata": {},
   "source": [
    "# The Federated Approach\n",
    "\n",
    "## Ten Equal Workers"
   ]
  },
  {
   "cell_type": "code",
   "execution_count": 14,
   "metadata": {},
   "outputs": [
    {
     "data": {
      "application/vnd.jupyter.widget-view+json": {
       "model_id": "29aed587dc8740f8951f2a0c7efb6c10",
       "version_major": 2,
       "version_minor": 0
      },
      "text/plain": [
       "HBox(children=(IntProgress(value=0, description='Tabulating datasets', max=10, style=ProgressStyle(description…"
      ]
     },
     "metadata": {},
     "output_type": "display_data"
    },
    {
     "name": "stdout",
     "output_type": "stream",
     "text": [
      "\n"
     ]
    },
    {
     "data": {
      "image/png": "[encoded data removed]",
      "text/plain": [
       "<Figure size 432x288 with 1 Axes>"
      ]
     },
     "metadata": {
      "needs_background": "light"
     },
     "output_type": "display_data"
    }
   ],
   "source": [
    "fed_equal_dls = make_fed_dloaders(train_dset)\n",
    "plot_digit_histogram(fed_equal_dls, 'Digit Counts per Worker')"
   ]
  },
  {
   "cell_type": "code",
   "execution_count": 15,
   "metadata": {},
   "outputs": [
    {
     "data": {
      "application/vnd.jupyter.widget-view+json": {
       "model_id": "6601ca4c478142c49fcca83a568f4097",
       "version_major": 2,
       "version_minor": 0
      },
      "text/plain": [
       "HBox(children=(IntProgress(value=0, description='Counting examples', max=10, style=ProgressStyle(description_w…"
      ]
     },
     "metadata": {},
     "output_type": "display_data"
    },
    {
     "name": "stdout",
     "output_type": "stream",
     "text": [
      "\n",
      "[[595 692 587 614 579 516 557 626 558 581]\n",
      " [629 652 562 626 566 547 664 627 629 572]\n",
      " [614 691 620 634 593 536 575 592 589 574]\n",
      " [591 665 553 640 588 558 615 602 554 606]\n",
      " [603 702 606 613 606 516 554 604 537 584]\n",
      " [575 681 649 615 590 560 577 648 580 635]\n",
      " [570 653 611 573 594 549 627 638 609 583]\n",
      " [584 646 618 616 590 553 568 640 616 588]\n",
      " [593 704 589 609 552 560 592 661 611 616]\n",
      " [569 656 563 591 584 526 589 627 568 610]]\n"
     ]
    },
    {
     "data": {
      "image/png": "[encoded data removed]",
      "text/plain": [
       "<Figure size 432x288 with 1 Axes>"
      ]
     },
     "metadata": {
      "needs_background": "light"
     },
     "output_type": "display_data"
    }
   ],
   "source": [
    "fed_equal_counts = count_dsets([dl.dataset for dl in fed_equal_dls], show_array=True, show_heatmap=True)"
   ]
  },
  {
   "cell_type": "code",
   "execution_count": 16,
   "metadata": {},
   "outputs": [
    {
     "name": "stdout",
     "output_type": "stream",
     "text": [
      "Federated Unbiased manager training with 10 worker(s) for up to 2 rounds or 90.00% accuracy.\n"
     ]
    },
    {
     "data": {
      "application/vnd.jupyter.widget-view+json": {
       "model_id": "001cb4af2fe040a0ba91be1aa8029ddd",
       "version_major": 2,
       "version_minor": 0
      },
      "text/plain": [
       "HBox(children=(IntProgress(value=0, description='Rounds', max=2, style=ProgressStyle(description_width='initia…"
      ]
     },
     "metadata": {},
     "output_type": "display_data"
    },
    {
     "name": "stdout",
     "output_type": "stream",
     "text": [
      "\n",
      "Federated Unbiased manager trained 2 rounds. (Test accuracy 87.23% and loss 0.5196.)\n"
     ]
    }
   ],
   "source": [
    "fed_equal_mgr = FederatedManager('Federated Unbiased', fed_equal_dls, test_dset, Net)\n",
    "\n",
    "run_mgr(fed_equal_mgr, default_n_rounds, default_target_acc)"
   ]
  },
  {
   "cell_type": "code",
   "execution_count": 17,
   "metadata": {},
   "outputs": [
    {
     "data": {
      "image/png": "[encoded data removed]",
      "text/plain": [
       "<Figure size 432x288 with 1 Axes>"
      ]
     },
     "metadata": {
      "needs_background": "light"
     },
     "output_type": "display_data"
    },
    {
     "data": {
      "image/png": "[encoded data removed]",
      "text/plain": [
       "<Figure size 432x288 with 1 Axes>"
      ]
     },
     "metadata": {
      "needs_background": "light"
     },
     "output_type": "display_data"
    }
   ],
   "source": [
    "plot_mgr([nonfed_alldata_mgr, fed_equal_mgr])"
   ]
  },
  {
   "cell_type": "markdown",
   "metadata": {},
   "source": [
    "# Federation with Varying Example Distributions Per Worker\n",
    "\n",
    "\n",
    "## Spliting the Decks into Uneven Piles"
   ]
  },
  {
   "cell_type": "code",
   "execution_count": 18,
   "metadata": {},
   "outputs": [
    {
     "data": {
      "application/vnd.jupyter.widget-view+json": {
       "model_id": "878b5265387a48709b57e8b0416713cb",
       "version_major": 2,
       "version_minor": 0
      },
      "text/plain": [
       "HBox(children=(IntProgress(value=0, description='Tabulating datasets', max=10, style=ProgressStyle(description…"
      ]
     },
     "metadata": {},
     "output_type": "display_data"
    },
    {
     "name": "stdout",
     "output_type": "stream",
     "text": [
      "\n"
     ]
    },
    {
     "data": {
      "image/png": "[encoded data removed]",
      "text/plain": [
       "<Figure size 432x288 with 1 Axes>"
      ]
     },
     "metadata": {
      "needs_background": "light"
     },
     "output_type": "display_data"
    }
   ],
   "source": [
    "fed_weighted_dls = make_fed_dloaders(train_dset, p=0.4)\n",
    "plot_digit_histogram(fed_weighted_dls)"
   ]
  },
  {
   "cell_type": "code",
   "execution_count": 19,
   "metadata": {},
   "outputs": [
    {
     "name": "stdout",
     "output_type": "stream",
     "text": [
      "Counter({0: 2401, 1: 471, 7: 437, 3: 436, 6: 417, 8: 406, 4: 392, 2: 391, 9: 381, 5: 336})\n",
      "Counter({1: 2649, 5: 434, 3: 420, 8: 414, 7: 411, 9: 401, 4: 392, 6: 384, 2: 372, 0: 368})\n",
      "Counter({2: 2423, 1: 447, 7: 424, 0: 419, 3: 390, 9: 382, 4: 381, 6: 380, 8: 379, 5: 370})\n",
      "Counter({3: 2439, 1: 446, 2: 410, 7: 408, 9: 405, 4: 391, 8: 390, 6: 384, 0: 380, 5: 376})\n",
      "Counter({4: 2356, 3: 440, 1: 439, 9: 408, 8: 402, 6: 394, 2: 394, 7: 385, 0: 375, 5: 363})\n",
      "Counter({5: 2106, 1: 472, 3: 422, 8: 399, 7: 399, 6: 393, 2: 392, 0: 372, 9: 368, 4: 365})\n",
      "Counter({6: 2343, 1: 462, 7: 438, 3: 403, 0: 392, 2: 386, 9: 385, 8: 377, 4: 374, 5: 357})\n",
      "Counter({7: 2508, 1: 473, 6: 428, 3: 411, 9: 398, 0: 396, 2: 380, 8: 373, 5: 371, 4: 368})\n",
      "Counter({8: 2332, 7: 449, 1: 445, 6: 420, 4: 408, 9: 401, 0: 400, 2: 393, 3: 367, 5: 365})\n",
      "Counter({9: 2420, 1: 438, 0: 420, 2: 417, 4: 415, 7: 406, 3: 403, 8: 379, 6: 375, 5: 343})\n"
     ]
    }
   ],
   "source": [
    "check_dsets([dl.dataset for dl in fed_weighted_dls])"
   ]
  },
  {
   "cell_type": "code",
   "execution_count": 20,
   "metadata": {},
   "outputs": [
    {
     "data": {
      "application/vnd.jupyter.widget-view+json": {
       "model_id": "9f6ccfd07a9e404d94d6afbc374233a9",
       "version_major": 2,
       "version_minor": 0
      },
      "text/plain": [
       "HBox(children=(IntProgress(value=0, description='Counting examples', max=10, style=ProgressStyle(description_w…"
      ]
     },
     "metadata": {},
     "output_type": "display_data"
    },
    {
     "name": "stdout",
     "output_type": "stream",
     "text": [
      "\n"
     ]
    },
    {
     "data": {
      "text/plain": [
       "array([[595, 692, 587, 614, 579, 516, 557, 626, 558, 581],\n",
       "       [629, 652, 562, 626, 566, 547, 664, 627, 629, 572],\n",
       "       [614, 691, 620, 634, 593, 536, 575, 592, 589, 574],\n",
       "       [591, 665, 553, 640, 588, 558, 615, 602, 554, 606],\n",
       "       [603, 702, 606, 613, 606, 516, 554, 604, 537, 584],\n",
       "       [575, 681, 649, 615, 590, 560, 577, 648, 580, 635],\n",
       "       [570, 653, 611, 573, 594, 549, 627, 638, 609, 583],\n",
       "       [584, 646, 618, 616, 590, 553, 568, 640, 616, 588],\n",
       "       [593, 704, 589, 609, 552, 560, 592, 661, 611, 616],\n",
       "       [569, 656, 563, 591, 584, 526, 589, 627, 568, 610]])"
      ]
     },
     "execution_count": 20,
     "metadata": {},
     "output_type": "execute_result"
    },
    {
     "data": {
      "image/png": "[encoded data removed]",
      "text/plain": [
       "<Figure size 432x288 with 1 Axes>"
      ]
     },
     "metadata": {
      "needs_background": "light"
     },
     "output_type": "display_data"
    }
   ],
   "source": [
    "count_dsets([dl.dataset for dl in fed_equal_dls], show_array=False, show_heatmap=True)"
   ]
  },
  {
   "cell_type": "code",
   "execution_count": 21,
   "metadata": {},
   "outputs": [
    {
     "data": {
      "application/vnd.jupyter.widget-view+json": {
       "model_id": "db9f9fa9aa9c43f884513fcf969ae368",
       "version_major": 2,
       "version_minor": 0
      },
      "text/plain": [
       "HBox(children=(IntProgress(value=0, description='Counting examples', max=10, style=ProgressStyle(description_w…"
      ]
     },
     "metadata": {},
     "output_type": "display_data"
    },
    {
     "name": "stdout",
     "output_type": "stream",
     "text": [
      "\n"
     ]
    },
    {
     "data": {
      "text/plain": [
       "array([[2401,  471,  391,  436,  392,  336,  417,  437,  406,  381],\n",
       "       [ 368, 2649,  372,  420,  392,  434,  384,  411,  414,  401],\n",
       "       [ 419,  447, 2423,  390,  381,  370,  380,  424,  379,  382],\n",
       "       [ 380,  446,  410, 2439,  391,  376,  384,  408,  390,  405],\n",
       "       [ 375,  439,  394,  440, 2356,  363,  394,  385,  402,  408],\n",
       "       [ 372,  472,  392,  422,  365, 2106,  393,  399,  399,  368],\n",
       "       [ 392,  462,  386,  403,  374,  357, 2343,  438,  377,  385],\n",
       "       [ 396,  473,  380,  411,  368,  371,  428, 2508,  373,  398],\n",
       "       [ 400,  445,  393,  367,  408,  365,  420,  449, 2332,  401],\n",
       "       [ 420,  438,  417,  403,  415,  343,  375,  406,  379, 2420]])"
      ]
     },
     "execution_count": 21,
     "metadata": {},
     "output_type": "execute_result"
    },
    {
     "data": {
      "image/png": "[encoded data removed]",
      "text/plain": [
       "<Figure size 432x288 with 1 Axes>"
      ]
     },
     "metadata": {
      "needs_background": "light"
     },
     "output_type": "display_data"
    }
   ],
   "source": [
    "count_dsets([dl.dataset for dl in fed_weighted_dls], show_array=False, show_heatmap=True)"
   ]
  },
  {
   "cell_type": "code",
   "execution_count": 22,
   "metadata": {},
   "outputs": [
    {
     "name": "stdout",
     "output_type": "stream",
     "text": [
      "Fed Bias manager training with 10 worker(s) for up to 2 rounds or 90.00% accuracy.\n"
     ]
    },
    {
     "data": {
      "application/vnd.jupyter.widget-view+json": {
       "model_id": "eaf26f8f28804845828ee14302df6d2e",
       "version_major": 2,
       "version_minor": 0
      },
      "text/plain": [
       "HBox(children=(IntProgress(value=0, description='Rounds', max=2, style=ProgressStyle(description_width='initia…"
      ]
     },
     "metadata": {},
     "output_type": "display_data"
    },
    {
     "name": "stdout",
     "output_type": "stream",
     "text": [
      "\n",
      "Fed Bias manager trained 2 rounds. (Test accuracy 85.71% and loss 0.6184.)\n"
     ]
    },
    {
     "data": {
      "image/png": "[encoded data removed]",
      "text/plain": [
       "<Figure size 432x288 with 1 Axes>"
      ]
     },
     "metadata": {
      "needs_background": "light"
     },
     "output_type": "display_data"
    },
    {
     "data": {
      "image/png": "[encoded data removed]",
      "text/plain": [
       "<Figure size 432x288 with 1 Axes>"
      ]
     },
     "metadata": {
      "needs_background": "light"
     },
     "output_type": "display_data"
    }
   ],
   "source": [
    "fed_weighted_mgr = FederatedManager('Fed Bias', fed_weighted_dls, test_dset, Net)\n",
    "run_mgr(fed_weighted_mgr, default_n_rounds, default_target_acc)\n",
    "plot_mgr(fed_weighted_mgr)"
   ]
  },
  {
   "cell_type": "markdown",
   "metadata": {},
   "source": [
    "# Difficult Decisions\n",
    "\n",
    "These matrices should show us which number pairs our model has trouble discriminating. (Spoiler alert: its 4-9 and 3-5 pairs. The 5-8-9 triplet looks troublesome, too.)"
   ]
  },
  {
   "cell_type": "code",
   "execution_count": 23,
   "metadata": {},
   "outputs": [
    {
     "data": {
      "image/png": "[encoded data removed]",
      "text/plain": [
       "<Figure size 432x288 with 1 Axes>"
      ]
     },
     "metadata": {
      "needs_background": "light"
     },
     "output_type": "display_data"
    }
   ],
   "source": [
    "nonfed_alldata_mgr = FederatedManager('Non-Federated Full Dataset', [train_dl], test_dset, Net)\n",
    "\n",
    "show_model_confusion(nonfed_alldata_mgr)\n",
    "nonfed_alldata_mgr.round()"
   ]
  },
  {
   "cell_type": "code",
   "execution_count": 24,
   "metadata": {},
   "outputs": [
    {
     "data": {
      "image/png": "[encoded data removed]",
      "text/plain": [
       "<Figure size 432x288 with 1 Axes>"
      ]
     },
     "metadata": {
      "needs_background": "light"
     },
     "output_type": "display_data"
    }
   ],
   "source": [
    "show_model_confusion(nonfed_alldata_mgr)\n",
    "nonfed_alldata_mgr.round()"
   ]
  },
  {
   "cell_type": "code",
   "execution_count": 25,
   "metadata": {},
   "outputs": [
    {
     "data": {
      "image/png": "[encoded data removed]",
      "text/plain": [
       "<Figure size 432x288 with 1 Axes>"
      ]
     },
     "metadata": {
      "needs_background": "light"
     },
     "output_type": "display_data"
    }
   ],
   "source": [
    "show_model_confusion(nonfed_alldata_mgr)\n",
    "nonfed_alldata_mgr.round()"
   ]
  },
  {
   "cell_type": "code",
   "execution_count": 26,
   "metadata": {},
   "outputs": [
    {
     "data": {
      "image/png": "[encoded data removed]",
      "text/plain": [
       "<Figure size 432x288 with 1 Axes>"
      ]
     },
     "metadata": {
      "needs_background": "light"
     },
     "output_type": "display_data"
    }
   ],
   "source": [
    "show_model_confusion(nonfed_alldata_mgr)\n",
    "nonfed_alldata_mgr.round()"
   ]
  },
  {
   "cell_type": "code",
   "execution_count": 27,
   "metadata": {},
   "outputs": [
    {
     "data": {
      "image/png": "[encoded data removed]",
      "text/plain": [
       "<Figure size 432x288 with 1 Axes>"
      ]
     },
     "metadata": {
      "needs_background": "light"
     },
     "output_type": "display_data"
    }
   ],
   "source": [
    "show_model_confusion(nonfed_alldata_mgr)\n",
    "nonfed_alldata_mgr.round()"
   ]
  },
  {
   "cell_type": "code",
   "execution_count": 28,
   "metadata": {},
   "outputs": [
    {
     "data": {
      "image/png": "[encoded data removed]",
      "text/plain": [
       "<Figure size 432x288 with 1 Axes>"
      ]
     },
     "metadata": {
      "needs_background": "light"
     },
     "output_type": "display_data"
    }
   ],
   "source": [
    "show_model_confusion(nonfed_alldata_mgr)\n",
    "nonfed_alldata_mgr.round()"
   ]
  },
  {
   "cell_type": "markdown",
   "metadata": {},
   "source": [
    "Let's see whether we can identify which digits give us the most trouble. Looks like 5, 8, and 9 are the most difficult."
   ]
  },
  {
   "cell_type": "code",
   "execution_count": 29,
   "metadata": {},
   "outputs": [
    {
     "name": "stdout",
     "output_type": "stream",
     "text": [
      "[[ 0.  0. 11.  3.  1. 14. 16.  5.  8. 12.]\n",
      " [ 0.  0.  6.  3.  2.  3.  7. 11. 17.  8.]\n",
      " [11.  6.  0. 28. 13.  2. 16. 35. 26.  3.]\n",
      " [ 3.  3. 28.  0.  1. 52.  1. 16. 31. 19.]\n",
      " [ 1.  2. 13.  1.  0.  4. 22.  8. 11. 56.]\n",
      " [14.  3.  2. 52.  4.  0. 23.  4. 30. 13.]\n",
      " [16.  7. 16.  1. 22. 23.  0.  1. 17.  1.]\n",
      " [ 5. 11. 35. 16.  8.  4.  1.  0. 11. 37.]\n",
      " [ 8. 17. 26. 31. 11. 30. 17. 11.  0.  9.]\n",
      " [12.  8.  3. 19. 56. 13.  1. 37.  9.  0.]]\n",
      "[(57.0, 1, 8), (70.0, 0, 6), (104.0, 6, 5), (118.0, 4, 9), (128.0, 7, 9), (140.0, 2, 7), (145.0, 5, 3), (154.0, 3, 5), (158.0, 9, 4), (160.0, 8, 3)]\n"
     ]
    }
   ],
   "source": [
    "eval_set = get_eval_set(nonfed_alldata_mgr)\n",
    "misses = [ev for ev in eval_set if (ev['y'] != ev['pred'])]\n",
    "cm = confusion_matrix(misses, norm=False, mirror=True)\n",
    "\n",
    "print(cm)\n",
    "print(sorted([(cm[i].sum(), i, cm[i].argmax()) for i in range(len(cm))]))"
   ]
  },
  {
   "cell_type": "code",
   "execution_count": 30,
   "metadata": {},
   "outputs": [],
   "source": [
    "#TODO - Show the highest confidence picks"
   ]
  },
  {
   "cell_type": "markdown",
   "metadata": {},
   "source": [
    "# Stacking the Deck Differently"
   ]
  },
  {
   "cell_type": "markdown",
   "metadata": {},
   "source": [
    "make_fed_dloaders()"
   ]
  },
  {
   "cell_type": "markdown",
   "metadata": {},
   "source": [
    "def make_custom_dsets(dset, n_workers=10, biases=[0.0]):\n",
    "    \n",
    "    dsets=[]\n",
    "    \n",
    "    \n",
    "    \n",
    "    return dls"
   ]
  },
  {
   "cell_type": "code",
   "execution_count": 9,
   "metadata": {},
   "outputs": [],
   "source": [
    "\n",
    "    "
   ]
  },
  {
   "cell_type": "code",
   "execution_count": null,
   "metadata": {},
   "outputs": [],
   "source": []
  },
  {
   "cell_type": "code",
   "execution_count": 34,
   "metadata": {},
   "outputs": [
    {
     "name": "stdout",
     "output_type": "stream",
     "text": [
      "ps\n",
      " [[   1.    1.    1.    1.    1.    1.    1.]\n",
      " [   1.    1.    1.    1.    1.    1.    1.]\n",
      " [   1.    1.    1.    1.    1.    1.    1.]\n",
      " [   1.    1.    1.    1.    1.    1.    1.]\n",
      " [1000.    1.    1.    1.    1.    1.    1.]\n",
      " [   1.    1.    1.    1.    1.    1.    1.]\n",
      " [   1.    1.    1.    1.    1.    1.    1.]\n",
      " [   1.    1.    1.    1.    1.    1.    1.]\n",
      " [   1.    1.    1.    1.    1.    1.    1.]\n",
      " [1000.    1.    1.    1.    1.    1.    1.]]\n",
      "ps\n",
      " [[0.002 0.166 0.166 0.166 0.166 0.166 0.166]\n",
      " [0.002 0.166 0.166 0.166 0.166 0.166 0.166]\n",
      " [0.002 0.166 0.166 0.166 0.166 0.166 0.166]\n",
      " [0.002 0.166 0.166 0.166 0.166 0.166 0.166]\n",
      " [0.705 0.049 0.049 0.049 0.049 0.049 0.049]\n",
      " [0.002 0.166 0.166 0.166 0.166 0.166 0.166]\n",
      " [0.002 0.166 0.166 0.166 0.166 0.166 0.166]\n",
      " [0.002 0.166 0.166 0.166 0.166 0.166 0.166]\n",
      " [0.002 0.166 0.166 0.166 0.166 0.166 0.166]\n",
      " [0.705 0.049 0.049 0.049 0.049 0.049 0.049]]\n",
      "[1.0, 1.0, 1.0, 1.0, 0.9999999999999996, 1.0, 1.0, 1.0, 1.0, 0.9999999999999996]\n",
      "[1.4285714285714275, 1.4285714285714284, 1.4285714285714284, 1.4285714285714284, 1.4285714285714284, 1.4285714285714284, 1.4285714285714284]\n",
      "idx_dset <class 'numpy.ndarray'> 60000 [6 6 0 ... 2 1 5]\n",
      "dset lengths [8450, 8614, 8504, 8565, 8624, 8642, 8601] = 60000\n",
      "Counter({9: 4184, 4: 4151, 0: 23, 8: 20, 2: 16, 5: 14, 3: 14, 1: 13, 7: 8, 6: 7})\n",
      "Counter({1: 1163, 0: 1038, 7: 1013, 3: 992, 6: 984, 2: 980, 8: 970, 5: 875, 9: 308, 4: 291})\n",
      "Counter({1: 1129, 7: 1025, 6: 1001, 3: 998, 2: 995, 0: 964, 8: 958, 5: 891, 9: 272, 4: 271})\n",
      "Counter({7: 1071, 1: 1052, 2: 1022, 3: 999, 6: 988, 0: 985, 8: 982, 5: 894, 9: 289, 4: 283})\n",
      "Counter({1: 1140, 3: 1035, 7: 1024, 2: 1002, 6: 985, 8: 982, 0: 948, 5: 928, 9: 300, 4: 280})\n",
      "Counter({1: 1135, 7: 1070, 0: 1006, 3: 1002, 8: 995, 2: 966, 6: 964, 5: 895, 9: 331, 4: 278})\n",
      "Counter({1: 1110, 3: 1091, 7: 1054, 6: 989, 2: 977, 0: 959, 8: 944, 5: 924, 4: 288, 9: 265})\n"
     ]
    }
   ],
   "source": [
    "n_workers = 7\n",
    "\n",
    "_, y = consume_dataset(train_dset)\n",
    "classes = set(y.numpy())\n",
    "n_classes = len(classes)\n",
    "\n",
    "ps = np.array([[1.0] * n_workers] * n_classes)\n",
    "\n",
    "# Incorporate bias parameters here\n",
    "ps[9][0] = 1e3 # relative allocation of '9's to worker 0\n",
    "ps[4][0] = 1e3 # relative allocation of '4's to worker 0\n",
    "#ps[2][2] = 7\n",
    "#ps[4][7] = 2\n",
    "\n",
    "print('ps\\n', np.array_str(ps, precision=3))\n",
    "\n",
    "for x in range(10000):\n",
    "    ps = np.transpose(ps)\n",
    "    ps = np.array([ps[i]/ps[i].sum() for i in range(len(ps))])\n",
    "    ps = np.transpose(ps)\n",
    "    ps = np.array([ps[i]/ps[i].sum() for i in range(len(ps))])\n",
    "\n",
    "print('ps\\n', np.array_str(ps, precision=3))\n",
    "print([sum(ps[i]) for i in range(len(ps))])\n",
    "print([sum([ps[j][i]for j in range(len(ps))]) for i in range(len(ps[0]))])\n",
    "\n",
    "idx_dset = np.array([np.random.choice(n_workers, p=ps[yi]) for yi in y])\n",
    "print('idx_dset', type(idx_dset), len(idx_dset), idx_dset)\n",
    "\n",
    "dset_idx = [np.where(idx_dset == di)[0] for di in range(n_workers)]\n",
    "print('dset lengths', [len(dset_idx[i]) for i in range(len(dset_idx))], '=', sum([len(dset_idx[i]) for i in range(len(dset_idx))]))\n",
    "\n",
    "custom_dsets = [Subset(train_dset, di) for di in dset_idx]\n",
    "\n",
    "check_dsets(custom_dsets)"
   ]
  },
  {
   "cell_type": "code",
   "execution_count": 35,
   "metadata": {},
   "outputs": [],
   "source": [
    "custom_dls = [DataLoader(dset, batch_size=256, shuffle=True) for dset in custom_dsets]"
   ]
  },
  {
   "cell_type": "code",
   "execution_count": 36,
   "metadata": {},
   "outputs": [
    {
     "data": {
      "application/vnd.jupyter.widget-view+json": {
       "model_id": "1d3262877e064c919ff381366d12437b",
       "version_major": 2,
       "version_minor": 0
      },
      "text/plain": [
       "HBox(children=(IntProgress(value=0, description='Tabulating datasets', max=7, style=ProgressStyle(description_…"
      ]
     },
     "metadata": {},
     "output_type": "display_data"
    },
    {
     "name": "stdout",
     "output_type": "stream",
     "text": [
      "\n"
     ]
    },
    {
     "data": {
      "image/png": "[encoded data removed]",
      "text/plain": [
       "<Figure size 432x288 with 1 Axes>"
      ]
     },
     "metadata": {
      "needs_background": "light"
     },
     "output_type": "display_data"
    }
   ],
   "source": [
    "plot_digit_histogram(custom_dls)"
   ]
  },
  {
   "cell_type": "code",
   "execution_count": 37,
   "metadata": {
    "scrolled": false
   },
   "outputs": [
    {
     "data": {
      "application/vnd.jupyter.widget-view+json": {
       "model_id": "baf4bb1410a94e3dad6ec69805f1ad24",
       "version_major": 2,
       "version_minor": 0
      },
      "text/plain": [
       "HBox(children=(IntProgress(value=0, description='Counting examples', max=7, style=ProgressStyle(description_wi…"
      ]
     },
     "metadata": {},
     "output_type": "display_data"
    },
    {
     "name": "stdout",
     "output_type": "stream",
     "text": [
      "\n",
      "[[  23   13   16   14 4151   14    7    8   20 4184]\n",
      " [1038 1163  980  992  291  875  984 1013  970  308]\n",
      " [ 964 1129  995  998  271  891 1001 1025  958  272]\n",
      " [ 985 1052 1022  999  283  894  988 1071  982  289]\n",
      " [ 948 1140 1002 1035  280  928  985 1024  982  300]\n",
      " [1006 1135  966 1002  278  895  964 1070  995  331]\n",
      " [ 959 1110  977 1091  288  924  989 1054  944  265]]\n"
     ]
    },
    {
     "data": {
      "text/plain": [
       "array([[  23,   13,   16,   14, 4151,   14,    7,    8,   20, 4184],\n",
       "       [1038, 1163,  980,  992,  291,  875,  984, 1013,  970,  308],\n",
       "       [ 964, 1129,  995,  998,  271,  891, 1001, 1025,  958,  272],\n",
       "       [ 985, 1052, 1022,  999,  283,  894,  988, 1071,  982,  289],\n",
       "       [ 948, 1140, 1002, 1035,  280,  928,  985, 1024,  982,  300],\n",
       "       [1006, 1135,  966, 1002,  278,  895,  964, 1070,  995,  331],\n",
       "       [ 959, 1110,  977, 1091,  288,  924,  989, 1054,  944,  265]])"
      ]
     },
     "execution_count": 37,
     "metadata": {},
     "output_type": "execute_result"
    },
    {
     "data": {
      "image/png": "[encoded data removed]",
      "text/plain": [
       "<Figure size 432x288 with 1 Axes>"
      ]
     },
     "metadata": {
      "needs_background": "light"
     },
     "output_type": "display_data"
    }
   ],
   "source": [
    "count_dsets([dl.dataset for dl in custom_dls], show_array=True, show_heatmap=True)"
   ]
  },
  {
   "cell_type": "code",
   "execution_count": 38,
   "metadata": {},
   "outputs": [
    {
     "name": "stdout",
     "output_type": "stream",
     "text": [
      "Custom 4-9 manager training with 7 worker(s) for up to 2 rounds or 90.00% accuracy.\n"
     ]
    },
    {
     "data": {
      "application/vnd.jupyter.widget-view+json": {
       "model_id": "c4ea5a670acc493b80fe1ca07aeec85e",
       "version_major": 2,
       "version_minor": 0
      },
      "text/plain": [
       "HBox(children=(IntProgress(value=0, description='Rounds', max=2, style=ProgressStyle(description_width='initia…"
      ]
     },
     "metadata": {},
     "output_type": "display_data"
    },
    {
     "name": "stdout",
     "output_type": "stream",
     "text": [
      "Round 0\n",
      "\twrkr 0\t\tloss: 4.0497\tacc: 16.46%\n",
      "\twrkr 1\t\tloss: 2.0320\tacc: 58.25%\n",
      "\twrkr 2\t\tloss: 2.0303\tacc: 59.81%\n",
      "\twrkr 3\t\tloss: 2.0331\tacc: 60.18%\n",
      "\twrkr 4\t\tloss: 2.0337\tacc: 61.18%\n",
      "\twrkr 5\t\tloss: 2.0311\tacc: 59.24%\n",
      "\twrkr 6\t\tloss: 2.0331\tacc: 60.79%\n",
      "\tcombined\tloss: 2.0318\tacc: 60.85%\n",
      "\n",
      "Round 1\n",
      "\twrkr 0\t\tloss: 3.8167\tacc: 16.14%\n",
      "\twrkr 1\t\tloss: 1.5584\tacc: 62.58%\n",
      "\twrkr 2\t\tloss: 1.5660\tacc: 63.83%\n",
      "\twrkr 3\t\tloss: 1.5635\tacc: 63.32%\n",
      "\twrkr 4\t\tloss: 1.5602\tacc: 63.98%\n",
      "\twrkr 5\t\tloss: 1.5605\tacc: 63.31%\n",
      "\twrkr 6\t\tloss: 1.5650\tacc: 63.96%\n",
      "\tcombined\tloss: 1.5428\tacc: 64.55%\n",
      "\n",
      "\n",
      "Custom 4-9 manager trained 2 rounds. (Test accuracy 64.55% and loss 1.5428.)\n"
     ]
    },
    {
     "data": {
      "image/png": "[encoded data removed]",
      "text/plain": [
       "<Figure size 432x288 with 1 Axes>"
      ]
     },
     "metadata": {
      "needs_background": "light"
     },
     "output_type": "display_data"
    },
    {
     "data": {
      "image/png": "[encoded data removed]",
      "text/plain": [
       "<Figure size 432x288 with 1 Axes>"
      ]
     },
     "metadata": {
      "needs_background": "light"
     },
     "output_type": "display_data"
    }
   ],
   "source": [
    "custom_mgr = FederatedManager('Custom 4-9', custom_dls, test_dset, Net, verbose = True)\n",
    "run_mgr(custom_mgr, default_n_rounds, default_target_acc)\n",
    "plot_mgr(custom_mgr, plot_workers=True)"
   ]
  },
  {
   "cell_type": "code",
   "execution_count": 39,
   "metadata": {},
   "outputs": [
    {
     "data": {
      "image/png": "[encoded data removed]",
      "text/plain": [
       "<Figure size 432x288 with 1 Axes>"
      ]
     },
     "metadata": {
      "needs_background": "light"
     },
     "output_type": "display_data"
    },
    {
     "data": {
      "image/png": "[encoded data removed]",
      "text/plain": [
       "<Figure size 432x288 with 1 Axes>"
      ]
     },
     "metadata": {
      "needs_background": "light"
     },
     "output_type": "display_data"
    }
   ],
   "source": [
    "plot_mgr([custom_mgr, nonfed_alldata_mgr, fed_equal_mgr])"
   ]
  },
  {
   "cell_type": "code",
   "execution_count": null,
   "metadata": {},
   "outputs": [],
   "source": [
    "#count_dsets(subsets, heatmap=True)"
   ]
  },
  {
   "cell_type": "code",
   "execution_count": null,
   "metadata": {},
   "outputs": [],
   "source": []
  },
  {
   "cell_type": "code",
   "execution_count": null,
   "metadata": {},
   "outputs": [],
   "source": [
    "def make_fed_dloaders(dset, p=None, batch_size=64, shuffle=True):\n",
    "    \n",
    "    return [DataLoader(dset, batch_size, shuffle) for dset in make_fed_dsets(dset, p=p)]\n",
    "    \n",
    "def make_fed_dsets(dset, p=None):\n",
    "    _, y = consume_dataset(dset)\n",
    "    classes = set(y.numpy())\n",
    "    n_classes = len(classes)\n",
    "    idx_dset = index_to_dataset(y, p=p)\n",
    "    dset_idx = [np.where(idx_dset == di)[0] for di in range(n_classes)]\n",
    "    return [Subset(dset, di) for di in dset_idx]\n",
    "\n",
    "def index_to_dataset(y, p=None):\n",
    "    classes = set(y.numpy())\n",
    "    n_classes = len(classes)\n",
    "    p = p or 1/n_classes\n",
    "    pnot = (1-p)/(n_classes-1)\n",
    "    ps = np.full((n_classes, n_classes), pnot)\n",
    "    np.fill_diagonal(ps, p)\n",
    "    return np.array([np.random.choice(10, p=ps[yi]) for yi in y])"
   ]
  },
  {
   "cell_type": "code",
   "execution_count": null,
   "metadata": {},
   "outputs": [],
   "source": []
  },
  {
   "cell_type": "code",
   "execution_count": null,
   "metadata": {},
   "outputs": [],
   "source": []
  },
  {
   "cell_type": "code",
   "execution_count": null,
   "metadata": {},
   "outputs": [],
   "source": []
  },
  {
   "cell_type": "code",
   "execution_count": null,
   "metadata": {},
   "outputs": [],
   "source": []
  },
  {
   "cell_type": "markdown",
   "metadata": {},
   "source": [
    "### Some tinkering to display the outputs of an evaluation"
   ]
  },
  {
   "cell_type": "code",
   "execution_count": 40,
   "metadata": {},
   "outputs": [
    {
     "name": "stdout",
     "output_type": "stream",
     "text": [
      "Actual Digit:    7\n",
      "Predicted Digit: 7 (9.40)\n",
      "Nearest Digit  : 9 (6.68)\n",
      "Farthest Digit : 6 (-7.27)\n"
     ]
    },
    {
     "data": {
      "image/png": "[encoded data removed]",
      "text/plain": [
       "<Figure size 432x648 with 2 Axes>"
      ]
     },
     "metadata": {
      "needs_background": "light"
     },
     "output_type": "display_data"
    }
   ],
   "source": [
    "import random\n",
    "\n",
    "xs, ys = next(iter(test_dl))\n",
    "\n",
    "idx = random.randint(0, len(xs))\n",
    "\n",
    "x = xs[idx]\n",
    "y = ys[idx]\n",
    "\n",
    "model = nonfed_alldata_mgr.model\n",
    "with torch.no_grad():\n",
    "    log_pred = model(x)\n",
    "\n",
    "show_prediction(x, log_pred, y)\n",
    "\n",
    "pred_vals = sorted(zip(range(10), log_pred[0].tolist()), key=lambda item: item[1], reverse=True)\n",
    "\n",
    "print('Actual Digit:   ', y.item())\n",
    "print('Predicted Digit: {:d} ({:.2f})'.format(pred_vals[0][0], pred_vals[0][1]))\n",
    "print('Nearest Digit  : {:d} ({:.2f})'.format(pred_vals[1][0], pred_vals[1][1]))\n",
    "print('Farthest Digit : {:d} ({:.2f})'.format(pred_vals[9][0], pred_vals[9][1]))"
   ]
  },
  {
   "cell_type": "code",
   "execution_count": null,
   "metadata": {},
   "outputs": [],
   "source": []
  },
  {
   "cell_type": "code",
   "execution_count": 52,
   "metadata": {},
   "outputs": [],
   "source": [
    "from sklearn.datasets import fetch_openml\n",
    "mnist = fetch_openml(\"mnist_784\", data_home=\"./scikit_learn_data/\")"
   ]
  },
  {
   "cell_type": "code",
   "execution_count": null,
   "metadata": {},
   "outputs": [],
   "source": [
    "import umap\n",
    "import matplotlib.pyplot as plt\n",
    "import seaborn as sns\n",
    "\n",
    "sns.set(context=\"paper\", style=\"white\")\n",
    "\n",
    "reducer = umap.UMAP(random_state=42,min_dist=0.8)\n",
    "embedding = reducer.fit_transform(mnist.data)\n",
    "\n",
    "fig, ax = plt.subplots(figsize=(12, 10))\n",
    "plt.scatter(\n",
    "    embedding[:, 0], embedding[:, 1], c=mnist.target, cmap=\"Spectral\", s=0.1\n",
    ")\n",
    "plt.setp(ax, xticks=[], yticks=[])\n",
    "plt.title(\"MNIST data embedded into two dimensions by UMAP 0.8\", fontsize=18)\n",
    "\n",
    "plt"
   ]
  },
  {
   "cell_type": "code",
   "execution_count": null,
   "metadata": {},
   "outputs": [],
   "source": []
  }
 ],
 "metadata": {
  "kernelspec": {
   "display_name": "Python 3",
   "language": "python",
   "name": "python3"
  },
  "language_info": {
   "codemirror_mode": {
    "name": "ipython",
    "version": 3
   },
   "file_extension": ".py",
   "mimetype": "text/x-python",
   "name": "python",
   "nbconvert_exporter": "python",
   "pygments_lexer": "ipython3",
   "version": "3.6.7"
  }
 },
 "nbformat": 4,
 "nbformat_minor": 2
}
