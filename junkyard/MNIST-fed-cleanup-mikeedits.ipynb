{
 "cells": [
  {
   "cell_type": "markdown",
   "metadata": {},
   "source": [
    "Put this in this file to have imported models reload automatically when you edit them."
   ]
  },
  {
   "cell_type": "code",
   "execution_count": 1,
   "metadata": {},
   "outputs": [
    {
     "name": "stdout",
     "output_type": "stream",
     "text": [
      "%load_ext autoreload\r\n",
      "%autoreload 2"
     ]
    }
   ],
   "source": [
    "!cat ~/.ipython/profile_default/startup/00-autoreload.ipy"
   ]
  },
  {
   "cell_type": "markdown",
   "metadata": {},
   "source": [
    "# Federated Learning Test\n",
    "\n",
    "This notebook is a test of federated learning using the MNIST dataset. It distributes partial subsets of the MNIST data to each worker and tests the results of federation of the workers. It also skews the subsets to investigate the value of federation in cases where workers have substantially different samples."
   ]
  },
  {
   "cell_type": "code",
   "execution_count": 2,
   "metadata": {},
   "outputs": [],
   "source": [
    "data_path = './MNIST-data/raw'\n",
    "\n",
    "# location of data and labels\n",
    "test_labels_file = data_path + '/' + 't10k-labels-idx1-ubyte'\n",
    "test_data_file = data_path + '/' + 't10k-images-idx3-ubyte'\n",
    "train_labels_file = data_path + '/' + 'train-labels-idx1-ubyte'\n",
    "train_data_file = data_path + '/' + 'train-images-idx3-ubyte'"
   ]
  },
  {
   "cell_type": "code",
   "execution_count": 3,
   "metadata": {},
   "outputs": [],
   "source": [
    "import torch\n",
    "import torchvision.datasets as dsets\n",
    "import torchvision.transforms as transforms\n",
    "\n",
    "trans = transforms.Compose([transforms.ToTensor(), transforms.Normalize((0.5,), (1.0,))])\n",
    "\n",
    "# pytorch datasets that download MNIST set as needed; used only to download files\n",
    "train_dset = dsets.MNIST(root=data_path, download=False, train=True, transform=trans)\n",
    "test_dset = dsets.MNIST(root=data_path, download=False, train=False, transform=trans)"
   ]
  },
  {
   "cell_type": "code",
   "execution_count": 4,
   "metadata": {},
   "outputs": [],
   "source": [
    "# this is a hacky way of turning a dataset into two lists.\n",
    "# In this case, Xtest is now a list of Tensors, and ytest is a regular list\n",
    "Xtest, ytest = list(zip(*test_dset))"
   ]
  },
  {
   "cell_type": "code",
   "execution_count": 5,
   "metadata": {},
   "outputs": [],
   "source": [
    "# This turns a list of N A*B tensors into an N*A*B tensor\n",
    "Xtest = torch.stack(Xtest)"
   ]
  },
  {
   "cell_type": "code",
   "execution_count": 6,
   "metadata": {},
   "outputs": [],
   "source": [
    "# This turns a list into a tensor, and ensures they stay as integers (no conversion to floats!)\n",
    "ytest = torch.LongTensor(ytest)"
   ]
  },
  {
   "cell_type": "code",
   "execution_count": 7,
   "metadata": {},
   "outputs": [],
   "source": [
    "from torch.utils.data import DataLoader\n",
    "\n",
    "batch_size = 128\n",
    "\n",
    "train_dloader = DataLoader(train_dset, batch_size=batch_size, shuffle=True)\n",
    "test_dloader = DataLoader(test_dset, batch_size=batch_size, shuffle=False)"
   ]
  },
  {
   "cell_type": "code",
   "execution_count": 8,
   "metadata": {},
   "outputs": [],
   "source": [
    "import torch.nn as nn\n",
    "\n",
    "class MLPNet(nn.Module):\n",
    "    def __init__(self):\n",
    "        super(MLPNet, self).__init__()\n",
    "        self.fc1 = nn.Linear(28*28, 500)\n",
    "        self.fc2 = nn.Linear(500, 256)\n",
    "        self.fc3 = nn.Linear(256, 10)\n",
    "    def forward(self, x):\n",
    "        x = x.view(-1, 28*28)\n",
    "        x = nn.functional.relu(self.fc1(x))\n",
    "        x = nn.functional.relu(self.fc2(x))\n",
    "        x = self.fc3(x)\n",
    "        return x\n",
    "    \n",
    "    def name(self):\n",
    "        return \"MLP\""
   ]
  },
  {
   "cell_type": "code",
   "execution_count": 9,
   "metadata": {},
   "outputs": [
    {
     "name": "stdout",
     "output_type": "stream",
     "text": [
      "0 2.297161340713501\n",
      "100 0.9419792890548706\n",
      "200 0.37137532234191895\n",
      "300 0.4283151924610138\n",
      "400 0.2935566008090973\n",
      "--> 0 0.3411778509616852\n",
      "0 0.4105534255504608\n",
      "100 0.41366875171661377\n",
      "200 0.36098212003707886\n",
      "300 0.20862707495689392\n",
      "400 0.1706695854663849\n",
      "--> 1 0.2446216344833374\n",
      "0 0.18194514513015747\n",
      "100 0.2098480761051178\n",
      "200 0.3343769311904907\n",
      "300 0.24149708449840546\n",
      "400 0.1291753649711609\n",
      "--> 2 0.1692156344652176\n",
      "0 0.13699257373809814\n",
      "100 0.12662312388420105\n",
      "200 0.1573057472705841\n",
      "300 0.15161092579364777\n",
      "400 0.1235627681016922\n",
      "--> 3 0.14506104588508606\n",
      "0 0.09948734939098358\n",
      "100 0.0583043210208416\n",
      "200 0.17417019605636597\n",
      "300 0.05175371468067169\n",
      "400 0.0903419777750969\n",
      "--> 4 0.13028807938098907\n"
     ]
    }
   ],
   "source": [
    "model = MLPNet()\n",
    "\n",
    "learning_rate = 1e-1\n",
    "num_epochs = 5\n",
    "\n",
    "optimizer = torch.optim.SGD(model.parameters(), lr=learning_rate)  # no momentum for like-with-like momentum=momentum)\n",
    "criterion = nn.CrossEntropyLoss()\n",
    "\n",
    "train_loss_history = []\n",
    "test_loss_history = []\n",
    "\n",
    "for epoch in range(num_epochs):\n",
    "\n",
    "    for batch_idx, (x, target) in enumerate(train_dloader):\n",
    "        optimizer.zero_grad()\n",
    "        out = model(x)\n",
    "        loss = criterion(out, target)\n",
    "        train_loss_history.append(loss.item())\n",
    "        if batch_idx%100 == 0:\n",
    "            print(batch_idx, train_loss_history[-1])\n",
    "        loss.backward()\n",
    "        optimizer.step()\n",
    "    \n",
    "    # only do this once per epoch. Expensive.\n",
    "    # (Although it makes it difficult to show two loss curves on same plot, as you saw)\n",
    "    with torch.no_grad():\n",
    "        test_loss_history.append(criterion(model(Xtest), ytest).item())\n",
    "        print(\"-->\", epoch, test_loss_history[-1])"
   ]
  },
  {
   "cell_type": "code",
   "execution_count": 16,
   "metadata": {},
   "outputs": [
    {
     "data": {
      "image/png": "[encoded data removed]",
      "text/plain": [
       "<Figure size 432x288 with 2 Axes>"
      ]
     },
     "metadata": {
      "needs_background": "light"
     },
     "output_type": "display_data"
    }
   ],
   "source": [
    "%matplotlib inline\n",
    "import matplotlib.pyplot as plt\n",
    "fig, ax = plt.subplots(1, 2)\n",
    "ax[0].plot(train_loss_history, label=\"train\")\n",
    "ax[0].set_xlabel(\"batches\")\n",
    "ax[1].plot(test_loss_history, label=\"test\")\n",
    "ax[1].set_xlabel(\"epochs\")\n",
    "ax[0].legend()\n",
    "ax[1].legend();"
   ]
  },
  {
   "cell_type": "markdown",
   "metadata": {},
   "source": [
    "## Testing Federation"
   ]
  },
  {
   "cell_type": "code",
   "execution_count": 11,
   "metadata": {},
   "outputs": [],
   "source": [
    "import federated\n",
    "\n",
    "def make_model():\n",
    "    return MLPNet()\n",
    "\n",
    "manager = federated.FederatedManager(\n",
    "    [train_dloader],\n",
    "    make_model,\n",
    "    nn.CrossEntropyLoss(),  # this needs to be an instance of the class, i.e. an object, i.e. you needed `()`\n",
    "    Xtest,\n",
    "    ytest,\n",
    ")"
   ]
  },
  {
   "cell_type": "code",
   "execution_count": 12,
   "metadata": {},
   "outputs": [],
   "source": [
    "# compare like with like\n",
    "for w in manager.workers:\n",
    "    w.lr = learning_rate"
   ]
  },
  {
   "cell_type": "code",
   "execution_count": 13,
   "metadata": {
    "scrolled": false
   },
   "outputs": [
    {
     "name": "stdout",
     "output_type": "stream",
     "text": [
      "0 2.3076844215393066\n",
      "100 0.8370888829231262\n",
      "200 0.4121972620487213\n",
      "300 0.500619649887085\n",
      "400 0.2845262587070465\n",
      "--> 0 0.30804163217544556\n",
      "0 0.24999183416366577\n",
      "100 0.25267183780670166\n",
      "200 0.3568066954612732\n",
      "300 0.11582835018634796\n",
      "400 0.22745180130004883\n",
      "--> 1 0.2461712658405304\n",
      "0 0.371670663356781\n",
      "100 0.1418774425983429\n",
      "200 0.22430670261383057\n",
      "300 0.16305169463157654\n",
      "400 0.17781521379947662\n",
      "--> 2 0.21221373975276947\n",
      "0 0.16905507445335388\n",
      "100 0.13505819439888\n",
      "200 0.12080030888319016\n",
      "300 0.13447339832782745\n",
      "400 0.17022590339183807\n",
      "--> 3 0.14569613337516785\n",
      "0 0.20676857233047485\n",
      "100 0.19279523193836212\n",
      "200 0.28069746494293213\n",
      "300 0.03295467793941498\n",
      "400 0.19760127365589142\n",
      "--> 4 0.12683068215847015\n"
     ]
    }
   ],
   "source": [
    "for i in range(num_epochs):\n",
    "    manager.round()\n",
    "    print(\"-->\", i, manager.manager_loss_history[-1])"
   ]
  },
  {
   "cell_type": "code",
   "execution_count": 14,
   "metadata": {},
   "outputs": [
    {
     "data": {
      "image/png": "[encoded data removed]",
      "text/plain": [
       "<Figure size 432x288 with 1 Axes>"
      ]
     },
     "metadata": {
      "needs_background": "light"
     },
     "output_type": "display_data"
    }
   ],
   "source": [
    "fig, ax = plt.subplots()\n",
    "# loss of global model on test set gets recorded twice per round\n",
    "# [1::2] skips the record that takes place before that round's training has happened\n",
    "ax.plot(manager.manager_loss_history[1::2])\n",
    "ax.set_xlabel(\"round\");"
   ]
  },
  {
   "cell_type": "markdown",
   "metadata": {},
   "source": [
    "# Next\n",
    "\n",
    " - $>1$ dataloader to federated\n",
    " - visualize evolution of manager.workers[0, 1, 2, etc.].loss_history (this should be comparable to the training loss on the non-federated model)\n",
    " - stack deck in dataloaders"
   ]
  }
 ],
 "metadata": {
  "kernelspec": {
   "display_name": "Python 3",
   "language": "python",
   "name": "python3"
  },
  "language_info": {
   "codemirror_mode": {
    "name": "ipython",
    "version": 3
   },
   "file_extension": ".py",
   "mimetype": "text/x-python",
   "name": "python",
   "nbconvert_exporter": "python",
   "pygments_lexer": "ipython3",
   "version": "3.6.5"
  }
 },
 "nbformat": 4,
 "nbformat_minor": 2
}
