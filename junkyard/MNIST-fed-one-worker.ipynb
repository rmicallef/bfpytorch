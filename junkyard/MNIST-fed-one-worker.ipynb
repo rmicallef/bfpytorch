{
 "cells": [
  {
   "cell_type": "markdown",
   "metadata": {},
   "source": [
    "# Federated Machine Learning in PyTorch\n",
    "\n",
    "This notebook is a demonstration of _federated learning_, a type of machine learning in which a machine learning task is addressed using multiple devices, implemented in `pytorch`, a python implementation of the `torch` machine learning framework. This notebook is part of a series intended to start from the basics to demonstrate federated learning in pytorch, then move on to test some of the bounds of what federated learning can (and can't) do.\n",
    "\n",
    "Now, let's talk about what we're going to see in _this_ notebook.\n",
    "\n",
    "## The Task: Digit Recognition\n",
    "\n",
    "For this demonstration, our task is a classic one: the MNIST digit recognition task. Specifically, we need to determine which number is written in an image of a handwritten digit like this one: \n",
    "\n",
    "![Handwritten digit \"6\"](images/example-6.png)\n",
    "\n",
    "To carry out this task we need a machine learning model to \"look\" at an image and classify it into a number. We also need and image data to train the model. We're going to use a simple convolutional neural network model. For the training images, we're using the well-known MNIST digits dataset.\n",
    "\n",
    "## The Approach: Federation\n",
    "\n",
    "The federated approach uses several _worker_ devices to train their own local models with independent data. That is, the workers each train their own local model with a subset of the full dataset.\n",
    "\n",
    "Each worker trains its local model for a bit, then sends its incrementally trained local model back to a _manager_. The manager combines the local models from all of the workers into a master model, then sends the master model back to the workers. This process is called a _round_. \n",
    "\n",
    "Then another round begins: the workers each train their local copy of the master model (creating another set of individualized local models), send those local models back to the manager. Once again the manager combines these individualized local models into a new master model, and pushes the new master model down to the workers. This cycle of rounds repeats as long as is necessary and useful.\n",
    "\n",
    "## Our Federation Library\n",
    "\n",
    "The `federated` library we're using here includes a `FederatedManager` class and a `FederatedWorker` class. A `FederatedManager` contains a master prediction model and creates several independent `FederatedWorker` instances. Each `FederatedWorker` has its own local model and a distinct subset of the MNIST data.\n",
    "\n",
    "In each `round` of federated learning, each `FederatedWorker` trains its local model using only the data that that worker recieves, and then sends its trained local model to the `FederatedManager`. The `FederatedManager` combines the models into an updated master model and pushes that new master model down to each `FederatedWorker`.\n",
    "\n",
    "We're going to see how federation works and test out some corner cases here. Let's get started with the code."
   ]
  },
  {
   "cell_type": "markdown",
   "metadata": {},
   "source": [
    "## The Basics\n",
    "\n",
    "We need to load up the common elements to be used in the traditional and federated machine learning approaches. But we do a little housekeeping first to track performance of the code."
   ]
  },
  {
   "cell_type": "code",
   "execution_count": 1,
   "metadata": {},
   "outputs": [],
   "source": [
    "import time\n",
    "import datetime\n",
    "\n",
    "run_data = {} # used for code profiling\n",
    "\n",
    "run_data['Date'] = datetime.datetime.today().strftime('%Y-%m-%d %H:%M:%S')\n",
    "run_data['Global Start Time'] = time.time()"
   ]
  },
  {
   "cell_type": "markdown",
   "metadata": {},
   "source": [
    "### The Model\n",
    "\n",
    "Now we define the model. We're using a simple multilayer perceptron in the `torch` framework."
   ]
  },
  {
   "cell_type": "code",
   "execution_count": 2,
   "metadata": {},
   "outputs": [],
   "source": [
    "# Define the model\n",
    "\n",
    "import torch.nn as nn\n",
    "\n",
    "class MLPNet(nn.Module):\n",
    "    def __init__(self):\n",
    "        super(MLPNet, self).__init__()\n",
    "        self.fc1 = nn.Linear(28*28, 500)\n",
    "        self.fc2 = nn.Linear(500, 256)\n",
    "        self.fc3 = nn.Linear(256, 10)\n",
    "    def forward(self, x):\n",
    "        x = x.view(-1, 28*28)\n",
    "        x = nn.functional.relu(self.fc1(x))\n",
    "        x = nn.functional.relu(self.fc2(x))\n",
    "        x = self.fc3(x)\n",
    "        return x"
   ]
  },
  {
   "cell_type": "markdown",
   "metadata": {},
   "source": [
    "### The Data - Standard MNIST Datasets\n",
    "Here we get plain vanilla MNIST data, a training set and a test set. Nothing exciting to see here. This is our baseline. \n",
    "\n",
    "If you don't already have the MNIST data on your machine, the setting `download=True` in the call to `torchvision.datasets.MNIST()` will fetch the data for you."
   ]
  },
  {
   "cell_type": "code",
   "execution_count": 3,
   "metadata": {},
   "outputs": [],
   "source": [
    "# load the data\n",
    "\n",
    "import torch\n",
    "import torchvision.datasets as dsets\n",
    "import torchvision.transforms as transforms\n",
    "\n",
    "# create standard datasets using all of the MNIST data\n",
    "\n",
    "data_path = './MNIST-data/raw'\n",
    "trans = transforms.Compose([transforms.ToTensor(), transforms.Normalize((0.5,), (1.0,))])\n",
    "\n",
    "train_dset = dsets.MNIST(root=data_path, download=True, train=True, transform=trans)\n",
    "test_dset = dsets.MNIST(root=data_path, download=True, train=False, transform=trans)"
   ]
  },
  {
   "cell_type": "markdown",
   "metadata": {},
   "source": [
    "Now we have our standard MNIST datasets: `train_dset` contains 60,000 examples, and `test_dset` contains 10,000 samples."
   ]
  },
  {
   "cell_type": "markdown",
   "metadata": {},
   "source": [
    "TODO: EXPLAIN WHY WE NORMALIZE THE DATA, AND WHY WE USE THOSE VALUES?"
   ]
  },
  {
   "cell_type": "code",
   "execution_count": 4,
   "metadata": {},
   "outputs": [],
   "source": [
    "# create dataloaders\n",
    "\n",
    "from torch.utils.data import DataLoader\n",
    "\n",
    "run_data['Batch Size'] = batch_size = 256\n",
    "\n",
    "# create standard dataloaders using all of the MNIST data - this is for baseline purposes\n",
    "train_dloader = DataLoader(train_dset, batch_size=batch_size, shuffle=True)\n",
    "test_dloader = DataLoader(test_dset, batch_size=batch_size, shuffle=False)"
   ]
  },
  {
   "cell_type": "markdown",
   "metadata": {},
   "source": [
    "Let's check out the default data. The out-of-the-box MNIST dataset has roughly equal numbers of samples for each digit, i.e., about as many `4`s as `6`s."
   ]
  },
  {
   "cell_type": "markdown",
   "metadata": {},
   "source": [
    "The training data is reasonably well distributed, and the plots below confirm it. We scaled up the test set counts by a factor of six to make them comparable to the training set, which has exactly six times as many examples as the test set."
   ]
  },
  {
   "cell_type": "code",
   "execution_count": 5,
   "metadata": {},
   "outputs": [
    {
     "data": {
      "image/png": "[encoded data removed]",
      "text/plain": [
       "<Figure size 720x360 with 1 Axes>"
      ]
     },
     "metadata": {
      "needs_background": "light"
     },
     "output_type": "display_data"
    }
   ],
   "source": [
    "%matplotlib inline\n",
    "import matplotlib.pyplot as plt\n",
    "\n",
    "fig, ax = plt.subplots(figsize=(10, 5))\n",
    "fig.suptitle('Standard MNIST Digit Counts')\n",
    "ax.xaxis.set_major_locator(plt.MultipleLocator(1))\n",
    "ax.hist([train_dloader.dataset.targets.tolist(), test_dloader.dataset.targets.tolist()*6], \n",
    "        label=['Train', 'Test (scaled)'],\n",
    "        bins=list(range(11)), \n",
    "        histtype='bar',\n",
    "        align='left',\n",
    "        rwidth=0.8,\n",
    "       )\n",
    "ax.legend();"
   ]
  },
  {
   "cell_type": "markdown",
   "metadata": {},
   "source": [
    "## Baseline: The Non-Federated Approach\n",
    "\n",
    "To show a baseline of non-federated learning, we train a model using just one worker (we're technically using the federated library, but with one worker, it's equivalent to non-federated learning). This one worker will train on the full standard MNIST dataset of 60,000 examples.\n",
    "\n",
    "TODO: AND THEN DO WE WANT TO SHOW A MODEL TRAINED ONLY ON ONE SKEWED DATASET?\n",
    "\n",
    "TODO: Explain (and apologize?) the hack to measure the length of a dataset? Or find another way?"
   ]
  },
  {
   "cell_type": "code",
   "execution_count": 6,
   "metadata": {},
   "outputs": [
    {
     "name": "stdout",
     "output_type": "stream",
     "text": [
      "Dataset size:  60000\n"
     ]
    }
   ],
   "source": [
    "import federated\n",
    "\n",
    "run_data['Learning Rate'] = learning_rate = 1e-2\n",
    "run_data['Epochs per Round'] = num_epochs = 1\n",
    "run_data['Nonfederated Training Rounds'] = num_rounds = 3\n",
    "\n",
    "default_manager = federated.FederatedManager(\n",
    "    [train_dloader],\n",
    "    MLPNet,\n",
    "    nn.CrossEntropyLoss(),\n",
    "    learning_rate,\n",
    "    test_dset,\n",
    "    num_epochs\n",
    ")\n",
    "\n",
    "print(\"Dataset size: \", len(train_dloader.dataset))\n",
    "    \n",
    "#_, ybatches = list(zip(*train_dloader))\n",
    "#print(\"Dataset size:\", len(torch.cat(ybatches)))"
   ]
  },
  {
   "cell_type": "code",
   "execution_count": 7,
   "metadata": {},
   "outputs": [
    {
     "name": "stderr",
     "output_type": "stream",
     "text": [
      "\r",
      "  0%|          | 0/3 [00:00<?, ?it/s]"
     ]
    },
    {
     "name": "stdout",
     "output_type": "stream",
     "text": [
      "Training 3 round(s) with 1 worker(s) doing 1 epoch(s) per round.\n",
      "\n",
      "Beginning round 1\n",
      "\tWorker: 7112 \tlocal loss: 2.08\n"
     ]
    },
    {
     "name": "stderr",
     "output_type": "stream",
     "text": [
      "\r",
      " 33%|███▎      | 1/3 [00:32<01:04, 32.06s/it]"
     ]
    },
    {
     "name": "stdout",
     "output_type": "stream",
     "text": [
      "Finished round 1 with global loss: 2.07815 \n",
      "\n",
      "Beginning round 2\n",
      "\tWorker: 7112 \tlocal loss: 1.57\n"
     ]
    },
    {
     "name": "stderr",
     "output_type": "stream",
     "text": [
      "\r",
      " 67%|██████▋   | 2/3 [01:00<00:31, 31.12s/it]"
     ]
    },
    {
     "name": "stdout",
     "output_type": "stream",
     "text": [
      "Finished round 2 with global loss: 1.40588 \n",
      "\n",
      "Beginning round 3\n",
      "\tWorker: 7112 \tlocal loss: 0.91\n"
     ]
    },
    {
     "name": "stderr",
     "output_type": "stream",
     "text": [
      "\r",
      "100%|██████████| 3/3 [01:32<00:00, 31.28s/it]"
     ]
    },
    {
     "name": "stdout",
     "output_type": "stream",
     "text": [
      "Finished round 3 with global loss: 0.85352 \n",
      "\n",
      "Federated Training Time: 92.67\n"
     ]
    },
    {
     "name": "stderr",
     "output_type": "stream",
     "text": [
      "\n"
     ]
    }
   ],
   "source": [
    "from tqdm import tqdm\n",
    "\n",
    "print(\"Training\", num_rounds, \"round(s) with\", default_manager.n_workers, \"worker(s) doing\", num_epochs, \"epoch(s) per round.\\n\" )\n",
    "\n",
    "training_start_time = time.time()\n",
    "\n",
    "for i in tqdm(range(num_rounds)):\n",
    "    print(\"Beginning round\", i+1)\n",
    "    default_manager.round()\n",
    "    print(\"Finished round\", i+1, \"with global loss: %.5f\" % default_manager.manager_loss_history[-1], \"\\n\")\n",
    "\n",
    "run_data['Federated Training Time'] = time.time() - training_start_time\n",
    "#run_data['Manager Loss History'] = default_manager.manager_loss_history\n",
    "#run_data['Worker Loss Histories'] = default_manager.worker_loss_histories\n",
    "run_data['Final Global Loss'] = default_manager.manager_loss_history[-1]\n",
    "\n",
    "print('Federated Training Time: %.2f' % run_data['Federated Training Time'])"
   ]
  },
  {
   "cell_type": "code",
   "execution_count": 8,
   "metadata": {},
   "outputs": [
    {
     "data": {
      "image/png": "[encoded data removed]",
      "text/plain": [
       "<Figure size 1152x648 with 1 Axes>"
      ]
     },
     "metadata": {
      "needs_background": "light"
     },
     "output_type": "display_data"
    }
   ],
   "source": [
    "%matplotlib inline\n",
    "import matplotlib.pyplot as plt\n",
    "\n",
    "fig_default, ax_default = plt.subplots(figsize=(16, 9))\n",
    "# loss of global model on test set gets recorded twice per round\n",
    "# [1::2] skips the record that takes place before that round's training has happened\n",
    "ax_default.plot(default_manager.manager_loss_history[1::2], label=\"Global Loss\", )\n",
    "ax_default.set_xlabel(\"Federated Round\")\n",
    "ax_default.set_ylabel(\"Loss\")\n",
    "ax_default.legend();"
   ]
  },
  {
   "cell_type": "markdown",
   "metadata": {},
   "source": [
    "## The Federated Approach\n",
    "\n",
    "TODO: Federated learning _without_ the skew?"
   ]
  },
  {
   "cell_type": "code",
   "execution_count": 9,
   "metadata": {},
   "outputs": [],
   "source": [
    "# Unskewed Federated?"
   ]
  },
  {
   "cell_type": "markdown",
   "metadata": {},
   "source": [
    "## Stacking the Deck (Skewing Data)\n",
    "\n",
    "We know the baseline data is pretty even across numerals. Now we need a way to \"stack the deck\" of examples that each worker sees. This method creates a dataset that is randomly sampled from a given dataset with the random sampling biased according to a dictionary of weights for each label."
   ]
  },
  {
   "cell_type": "code",
   "execution_count": 10,
   "metadata": {},
   "outputs": [],
   "source": [
    "from torch.utils.data import WeightedRandomSampler\n",
    "\n",
    "def stacked_dset(dset, label_weights, N):\n",
    "    \"\"\"\n",
    "        dset: dataset\n",
    "        label_weights = {dog: 0.5, cat: 0.3, ...}\n",
    "        N: size of stacked dset\n",
    "        return: stacked WeightedRandomSampler\n",
    "    \"\"\"\n",
    "    weights = []\n",
    "    for data, label in dset:\n",
    "        weights.append(label_weights[label])\n",
    "\n",
    "#     for label in test_dset.targets:\n",
    "#         weights.append(label_weights[int(label)])\n",
    "# TODO / MLW : how to speed this up - currently takes about a minute to train ten stacked training sets\n",
    "    \n",
    "    return WeightedRandomSampler(weights, N, replacement=False)"
   ]
  },
  {
   "cell_type": "markdown",
   "metadata": {},
   "source": [
    "And this is where we get the dictionary of weights. For simplicity's sake, we just take a list of labels to be sampled \"normally\" and the rest are biased against. So, preserving `3`s and skewing everything else by a factor of 0.9 shoud get a set of weights that results in a dataset that is slightly heavy on `3`s compared to everything else. In an an extreme example, preserving only `3`s, with a skew of 0, will produce weights that will yield a dataset of only `3`s."
   ]
  },
  {
   "cell_type": "code",
   "execution_count": 11,
   "metadata": {},
   "outputs": [],
   "source": [
    "def skewed_weights(num_labels, labels_to_preserve, skew_bias):\n",
    "    \"\"\"\n",
    "        num_labels: number of labels to return (use 10 for MNIST)\n",
    "        labels_to_preserve: list of labels to preserve wih no skew \n",
    "        skew_bias: a float, 0 < bias < 1, to which non-selected labels will be biased down\n",
    "        return: dictionary of each label and its bias\n",
    "    \"\"\"\n",
    "    weights = {}\n",
    "    for label in range(num_labels):\n",
    "        if label in labels_to_preserve:\n",
    "            weights[label] = 1\n",
    "        else:\n",
    "            weights[label] = skew_bias\n",
    "    \n",
    "    return weights"
   ]
  },
  {
   "cell_type": "markdown",
   "metadata": {},
   "source": [
    "Here we do the sampling to create our skewed datasets."
   ]
  },
  {
   "cell_type": "code",
   "execution_count": 12,
   "metadata": {
    "scrolled": true
   },
   "outputs": [
    {
     "name": "stderr",
     "output_type": "stream",
     "text": [
      "100%|██████████| 10/10 [02:55<00:00, 17.78s/it]"
     ]
    },
    {
     "name": "stdout",
     "output_type": "stream",
     "text": [
      "Stacking Time: 175.44\n",
      "Stacking Time per Loader: 17.54\n"
     ]
    },
    {
     "name": "stderr",
     "output_type": "stream",
     "text": [
      "\n"
     ]
    }
   ],
   "source": [
    "# create stacked loaders for the workers\n",
    "\n",
    "run_data['Skew Bias'] = skew_bias = 0.05\n",
    "run_data['Examples Per Skewed Loader'] = loader_size = 1000\n",
    "run_data['Number of Workers'] = num_workers = 10\n",
    "\n",
    "stacking_start_time = time.time()\n",
    "\n",
    "stacked_data_loaders = []\n",
    "for label in tqdm(range(num_workers)):\n",
    "    stacked_sampler = stacked_dset(train_dset, skewed_weights(10, [label%10], skew_bias), loader_size)\n",
    "    stacked_data_loaders.append(DataLoader(train_dset, batch_size=batch_size, shuffle=False, sampler=stacked_sampler))\n",
    "\n",
    "run_data['Stacking Time'] = time.time() - stacking_start_time\n",
    "run_data['Stacking Time per Loader'] = run_data['Stacking Time'] / run_data['Number of Workers']\n",
    "\n",
    "print('Stacking Time: %.2f' % run_data['Stacking Time'])\n",
    "print('Stacking Time per Loader: %.2f' % run_data['Stacking Time per Loader'])"
   ]
  },
  {
   "cell_type": "markdown",
   "metadata": {},
   "source": [
    "We should see the effect of the skew in a count and histogram of a skewed dataset. Here, we arbitrarily picked the first dataloader."
   ]
  },
  {
   "cell_type": "code",
   "execution_count": 13,
   "metadata": {},
   "outputs": [
    {
     "name": "stdout",
     "output_type": "stream",
     "text": [
      "Dataloader sample count: 600\n"
     ]
    }
   ],
   "source": [
    "_, ybatches = list(zip(*stacked_data_loaders[0]))\n",
    "print('Dataloader sample count:', len(torch.cat(ybatches)))"
   ]
  },
  {
   "cell_type": "code",
   "execution_count": 14,
   "metadata": {},
   "outputs": [
    {
     "name": "stdout",
     "output_type": "stream",
     "text": [
      "Dataloader 0 sample count: 600\n",
      "Dataloader 1 sample count: 600\n",
      "Dataloader 2 sample count: 600\n",
      "Dataloader 3 sample count: 600\n",
      "Dataloader 4 sample count: 600\n",
      "Dataloader 5 sample count: 600\n",
      "Dataloader 6 sample count: 600\n",
      "Dataloader 7 sample count: 600\n",
      "Dataloader 8 sample count: 600\n",
      "Dataloader 9 sample count: 600\n"
     ]
    }
   ],
   "source": [
    "for i in range(len(stacked_data_loaders)):\n",
    "    _, ybatches = list(zip(*stacked_data_loaders[i]))\n",
    "    print('Dataloader', i ,'sample count:', len(torch.cat(ybatches)))"
   ]
  },
  {
   "cell_type": "code",
   "execution_count": 23,
   "metadata": {},
   "outputs": [
    {
     "name": "stderr",
     "output_type": "stream",
     "text": [
      "\n",
      "  0%|          | 0/10 [00:00<?, ?it/s]\u001b[A\n",
      " 10%|█         | 1/10 [00:01<00:09,  1.10s/it]\u001b[A"
     ]
    },
    {
     "name": "stdout",
     "output_type": "stream",
     "text": [
      "(405, 20, 19, 28, 27, 20, 20, 20, 20, 21)\n"
     ]
    },
    {
     "name": "stderr",
     "output_type": "stream",
     "text": [
      "\n",
      " 20%|██        | 2/10 [00:02<00:09,  1.15s/it]\u001b[A"
     ]
    },
    {
     "name": "stdout",
     "output_type": "stream",
     "text": [
      "(12, 446, 14, 14, 25, 13, 23, 21, 18, 14)\n"
     ]
    },
    {
     "name": "stderr",
     "output_type": "stream",
     "text": [
      "\n",
      " 30%|███       | 3/10 [00:04<00:09,  1.37s/it]\u001b[A"
     ]
    },
    {
     "name": "stdout",
     "output_type": "stream",
     "text": [
      "(24, 23, 391, 20, 27, 17, 23, 32, 24, 19)\n"
     ]
    },
    {
     "name": "stderr",
     "output_type": "stream",
     "text": [
      "\n",
      " 40%|████      | 4/10 [00:05<00:08,  1.47s/it]\u001b[A"
     ]
    },
    {
     "name": "stdout",
     "output_type": "stream",
     "text": [
      "(21, 26, 12, 411, 24, 15, 25, 20, 27, 19)\n"
     ]
    },
    {
     "name": "stderr",
     "output_type": "stream",
     "text": [
      "\n",
      " 50%|█████     | 5/10 [00:08<00:08,  1.71s/it]\u001b[A"
     ]
    },
    {
     "name": "stdout",
     "output_type": "stream",
     "text": [
      "(24, 26, 18, 27, 392, 13, 35, 24, 21, 20)\n"
     ]
    },
    {
     "name": "stderr",
     "output_type": "stream",
     "text": [
      "\n",
      " 60%|██████    | 6/10 [00:09<00:06,  1.72s/it]\u001b[A"
     ]
    },
    {
     "name": "stdout",
     "output_type": "stream",
     "text": [
      "(18, 18, 20, 22, 22, 401, 23, 22, 30, 24)\n"
     ]
    },
    {
     "name": "stderr",
     "output_type": "stream",
     "text": [
      "\n",
      " 70%|███████   | 7/10 [00:11<00:05,  1.76s/it]\u001b[A"
     ]
    },
    {
     "name": "stdout",
     "output_type": "stream",
     "text": [
      "(24, 23, 20, 32, 22, 14, 400, 18, 23, 24)\n"
     ]
    },
    {
     "name": "stderr",
     "output_type": "stream",
     "text": [
      "\n",
      " 80%|████████  | 8/10 [00:13<00:03,  1.64s/it]\u001b[A"
     ]
    },
    {
     "name": "stdout",
     "output_type": "stream",
     "text": [
      "(20, 36, 14, 17, 19, 28, 19, 406, 15, 26)\n"
     ]
    },
    {
     "name": "stderr",
     "output_type": "stream",
     "text": [
      "\n",
      " 90%|█████████ | 9/10 [00:14<00:01,  1.46s/it]\u001b[A"
     ]
    },
    {
     "name": "stdout",
     "output_type": "stream",
     "text": [
      "(28, 28, 18, 17, 23, 14, 24, 28, 400, 20)\n"
     ]
    },
    {
     "name": "stderr",
     "output_type": "stream",
     "text": [
      "\n",
      "100%|██████████| 10/10 [00:15<00:00,  1.32s/it]\u001b[A"
     ]
    },
    {
     "name": "stdout",
     "output_type": "stream",
     "text": [
      "(23, 19, 18, 25, 17, 20, 22, 35, 17, 404)\n",
      "10\n"
     ]
    }
   ],
   "source": [
    "from collections import Counter\n",
    "import numpy as np\n",
    "\n",
    "hist_counts = []\n",
    "digit_counts = []\n",
    "for loader in tqdm(stacked_data_loaders):\n",
    "    _, ybatches = list(zip(*loader))\n",
    "    ys = torch.cat(ybatches)\n",
    "    ys = [int(y) for y in ys]\n",
    "    hist_counts.append(ys)\n",
    "    \n",
    "    digits = sorted(Counter(ys).most_common())\n",
    "    _, digits = list(zip(*digits))\n",
    "    print(digits)\n",
    "    #print(loader)\n",
    "    digit_counts.append(list(digits))\n",
    "\n",
    "digit_counts = [list(i) for i in zip(*digit_counts)]\n",
    "\n",
    "print(len(digit_counts))"
   ]
  },
  {
   "cell_type": "code",
   "execution_count": 24,
   "metadata": {},
   "outputs": [
    {
     "name": "stdout",
     "output_type": "stream",
     "text": [
      "[   [405, 12, 24, 21, 24, 18, 24, 20, 28, 23],\n",
      "    [20, 446, 23, 26, 26, 18, 23, 36, 28, 19],\n",
      "    [19, 14, 391, 12, 18, 20, 20, 14, 18, 18],\n",
      "    [28, 14, 20, 411, 27, 22, 32, 17, 17, 25],\n",
      "    [27, 25, 27, 24, 392, 22, 22, 19, 23, 17],\n",
      "    [20, 13, 17, 15, 13, 401, 14, 28, 14, 20],\n",
      "    [20, 23, 23, 25, 35, 23, 400, 19, 24, 22],\n",
      "    [20, 21, 32, 20, 24, 22, 18, 406, 28, 35],\n",
      "    [20, 18, 24, 27, 21, 30, 23, 15, 400, 17],\n",
      "    [21, 14, 19, 19, 20, 24, 24, 26, 20, 404]]\n"
     ]
    }
   ],
   "source": [
    "import pprint\n",
    "pp = pprint.PrettyPrinter(indent=4)\n",
    "pp.pprint(digit_counts)\n",
    "#print(hist_counts)"
   ]
  },
  {
   "cell_type": "code",
   "execution_count": 17,
   "metadata": {
    "scrolled": false
   },
   "outputs": [
    {
     "data": {
      "image/png": "[encoded data removed]",
      "text/plain": [
       "<Figure size 1080x360 with 1 Axes>"
      ]
     },
     "metadata": {
      "needs_background": "light"
     },
     "output_type": "display_data"
    }
   ],
   "source": [
    "fig, ax = plt.subplots(figsize=(15, 5))\n",
    "fig.suptitle('Skew Example')\n",
    "ax.xaxis.set_major_locator(plt.MultipleLocator(1))\n",
    "H = ax.hist(hist_counts, bins=range(11), histtype='bar', align='left', rwidth=0.8)"
   ]
  },
  {
   "cell_type": "code",
   "execution_count": 18,
   "metadata": {},
   "outputs": [
    {
     "data": {
      "image/png": "[encoded data removed]",
      "text/plain": [
       "<Figure size 1080x360 with 1 Axes>"
      ]
     },
     "metadata": {
      "needs_background": "light"
     },
     "output_type": "display_data"
    }
   ],
   "source": [
    "fig, ax = plt.subplots(figsize=(15, 5))\n",
    "fig.suptitle('Skew: Digit Counts by Worker')\n",
    "\n",
    "pos = list(range(num_workers))\n",
    "width = 0.08\n",
    "\n",
    "for digit in range(len(digit_counts)):\n",
    "    #print(digit)\n",
    "    ax.bar([p + (width * digit) for p in pos],\n",
    "           digit_counts[digit],\n",
    "           width = width,\n",
    "           label = str(digit),\n",
    "          )\n",
    "\n",
    "ax.set_xticks([p + (4.5 * width) for p in pos])\n",
    "ax.set_xticklabels([('Worker ' + str(x)) for x in range(num_workers)])\n",
    "ax.set_ylabel('Digit Samples')\n",
    "ax.legend(loc = 'upper right');"
   ]
  },
  {
   "cell_type": "markdown",
   "metadata": {},
   "source": [
    "We create the `federatedManager` using the skewed training data. Note that we don't skew the test data -- we want to see how everything performs on a normal data distribution."
   ]
  },
  {
   "cell_type": "code",
   "execution_count": 21,
   "metadata": {},
   "outputs": [],
   "source": [
    "import federated\n",
    "\n",
    "run_data['Learning Rate'] = learning_rate = 3e-3\n",
    "run_data['Epochs per Round'] = num_epochs = 1\n",
    "run_data['Federated Training Rounds'] = num_rounds = 100\n",
    "\n",
    "manager = federated.FederatedManager(\n",
    "    stacked_data_loaders,\n",
    "    MLPNet,\n",
    "    nn.CrossEntropyLoss(),\n",
    "    learning_rate,\n",
    "    test_dset,\n",
    "    num_epochs\n",
    ")"
   ]
  },
  {
   "cell_type": "markdown",
   "metadata": {},
   "source": [
    "Now let's do some rounds of federated training."
   ]
  },
  {
   "cell_type": "code",
   "execution_count": 22,
   "metadata": {},
   "outputs": [
    {
     "name": "stderr",
     "output_type": "stream",
     "text": [
      "\n",
      "  0%|          | 0/100 [00:00<?, ?it/s]\u001b[A"
     ]
    },
    {
     "name": "stdout",
     "output_type": "stream",
     "text": [
      "Training 100 round(s) with 10 worker(s) doing 1 epoch(s) per round.\n",
      "\n",
      "Beginning round 1\n",
      "\tWorker: 6032 \tlocal loss: 2.29\n",
      "\tWorker: 7904 \tlocal loss: 2.33\n",
      "\tWorker: 8440 \tlocal loss: 2.33\n",
      "\tWorker: 5680 \tlocal loss: 2.30\n",
      "\tWorker: 9656 \tlocal loss: 2.25\n",
      "\tWorker: 3888 \tlocal loss: 2.25\n",
      "\tWorker: 1952 \tlocal loss: 2.26\n",
      "\tWorker: 9976 \tlocal loss: 2.26\n",
      "\tWorker: 3760 \tlocal loss: 2.26\n",
      "\tWorker: 6616 \tlocal loss: 2.32\n"
     ]
    },
    {
     "name": "stderr",
     "output_type": "stream",
     "text": [
      "\n",
      "  1%|          | 1/100 [00:21<36:14, 21.96s/it]\u001b[A"
     ]
    },
    {
     "name": "stdout",
     "output_type": "stream",
     "text": [
      "Finished round 1 with global loss: 2.31 \n",
      "\n",
      "Beginning round 2\n",
      "\tWorker: 6032 \tlocal loss: 2.30\n",
      "\tWorker: 7904 \tlocal loss: 2.33\n",
      "\tWorker: 8440 \tlocal loss: 2.33\n",
      "\tWorker: 5680 \tlocal loss: 2.30\n",
      "\tWorker: 9656 \tlocal loss: 2.26\n",
      "\tWorker: 3888 \tlocal loss: 2.25\n",
      "\tWorker: 1952 \tlocal loss: 2.27\n",
      "\tWorker: 9976 \tlocal loss: 2.28\n",
      "\tWorker: 3760 \tlocal loss: 2.26\n",
      "\tWorker: 6616 \tlocal loss: 2.32\n"
     ]
    },
    {
     "name": "stderr",
     "output_type": "stream",
     "text": [
      "\n",
      "  2%|▏         | 2/100 [00:48<37:54, 23.21s/it]\u001b[A"
     ]
    },
    {
     "name": "stdout",
     "output_type": "stream",
     "text": [
      "Finished round 2 with global loss: 2.31 \n",
      "\n",
      "Beginning round 3\n",
      "\tWorker: 6032 \tlocal loss: 2.29\n",
      "\tWorker: 7904 \tlocal loss: 2.33\n",
      "\tWorker: 8440 \tlocal loss: 2.32\n",
      "\tWorker: 5680 \tlocal loss: 2.29\n",
      "\tWorker: 9656 \tlocal loss: 2.25\n",
      "\tWorker: 3888 \tlocal loss: 2.26\n",
      "\tWorker: 1952 \tlocal loss: 2.26\n",
      "\tWorker: 9976 \tlocal loss: 2.27\n",
      "\tWorker: 3760 \tlocal loss: 2.26\n",
      "\tWorker: 6616 \tlocal loss: 2.32\n"
     ]
    },
    {
     "name": "stderr",
     "output_type": "stream",
     "text": [
      "\n",
      "  3%|▎         | 3/100 [01:14<38:59, 24.12s/it]\u001b[A"
     ]
    },
    {
     "name": "stdout",
     "output_type": "stream",
     "text": [
      "Finished round 3 with global loss: 2.31 \n",
      "\n",
      "Beginning round 4\n",
      "\tWorker: 6032 \tlocal loss: 2.29\n",
      "\tWorker: 7904 \tlocal loss: 2.33\n",
      "\tWorker: 8440 \tlocal loss: 2.33\n",
      "\tWorker: 5680 \tlocal loss: 2.29\n",
      "\tWorker: 9656 \tlocal loss: 2.25\n",
      "\tWorker: 3888 \tlocal loss: 2.24\n",
      "\tWorker: 1952 \tlocal loss: 2.26\n",
      "\tWorker: 9976 \tlocal loss: 2.27\n",
      "\tWorker: 3760 \tlocal loss: 2.26\n",
      "\tWorker: 6616 \tlocal loss: 2.32\n"
     ]
    },
    {
     "name": "stderr",
     "output_type": "stream",
     "text": [
      "\n",
      "  4%|▍         | 4/100 [01:37<38:04, 23.80s/it]\u001b[A"
     ]
    },
    {
     "name": "stdout",
     "output_type": "stream",
     "text": [
      "Finished round 4 with global loss: 2.30 \n",
      "\n",
      "Beginning round 5\n",
      "\tWorker: 6032 \tlocal loss: 2.30\n",
      "\tWorker: 7904 \tlocal loss: 2.33\n",
      "\tWorker: 8440 \tlocal loss: 2.32\n",
      "\tWorker: 5680 \tlocal loss: 2.29\n",
      "\tWorker: 9656 \tlocal loss: 2.25\n",
      "\tWorker: 3888 \tlocal loss: 2.25\n",
      "\tWorker: 1952 \tlocal loss: 2.25\n",
      "\tWorker: 9976 \tlocal loss: 2.27\n",
      "\tWorker: 3760 \tlocal loss: 2.26\n",
      "\tWorker: 6616 \tlocal loss: 2.31\n"
     ]
    },
    {
     "name": "stderr",
     "output_type": "stream",
     "text": [
      "\n",
      "  5%|▌         | 5/100 [02:00<37:31, 23.70s/it]\u001b[A"
     ]
    },
    {
     "name": "stdout",
     "output_type": "stream",
     "text": [
      "Finished round 5 with global loss: 2.30 \n",
      "\n",
      "Beginning round 6\n",
      "\tWorker: 6032 \tlocal loss: 2.29\n",
      "\tWorker: 7904 \tlocal loss: 2.33\n",
      "\tWorker: 8440 \tlocal loss: 2.32\n",
      "\tWorker: 5680 \tlocal loss: 2.29\n",
      "\tWorker: 9656 \tlocal loss: 2.24\n",
      "\tWorker: 3888 \tlocal loss: 2.26\n",
      "\tWorker: 1952 \tlocal loss: 2.28\n",
      "\tWorker: 9976 \tlocal loss: 2.27\n",
      "\tWorker: 3760 \tlocal loss: 2.26\n",
      "\tWorker: 6616 \tlocal loss: 2.31\n"
     ]
    },
    {
     "name": "stderr",
     "output_type": "stream",
     "text": [
      "\n",
      "  6%|▌         | 6/100 [02:27<38:22, 24.49s/it]\u001b[A"
     ]
    },
    {
     "name": "stdout",
     "output_type": "stream",
     "text": [
      "Finished round 6 with global loss: 2.30 \n",
      "\n",
      "Beginning round 7\n",
      "\tWorker: 6032 \tlocal loss: 2.29\n",
      "\tWorker: 7904 \tlocal loss: 2.33\n",
      "\tWorker: 8440 \tlocal loss: 2.31\n",
      "\tWorker: 5680 \tlocal loss: 2.29\n",
      "\tWorker: 9656 \tlocal loss: 2.26\n",
      "\tWorker: 3888 \tlocal loss: 2.25\n",
      "\tWorker: 1952 \tlocal loss: 2.25\n",
      "\tWorker: 9976 \tlocal loss: 2.27\n",
      "\tWorker: 3760 \tlocal loss: 2.26\n",
      "\tWorker: 6616 \tlocal loss: 2.31\n"
     ]
    },
    {
     "name": "stderr",
     "output_type": "stream",
     "text": [
      "\n",
      "  7%|▋         | 7/100 [02:50<37:12, 24.01s/it]\u001b[A"
     ]
    },
    {
     "name": "stdout",
     "output_type": "stream",
     "text": [
      "Finished round 7 with global loss: 2.30 \n",
      "\n",
      "Beginning round 8\n",
      "\tWorker: 6032 \tlocal loss: 2.29\n",
      "\tWorker: 7904 \tlocal loss: 2.33\n",
      "\tWorker: 8440 \tlocal loss: 2.33\n",
      "\tWorker: 5680 \tlocal loss: 2.30\n",
      "\tWorker: 9656 \tlocal loss: 2.24\n",
      "\tWorker: 3888 \tlocal loss: 2.26\n",
      "\tWorker: 1952 \tlocal loss: 2.26\n",
      "\tWorker: 9976 \tlocal loss: 2.27\n",
      "\tWorker: 3760 \tlocal loss: 2.27\n",
      "\tWorker: 6616 \tlocal loss: 2.31\n"
     ]
    },
    {
     "name": "stderr",
     "output_type": "stream",
     "text": [
      "\n",
      "  8%|▊         | 8/100 [03:17<38:19, 24.99s/it]\u001b[A"
     ]
    },
    {
     "name": "stdout",
     "output_type": "stream",
     "text": [
      "Finished round 8 with global loss: 2.30 \n",
      "\n",
      "Beginning round 9\n",
      "\tWorker: 6032 \tlocal loss: 2.29\n",
      "\tWorker: 7904 \tlocal loss: 2.32\n",
      "\tWorker: 8440 \tlocal loss: 2.32\n",
      "\tWorker: 5680 \tlocal loss: 2.29\n",
      "\tWorker: 9656 \tlocal loss: 2.24\n",
      "\tWorker: 3888 \tlocal loss: 2.26\n",
      "\tWorker: 1952 \tlocal loss: 2.28\n",
      "\tWorker: 9976 \tlocal loss: 2.26\n",
      "\tWorker: 3760 \tlocal loss: 2.26\n",
      "\tWorker: 6616 \tlocal loss: 2.31\n"
     ]
    },
    {
     "name": "stderr",
     "output_type": "stream",
     "text": [
      "\n",
      "  9%|▉         | 9/100 [03:39<36:36, 24.13s/it]\u001b[A"
     ]
    },
    {
     "name": "stdout",
     "output_type": "stream",
     "text": [
      "Finished round 9 with global loss: 2.30 \n",
      "\n",
      "Beginning round 10\n",
      "\tWorker: 6032 \tlocal loss: 2.29\n",
      "\tWorker: 7904 \tlocal loss: 2.32\n",
      "\tWorker: 8440 \tlocal loss: 2.33\n",
      "\tWorker: 5680 \tlocal loss: 2.28\n",
      "\tWorker: 9656 \tlocal loss: 2.25\n",
      "\tWorker: 3888 \tlocal loss: 2.26\n",
      "\tWorker: 1952 \tlocal loss: 2.26\n",
      "\tWorker: 9976 \tlocal loss: 2.27\n",
      "\tWorker: 3760 \tlocal loss: 2.26\n",
      "\tWorker: 6616 \tlocal loss: 2.31\n"
     ]
    },
    {
     "name": "stderr",
     "output_type": "stream",
     "text": [
      "\n",
      " 10%|█         | 10/100 [04:03<36:19, 24.21s/it]\u001b[A"
     ]
    },
    {
     "name": "stdout",
     "output_type": "stream",
     "text": [
      "Finished round 10 with global loss: 2.30 \n",
      "\n",
      "Beginning round 11\n",
      "\tWorker: 6032 \tlocal loss: 2.28\n",
      "\tWorker: 7904 \tlocal loss: 2.32\n",
      "\tWorker: 8440 \tlocal loss: 2.33\n",
      "\tWorker: 5680 \tlocal loss: 2.29\n",
      "\tWorker: 9656 \tlocal loss: 2.24\n",
      "\tWorker: 3888 \tlocal loss: 2.26\n",
      "\tWorker: 1952 \tlocal loss: 2.26\n",
      "\tWorker: 9976 \tlocal loss: 2.27\n",
      "\tWorker: 3760 \tlocal loss: 2.26\n",
      "\tWorker: 6616 \tlocal loss: 2.31\n"
     ]
    },
    {
     "name": "stderr",
     "output_type": "stream",
     "text": [
      "\n",
      " 11%|█         | 11/100 [04:29<36:21, 24.51s/it]\u001b[A"
     ]
    },
    {
     "name": "stdout",
     "output_type": "stream",
     "text": [
      "Finished round 11 with global loss: 2.30 \n",
      "\n",
      "Beginning round 12\n",
      "\tWorker: 6032 \tlocal loss: 2.29\n",
      "\tWorker: 7904 \tlocal loss: 2.32\n",
      "\tWorker: 8440 \tlocal loss: 2.32\n",
      "\tWorker: 5680 \tlocal loss: 2.28\n",
      "\tWorker: 9656 \tlocal loss: 2.24\n",
      "\tWorker: 3888 \tlocal loss: 2.25\n",
      "\tWorker: 1952 \tlocal loss: 2.25\n",
      "\tWorker: 9976 \tlocal loss: 2.26\n",
      "\tWorker: 3760 \tlocal loss: 2.26\n",
      "\tWorker: 6616 \tlocal loss: 2.31\n"
     ]
    },
    {
     "name": "stderr",
     "output_type": "stream",
     "text": [
      "\n",
      " 12%|█▏        | 12/100 [04:55<36:57, 25.20s/it]\u001b[A"
     ]
    },
    {
     "name": "stdout",
     "output_type": "stream",
     "text": [
      "Finished round 12 with global loss: 2.30 \n",
      "\n",
      "Beginning round 13\n",
      "\tWorker: 6032 \tlocal loss: 2.29\n",
      "\tWorker: 7904 \tlocal loss: 2.32\n",
      "\tWorker: 8440 \tlocal loss: 2.32\n",
      "\tWorker: 5680 \tlocal loss: 2.29\n",
      "\tWorker: 9656 \tlocal loss: 2.24\n",
      "\tWorker: 3888 \tlocal loss: 2.24\n",
      "\tWorker: 1952 \tlocal loss: 2.26\n",
      "\tWorker: 9976 \tlocal loss: 2.26\n",
      "\tWorker: 3760 \tlocal loss: 2.26\n",
      "\tWorker: 6616 \tlocal loss: 2.31\n"
     ]
    },
    {
     "name": "stderr",
     "output_type": "stream",
     "text": [
      "\n",
      " 13%|█▎        | 13/100 [05:22<37:05, 25.58s/it]\u001b[A"
     ]
    },
    {
     "name": "stdout",
     "output_type": "stream",
     "text": [
      "Finished round 13 with global loss: 2.30 \n",
      "\n",
      "Beginning round 14\n",
      "\tWorker: 6032 \tlocal loss: 2.29\n",
      "\tWorker: 7904 \tlocal loss: 2.31\n",
      "\tWorker: 8440 \tlocal loss: 2.32\n",
      "\tWorker: 5680 \tlocal loss: 2.28\n",
      "\tWorker: 9656 \tlocal loss: 2.24\n",
      "\tWorker: 3888 \tlocal loss: 2.25\n",
      "\tWorker: 1952 \tlocal loss: 2.26\n",
      "\tWorker: 9976 \tlocal loss: 2.25\n",
      "\tWorker: 3760 \tlocal loss: 2.27\n",
      "\tWorker: 6616 \tlocal loss: 2.31\n"
     ]
    },
    {
     "name": "stderr",
     "output_type": "stream",
     "text": [
      "\n",
      " 14%|█▍        | 14/100 [05:43<34:47, 24.28s/it]\u001b[A"
     ]
    },
    {
     "name": "stdout",
     "output_type": "stream",
     "text": [
      "Finished round 14 with global loss: 2.30 \n",
      "\n",
      "Beginning round 15\n",
      "\tWorker: 6032 \tlocal loss: 2.28\n",
      "\tWorker: 7904 \tlocal loss: 2.31\n",
      "\tWorker: 8440 \tlocal loss: 2.31\n",
      "\tWorker: 5680 \tlocal loss: 2.28\n",
      "\tWorker: 9656 \tlocal loss: 2.24\n",
      "\tWorker: 3888 \tlocal loss: 2.25\n",
      "\tWorker: 1952 \tlocal loss: 2.25\n",
      "\tWorker: 9976 \tlocal loss: 2.26\n",
      "\tWorker: 3760 \tlocal loss: 2.26\n",
      "\tWorker: 6616 \tlocal loss: 2.30\n"
     ]
    },
    {
     "name": "stderr",
     "output_type": "stream",
     "text": [
      "\n",
      " 15%|█▌        | 15/100 [06:09<35:02, 24.73s/it]\u001b[A"
     ]
    },
    {
     "name": "stdout",
     "output_type": "stream",
     "text": [
      "Finished round 15 with global loss: 2.30 \n",
      "\n",
      "Beginning round 16\n",
      "\tWorker: 6032 \tlocal loss: 2.29\n",
      "\tWorker: 7904 \tlocal loss: 2.31\n",
      "\tWorker: 8440 \tlocal loss: 2.32\n",
      "\tWorker: 5680 \tlocal loss: 2.28\n",
      "\tWorker: 9656 \tlocal loss: 2.24\n",
      "\tWorker: 3888 \tlocal loss: 2.25\n",
      "\tWorker: 1952 \tlocal loss: 2.25\n",
      "\tWorker: 9976 \tlocal loss: 2.26\n",
      "\tWorker: 3760 \tlocal loss: 2.26\n",
      "\tWorker: 6616 \tlocal loss: 2.30\n"
     ]
    },
    {
     "name": "stderr",
     "output_type": "stream",
     "text": [
      "\n",
      " 16%|█▌        | 16/100 [06:27<31:51, 22.75s/it]\u001b[A"
     ]
    },
    {
     "name": "stdout",
     "output_type": "stream",
     "text": [
      "Finished round 16 with global loss: 2.30 \n",
      "\n",
      "Beginning round 17\n",
      "\tWorker: 6032 \tlocal loss: 2.28\n",
      "\tWorker: 7904 \tlocal loss: 2.31\n",
      "\tWorker: 8440 \tlocal loss: 2.32\n",
      "\tWorker: 5680 \tlocal loss: 2.28\n",
      "\tWorker: 9656 \tlocal loss: 2.24\n",
      "\tWorker: 3888 \tlocal loss: 2.25\n",
      "\tWorker: 1952 \tlocal loss: 2.26\n",
      "\tWorker: 9976 \tlocal loss: 2.26\n",
      "\tWorker: 3760 \tlocal loss: 2.25\n",
      "\tWorker: 6616 \tlocal loss: 2.31\n"
     ]
    },
    {
     "name": "stderr",
     "output_type": "stream",
     "text": [
      "\n",
      " 17%|█▋        | 17/100 [06:45<29:41, 21.46s/it]\u001b[A"
     ]
    },
    {
     "name": "stdout",
     "output_type": "stream",
     "text": [
      "Finished round 17 with global loss: 2.29 \n",
      "\n",
      "Beginning round 18\n",
      "\tWorker: 6032 \tlocal loss: 2.28\n",
      "\tWorker: 7904 \tlocal loss: 2.30\n",
      "\tWorker: 8440 \tlocal loss: 2.31\n",
      "\tWorker: 5680 \tlocal loss: 2.28\n",
      "\tWorker: 9656 \tlocal loss: 2.24\n",
      "\tWorker: 3888 \tlocal loss: 2.25\n",
      "\tWorker: 1952 \tlocal loss: 2.26\n",
      "\tWorker: 9976 \tlocal loss: 2.26\n",
      "\tWorker: 3760 \tlocal loss: 2.26\n",
      "\tWorker: 6616 \tlocal loss: 2.30\n"
     ]
    },
    {
     "name": "stderr",
     "output_type": "stream",
     "text": [
      "\n",
      " 18%|█▊        | 18/100 [07:09<30:08, 22.06s/it]\u001b[A"
     ]
    },
    {
     "name": "stdout",
     "output_type": "stream",
     "text": [
      "Finished round 18 with global loss: 2.29 \n",
      "\n",
      "Beginning round 19\n",
      "\tWorker: 6032 \tlocal loss: 2.28\n",
      "\tWorker: 7904 \tlocal loss: 2.30\n",
      "\tWorker: 8440 \tlocal loss: 2.31\n",
      "\tWorker: 5680 \tlocal loss: 2.28\n",
      "\tWorker: 9656 \tlocal loss: 2.24\n",
      "\tWorker: 3888 \tlocal loss: 2.26\n",
      "\tWorker: 1952 \tlocal loss: 2.26\n",
      "\tWorker: 9976 \tlocal loss: 2.26\n",
      "\tWorker: 3760 \tlocal loss: 2.26\n",
      "\tWorker: 6616 \tlocal loss: 2.30\n"
     ]
    },
    {
     "name": "stderr",
     "output_type": "stream",
     "text": [
      "\n",
      " 19%|█▉        | 19/100 [07:25<27:20, 20.26s/it]\u001b[A"
     ]
    },
    {
     "name": "stdout",
     "output_type": "stream",
     "text": [
      "Finished round 19 with global loss: 2.29 \n",
      "\n",
      "Beginning round 20\n",
      "\tWorker: 6032 \tlocal loss: 2.29\n",
      "\tWorker: 7904 \tlocal loss: 2.30\n",
      "\tWorker: 8440 \tlocal loss: 2.31\n",
      "\tWorker: 5680 \tlocal loss: 2.28\n",
      "\tWorker: 9656 \tlocal loss: 2.24\n",
      "\tWorker: 3888 \tlocal loss: 2.25\n",
      "\tWorker: 1952 \tlocal loss: 2.26\n",
      "\tWorker: 9976 \tlocal loss: 2.26\n",
      "\tWorker: 3760 \tlocal loss: 2.26\n",
      "\tWorker: 6616 \tlocal loss: 2.30\n"
     ]
    },
    {
     "name": "stderr",
     "output_type": "stream",
     "text": [
      "\n",
      " 20%|██        | 20/100 [07:43<25:57, 19.47s/it]\u001b[A"
     ]
    },
    {
     "name": "stdout",
     "output_type": "stream",
     "text": [
      "Finished round 20 with global loss: 2.29 \n",
      "\n",
      "Beginning round 21\n",
      "\tWorker: 6032 \tlocal loss: 2.28\n",
      "\tWorker: 7904 \tlocal loss: 2.29\n",
      "\tWorker: 8440 \tlocal loss: 2.32\n",
      "\tWorker: 5680 \tlocal loss: 2.28\n",
      "\tWorker: 9656 \tlocal loss: 2.25\n",
      "\tWorker: 3888 \tlocal loss: 2.26\n",
      "\tWorker: 1952 \tlocal loss: 2.27\n",
      "\tWorker: 9976 \tlocal loss: 2.25\n",
      "\tWorker: 3760 \tlocal loss: 2.26\n",
      "\tWorker: 6616 \tlocal loss: 2.30\n"
     ]
    },
    {
     "name": "stderr",
     "output_type": "stream",
     "text": [
      "\n",
      " 21%|██        | 21/100 [08:04<26:31, 20.14s/it]\u001b[A"
     ]
    },
    {
     "name": "stdout",
     "output_type": "stream",
     "text": [
      "Finished round 21 with global loss: 2.29 \n",
      "\n",
      "Beginning round 22\n",
      "\tWorker: 6032 \tlocal loss: 2.28\n",
      "\tWorker: 7904 \tlocal loss: 2.29\n",
      "\tWorker: 8440 \tlocal loss: 2.32\n",
      "\tWorker: 5680 \tlocal loss: 2.27\n",
      "\tWorker: 9656 \tlocal loss: 2.24\n",
      "\tWorker: 3888 \tlocal loss: 2.25\n",
      "\tWorker: 1952 \tlocal loss: 2.26\n",
      "\tWorker: 9976 \tlocal loss: 2.26\n",
      "\tWorker: 3760 \tlocal loss: 2.26\n",
      "\tWorker: 6616 \tlocal loss: 2.30\n"
     ]
    },
    {
     "name": "stderr",
     "output_type": "stream",
     "text": [
      "\n",
      " 22%|██▏       | 22/100 [08:22<25:13, 19.40s/it]\u001b[A"
     ]
    },
    {
     "name": "stdout",
     "output_type": "stream",
     "text": [
      "Finished round 22 with global loss: 2.29 \n",
      "\n",
      "Beginning round 23\n",
      "\tWorker: 6032 \tlocal loss: 2.28\n",
      "\tWorker: 7904 \tlocal loss: 2.28\n",
      "\tWorker: 8440 \tlocal loss: 2.32\n",
      "\tWorker: 5680 \tlocal loss: 2.28\n",
      "\tWorker: 9656 \tlocal loss: 2.24\n",
      "\tWorker: 3888 \tlocal loss: 2.26\n",
      "\tWorker: 1952 \tlocal loss: 2.25\n",
      "\tWorker: 9976 \tlocal loss: 2.24\n",
      "\tWorker: 3760 \tlocal loss: 2.26\n",
      "\tWorker: 6616 \tlocal loss: 2.29\n"
     ]
    },
    {
     "name": "stderr",
     "output_type": "stream",
     "text": [
      "\n",
      " 23%|██▎       | 23/100 [08:40<24:21, 18.99s/it]\u001b[A"
     ]
    },
    {
     "name": "stdout",
     "output_type": "stream",
     "text": [
      "Finished round 23 with global loss: 2.29 \n",
      "\n",
      "Beginning round 24\n",
      "\tWorker: 6032 \tlocal loss: 2.28\n",
      "\tWorker: 7904 \tlocal loss: 2.29\n",
      "\tWorker: 8440 \tlocal loss: 2.31\n",
      "\tWorker: 5680 \tlocal loss: 2.28\n",
      "\tWorker: 9656 \tlocal loss: 2.25\n",
      "\tWorker: 3888 \tlocal loss: 2.26\n",
      "\tWorker: 1952 \tlocal loss: 2.26\n",
      "\tWorker: 9976 \tlocal loss: 2.25\n",
      "\tWorker: 3760 \tlocal loss: 2.26\n",
      "\tWorker: 6616 \tlocal loss: 2.30\n"
     ]
    },
    {
     "name": "stderr",
     "output_type": "stream",
     "text": [
      "\n",
      " 24%|██▍       | 24/100 [09:00<24:31, 19.36s/it]\u001b[A"
     ]
    },
    {
     "name": "stdout",
     "output_type": "stream",
     "text": [
      "Finished round 24 with global loss: 2.29 \n",
      "\n",
      "Beginning round 25\n",
      "\tWorker: 6032 \tlocal loss: 2.28\n",
      "\tWorker: 7904 \tlocal loss: 2.28\n",
      "\tWorker: 8440 \tlocal loss: 2.31\n",
      "\tWorker: 5680 \tlocal loss: 2.28\n",
      "\tWorker: 9656 \tlocal loss: 2.25\n",
      "\tWorker: 3888 \tlocal loss: 2.25\n",
      "\tWorker: 1952 \tlocal loss: 2.26\n",
      "\tWorker: 9976 \tlocal loss: 2.25\n",
      "\tWorker: 3760 \tlocal loss: 2.25\n",
      "\tWorker: 6616 \tlocal loss: 2.29\n"
     ]
    },
    {
     "name": "stderr",
     "output_type": "stream",
     "text": [
      "\n",
      " 25%|██▌       | 25/100 [09:18<23:30, 18.81s/it]\u001b[A"
     ]
    },
    {
     "name": "stdout",
     "output_type": "stream",
     "text": [
      "Finished round 25 with global loss: 2.29 \n",
      "\n",
      "Beginning round 26\n",
      "\tWorker: 6032 \tlocal loss: 2.28\n",
      "\tWorker: 7904 \tlocal loss: 2.28\n",
      "\tWorker: 8440 \tlocal loss: 2.31\n",
      "\tWorker: 5680 \tlocal loss: 2.27\n",
      "\tWorker: 9656 \tlocal loss: 2.25\n",
      "\tWorker: 3888 \tlocal loss: 2.25\n",
      "\tWorker: 1952 \tlocal loss: 2.26\n",
      "\tWorker: 9976 \tlocal loss: 2.25\n",
      "\tWorker: 3760 \tlocal loss: 2.25\n",
      "\tWorker: 6616 \tlocal loss: 2.30\n"
     ]
    },
    {
     "name": "stderr",
     "output_type": "stream",
     "text": [
      "\n",
      " 26%|██▌       | 26/100 [09:40<24:33, 19.91s/it]\u001b[A"
     ]
    },
    {
     "name": "stdout",
     "output_type": "stream",
     "text": [
      "Finished round 26 with global loss: 2.29 \n",
      "\n",
      "Beginning round 27\n",
      "\tWorker: 6032 \tlocal loss: 2.28\n",
      "\tWorker: 7904 \tlocal loss: 2.28\n",
      "\tWorker: 8440 \tlocal loss: 2.32\n",
      "\tWorker: 5680 \tlocal loss: 2.27\n",
      "\tWorker: 9656 \tlocal loss: 2.24\n",
      "\tWorker: 3888 \tlocal loss: 2.25\n",
      "\tWorker: 1952 \tlocal loss: 2.25\n",
      "\tWorker: 9976 \tlocal loss: 2.25\n",
      "\tWorker: 3760 \tlocal loss: 2.25\n",
      "\tWorker: 6616 \tlocal loss: 2.29\n"
     ]
    },
    {
     "name": "stderr",
     "output_type": "stream",
     "text": [
      "\n",
      " 27%|██▋       | 27/100 [10:01<24:21, 20.03s/it]\u001b[A"
     ]
    },
    {
     "name": "stdout",
     "output_type": "stream",
     "text": [
      "Finished round 27 with global loss: 2.29 \n",
      "\n",
      "Beginning round 28\n",
      "\tWorker: 6032 \tlocal loss: 2.27\n",
      "\tWorker: 7904 \tlocal loss: 2.28\n",
      "\tWorker: 8440 \tlocal loss: 2.32\n",
      "\tWorker: 5680 \tlocal loss: 2.28\n",
      "\tWorker: 9656 \tlocal loss: 2.24\n",
      "\tWorker: 3888 \tlocal loss: 2.25\n",
      "\tWorker: 1952 \tlocal loss: 2.25\n",
      "\tWorker: 9976 \tlocal loss: 2.24\n",
      "\tWorker: 3760 \tlocal loss: 2.26\n",
      "\tWorker: 6616 \tlocal loss: 2.29\n"
     ]
    },
    {
     "name": "stderr",
     "output_type": "stream",
     "text": [
      "\n",
      " 28%|██▊       | 28/100 [10:20<23:48, 19.85s/it]\u001b[A"
     ]
    },
    {
     "name": "stdout",
     "output_type": "stream",
     "text": [
      "Finished round 28 with global loss: 2.29 \n",
      "\n",
      "Beginning round 29\n",
      "\tWorker: 6032 \tlocal loss: 2.28\n",
      "\tWorker: 7904 \tlocal loss: 2.28\n",
      "\tWorker: 8440 \tlocal loss: 2.32\n",
      "\tWorker: 5680 \tlocal loss: 2.27\n",
      "\tWorker: 9656 \tlocal loss: 2.24\n",
      "\tWorker: 3888 \tlocal loss: 2.26\n",
      "\tWorker: 1952 \tlocal loss: 2.26\n",
      "\tWorker: 9976 \tlocal loss: 2.25\n",
      "\tWorker: 3760 \tlocal loss: 2.26\n",
      "\tWorker: 6616 \tlocal loss: 2.29\n"
     ]
    },
    {
     "name": "stderr",
     "output_type": "stream",
     "text": [
      "\n",
      " 29%|██▉       | 29/100 [10:39<23:16, 19.68s/it]\u001b[A"
     ]
    },
    {
     "name": "stdout",
     "output_type": "stream",
     "text": [
      "Finished round 29 with global loss: 2.29 \n",
      "\n",
      "Beginning round 30\n",
      "\tWorker: 6032 \tlocal loss: 2.27\n",
      "\tWorker: 7904 \tlocal loss: 2.27\n",
      "\tWorker: 8440 \tlocal loss: 2.32\n",
      "\tWorker: 5680 \tlocal loss: 2.28\n",
      "\tWorker: 9656 \tlocal loss: 2.24\n",
      "\tWorker: 3888 \tlocal loss: 2.25\n",
      "\tWorker: 1952 \tlocal loss: 2.26\n",
      "\tWorker: 9976 \tlocal loss: 2.24\n",
      "\tWorker: 3760 \tlocal loss: 2.26\n",
      "\tWorker: 6616 \tlocal loss: 2.29\n"
     ]
    },
    {
     "name": "stderr",
     "output_type": "stream",
     "text": [
      "\n",
      " 30%|███       | 30/100 [10:55<21:27, 18.39s/it]\u001b[A"
     ]
    },
    {
     "name": "stdout",
     "output_type": "stream",
     "text": [
      "Finished round 30 with global loss: 2.29 \n",
      "\n",
      "Beginning round 31\n",
      "\tWorker: 6032 \tlocal loss: 2.28\n",
      "\tWorker: 7904 \tlocal loss: 2.27\n",
      "\tWorker: 8440 \tlocal loss: 2.31\n",
      "\tWorker: 5680 \tlocal loss: 2.27\n",
      "\tWorker: 9656 \tlocal loss: 2.23\n",
      "\tWorker: 3888 \tlocal loss: 2.25\n",
      "\tWorker: 1952 \tlocal loss: 2.25\n",
      "\tWorker: 9976 \tlocal loss: 2.25\n",
      "\tWorker: 3760 \tlocal loss: 2.26\n",
      "\tWorker: 6616 \tlocal loss: 2.29\n"
     ]
    },
    {
     "name": "stderr",
     "output_type": "stream",
     "text": [
      "\n",
      " 31%|███       | 31/100 [11:11<20:30, 17.83s/it]\u001b[A"
     ]
    },
    {
     "name": "stdout",
     "output_type": "stream",
     "text": [
      "Finished round 31 with global loss: 2.28 \n",
      "\n",
      "Beginning round 32\n",
      "\tWorker: 6032 \tlocal loss: 2.28\n",
      "\tWorker: 7904 \tlocal loss: 2.27\n",
      "\tWorker: 8440 \tlocal loss: 2.31\n",
      "\tWorker: 5680 \tlocal loss: 2.26\n",
      "\tWorker: 9656 \tlocal loss: 2.24\n",
      "\tWorker: 3888 \tlocal loss: 2.25\n",
      "\tWorker: 1952 \tlocal loss: 2.25\n",
      "\tWorker: 9976 \tlocal loss: 2.25\n",
      "\tWorker: 3760 \tlocal loss: 2.26\n",
      "\tWorker: 6616 \tlocal loss: 2.28\n"
     ]
    },
    {
     "name": "stderr",
     "output_type": "stream",
     "text": [
      "\n",
      " 32%|███▏      | 32/100 [11:31<20:44, 18.30s/it]\u001b[A"
     ]
    },
    {
     "name": "stdout",
     "output_type": "stream",
     "text": [
      "Finished round 32 with global loss: 2.28 \n",
      "\n",
      "Beginning round 33\n",
      "\tWorker: 6032 \tlocal loss: 2.27\n",
      "\tWorker: 7904 \tlocal loss: 2.27\n",
      "\tWorker: 8440 \tlocal loss: 2.31\n",
      "\tWorker: 5680 \tlocal loss: 2.27\n",
      "\tWorker: 9656 \tlocal loss: 2.24\n",
      "\tWorker: 3888 \tlocal loss: 2.25\n",
      "\tWorker: 1952 \tlocal loss: 2.26\n",
      "\tWorker: 9976 \tlocal loss: 2.25\n",
      "\tWorker: 3760 \tlocal loss: 2.25\n",
      "\tWorker: 6616 \tlocal loss: 2.29\n"
     ]
    },
    {
     "name": "stderr",
     "output_type": "stream",
     "text": [
      "\n",
      " 33%|███▎      | 33/100 [11:50<20:54, 18.73s/it]\u001b[A"
     ]
    },
    {
     "name": "stdout",
     "output_type": "stream",
     "text": [
      "Finished round 33 with global loss: 2.28 \n",
      "\n",
      "Beginning round 34\n",
      "\tWorker: 6032 \tlocal loss: 2.28\n",
      "\tWorker: 7904 \tlocal loss: 2.26\n",
      "\tWorker: 8440 \tlocal loss: 2.31\n",
      "\tWorker: 5680 \tlocal loss: 2.27\n",
      "\tWorker: 9656 \tlocal loss: 2.24\n",
      "\tWorker: 3888 \tlocal loss: 2.25\n",
      "\tWorker: 1952 \tlocal loss: 2.25\n",
      "\tWorker: 9976 \tlocal loss: 2.24\n",
      "\tWorker: 3760 \tlocal loss: 2.26\n",
      "\tWorker: 6616 \tlocal loss: 2.29\n"
     ]
    },
    {
     "name": "stderr",
     "output_type": "stream",
     "text": [
      "\n",
      " 34%|███▍      | 34/100 [12:10<20:57, 19.05s/it]\u001b[A"
     ]
    },
    {
     "name": "stdout",
     "output_type": "stream",
     "text": [
      "Finished round 34 with global loss: 2.28 \n",
      "\n",
      "Beginning round 35\n",
      "\tWorker: 6032 \tlocal loss: 2.28\n",
      "\tWorker: 7904 \tlocal loss: 2.27\n",
      "\tWorker: 8440 \tlocal loss: 2.31\n",
      "\tWorker: 5680 \tlocal loss: 2.27\n",
      "\tWorker: 9656 \tlocal loss: 2.24\n",
      "\tWorker: 3888 \tlocal loss: 2.25\n",
      "\tWorker: 1952 \tlocal loss: 2.26\n",
      "\tWorker: 9976 \tlocal loss: 2.25\n",
      "\tWorker: 3760 \tlocal loss: 2.26\n",
      "\tWorker: 6616 \tlocal loss: 2.28\n"
     ]
    },
    {
     "name": "stderr",
     "output_type": "stream",
     "text": [
      "\n",
      " 35%|███▌      | 35/100 [12:36<22:51, 21.11s/it]\u001b[A"
     ]
    },
    {
     "name": "stdout",
     "output_type": "stream",
     "text": [
      "Finished round 35 with global loss: 2.28 \n",
      "\n",
      "Beginning round 36\n",
      "\tWorker: 6032 \tlocal loss: 2.27\n",
      "\tWorker: 7904 \tlocal loss: 2.26\n",
      "\tWorker: 8440 \tlocal loss: 2.31\n",
      "\tWorker: 5680 \tlocal loss: 2.26\n",
      "\tWorker: 9656 \tlocal loss: 2.24\n",
      "\tWorker: 3888 \tlocal loss: 2.25\n",
      "\tWorker: 1952 \tlocal loss: 2.25\n",
      "\tWorker: 9976 \tlocal loss: 2.24\n",
      "\tWorker: 3760 \tlocal loss: 2.26\n",
      "\tWorker: 6616 \tlocal loss: 2.29\n"
     ]
    },
    {
     "name": "stderr",
     "output_type": "stream",
     "text": [
      "\n",
      " 36%|███▌      | 36/100 [12:53<21:19, 19.99s/it]\u001b[A"
     ]
    },
    {
     "name": "stdout",
     "output_type": "stream",
     "text": [
      "Finished round 36 with global loss: 2.28 \n",
      "\n",
      "Beginning round 37\n",
      "\tWorker: 6032 \tlocal loss: 2.27\n",
      "\tWorker: 7904 \tlocal loss: 2.26\n",
      "\tWorker: 8440 \tlocal loss: 2.31\n",
      "\tWorker: 5680 \tlocal loss: 2.27\n",
      "\tWorker: 9656 \tlocal loss: 2.24\n",
      "\tWorker: 3888 \tlocal loss: 2.25\n",
      "\tWorker: 1952 \tlocal loss: 2.25\n",
      "\tWorker: 9976 \tlocal loss: 2.24\n",
      "\tWorker: 3760 \tlocal loss: 2.25\n",
      "\tWorker: 6616 \tlocal loss: 2.28\n"
     ]
    },
    {
     "name": "stderr",
     "output_type": "stream",
     "text": [
      "\n",
      " 37%|███▋      | 37/100 [13:12<20:30, 19.54s/it]\u001b[A"
     ]
    },
    {
     "name": "stdout",
     "output_type": "stream",
     "text": [
      "Finished round 37 with global loss: 2.28 \n",
      "\n",
      "Beginning round 38\n",
      "\tWorker: 6032 \tlocal loss: 2.27\n",
      "\tWorker: 7904 \tlocal loss: 2.26\n",
      "\tWorker: 8440 \tlocal loss: 2.31\n",
      "\tWorker: 5680 \tlocal loss: 2.27\n",
      "\tWorker: 9656 \tlocal loss: 2.24\n",
      "\tWorker: 3888 \tlocal loss: 2.25\n",
      "\tWorker: 1952 \tlocal loss: 2.25\n",
      "\tWorker: 9976 \tlocal loss: 2.24\n",
      "\tWorker: 3760 \tlocal loss: 2.25\n",
      "\tWorker: 6616 \tlocal loss: 2.28\n"
     ]
    },
    {
     "name": "stderr",
     "output_type": "stream",
     "text": [
      "\n",
      " 38%|███▊      | 38/100 [13:31<20:04, 19.43s/it]\u001b[A"
     ]
    },
    {
     "name": "stdout",
     "output_type": "stream",
     "text": [
      "Finished round 38 with global loss: 2.28 \n",
      "\n",
      "Beginning round 39\n",
      "\tWorker: 6032 \tlocal loss: 2.27\n",
      "\tWorker: 7904 \tlocal loss: 2.25\n",
      "\tWorker: 8440 \tlocal loss: 2.31\n",
      "\tWorker: 5680 \tlocal loss: 2.27\n",
      "\tWorker: 9656 \tlocal loss: 2.24\n",
      "\tWorker: 3888 \tlocal loss: 2.26\n",
      "\tWorker: 1952 \tlocal loss: 2.25\n",
      "\tWorker: 9976 \tlocal loss: 2.24\n",
      "\tWorker: 3760 \tlocal loss: 2.25\n",
      "\tWorker: 6616 \tlocal loss: 2.28\n"
     ]
    },
    {
     "name": "stderr",
     "output_type": "stream",
     "text": [
      "\n",
      " 39%|███▉      | 39/100 [13:52<20:12, 19.87s/it]\u001b[A"
     ]
    },
    {
     "name": "stdout",
     "output_type": "stream",
     "text": [
      "Finished round 39 with global loss: 2.28 \n",
      "\n",
      "Beginning round 40\n",
      "\tWorker: 6032 \tlocal loss: 2.26\n",
      "\tWorker: 7904 \tlocal loss: 2.25\n",
      "\tWorker: 8440 \tlocal loss: 2.31\n",
      "\tWorker: 5680 \tlocal loss: 2.26\n",
      "\tWorker: 9656 \tlocal loss: 2.24\n",
      "\tWorker: 3888 \tlocal loss: 2.26\n",
      "\tWorker: 1952 \tlocal loss: 2.25\n",
      "\tWorker: 9976 \tlocal loss: 2.24\n",
      "\tWorker: 3760 \tlocal loss: 2.25\n",
      "\tWorker: 6616 \tlocal loss: 2.28\n"
     ]
    },
    {
     "name": "stderr",
     "output_type": "stream",
     "text": [
      "\n",
      " 40%|████      | 40/100 [14:14<20:32, 20.53s/it]\u001b[A"
     ]
    },
    {
     "name": "stdout",
     "output_type": "stream",
     "text": [
      "Finished round 40 with global loss: 2.28 \n",
      "\n",
      "Beginning round 41\n",
      "\tWorker: 6032 \tlocal loss: 2.27\n",
      "\tWorker: 7904 \tlocal loss: 2.24\n",
      "\tWorker: 8440 \tlocal loss: 2.31\n",
      "\tWorker: 5680 \tlocal loss: 2.26\n",
      "\tWorker: 9656 \tlocal loss: 2.23\n",
      "\tWorker: 3888 \tlocal loss: 2.25\n",
      "\tWorker: 1952 \tlocal loss: 2.24\n",
      "\tWorker: 9976 \tlocal loss: 2.24\n",
      "\tWorker: 3760 \tlocal loss: 2.25\n",
      "\tWorker: 6616 \tlocal loss: 2.28\n"
     ]
    },
    {
     "name": "stderr",
     "output_type": "stream",
     "text": [
      "\n",
      " 41%|████      | 41/100 [14:30<18:54, 19.24s/it]\u001b[A"
     ]
    },
    {
     "name": "stdout",
     "output_type": "stream",
     "text": [
      "Finished round 41 with global loss: 2.28 \n",
      "\n",
      "Beginning round 42\n",
      "\tWorker: 6032 \tlocal loss: 2.27\n",
      "\tWorker: 7904 \tlocal loss: 2.25\n",
      "\tWorker: 8440 \tlocal loss: 2.31\n",
      "\tWorker: 5680 \tlocal loss: 2.26\n",
      "\tWorker: 9656 \tlocal loss: 2.23\n",
      "\tWorker: 3888 \tlocal loss: 2.25\n",
      "\tWorker: 1952 \tlocal loss: 2.24\n",
      "\tWorker: 9976 \tlocal loss: 2.23\n",
      "\tWorker: 3760 \tlocal loss: 2.26\n",
      "\tWorker: 6616 \tlocal loss: 2.28\n"
     ]
    },
    {
     "name": "stderr",
     "output_type": "stream",
     "text": [
      "\n",
      " 42%|████▏     | 42/100 [14:47<17:54, 18.52s/it]\u001b[A"
     ]
    },
    {
     "name": "stdout",
     "output_type": "stream",
     "text": [
      "Finished round 42 with global loss: 2.28 \n",
      "\n",
      "Beginning round 43\n",
      "\tWorker: 6032 \tlocal loss: 2.27\n",
      "\tWorker: 7904 \tlocal loss: 2.24\n",
      "\tWorker: 8440 \tlocal loss: 2.31\n",
      "\tWorker: 5680 \tlocal loss: 2.26\n",
      "\tWorker: 9656 \tlocal loss: 2.23\n",
      "\tWorker: 3888 \tlocal loss: 2.25\n",
      "\tWorker: 1952 \tlocal loss: 2.24\n",
      "\tWorker: 9976 \tlocal loss: 2.24\n",
      "\tWorker: 3760 \tlocal loss: 2.25\n",
      "\tWorker: 6616 \tlocal loss: 2.28\n"
     ]
    },
    {
     "name": "stderr",
     "output_type": "stream",
     "text": [
      "\n",
      " 43%|████▎     | 43/100 [15:06<17:45, 18.69s/it]\u001b[A"
     ]
    },
    {
     "name": "stdout",
     "output_type": "stream",
     "text": [
      "Finished round 43 with global loss: 2.28 \n",
      "\n",
      "Beginning round 44\n",
      "\tWorker: 6032 \tlocal loss: 2.27\n",
      "\tWorker: 7904 \tlocal loss: 2.24\n",
      "\tWorker: 8440 \tlocal loss: 2.31\n",
      "\tWorker: 5680 \tlocal loss: 2.26\n",
      "\tWorker: 9656 \tlocal loss: 2.23\n",
      "\tWorker: 3888 \tlocal loss: 2.25\n",
      "\tWorker: 1952 \tlocal loss: 2.25\n",
      "\tWorker: 9976 \tlocal loss: 2.23\n",
      "\tWorker: 3760 \tlocal loss: 2.26\n",
      "\tWorker: 6616 \tlocal loss: 2.28\n"
     ]
    },
    {
     "name": "stderr",
     "output_type": "stream",
     "text": [
      "\n",
      " 44%|████▍     | 44/100 [15:22<16:43, 17.92s/it]\u001b[A"
     ]
    },
    {
     "name": "stdout",
     "output_type": "stream",
     "text": [
      "Finished round 44 with global loss: 2.27 \n",
      "\n",
      "Beginning round 45\n",
      "\tWorker: 6032 \tlocal loss: 2.27\n",
      "\tWorker: 7904 \tlocal loss: 2.24\n",
      "\tWorker: 8440 \tlocal loss: 2.30\n",
      "\tWorker: 5680 \tlocal loss: 2.26\n",
      "\tWorker: 9656 \tlocal loss: 2.23\n",
      "\tWorker: 3888 \tlocal loss: 2.25\n",
      "\tWorker: 1952 \tlocal loss: 2.25\n",
      "\tWorker: 9976 \tlocal loss: 2.23\n",
      "\tWorker: 3760 \tlocal loss: 2.25\n",
      "\tWorker: 6616 \tlocal loss: 2.28\n"
     ]
    },
    {
     "name": "stderr",
     "output_type": "stream",
     "text": [
      "\n",
      " 45%|████▌     | 45/100 [15:41<16:37, 18.13s/it]\u001b[A"
     ]
    },
    {
     "name": "stdout",
     "output_type": "stream",
     "text": [
      "Finished round 45 with global loss: 2.27 \n",
      "\n",
      "Beginning round 46\n",
      "\tWorker: 6032 \tlocal loss: 2.27\n",
      "\tWorker: 7904 \tlocal loss: 2.23\n",
      "\tWorker: 8440 \tlocal loss: 2.31\n",
      "\tWorker: 5680 \tlocal loss: 2.27\n",
      "\tWorker: 9656 \tlocal loss: 2.23\n",
      "\tWorker: 3888 \tlocal loss: 2.25\n",
      "\tWorker: 1952 \tlocal loss: 2.24\n",
      "\tWorker: 9976 \tlocal loss: 2.23\n",
      "\tWorker: 3760 \tlocal loss: 2.26\n",
      "\tWorker: 6616 \tlocal loss: 2.27\n"
     ]
    },
    {
     "name": "stderr",
     "output_type": "stream",
     "text": [
      "\n",
      " 46%|████▌     | 46/100 [16:01<16:43, 18.59s/it]\u001b[A"
     ]
    },
    {
     "name": "stdout",
     "output_type": "stream",
     "text": [
      "Finished round 46 with global loss: 2.27 \n",
      "\n",
      "Beginning round 47\n",
      "\tWorker: 6032 \tlocal loss: 2.27\n",
      "\tWorker: 7904 \tlocal loss: 2.23\n",
      "\tWorker: 8440 \tlocal loss: 2.31\n",
      "\tWorker: 5680 \tlocal loss: 2.25\n",
      "\tWorker: 9656 \tlocal loss: 2.24\n",
      "\tWorker: 3888 \tlocal loss: 2.26\n",
      "\tWorker: 1952 \tlocal loss: 2.24\n",
      "\tWorker: 9976 \tlocal loss: 2.23\n",
      "\tWorker: 3760 \tlocal loss: 2.26\n",
      "\tWorker: 6616 \tlocal loss: 2.27\n"
     ]
    },
    {
     "name": "stderr",
     "output_type": "stream",
     "text": [
      "\n",
      " 47%|████▋     | 47/100 [16:22<17:10, 19.45s/it]\u001b[A"
     ]
    },
    {
     "name": "stdout",
     "output_type": "stream",
     "text": [
      "Finished round 47 with global loss: 2.27 \n",
      "\n",
      "Beginning round 48\n",
      "\tWorker: 6032 \tlocal loss: 2.26\n",
      "\tWorker: 7904 \tlocal loss: 2.23\n",
      "\tWorker: 8440 \tlocal loss: 2.30\n",
      "\tWorker: 5680 \tlocal loss: 2.25\n",
      "\tWorker: 9656 \tlocal loss: 2.22\n",
      "\tWorker: 3888 \tlocal loss: 2.25\n",
      "\tWorker: 1952 \tlocal loss: 2.24\n",
      "\tWorker: 9976 \tlocal loss: 2.23\n",
      "\tWorker: 3760 \tlocal loss: 2.25\n",
      "\tWorker: 6616 \tlocal loss: 2.27\n"
     ]
    },
    {
     "name": "stderr",
     "output_type": "stream",
     "text": [
      "\n",
      " 48%|████▊     | 48/100 [16:40<16:35, 19.15s/it]\u001b[A"
     ]
    },
    {
     "name": "stdout",
     "output_type": "stream",
     "text": [
      "Finished round 48 with global loss: 2.27 \n",
      "\n",
      "Beginning round 49\n",
      "\tWorker: 6032 \tlocal loss: 2.27\n",
      "\tWorker: 7904 \tlocal loss: 2.24\n",
      "\tWorker: 8440 \tlocal loss: 2.31\n",
      "\tWorker: 5680 \tlocal loss: 2.26\n",
      "\tWorker: 9656 \tlocal loss: 2.24\n",
      "\tWorker: 3888 \tlocal loss: 2.25\n",
      "\tWorker: 1952 \tlocal loss: 2.24\n",
      "\tWorker: 9976 \tlocal loss: 2.23\n",
      "\tWorker: 3760 \tlocal loss: 2.25\n",
      "\tWorker: 6616 \tlocal loss: 2.27\n"
     ]
    },
    {
     "name": "stderr",
     "output_type": "stream",
     "text": [
      "\n",
      " 49%|████▉     | 49/100 [17:01<16:39, 19.59s/it]\u001b[A"
     ]
    },
    {
     "name": "stdout",
     "output_type": "stream",
     "text": [
      "Finished round 49 with global loss: 2.27 \n",
      "\n",
      "Beginning round 50\n",
      "\tWorker: 6032 \tlocal loss: 2.26\n",
      "\tWorker: 7904 \tlocal loss: 2.23\n",
      "\tWorker: 8440 \tlocal loss: 2.31\n",
      "\tWorker: 5680 \tlocal loss: 2.25\n",
      "\tWorker: 9656 \tlocal loss: 2.23\n",
      "\tWorker: 3888 \tlocal loss: 2.26\n",
      "\tWorker: 1952 \tlocal loss: 2.23\n",
      "\tWorker: 9976 \tlocal loss: 2.22\n",
      "\tWorker: 3760 \tlocal loss: 2.24\n",
      "\tWorker: 6616 \tlocal loss: 2.27\n"
     ]
    },
    {
     "name": "stderr",
     "output_type": "stream",
     "text": [
      "\n",
      " 50%|█████     | 50/100 [17:19<15:51, 19.04s/it]\u001b[A"
     ]
    },
    {
     "name": "stdout",
     "output_type": "stream",
     "text": [
      "Finished round 50 with global loss: 2.27 \n",
      "\n",
      "Beginning round 51\n",
      "\tWorker: 6032 \tlocal loss: 2.26\n",
      "\tWorker: 7904 \tlocal loss: 2.23\n",
      "\tWorker: 8440 \tlocal loss: 2.30\n",
      "\tWorker: 5680 \tlocal loss: 2.26\n",
      "\tWorker: 9656 \tlocal loss: 2.22\n",
      "\tWorker: 3888 \tlocal loss: 2.25\n",
      "\tWorker: 1952 \tlocal loss: 2.24\n",
      "\tWorker: 9976 \tlocal loss: 2.22\n",
      "\tWorker: 3760 \tlocal loss: 2.25\n",
      "\tWorker: 6616 \tlocal loss: 2.27\n"
     ]
    },
    {
     "name": "stderr",
     "output_type": "stream",
     "text": [
      "\n",
      " 51%|█████     | 51/100 [17:35<14:54, 18.26s/it]\u001b[A"
     ]
    },
    {
     "name": "stdout",
     "output_type": "stream",
     "text": [
      "Finished round 51 with global loss: 2.27 \n",
      "\n",
      "Beginning round 52\n",
      "\tWorker: 6032 \tlocal loss: 2.26\n",
      "\tWorker: 7904 \tlocal loss: 2.21\n",
      "\tWorker: 8440 \tlocal loss: 2.31\n",
      "\tWorker: 5680 \tlocal loss: 2.25\n",
      "\tWorker: 9656 \tlocal loss: 2.23\n",
      "\tWorker: 3888 \tlocal loss: 2.25\n",
      "\tWorker: 1952 \tlocal loss: 2.25\n",
      "\tWorker: 9976 \tlocal loss: 2.22\n",
      "\tWorker: 3760 \tlocal loss: 2.25\n",
      "\tWorker: 6616 \tlocal loss: 2.27\n"
     ]
    },
    {
     "name": "stderr",
     "output_type": "stream",
     "text": [
      "\n",
      " 52%|█████▏    | 52/100 [17:52<14:15, 17.82s/it]\u001b[A"
     ]
    },
    {
     "name": "stdout",
     "output_type": "stream",
     "text": [
      "Finished round 52 with global loss: 2.27 \n",
      "\n",
      "Beginning round 53\n",
      "\tWorker: 6032 \tlocal loss: 2.26\n",
      "\tWorker: 7904 \tlocal loss: 2.22\n",
      "\tWorker: 8440 \tlocal loss: 2.30\n",
      "\tWorker: 5680 \tlocal loss: 2.25\n",
      "\tWorker: 9656 \tlocal loss: 2.22\n",
      "\tWorker: 3888 \tlocal loss: 2.25\n",
      "\tWorker: 1952 \tlocal loss: 2.25\n",
      "\tWorker: 9976 \tlocal loss: 2.22\n",
      "\tWorker: 3760 \tlocal loss: 2.25\n",
      "\tWorker: 6616 \tlocal loss: 2.27\n"
     ]
    },
    {
     "name": "stderr",
     "output_type": "stream",
     "text": [
      "\n",
      " 53%|█████▎    | 53/100 [18:12<14:24, 18.40s/it]\u001b[A"
     ]
    },
    {
     "name": "stdout",
     "output_type": "stream",
     "text": [
      "Finished round 53 with global loss: 2.27 \n",
      "\n",
      "Beginning round 54\n",
      "\tWorker: 6032 \tlocal loss: 2.26\n",
      "\tWorker: 7904 \tlocal loss: 2.21\n",
      "\tWorker: 8440 \tlocal loss: 2.30\n",
      "\tWorker: 5680 \tlocal loss: 2.25\n",
      "\tWorker: 9656 \tlocal loss: 2.23\n",
      "\tWorker: 3888 \tlocal loss: 2.25\n",
      "\tWorker: 1952 \tlocal loss: 2.24\n",
      "\tWorker: 9976 \tlocal loss: 2.22\n",
      "\tWorker: 3760 \tlocal loss: 2.25\n",
      "\tWorker: 6616 \tlocal loss: 2.27\n"
     ]
    },
    {
     "name": "stderr",
     "output_type": "stream",
     "text": [
      "\n",
      " 54%|█████▍    | 54/100 [18:28<13:39, 17.81s/it]\u001b[A"
     ]
    },
    {
     "name": "stdout",
     "output_type": "stream",
     "text": [
      "Finished round 54 with global loss: 2.27 \n",
      "\n",
      "Beginning round 55\n",
      "\tWorker: 6032 \tlocal loss: 2.26\n",
      "\tWorker: 7904 \tlocal loss: 2.21\n",
      "\tWorker: 8440 \tlocal loss: 2.30\n",
      "\tWorker: 5680 \tlocal loss: 2.25\n",
      "\tWorker: 9656 \tlocal loss: 2.22\n",
      "\tWorker: 3888 \tlocal loss: 2.25\n",
      "\tWorker: 1952 \tlocal loss: 2.23\n",
      "\tWorker: 9976 \tlocal loss: 2.22\n",
      "\tWorker: 3760 \tlocal loss: 2.25\n",
      "\tWorker: 6616 \tlocal loss: 2.26\n"
     ]
    },
    {
     "name": "stderr",
     "output_type": "stream",
     "text": [
      "\n",
      " 55%|█████▌    | 55/100 [18:46<13:21, 17.81s/it]\u001b[A"
     ]
    },
    {
     "name": "stdout",
     "output_type": "stream",
     "text": [
      "Finished round 55 with global loss: 2.27 \n",
      "\n",
      "Beginning round 56\n",
      "\tWorker: 6032 \tlocal loss: 2.27\n",
      "\tWorker: 7904 \tlocal loss: 2.21\n",
      "\tWorker: 8440 \tlocal loss: 2.31\n",
      "\tWorker: 5680 \tlocal loss: 2.25\n",
      "\tWorker: 9656 \tlocal loss: 2.23\n",
      "\tWorker: 3888 \tlocal loss: 2.25\n",
      "\tWorker: 1952 \tlocal loss: 2.24\n",
      "\tWorker: 9976 \tlocal loss: 2.21\n",
      "\tWorker: 3760 \tlocal loss: 2.25\n",
      "\tWorker: 6616 \tlocal loss: 2.27\n"
     ]
    },
    {
     "name": "stderr",
     "output_type": "stream",
     "text": [
      "\n",
      " 56%|█████▌    | 56/100 [19:06<13:29, 18.41s/it]\u001b[A"
     ]
    },
    {
     "name": "stdout",
     "output_type": "stream",
     "text": [
      "Finished round 56 with global loss: 2.27 \n",
      "\n",
      "Beginning round 57\n",
      "\tWorker: 6032 \tlocal loss: 2.26\n",
      "\tWorker: 7904 \tlocal loss: 2.21\n",
      "\tWorker: 8440 \tlocal loss: 2.29\n",
      "\tWorker: 5680 \tlocal loss: 2.25\n",
      "\tWorker: 9656 \tlocal loss: 2.23\n",
      "\tWorker: 3888 \tlocal loss: 2.25\n",
      "\tWorker: 1952 \tlocal loss: 2.24\n",
      "\tWorker: 9976 \tlocal loss: 2.22\n",
      "\tWorker: 3760 \tlocal loss: 2.25\n",
      "\tWorker: 6616 \tlocal loss: 2.27\n"
     ]
    },
    {
     "name": "stderr",
     "output_type": "stream",
     "text": [
      "\n",
      " 57%|█████▋    | 57/100 [19:23<12:58, 18.09s/it]\u001b[A"
     ]
    },
    {
     "name": "stdout",
     "output_type": "stream",
     "text": [
      "Finished round 57 with global loss: 2.27 \n",
      "\n",
      "Beginning round 58\n",
      "\tWorker: 6032 \tlocal loss: 2.26\n",
      "\tWorker: 7904 \tlocal loss: 2.21\n",
      "\tWorker: 8440 \tlocal loss: 2.30\n",
      "\tWorker: 5680 \tlocal loss: 2.25\n",
      "\tWorker: 9656 \tlocal loss: 2.22\n",
      "\tWorker: 3888 \tlocal loss: 2.25\n",
      "\tWorker: 1952 \tlocal loss: 2.24\n",
      "\tWorker: 9976 \tlocal loss: 2.22\n",
      "\tWorker: 3760 \tlocal loss: 2.25\n",
      "\tWorker: 6616 \tlocal loss: 2.27\n"
     ]
    },
    {
     "name": "stderr",
     "output_type": "stream",
     "text": [
      "\n",
      " 58%|█████▊    | 58/100 [19:41<12:31, 17.90s/it]\u001b[A"
     ]
    },
    {
     "name": "stdout",
     "output_type": "stream",
     "text": [
      "Finished round 58 with global loss: 2.26 \n",
      "\n",
      "Beginning round 59\n",
      "\tWorker: 6032 \tlocal loss: 2.25\n",
      "\tWorker: 7904 \tlocal loss: 2.20\n",
      "\tWorker: 8440 \tlocal loss: 2.29\n",
      "\tWorker: 5680 \tlocal loss: 2.25\n",
      "\tWorker: 9656 \tlocal loss: 2.22\n",
      "\tWorker: 3888 \tlocal loss: 2.25\n",
      "\tWorker: 1952 \tlocal loss: 2.24\n",
      "\tWorker: 9976 \tlocal loss: 2.21\n",
      "\tWorker: 3760 \tlocal loss: 2.24\n",
      "\tWorker: 6616 \tlocal loss: 2.26\n"
     ]
    },
    {
     "name": "stderr",
     "output_type": "stream",
     "text": [
      "\n",
      " 59%|█████▉    | 59/100 [20:00<12:28, 18.25s/it]\u001b[A"
     ]
    },
    {
     "name": "stdout",
     "output_type": "stream",
     "text": [
      "Finished round 59 with global loss: 2.26 \n",
      "\n",
      "Beginning round 60\n",
      "\tWorker: 6032 \tlocal loss: 2.26\n",
      "\tWorker: 7904 \tlocal loss: 2.20\n",
      "\tWorker: 8440 \tlocal loss: 2.30\n",
      "\tWorker: 5680 \tlocal loss: 2.25\n",
      "\tWorker: 9656 \tlocal loss: 2.23\n",
      "\tWorker: 3888 \tlocal loss: 2.25\n",
      "\tWorker: 1952 \tlocal loss: 2.24\n",
      "\tWorker: 9976 \tlocal loss: 2.23\n",
      "\tWorker: 3760 \tlocal loss: 2.25\n",
      "\tWorker: 6616 \tlocal loss: 2.26\n"
     ]
    },
    {
     "name": "stderr",
     "output_type": "stream",
     "text": [
      "\n",
      " 60%|██████    | 60/100 [20:20<12:29, 18.73s/it]\u001b[A"
     ]
    },
    {
     "name": "stdout",
     "output_type": "stream",
     "text": [
      "Finished round 60 with global loss: 2.26 \n",
      "\n",
      "Beginning round 61\n",
      "\tWorker: 6032 \tlocal loss: 2.25\n",
      "\tWorker: 7904 \tlocal loss: 2.19\n",
      "\tWorker: 8440 \tlocal loss: 2.29\n",
      "\tWorker: 5680 \tlocal loss: 2.25\n",
      "\tWorker: 9656 \tlocal loss: 2.23\n",
      "\tWorker: 3888 \tlocal loss: 2.25\n",
      "\tWorker: 1952 \tlocal loss: 2.24\n",
      "\tWorker: 9976 \tlocal loss: 2.22\n",
      "\tWorker: 3760 \tlocal loss: 2.24\n",
      "\tWorker: 6616 \tlocal loss: 2.26\n"
     ]
    },
    {
     "name": "stderr",
     "output_type": "stream",
     "text": [
      "\n",
      " 61%|██████    | 61/100 [20:36<11:48, 18.17s/it]\u001b[A"
     ]
    },
    {
     "name": "stdout",
     "output_type": "stream",
     "text": [
      "Finished round 61 with global loss: 2.26 \n",
      "\n",
      "Beginning round 62\n",
      "\tWorker: 6032 \tlocal loss: 2.26\n",
      "\tWorker: 7904 \tlocal loss: 2.20\n",
      "\tWorker: 8440 \tlocal loss: 2.30\n",
      "\tWorker: 5680 \tlocal loss: 2.25\n",
      "\tWorker: 9656 \tlocal loss: 2.23\n",
      "\tWorker: 3888 \tlocal loss: 2.25\n",
      "\tWorker: 1952 \tlocal loss: 2.24\n",
      "\tWorker: 9976 \tlocal loss: 2.22\n",
      "\tWorker: 3760 \tlocal loss: 2.25\n",
      "\tWorker: 6616 \tlocal loss: 2.26\n"
     ]
    },
    {
     "name": "stderr",
     "output_type": "stream",
     "text": [
      "\n",
      " 62%|██████▏   | 62/100 [20:55<11:39, 18.40s/it]\u001b[A"
     ]
    },
    {
     "name": "stdout",
     "output_type": "stream",
     "text": [
      "Finished round 62 with global loss: 2.26 \n",
      "\n",
      "Beginning round 63\n",
      "\tWorker: 6032 \tlocal loss: 2.25\n",
      "\tWorker: 7904 \tlocal loss: 2.19\n",
      "\tWorker: 8440 \tlocal loss: 2.30\n",
      "\tWorker: 5680 \tlocal loss: 2.25\n",
      "\tWorker: 9656 \tlocal loss: 2.22\n",
      "\tWorker: 3888 \tlocal loss: 2.26\n",
      "\tWorker: 1952 \tlocal loss: 2.24\n",
      "\tWorker: 9976 \tlocal loss: 2.20\n",
      "\tWorker: 3760 \tlocal loss: 2.25\n",
      "\tWorker: 6616 \tlocal loss: 2.26\n"
     ]
    },
    {
     "name": "stderr",
     "output_type": "stream",
     "text": [
      "\n",
      " 63%|██████▎   | 63/100 [21:14<11:18, 18.34s/it]\u001b[A"
     ]
    },
    {
     "name": "stdout",
     "output_type": "stream",
     "text": [
      "Finished round 63 with global loss: 2.26 \n",
      "\n",
      "Beginning round 64\n",
      "\tWorker: 6032 \tlocal loss: 2.26\n",
      "\tWorker: 7904 \tlocal loss: 2.19\n",
      "\tWorker: 8440 \tlocal loss: 2.29\n",
      "\tWorker: 5680 \tlocal loss: 2.24\n",
      "\tWorker: 9656 \tlocal loss: 2.22\n",
      "\tWorker: 3888 \tlocal loss: 2.25\n",
      "\tWorker: 1952 \tlocal loss: 2.23\n",
      "\tWorker: 9976 \tlocal loss: 2.22\n",
      "\tWorker: 3760 \tlocal loss: 2.25\n",
      "\tWorker: 6616 \tlocal loss: 2.25\n"
     ]
    },
    {
     "name": "stderr",
     "output_type": "stream",
     "text": [
      "\n",
      " 64%|██████▍   | 64/100 [21:30<10:40, 17.80s/it]\u001b[A"
     ]
    },
    {
     "name": "stdout",
     "output_type": "stream",
     "text": [
      "Finished round 64 with global loss: 2.26 \n",
      "\n",
      "Beginning round 65\n",
      "\tWorker: 6032 \tlocal loss: 2.24\n",
      "\tWorker: 7904 \tlocal loss: 2.20\n",
      "\tWorker: 8440 \tlocal loss: 2.29\n",
      "\tWorker: 5680 \tlocal loss: 2.24\n",
      "\tWorker: 9656 \tlocal loss: 2.21\n",
      "\tWorker: 3888 \tlocal loss: 2.26\n",
      "\tWorker: 1952 \tlocal loss: 2.23\n",
      "\tWorker: 9976 \tlocal loss: 2.22\n",
      "\tWorker: 3760 \tlocal loss: 2.25\n",
      "\tWorker: 6616 \tlocal loss: 2.26\n"
     ]
    },
    {
     "name": "stderr",
     "output_type": "stream",
     "text": [
      "\n",
      " 65%|██████▌   | 65/100 [21:48<10:20, 17.72s/it]\u001b[A"
     ]
    },
    {
     "name": "stdout",
     "output_type": "stream",
     "text": [
      "Finished round 65 with global loss: 2.26 \n",
      "\n",
      "Beginning round 66\n",
      "\tWorker: 6032 \tlocal loss: 2.25\n",
      "\tWorker: 7904 \tlocal loss: 2.20\n",
      "\tWorker: 8440 \tlocal loss: 2.30\n",
      "\tWorker: 5680 \tlocal loss: 2.25\n",
      "\tWorker: 9656 \tlocal loss: 2.22\n",
      "\tWorker: 3888 \tlocal loss: 2.25\n",
      "\tWorker: 1952 \tlocal loss: 2.24\n",
      "\tWorker: 9976 \tlocal loss: 2.21\n",
      "\tWorker: 3760 \tlocal loss: 2.25\n",
      "\tWorker: 6616 \tlocal loss: 2.25\n"
     ]
    },
    {
     "name": "stderr",
     "output_type": "stream",
     "text": [
      "\n",
      " 66%|██████▌   | 66/100 [22:08<10:33, 18.64s/it]\u001b[A"
     ]
    },
    {
     "name": "stdout",
     "output_type": "stream",
     "text": [
      "Finished round 66 with global loss: 2.26 \n",
      "\n",
      "Beginning round 67\n",
      "\tWorker: 6032 \tlocal loss: 2.26\n",
      "\tWorker: 7904 \tlocal loss: 2.18\n",
      "\tWorker: 8440 \tlocal loss: 2.30\n",
      "\tWorker: 5680 \tlocal loss: 2.25\n",
      "\tWorker: 9656 \tlocal loss: 2.22\n",
      "\tWorker: 3888 \tlocal loss: 2.25\n",
      "\tWorker: 1952 \tlocal loss: 2.23\n",
      "\tWorker: 9976 \tlocal loss: 2.21\n",
      "\tWorker: 3760 \tlocal loss: 2.23\n",
      "\tWorker: 6616 \tlocal loss: 2.25\n"
     ]
    },
    {
     "name": "stderr",
     "output_type": "stream",
     "text": [
      "\n",
      " 67%|██████▋   | 67/100 [22:26<10:00, 18.20s/it]\u001b[A"
     ]
    },
    {
     "name": "stdout",
     "output_type": "stream",
     "text": [
      "Finished round 67 with global loss: 2.26 \n",
      "\n",
      "Beginning round 68\n",
      "\tWorker: 6032 \tlocal loss: 2.26\n",
      "\tWorker: 7904 \tlocal loss: 2.19\n",
      "\tWorker: 8440 \tlocal loss: 2.30\n",
      "\tWorker: 5680 \tlocal loss: 2.24\n",
      "\tWorker: 9656 \tlocal loss: 2.22\n",
      "\tWorker: 3888 \tlocal loss: 2.25\n",
      "\tWorker: 1952 \tlocal loss: 2.23\n",
      "\tWorker: 9976 \tlocal loss: 2.21\n",
      "\tWorker: 3760 \tlocal loss: 2.24\n",
      "\tWorker: 6616 \tlocal loss: 2.25\n"
     ]
    },
    {
     "name": "stderr",
     "output_type": "stream",
     "text": [
      "\n",
      " 68%|██████▊   | 68/100 [22:43<09:39, 18.10s/it]\u001b[A"
     ]
    },
    {
     "name": "stdout",
     "output_type": "stream",
     "text": [
      "Finished round 68 with global loss: 2.26 \n",
      "\n",
      "Beginning round 69\n",
      "\tWorker: 6032 \tlocal loss: 2.25\n",
      "\tWorker: 7904 \tlocal loss: 2.18\n",
      "\tWorker: 8440 \tlocal loss: 2.30\n",
      "\tWorker: 5680 \tlocal loss: 2.25\n",
      "\tWorker: 9656 \tlocal loss: 2.23\n",
      "\tWorker: 3888 \tlocal loss: 2.25\n",
      "\tWorker: 1952 \tlocal loss: 2.23\n",
      "\tWorker: 9976 \tlocal loss: 2.21\n",
      "\tWorker: 3760 \tlocal loss: 2.24\n",
      "\tWorker: 6616 \tlocal loss: 2.25\n"
     ]
    },
    {
     "name": "stderr",
     "output_type": "stream",
     "text": [
      "\n",
      " 69%|██████▉   | 69/100 [23:04<09:46, 18.93s/it]\u001b[A"
     ]
    },
    {
     "name": "stdout",
     "output_type": "stream",
     "text": [
      "Finished round 69 with global loss: 2.26 \n",
      "\n",
      "Beginning round 70\n",
      "\tWorker: 6032 \tlocal loss: 2.25\n",
      "\tWorker: 7904 \tlocal loss: 2.17\n",
      "\tWorker: 8440 \tlocal loss: 2.30\n",
      "\tWorker: 5680 \tlocal loss: 2.24\n",
      "\tWorker: 9656 \tlocal loss: 2.23\n",
      "\tWorker: 3888 \tlocal loss: 2.24\n",
      "\tWorker: 1952 \tlocal loss: 2.23\n",
      "\tWorker: 9976 \tlocal loss: 2.21\n",
      "\tWorker: 3760 \tlocal loss: 2.24\n",
      "\tWorker: 6616 \tlocal loss: 2.25\n"
     ]
    },
    {
     "name": "stderr",
     "output_type": "stream",
     "text": [
      "\n",
      " 70%|███████   | 70/100 [23:22<09:14, 18.49s/it]\u001b[A"
     ]
    },
    {
     "name": "stdout",
     "output_type": "stream",
     "text": [
      "Finished round 70 with global loss: 2.26 \n",
      "\n",
      "Beginning round 71\n",
      "\tWorker: 6032 \tlocal loss: 2.24\n",
      "\tWorker: 7904 \tlocal loss: 2.19\n",
      "\tWorker: 8440 \tlocal loss: 2.29\n",
      "\tWorker: 5680 \tlocal loss: 2.24\n",
      "\tWorker: 9656 \tlocal loss: 2.23\n",
      "\tWorker: 3888 \tlocal loss: 2.25\n",
      "\tWorker: 1952 \tlocal loss: 2.23\n",
      "\tWorker: 9976 \tlocal loss: 2.21\n",
      "\tWorker: 3760 \tlocal loss: 2.24\n",
      "\tWorker: 6616 \tlocal loss: 2.25\n"
     ]
    },
    {
     "name": "stderr",
     "output_type": "stream",
     "text": [
      "\n",
      " 71%|███████   | 71/100 [23:39<08:40, 17.95s/it]\u001b[A"
     ]
    },
    {
     "name": "stdout",
     "output_type": "stream",
     "text": [
      "Finished round 71 with global loss: 2.26 \n",
      "\n",
      "Beginning round 72\n",
      "\tWorker: 6032 \tlocal loss: 2.25\n",
      "\tWorker: 7904 \tlocal loss: 2.17\n",
      "\tWorker: 8440 \tlocal loss: 2.29\n",
      "\tWorker: 5680 \tlocal loss: 2.25\n",
      "\tWorker: 9656 \tlocal loss: 2.21\n",
      "\tWorker: 3888 \tlocal loss: 2.25\n",
      "\tWorker: 1952 \tlocal loss: 2.24\n",
      "\tWorker: 9976 \tlocal loss: 2.19\n",
      "\tWorker: 3760 \tlocal loss: 2.24\n",
      "\tWorker: 6616 \tlocal loss: 2.25\n"
     ]
    },
    {
     "name": "stderr",
     "output_type": "stream",
     "text": [
      "\n",
      " 72%|███████▏  | 72/100 [23:56<08:22, 17.94s/it]\u001b[A"
     ]
    },
    {
     "name": "stdout",
     "output_type": "stream",
     "text": [
      "Finished round 72 with global loss: 2.25 \n",
      "\n",
      "Beginning round 73\n",
      "\tWorker: 6032 \tlocal loss: 2.25\n",
      "\tWorker: 7904 \tlocal loss: 2.17\n",
      "\tWorker: 8440 \tlocal loss: 2.30\n",
      "\tWorker: 5680 \tlocal loss: 2.24\n",
      "\tWorker: 9656 \tlocal loss: 2.23\n",
      "\tWorker: 3888 \tlocal loss: 2.25\n",
      "\tWorker: 1952 \tlocal loss: 2.23\n",
      "\tWorker: 9976 \tlocal loss: 2.21\n",
      "\tWorker: 3760 \tlocal loss: 2.24\n",
      "\tWorker: 6616 \tlocal loss: 2.25\n"
     ]
    },
    {
     "name": "stderr",
     "output_type": "stream",
     "text": [
      "\n",
      " 73%|███████▎  | 73/100 [24:16<08:19, 18.52s/it]\u001b[A"
     ]
    },
    {
     "name": "stdout",
     "output_type": "stream",
     "text": [
      "Finished round 73 with global loss: 2.25 \n",
      "\n",
      "Beginning round 74\n",
      "\tWorker: 6032 \tlocal loss: 2.25\n",
      "\tWorker: 7904 \tlocal loss: 2.17\n",
      "\tWorker: 8440 \tlocal loss: 2.30\n",
      "\tWorker: 5680 \tlocal loss: 2.24\n",
      "\tWorker: 9656 \tlocal loss: 2.22\n",
      "\tWorker: 3888 \tlocal loss: 2.25\n",
      "\tWorker: 1952 \tlocal loss: 2.22\n",
      "\tWorker: 9976 \tlocal loss: 2.22\n",
      "\tWorker: 3760 \tlocal loss: 2.24\n",
      "\tWorker: 6616 \tlocal loss: 2.25\n"
     ]
    },
    {
     "name": "stderr",
     "output_type": "stream",
     "text": [
      "\n",
      " 74%|███████▍  | 74/100 [24:36<08:12, 18.93s/it]\u001b[A"
     ]
    },
    {
     "name": "stdout",
     "output_type": "stream",
     "text": [
      "Finished round 74 with global loss: 2.25 \n",
      "\n",
      "Beginning round 75\n",
      "\tWorker: 6032 \tlocal loss: 2.25\n",
      "\tWorker: 7904 \tlocal loss: 2.16\n",
      "\tWorker: 8440 \tlocal loss: 2.29\n",
      "\tWorker: 5680 \tlocal loss: 2.24\n",
      "\tWorker: 9656 \tlocal loss: 2.21\n",
      "\tWorker: 3888 \tlocal loss: 2.25\n",
      "\tWorker: 1952 \tlocal loss: 2.23\n",
      "\tWorker: 9976 \tlocal loss: 2.20\n",
      "\tWorker: 3760 \tlocal loss: 2.24\n",
      "\tWorker: 6616 \tlocal loss: 2.24\n"
     ]
    },
    {
     "name": "stderr",
     "output_type": "stream",
     "text": [
      "\n",
      " 75%|███████▌  | 75/100 [24:54<07:46, 18.64s/it]\u001b[A"
     ]
    },
    {
     "name": "stdout",
     "output_type": "stream",
     "text": [
      "Finished round 75 with global loss: 2.25 \n",
      "\n",
      "Beginning round 76\n",
      "\tWorker: 6032 \tlocal loss: 2.25\n",
      "\tWorker: 7904 \tlocal loss: 2.18\n",
      "\tWorker: 8440 \tlocal loss: 2.29\n",
      "\tWorker: 5680 \tlocal loss: 2.24\n",
      "\tWorker: 9656 \tlocal loss: 2.22\n",
      "\tWorker: 3888 \tlocal loss: 2.24\n",
      "\tWorker: 1952 \tlocal loss: 2.22\n",
      "\tWorker: 9976 \tlocal loss: 2.20\n",
      "\tWorker: 3760 \tlocal loss: 2.24\n",
      "\tWorker: 6616 \tlocal loss: 2.25\n"
     ]
    },
    {
     "name": "stderr",
     "output_type": "stream",
     "text": [
      "\n",
      " 76%|███████▌  | 76/100 [25:15<07:45, 19.41s/it]\u001b[A"
     ]
    },
    {
     "name": "stdout",
     "output_type": "stream",
     "text": [
      "Finished round 76 with global loss: 2.25 \n",
      "\n",
      "Beginning round 77\n",
      "\tWorker: 6032 \tlocal loss: 2.24\n",
      "\tWorker: 7904 \tlocal loss: 2.17\n",
      "\tWorker: 8440 \tlocal loss: 2.30\n",
      "\tWorker: 5680 \tlocal loss: 2.24\n",
      "\tWorker: 9656 \tlocal loss: 2.22\n",
      "\tWorker: 3888 \tlocal loss: 2.25\n",
      "\tWorker: 1952 \tlocal loss: 2.22\n",
      "\tWorker: 9976 \tlocal loss: 2.20\n",
      "\tWorker: 3760 \tlocal loss: 2.24\n",
      "\tWorker: 6616 \tlocal loss: 2.24\n"
     ]
    },
    {
     "name": "stderr",
     "output_type": "stream",
     "text": [
      "\n",
      " 77%|███████▋  | 77/100 [25:34<07:18, 19.06s/it]\u001b[A"
     ]
    },
    {
     "name": "stdout",
     "output_type": "stream",
     "text": [
      "Finished round 77 with global loss: 2.25 \n",
      "\n",
      "Beginning round 78\n",
      "\tWorker: 6032 \tlocal loss: 2.25\n",
      "\tWorker: 7904 \tlocal loss: 2.18\n",
      "\tWorker: 8440 \tlocal loss: 2.29\n",
      "\tWorker: 5680 \tlocal loss: 2.23\n",
      "\tWorker: 9656 \tlocal loss: 2.21\n",
      "\tWorker: 3888 \tlocal loss: 2.25\n",
      "\tWorker: 1952 \tlocal loss: 2.23\n",
      "\tWorker: 9976 \tlocal loss: 2.19\n",
      "\tWorker: 3760 \tlocal loss: 2.23\n",
      "\tWorker: 6616 \tlocal loss: 2.25\n"
     ]
    },
    {
     "name": "stderr",
     "output_type": "stream",
     "text": [
      "\n",
      " 78%|███████▊  | 78/100 [25:54<07:08, 19.48s/it]\u001b[A"
     ]
    },
    {
     "name": "stdout",
     "output_type": "stream",
     "text": [
      "Finished round 78 with global loss: 2.25 \n",
      "\n",
      "Beginning round 79\n",
      "\tWorker: 6032 \tlocal loss: 2.25\n",
      "\tWorker: 7904 \tlocal loss: 2.16\n",
      "\tWorker: 8440 \tlocal loss: 2.29\n",
      "\tWorker: 5680 \tlocal loss: 2.22\n",
      "\tWorker: 9656 \tlocal loss: 2.21\n",
      "\tWorker: 3888 \tlocal loss: 2.25\n",
      "\tWorker: 1952 \tlocal loss: 2.22\n",
      "\tWorker: 9976 \tlocal loss: 2.20\n",
      "\tWorker: 3760 \tlocal loss: 2.24\n",
      "\tWorker: 6616 \tlocal loss: 2.24\n"
     ]
    },
    {
     "name": "stderr",
     "output_type": "stream",
     "text": [
      "\n",
      " 79%|███████▉  | 79/100 [26:17<07:09, 20.48s/it]\u001b[A"
     ]
    },
    {
     "name": "stdout",
     "output_type": "stream",
     "text": [
      "Finished round 79 with global loss: 2.25 \n",
      "\n",
      "Beginning round 80\n",
      "\tWorker: 6032 \tlocal loss: 2.25\n",
      "\tWorker: 7904 \tlocal loss: 2.17\n",
      "\tWorker: 8440 \tlocal loss: 2.28\n",
      "\tWorker: 5680 \tlocal loss: 2.23\n",
      "\tWorker: 9656 \tlocal loss: 2.21\n",
      "\tWorker: 3888 \tlocal loss: 2.25\n",
      "\tWorker: 1952 \tlocal loss: 2.23\n",
      "\tWorker: 9976 \tlocal loss: 2.19\n",
      "\tWorker: 3760 \tlocal loss: 2.23\n",
      "\tWorker: 6616 \tlocal loss: 2.24\n"
     ]
    },
    {
     "name": "stderr",
     "output_type": "stream",
     "text": [
      "\n",
      " 80%|████████  | 80/100 [26:35<06:33, 19.65s/it]\u001b[A"
     ]
    },
    {
     "name": "stdout",
     "output_type": "stream",
     "text": [
      "Finished round 80 with global loss: 2.25 \n",
      "\n",
      "Beginning round 81\n",
      "\tWorker: 6032 \tlocal loss: 2.24\n",
      "\tWorker: 7904 \tlocal loss: 2.15\n",
      "\tWorker: 8440 \tlocal loss: 2.29\n",
      "\tWorker: 5680 \tlocal loss: 2.23\n",
      "\tWorker: 9656 \tlocal loss: 2.22\n",
      "\tWorker: 3888 \tlocal loss: 2.26\n",
      "\tWorker: 1952 \tlocal loss: 2.23\n",
      "\tWorker: 9976 \tlocal loss: 2.19\n",
      "\tWorker: 3760 \tlocal loss: 2.23\n",
      "\tWorker: 6616 \tlocal loss: 2.24\n"
     ]
    },
    {
     "name": "stderr",
     "output_type": "stream",
     "text": [
      "\n",
      " 81%|████████  | 81/100 [26:55<06:20, 20.01s/it]\u001b[A"
     ]
    },
    {
     "name": "stdout",
     "output_type": "stream",
     "text": [
      "Finished round 81 with global loss: 2.25 \n",
      "\n",
      "Beginning round 82\n",
      "\tWorker: 6032 \tlocal loss: 2.25\n",
      "\tWorker: 7904 \tlocal loss: 2.14\n",
      "\tWorker: 8440 \tlocal loss: 2.29\n",
      "\tWorker: 5680 \tlocal loss: 2.22\n",
      "\tWorker: 9656 \tlocal loss: 2.21\n",
      "\tWorker: 3888 \tlocal loss: 2.25\n",
      "\tWorker: 1952 \tlocal loss: 2.23\n",
      "\tWorker: 9976 \tlocal loss: 2.20\n",
      "\tWorker: 3760 \tlocal loss: 2.24\n",
      "\tWorker: 6616 \tlocal loss: 2.24\n"
     ]
    },
    {
     "name": "stderr",
     "output_type": "stream",
     "text": [
      "\n",
      " 82%|████████▏ | 82/100 [27:15<05:56, 19.79s/it]\u001b[A"
     ]
    },
    {
     "name": "stdout",
     "output_type": "stream",
     "text": [
      "Finished round 82 with global loss: 2.25 \n",
      "\n",
      "Beginning round 83\n",
      "\tWorker: 6032 \tlocal loss: 2.24\n",
      "\tWorker: 7904 \tlocal loss: 2.17\n",
      "\tWorker: 8440 \tlocal loss: 2.28\n",
      "\tWorker: 5680 \tlocal loss: 2.22\n",
      "\tWorker: 9656 \tlocal loss: 2.22\n",
      "\tWorker: 3888 \tlocal loss: 2.25\n",
      "\tWorker: 1952 \tlocal loss: 2.23\n",
      "\tWorker: 9976 \tlocal loss: 2.18\n",
      "\tWorker: 3760 \tlocal loss: 2.24\n",
      "\tWorker: 6616 \tlocal loss: 2.24\n"
     ]
    },
    {
     "name": "stderr",
     "output_type": "stream",
     "text": [
      "\n",
      " 83%|████████▎ | 83/100 [27:33<05:28, 19.30s/it]\u001b[A"
     ]
    },
    {
     "name": "stdout",
     "output_type": "stream",
     "text": [
      "Finished round 83 with global loss: 2.25 \n",
      "\n",
      "Beginning round 84\n",
      "\tWorker: 6032 \tlocal loss: 2.24\n",
      "\tWorker: 7904 \tlocal loss: 2.16\n",
      "\tWorker: 8440 \tlocal loss: 2.29\n",
      "\tWorker: 5680 \tlocal loss: 2.23\n",
      "\tWorker: 9656 \tlocal loss: 2.21\n",
      "\tWorker: 3888 \tlocal loss: 2.25\n",
      "\tWorker: 1952 \tlocal loss: 2.22\n",
      "\tWorker: 9976 \tlocal loss: 2.19\n",
      "\tWorker: 3760 \tlocal loss: 2.24\n",
      "\tWorker: 6616 \tlocal loss: 2.23\n"
     ]
    },
    {
     "name": "stderr",
     "output_type": "stream",
     "text": [
      "\n",
      " 84%|████████▍ | 84/100 [27:57<05:32, 20.78s/it]\u001b[A"
     ]
    },
    {
     "name": "stdout",
     "output_type": "stream",
     "text": [
      "Finished round 84 with global loss: 2.25 \n",
      "\n",
      "Beginning round 85\n",
      "\tWorker: 6032 \tlocal loss: 2.24\n",
      "\tWorker: 7904 \tlocal loss: 2.15\n",
      "\tWorker: 8440 \tlocal loss: 2.29\n",
      "\tWorker: 5680 \tlocal loss: 2.23\n",
      "\tWorker: 9656 \tlocal loss: 2.21\n",
      "\tWorker: 3888 \tlocal loss: 2.24\n",
      "\tWorker: 1952 \tlocal loss: 2.22\n",
      "\tWorker: 9976 \tlocal loss: 2.20\n",
      "\tWorker: 3760 \tlocal loss: 2.23\n",
      "\tWorker: 6616 \tlocal loss: 2.24\n"
     ]
    },
    {
     "name": "stderr",
     "output_type": "stream",
     "text": [
      "\n",
      " 85%|████████▌ | 85/100 [28:20<05:20, 21.40s/it]\u001b[A"
     ]
    },
    {
     "name": "stdout",
     "output_type": "stream",
     "text": [
      "Finished round 85 with global loss: 2.24 \n",
      "\n",
      "Beginning round 86\n",
      "\tWorker: 6032 \tlocal loss: 2.24\n",
      "\tWorker: 7904 \tlocal loss: 2.17\n",
      "\tWorker: 8440 \tlocal loss: 2.28\n",
      "\tWorker: 5680 \tlocal loss: 2.23\n",
      "\tWorker: 9656 \tlocal loss: 2.21\n",
      "\tWorker: 3888 \tlocal loss: 2.25\n",
      "\tWorker: 1952 \tlocal loss: 2.21\n",
      "\tWorker: 9976 \tlocal loss: 2.20\n",
      "\tWorker: 3760 \tlocal loss: 2.24\n",
      "\tWorker: 6616 \tlocal loss: 2.24\n"
     ]
    },
    {
     "name": "stderr",
     "output_type": "stream",
     "text": [
      "\n",
      " 86%|████████▌ | 86/100 [28:39<04:49, 20.69s/it]\u001b[A"
     ]
    },
    {
     "name": "stdout",
     "output_type": "stream",
     "text": [
      "Finished round 86 with global loss: 2.24 \n",
      "\n",
      "Beginning round 87\n",
      "\tWorker: 6032 \tlocal loss: 2.24\n",
      "\tWorker: 7904 \tlocal loss: 2.14\n",
      "\tWorker: 8440 \tlocal loss: 2.29\n",
      "\tWorker: 5680 \tlocal loss: 2.23\n",
      "\tWorker: 9656 \tlocal loss: 2.22\n",
      "\tWorker: 3888 \tlocal loss: 2.25\n",
      "\tWorker: 1952 \tlocal loss: 2.22\n",
      "\tWorker: 9976 \tlocal loss: 2.18\n",
      "\tWorker: 3760 \tlocal loss: 2.23\n",
      "\tWorker: 6616 \tlocal loss: 2.23\n"
     ]
    },
    {
     "name": "stderr",
     "output_type": "stream",
     "text": [
      "\n",
      " 87%|████████▋ | 87/100 [28:58<04:21, 20.09s/it]\u001b[A"
     ]
    },
    {
     "name": "stdout",
     "output_type": "stream",
     "text": [
      "Finished round 87 with global loss: 2.24 \n",
      "\n",
      "Beginning round 88\n",
      "\tWorker: 6032 \tlocal loss: 2.24\n",
      "\tWorker: 7904 \tlocal loss: 2.14\n",
      "\tWorker: 8440 \tlocal loss: 2.29\n",
      "\tWorker: 5680 \tlocal loss: 2.22\n",
      "\tWorker: 9656 \tlocal loss: 2.21\n",
      "\tWorker: 3888 \tlocal loss: 2.25\n",
      "\tWorker: 1952 \tlocal loss: 2.22\n",
      "\tWorker: 9976 \tlocal loss: 2.19\n",
      "\tWorker: 3760 \tlocal loss: 2.23\n",
      "\tWorker: 6616 \tlocal loss: 2.23\n"
     ]
    },
    {
     "name": "stderr",
     "output_type": "stream",
     "text": [
      "\n",
      " 88%|████████▊ | 88/100 [29:16<03:54, 19.52s/it]\u001b[A"
     ]
    },
    {
     "name": "stdout",
     "output_type": "stream",
     "text": [
      "Finished round 88 with global loss: 2.24 \n",
      "\n",
      "Beginning round 89\n",
      "\tWorker: 6032 \tlocal loss: 2.23\n",
      "\tWorker: 7904 \tlocal loss: 2.12\n",
      "\tWorker: 8440 \tlocal loss: 2.28\n",
      "\tWorker: 5680 \tlocal loss: 2.23\n",
      "\tWorker: 9656 \tlocal loss: 2.20\n",
      "\tWorker: 3888 \tlocal loss: 2.25\n",
      "\tWorker: 1952 \tlocal loss: 2.22\n",
      "\tWorker: 9976 \tlocal loss: 2.19\n",
      "\tWorker: 3760 \tlocal loss: 2.24\n",
      "\tWorker: 6616 \tlocal loss: 2.24\n"
     ]
    },
    {
     "name": "stderr",
     "output_type": "stream",
     "text": [
      "\n",
      " 89%|████████▉ | 89/100 [29:33<03:28, 18.93s/it]\u001b[A"
     ]
    },
    {
     "name": "stdout",
     "output_type": "stream",
     "text": [
      "Finished round 89 with global loss: 2.24 \n",
      "\n",
      "Beginning round 90\n",
      "\tWorker: 6032 \tlocal loss: 2.22\n",
      "\tWorker: 7904 \tlocal loss: 2.14\n",
      "\tWorker: 8440 \tlocal loss: 2.27\n",
      "\tWorker: 5680 \tlocal loss: 2.22\n",
      "\tWorker: 9656 \tlocal loss: 2.20\n",
      "\tWorker: 3888 \tlocal loss: 2.25\n",
      "\tWorker: 1952 \tlocal loss: 2.22\n",
      "\tWorker: 9976 \tlocal loss: 2.18\n",
      "\tWorker: 3760 \tlocal loss: 2.23\n",
      "\tWorker: 6616 \tlocal loss: 2.23\n"
     ]
    },
    {
     "name": "stderr",
     "output_type": "stream",
     "text": [
      "\n",
      " 90%|█████████ | 90/100 [29:51<03:04, 18.42s/it]\u001b[A"
     ]
    },
    {
     "name": "stdout",
     "output_type": "stream",
     "text": [
      "Finished round 90 with global loss: 2.24 \n",
      "\n",
      "Beginning round 91\n",
      "\tWorker: 6032 \tlocal loss: 2.23\n",
      "\tWorker: 7904 \tlocal loss: 2.12\n",
      "\tWorker: 8440 \tlocal loss: 2.29\n",
      "\tWorker: 5680 \tlocal loss: 2.23\n",
      "\tWorker: 9656 \tlocal loss: 2.21\n",
      "\tWorker: 3888 \tlocal loss: 2.24\n",
      "\tWorker: 1952 \tlocal loss: 2.22\n",
      "\tWorker: 9976 \tlocal loss: 2.19\n",
      "\tWorker: 3760 \tlocal loss: 2.24\n",
      "\tWorker: 6616 \tlocal loss: 2.24\n"
     ]
    },
    {
     "name": "stderr",
     "output_type": "stream",
     "text": [
      "\n",
      " 91%|█████████ | 91/100 [30:11<02:51, 19.08s/it]\u001b[A"
     ]
    },
    {
     "name": "stdout",
     "output_type": "stream",
     "text": [
      "Finished round 91 with global loss: 2.24 \n",
      "\n",
      "Beginning round 92\n",
      "\tWorker: 6032 \tlocal loss: 2.23\n",
      "\tWorker: 7904 \tlocal loss: 2.14\n",
      "\tWorker: 8440 \tlocal loss: 2.28\n",
      "\tWorker: 5680 \tlocal loss: 2.22\n",
      "\tWorker: 9656 \tlocal loss: 2.21\n",
      "\tWorker: 3888 \tlocal loss: 2.24\n",
      "\tWorker: 1952 \tlocal loss: 2.21\n",
      "\tWorker: 9976 \tlocal loss: 2.18\n",
      "\tWorker: 3760 \tlocal loss: 2.24\n",
      "\tWorker: 6616 \tlocal loss: 2.23\n"
     ]
    },
    {
     "name": "stderr",
     "output_type": "stream",
     "text": [
      "\n",
      " 92%|█████████▏| 92/100 [30:28<02:26, 18.25s/it]\u001b[A"
     ]
    },
    {
     "name": "stdout",
     "output_type": "stream",
     "text": [
      "Finished round 92 with global loss: 2.24 \n",
      "\n",
      "Beginning round 93\n",
      "\tWorker: 6032 \tlocal loss: 2.23\n",
      "\tWorker: 7904 \tlocal loss: 2.12\n",
      "\tWorker: 8440 \tlocal loss: 2.28\n",
      "\tWorker: 5680 \tlocal loss: 2.22\n",
      "\tWorker: 9656 \tlocal loss: 2.20\n",
      "\tWorker: 3888 \tlocal loss: 2.24\n",
      "\tWorker: 1952 \tlocal loss: 2.22\n",
      "\tWorker: 9976 \tlocal loss: 2.20\n",
      "\tWorker: 3760 \tlocal loss: 2.24\n",
      "\tWorker: 6616 \tlocal loss: 2.22\n"
     ]
    },
    {
     "name": "stderr",
     "output_type": "stream",
     "text": [
      "\n",
      " 93%|█████████▎| 93/100 [30:45<02:05, 17.86s/it]\u001b[A"
     ]
    },
    {
     "name": "stdout",
     "output_type": "stream",
     "text": [
      "Finished round 93 with global loss: 2.24 \n",
      "\n",
      "Beginning round 94\n",
      "\tWorker: 6032 \tlocal loss: 2.23\n",
      "\tWorker: 7904 \tlocal loss: 2.13\n",
      "\tWorker: 8440 \tlocal loss: 2.27\n",
      "\tWorker: 5680 \tlocal loss: 2.23\n",
      "\tWorker: 9656 \tlocal loss: 2.21\n",
      "\tWorker: 3888 \tlocal loss: 2.24\n",
      "\tWorker: 1952 \tlocal loss: 2.21\n",
      "\tWorker: 9976 \tlocal loss: 2.18\n",
      "\tWorker: 3760 \tlocal loss: 2.23\n",
      "\tWorker: 6616 \tlocal loss: 2.23\n"
     ]
    },
    {
     "name": "stderr",
     "output_type": "stream",
     "text": [
      "\n",
      " 94%|█████████▍| 94/100 [31:01<01:44, 17.45s/it]\u001b[A"
     ]
    },
    {
     "name": "stdout",
     "output_type": "stream",
     "text": [
      "Finished round 94 with global loss: 2.24 \n",
      "\n",
      "Beginning round 95\n",
      "\tWorker: 6032 \tlocal loss: 2.23\n",
      "\tWorker: 7904 \tlocal loss: 2.12\n",
      "\tWorker: 8440 \tlocal loss: 2.28\n",
      "\tWorker: 5680 \tlocal loss: 2.23\n",
      "\tWorker: 9656 \tlocal loss: 2.22\n",
      "\tWorker: 3888 \tlocal loss: 2.25\n",
      "\tWorker: 1952 \tlocal loss: 2.21\n",
      "\tWorker: 9976 \tlocal loss: 2.19\n",
      "\tWorker: 3760 \tlocal loss: 2.21\n",
      "\tWorker: 6616 \tlocal loss: 2.23\n"
     ]
    },
    {
     "name": "stderr",
     "output_type": "stream",
     "text": [
      "\n",
      " 95%|█████████▌| 95/100 [31:18<01:26, 17.33s/it]\u001b[A"
     ]
    },
    {
     "name": "stdout",
     "output_type": "stream",
     "text": [
      "Finished round 95 with global loss: 2.24 \n",
      "\n",
      "Beginning round 96\n",
      "\tWorker: 6032 \tlocal loss: 2.25\n",
      "\tWorker: 7904 \tlocal loss: 2.11\n",
      "\tWorker: 8440 \tlocal loss: 2.27\n",
      "\tWorker: 5680 \tlocal loss: 2.21\n",
      "\tWorker: 9656 \tlocal loss: 2.21\n",
      "\tWorker: 3888 \tlocal loss: 2.25\n",
      "\tWorker: 1952 \tlocal loss: 2.22\n",
      "\tWorker: 9976 \tlocal loss: 2.18\n",
      "\tWorker: 3760 \tlocal loss: 2.22\n",
      "\tWorker: 6616 \tlocal loss: 2.22\n"
     ]
    },
    {
     "name": "stderr",
     "output_type": "stream",
     "text": [
      "\n",
      " 96%|█████████▌| 96/100 [31:35<01:08, 17.11s/it]\u001b[A"
     ]
    },
    {
     "name": "stdout",
     "output_type": "stream",
     "text": [
      "Finished round 96 with global loss: 2.24 \n",
      "\n",
      "Beginning round 97\n",
      "\tWorker: 6032 \tlocal loss: 2.23\n",
      "\tWorker: 7904 \tlocal loss: 2.12\n",
      "\tWorker: 8440 \tlocal loss: 2.27\n",
      "\tWorker: 5680 \tlocal loss: 2.22\n",
      "\tWorker: 9656 \tlocal loss: 2.20\n",
      "\tWorker: 3888 \tlocal loss: 2.25\n",
      "\tWorker: 1952 \tlocal loss: 2.21\n",
      "\tWorker: 9976 \tlocal loss: 2.19\n",
      "\tWorker: 3760 \tlocal loss: 2.23\n",
      "\tWorker: 6616 \tlocal loss: 2.23\n"
     ]
    },
    {
     "name": "stderr",
     "output_type": "stream",
     "text": [
      "\n",
      " 97%|█████████▋| 97/100 [31:51<00:50, 16.99s/it]\u001b[A"
     ]
    },
    {
     "name": "stdout",
     "output_type": "stream",
     "text": [
      "Finished round 97 with global loss: 2.24 \n",
      "\n",
      "Beginning round 98\n",
      "\tWorker: 6032 \tlocal loss: 2.23\n",
      "\tWorker: 7904 \tlocal loss: 2.10\n",
      "\tWorker: 8440 \tlocal loss: 2.28\n",
      "\tWorker: 5680 \tlocal loss: 2.22\n",
      "\tWorker: 9656 \tlocal loss: 2.20\n",
      "\tWorker: 3888 \tlocal loss: 2.25\n",
      "\tWorker: 1952 \tlocal loss: 2.22\n",
      "\tWorker: 9976 \tlocal loss: 2.19\n",
      "\tWorker: 3760 \tlocal loss: 2.24\n",
      "\tWorker: 6616 \tlocal loss: 2.22\n"
     ]
    },
    {
     "name": "stderr",
     "output_type": "stream",
     "text": [
      "\n",
      " 98%|█████████▊| 98/100 [32:11<00:35, 17.85s/it]\u001b[A"
     ]
    },
    {
     "name": "stdout",
     "output_type": "stream",
     "text": [
      "Finished round 98 with global loss: 2.23 \n",
      "\n",
      "Beginning round 99\n",
      "\tWorker: 6032 \tlocal loss: 2.22\n",
      "\tWorker: 7904 \tlocal loss: 2.12\n",
      "\tWorker: 8440 \tlocal loss: 2.28\n",
      "\tWorker: 5680 \tlocal loss: 2.21\n",
      "\tWorker: 9656 \tlocal loss: 2.21\n",
      "\tWorker: 3888 \tlocal loss: 2.24\n",
      "\tWorker: 1952 \tlocal loss: 2.21\n",
      "\tWorker: 9976 \tlocal loss: 2.17\n",
      "\tWorker: 3760 \tlocal loss: 2.23\n",
      "\tWorker: 6616 \tlocal loss: 2.23\n"
     ]
    },
    {
     "name": "stderr",
     "output_type": "stream",
     "text": [
      "\n",
      " 99%|█████████▉| 99/100 [32:26<00:16, 16.87s/it]\u001b[A"
     ]
    },
    {
     "name": "stdout",
     "output_type": "stream",
     "text": [
      "Finished round 99 with global loss: 2.23 \n",
      "\n",
      "Beginning round 100\n",
      "\tWorker: 6032 \tlocal loss: 2.22\n",
      "\tWorker: 7904 \tlocal loss: 2.11\n",
      "\tWorker: 8440 \tlocal loss: 2.28\n",
      "\tWorker: 5680 \tlocal loss: 2.22\n",
      "\tWorker: 9656 \tlocal loss: 2.20\n",
      "\tWorker: 3888 \tlocal loss: 2.24\n",
      "\tWorker: 1952 \tlocal loss: 2.21\n",
      "\tWorker: 9976 \tlocal loss: 2.18\n",
      "\tWorker: 3760 \tlocal loss: 2.23\n",
      "\tWorker: 6616 \tlocal loss: 2.22\n"
     ]
    },
    {
     "name": "stderr",
     "output_type": "stream",
     "text": [
      "\n",
      "100%|██████████| 100/100 [32:43<00:00, 16.81s/it]\u001b[A"
     ]
    },
    {
     "name": "stdout",
     "output_type": "stream",
     "text": [
      "Finished round 100 with global loss: 2.23 \n",
      "\n",
      "Federated Training Time: 1963.02\n"
     ]
    }
   ],
   "source": [
    "print(\"Training\", num_rounds, \"round(s) with\", manager.n_workers, \"worker(s) doing\", num_epochs, \"epoch(s) per round.\\n\" )\n",
    "\n",
    "training_start_time = time.time()\n",
    "\n",
    "for i in tqdm(range(num_rounds)):\n",
    "    print(\"Beginning round\", i+1)\n",
    "    manager.round()\n",
    "    print(\"Finished round\", i+1, \"with global loss: %.2f\" % manager.manager_loss_history[-1], \"\\n\")\n",
    "\n",
    "run_data['Federated Training Time'] = time.time() - training_start_time\n",
    "#run_data['Manager Loss History'] = manager.manager_loss_history\n",
    "#run_data['Worker Loss Histories'] = manager.worker_loss_histories\n",
    "run_data['Final Global Loss'] = manager.manager_loss_history[-1]\n",
    "\n",
    "print('Federated Training Time: %.2f' % run_data['Federated Training Time'])"
   ]
  },
  {
   "cell_type": "markdown",
   "metadata": {},
   "source": [
    "Now let's take a look at how the training went. Here's a graph of the loss per round."
   ]
  },
  {
   "cell_type": "code",
   "execution_count": null,
   "metadata": {},
   "outputs": [],
   "source": [
    "%matplotlib inline\n",
    "import matplotlib.pyplot as plt\n",
    "\n",
    "fig, ax = plt.subplots(figsize=(16, 9))\n",
    "# loss of global model on test set gets recorded twice per round\n",
    "# [1::2] skips the record that takes place before that round's training has happened\n",
    "ax.plot(manager.manager_loss_history[1::2], label=\"Global Loss\", )\n",
    "ax.set_xlabel(\"Federated Round\")\n",
    "ax.set_ylabel(\"Loss\")\n",
    "ax.legend();"
   ]
  },
  {
   "cell_type": "markdown",
   "metadata": {},
   "source": [
    "This looks pretty good, with loss dropping off just like we want. Perhaps it's a little bumpy because of the relatively fast training rate, but it should be improving on balance. But if we look under the hood at each individual worker's loss, we see that the workers' local models are diverging and converging at each round. They diverge because each local model trains on different data, resulting in a somewhat different loss per round. The converge again because the manager combines them into a master model, such that they all have the same loss as the global loss."
   ]
  },
  {
   "cell_type": "code",
   "execution_count": null,
   "metadata": {},
   "outputs": [],
   "source": [
    "fig, ax = plt.subplots(figsize=(16, 9))\n",
    "\n",
    "\n",
    "for i in range(len(manager.worker_loss_histories)):\n",
    "    ax.plot(manager.worker_loss_histories[i], label=('Worker ' + str(i)))\n",
    "\n",
    "# TODO: Align the global loss properly\n",
    "ax.plot(manager.manager_loss_history[1], label=\"Global Loss\", )\n",
    "\n",
    "    \n",
    "# TODO: Get these labels done properly - they should be aligned with the main \n",
    "ax.set_xticklabels([(i-1) for i in range(len(manager.worker_loss_histories))])\n",
    "ax.set_xlabel(\"Federated Round\")\n",
    "ax.set_ylabel(\"Loss\")\n",
    "ax.legend();"
   ]
  },
  {
   "cell_type": "markdown",
   "metadata": {},
   "source": [
    "TODO: Write a bit of code that records the hyperparameters and saves the graphs, times and losses in a bundle for each run. Something like:\n",
    "\n",
    "```\n",
    "2019-05-06 21:02:50\n",
    "\n",
    "# standard dataloader parameter\n",
    "batch_size = 128\n",
    "\n",
    "# biasing parameters\n",
    "skew_bias = 0.3\n",
    "loader_size = 8192\n",
    "num_workers = 10\n",
    "\n",
    "Stacked set creation time: 00:01:08\n",
    "\n",
    "# training parameters\n",
    "learning_rate = 1e-2\n",
    "num_epochs = 1\n",
    "num_rounds = 20\n",
    "\n",
    "Train time = 00:43:02\n",
    "\n",
    "Final global loss: 0.48251\n",
    "```\n",
    "\n",
    "Well. I did this. And now the code is unreadable."
   ]
  },
  {
   "cell_type": "markdown",
   "metadata": {},
   "source": [
    "Outline:\n",
    "- Set up a model and data\n",
    "- train the model N epochs without federation note baseline performance (and size of the data that would have to have been transferedd?) \n",
    "    - is this model trained on the full dataset? Or do we sample randomly across it to have the same number of examples?\n",
    "- Federate without skew or mild skew, compare performance with baseline (and size of model compared to data)\n",
    "- Federate with only a few numbers skewed (like, lacking only 7s or something) \n",
    "- Federate with heavy skew\n",
    "- Federate with complete skew\n",
    "\n",
    "Ideas:\n",
    "- plot performance on a given numeral for the main model next to that of a worker skewed against that numeral. Let both run without federation or run a few epochs before federation. Show this as a baseline\n",
    "- histogram of numerals? More for curiosity, but shows spread of data that we might want to reflect in the baseline training.\n",
    "- post 1: what's the accuracy loss for federation compared to baseline direct training?\n",
    "- post 2: weird side stats\n",
    "    - skew vs. accuracy\n",
    "        - plot - x-axis = skew, y-axis = accuracy\n",
    "    - run all to convergence, compare how long to reach comparable accuracy?\n",
    "        - time or epochs necessary to reach comparable accuracy between federated and standard approach\n",
    "        - time or epochs necessary to reach comparable accuracy by skew\n",
    "    - \n",
    "\n",
    "Questions:\n",
    "- Why does the time spent by a worker on any given epoch all happen _before_ the batches start rolling in? What's happening there? Am I just spinning my wheels on something?\n",
    "    - TODO: try this from a regular python file. The notebook may be buffering up those print statements in the batches\n",
    "- Why does random selection of the skewed datasets take so long? Is it because they're without replacement?\n",
    "- Why do all the workers and epochs always happen in order? Wouldn't my laptop parallelize them across cores? Is that too much to ask from an interpreter? Is the interpreter smarter than I am and actually is parallelizing them and the smartest way in to do them in order?\n",
    "- why use ten workers? Why not fewer?\n",
    "\n",
    "- TODO: unequal data volume at each worker. Try some workers with very small or very large samples."
   ]
  },
  {
   "cell_type": "code",
   "execution_count": null,
   "metadata": {},
   "outputs": [],
   "source": []
  },
  {
   "cell_type": "code",
   "execution_count": null,
   "metadata": {},
   "outputs": [],
   "source": []
  },
  {
   "cell_type": "code",
   "execution_count": null,
   "metadata": {
    "scrolled": true
   },
   "outputs": [],
   "source": [
    "# a little performance info on the run\n",
    "run_data['Global End Time'] = time.time()\n",
    "run_data['Global Time'] = run_data['Global End Time'] - run_data['Global Start Time']\n",
    "run_data"
   ]
  },
  {
   "cell_type": "code",
   "execution_count": null,
   "metadata": {},
   "outputs": [],
   "source": [
    "# leave a record of the run\n",
    "# but it isn't valid JSON\n",
    "import json \n",
    "with open('run_data.json', 'a') as file:\n",
    "    file.write(json.dumps(run_data))\n",
    "    file.write('\\n\\n')"
   ]
  },
  {
   "cell_type": "code",
   "execution_count": null,
   "metadata": {},
   "outputs": [],
   "source": []
  },
  {
   "cell_type": "code",
   "execution_count": null,
   "metadata": {},
   "outputs": [],
   "source": []
  },
  {
   "cell_type": "code",
   "execution_count": null,
   "metadata": {},
   "outputs": [],
   "source": [
    "from collections import Counter\n",
    "import numpy as np\n",
    "\n",
    "train_counts = Counter(int(y) for y in train_dset.targets).most_common()\n",
    "print(\"Train digit counts: \\n\", train_counts)\n",
    "print(\"Train count standard deviation: %.2f\" % np.std(list(zip(*train_counts))[1]))\n",
    "print(\"Train count coefficient of variation: %.2f\" \n",
    "      % (float(np.mean(list(zip(*train_counts))[1])) / float(np.std(list(zip(*train_counts))[1]))))\n",
    "\n",
    "print()\n",
    "\n",
    "test_counts = Counter(int(y) for y in test_dset.targets).most_common()\n",
    "print(\"Test digit counts: \\n\", test_counts)\n",
    "print(\"Test standard deviation: %.2f\" % np.std(list(zip(*test_counts))[1]))\n",
    "print(\"Test count coefficient of variation: %.2f\" \n",
    "      % (float(np.mean(list(zip(*test_counts))[1])) / float(np.std(list(zip(*test_counts))[1]))))"
   ]
  },
  {
   "cell_type": "code",
   "execution_count": null,
   "metadata": {},
   "outputs": [],
   "source": [
    "fig, ax = plt.subplots(figsize=(15, 5))\n",
    "fig.suptitle('Digit Counts at each Worker')\n",
    "ax.xaxis.set_major_locator(plt.MultipleLocator(1))\n",
    "ax.set_xticklabels([('Digit ' + str(x-1)) for x in range(11)])\n",
    "ax.hist(hist_counts, \n",
    "        label=[('Worker ' + str(x)) for x in range(num_workers)],\n",
    "        bins=list(range(12)), \n",
    "        histtype='bar',\n",
    "        align='left',\n",
    "        rwidth=0.8,\n",
    "       );\n",
    "ax.legend();"
   ]
  }
 ],
 "metadata": {
  "kernelspec": {
   "display_name": "Python 3",
   "language": "python",
   "name": "python3"
  },
  "language_info": {
   "codemirror_mode": {
    "name": "ipython",
    "version": 3
   },
   "file_extension": ".py",
   "mimetype": "text/x-python",
   "name": "python",
   "nbconvert_exporter": "python",
   "pygments_lexer": "ipython3",
   "version": "3.6.7"
  }
 },
 "nbformat": 4,
 "nbformat_minor": 2
}
