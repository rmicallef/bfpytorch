{
 "cells": [
  {
   "cell_type": "code",
   "execution_count": 26,
   "metadata": {},
   "outputs": [],
   "source": [
    "import numpy as np\n",
    "import cv2\n",
    "import struct\n",
    "\n",
    "\n",
    "def extract_labels(mnist_label_file_path, label_file_path):\n",
    "    with open(mnist_label_file_path, \"rb\") as mnist_label_file:\n",
    "        # 32 bit integer magic number\n",
    "        mnist_label_file.read(4)\n",
    "        # 32 bit integer number of items\n",
    "        mnist_label_file.read(4)\n",
    "        # actual test label\n",
    "        label_file = open(label_file_path, \"w\")\n",
    "        label = mnist_label_file.read(1)\n",
    "        while label:\n",
    "            label_file.writelines(str(label[0]) + \"\\n\")\n",
    "            label = mnist_label_file.read(1)\n",
    "        label_file.close()\n",
    "\n",
    "\n",
    "def extract_images(images_file_path, images_save_folder):\n",
    "    # images_file_path = \"./t10k-images-idx3-ubyte\"\n",
    "    with open(images_file_path, \"rb\") as images_file:\n",
    "        # 32 bit integer magic number\n",
    "        images_file.read(4)\n",
    "        # 32 bit integer number of images\n",
    "        images_file.read(4)\n",
    "        # 32 bit number of rows\n",
    "        images_file.read(4)\n",
    "        # 32 bit number of columns\n",
    "        images_file.read(4)\n",
    "        # every image contain 28 x 28 = 784 byte, so read 784 bytes each time\n",
    "        count = 1\n",
    "        image = np.zeros((28, 28, 1), np.uint8)\n",
    "        image_bytes = images_file.read(784)\n",
    "        while image_bytes:\n",
    "            image_unsigned_char = struct.unpack(\"=784B\", image_bytes)\n",
    "            for i in range(784):\n",
    "                image.itemset(i, image_unsigned_char[i])\n",
    "            image_save_path = \"./%s/%d.png\" % (images_save_folder, count)\n",
    "            cv2.imwrite(image_save_path, image)\n",
    "            #print(count)\n",
    "            image_bytes = images_file.read(784)\n",
    "            count += 1"
   ]
  },
  {
   "cell_type": "code",
   "execution_count": 27,
   "metadata": {},
   "outputs": [],
   "source": [
    "extract_labels('./data/raw/t10k-labels-idx1-ubyte', './data/raw/extracted/extracted-t10k-labels-idx1-ubyte')\n",
    "extract_images('./data/raw/t10k-images-idx3-ubyte', './data/raw/extracted/test-images')\n",
    "\n",
    "\n",
    "extract_labels('./data/raw/train-labels-idx1-ubyte', './data/raw/extracted/extracted-train-labels-idx1-ubyte')\n",
    "extract_images('./data/raw/train-images-idx3-ubyte', './data/raw/extracted/train-images')"
   ]
  },
  {
   "cell_type": "code",
   "execution_count": 67,
   "metadata": {},
   "outputs": [
    {
     "name": "stdout",
     "output_type": "stream",
     "text": [
      "1 7 ./data/raw/extracted/renaming-set/1.png ./data/raw/extracted/renaming-set/7-1.png\n",
      "2 2 ./data/raw/extracted/renaming-set/2.png ./data/raw/extracted/renaming-set/2-2.png\n",
      "3 1 ./data/raw/extracted/renaming-set/3.png ./data/raw/extracted/renaming-set/1-3.png\n",
      "4 0 ./data/raw/extracted/renaming-set/4.png ./data/raw/extracted/renaming-set/0-4.png\n",
      "5 4 ./data/raw/extracted/renaming-set/5.png ./data/raw/extracted/renaming-set/4-5.png\n",
      "6 1 ./data/raw/extracted/renaming-set/6.png ./data/raw/extracted/renaming-set/1-6.png\n",
      "7 4 ./data/raw/extracted/renaming-set/7.png ./data/raw/extracted/renaming-set/4-7.png\n",
      "8 9 ./data/raw/extracted/renaming-set/8.png ./data/raw/extracted/renaming-set/9-8.png\n",
      "9 5 ./data/raw/extracted/renaming-set/9.png ./data/raw/extracted/renaming-set/5-9.png\n",
      "10 9 ./data/raw/extracted/renaming-set/10.png ./data/raw/extracted/renaming-set/9-10.png\n",
      "11 0 ./data/raw/extracted/renaming-set/11.png ./data/raw/extracted/renaming-set/0-11.png\n",
      "12 6 ./data/raw/extracted/renaming-set/12.png ./data/raw/extracted/renaming-set/6-12.png\n",
      "13 9 ./data/raw/extracted/renaming-set/13.png ./data/raw/extracted/renaming-set/9-13.png\n",
      "14 0 ./data/raw/extracted/renaming-set/14.png ./data/raw/extracted/renaming-set/0-14.png\n",
      "15\n",
      "{}\n"
     ]
    }
   ],
   "source": [
    "import os\n",
    "\n",
    "fd = open('./data/raw/extracted/test-rename-labels')\n",
    "image_path = './data/raw/extracted/renaming-set/'\n",
    "count = 1\n",
    "\n",
    "for line in fd:\n",
    "    file_to_rename = image_path + str(count) + '.png'\n",
    "    digit = int(line)\n",
    "    new_name = image_path + str(digit) + '-' + str(count) + '.png'\n",
    "    \n",
    "    #print(count, digit, file_to_rename, new_name)\n",
    "    os.rename(file_to_rename, new_name)\n",
    "    count += 1"
   ]
  },
  {
   "cell_type": "code",
   "execution_count": 1,
   "metadata": {},
   "outputs": [
    {
     "ename": "ModuleNotFoundError",
     "evalue": "No module named 'cv2'",
     "output_type": "error",
     "traceback": [
      "\u001b[0;31m---------------------------------------------------------------------------\u001b[0m",
      "\u001b[0;31mModuleNotFoundError\u001b[0m                       Traceback (most recent call last)",
      "\u001b[0;32m<ipython-input-1-974b59840927>\u001b[0m in \u001b[0;36m<module>\u001b[0;34m\u001b[0m\n\u001b[1;32m      1\u001b[0m \u001b[0;32mimport\u001b[0m \u001b[0mnumpy\u001b[0m \u001b[0;32mas\u001b[0m \u001b[0mnp\u001b[0m\u001b[0;34m\u001b[0m\u001b[0;34m\u001b[0m\u001b[0m\n\u001b[0;32m----> 2\u001b[0;31m \u001b[0;32mimport\u001b[0m \u001b[0mcv2\u001b[0m\u001b[0;34m\u001b[0m\u001b[0;34m\u001b[0m\u001b[0m\n\u001b[0m\u001b[1;32m      3\u001b[0m \u001b[0;32mimport\u001b[0m \u001b[0mstruct\u001b[0m\u001b[0;34m\u001b[0m\u001b[0;34m\u001b[0m\u001b[0m\n\u001b[1;32m      4\u001b[0m \u001b[0;34m\u001b[0m\u001b[0m\n\u001b[1;32m      5\u001b[0m \u001b[0;34m\u001b[0m\u001b[0m\n",
      "\u001b[0;31mModuleNotFoundError\u001b[0m: No module named 'cv2'"
     ]
    }
   ],
   "source": [
    "import numpy as np\n",
    "import cv2\n",
    "import struct\n",
    "\n",
    "\n",
    "def extract_labels(mnist_label_file_path, label_file_path):\n",
    "    with open(mnist_label_file_path, \"rb\") as mnist_label_file:\n",
    "        # 32 bit integer magic number\n",
    "        mnist_label_file.read(4)\n",
    "        # 32 bit integer number of items\n",
    "        mnist_label_file.read(4)\n",
    "        # actual test label\n",
    "        label_file = open(label_file_path, \"w\")\n",
    "        label = mnist_label_file.read(1)\n",
    "        while label:\n",
    "            label_file.writelines(str(label[0]) + \"\\n\")\n",
    "            label = mnist_label_file.read(1)\n",
    "        "
   ]
  },
  {
   "cell_type": "code",
   "execution_count": null,
   "metadata": {},
   "outputs": [],
   "source": []
  }
 ],
 "metadata": {
  "kernelspec": {
   "display_name": "Python 3",
   "language": "python",
   "name": "python3"
  },
  "language_info": {
   "codemirror_mode": {
    "name": "ipython",
    "version": 3
   },
   "file_extension": ".py",
   "mimetype": "text/x-python",
   "name": "python",
   "nbconvert_exporter": "python",
   "pygments_lexer": "ipython3",
   "version": "3.6.7"
  }
 },
 "nbformat": 4,
 "nbformat_minor": 2
}
