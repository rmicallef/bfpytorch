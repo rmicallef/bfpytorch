{
 "cells": [
  {
   "cell_type": "markdown",
   "metadata": {},
   "source": [
    "# Federated Learning Test\n",
    "\n",
    "This notebook is a test of federated learning using the MNIST dataset. It distributes partial subsets of the MNIST data to each worker and tests the results of federation of the workers. It also skews the subsets to investigate the value of federation in cases where workers have substantially different samples."
   ]
  },
  {
   "cell_type": "code",
   "execution_count": 1,
   "metadata": {},
   "outputs": [
    {
     "name": "stdout",
     "output_type": "stream",
     "text": [
      "%load_ext autoreload\r\n",
      "%autoreload 2"
     ]
    }
   ],
   "source": [
    "# Put this in this file to have imported models reload automatically when you edit them.\n",
    "!cat ~/.ipython/profile_default/startup/00-autoreload.ipy"
   ]
  },
  {
   "cell_type": "code",
   "execution_count": 2,
   "metadata": {},
   "outputs": [],
   "source": [
    "data_path = './MNIST-data/raw'\n",
    "\n",
    "# location of data and labels\n",
    "test_labels_file = data_path + '/' + 't10k-labels-idx1-ubyte'\n",
    "test_data_file = data_path + '/' + 't10k-images-idx3-ubyte'\n",
    "train_labels_file = data_path + '/' + 'train-labels-idx1-ubyte'\n",
    "train_data_file = data_path + '/' + 'train-images-idx3-ubyte'"
   ]
  },
  {
   "cell_type": "code",
   "execution_count": 3,
   "metadata": {},
   "outputs": [],
   "source": [
    "import torch\n",
    "import torchvision.datasets as dsets\n",
    "import torchvision.transforms as transforms\n",
    "\n",
    "trans = transforms.Compose([transforms.ToTensor(), transforms.Normalize((0.5,), (1.0,))])\n",
    "\n",
    "# pytorch datasets that download MNIST set as needed; used only to download files\n",
    "train_dset = dsets.MNIST(root=data_path, download=False, train=True, transform=trans)\n",
    "test_dset = dsets.MNIST(root=data_path, download=False, train=False, transform=trans)"
   ]
  },
  {
   "cell_type": "code",
   "execution_count": 4,
   "metadata": {},
   "outputs": [],
   "source": [
    "# hack to turn a dataset into two lists\n",
    "Xtest, ytest = list(zip(*test_dset))\n",
    "\n",
    "# This turns a list of N A*B tensors into an N*A*B tensor\n",
    "Xtest = torch.stack(Xtest)\n",
    "\n",
    "# This turns a list into a tensor, and ensures they stay as integers (no conversion to floats!)\n",
    "ytest = torch.LongTensor(ytest)"
   ]
  },
  {
   "cell_type": "code",
   "execution_count": null,
   "metadata": {},
   "outputs": [],
   "source": []
  },
  {
   "cell_type": "code",
   "execution_count": 5,
   "metadata": {},
   "outputs": [],
   "source": [
    "# This turns a list into a tensor, and ensures they stay as integers (no conversion to floats!)\n",
    "#ytest = torch.LongTensor(ytest)"
   ]
  },
  {
   "cell_type": "code",
   "execution_count": 6,
   "metadata": {},
   "outputs": [],
   "source": [
    "from torch.utils.data import DataLoader\n",
    "\n",
    "# create dataloaders\n",
    "batch_size = 128\n",
    "\n",
    "train_dloader = DataLoader(train_dset, batch_size=batch_size, shuffle=True)\n",
    "#test_dloader = DataLoader(test_dset, batch_size=batch_size, shuffle=False)"
   ]
  },
  {
   "cell_type": "code",
   "execution_count": 7,
   "metadata": {},
   "outputs": [],
   "source": [
    "import torch.nn as nn\n",
    "\n",
    "class MLPNet(nn.Module):\n",
    "    def __init__(self):\n",
    "        super(MLPNet, self).__init__()\n",
    "        self.fc1 = nn.Linear(28*28, 500)\n",
    "        self.fc2 = nn.Linear(500, 256)\n",
    "        self.fc3 = nn.Linear(256, 10)\n",
    "    def forward(self, x):\n",
    "        x = x.view(-1, 28*28)\n",
    "        x = nn.functional.relu(self.fc1(x))\n",
    "        x = nn.functional.relu(self.fc2(x))\n",
    "        x = self.fc3(x)\n",
    "        return x\n",
    "    \n",
    "    def name(self):\n",
    "        return \"MLP\""
   ]
  },
  {
   "cell_type": "markdown",
   "metadata": {},
   "source": [
    "model = MLPNet()\n",
    "\n",
    "learning_rate = 1e-1\n",
    "momentum = 0.5\n",
    "num_epochs = 5\n",
    "\n",
    "# no momentum for like-with-like test\n",
    "optimizer = torch.optim.SGD(model.parameters(), lr=learning_rate, momentum=momentum)\n",
    "\n",
    "#optimizer = torch.optim.SGD(model.parameters(), lr=learning_rate)\n",
    "criterion = nn.CrossEntropyLoss()\n",
    "\n",
    "train_loss_history = []\n",
    "test_loss_history = []\n",
    "\n",
    "for epoch in range(num_epochs):\n",
    "\n",
    "    for batch_idx, (x, target) in enumerate(train_dloader):\n",
    "        optimizer.zero_grad()\n",
    "        out = model(x)\n",
    "        loss = criterion(out, target)\n",
    "        train_loss_history.append(loss.item())\n",
    "        if batch_idx%100 == 0:\n",
    "            print(batch_idx, train_loss_history[-1])\n",
    "        loss.backward()\n",
    "        optimizer.step()\n",
    "        \n",
    "    # only do this once per epoch. Expensive.\n",
    "    # (Although it makes it difficult to show two loss curves on same plot, as you saw)\n",
    "    with torch.no_grad():\n",
    "        \n",
    "        test_loss_history.append(criterion(model(Xtest), ytest).item())\n",
    "        print(\"-->\", epoch, test_loss_history[-1])"
   ]
  },
  {
   "cell_type": "markdown",
   "metadata": {},
   "source": [
    "%matplotlib inline\n",
    "import matplotlib.pyplot as plt\n",
    "fig, ax = plt.subplots(1, 2)\n",
    "ax[0].plot(train_loss_history, label=\"train\")\n",
    "ax[0].set_xlabel(\"batches\")\n",
    "ax[1].plot(test_loss_history, label=\"test\")\n",
    "ax[1].set_xlabel(\"epochs\")\n",
    "ax[0].legend()\n",
    "ax[1].legend();"
   ]
  },
  {
   "cell_type": "markdown",
   "metadata": {},
   "source": [
    "## Testing Federation\n",
    "\n",
    "Up to this point, we've trained an MNIST model with pytorch with no fancy business. Now we add federation."
   ]
  },
  {
   "cell_type": "code",
   "execution_count": 8,
   "metadata": {},
   "outputs": [],
   "source": [
    "import federated\n",
    "\n",
    "learning_rate = 1e-2\n",
    "num_epochs = 1\n",
    "\n",
    "# momentum = 0.5 # TODO: do we need it? If so, how and where to pass it through?\n",
    "\n",
    "datasets = [train_dloader,\n",
    "            train_dloader,\n",
    "            \n",
    "           ]\n",
    "\n",
    "manager = federated.FederatedManager(\n",
    "    datasets,\n",
    "    MLPNet(),\n",
    "    nn.CrossEntropyLoss(),\n",
    "    learning_rate,\n",
    "    Xtest,\n",
    "    ytest,\n",
    "    num_epochs\n",
    ")"
   ]
  },
  {
   "cell_type": "code",
   "execution_count": 9,
   "metadata": {},
   "outputs": [
    {
     "name": "stdout",
     "output_type": "stream",
     "text": [
      "Training 1 round(s) with 2 worker(s)\n",
      "Beginning round 0\n",
      "Worker: 43608 Batch: 00000 Loss: 2.31349\n",
      "Worker: 43608 Batch: 00100 Loss: 2.22735\n",
      "Worker: 43608 Batch: 00200 Loss: 2.14941\n",
      "Worker: 43608 Batch: 00300 Loss: 1.97843\n",
      "Worker: 43608 Batch: 00400 Loss: 1.68669\n",
      "Worker: 43720 Batch: 00000 Loss: 1.63371\n",
      "Worker: 43720 Batch: 00100 Loss: 1.10909\n",
      "Worker: 43720 Batch: 00200 Loss: 0.89336\n",
      "Worker: 43720 Batch: 00300 Loss: 0.75903\n",
      "Worker: 43720 Batch: 00400 Loss: 0.72497\n",
      "    Round: 000 Loss: 0.63101\n"
     ]
    }
   ],
   "source": [
    "print(\"Training\", num_epochs, \"round(s) with\", manager.n_workers, \"worker(s)\")\n",
    "\n",
    "for i in range(num_epochs):\n",
    "    print(\"Beginning round\", i)\n",
    "    manager.round()\n",
    "    print(\"    Round: %03d\" % i, \"Loss: %.5f\" % manager.manager_loss_history[-1])"
   ]
  },
  {
   "cell_type": "code",
   "execution_count": 14,
   "metadata": {},
   "outputs": [
    {
     "name": "stdout",
     "output_type": "stream",
     "text": [
      "2\n"
     ]
    },
    {
     "data": {
      "image/png": "[encoded data removed]",
      "text/plain": [
       "<Figure size 432x288 with 1 Axes>"
      ]
     },
     "metadata": {
      "needs_background": "light"
     },
     "output_type": "display_data"
    },
    {
     "data": {
      "image/png": "[encoded data removed]",
      "text/plain": [
       "<Figure size 432x288 with 2 Axes>"
      ]
     },
     "metadata": {
      "needs_background": "light"
     },
     "output_type": "display_data"
    },
    {
     "data": {
      "image/png": "[encoded data removed]",
      "text/plain": [
       "<Figure size 432x288 with 1 Axes>"
      ]
     },
     "metadata": {
      "needs_background": "light"
     },
     "output_type": "display_data"
    },
    {
     "data": {
      "image/png": "[encoded data removed]",
      "text/plain": [
       "<Figure size 432x288 with 1 Axes>"
      ]
     },
     "metadata": {
      "needs_background": "light"
     },
     "output_type": "display_data"
    }
   ],
   "source": [
    "%matplotlib inline\n",
    "import matplotlib.pyplot as plt\n",
    "\n",
    "fig, ax = plt.subplots()\n",
    "# loss of global model on test set gets recorded twice per round\n",
    "# [1::2] skips the record that takes place before that round's training has happened\n",
    "ax.plot(manager.manager_loss_history[1::2], label=\"global loss\")\n",
    "ax.set_xlabel(\"round\");\n",
    "\n",
    "\n",
    "fig, ax = plt.subplots(1, 2)\n",
    "ax[0].plot(manager.worker_loss_histories[0], label=\"worker0\")\n",
    "ax[0].set_xlabel(\"rounds\")\n",
    "ax[1].plot(manager.worker_loss_histories[1], label=\"worker1\")\n",
    "ax[1].set_xlabel(\"rounds\")\n",
    "ax[0].legend()\n",
    "ax[1].legend();\n",
    "\n",
    "#fig, ax = plt.subplots()\n",
    "\n",
    "print(len(manager.worker_loss_histories))\n",
    "\n",
    "for i in range(len(manager.worker_loss_histories)):\n",
    "    \n",
    "    fig, ax = plt.subplots()\n",
    "    lbl = \"worker\" + str(i)\n",
    "    ax.plot(manager.worker_loss_histories[i], label=lbl)\n",
    "    ax.legend();\n",
    "\n",
    "#ax.legend();\n",
    "\n",
    "#TODO Get the plots correct"
   ]
  },
  {
   "cell_type": "code",
   "execution_count": null,
   "metadata": {},
   "outputs": [],
   "source": []
  },
  {
   "cell_type": "code",
   "execution_count": null,
   "metadata": {},
   "outputs": [],
   "source": []
  }
 ],
 "metadata": {
  "kernelspec": {
   "display_name": "Python 3",
   "language": "python",
   "name": "python3"
  },
  "language_info": {
   "codemirror_mode": {
    "name": "ipython",
    "version": 3
   },
   "file_extension": ".py",
   "mimetype": "text/x-python",
   "name": "python",
   "nbconvert_exporter": "python",
   "pygments_lexer": "ipython3",
   "version": "3.6.5"
  }
 },
 "nbformat": 4,
 "nbformat_minor": 2
}
