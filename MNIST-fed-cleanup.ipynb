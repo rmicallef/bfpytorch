{
 "cells": [
  {
   "cell_type": "markdown",
   "metadata": {},
   "source": [
    "# Federated Learning Test\n",
    "\n",
    "This notebook is a test of federated learning using the MNIST dataset. It distributes partial subsets of the MNIST data to each worker and tests the results of federation of the workers. It also skews the subsets to investigate the value of federation in cases where workers have substantially different samples."
   ]
  },
  {
   "cell_type": "code",
   "execution_count": 1,
   "metadata": {},
   "outputs": [],
   "source": [
    "# Put this in this file to have imported models reload automatically when you edit them.\n",
    "#!cat ~/.ipython/profile_default/startup/00-autoreload.ipy"
   ]
  },
  {
   "cell_type": "code",
   "execution_count": 2,
   "metadata": {},
   "outputs": [],
   "source": [
    "# Define the model\n",
    "\n",
    "import torch.nn as nn\n",
    "\n",
    "class MLPNet(nn.Module):\n",
    "    def __init__(self):\n",
    "        super(MLPNet, self).__init__()\n",
    "        self.fc1 = nn.Linear(28*28, 500)\n",
    "        self.fc2 = nn.Linear(500, 256)\n",
    "        self.fc3 = nn.Linear(256, 10)\n",
    "    def forward(self, x):\n",
    "        x = x.view(-1, 28*28)\n",
    "        x = nn.functional.relu(self.fc1(x))\n",
    "        x = nn.functional.relu(self.fc2(x))\n",
    "        x = self.fc3(x)\n",
    "        return x\n",
    "    \n",
    "    def name(self):\n",
    "        return \"MLP\""
   ]
  },
  {
   "cell_type": "code",
   "execution_count": 3,
   "metadata": {},
   "outputs": [],
   "source": [
    "# Load the data\n",
    "data_path = './MNIST-data/raw'\n",
    "\n",
    "# location of data and labels\n",
    "test_labels_file = data_path + '/' + 't10k-labels-idx1-ubyte'\n",
    "test_data_file = data_path + '/' + 't10k-images-idx3-ubyte'\n",
    "train_labels_file = data_path + '/' + 'train-labels-idx1-ubyte'\n",
    "train_data_file = data_path + '/' + 'train-images-idx3-ubyte'"
   ]
  },
  {
   "cell_type": "code",
   "execution_count": 4,
   "metadata": {},
   "outputs": [],
   "source": [
    "import torch\n",
    "import torchvision.datasets as dsets\n",
    "import torchvision.transforms as transforms"
   ]
  },
  {
   "cell_type": "code",
   "execution_count": 5,
   "metadata": {},
   "outputs": [],
   "source": [
    "# create standard datasets using all of the MNIST data\n",
    "\n",
    "trans = transforms.Compose([transforms.ToTensor(), transforms.Normalize((0.5,), (1.0,))])\n",
    "\n",
    "train_dset = dsets.MNIST(root=data_path, download=True, train=True, transform=trans)\n",
    "test_dset = dsets.MNIST(root=data_path, download=True, train=False, transform=trans)"
   ]
  },
  {
   "cell_type": "code",
   "execution_count": 6,
   "metadata": {},
   "outputs": [],
   "source": [
    "from torch.utils.data import WeightedRandomSampler"
   ]
  },
  {
   "cell_type": "code",
   "execution_count": 7,
   "metadata": {},
   "outputs": [],
   "source": [
    "def stacked_dset(dset, label_weights, N):\n",
    "    \"\"\"\n",
    "    dset: dataset\n",
    "    label_weights = {dog: 0.5, cat: 0.3, ...}\n",
    "    N: size of stacked dset\n",
    "    return: stacked WeightedRandomSampler\n",
    "    \"\"\"\n",
    "    weights = []\n",
    "    for data, label in dset:\n",
    "        weights.append(label_weights[label])\n",
    "    return WeightedRandomSampler(weights, N, replacement=False)"
   ]
  },
  {
   "cell_type": "code",
   "execution_count": 8,
   "metadata": {},
   "outputs": [],
   "source": [
    "def skewed_weights(num_labels, labels_to_preserve, skew_bias):\n",
    "    \"\"\"\n",
    "        num_labels: number of labels to return (use 10 for MNIST)\n",
    "        labels_to_preserve: list of labels to preserve wih no skew \n",
    "        skew_bias: a float, 0 < bias < 1, to which non-selected labels will be biased down\n",
    "        return: dictionary of each label and its bias\n",
    "    \"\"\"\n",
    "    weights = {}\n",
    "    for label in range(num_labels):\n",
    "        if label in labels_to_preserve:\n",
    "            weights[label] = 1\n",
    "        else:\n",
    "            weights[label] = skew_bias\n",
    "    \n",
    "    return weights"
   ]
  },
  {
   "cell_type": "code",
   "execution_count": 9,
   "metadata": {},
   "outputs": [],
   "source": [
    "from torch.utils.data import DataLoader"
   ]
  },
  {
   "cell_type": "code",
   "execution_count": 10,
   "metadata": {},
   "outputs": [],
   "source": [
    "# create standard dataloaders using all of the MNIST data\n",
    "\n",
    "batch_size = 16\n",
    "\n",
    "train_dloader = DataLoader(train_dset, batch_size=batch_size, shuffle=True)\n",
    "test_dloader = DataLoader(test_dset, batch_size=batch_size, shuffle=False)"
   ]
  },
  {
   "cell_type": "code",
   "execution_count": 11,
   "metadata": {},
   "outputs": [],
   "source": [
    "from tqdm import tqdm"
   ]
  },
  {
   "cell_type": "code",
   "execution_count": 12,
   "metadata": {},
   "outputs": [
    {
     "name": "stderr",
     "output_type": "stream",
     "text": [
      "100%|██████████| 10/10 [01:10<00:00,  7.01s/it]\n"
     ]
    }
   ],
   "source": [
    "loader_size = 4096\n",
    "\n",
    "stacked_data_loaders = []\n",
    "for label in tqdm(range(10)):\n",
    "    #print(label)\n",
    "    stacked_sampler = stacked_dset(train_dset, skewed_weights(10, [label], 0.4), loader_size)\n",
    "    stacked_data_loaders.append(DataLoader(train_dset, batch_size=batch_size, shuffle=False, sampler=stacked_sampler))"
   ]
  },
  {
   "cell_type": "code",
   "execution_count": 13,
   "metadata": {},
   "outputs": [],
   "source": [
    "import federated"
   ]
  },
  {
   "cell_type": "code",
   "execution_count": 15,
   "metadata": {},
   "outputs": [],
   "source": [
    "learning_rate = 1e-2\n",
    "num_epochs = 1\n",
    "num_rounds = 5\n",
    "\n",
    "#datasets = [train_dloader,\n",
    "#            train_dloader,\n",
    "#            train_dloader,            \n",
    "#            ]\n",
    "\n",
    "datasets = stacked_data_loaders\n",
    "\n",
    "manager = federated.FederatedManager(\n",
    "    datasets,\n",
    "    MLPNet,\n",
    "    nn.CrossEntropyLoss(),\n",
    "    learning_rate,\n",
    "    test_dset,\n",
    "    num_epochs\n",
    ")"
   ]
  },
  {
   "cell_type": "code",
   "execution_count": 16,
   "metadata": {},
   "outputs": [
    {
     "name": "stderr",
     "output_type": "stream",
     "text": [
      "\r",
      "  0%|          | 0/5 [00:00<?, ?it/s]"
     ]
    },
    {
     "name": "stdout",
     "output_type": "stream",
     "text": [
      "Training 5 round(s) with 10 worker(s) doing 1 epoch(s) each\n",
      "Beginning round 0\n",
      "    Worker: 5728 Epoch:  0\n",
      "        Worker: 5728 Batch: 000 Loss: 2.3168\n",
      "        Worker: 5728 Batch: 100 Loss: 2.3399\n",
      "        Worker: 5728 Batch: 200 Loss: 2.0070\n",
      "    Worker: 9464 Epoch:  0\n",
      "        Worker: 9464 Batch: 000 Loss: 2.3137\n",
      "        Worker: 9464 Batch: 100 Loss: 2.1722\n",
      "        Worker: 9464 Batch: 200 Loss: 2.2252\n",
      "    Worker: 696 Epoch:  0\n",
      "        Worker: 696 Batch: 000 Loss: 2.2556\n",
      "        Worker: 696 Batch: 100 Loss: 2.1233\n",
      "        Worker: 696 Batch: 200 Loss: 2.0624\n",
      "    Worker: 1248 Epoch:  0\n",
      "        Worker: 1248 Batch: 000 Loss: 2.3058\n",
      "        Worker: 1248 Batch: 100 Loss: 2.2545\n",
      "        Worker: 1248 Batch: 200 Loss: 2.2031\n",
      "    Worker: 8168 Epoch:  0\n",
      "        Worker: 8168 Batch: 000 Loss: 2.3214\n",
      "        Worker: 8168 Batch: 100 Loss: 2.3309\n",
      "        Worker: 8168 Batch: 200 Loss: 1.9071\n",
      "    Worker: 4352 Epoch:  0\n",
      "        Worker: 4352 Batch: 000 Loss: 2.3037\n",
      "        Worker: 4352 Batch: 100 Loss: 2.2232\n",
      "        Worker: 4352 Batch: 200 Loss: 2.0890\n",
      "    Worker: 3416 Epoch:  0\n",
      "        Worker: 3416 Batch: 000 Loss: 2.3102\n",
      "        Worker: 3416 Batch: 100 Loss: 2.0197\n",
      "        Worker: 3416 Batch: 200 Loss: 1.9421\n",
      "    Worker: 3288 Epoch:  0\n",
      "        Worker: 3288 Batch: 000 Loss: 2.2965\n",
      "        Worker: 3288 Batch: 100 Loss: 2.2310\n",
      "        Worker: 3288 Batch: 200 Loss: 2.1995\n",
      "    Worker: 7416 Epoch:  0\n",
      "        Worker: 7416 Batch: 000 Loss: 2.2883\n",
      "        Worker: 7416 Batch: 100 Loss: 2.1804\n",
      "        Worker: 7416 Batch: 200 Loss: 2.1411\n",
      "    Worker: 2392 Epoch:  0\n",
      "        Worker: 2392 Batch: 000 Loss: 2.3163\n",
      "        Worker: 2392 Batch: 100 Loss: 2.1355\n",
      "        Worker: 2392 Batch: 200 Loss: 2.0947\n"
     ]
    },
    {
     "name": "stderr",
     "output_type": "stream",
     "text": [
      "\r",
      " 20%|██        | 1/5 [01:13<04:52, 73.08s/it]"
     ]
    },
    {
     "name": "stdout",
     "output_type": "stream",
     "text": [
      "    Round: 000 Loss: 2.07211\n",
      "Beginning round 1\n",
      "    Worker: 5728 Epoch:  0\n",
      "        Worker: 5728 Batch: 000 Loss: 2.1003\n",
      "        Worker: 5728 Batch: 100 Loss: 1.8120\n",
      "        Worker: 5728 Batch: 200 Loss: 1.3427\n",
      "    Worker: 9464 Epoch:  0\n",
      "        Worker: 9464 Batch: 000 Loss: 1.9562\n",
      "        Worker: 9464 Batch: 100 Loss: 1.6795\n",
      "        Worker: 9464 Batch: 200 Loss: 1.4201\n",
      "    Worker: 696 Epoch:  0\n",
      "        Worker: 696 Batch: 000 Loss: 2.0993\n",
      "        Worker: 696 Batch: 100 Loss: 1.6168\n",
      "        Worker: 696 Batch: 200 Loss: 1.4686\n",
      "    Worker: 1248 Epoch:  0\n",
      "        Worker: 1248 Batch: 000 Loss: 2.1404\n",
      "        Worker: 1248 Batch: 100 Loss: 1.6904\n",
      "        Worker: 1248 Batch: 200 Loss: 1.3553\n",
      "    Worker: 8168 Epoch:  0\n",
      "        Worker: 8168 Batch: 000 Loss: 2.1528\n",
      "        Worker: 8168 Batch: 100 Loss: 1.9490\n",
      "        Worker: 8168 Batch: 200 Loss: 1.5623\n",
      "    Worker: 4352 Epoch:  0\n",
      "        Worker: 4352 Batch: 000 Loss: 2.1308\n",
      "        Worker: 4352 Batch: 100 Loss: 1.8605\n",
      "        Worker: 4352 Batch: 200 Loss: 1.6272\n",
      "    Worker: 3416 Epoch:  0\n",
      "        Worker: 3416 Batch: 000 Loss: 2.0229\n",
      "        Worker: 3416 Batch: 100 Loss: 2.0504\n",
      "        Worker: 3416 Batch: 200 Loss: 1.4575\n",
      "    Worker: 3288 Epoch:  0\n",
      "        Worker: 3288 Batch: 000 Loss: 2.1149\n",
      "        Worker: 3288 Batch: 100 Loss: 1.8837\n",
      "        Worker: 3288 Batch: 200 Loss: 1.5475\n",
      "    Worker: 7416 Epoch:  0\n",
      "        Worker: 7416 Batch: 000 Loss: 2.1563\n",
      "        Worker: 7416 Batch: 100 Loss: 1.9573\n",
      "        Worker: 7416 Batch: 200 Loss: 1.4467\n",
      "    Worker: 2392 Epoch:  0\n",
      "        Worker: 2392 Batch: 000 Loss: 2.1035\n",
      "        Worker: 2392 Batch: 100 Loss: 1.6216\n",
      "        Worker: 2392 Batch: 200 Loss: 1.5398\n"
     ]
    },
    {
     "name": "stderr",
     "output_type": "stream",
     "text": [
      "\r",
      " 40%|████      | 2/5 [02:26<03:39, 73.14s/it]"
     ]
    },
    {
     "name": "stdout",
     "output_type": "stream",
     "text": [
      "    Round: 001 Loss: 1.35844\n",
      "Beginning round 2\n",
      "    Worker: 5728 Epoch:  0\n",
      "        Worker: 5728 Batch: 000 Loss: 1.2096\n",
      "        Worker: 5728 Batch: 100 Loss: 0.7565\n",
      "        Worker: 5728 Batch: 200 Loss: 0.9817\n",
      "    Worker: 9464 Epoch:  0\n",
      "        Worker: 9464 Batch: 000 Loss: 1.2891\n",
      "        Worker: 9464 Batch: 100 Loss: 1.4476\n",
      "        Worker: 9464 Batch: 200 Loss: 1.1293\n",
      "    Worker: 696 Epoch:  0\n",
      "        Worker: 696 Batch: 000 Loss: 1.5291\n",
      "        Worker: 696 Batch: 100 Loss: 0.9428\n",
      "        Worker: 696 Batch: 200 Loss: 0.9519\n",
      "    Worker: 1248 Epoch:  0\n",
      "        Worker: 1248 Batch: 000 Loss: 1.2915\n",
      "        Worker: 1248 Batch: 100 Loss: 0.8334\n",
      "        Worker: 1248 Batch: 200 Loss: 1.0487\n",
      "    Worker: 8168 Epoch:  0\n",
      "        Worker: 8168 Batch: 000 Loss: 1.3553\n",
      "        Worker: 8168 Batch: 100 Loss: 1.1364\n",
      "        Worker: 8168 Batch: 200 Loss: 1.1181\n",
      "    Worker: 4352 Epoch:  0\n",
      "        Worker: 4352 Batch: 000 Loss: 1.5458\n",
      "        Worker: 4352 Batch: 100 Loss: 0.9885\n",
      "        Worker: 4352 Batch: 200 Loss: 0.8265\n",
      "    Worker: 3416 Epoch:  0\n",
      "        Worker: 3416 Batch: 000 Loss: 1.1772\n",
      "        Worker: 3416 Batch: 100 Loss: 1.2418\n",
      "        Worker: 3416 Batch: 200 Loss: 1.1238\n",
      "    Worker: 3288 Epoch:  0\n",
      "        Worker: 3288 Batch: 000 Loss: 1.4059\n",
      "        Worker: 3288 Batch: 100 Loss: 1.1411\n",
      "        Worker: 3288 Batch: 200 Loss: 0.7311\n",
      "    Worker: 7416 Epoch:  0\n",
      "        Worker: 7416 Batch: 000 Loss: 1.3625\n",
      "        Worker: 7416 Batch: 100 Loss: 1.2983\n",
      "        Worker: 7416 Batch: 200 Loss: 0.7750\n",
      "    Worker: 2392 Epoch:  0\n",
      "        Worker: 2392 Batch: 000 Loss: 1.3364\n",
      "        Worker: 2392 Batch: 100 Loss: 1.1694\n",
      "        Worker: 2392 Batch: 200 Loss: 1.0508\n"
     ]
    },
    {
     "name": "stderr",
     "output_type": "stream",
     "text": [
      "\r",
      " 60%|██████    | 3/5 [03:38<02:25, 72.75s/it]"
     ]
    },
    {
     "name": "stdout",
     "output_type": "stream",
     "text": [
      "    Round: 002 Loss: 0.80636\n",
      "Beginning round 3\n",
      "    Worker: 5728 Epoch:  0\n",
      "        Worker: 5728 Batch: 000 Loss: 0.6530\n",
      "        Worker: 5728 Batch: 100 Loss: 0.5508\n",
      "        Worker: 5728 Batch: 200 Loss: 0.9990\n",
      "    Worker: 9464 Epoch:  0\n",
      "        Worker: 9464 Batch: 000 Loss: 0.7308\n",
      "        Worker: 9464 Batch: 100 Loss: 0.7004\n",
      "        Worker: 9464 Batch: 200 Loss: 0.4215\n",
      "    Worker: 696 Epoch:  0\n",
      "        Worker: 696 Batch: 000 Loss: 0.9195\n",
      "        Worker: 696 Batch: 100 Loss: 0.6268\n",
      "        Worker: 696 Batch: 200 Loss: 0.6150\n",
      "    Worker: 1248 Epoch:  0\n",
      "        Worker: 1248 Batch: 000 Loss: 0.8090\n",
      "        Worker: 1248 Batch: 100 Loss: 0.7647\n",
      "        Worker: 1248 Batch: 200 Loss: 0.9584\n",
      "    Worker: 8168 Epoch:  0\n",
      "        Worker: 8168 Batch: 000 Loss: 0.6650\n",
      "        Worker: 8168 Batch: 100 Loss: 0.5893\n",
      "        Worker: 8168 Batch: 200 Loss: 0.5703\n",
      "    Worker: 4352 Epoch:  0\n",
      "        Worker: 4352 Batch: 000 Loss: 0.6759\n",
      "        Worker: 4352 Batch: 100 Loss: 0.5751\n",
      "        Worker: 4352 Batch: 200 Loss: 0.6345\n",
      "    Worker: 3416 Epoch:  0\n",
      "        Worker: 3416 Batch: 000 Loss: 0.7700\n",
      "        Worker: 3416 Batch: 100 Loss: 0.7109\n",
      "        Worker: 3416 Batch: 200 Loss: 0.4763\n",
      "    Worker: 3288 Epoch:  0\n",
      "        Worker: 3288 Batch: 000 Loss: 0.7462\n",
      "        Worker: 3288 Batch: 100 Loss: 0.6108\n",
      "        Worker: 3288 Batch: 200 Loss: 0.9150\n",
      "    Worker: 7416 Epoch:  0\n",
      "        Worker: 7416 Batch: 000 Loss: 0.7231\n",
      "        Worker: 7416 Batch: 100 Loss: 0.6574\n",
      "        Worker: 7416 Batch: 200 Loss: 0.6264\n",
      "    Worker: 2392 Epoch:  0\n",
      "        Worker: 2392 Batch: 000 Loss: 0.7432\n",
      "        Worker: 2392 Batch: 100 Loss: 0.8324\n",
      "        Worker: 2392 Batch: 200 Loss: 0.3941\n"
     ]
    },
    {
     "name": "stderr",
     "output_type": "stream",
     "text": [
      "\r",
      " 80%|████████  | 4/5 [04:51<01:12, 72.82s/it]"
     ]
    },
    {
     "name": "stdout",
     "output_type": "stream",
     "text": [
      "    Round: 003 Loss: 0.58877\n",
      "Beginning round 4\n",
      "    Worker: 5728 Epoch:  0\n",
      "        Worker: 5728 Batch: 000 Loss: 0.7297\n",
      "        Worker: 5728 Batch: 100 Loss: 0.8732\n",
      "        Worker: 5728 Batch: 200 Loss: 0.4458\n",
      "    Worker: 9464 Epoch:  0\n",
      "        Worker: 9464 Batch: 000 Loss: 0.4785\n",
      "        Worker: 9464 Batch: 100 Loss: 0.6261\n",
      "        Worker: 9464 Batch: 200 Loss: 0.6372\n",
      "    Worker: 696 Epoch:  0\n",
      "        Worker: 696 Batch: 000 Loss: 0.5558\n",
      "        Worker: 696 Batch: 100 Loss: 0.5543\n",
      "        Worker: 696 Batch: 200 Loss: 0.5816\n",
      "    Worker: 1248 Epoch:  0\n",
      "        Worker: 1248 Batch: 000 Loss: 0.8830\n",
      "        Worker: 1248 Batch: 100 Loss: 0.3498\n",
      "        Worker: 1248 Batch: 200 Loss: 0.6694\n",
      "    Worker: 8168 Epoch:  0\n",
      "        Worker: 8168 Batch: 000 Loss: 0.4078\n",
      "        Worker: 8168 Batch: 100 Loss: 0.4199\n",
      "        Worker: 8168 Batch: 200 Loss: 0.3853\n",
      "    Worker: 4352 Epoch:  0\n",
      "        Worker: 4352 Batch: 000 Loss: 0.9862\n",
      "        Worker: 4352 Batch: 100 Loss: 0.9504\n",
      "        Worker: 4352 Batch: 200 Loss: 0.6529\n",
      "    Worker: 3416 Epoch:  0\n",
      "        Worker: 3416 Batch: 000 Loss: 0.7446\n",
      "        Worker: 3416 Batch: 100 Loss: 0.5636\n",
      "        Worker: 3416 Batch: 200 Loss: 0.5836\n",
      "    Worker: 3288 Epoch:  0\n",
      "        Worker: 3288 Batch: 000 Loss: 0.3573\n",
      "        Worker: 3288 Batch: 100 Loss: 0.4350\n",
      "        Worker: 3288 Batch: 200 Loss: 0.7293\n",
      "    Worker: 7416 Epoch:  0\n",
      "        Worker: 7416 Batch: 000 Loss: 0.6534\n",
      "        Worker: 7416 Batch: 100 Loss: 0.5369\n",
      "        Worker: 7416 Batch: 200 Loss: 0.5231\n",
      "    Worker: 2392 Epoch:  0\n",
      "        Worker: 2392 Batch: 000 Loss: 0.6332\n",
      "        Worker: 2392 Batch: 100 Loss: 0.4943\n",
      "        Worker: 2392 Batch: 200 Loss: 0.5948\n"
     ]
    },
    {
     "name": "stderr",
     "output_type": "stream",
     "text": [
      "\r",
      "100%|██████████| 5/5 [06:12<00:00, 75.38s/it]"
     ]
    },
    {
     "name": "stdout",
     "output_type": "stream",
     "text": [
      "    Round: 004 Loss: 0.48996\n"
     ]
    },
    {
     "name": "stderr",
     "output_type": "stream",
     "text": [
      "\n"
     ]
    }
   ],
   "source": [
    "print(\"Training\", num_rounds, \"round(s) with\", manager.n_workers, \"worker(s) doing\", num_epochs, \"epoch(s) each\" )\n",
    "\n",
    "for i in tqdm(range(num_rounds)):\n",
    "    print(\"Beginning round\", i)\n",
    "    manager.round()\n",
    "    print(\"    Round: %03d\" % i, \"Loss: %.5f\" % manager.manager_loss_history[-1])"
   ]
  },
  {
   "cell_type": "code",
   "execution_count": 17,
   "metadata": {},
   "outputs": [],
   "source": [
    "%matplotlib inline\n",
    "import matplotlib.pyplot as plt"
   ]
  },
  {
   "cell_type": "code",
   "execution_count": 19,
   "metadata": {},
   "outputs": [
    {
     "name": "stdout",
     "output_type": "stream",
     "text": [
      "[2.0238099098205566, 2.0721051692962646, 1.399552583694458, 1.358435034751892, 0.8251518607139587, 0.8063560128211975, 0.6213133931159973, 0.5887690186500549, 0.5184746980667114, 0.48995640873908997]\n",
      "[2.0122385025024414, 2.0721051692962646, 1.3923344612121582, 1.358435034751892, 0.8445345759391785, 0.8063560128211975, 0.6285445094108582, 0.5887690186500549, 0.5130520462989807, 0.48995640873908997]\n",
      "[2.0811212062835693, 2.0721051692962646, 1.3754466772079468, 1.358435034751892, 0.8205777406692505, 0.8063560128211975, 0.6046343445777893, 0.5887690186500549, 0.5154334306716919, 0.48995640873908997]\n",
      "[2.1017725467681885, 2.0721051692962646, 1.3739187717437744, 1.358435034751892, 0.8347784876823425, 0.8063560128211975, 0.6044511795043945, 0.5887690186500549, 0.5257554054260254, 0.48995640873908997]\n",
      "[2.10681414604187, 2.0721051692962646, 1.3674421310424805, 1.358435034751892, 0.8215932846069336, 0.8063560128211975, 0.6197519302368164, 0.5887690186500549, 0.5085564851760864, 0.48995640873908997]\n",
      "[2.1273343563079834, 2.0721051692962646, 1.4358196258544922, 1.358435034751892, 0.8145972490310669, 0.8063560128211975, 0.5976032614707947, 0.5887690186500549, 0.5071049928665161, 0.48995640873908997]\n",
      "[2.075235366821289, 2.0721051692962646, 1.3712376356124878, 1.358435034751892, 0.8565446138381958, 0.8063560128211975, 0.6192469000816345, 0.5887690186500549, 0.5147395730018616, 0.48995640873908997]\n",
      "[2.0608673095703125, 2.0721051692962646, 1.3768912553787231, 1.358435034751892, 0.830874502658844, 0.8063560128211975, 0.6124971508979797, 0.5887690186500549, 0.53452068567276, 0.48995640873908997]\n",
      "[2.11539363861084, 2.0721051692962646, 1.4354419708251953, 1.358435034751892, 0.8377289772033691, 0.8063560128211975, 0.6008973717689514, 0.5887690186500549, 0.5097774863243103, 0.48995640873908997]\n",
      "[2.090413808822632, 2.0721051692962646, 1.4220614433288574, 1.358435034751892, 0.8238129615783691, 0.8063560128211975, 0.6145687699317932, 0.5887690186500549, 0.551776647567749, 0.48995640873908997]\n"
     ]
    },
    {
     "data": {
      "image/png": "[encoded data removed]",
      "text/plain": [
       "<Figure size 432x288 with 1 Axes>"
      ]
     },
     "metadata": {
      "needs_background": "light"
     },
     "output_type": "display_data"
    },
    {
     "data": {
      "image/png": "[encoded data removed]",
      "text/plain": [
       "<Figure size 432x288 with 1 Axes>"
      ]
     },
     "metadata": {
      "needs_background": "light"
     },
     "output_type": "display_data"
    }
   ],
   "source": [
    "fig, ax = plt.subplots()\n",
    "# loss of global model on test set gets recorded twice per round\n",
    "# [1::2] skips the record that takes place before that round's training has happened\n",
    "ax.plot(manager.manager_loss_history[1::2], label=\"Global Loss\")\n",
    "ax.set_xlabel(\"Round\");\n",
    "ax.legend();\n",
    "\n",
    "# loss of fig, ax = plt.subplots(5, 2)\n",
    "fig, ax = plt.subplots()\n",
    "ax.set_xlabel(\"Round\")\n",
    "for i in range(len(manager.worker_loss_histories)):\n",
    "    \n",
    "    print(manager.worker_loss_histories[i])\n",
    "    ax.plot(manager.worker_loss_histories[i][1::2], label=i)\n",
    "    lbl = \"Worker \" + str(i)\n",
    "\n",
    "ax.legend();\n",
    "\n",
    "## MLW: WHY DOES THE LAST WORKER SHOW UP FIRST IN THE LEGEND?"
   ]
  },
  {
   "cell_type": "code",
   "execution_count": null,
   "metadata": {},
   "outputs": [],
   "source": [
    "## TODO - need to get the stacked decks combined to train a common model with all of them. It's not a fair comparison to have the non-federated approach exposed to the entire MNIST set, while the cumulative federated workers get less.\n",
    "\n"
   ]
  },
  {
   "cell_type": "code",
   "execution_count": null,
   "metadata": {},
   "outputs": [],
   "source": []
  }
 ],
 "metadata": {
  "kernelspec": {
   "display_name": "Python 3",
   "language": "python",
   "name": "python3"
  },
  "language_info": {
   "codemirror_mode": {
    "name": "ipython",
    "version": 3
   },
   "file_extension": ".py",
   "mimetype": "text/x-python",
   "name": "python",
   "nbconvert_exporter": "python",
   "pygments_lexer": "ipython3",
   "version": "3.6.7"
  }
 },
 "nbformat": 4,
 "nbformat_minor": 2
}
