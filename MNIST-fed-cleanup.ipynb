{
 "cells": [
  {
   "cell_type": "markdown",
   "metadata": {},
   "source": [
    "# Federated Learning Test\n",
    "\n",
    "This notebook is a test of federated learning using the MNIST dataset. It distributes partial subsets of the MNIST data to each worker and tests the results of federation of the workers. It also skews the subsets to investigate the value of federation in cases where workers have substantially different samples."
   ]
  },
  {
   "cell_type": "code",
   "execution_count": 1,
   "metadata": {},
   "outputs": [
    {
     "name": "stdout",
     "output_type": "stream",
     "text": [
      "%load_ext autoreload\r\n",
      "%autoreload 2"
     ]
    }
   ],
   "source": [
    "# Put this in this file to have imported models reload automatically when you edit them.\n",
    "!cat ~/.ipython/profile_default/startup/00-autoreload.ipy"
   ]
  },
  {
   "cell_type": "code",
   "execution_count": 2,
   "metadata": {},
   "outputs": [],
   "source": [
    "data_path = './MNIST-data/raw'\n",
    "\n",
    "# location of data and labels\n",
    "test_labels_file = data_path + '/' + 't10k-labels-idx1-ubyte'\n",
    "test_data_file = data_path + '/' + 't10k-images-idx3-ubyte'\n",
    "train_labels_file = data_path + '/' + 'train-labels-idx1-ubyte'\n",
    "train_data_file = data_path + '/' + 'train-images-idx3-ubyte'"
   ]
  },
  {
   "cell_type": "code",
   "execution_count": 3,
   "metadata": {},
   "outputs": [],
   "source": [
    "import torch\n",
    "import torchvision.datasets as dsets\n",
    "import torchvision.transforms as transforms\n",
    "\n",
    "trans = transforms.Compose([transforms.ToTensor(), transforms.Normalize((0.5,), (1.0,))])\n",
    "\n",
    "# pytorch datasets that download MNIST set as needed; used only to download files\n",
    "train_dset = dsets.MNIST(root=data_path, download=False, train=True, transform=trans)\n",
    "test_dset = dsets.MNIST(root=data_path, download=False, train=False, transform=trans)"
   ]
  },
  {
   "cell_type": "code",
   "execution_count": 4,
   "metadata": {},
   "outputs": [],
   "source": [
    "# Tweaks to the data sets\n",
    "\n",
    "# Hack to turn a dataset into two lists\n",
    "Xtest, ytest = list(zip(*test_dset))\n",
    "\n",
    "# This turns a list of N A*B tensors into an N*A*B tensor\n",
    "Xtest = torch.stack(Xtest)\n",
    "\n",
    "# This turns a list into a tensor, and ensures they stay as integers (no conversion to floats!)\n",
    "ytest = torch.LongTensor(ytest)"
   ]
  },
  {
   "cell_type": "code",
   "execution_count": 5,
   "metadata": {},
   "outputs": [],
   "source": [
    "from torch.utils.data import DataLoader\n",
    "\n",
    "# create dataloaders\n",
    "batch_size = 64\n",
    "\n",
    "train_dloader = DataLoader(train_dset, batch_size=batch_size, shuffle=True)\n",
    "#test_dloader = DataLoader(test_dset, batch_size=batch_size, shuffle=False)"
   ]
  },
  {
   "cell_type": "code",
   "execution_count": 40,
   "metadata": {},
   "outputs": [
    {
     "name": "stdout",
     "output_type": "stream",
     "text": [
      "60000\n"
     ]
    }
   ],
   "source": [
    "# Testing ways to split up the data by value. May have to make custom datasets\n",
    "\n",
    "\n",
    "#print(train_dset)\n",
    "#print(type(train_dset.targets.where(torch.tensor([8]), torch.tensor([0]))))\n",
    "\n",
    "#lengths = [6000 for i in range(10)]\n",
    "#print(lengths)\n",
    "#splits = torch.utils.data.random_split(train_dset, 6000)\n",
    "\n",
    "#print(train_dset.__getitem__(0))\n",
    "#print(type(train_dset.__getitem__(0)))\n",
    "#print(train_dset.__getitem__(0)[1])\n",
    "\n",
    "\n",
    "# get a list of the label values from the training dataset\n",
    "label_values = []\n",
    "for i in range(len(train_dset)):\n",
    "    label_values.append(train_dset[i][1])\n",
    "\n",
    "#print(label_values)\n",
    "print(len(label_values))"
   ]
  },
  {
   "cell_type": "code",
   "execution_count": 7,
   "metadata": {},
   "outputs": [
    {
     "name": "stdout",
     "output_type": "stream",
     "text": [
      "Dataset MNIST\n",
      "    Number of datapoints: 60000\n",
      "    Split: train\n",
      "    Root Location: ./MNIST-data/raw\n",
      "    Transforms (if any): Compose(\n",
      "                             ToTensor()\n",
      "                             Normalize(mean=(0.5,), std=(1.0,))\n",
      "                         )\n",
      "    Target Transforms (if any): None\n",
      "[]\n"
     ]
    }
   ],
   "source": [
    "# Create subsets for the workers\n",
    "\n",
    "from torch.utils.data.dataset import Subset\n",
    "\n",
    "train_targets = [[],[],[],[],[],[],[],[],[],[]]\n",
    "\n",
    "\n",
    "\n",
    "\n",
    "train_subset_zeros = Subset(train_dset, train_targets[0])\n",
    "train_subset_ones = Subset(train_dset, train_targets[1])\n",
    "train_subset_twos = Subset(train_dset, train_targets[2])\n",
    "train_subset_threes = Subset(train_dset, train_targets[3])\n",
    "train_subset_fours = Subset(train_dset, train_targets[4])\n",
    "train_subset_fives = Subset(train_dset, train_targets[5])\n",
    "train_subset_sixes = Subset(train_dset, train_targets[6])\n",
    "train_subset_sevens = Subset(train_dset, train_targets[7])\n",
    "train_subset_eights = Subset(train_dset, train_targets[8])\n",
    "train_subset_nines = Subset(train_dset, train_targets[9])\n",
    "\n",
    "\n",
    "\"\"\"\n",
    "test_targets = [[],[],[],[],[],[],[],[],[],[]]\n",
    "\n",
    "test_subset_zeros = Subset(test_dset, test_targets[0])\n",
    "test_subset_ones = Subset(test_dset, test_targets[1])\n",
    "test_subset_twos = Subset(test_dset, test_targets[2])\n",
    "test_subset_threes = Subset(test_dset, test_targets[3])\n",
    "test_subset_fours = Subset(test_dset, test_targets[4])\n",
    "test_subset_fives = Subset(test_dset, test_targets[5])\n",
    "test_subset_sixes = Subset(test_dset, test_targets[6])\n",
    "test_subset_sevens = Subset(test_dset, test_targets[7])\n",
    "test_subset_eights = Subset(test_dset, test_targets[8])\n",
    "test_subset_nines = Subset(test_dset, test_targets[9])\n",
    "\"\"\"\n",
    "\n",
    "print(train_subset_eights.dataset)\n",
    "print(train_targets[8])"
   ]
  },
  {
   "cell_type": "code",
   "execution_count": 8,
   "metadata": {},
   "outputs": [],
   "source": [
    "#\n",
    "\n",
    "\n",
    "train_dloader = DataLoader(train_dset, batch_size=batch_size, shuffle=True)"
   ]
  },
  {
   "cell_type": "code",
   "execution_count": 9,
   "metadata": {},
   "outputs": [],
   "source": [
    "# Define the model\n",
    "\n",
    "import torch.nn as nn\n",
    "\n",
    "class MLPNet(nn.Module):\n",
    "    def __init__(self):\n",
    "        super(MLPNet, self).__init__()\n",
    "        self.fc1 = nn.Linear(28*28, 500)\n",
    "        self.fc2 = nn.Linear(500, 256)\n",
    "        self.fc3 = nn.Linear(256, 10)\n",
    "    def forward(self, x):\n",
    "        x = x.view(-1, 28*28)\n",
    "        x = nn.functional.relu(self.fc1(x))\n",
    "        x = nn.functional.relu(self.fc2(x))\n",
    "        x = self.fc3(x)\n",
    "        return x\n",
    "    \n",
    "    def name(self):\n",
    "        return \"MLP\""
   ]
  },
  {
   "cell_type": "markdown",
   "metadata": {},
   "source": [
    "model = MLPNet()\n",
    "\n",
    "learning_rate = 1e-1\n",
    "momentum = 0.5\n",
    "num_epochs = 5\n",
    "\n",
    "# no momentum for like-with-like test\n",
    "optimizer = torch.optim.SGD(model.parameters(), lr=learning_rate, momentum=momentum)\n",
    "\n",
    "#optimizer = torch.optim.SGD(model.parameters(), lr=learning_rate)\n",
    "criterion = nn.CrossEntropyLoss()\n",
    "\n",
    "train_loss_history = []\n",
    "test_loss_history = []\n",
    "\n",
    "for epoch in range(num_epochs):\n",
    "\n",
    "    for batch_idx, (x, target) in enumerate(train_dloader):\n",
    "        optimizer.zero_grad()\n",
    "        out = model(x)\n",
    "        loss = criterion(out, target)\n",
    "        train_loss_history.append(loss.item())\n",
    "        if batch_idx%100 == 0:\n",
    "            print(batch_idx, train_loss_history[-1])\n",
    "        loss.backward()\n",
    "        optimizer.step()\n",
    "        \n",
    "    # only do this once per epoch. Expensive.\n",
    "    # (Although it makes it difficult to show two loss curves on same plot, as you saw)\n",
    "    with torch.no_grad():\n",
    "        \n",
    "        test_loss_history.append(criterion(model(Xtest), ytest).item())\n",
    "        print(\"-->\", epoch, test_loss_history[-1])"
   ]
  },
  {
   "cell_type": "markdown",
   "metadata": {},
   "source": [
    "%matplotlib inline\n",
    "import matplotlib.pyplot as plt\n",
    "fig, ax = plt.subplots(1, 2)\n",
    "ax[0].plot(train_loss_history, label=\"train\")\n",
    "ax[0].set_xlabel(\"batches\")\n",
    "ax[1].plot(test_loss_history, label=\"test\")\n",
    "ax[1].set_xlabel(\"epochs\")\n",
    "ax[0].legend()\n",
    "ax[1].legend();"
   ]
  },
  {
   "cell_type": "markdown",
   "metadata": {},
   "source": [
    "## Testing Federation\n",
    "\n",
    "Up to this point, we've trained an MNIST model with pytorch with no fancy business. Now we add federation."
   ]
  },
  {
   "cell_type": "code",
   "execution_count": 10,
   "metadata": {},
   "outputs": [],
   "source": [
    "import federated\n",
    "\n",
    "learning_rate = 1e-2\n",
    "num_epochs = 1\n",
    "\n",
    "# momentum = 0.5 # TODO: do we need it? If so, how and where to pass it through?\n",
    "\n",
    "datasets = [train_dloader,\n",
    "            train_dloader,\n",
    "            \n",
    "           ]\n",
    "\n",
    "manager = federated.FederatedManager(\n",
    "    datasets,\n",
    "    MLPNet(),\n",
    "    nn.CrossEntropyLoss(),\n",
    "    learning_rate,\n",
    "    Xtest,\n",
    "    ytest,\n",
    "    num_epochs\n",
    ")"
   ]
  },
  {
   "cell_type": "code",
   "execution_count": 11,
   "metadata": {},
   "outputs": [
    {
     "name": "stderr",
     "output_type": "stream",
     "text": [
      "\r",
      "  0%|          | 0/1 [00:00<?, ?it/s]"
     ]
    },
    {
     "name": "stdout",
     "output_type": "stream",
     "text": [
      "Training 1 round(s) with 2 worker(s)\n",
      "Beginning round 0\n",
      "Worker: 98208 Batch: 00000 Loss: 2.31055\n",
      "Worker: 98208 Batch: 00100 Loss: 2.22383\n",
      "Worker: 98208 Batch: 00200 Loss: 2.15188\n",
      "Worker: 98208 Batch: 00300 Loss: 1.99532\n",
      "Worker: 98208 Batch: 00400 Loss: 1.53270\n",
      "Worker: 98208 Batch: 00500 Loss: 1.26825\n",
      "Worker: 98208 Batch: 00600 Loss: 1.01252\n",
      "Worker: 98208 Batch: 00700 Loss: 0.91249\n",
      "Worker: 98208 Batch: 00800 Loss: 0.74616\n",
      "Worker: 98208 Batch: 00900 Loss: 0.54817\n",
      "Worker: 98152 Batch: 00000 Loss: 0.55944\n",
      "Worker: 98152 Batch: 00100 Loss: 0.80053\n",
      "Worker: 98152 Batch: 00200 Loss: 0.58617\n",
      "Worker: 98152 Batch: 00300 Loss: 0.66774\n",
      "Worker: 98152 Batch: 00400 Loss: 0.58213\n",
      "Worker: 98152 Batch: 00500 Loss: 0.58634\n",
      "Worker: 98152 Batch: 00600 Loss: 0.37660\n",
      "Worker: 98152 Batch: 00700 Loss: 0.39704\n",
      "Worker: 98152 Batch: 00800 Loss: 0.21059\n",
      "Worker: 98152 Batch: 00900 Loss: 0.35807\n"
     ]
    },
    {
     "name": "stderr",
     "output_type": "stream",
     "text": [
      "\r",
      "100%|██████████| 1/1 [00:23<00:00, 23.97s/it]"
     ]
    },
    {
     "name": "stdout",
     "output_type": "stream",
     "text": [
      "    Round: 000 Loss: 0.39071\n"
     ]
    },
    {
     "name": "stderr",
     "output_type": "stream",
     "text": [
      "\n"
     ]
    }
   ],
   "source": [
    "from tqdm import tqdm\n",
    "\n",
    "print(\"Training\", num_epochs, \"round(s) with\", manager.n_workers, \"worker(s)\")\n",
    "\n",
    "for i in tqdm(range(num_epochs)):\n",
    "    print(\"Beginning round\", i)\n",
    "    manager.round()\n",
    "    print(\"    Round: %03d\" % i, \"Loss: %.5f\" % manager.manager_loss_history[-1])"
   ]
  },
  {
   "cell_type": "code",
   "execution_count": 12,
   "metadata": {},
   "outputs": [
    {
     "name": "stdout",
     "output_type": "stream",
     "text": [
      "2\n"
     ]
    },
    {
     "data": {
      "image/png": "[encoded data removed]",
      "text/plain": [
       "<Figure size 432x288 with 1 Axes>"
      ]
     },
     "metadata": {
      "needs_background": "light"
     },
     "output_type": "display_data"
    },
    {
     "data": {
      "image/png": "[encoded data removed]",
      "text/plain": [
       "<Figure size 432x288 with 2 Axes>"
      ]
     },
     "metadata": {
      "needs_background": "light"
     },
     "output_type": "display_data"
    },
    {
     "data": {
      "image/png": "[encoded data removed]",
      "text/plain": [
       "<Figure size 432x288 with 1 Axes>"
      ]
     },
     "metadata": {
      "needs_background": "light"
     },
     "output_type": "display_data"
    },
    {
     "data": {
      "image/png": "[encoded data removed]",
      "text/plain": [
       "<Figure size 432x288 with 1 Axes>"
      ]
     },
     "metadata": {
      "needs_background": "light"
     },
     "output_type": "display_data"
    }
   ],
   "source": [
    "%matplotlib inline\n",
    "import matplotlib.pyplot as plt\n",
    "\n",
    "fig, ax = plt.subplots()\n",
    "# loss of global model on test set gets recorded twice per round\n",
    "# [1::2] skips the record that takes place before that round's training has happened\n",
    "ax.plot(manager.manager_loss_history[1::2], label=\"global loss\")\n",
    "ax.set_xlabel(\"round\");\n",
    "\n",
    "\n",
    "fig, ax = plt.subplots(1, 2)\n",
    "ax[0].plot(manager.worker_loss_histories[0], label=\"worker0\")\n",
    "ax[0].set_xlabel(\"rounds\")\n",
    "ax[1].plot(manager.worker_loss_histories[1], label=\"worker1\")\n",
    "ax[1].set_xlabel(\"rounds\")\n",
    "ax[0].legend()\n",
    "ax[1].legend();\n",
    "\n",
    "#fig, ax = plt.subplots()\n",
    "\n",
    "print(len(manager.worker_loss_histories))\n",
    "\n",
    "for i in range(len(manager.worker_loss_histories)):\n",
    "    \n",
    "    fig, ax = plt.subplots()\n",
    "    lbl = \"worker\" + str(i)\n",
    "    ax.plot(manager.worker_loss_histories[i], label=lbl)\n",
    "    ax.legend();\n",
    "\n",
    "#ax.legend();\n",
    "\n",
    "#TODO Get the plots correct"
   ]
  },
  {
   "cell_type": "code",
   "execution_count": null,
   "metadata": {},
   "outputs": [],
   "source": []
  },
  {
   "cell_type": "code",
   "execution_count": null,
   "metadata": {},
   "outputs": [],
   "source": []
  }
 ],
 "metadata": {
  "kernelspec": {
   "display_name": "Python 3",
   "language": "python",
   "name": "python3"
  },
  "language_info": {
   "codemirror_mode": {
    "name": "ipython",
    "version": 3
   },
   "file_extension": ".py",
   "mimetype": "text/x-python",
   "name": "python",
   "nbconvert_exporter": "python",
   "pygments_lexer": "ipython3",
   "version": "3.6.7"
  }
 },
 "nbformat": 4,
 "nbformat_minor": 2
}
